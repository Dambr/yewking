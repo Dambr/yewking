{
 "cells": [
  {
   "cell_type": "code",
   "execution_count": 1,
   "id": "3c20c1a0-5158-4638-b08c-dfe6b4fa53e8",
   "metadata": {},
   "outputs": [],
   "source": [
    "import pandas as pd\n",
    "import numpy as np\n",
    "import json"
   ]
  },
  {
   "cell_type": "code",
   "execution_count": 2,
   "id": "58fc2e52-b1a8-4e40-9be6-911fb1568691",
   "metadata": {},
   "outputs": [],
   "source": [
    "from df_tokenizer import DfTokenizer\n",
    "from l_calculator import LCalculator\n",
    "from m_calculator import MCalculator\n",
    "from n_calculator import NCalculator\n",
    "from q_calculator import QCalculator\n",
    "from r_calculator import RCalculator\n",
    "from d_calculator import DCalculator\n",
    "from c_calculator import CCalculator"
   ]
  },
  {
   "cell_type": "code",
   "execution_count": 26,
   "id": "8c7b0be4-574b-4f4d-9826-94c6ef889e5b",
   "metadata": {},
   "outputs": [],
   "source": [
    "import seaborn as sns"
   ]
  },
  {
   "cell_type": "code",
   "execution_count": 3,
   "id": "83b310fe-1e97-4de2-9718-9ec81cbeb5c8",
   "metadata": {},
   "outputs": [],
   "source": [
    "files = pd.read_csv('files.csv', encoding='utf-8')"
   ]
  },
  {
   "cell_type": "code",
   "execution_count": 4,
   "id": "9b1ea687-bf65-41a0-b84c-e16df314fcfc",
   "metadata": {},
   "outputs": [],
   "source": [
    "files_tokenizer = DfTokenizer(files, 'file')"
   ]
  },
  {
   "cell_type": "code",
   "execution_count": 5,
   "id": "ca2a21b3-c925-4915-8dfe-d18c2f728b78",
   "metadata": {},
   "outputs": [],
   "source": [
    "requirements = pd.read_csv('requirements.csv', encoding='utf-8')"
   ]
  },
  {
   "cell_type": "code",
   "execution_count": 6,
   "id": "c12d1dc1-87f3-4232-bb84-bca1e19dc3b8",
   "metadata": {},
   "outputs": [],
   "source": [
    "requirements_tokenizer = DfTokenizer(requirements, 'id')"
   ]
  },
  {
   "cell_type": "code",
   "execution_count": 7,
   "id": "597b9211-50b3-4bad-8abd-40b193fcf448",
   "metadata": {},
   "outputs": [],
   "source": [
    "complectations_file = open('complectations.json', 'r', encoding='utf-8')\n",
    "complectations_data = complectations_file.read()\n",
    "complectations_file.close()"
   ]
  },
  {
   "cell_type": "code",
   "execution_count": 8,
   "id": "788c9402-9b31-4f3a-9b46-c4da9281e31a",
   "metadata": {},
   "outputs": [],
   "source": [
    "tracer_file = open('tracer.json', 'r', encoding='utf-8')\n",
    "tracer_data = tracer_file.read()\n",
    "tracer_file.close()"
   ]
  },
  {
   "cell_type": "code",
   "execution_count": 9,
   "id": "1c4f1873-62d7-4311-a44c-2ccb5cad1a1a",
   "metadata": {},
   "outputs": [],
   "source": [
    "dependencies_file = open('dependencies.json', 'r', encoding='utf-8')\n",
    "dependencies_data = dependencies_file.read()\n",
    "dependencies_file.close()"
   ]
  },
  {
   "cell_type": "code",
   "execution_count": 10,
   "id": "29895df2-f0cc-4233-911f-377d5837c7f8",
   "metadata": {},
   "outputs": [],
   "source": [
    "complectations = json.loads(complectations_data)\n",
    "tracer = json.loads(tracer_data)\n",
    "dependencies = json.loads(dependencies_data)"
   ]
  },
  {
   "cell_type": "code",
   "execution_count": 11,
   "id": "5199fd29-8a76-411a-b37a-ad0e95df7055",
   "metadata": {},
   "outputs": [],
   "source": [
    "# Получить константы l, m, n"
   ]
  },
  {
   "cell_type": "code",
   "execution_count": 12,
   "id": "f8d6bc14-95ac-4116-b207-089e347db481",
   "metadata": {},
   "outputs": [],
   "source": [
    "n_calculator = NCalculator(requirements)\n",
    "m_calculator = MCalculator(files)\n",
    "q_calculator = QCalculator(tracer, files_tokenizer, requirements_tokenizer, n_calculator, m_calculator)\n",
    "l_calculator = LCalculator(complectations)\n",
    "r_calculator = RCalculator(complectations, requirements_tokenizer, n_calculator)\n",
    "d_calculator = DCalculator(dependencies, files_tokenizer, m_calculator)\n",
    "c_calculator = CCalculator(n_calculator)"
   ]
  },
  {
   "cell_type": "code",
   "execution_count": 13,
   "id": "2cd450f9-00f5-40ad-90f0-4984d9993efe",
   "metadata": {},
   "outputs": [],
   "source": [
    "n = n_calculator.calculate()\n",
    "m = m_calculator.calculate()\n",
    "l = l_calculator.calculate()\n",
    "Q = q_calculator.calculate()\n",
    "R = r_calculator.calculate()\n",
    "D = d_calculator.calculate()\n",
    "C = c_calculator.calculate()"
   ]
  },
  {
   "cell_type": "code",
   "execution_count": 14,
   "id": "7885aeca",
   "metadata": {},
   "outputs": [
    {
     "data": {
      "text/plain": [
       "(161, 124)"
      ]
     },
     "execution_count": 14,
     "metadata": {},
     "output_type": "execute_result"
    }
   ],
   "source": [
    "Q.shape"
   ]
  },
  {
   "cell_type": "code",
   "execution_count": 15,
   "id": "1b149005",
   "metadata": {},
   "outputs": [
    {
     "data": {
      "text/plain": [
       "(10, 161)"
      ]
     },
     "execution_count": 15,
     "metadata": {},
     "output_type": "execute_result"
    }
   ],
   "source": [
    "R.shape"
   ]
  },
  {
   "cell_type": "code",
   "execution_count": 16,
   "id": "fb5c13c1",
   "metadata": {},
   "outputs": [
    {
     "data": {
      "text/plain": [
       "(124, 124)"
      ]
     },
     "execution_count": 16,
     "metadata": {},
     "output_type": "execute_result"
    }
   ],
   "source": [
    "D.shape"
   ]
  },
  {
   "cell_type": "code",
   "execution_count": 17,
   "id": "09834ae1",
   "metadata": {},
   "outputs": [
    {
     "data": {
      "text/plain": [
       "(161, 161)"
      ]
     },
     "execution_count": 17,
     "metadata": {},
     "output_type": "execute_result"
    }
   ],
   "source": [
    "C.shape"
   ]
  },
  {
   "cell_type": "code",
   "execution_count": 18,
   "id": "737c04ab-fda2-4692-a686-f554b1adaae8",
   "metadata": {},
   "outputs": [],
   "source": [
    "constants_dict = {\n",
    "    'n': n,\n",
    "    'm': m,\n",
    "    'l': l\n",
    "}\n",
    "constants_json = json.dumps(constants_dict)"
   ]
  },
  {
   "cell_type": "code",
   "execution_count": 19,
   "id": "866246f6-c0f7-416f-9aae-bd325e3852a5",
   "metadata": {},
   "outputs": [],
   "source": [
    "with open('out/constants.json', 'w', encoding='utf-8') as constaints_file:\n",
    "    pass\n",
    "    # constaints_file.write(constants_json)"
   ]
  },
  {
   "cell_type": "code",
   "execution_count": 20,
   "id": "60f3ff5e-821f-40e0-a43a-7fc7b50b904e",
   "metadata": {},
   "outputs": [],
   "source": [
    "Q_df = pd.DataFrame(Q)\n",
    "# Q_df.to_csv('out/Q.csv')"
   ]
  },
  {
   "cell_type": "code",
   "execution_count": 21,
   "id": "171497f4-4095-43f8-987a-325f5fd7a9f9",
   "metadata": {},
   "outputs": [],
   "source": [
    "R_df = pd.DataFrame(R)\n",
    "# R_df.to_csv('out/R.csv')"
   ]
  },
  {
   "cell_type": "code",
   "execution_count": 22,
   "id": "eefd03c5-5011-4a18-a743-fd3c03417c1b",
   "metadata": {},
   "outputs": [],
   "source": [
    "D_df = pd.DataFrame(D)\n",
    "# D_df.to_csv('out/D.csv')"
   ]
  },
  {
   "cell_type": "code",
   "execution_count": 23,
   "id": "8fde7c88-1460-4b3e-88a5-9c7db55ab63f",
   "metadata": {},
   "outputs": [],
   "source": [
    "C_df = pd.DataFrame(C)\n",
    "# C_df.to_csv('out/C.csv')"
   ]
  },
  {
   "cell_type": "code",
   "execution_count": 24,
   "id": "2199a56c-c548-4a10-9819-05a64179c859",
   "metadata": {},
   "outputs": [],
   "source": [
    "variables_calculator = lambda k, l, m, n: m * k + l * k + l * m * k + l * n + l * n * (n + 1) / 2"
   ]
  },
  {
   "cell_type": "code",
   "execution_count": 25,
   "id": "e29b8fc4-8fcb-4612-a34f-686f19cc00be",
   "metadata": {},
   "outputs": [],
   "source": [
    "constraints_calculator = lambda k, l, m, n: m + 2 * l * k + 3 * l * m * k + 2 * l * n + 3 * l * n * (n + 1) / 2"
   ]
  },
  {
   "cell_type": "code",
   "execution_count": 27,
   "id": "2c103ab1-2280-4100-99e1-6513e3d28ae5",
   "metadata": {},
   "outputs": [],
   "source": [
    "variables_count_values = []\n",
    "constraints_count_values = []\n",
    "for k in range(1, 51):\n",
    "    variables_count = variables_calculator(k, l, m, n)\n",
    "    variables_count_values.append(variables_count)\n",
    "    \n",
    "    constraints_count = constraints_calculator(k, l, m, n)\n",
    "    constraints_count_values.append(constraints_count)"
   ]
  },
  {
   "cell_type": "code",
   "execution_count": 28,
   "id": "1bbdd1e6-045b-4c12-863b-ed0419b480e5",
   "metadata": {},
   "outputs": [],
   "source": [
    "count_dictionary = {\n",
    "    'variables': variables_count_values,\n",
    "    'constraints': constraints_count_values\n",
    "}"
   ]
  },
  {
   "cell_type": "code",
   "execution_count": 29,
   "id": "3557e127-489f-4ba8-90ef-a8bdb2a2f262",
   "metadata": {},
   "outputs": [],
   "source": [
    "count_dataframe = pd.DataFrame(count_dictionary)"
   ]
  },
  {
   "cell_type": "code",
   "execution_count": 30,
   "id": "4c65bd6f-d8e1-4b4b-bc21-754de48fe36d",
   "metadata": {},
   "outputs": [
    {
     "data": {
      "text/plain": [
       "<Axes: >"
      ]
     },
     "execution_count": 30,
     "metadata": {},
     "output_type": "execute_result"
    },
    {
     "data": {
      "image/png": "[encoded data removed]",
      "text/plain": [
       "<Figure size 640x480 with 1 Axes>"
      ]
     },
     "metadata": {},
     "output_type": "display_data"
    }
   ],
   "source": [
    "sns.lineplot(data=count_dataframe)"
   ]
  },
  {
   "cell_type": "code",
   "execution_count": 32,
   "id": "e04a653c-ec49-4826-b980-8d4bbe932bb0",
   "metadata": {},
   "outputs": [],
   "source": [
    "count_dataframe.index = range(1, 51)"
   ]
  },
  {
   "cell_type": "code",
   "execution_count": null,
   "id": "409a2398-65d3-4e09-ba18-fb112f48fc86",
   "metadata": {},
   "outputs": [],
   "source": []
  }
 ],
 "metadata": {
  "kernelspec": {
   "display_name": "Python 3 (ipykernel)",
   "language": "python",
   "name": "python3"
  },
  "language_info": {
   "codemirror_mode": {
    "name": "ipython",
    "version": 3
   },
   "file_extension": ".py",
   "mimetype": "text/x-python",
   "name": "python",
   "nbconvert_exporter": "python",
   "pygments_lexer": "ipython3",
   "version": "3.12.1"
  }
 },
 "nbformat": 4,
 "nbformat_minor": 5
}
