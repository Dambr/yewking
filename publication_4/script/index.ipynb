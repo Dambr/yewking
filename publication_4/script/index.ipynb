{
 "cells": [
  {
   "cell_type": "code",
   "execution_count": 1,
   "id": "3c20c1a0-5158-4638-b08c-dfe6b4fa53e8",
   "metadata": {},
   "outputs": [],
   "source": [
    "import pandas as pd\n",
    "import numpy as np\n",
    "import json"
   ]
  },
  {
   "cell_type": "code",
   "execution_count": 2,
   "id": "58fc2e52-b1a8-4e40-9be6-911fb1568691",
   "metadata": {},
   "outputs": [],
   "source": [
    "from df_tokenizer import DfTokenizer\n",
    "from l_calculator import LCalculator\n",
    "from m_calculator import MCalculator\n",
    "from n_calculator import NCalculator\n",
    "from q_calculator import QCalculator\n",
    "from r_calculator import RCalculator\n",
    "from d_calculator import DCalculator\n",
    "from c_calculator import CCalculator"
   ]
  },
  {
   "cell_type": "code",
   "execution_count": 3,
   "id": "83b310fe-1e97-4de2-9718-9ec81cbeb5c8",
   "metadata": {},
   "outputs": [],
   "source": [
    "files = pd.read_csv('files.csv', encoding='utf-8')"
   ]
  },
  {
   "cell_type": "code",
   "execution_count": 4,
   "id": "9b1ea687-bf65-41a0-b84c-e16df314fcfc",
   "metadata": {},
   "outputs": [],
   "source": [
    "files_tokenizer = DfTokenizer(files, 'file')"
   ]
  },
  {
   "cell_type": "code",
   "execution_count": 5,
   "id": "ca2a21b3-c925-4915-8dfe-d18c2f728b78",
   "metadata": {},
   "outputs": [],
   "source": [
    "requirements = pd.read_csv('requirements.csv', encoding='utf-8')"
   ]
  },
  {
   "cell_type": "code",
   "execution_count": 6,
   "id": "c12d1dc1-87f3-4232-bb84-bca1e19dc3b8",
   "metadata": {},
   "outputs": [],
   "source": [
    "requirements_tokenizer = DfTokenizer(requirements, 'id')"
   ]
  },
  {
   "cell_type": "code",
   "execution_count": 7,
   "id": "597b9211-50b3-4bad-8abd-40b193fcf448",
   "metadata": {},
   "outputs": [],
   "source": [
    "complectations_file = open('complectations.json', 'r', encoding='utf-8')\n",
    "complectations_data = complectations_file.read()\n",
    "complectations_file.close()"
   ]
  },
  {
   "cell_type": "code",
   "execution_count": 8,
   "id": "788c9402-9b31-4f3a-9b46-c4da9281e31a",
   "metadata": {},
   "outputs": [],
   "source": [
    "tracer_file = open('tracer.json', 'r', encoding='utf-8')\n",
    "tracer_data = tracer_file.read()\n",
    "tracer_file.close()"
   ]
  },
  {
   "cell_type": "code",
   "execution_count": 9,
   "id": "1c4f1873-62d7-4311-a44c-2ccb5cad1a1a",
   "metadata": {},
   "outputs": [],
   "source": [
    "dependencies_file = open('dependencies.json', 'r', encoding='utf-8')\n",
    "dependencies_data = dependencies_file.read()\n",
    "dependencies_file.close()"
   ]
  },
  {
   "cell_type": "code",
   "execution_count": 10,
   "id": "29895df2-f0cc-4233-911f-377d5837c7f8",
   "metadata": {},
   "outputs": [],
   "source": [
    "complectations = json.loads(complectations_data)\n",
    "tracer = json.loads(tracer_data)\n",
    "dependencies = json.loads(dependencies_data)"
   ]
  },
  {
   "cell_type": "code",
   "execution_count": 11,
   "id": "5199fd29-8a76-411a-b37a-ad0e95df7055",
   "metadata": {},
   "outputs": [],
   "source": [
    "# Получить константы l, m, n"
   ]
  },
  {
   "cell_type": "code",
   "execution_count": 12,
   "id": "f8d6bc14-95ac-4116-b207-089e347db481",
   "metadata": {},
   "outputs": [],
   "source": [
    "n_calculator = NCalculator(requirements)\n",
    "m_calculator = MCalculator(files)\n",
    "q_calculator = QCalculator(tracer, files_tokenizer, requirements_tokenizer, n_calculator, m_calculator)\n",
    "l_calculator = LCalculator(complectations)\n",
    "r_calculator = RCalculator(complectations, requirements_tokenizer, n_calculator)\n",
    "d_calculator = DCalculator(dependencies, files_tokenizer, m_calculator)\n",
    "c_calculator = CCalculator(n_calculator)"
   ]
  },
  {
   "cell_type": "code",
   "execution_count": 13,
   "id": "2cd450f9-00f5-40ad-90f0-4984d9993efe",
   "metadata": {},
   "outputs": [],
   "source": [
    "n = n_calculator.calculate()\n",
    "m = m_calculator.calculate()\n",
    "l = l_calculator.calculate()\n",
    "Q = q_calculator.calculate()\n",
    "R = r_calculator.calculate()\n",
    "D = d_calculator.calculate()\n",
    "C = c_calculator.calculate()"
   ]
  },
  {
   "cell_type": "code",
   "execution_count": 23,
   "id": "737c04ab-fda2-4692-a686-f554b1adaae8",
   "metadata": {},
   "outputs": [],
   "source": [
    "constants_dict = {\n",
    "    'n': n,\n",
    "    'm': m,\n",
    "    'l': l\n",
    "}\n",
    "constants_json = json.dumps(constants_dict)"
   ]
  },
  {
   "cell_type": "code",
   "execution_count": 25,
   "id": "866246f6-c0f7-416f-9aae-bd325e3852a5",
   "metadata": {},
   "outputs": [],
   "source": [
    "with open('out/constants.json', 'w', encoding='utf-8') as constaints_file:\n",
    "    constaints_file.write(constants_json)"
   ]
  },
  {
   "cell_type": "code",
   "execution_count": 32,
   "id": "60f3ff5e-821f-40e0-a43a-7fc7b50b904e",
   "metadata": {},
   "outputs": [],
   "source": [
    "Q_df = pd.DataFrame(Q)\n",
    "Q_df.to_csv('out/Q.csv')"
   ]
  },
  {
   "cell_type": "code",
   "execution_count": 33,
   "id": "171497f4-4095-43f8-987a-325f5fd7a9f9",
   "metadata": {},
   "outputs": [],
   "source": [
    "R_df = pd.DataFrame(R)\n",
    "R_df.to_csv('out/R.csv')"
   ]
  },
  {
   "cell_type": "code",
   "execution_count": 34,
   "id": "eefd03c5-5011-4a18-a743-fd3c03417c1b",
   "metadata": {},
   "outputs": [],
   "source": [
    "D_df = pd.DataFrame(D)\n",
    "D_df.to_csv('out/D.csv')"
   ]
  },
  {
   "cell_type": "code",
   "execution_count": 35,
   "id": "8fde7c88-1460-4b3e-88a5-9c7db55ab63f",
   "metadata": {},
   "outputs": [],
   "source": [
    "C_df = pd.DataFrame(C)\n",
    "C_df.to_csv('out/C.csv')"
   ]
  },
  {
   "cell_type": "code",
   "execution_count": null,
   "id": "2199a56c-c548-4a10-9819-05a64179c859",
   "metadata": {},
   "outputs": [],
   "source": []
  }
 ],
 "metadata": {
  "kernelspec": {
   "display_name": "Python 3 (ipykernel)",
   "language": "python",
   "name": "python3"
  },
  "language_info": {
   "codemirror_mode": {
    "name": "ipython",
    "version": 3
   },
   "file_extension": ".py",
   "mimetype": "text/x-python",
   "name": "python",
   "nbconvert_exporter": "python",
   "pygments_lexer": "ipython3",
   "version": "3.12.1"
  }
 },
 "nbformat": 4,
 "nbformat_minor": 5
}
