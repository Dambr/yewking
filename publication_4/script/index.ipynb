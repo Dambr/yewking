{
 "cells": [
  {
   "cell_type": "code",
   "execution_count": 1,
   "id": "3c20c1a0-5158-4638-b08c-dfe6b4fa53e8",
   "metadata": {},
   "outputs": [],
   "source": [
    "import pandas as pd\n",
    "import numpy as np\n",
    "import json\n",
    "import math"
   ]
  },
  {
   "cell_type": "code",
   "execution_count": 2,
   "id": "58fc2e52-b1a8-4e40-9be6-911fb1568691",
   "metadata": {},
   "outputs": [],
   "source": [
    "from df_tokenizer import DfTokenizer\n",
    "from l_calculator import LCalculator\n",
    "from m_calculator import MCalculator\n",
    "from n_calculator import NCalculator\n",
    "from q_calculator import QCalculator"
   ]
  },
  {
   "cell_type": "code",
   "execution_count": 3,
   "id": "83b310fe-1e97-4de2-9718-9ec81cbeb5c8",
   "metadata": {},
   "outputs": [],
   "source": [
    "files = pd.read_csv('files.csv')"
   ]
  },
  {
   "cell_type": "code",
   "execution_count": 4,
   "id": "9b1ea687-bf65-41a0-b84c-e16df314fcfc",
   "metadata": {},
   "outputs": [],
   "source": [
    "files_tokenizer = DfTokenizer(files, 'file')"
   ]
  },
  {
   "cell_type": "code",
   "execution_count": 5,
   "id": "ca2a21b3-c925-4915-8dfe-d18c2f728b78",
   "metadata": {},
   "outputs": [],
   "source": [
    "requirements = pd.read_csv('requirements.csv')"
   ]
  },
  {
   "cell_type": "code",
   "execution_count": 6,
   "id": "c12d1dc1-87f3-4232-bb84-bca1e19dc3b8",
   "metadata": {},
   "outputs": [],
   "source": [
    "requirements_tokenizer = DfTokenizer(requirements, 'id')"
   ]
  },
  {
   "cell_type": "code",
   "execution_count": 7,
   "id": "597b9211-50b3-4bad-8abd-40b193fcf448",
   "metadata": {},
   "outputs": [],
   "source": [
    "complectations_file = open('complectations.json', 'r')\n",
    "complectations_data = complectations_file.read()\n",
    "complectations_file.close()"
   ]
  },
  {
   "cell_type": "code",
   "execution_count": 8,
   "id": "788c9402-9b31-4f3a-9b46-c4da9281e31a",
   "metadata": {},
   "outputs": [],
   "source": [
    "tracer_file = open('tracer.json', 'r')\n",
    "tracer_data = tracer_file.read()\n",
    "tracer_file.close()"
   ]
  },
  {
   "cell_type": "code",
   "execution_count": 9,
   "id": "29895df2-f0cc-4233-911f-377d5837c7f8",
   "metadata": {},
   "outputs": [],
   "source": [
    "complectations = json.loads(complectations_data)\n",
    "tracer = json.loads(tracer_data)"
   ]
  },
  {
   "cell_type": "code",
   "execution_count": 10,
   "id": "5199fd29-8a76-411a-b37a-ad0e95df7055",
   "metadata": {},
   "outputs": [],
   "source": [
    "# Получить константы l, m, n"
   ]
  },
  {
   "cell_type": "code",
   "execution_count": 11,
   "id": "f8d6bc14-95ac-4116-b207-089e347db481",
   "metadata": {},
   "outputs": [],
   "source": [
    "n_calculator = NCalculator(requirements)\n",
    "m_calculator = MCalculator(files)\n",
    "q_calculator = QCalculator(tracer, files_tokenizer, requirements_tokenizer, n_calculator, m_calculator)\n",
    "l_calculator = LCalculator(complectations)"
   ]
  },
  {
   "cell_type": "code",
   "execution_count": 12,
   "id": "2cd450f9-00f5-40ad-90f0-4984d9993efe",
   "metadata": {},
   "outputs": [],
   "source": [
    "n = n_calculator.calculate()\n",
    "m = m_calculator.calculate()\n",
    "Q = q_calculator.calculate()\n",
    "l = l_calculator.calculate()"
   ]
  },
  {
   "cell_type": "code",
   "execution_count": 13,
   "id": "ca63dffa-2590-4056-a8a9-a10ae7eb8a14",
   "metadata": {},
   "outputs": [
    {
     "data": {
      "text/plain": [
       "(10, 84, 161)"
      ]
     },
     "execution_count": 13,
     "metadata": {},
     "output_type": "execute_result"
    }
   ],
   "source": [
    "l, m, n"
   ]
  },
  {
   "cell_type": "code",
   "execution_count": null,
   "id": "1080a137-ed0b-4f13-826f-d8f5267eaf82",
   "metadata": {},
   "outputs": [],
   "source": []
  }
 ],
 "metadata": {
  "kernelspec": {
   "display_name": "Python 3 (ipykernel)",
   "language": "python",
   "name": "python3"
  },
  "language_info": {
   "codemirror_mode": {
    "name": "ipython",
    "version": 3
   },
   "file_extension": ".py",
   "mimetype": "text/x-python",
   "name": "python",
   "nbconvert_exporter": "python",
   "pygments_lexer": "ipython3",
   "version": "3.12.1"
  }
 },
 "nbformat": 4,
 "nbformat_minor": 5
}
