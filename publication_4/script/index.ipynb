{
 "cells": [
  {
   "cell_type": "code",
   "execution_count": 1,
   "id": "3c20c1a0-5158-4638-b08c-dfe6b4fa53e8",
   "metadata": {},
   "outputs": [],
   "source": [
    "import pandas as pd"
   ]
  },
  {
   "cell_type": "code",
   "execution_count": 2,
   "id": "83b310fe-1e97-4de2-9718-9ec81cbeb5c8",
   "metadata": {},
   "outputs": [],
   "source": [
    "files = pd.read_csv('files.csv')"
   ]
  },
  {
   "cell_type": "code",
   "execution_count": null,
   "id": "3dee863e-36ce-43c1-b4fa-3417fc04c747",
   "metadata": {},
   "outputs": [],
   "source": [
    "files['']"
   ]
  },
  {
   "cell_type": "code",
   "execution_count": 3,
   "id": "ca2a21b3-c925-4915-8dfe-d18c2f728b78",
   "metadata": {},
   "outputs": [],
   "source": [
    "requirements = pd.read_csv('requirements.csv')"
   ]
  },
  {
   "cell_type": "code",
   "execution_count": 14,
   "id": "e709d7c4-9fb9-4de1-82ef-dd47924195e1",
   "metadata": {},
   "outputs": [
    {
     "data": {
      "text/plain": [
       "array([0])"
      ]
     },
     "execution_count": 14,
     "metadata": {},
     "output_type": "execute_result"
    }
   ],
   "source": [
    "requirements[requirements['id'] == '1.1.1'].index.values"
   ]
  },
  {
   "cell_type": "code",
   "execution_count": 18,
   "id": "a3484543-25db-461d-aa3c-887da8ef43c5",
   "metadata": {},
   "outputs": [
    {
     "data": {
      "text/html": [
       "<div>\n",
       "<style scoped>\n",
       "    .dataframe tbody tr th:only-of-type {\n",
       "        vertical-align: middle;\n",
       "    }\n",
       "\n",
       "    .dataframe tbody tr th {\n",
       "        vertical-align: top;\n",
       "    }\n",
       "\n",
       "    .dataframe thead th {\n",
       "        text-align: right;\n",
       "    }\n",
       "</style>\n",
       "<table border=\"1\" class=\"dataframe\">\n",
       "  <thead>\n",
       "    <tr style=\"text-align: right;\">\n",
       "      <th></th>\n",
       "      <th>file</th>\n",
       "    </tr>\n",
       "  </thead>\n",
       "  <tbody>\n",
       "    <tr>\n",
       "      <th>0</th>\n",
       "      <td>src/components/panels/code-editor/AceEditor.vue</td>\n",
       "    </tr>\n",
       "    <tr>\n",
       "      <th>1</th>\n",
       "      <td>src/components/panels/code-editor/CodeEditorPa...</td>\n",
       "    </tr>\n",
       "    <tr>\n",
       "      <th>2</th>\n",
       "      <td>src/components/panels/gui-editor/PropertiesPan...</td>\n",
       "    </tr>\n",
       "    <tr>\n",
       "      <th>3</th>\n",
       "      <td>src/components/panels/gui-editor/PropertyData.vue</td>\n",
       "    </tr>\n",
       "    <tr>\n",
       "      <th>4</th>\n",
       "      <td>src/components/panels/gui-editor/PropertyMetad...</td>\n",
       "    </tr>\n",
       "    <tr>\n",
       "      <th>...</th>\n",
       "      <td>...</td>\n",
       "    </tr>\n",
       "    <tr>\n",
       "      <th>77</th>\n",
       "      <td>src/components/panels/test-panel/TestPanel.vue</td>\n",
       "    </tr>\n",
       "    <tr>\n",
       "      <th>78</th>\n",
       "      <td>src/components/panels/test-panel/TestComponent...</td>\n",
       "    </tr>\n",
       "    <tr>\n",
       "      <th>79</th>\n",
       "      <td>src/schema/mergeAllOfs.ts</td>\n",
       "    </tr>\n",
       "    <tr>\n",
       "      <th>80</th>\n",
       "      <td>src/schema/validationService.ts</td>\n",
       "    </tr>\n",
       "    <tr>\n",
       "      <th>81</th>\n",
       "      <td>src/schema/effectiveSchemaCalculator.ts</td>\n",
       "    </tr>\n",
       "  </tbody>\n",
       "</table>\n",
       "<p>82 rows × 1 columns</p>\n",
       "</div>"
      ],
      "text/plain": [
       "                                                 file\n",
       "0     src/components/panels/code-editor/AceEditor.vue\n",
       "1   src/components/panels/code-editor/CodeEditorPa...\n",
       "2   src/components/panels/gui-editor/PropertiesPan...\n",
       "3   src/components/panels/gui-editor/PropertyData.vue\n",
       "4   src/components/panels/gui-editor/PropertyMetad...\n",
       "..                                                ...\n",
       "77     src/components/panels/test-panel/TestPanel.vue\n",
       "78  src/components/panels/test-panel/TestComponent...\n",
       "79                          src/schema/mergeAllOfs.ts\n",
       "80                    src/schema/validationService.ts\n",
       "81           src/schema/effectiveSchemaCalculator.ts \n",
       "\n",
       "[82 rows x 1 columns]"
      ]
     },
     "execution_count": 18,
     "metadata": {},
     "output_type": "execute_result"
    }
   ],
   "source": [
    "files"
   ]
  },
  {
   "cell_type": "code",
   "execution_count": null,
   "id": "267d3f49-e7d7-45a2-bbbc-8d11f9180b9f",
   "metadata": {},
   "outputs": [],
   "source": []
  }
 ],
 "metadata": {
  "kernelspec": {
   "display_name": "Python 3 (ipykernel)",
   "language": "python",
   "name": "python3"
  },
  "language_info": {
   "codemirror_mode": {
    "name": "ipython",
    "version": 3
   },
   "file_extension": ".py",
   "mimetype": "text/x-python",
   "name": "python",
   "nbconvert_exporter": "python",
   "pygments_lexer": "ipython3",
   "version": "3.12.1"
  }
 },
 "nbformat": 4,
 "nbformat_minor": 5
}
