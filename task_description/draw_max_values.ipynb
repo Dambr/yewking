{
 "cells": [
  {
   "cell_type": "code",
   "execution_count": 1,
   "id": "e9260c48-2c3f-4001-a039-168c2a2c7d6d",
   "metadata": {},
   "outputs": [],
   "source": [
    "import seaborn as sns\n",
    "import matplotlib.pyplot as plt\n",
    "import pandas as pd\n",
    "import numpy as np"
   ]
  },
  {
   "cell_type": "code",
   "execution_count": 2,
   "id": "1f1714a9-f3fa-440a-9645-7b868d4873a7",
   "metadata": {},
   "outputs": [],
   "source": [
    "import warnings\n",
    "warnings.filterwarnings(\"ignore\")"
   ]
  },
  {
   "cell_type": "code",
   "execution_count": 3,
   "id": "7fb15dd5-ad2e-49b3-8e92-3aa948ade251",
   "metadata": {},
   "outputs": [],
   "source": [
    "import json"
   ]
  },
  {
   "cell_type": "code",
   "execution_count": 4,
   "id": "c430e549-e160-4f63-b8fd-ba594e48ecb6",
   "metadata": {},
   "outputs": [],
   "source": [
    "from var_table import VarTable"
   ]
  },
  {
   "cell_type": "code",
   "execution_count": 5,
   "id": "01f53d62-8daf-4722-826a-5d84f46d663a",
   "metadata": {},
   "outputs": [],
   "source": [
    "var_table = VarTable()"
   ]
  },
  {
   "cell_type": "code",
   "execution_count": 6,
   "id": "dea9c99a-148b-42f8-8fa1-f2a7103f4f49",
   "metadata": {},
   "outputs": [],
   "source": [
    "group_names = ['G0', 'G1', 'G2', 'G3', 'G4']"
   ]
  },
  {
   "cell_type": "code",
   "execution_count": 7,
   "id": "12c59692-9b9f-4f1e-8c9d-d6ef5ae4a735",
   "metadata": {},
   "outputs": [],
   "source": [
    "experiments_count = 5"
   ]
  },
  {
   "cell_type": "code",
   "execution_count": null,
   "id": "e773d1b3-657c-4ad0-b230-b5806dde56fc",
   "metadata": {},
   "outputs": [],
   "source": []
  }
 ],
 "metadata": {
  "kernelspec": {
   "display_name": "Python 3 (ipykernel)",
   "language": "python",
   "name": "python3"
  },
  "language_info": {
   "codemirror_mode": {
    "name": "ipython",
    "version": 3
   },
   "file_extension": ".py",
   "mimetype": "text/x-python",
   "name": "python",
   "nbconvert_exporter": "python",
   "pygments_lexer": "ipython3",
   "version": "3.12.1"
  }
 },
 "nbformat": 4,
 "nbformat_minor": 5
}
