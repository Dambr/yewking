{
 "cells": [
  {
   "cell_type": "code",
   "execution_count": 1,
   "id": "5c7ed2f9-c4be-49ff-9dae-b228683d7573",
   "metadata": {},
   "outputs": [],
   "source": [
    "import pandas as pd\n",
    "import numpy as np"
   ]
  },
  {
   "cell_type": "code",
   "execution_count": 2,
   "id": "5279bbda-58b9-4ee0-a35d-73e26bcf3538",
   "metadata": {},
   "outputs": [],
   "source": [
    "import json"
   ]
  },
  {
   "cell_type": "code",
   "execution_count": 3,
   "id": "e4efdee8",
   "metadata": {},
   "outputs": [],
   "source": [
    "import warnings\n",
    "warnings.filterwarnings(\"ignore\")"
   ]
  },
  {
   "cell_type": "code",
   "execution_count": 4,
   "id": "27ba6c5d-109b-4907-8194-15448f78de44",
   "metadata": {},
   "outputs": [],
   "source": [
    "from ipywidgets import IntProgress\n",
    "from IPython.display import display"
   ]
  },
  {
   "cell_type": "code",
   "execution_count": 5,
   "id": "926d1734-7f7f-4e5d-8734-f01b87a35da5",
   "metadata": {},
   "outputs": [],
   "source": [
    "from var_table import VarTable"
   ]
  },
  {
   "cell_type": "code",
   "execution_count": 6,
   "id": "3ddf99af-dfec-4637-82e7-9c50a4459ea4",
   "metadata": {},
   "outputs": [],
   "source": [
    "from cost_calculator_factory import CostCalculatorFactory\n",
    "from multibinary_converter import MultiBinaryConverter\n",
    "from multidiscrete_converter import MultiDiscreteConverter\n",
    "from fitness_calculator import FitnessCalculator"
   ]
  },
  {
   "cell_type": "code",
   "execution_count": 7,
   "id": "94d17be8-ebd0-4a13-ae54-00d728a82508",
   "metadata": {},
   "outputs": [],
   "source": [
    "from genetic_multibinary_space_config import GeneticMultiBinarySpaceConfig\n",
    "from genetic_multidiscrete_space_config import GeneticMultiDiscreteSpaceConfig\n",
    "from genetic_config import GeneticConfig\n",
    "from genetic_solver import GeneticSolver"
   ]
  },
  {
   "cell_type": "code",
   "execution_count": 8,
   "id": "49d4e6ba",
   "metadata": {},
   "outputs": [],
   "source": [
    "from stable_baselines3 import PPO\n",
    "from stable_baselines3 import A2C\n",
    "from stable_baselines3.common.env_checker import check_env"
   ]
  },
  {
   "cell_type": "code",
   "execution_count": 9,
   "id": "5179b777",
   "metadata": {},
   "outputs": [],
   "source": [
    "from rl_multibinary_config import RlMultiBinaryConfig\n",
    "from rl_multidiscrete_config import RlMultiDiscreteConfig\n",
    "from rl_graphic import RlGraphic\n",
    "from rl_env import RlEnv\n",
    "from rl_solver import RlSolver"
   ]
  },
  {
   "cell_type": "code",
   "execution_count": 10,
   "id": "5072816b-85c3-4afd-89bd-b96ff7b9fd80",
   "metadata": {},
   "outputs": [],
   "source": [
    "from model_builder import ModelBuilder\n",
    "from solve_action import SolveAction"
   ]
  },
  {
   "cell_type": "code",
   "execution_count": 11,
   "id": "25078569-d503-4929-a8a4-3f2b956821ca",
   "metadata": {},
   "outputs": [],
   "source": [
    "from cost_calculator_factory import CostCalculatorFactory"
   ]
  },
  {
   "cell_type": "code",
   "execution_count": 12,
   "id": "8531db30-465f-465c-8727-3265f667afc9",
   "metadata": {},
   "outputs": [],
   "source": [
    "M = 10 ** 10\n",
    "dtype = np.int64\n",
    "policy = 'MlpPolicy'"
   ]
  },
  {
   "cell_type": "code",
   "execution_count": 13,
   "id": "e33516ff-7a45-476a-b1d6-c0b3ddab4db9",
   "metadata": {},
   "outputs": [],
   "source": [
    "var_table = VarTable()"
   ]
  },
  {
   "cell_type": "code",
   "execution_count": 14,
   "id": "11983be2",
   "metadata": {},
   "outputs": [],
   "source": [
    "algorithms = {\n",
    "    'A2C': A2C,\n",
    "    'PPO': PPO\n",
    "}"
   ]
  },
  {
   "cell_type": "code",
   "execution_count": 15,
   "id": "4ebc40c1-a36b-4d61-8945-19f70206cfb6",
   "metadata": {},
   "outputs": [],
   "source": [
    "class ExperimentForGroup:\n",
    "    def __init__(self, group_name, experiments_count):\n",
    "        self.group_name = group_name\n",
    "        self.experiments_count = experiments_count\n",
    "\n",
    "    def with_solver(self, k, solver_name):\n",
    "        description='{}:{}'.format(self.group_name, solver_name)\n",
    "        progress = IntProgress(min=0, max=self.experiments_count, value=0, description=description, bar_style='success')\n",
    "        display(progress)\n",
    "        for experiment_number in range(1, self.experiments_count + 1):\n",
    "            T, D, C, E = self.read_matrixes(experiment_number)\n",
    "            cost_calculator_factory = CostCalculatorFactory(T, D, C, E)\n",
    "            m = np.shape(T)[1]\n",
    "\n",
    "            model_builder = ModelBuilder(M, k, T, D, C, E)\n",
    "            model = model_builder.build()\n",
    "            solver = SolveAction(model, solver_name)\n",
    "            solve_result = solver.solve()\n",
    "            instance = solve_result.instance\n",
    "            duration = solve_result.duration\n",
    "            A = instance.A\n",
    "            mtx_with_values = solve_result.to_mtx_with_values(A)\n",
    "            cost_calculator = cost_calculator_factory.get_cost_calculator(mtx_with_values)\n",
    "            cost = cost_calculator.calculate()\n",
    "            fitness = 1 / cost\n",
    "\n",
    "            config = {\n",
    "                'k': k\n",
    "            }\n",
    "            result = self.solution_result_to_json(fitness, duration)\n",
    "            \n",
    "            self.write_config(experiment_number, solver_name, config, result)\n",
    "            \n",
    "            progress.value += 1\n",
    "\n",
    "    def with_binary_genetic_solver(self, k, genetic_config):\n",
    "        solver_name = 'binary_genetic'\n",
    "        description='{}:{}'.format(self.group_name, solver_name)\n",
    "        progress = IntProgress(min=0, max=self.experiments_count, value=0, description=description, bar_style='success')\n",
    "        display(progress)\n",
    "        for experiment_number in range(1, self.experiments_count + 1):\n",
    "            T, D, C, E = self.read_matrixes(experiment_number)\n",
    "            cost_calculator_factory = CostCalculatorFactory(T, D, C, E)\n",
    "            m = np.shape(T)[1]\n",
    "\n",
    "            converter = MultiBinaryConverter(m, k)\n",
    "            fitness_calculator = FitnessCalculator(cost_calculator_factory, converter)\n",
    "            space_config = GeneticMultiBinarySpaceConfig(m, k)\n",
    "            \n",
    "            stub_progress = IntProgress(min=0, max=genetic_config.num_generations, value=0, description=self.group_name, bar_style='success')\n",
    "            solver = GeneticSolver(genetic_config, space_config, fitness_calculator, stub_progress)\n",
    "            solution, fitness, solution_idx, duration = solver.solve()\n",
    "            fitness = float(fitness)\n",
    "            \n",
    "            config = {\n",
    "                'k': k,\n",
    "            }\n",
    "            genetic_config_as_dict = genetic_config.to_dict()\n",
    "            for key in genetic_config_as_dict:\n",
    "                value = genetic_config_as_dict[key]\n",
    "                config[key] = value\n",
    "            result = self.solution_result_to_json(fitness, duration)\n",
    "            \n",
    "            self.write_config(experiment_number, solver_name, config, result)\n",
    "            \n",
    "            progress.value += 1\n",
    "\n",
    "    def with_discrete_genetic_solver(self, k, genetic_config):\n",
    "        solver_name = 'discrete_genetic'\n",
    "        description='{}:{}'.format(self.group_name, solver_name)\n",
    "        progress = IntProgress(min=0, max=self.experiments_count, value=0, description=description, bar_style='success')\n",
    "        display(progress)\n",
    "        for experiment_number in range(1, self.experiments_count + 1):\n",
    "            T, D, C, E = self.read_matrixes(experiment_number)\n",
    "            cost_calculator_factory = CostCalculatorFactory(T, D, C, E)\n",
    "            m = np.shape(T)[1]\n",
    "\n",
    "            converter = MultiDiscreteConverter(m, k)\n",
    "            fitness_calculator = FitnessCalculator(cost_calculator_factory, converter)\n",
    "            space_config = GeneticMultiDiscreteSpaceConfig(m, k)\n",
    "            \n",
    "            stub_progress = IntProgress(min=0, max=genetic_config.num_generations, value=0, description=self.group_name, bar_style='success')\n",
    "            solver = GeneticSolver(genetic_config, space_config, fitness_calculator, stub_progress)\n",
    "            solution, fitness, solution_idx, duration = solver.solve()\n",
    "            fitness = float(fitness)\n",
    "            \n",
    "            config = {\n",
    "                'k': k,\n",
    "            }\n",
    "            genetic_config_as_dict = genetic_config.to_dict()\n",
    "            for key in genetic_config_as_dict:\n",
    "                value = genetic_config_as_dict[key]\n",
    "                config[key] = value\n",
    "            result = self.solution_result_to_json(fitness, duration)\n",
    "            \n",
    "            self.write_config(experiment_number, solver_name, config, result)\n",
    "            \n",
    "            progress.value += 1\n",
    "\n",
    "    def with_binary_rl_solver(self, k, total_timesteps, algorithm_name):\n",
    "        solver_name = 'binary_rl_{}'.format(algorithm_name)\n",
    "        description='{}:{}'.format(self.group_name, solver_name)\n",
    "        progress = IntProgress(min=0, max=self.experiments_count, value=0, description=description, bar_style='success')\n",
    "        display(progress)\n",
    "        for experiment_number in range(1, self.experiments_count + 1):\n",
    "            T, D, C, E = self.read_matrixes(experiment_number)\n",
    "            cost_calculator_factory = CostCalculatorFactory(T, D, C, E)\n",
    "            m = np.shape(T)[1]\n",
    "\n",
    "            config = RlMultiBinaryConfig(m, k, dtype)\n",
    "            converter = MultiBinaryConverter(m, k)\n",
    "            fitness_calcultor = FitnessCalculator(cost_calculator_factory, converter)\n",
    "            dump_progress = IntProgress(min=0, max=total_timesteps, value=0, description='multibinary', bar_style='success')\n",
    "            graphic = RlGraphic('multibinary')\n",
    "            env = RlEnv(config, fitness_calcultor, dump_progress, graphic)\n",
    "            check_env(env)\n",
    "            algorithm = algorithms[algorithm_name]\n",
    "            model = algorithm(policy, env)\n",
    "            solver = RlSolver(model, total_timesteps)\n",
    "\n",
    "            fitness, solution, duration = solver.solve()\n",
    "            fitness = float(fitness)\n",
    "\n",
    "            config = {\n",
    "                'k': k,\n",
    "                'total_timesteps': total_timesteps\n",
    "            }\n",
    "            result = self.solution_result_to_json(fitness, duration)\n",
    "\n",
    "            self.write_config(experiment_number, solver_name, config, result)\n",
    "\n",
    "            progress.value += 1\n",
    "        \n",
    "    def with_discrete_rl_solver(self, k, total_timesteps, algorithm_name):\n",
    "        solver_name = 'discrete_rl_{}'.format(algorithm_name)\n",
    "        description='{}:{}'.format(self.group_name, solver_name)\n",
    "        progress = IntProgress(min=0, max=self.experiments_count, value=0, description=description, bar_style='success')\n",
    "        display(progress)\n",
    "        for experiment_number in range(1, self.experiments_count + 1):\n",
    "            T, D, C, E = self.read_matrixes(experiment_number)\n",
    "            cost_calculator_factory = CostCalculatorFactory(T, D, C, E)\n",
    "            m = np.shape(T)[1]\n",
    "\n",
    "            config = RlMultiDiscreteConfig(m, k, dtype)\n",
    "            converter = MultiDiscreteConverter(m, k)\n",
    "            fitness_calcultor = FitnessCalculator(cost_calculator_factory, converter)\n",
    "            dump_progress = IntProgress(min=0, max=total_timesteps, value=0, description='multibinary', bar_style='success')\n",
    "            graphic = RlGraphic('multibinary')\n",
    "            env = RlEnv(config, fitness_calcultor, dump_progress, graphic)\n",
    "            check_env(env)\n",
    "            algorithm = algorithms[algorithm_name]\n",
    "            model = algorithm(policy, env)\n",
    "            solver = RlSolver(model, total_timesteps)\n",
    "\n",
    "            fitness, solution, duration = solver.solve()\n",
    "            fitness = float(fitness)\n",
    "\n",
    "            config = {\n",
    "                'k': k,\n",
    "                'total_timesteps': total_timesteps\n",
    "            }\n",
    "            result = self.solution_result_to_json(fitness, duration)\n",
    "\n",
    "            self.write_config(experiment_number, solver_name, config, result)\n",
    "\n",
    "            progress.value += 1\n",
    "        \n",
    "    def solution_result_to_json(self, fitness, duration):\n",
    "        result = {\n",
    "            'fitness': fitness,\n",
    "            'duration': duration\n",
    "        }\n",
    "        return result\n",
    "    \n",
    "    def write_config(self, experiment_number, solver_name, config, result):\n",
    "        serialized = {\n",
    "            'config': config,\n",
    "            'result': result\n",
    "        }\n",
    "        nested_directory = var_table.get_nested_directory(self.group_name, experiment_number)\n",
    "        file_path = '{}/solutions.json'.format(nested_directory)\n",
    "        file = open(file_path, 'r')\n",
    "        content = file.read()\n",
    "        json_content = json.loads(content)\n",
    "        file.close()\n",
    "\n",
    "        index_of_solver_name_in_json_array = self.find_index_of_solver_name_in_json_array(json_content, solver_name)\n",
    "        if index_of_solver_name_in_json_array != -1:\n",
    "            solver_solutions = json_content[index_of_solver_name_in_json_array]['solutions']\n",
    "            index_of_solution_in_json_array = self.find_index_of_solution_in_json_array(solver_solutions, config)\n",
    "            if index_of_solution_in_json_array != -1:\n",
    "                existing_solution = solver_solutions[index_of_solution_in_json_array]\n",
    "                existing_solution['result'] = result\n",
    "            else:\n",
    "                solver_solutions.append(serialized)\n",
    "        else:\n",
    "            solutions = [serialized]\n",
    "            solver_solution = {\n",
    "                'name': solver_name,\n",
    "                'solutions': solutions\n",
    "            }\n",
    "            json_content.append(solver_solution)\n",
    "        json_to_write = json.dumps(json_content, indent=2)\n",
    "        file = open(file_path, 'w')\n",
    "        file.write(json_to_write)\n",
    "        file.close()\n",
    "\n",
    "    def find_index_of_solver_name_in_json_array(self, json_content, solver_name):\n",
    "        result = -1\n",
    "        length = len(json_content)\n",
    "        for i in range(length):\n",
    "            json_object = json_content[i]\n",
    "            name = json_object['name']\n",
    "            if name == solver_name:\n",
    "                result = i\n",
    "        return result\n",
    "\n",
    "    def find_index_of_solution_in_json_array(self, solutions, solution_config):\n",
    "        result = -1\n",
    "        length = len(solutions)\n",
    "        for i in range(length):\n",
    "            solution = solutions[i]\n",
    "            config = solution['config']\n",
    "            if config == solution_config:\n",
    "                result = i\n",
    "        return result\n",
    "        \n",
    "    def read_matrixes(self, experiment_number):\n",
    "        nested_directory = var_table.get_nested_directory(self.group_name, experiment_number)\n",
    "        T_file_path = '{}/T.csv'.format(nested_directory)\n",
    "        D_file_path = '{}/D.csv'.format(nested_directory)\n",
    "        C_file_path = '{}/C.csv'.format(nested_directory)\n",
    "        E_file_path = '{}/E.csv'.format(nested_directory)\n",
    "        T_df = pd.read_csv(T_file_path, index_col=False, header=None)\n",
    "        D_df = pd.read_csv(D_file_path, index_col=False, header=None)\n",
    "        C_df = pd.read_csv(C_file_path, index_col=False, header=None)\n",
    "        E_df = pd.read_csv(E_file_path, index_col=False, header=None)\n",
    "        T = T_df.to_numpy()\n",
    "        D = D_df.to_numpy()\n",
    "        C = C_df.to_numpy()\n",
    "        E = E_df.to_numpy()\n",
    "        return T, D, C, E"
   ]
  },
  {
   "cell_type": "code",
   "execution_count": 16,
   "id": "ea433a19-c5a9-41af-9585-ef14a4df309e",
   "metadata": {},
   "outputs": [],
   "source": [
    "def compute(group_name, experiments_count, rl_total_timesteps=100):\n",
    "    k = var_table.generate_k(group_name)\n",
    "    experiment_for_group = ExperimentForGroup(group_name, experiments_count)\n",
    "    # solvers\n",
    "    experiment_for_group.with_solver(k, 'glpk')\n",
    "    experiment_for_group.with_solver(k, 'cbc')\n",
    "    # experiment_for_group.with_solver(k, 'xpress')\n",
    "    # experiment_for_group.with_solver(k, 'mpec_minlp')\n",
    "    # experiment_for_group.with_solver(k, 'ilogcp')\n",
    "    # genetic\n",
    "    genetic_config = GeneticConfig()\n",
    "    experiment_for_group.with_binary_genetic_solver(k, genetic_config)\n",
    "    experiment_for_group.with_discrete_genetic_solver(k, genetic_config)\n",
    "    # rl\n",
    "    # experiment_for_group.with_binary_rl_solver(k, rl_total_timesteps, 'A2C')\n",
    "    # experiment_for_group.with_binary_rl_solver(k, rl_total_timesteps, 'PPO')\n",
    "    # experiment_for_group.with_discrete_rl_solver(k, rl_total_timesteps, 'A2C')\n",
    "    # experiment_for_group.with_discrete_rl_solver(k, rl_total_timesteps, 'PPO')"
   ]
  },
  {
   "cell_type": "code",
   "execution_count": 17,
   "id": "62dfddb4-0ed5-4995-a30f-4f30b60b68fa",
   "metadata": {},
   "outputs": [
    {
     "data": {
      "application/vnd.jupyter.widget-view+json": {
       "model_id": "080385efb5444dbbafac16036364bb4f",
       "version_major": 2,
       "version_minor": 0
      },
      "text/plain": [
       "IntProgress(value=0, bar_style='success', description='G3:glpk', max=5)"
      ]
     },
     "metadata": {},
     "output_type": "display_data"
    },
    {
     "data": {
      "application/vnd.jupyter.widget-view+json": {
       "model_id": "417a3fdfd07e4d07bd809da5f1d83857",
       "version_major": 2,
       "version_minor": 0
      },
      "text/plain": [
       "IntProgress(value=0, bar_style='success', description='G3:cbc', max=5)"
      ]
     },
     "metadata": {},
     "output_type": "display_data"
    },
    {
     "data": {
      "application/vnd.jupyter.widget-view+json": {
       "model_id": "73ba32984b65459da52005e4c0dedcf1",
       "version_major": 2,
       "version_minor": 0
      },
      "text/plain": [
       "IntProgress(value=0, bar_style='success', description='G3:binary_genetic', max=5)"
      ]
     },
     "metadata": {},
     "output_type": "display_data"
    },
    {
     "data": {
      "application/vnd.jupyter.widget-view+json": {
       "model_id": "747e518257b545248fc1b6b248382ee8",
       "version_major": 2,
       "version_minor": 0
      },
      "text/plain": [
       "IntProgress(value=0, bar_style='success', description='G3:discrete_genetic', max=5)"
      ]
     },
     "metadata": {},
     "output_type": "display_data"
    },
    {
     "ename": "KeyboardInterrupt",
     "evalue": "",
     "output_type": "error",
     "traceback": [
      "\u001b[0;31m---------------------------------------------------------------------------\u001b[0m",
      "\u001b[0;31mKeyboardInterrupt\u001b[0m                         Traceback (most recent call last)",
      "Cell \u001b[0;32mIn[17], line 1\u001b[0m\n\u001b[0;32m----> 1\u001b[0m \u001b[43mcompute\u001b[49m\u001b[43m(\u001b[49m\u001b[38;5;124;43m'\u001b[39;49m\u001b[38;5;124;43mG3\u001b[39;49m\u001b[38;5;124;43m'\u001b[39;49m\u001b[43m,\u001b[49m\u001b[43m \u001b[49m\u001b[38;5;241;43m5\u001b[39;49m\u001b[43m,\u001b[49m\u001b[43m \u001b[49m\u001b[43mrl_total_timesteps\u001b[49m\u001b[38;5;241;43m=\u001b[39;49m\u001b[38;5;241;43m0\u001b[39;49m\u001b[43m)\u001b[49m\n",
      "Cell \u001b[0;32mIn[16], line 13\u001b[0m, in \u001b[0;36mcompute\u001b[0;34m(group_name, experiments_count, rl_total_timesteps)\u001b[0m\n\u001b[1;32m     11\u001b[0m genetic_config \u001b[38;5;241m=\u001b[39m GeneticConfig()\n\u001b[1;32m     12\u001b[0m experiment_for_group\u001b[38;5;241m.\u001b[39mwith_binary_genetic_solver(k, genetic_config)\n\u001b[0;32m---> 13\u001b[0m \u001b[43mexperiment_for_group\u001b[49m\u001b[38;5;241;43m.\u001b[39;49m\u001b[43mwith_discrete_genetic_solver\u001b[49m\u001b[43m(\u001b[49m\u001b[43mk\u001b[49m\u001b[43m,\u001b[49m\u001b[43m \u001b[49m\u001b[43mgenetic_config\u001b[49m\u001b[43m)\u001b[49m\n",
      "Cell \u001b[0;32mIn[15], line 84\u001b[0m, in \u001b[0;36mExperimentForGroup.with_discrete_genetic_solver\u001b[0;34m(self, k, genetic_config)\u001b[0m\n\u001b[1;32m     82\u001b[0m stub_progress \u001b[38;5;241m=\u001b[39m IntProgress(\u001b[38;5;28mmin\u001b[39m\u001b[38;5;241m=\u001b[39m\u001b[38;5;241m0\u001b[39m, \u001b[38;5;28mmax\u001b[39m\u001b[38;5;241m=\u001b[39mgenetic_config\u001b[38;5;241m.\u001b[39mnum_generations, value\u001b[38;5;241m=\u001b[39m\u001b[38;5;241m0\u001b[39m, description\u001b[38;5;241m=\u001b[39m\u001b[38;5;28mself\u001b[39m\u001b[38;5;241m.\u001b[39mgroup_name, bar_style\u001b[38;5;241m=\u001b[39m\u001b[38;5;124m'\u001b[39m\u001b[38;5;124msuccess\u001b[39m\u001b[38;5;124m'\u001b[39m)\n\u001b[1;32m     83\u001b[0m solver \u001b[38;5;241m=\u001b[39m GeneticSolver(genetic_config, space_config, fitness_calculator, stub_progress)\n\u001b[0;32m---> 84\u001b[0m solution, fitness, solution_idx, duration \u001b[38;5;241m=\u001b[39m \u001b[43msolver\u001b[49m\u001b[38;5;241;43m.\u001b[39;49m\u001b[43msolve\u001b[49m\u001b[43m(\u001b[49m\u001b[43m)\u001b[49m\n\u001b[1;32m     85\u001b[0m fitness \u001b[38;5;241m=\u001b[39m \u001b[38;5;28mfloat\u001b[39m(fitness)\n\u001b[1;32m     87\u001b[0m config \u001b[38;5;241m=\u001b[39m {\n\u001b[1;32m     88\u001b[0m     \u001b[38;5;124m'\u001b[39m\u001b[38;5;124mk\u001b[39m\u001b[38;5;124m'\u001b[39m: k,\n\u001b[1;32m     89\u001b[0m }\n",
      "File \u001b[0;32m~/Desktop/yewking/task_description/genetic_solver.py:44\u001b[0m, in \u001b[0;36mGeneticSolver.solve\u001b[0;34m(self)\u001b[0m\n\u001b[1;32m     42\u001b[0m timer \u001b[38;5;241m=\u001b[39m Timer()\n\u001b[1;32m     43\u001b[0m timer\u001b[38;5;241m.\u001b[39mstart()\n\u001b[0;32m---> 44\u001b[0m \u001b[38;5;28;43mself\u001b[39;49m\u001b[38;5;241;43m.\u001b[39;49m\u001b[43mga_instance\u001b[49m\u001b[38;5;241;43m.\u001b[39;49m\u001b[43mrun\u001b[49m\u001b[43m(\u001b[49m\u001b[43m)\u001b[49m\n\u001b[1;32m     45\u001b[0m timer\u001b[38;5;241m.\u001b[39mstop()\n\u001b[1;32m     46\u001b[0m duration \u001b[38;5;241m=\u001b[39m timer\u001b[38;5;241m.\u001b[39mget_duration()\n",
      "File \u001b[0;32m~/venv/lib/python3.12/site-packages/pygad/pygad.py:1980\u001b[0m, in \u001b[0;36mGA.run\u001b[0;34m(self)\u001b[0m\n\u001b[1;32m   1978\u001b[0m \u001b[38;5;28mself\u001b[39m\u001b[38;5;241m.\u001b[39mprevious_generation_fitness \u001b[38;5;241m=\u001b[39m \u001b[38;5;28mself\u001b[39m\u001b[38;5;241m.\u001b[39mlast_generation_fitness\u001b[38;5;241m.\u001b[39mcopy()\n\u001b[1;32m   1979\u001b[0m \u001b[38;5;66;03m# Measuring the fitness of each chromosome in the population. Save the fitness in the last_generation_fitness attribute.\u001b[39;00m\n\u001b[0;32m-> 1980\u001b[0m \u001b[38;5;28mself\u001b[39m\u001b[38;5;241m.\u001b[39mlast_generation_fitness \u001b[38;5;241m=\u001b[39m \u001b[38;5;28;43mself\u001b[39;49m\u001b[38;5;241;43m.\u001b[39;49m\u001b[43mcal_pop_fitness\u001b[49m\u001b[43m(\u001b[49m\u001b[43m)\u001b[49m\n\u001b[1;32m   1982\u001b[0m best_solution, best_solution_fitness, best_match_idx \u001b[38;5;241m=\u001b[39m \u001b[38;5;28mself\u001b[39m\u001b[38;5;241m.\u001b[39mbest_solution(\n\u001b[1;32m   1983\u001b[0m     pop_fitness\u001b[38;5;241m=\u001b[39m\u001b[38;5;28mself\u001b[39m\u001b[38;5;241m.\u001b[39mlast_generation_fitness)\n\u001b[1;32m   1985\u001b[0m \u001b[38;5;66;03m# Appending the best solution in the current generation to the best_solutions list.\u001b[39;00m\n",
      "File \u001b[0;32m~/venv/lib/python3.12/site-packages/pygad/pygad.py:1708\u001b[0m, in \u001b[0;36mGA.cal_pop_fitness\u001b[0;34m(self)\u001b[0m\n\u001b[1;32m   1705\u001b[0m \u001b[38;5;28;01melse\u001b[39;00m:\n\u001b[1;32m   1706\u001b[0m     \u001b[38;5;66;03m# Check if batch processing is used. If not, then calculate this missing fitness value.\u001b[39;00m\n\u001b[1;32m   1707\u001b[0m     \u001b[38;5;28;01mif\u001b[39;00m \u001b[38;5;28mself\u001b[39m\u001b[38;5;241m.\u001b[39mfitness_batch_size \u001b[38;5;129;01min\u001b[39;00m [\u001b[38;5;241m1\u001b[39m, \u001b[38;5;28;01mNone\u001b[39;00m]:\n\u001b[0;32m-> 1708\u001b[0m         fitness \u001b[38;5;241m=\u001b[39m \u001b[38;5;28;43mself\u001b[39;49m\u001b[38;5;241;43m.\u001b[39;49m\u001b[43mfitness_func\u001b[49m\u001b[43m(\u001b[49m\u001b[38;5;28;43mself\u001b[39;49m\u001b[43m,\u001b[49m\u001b[43m \u001b[49m\u001b[43msol\u001b[49m\u001b[43m,\u001b[49m\u001b[43m \u001b[49m\u001b[43msol_idx\u001b[49m\u001b[43m)\u001b[49m\n\u001b[1;32m   1709\u001b[0m         \u001b[38;5;28;01mif\u001b[39;00m \u001b[38;5;28mtype\u001b[39m(fitness) \u001b[38;5;129;01min\u001b[39;00m GA\u001b[38;5;241m.\u001b[39msupported_int_float_types:\n\u001b[1;32m   1710\u001b[0m             \u001b[38;5;66;03m# The fitness function returns a single numeric value.\u001b[39;00m\n\u001b[1;32m   1711\u001b[0m             \u001b[38;5;66;03m# This is a single-objective optimization problem.\u001b[39;00m\n\u001b[1;32m   1712\u001b[0m             \u001b[38;5;28;01mpass\u001b[39;00m\n",
      "File \u001b[0;32m~/Desktop/yewking/task_description/genetic_solver.py:72\u001b[0m, in \u001b[0;36mGeneticSolver.fitness_func\u001b[0;34m(self, ga_instance, solution, solution_idx)\u001b[0m\n\u001b[1;32m     71\u001b[0m \u001b[38;5;28;01mdef\u001b[39;00m \u001b[38;5;21mfitness_func\u001b[39m(\u001b[38;5;28mself\u001b[39m, ga_instance, solution, solution_idx):\n\u001b[0;32m---> 72\u001b[0m     fitness \u001b[38;5;241m=\u001b[39m \u001b[38;5;28;43mself\u001b[39;49m\u001b[38;5;241;43m.\u001b[39;49m\u001b[43mfitness_calculator\u001b[49m\u001b[38;5;241;43m.\u001b[39;49m\u001b[43mcalculate\u001b[49m\u001b[43m(\u001b[49m\u001b[43msolution\u001b[49m\u001b[43m)\u001b[49m\n\u001b[1;32m     73\u001b[0m     \u001b[38;5;28;01mreturn\u001b[39;00m fitness\n",
      "File \u001b[0;32m~/Desktop/yewking/task_description/fitness_calculator.py:14\u001b[0m, in \u001b[0;36mFitnessCalculator.calculate\u001b[0;34m(self, solution)\u001b[0m\n\u001b[1;32m     12\u001b[0m \u001b[38;5;28;01mif\u001b[39;00m (valid):\n\u001b[1;32m     13\u001b[0m     cost_calculator \u001b[38;5;241m=\u001b[39m \u001b[38;5;28mself\u001b[39m\u001b[38;5;241m.\u001b[39mcost_calculator_factory\u001b[38;5;241m.\u001b[39mget_cost_calculator(A)\n\u001b[0;32m---> 14\u001b[0m     cost \u001b[38;5;241m=\u001b[39m \u001b[43mcost_calculator\u001b[49m\u001b[38;5;241;43m.\u001b[39;49m\u001b[43mcalculate\u001b[49m\u001b[43m(\u001b[49m\u001b[43m)\u001b[49m\n\u001b[1;32m     15\u001b[0m     fitness \u001b[38;5;241m=\u001b[39m \u001b[38;5;241m1\u001b[39m \u001b[38;5;241m/\u001b[39m cost\n\u001b[1;32m     16\u001b[0m \u001b[38;5;28;01mreturn\u001b[39;00m fitness\n",
      "File \u001b[0;32m~/Desktop/yewking/task_description/cost_calculator.py:30\u001b[0m, in \u001b[0;36mCostCalculator.calculate\u001b[0;34m(self)\u001b[0m\n\u001b[1;32m     27\u001b[0m files \u001b[38;5;241m=\u001b[39m np\u001b[38;5;241m.\u001b[39mdot(requirements, T)\n\u001b[1;32m     29\u001b[0m f_dep \u001b[38;5;241m=\u001b[39m \u001b[38;5;28;01mlambda\u001b[39;00m x: np\u001b[38;5;241m.\u001b[39mdot(files, D) \u001b[38;5;28;01mif\u001b[39;00m x \u001b[38;5;241m==\u001b[39m \u001b[38;5;241m0\u001b[39m \u001b[38;5;28;01melse\u001b[39;00m np\u001b[38;5;241m.\u001b[39mdot(f_dep(x \u001b[38;5;241m-\u001b[39m \u001b[38;5;241m1\u001b[39m), D)\n\u001b[0;32m---> 30\u001b[0m files_with_dependencies \u001b[38;5;241m=\u001b[39m files \u001b[38;5;241m+\u001b[39m \u001b[38;5;28msum\u001b[39m([\u001b[43mf_dep\u001b[49m\u001b[43m(\u001b[49m\u001b[43mi\u001b[49m\u001b[43m)\u001b[49m \u001b[38;5;28;01mfor\u001b[39;00m i \u001b[38;5;129;01min\u001b[39;00m \u001b[38;5;28mrange\u001b[39m(m)])\n\u001b[1;32m     32\u001b[0m plugins \u001b[38;5;241m=\u001b[39m np\u001b[38;5;241m.\u001b[39mdot(files_with_dependencies, A)\n\u001b[1;32m     33\u001b[0m plugins \u001b[38;5;241m=\u001b[39m np\u001b[38;5;241m.\u001b[39marray([f_in(x) \u001b[38;5;28;01mfor\u001b[39;00m x \u001b[38;5;129;01min\u001b[39;00m plugins])\n",
      "File \u001b[0;32m~/Desktop/yewking/task_description/cost_calculator.py:29\u001b[0m, in \u001b[0;36mCostCalculator.calculate.<locals>.<lambda>\u001b[0;34m(x)\u001b[0m\n\u001b[1;32m     25\u001b[0m \u001b[38;5;28;01mfor\u001b[39;00m requirements \u001b[38;5;129;01min\u001b[39;00m E:\n\u001b[1;32m     27\u001b[0m     files \u001b[38;5;241m=\u001b[39m np\u001b[38;5;241m.\u001b[39mdot(requirements, T)\n\u001b[0;32m---> 29\u001b[0m     f_dep \u001b[38;5;241m=\u001b[39m \u001b[38;5;28;01mlambda\u001b[39;00m x: np\u001b[38;5;241m.\u001b[39mdot(files, D) \u001b[38;5;28;01mif\u001b[39;00m x \u001b[38;5;241m==\u001b[39m \u001b[38;5;241m0\u001b[39m \u001b[38;5;28;01melse\u001b[39;00m np\u001b[38;5;241m.\u001b[39mdot(\u001b[43mf_dep\u001b[49m\u001b[43m(\u001b[49m\u001b[43mx\u001b[49m\u001b[43m \u001b[49m\u001b[38;5;241;43m-\u001b[39;49m\u001b[43m \u001b[49m\u001b[38;5;241;43m1\u001b[39;49m\u001b[43m)\u001b[49m, D)\n\u001b[1;32m     30\u001b[0m     files_with_dependencies \u001b[38;5;241m=\u001b[39m files \u001b[38;5;241m+\u001b[39m \u001b[38;5;28msum\u001b[39m([f_dep(i) \u001b[38;5;28;01mfor\u001b[39;00m i \u001b[38;5;129;01min\u001b[39;00m \u001b[38;5;28mrange\u001b[39m(m)])\n\u001b[1;32m     32\u001b[0m     plugins \u001b[38;5;241m=\u001b[39m np\u001b[38;5;241m.\u001b[39mdot(files_with_dependencies, A)\n",
      "File \u001b[0;32m~/Desktop/yewking/task_description/cost_calculator.py:29\u001b[0m, in \u001b[0;36mCostCalculator.calculate.<locals>.<lambda>\u001b[0;34m(x)\u001b[0m\n\u001b[1;32m     25\u001b[0m \u001b[38;5;28;01mfor\u001b[39;00m requirements \u001b[38;5;129;01min\u001b[39;00m E:\n\u001b[1;32m     27\u001b[0m     files \u001b[38;5;241m=\u001b[39m np\u001b[38;5;241m.\u001b[39mdot(requirements, T)\n\u001b[0;32m---> 29\u001b[0m     f_dep \u001b[38;5;241m=\u001b[39m \u001b[38;5;28;01mlambda\u001b[39;00m x: np\u001b[38;5;241m.\u001b[39mdot(files, D) \u001b[38;5;28;01mif\u001b[39;00m x \u001b[38;5;241m==\u001b[39m \u001b[38;5;241m0\u001b[39m \u001b[38;5;28;01melse\u001b[39;00m np\u001b[38;5;241m.\u001b[39mdot(\u001b[43mf_dep\u001b[49m\u001b[43m(\u001b[49m\u001b[43mx\u001b[49m\u001b[43m \u001b[49m\u001b[38;5;241;43m-\u001b[39;49m\u001b[43m \u001b[49m\u001b[38;5;241;43m1\u001b[39;49m\u001b[43m)\u001b[49m, D)\n\u001b[1;32m     30\u001b[0m     files_with_dependencies \u001b[38;5;241m=\u001b[39m files \u001b[38;5;241m+\u001b[39m \u001b[38;5;28msum\u001b[39m([f_dep(i) \u001b[38;5;28;01mfor\u001b[39;00m i \u001b[38;5;129;01min\u001b[39;00m \u001b[38;5;28mrange\u001b[39m(m)])\n\u001b[1;32m     32\u001b[0m     plugins \u001b[38;5;241m=\u001b[39m np\u001b[38;5;241m.\u001b[39mdot(files_with_dependencies, A)\n",
      "    \u001b[0;31m[... skipping similar frames: CostCalculator.calculate.<locals>.<lambda> at line 29 (183 times)]\u001b[0m\n",
      "File \u001b[0;32m~/Desktop/yewking/task_description/cost_calculator.py:29\u001b[0m, in \u001b[0;36mCostCalculator.calculate.<locals>.<lambda>\u001b[0;34m(x)\u001b[0m\n\u001b[1;32m     25\u001b[0m \u001b[38;5;28;01mfor\u001b[39;00m requirements \u001b[38;5;129;01min\u001b[39;00m E:\n\u001b[1;32m     27\u001b[0m     files \u001b[38;5;241m=\u001b[39m np\u001b[38;5;241m.\u001b[39mdot(requirements, T)\n\u001b[0;32m---> 29\u001b[0m     f_dep \u001b[38;5;241m=\u001b[39m \u001b[38;5;28;01mlambda\u001b[39;00m x: np\u001b[38;5;241m.\u001b[39mdot(files, D) \u001b[38;5;28;01mif\u001b[39;00m x \u001b[38;5;241m==\u001b[39m \u001b[38;5;241m0\u001b[39m \u001b[38;5;28;01melse\u001b[39;00m \u001b[43mnp\u001b[49m\u001b[38;5;241;43m.\u001b[39;49m\u001b[43mdot\u001b[49m\u001b[43m(\u001b[49m\u001b[43mf_dep\u001b[49m\u001b[43m(\u001b[49m\u001b[43mx\u001b[49m\u001b[43m \u001b[49m\u001b[38;5;241;43m-\u001b[39;49m\u001b[43m \u001b[49m\u001b[38;5;241;43m1\u001b[39;49m\u001b[43m)\u001b[49m\u001b[43m,\u001b[49m\u001b[43m \u001b[49m\u001b[43mD\u001b[49m\u001b[43m)\u001b[49m\n\u001b[1;32m     30\u001b[0m     files_with_dependencies \u001b[38;5;241m=\u001b[39m files \u001b[38;5;241m+\u001b[39m \u001b[38;5;28msum\u001b[39m([f_dep(i) \u001b[38;5;28;01mfor\u001b[39;00m i \u001b[38;5;129;01min\u001b[39;00m \u001b[38;5;28mrange\u001b[39m(m)])\n\u001b[1;32m     32\u001b[0m     plugins \u001b[38;5;241m=\u001b[39m np\u001b[38;5;241m.\u001b[39mdot(files_with_dependencies, A)\n",
      "File \u001b[0;32m~/venv/lib/python3.12/site-packages/numpy/core/multiarray.py:741\u001b[0m, in \u001b[0;36mdot\u001b[0;34m(a, b, out)\u001b[0m\n\u001b[1;32m    671\u001b[0m \u001b[38;5;250m    \u001b[39m\u001b[38;5;124;03m\"\"\"\u001b[39;00m\n\u001b[1;32m    672\u001b[0m \u001b[38;5;124;03m    result_type(*arrays_and_dtypes)\u001b[39;00m\n\u001b[1;32m    673\u001b[0m \n\u001b[0;32m   (...)\u001b[0m\n\u001b[1;32m    736\u001b[0m \n\u001b[1;32m    737\u001b[0m \u001b[38;5;124;03m    \"\"\"\u001b[39;00m\n\u001b[1;32m    738\u001b[0m     \u001b[38;5;28;01mreturn\u001b[39;00m arrays_and_dtypes\n\u001b[0;32m--> 741\u001b[0m \u001b[38;5;129m@array_function_from_c_func_and_dispatcher\u001b[39m(_multiarray_umath\u001b[38;5;241m.\u001b[39mdot)\n\u001b[1;32m    742\u001b[0m \u001b[38;5;28;01mdef\u001b[39;00m \u001b[38;5;21mdot\u001b[39m(a, b, out\u001b[38;5;241m=\u001b[39m\u001b[38;5;28;01mNone\u001b[39;00m):\n\u001b[1;32m    743\u001b[0m \u001b[38;5;250m    \u001b[39m\u001b[38;5;124;03m\"\"\"\u001b[39;00m\n\u001b[1;32m    744\u001b[0m \u001b[38;5;124;03m    dot(a, b, out=None)\u001b[39;00m\n\u001b[1;32m    745\u001b[0m \n\u001b[0;32m   (...)\u001b[0m\n\u001b[1;32m    829\u001b[0m \n\u001b[1;32m    830\u001b[0m \u001b[38;5;124;03m    \"\"\"\u001b[39;00m\n\u001b[1;32m    831\u001b[0m     \u001b[38;5;28;01mreturn\u001b[39;00m (a, b, out)\n",
      "\u001b[0;31mKeyboardInterrupt\u001b[0m: "
     ]
    }
   ],
   "source": [
    "compute('G3', 5, rl_total_timesteps=0)"
   ]
  },
  {
   "cell_type": "code",
   "execution_count": null,
   "id": "b3a131d1-f5fd-43ce-b133-50271664fa95",
   "metadata": {},
   "outputs": [],
   "source": []
  }
 ],
 "metadata": {
  "kernelspec": {
   "display_name": "Python 3 (ipykernel)",
   "language": "python",
   "name": "python3"
  },
  "language_info": {
   "codemirror_mode": {
    "name": "ipython",
    "version": 3
   },
   "file_extension": ".py",
   "mimetype": "text/x-python",
   "name": "python",
   "nbconvert_exporter": "python",
   "pygments_lexer": "ipython3",
   "version": "3.12.1"
  }
 },
 "nbformat": 4,
 "nbformat_minor": 5
}
