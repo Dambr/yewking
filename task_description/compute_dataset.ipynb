{
 "cells": [
  {
   "cell_type": "code",
   "execution_count": 1,
   "id": "5c7ed2f9-c4be-49ff-9dae-b228683d7573",
   "metadata": {},
   "outputs": [],
   "source": [
    "import pandas as pd\n",
    "import numpy as np"
   ]
  },
  {
   "cell_type": "code",
   "execution_count": 2,
   "id": "5279bbda-58b9-4ee0-a35d-73e26bcf3538",
   "metadata": {},
   "outputs": [],
   "source": [
    "import json"
   ]
  },
  {
   "cell_type": "code",
   "execution_count": 3,
   "id": "e4efdee8",
   "metadata": {},
   "outputs": [],
   "source": [
    "import warnings\n",
    "warnings.filterwarnings(\"ignore\")"
   ]
  },
  {
   "cell_type": "code",
   "execution_count": 4,
   "id": "27ba6c5d-109b-4907-8194-15448f78de44",
   "metadata": {},
   "outputs": [],
   "source": [
    "from ipywidgets import IntProgress\n",
    "from IPython.display import display"
   ]
  },
  {
   "cell_type": "code",
   "execution_count": 5,
   "id": "926d1734-7f7f-4e5d-8734-f01b87a35da5",
   "metadata": {},
   "outputs": [],
   "source": [
    "from var_table import VarTable"
   ]
  },
  {
   "cell_type": "code",
   "execution_count": 6,
   "id": "3ddf99af-dfec-4637-82e7-9c50a4459ea4",
   "metadata": {},
   "outputs": [],
   "source": [
    "from cost_calculator_factory import CostCalculatorFactory\n",
    "from multibinary_converter import MultiBinaryConverter\n",
    "from multidiscrete_converter import MultiDiscreteConverter\n",
    "from pyomo_values_converter import PyomoValuesConverter\n",
    "from fitness_calculator import FitnessCalculator"
   ]
  },
  {
   "cell_type": "code",
   "execution_count": 7,
   "id": "94d17be8-ebd0-4a13-ae54-00d728a82508",
   "metadata": {},
   "outputs": [],
   "source": [
    "from genetic_multibinary_space_config import GeneticMultiBinarySpaceConfig\n",
    "from genetic_multidiscrete_space_config import GeneticMultiDiscreteSpaceConfig\n",
    "from genetic_config import GeneticConfig\n",
    "from genetic_solver import GeneticSolver"
   ]
  },
  {
   "cell_type": "code",
   "execution_count": 8,
   "id": "49d4e6ba",
   "metadata": {},
   "outputs": [],
   "source": [
    "from stable_baselines3 import PPO\n",
    "from stable_baselines3 import A2C\n",
    "from stable_baselines3.common.env_checker import check_env"
   ]
  },
  {
   "cell_type": "code",
   "execution_count": 9,
   "id": "5179b777",
   "metadata": {},
   "outputs": [],
   "source": [
    "from rl_multibinary_config import RlMultiBinaryConfig\n",
    "from rl_multidiscrete_config import RlMultiDiscreteConfig\n",
    "from rl_graphic import RlGraphic\n",
    "from rl_env import RlEnv\n",
    "from rl_solver import RlSolver"
   ]
  },
  {
   "cell_type": "code",
   "execution_count": 10,
   "id": "5072816b-85c3-4afd-89bd-b96ff7b9fd80",
   "metadata": {},
   "outputs": [],
   "source": [
    "from model_builder import ModelBuilder\n",
    "from solve_action import SolveAction"
   ]
  },
  {
   "cell_type": "code",
   "execution_count": 11,
   "id": "41bba2a9-020f-4f03-9adc-43b387d369ff",
   "metadata": {},
   "outputs": [],
   "source": [
    "from random_solver import RandomSolver"
   ]
  },
  {
   "cell_type": "code",
   "execution_count": 12,
   "id": "25078569-d503-4929-a8a4-3f2b956821ca",
   "metadata": {},
   "outputs": [],
   "source": [
    "from cost_calculator_factory import CostCalculatorFactory\n",
    "from dependencies_calculator import DependenciesCalculator"
   ]
  },
  {
   "cell_type": "code",
   "execution_count": 13,
   "id": "8531db30-465f-465c-8727-3265f667afc9",
   "metadata": {},
   "outputs": [],
   "source": [
    "M = 10 ** 10\n",
    "dtype = np.int64\n",
    "policy = 'MlpPolicy'"
   ]
  },
  {
   "cell_type": "code",
   "execution_count": 14,
   "id": "e33516ff-7a45-476a-b1d6-c0b3ddab4db9",
   "metadata": {},
   "outputs": [],
   "source": [
    "var_table = VarTable()"
   ]
  },
  {
   "cell_type": "code",
   "execution_count": 15,
   "id": "11983be2",
   "metadata": {},
   "outputs": [],
   "source": [
    "algorithms = {\n",
    "    'A2C': A2C,\n",
    "    'PPO': PPO\n",
    "}"
   ]
  },
  {
   "cell_type": "code",
   "execution_count": 16,
   "id": "4ebc40c1-a36b-4d61-8945-19f70206cfb6",
   "metadata": {},
   "outputs": [],
   "source": [
    "class ExperimentForGroup:\n",
    "    def __init__(self, group_name, experiments_count):\n",
    "        self.group_name = group_name\n",
    "        self.experiments_count = experiments_count\n",
    "\n",
    "    def with_random(self, k):\n",
    "        solver_name = 'random'\n",
    "        description='{}:{}'.format(self.group_name, solver_name)\n",
    "        progress = IntProgress(min=0, max=self.experiments_count, value=0, description=description, bar_style='success')\n",
    "        display(progress)\n",
    "        for experiment_number in range(1, self.experiments_count + 1):\n",
    "            T, sum_D, C, E = self.read_matrixes(experiment_number)\n",
    "            cost_calculator_factory = CostCalculatorFactory(T, sum_D, C, E)\n",
    "            m = np.shape(T)[1]\n",
    "\n",
    "            converter = MultiDiscreteConverter(m, k)\n",
    "            fitness_calculator = FitnessCalculator(M, cost_calculator_factory, converter)\n",
    "            random_solver = RandomSolver(m, k, fitness_calculator)\n",
    "            solution, fitness, duration = random_solver.solve()\n",
    "\n",
    "            config = {\n",
    "                'k': k\n",
    "            }\n",
    "            result = self.solution_result_to_json(fitness, duration)\n",
    "            \n",
    "            self.write_config(experiment_number, solver_name, config, result)\n",
    "            \n",
    "            progress.value += 1\n",
    "\n",
    "    def with_solver(self, k, solver_name):\n",
    "        description='{}:{}'.format(self.group_name, solver_name)\n",
    "        progress = IntProgress(min=0, max=self.experiments_count, value=0, description=description, bar_style='success')\n",
    "        display(progress)\n",
    "        for experiment_number in range(1, self.experiments_count + 1):\n",
    "            T, sum_D, C, E = self.read_matrixes(experiment_number)\n",
    "            cost_calculator_factory = CostCalculatorFactory(T, sum_D, C, E)\n",
    "\n",
    "            converter = PyomoValuesConverter()\n",
    "            fitness_calculator = FitnessCalculator(M, cost_calculator_factory, converter)\n",
    "            model_builder = ModelBuilder(M, k, T, sum_D, C, E)\n",
    "            model = model_builder.build()\n",
    "            solver = SolveAction(model, solver_name)\n",
    "            solve_result = solver.solve()\n",
    "            instance = solve_result.instance\n",
    "            duration = solve_result.duration\n",
    "            A = instance.A\n",
    "            fitness = fitness_calculator.calculate(A)\n",
    "\n",
    "            config = {\n",
    "                'k': k\n",
    "            }\n",
    "            result = self.solution_result_to_json(fitness, duration)\n",
    "            \n",
    "            self.write_config(experiment_number, solver_name, config, result)\n",
    "            \n",
    "            progress.value += 1\n",
    "\n",
    "    def with_binary_genetic_solver(self, k, genetic_config):\n",
    "        solver_name = 'binary_genetic'\n",
    "        description='{}:{}'.format(self.group_name, solver_name)\n",
    "        progress = IntProgress(min=0, max=self.experiments_count, value=0, description=description, bar_style='success')\n",
    "        display(progress)\n",
    "        for experiment_number in range(1, self.experiments_count + 1):\n",
    "            T, sum_D, C, E = self.read_matrixes(experiment_number)\n",
    "            cost_calculator_factory = CostCalculatorFactory(T, sum_D, C, E)\n",
    "            m = np.shape(T)[1]\n",
    "\n",
    "            converter = MultiBinaryConverter(m, k)\n",
    "            fitness_calculator = FitnessCalculator(M, cost_calculator_factory, converter)\n",
    "            space_config = GeneticMultiBinarySpaceConfig(m, k)\n",
    "            \n",
    "            stub_progress = IntProgress(min=0, max=genetic_config.num_generations, value=0, description=self.group_name, bar_style='success')\n",
    "            solver = GeneticSolver(genetic_config, space_config, fitness_calculator, stub_progress)\n",
    "            solution, fitness, solution_idx, duration = solver.solve()\n",
    "            fitness = float(fitness)\n",
    "            \n",
    "            config = {\n",
    "                'k': k,\n",
    "            }\n",
    "            genetic_config_as_dict = genetic_config.to_dict()\n",
    "            for key in genetic_config_as_dict:\n",
    "                value = genetic_config_as_dict[key]\n",
    "                config[key] = value\n",
    "            result = self.solution_result_to_json(fitness, duration)\n",
    "            \n",
    "            self.write_config(experiment_number, solver_name, config, result)\n",
    "            \n",
    "            progress.value += 1\n",
    "\n",
    "    def with_discrete_genetic_solver(self, k, genetic_config):\n",
    "        solver_name = 'discrete_genetic'\n",
    "        description='{}:{}'.format(self.group_name, solver_name)\n",
    "        # progress = IntProgress(min=0, max=self.experiments_count, value=0, description=description, bar_style='success')\n",
    "        # display(progress)\n",
    "        for experiment_number in range(1, self.experiments_count + 1):\n",
    "            T, sum_D, C, E = self.read_matrixes(experiment_number)\n",
    "            cost_calculator_factory = CostCalculatorFactory(T, sum_D, C, E)\n",
    "\n",
    "            m = np.shape(T)[1]\n",
    "            converter = MultiDiscreteConverter(m, k)\n",
    "            fitness_calculator = FitnessCalculator(M, cost_calculator_factory, converter)\n",
    "            space_config = GeneticMultiDiscreteSpaceConfig(m, k)\n",
    "            \n",
    "            stub_progress = IntProgress(min=0, max=genetic_config.num_generations, value=0, description=str(genetic_config.num_generations), bar_style='success')\n",
    "            display(stub_progress)\n",
    "            solver = GeneticSolver(genetic_config, space_config, fitness_calculator, stub_progress)\n",
    "            solution, fitness, solution_idx, duration = solver.solve()\n",
    "            fitness = float(fitness)\n",
    "            \n",
    "            config = {\n",
    "                'k': k,\n",
    "            }\n",
    "            genetic_config_as_dict = genetic_config.to_dict()\n",
    "            for key in genetic_config_as_dict:\n",
    "                value = genetic_config_as_dict[key]\n",
    "                config[key] = value\n",
    "            result = self.solution_result_to_json(fitness, duration)\n",
    "            \n",
    "            self.write_config(experiment_number, solver_name, config, result)\n",
    "            \n",
    "            # progress.value += 1\n",
    "\n",
    "    def with_binary_rl_solver(self, k, total_timesteps, algorithm_name):\n",
    "        solver_name = 'binary_rl_{}'.format(algorithm_name)\n",
    "        description='{}:{}'.format(self.group_name, solver_name)\n",
    "        progress = IntProgress(min=0, max=self.experiments_count, value=0, description=description, bar_style='success')\n",
    "        display(progress)\n",
    "        for experiment_number in range(1, self.experiments_count + 1):\n",
    "            T, sum_D, C, E = self.read_matrixes(experiment_number)\n",
    "            cost_calculator_factory = CostCalculatorFactory(T, sum_D, C, E)\n",
    "            \n",
    "            m = np.shape(T)[1]\n",
    "            config = RlMultiBinaryConfig(m, k, dtype)\n",
    "            converter = MultiBinaryConverter(m, k)\n",
    "            fitness_calcultor = FitnessCalculator(M, cost_calculator_factory, converter)\n",
    "            dump_progress = IntProgress(min=0, max=total_timesteps, value=0, description='multibinary', bar_style='success')\n",
    "            graphic = RlGraphic('multibinary')\n",
    "            env = RlEnv(config, fitness_calcultor, dump_progress, graphic)\n",
    "            check_env(env)\n",
    "            algorithm = algorithms[algorithm_name]\n",
    "            model = algorithm(policy, env)\n",
    "            solver = RlSolver(model, total_timesteps)\n",
    "\n",
    "            fitness, solution, duration = solver.solve()\n",
    "            fitness = float(fitness)\n",
    "\n",
    "            config = {\n",
    "                'k': k,\n",
    "                'total_timesteps': total_timesteps\n",
    "            }\n",
    "            result = self.solution_result_to_json(fitness, duration)\n",
    "\n",
    "            self.write_config(experiment_number, solver_name, config, result)\n",
    "\n",
    "            progress.value += 1\n",
    "        \n",
    "    def with_discrete_rl_solver(self, k, total_timesteps, algorithm_name):\n",
    "        solver_name = 'discrete_rl_{}'.format(algorithm_name)\n",
    "        description='{}:{}'.format(self.group_name, solver_name)\n",
    "        progress = IntProgress(min=0, max=self.experiments_count, value=0, description=description, bar_style='success')\n",
    "        display(progress)\n",
    "        for experiment_number in range(1, self.experiments_count + 1):\n",
    "            T, sum_D, C, E = self.read_matrixes(experiment_number)\n",
    "            cost_calculator_factory = CostCalculatorFactory(T, sum_D, C, E)\n",
    "            \n",
    "            m = np.shape(T)[1]\n",
    "            config = RlMultiDiscreteConfig(m, k, dtype)\n",
    "            converter = MultiDiscreteConverter(m, k)\n",
    "            fitness_calcultor = FitnessCalculator(M, cost_calculator_factory, converter)\n",
    "            dump_progress = IntProgress(min=0, max=total_timesteps, value=0, description='multibinary', bar_style='success')\n",
    "            graphic = RlGraphic('multibinary')\n",
    "            env = RlEnv(config, fitness_calcultor, dump_progress, graphic)\n",
    "            check_env(env)\n",
    "            algorithm = algorithms[algorithm_name]\n",
    "            model = algorithm(policy, env)\n",
    "            solver = RlSolver(model, total_timesteps)\n",
    "\n",
    "            fitness, solution, duration = solver.solve()\n",
    "            fitness = float(fitness)\n",
    "\n",
    "            config = {\n",
    "                'k': k,\n",
    "                'total_timesteps': total_timesteps\n",
    "            }\n",
    "            result = self.solution_result_to_json(fitness, duration)\n",
    "\n",
    "            self.write_config(experiment_number, solver_name, config, result)\n",
    "\n",
    "            progress.value += 1\n",
    "        \n",
    "    def solution_result_to_json(self, fitness, duration):\n",
    "        result = {\n",
    "            'fitness': fitness,\n",
    "            'duration': duration\n",
    "        }\n",
    "        return result\n",
    "    \n",
    "    def write_config(self, experiment_number, solver_name, config, result):\n",
    "        serialized = {\n",
    "            'config': config,\n",
    "            'result': result\n",
    "        }\n",
    "        nested_directory = var_table.get_nested_directory(self.group_name, experiment_number)\n",
    "        file_path = '{}/solutions.json'.format(nested_directory)\n",
    "        file = open(file_path, 'r')\n",
    "        content = file.read()\n",
    "        json_content = json.loads(content)\n",
    "        file.close()\n",
    "\n",
    "        index_of_solver_name_in_json_array = self.find_index_of_solver_name_in_json_array(json_content, solver_name)\n",
    "        if index_of_solver_name_in_json_array != -1:\n",
    "            solver_solutions = json_content[index_of_solver_name_in_json_array]['solutions']\n",
    "            index_of_solution_in_json_array = self.find_index_of_solution_in_json_array(solver_solutions, config)\n",
    "            if index_of_solution_in_json_array != -1:\n",
    "                existing_solution = solver_solutions[index_of_solution_in_json_array]\n",
    "                existing_solution['result'] = result\n",
    "            else:\n",
    "                solver_solutions.append(serialized)\n",
    "        else:\n",
    "            solutions = [serialized]\n",
    "            solver_solution = {\n",
    "                'name': solver_name,\n",
    "                'solutions': solutions\n",
    "            }\n",
    "            json_content.append(solver_solution)\n",
    "        json_to_write = json.dumps(json_content, indent=2)\n",
    "        file = open(file_path, 'w')\n",
    "        file.write(json_to_write)\n",
    "        file.close()\n",
    "\n",
    "    def find_index_of_solver_name_in_json_array(self, json_content, solver_name):\n",
    "        result = -1\n",
    "        length = len(json_content)\n",
    "        for i in range(length):\n",
    "            json_object = json_content[i]\n",
    "            name = json_object['name']\n",
    "            if name == solver_name:\n",
    "                result = i\n",
    "        return result\n",
    "\n",
    "    def find_index_of_solution_in_json_array(self, solutions, solution_config):\n",
    "        result = -1\n",
    "        length = len(solutions)\n",
    "        for i in range(length):\n",
    "            solution = solutions[i]\n",
    "            config = solution['config']\n",
    "            if config == solution_config:\n",
    "                result = i\n",
    "        return result\n",
    "        \n",
    "    def read_matrixes(self, experiment_number):\n",
    "        nested_directory = var_table.get_nested_directory(self.group_name, experiment_number)\n",
    "        T_file_path = '{}/T.csv'.format(nested_directory)\n",
    "        D_file_path = '{}/D.csv'.format(nested_directory)\n",
    "        sum_D_file_path = '{}/sum_D.csv'.format(nested_directory)\n",
    "        C_file_path = '{}/C.csv'.format(nested_directory)\n",
    "        E_file_path = '{}/E.csv'.format(nested_directory)\n",
    "        T_df = pd.read_csv(T_file_path, index_col=False, header=None)\n",
    "        D_df = pd.read_csv(D_file_path, index_col=False, header=None)\n",
    "        sum_D_df = pd.read_csv(sum_D_file_path, index_col=False, header=None)\n",
    "        C_df = pd.read_csv(C_file_path, index_col=False, header=None)\n",
    "        E_df = pd.read_csv(E_file_path, index_col=False, header=None)\n",
    "        T = T_df.to_numpy()\n",
    "        D = D_df.to_numpy()\n",
    "        sum_D = sum_D_df.to_numpy()\n",
    "        C = C_df.to_numpy()\n",
    "        E = E_df.to_numpy()\n",
    "        return T, sum_D, C, E"
   ]
  },
  {
   "cell_type": "code",
   "execution_count": 17,
   "id": "ea433a19-c5a9-41af-9585-ef14a4df309e",
   "metadata": {},
   "outputs": [],
   "source": [
    "def compute(group_name, experiments_count, rl_total_timesteps=100):\n",
    "    k = var_table.generate_k(group_name)\n",
    "    experiment_for_group = ExperimentForGroup(group_name, experiments_count)\n",
    "    # random\n",
    "    experiment_for_group.with_random(k)\n",
    "    \n",
    "    # solvers\n",
    "    # experiment_for_group.with_solver(k, 'glpk')\n",
    "    # experiment_for_group.with_solver(k, 'cbc')\n",
    "    # experiment_for_group.with_solver(k, 'xpress')\n",
    "    # experiment_for_group.with_solver(k, 'mpec_minlp')\n",
    "    # experiment_for_group.with_solver(k, 'ilogcp')\n",
    "    \n",
    "    # genetic\n",
    "    genetic_config = GeneticConfig()\n",
    "    \n",
    "    # experiment_for_group.with_binary_genetic_solver(k, genetic_config)\n",
    "    # experiment_for_group.with_discrete_genetic_solver(k, genetic_config)\n",
    "    \n",
    "    # rl\n",
    "    # experiment_for_group.with_binary_rl_solver(k, rl_total_timesteps, 'A2C')\n",
    "    # experiment_for_group.with_binary_rl_solver(k, rl_total_timesteps, 'PPO')\n",
    "    # experiment_for_group.with_discrete_rl_solver(k, rl_total_timesteps, 'A2C')\n",
    "    # experiment_for_group.with_discrete_rl_solver(k, rl_total_timesteps, 'PPO')"
   ]
  },
  {
   "cell_type": "code",
   "execution_count": 18,
   "id": "62dfddb4-0ed5-4995-a30f-4f30b60b68fa",
   "metadata": {
    "scrolled": true
   },
   "outputs": [
    {
     "data": {
      "application/vnd.jupyter.widget-view+json": {
       "model_id": "0601bae7a5fa4b68bda3c7de2a4742bc",
       "version_major": 2,
       "version_minor": 0
      },
      "text/plain": [
       "IntProgress(value=0, bar_style='success', description='G0:random', max=1)"
      ]
     },
     "metadata": {},
     "output_type": "display_data"
    }
   ],
   "source": [
    "compute('G0', 1, rl_total_timesteps=0)"
   ]
  },
  {
   "cell_type": "code",
   "execution_count": 19,
   "id": "bcca7b4c-f1c4-484b-af5a-35a716c930e4",
   "metadata": {},
   "outputs": [
    {
     "data": {
      "application/vnd.jupyter.widget-view+json": {
       "model_id": "0df2d97996a043d993b8e04e5da2b550",
       "version_major": 2,
       "version_minor": 0
      },
      "text/plain": [
       "IntProgress(value=0, bar_style='success', description='G1:random', max=1)"
      ]
     },
     "metadata": {},
     "output_type": "display_data"
    }
   ],
   "source": [
    "compute('G1', 1, rl_total_timesteps=0)"
   ]
  },
  {
   "cell_type": "code",
   "execution_count": 20,
   "id": "8d942637-e0b8-4f16-b74b-7144b3514ae6",
   "metadata": {},
   "outputs": [
    {
     "data": {
      "application/vnd.jupyter.widget-view+json": {
       "model_id": "3c474daad13044bdb9d6ac18fd54bbfb",
       "version_major": 2,
       "version_minor": 0
      },
      "text/plain": [
       "IntProgress(value=0, bar_style='success', description='G2:random', max=1)"
      ]
     },
     "metadata": {},
     "output_type": "display_data"
    }
   ],
   "source": [
    "compute('G2', 1, rl_total_timesteps=0)"
   ]
  },
  {
   "cell_type": "code",
   "execution_count": 21,
   "id": "5f86fa92-2cd8-4c15-a24d-d512ff21dd18",
   "metadata": {},
   "outputs": [
    {
     "data": {
      "application/vnd.jupyter.widget-view+json": {
       "model_id": "a0e30975d68c48bf8fbcd2f80cf625d0",
       "version_major": 2,
       "version_minor": 0
      },
      "text/plain": [
       "IntProgress(value=0, bar_style='success', description='G3:random', max=1)"
      ]
     },
     "metadata": {},
     "output_type": "display_data"
    }
   ],
   "source": [
    "compute('G3', 1, rl_total_timesteps=0)"
   ]
  },
  {
   "cell_type": "code",
   "execution_count": 22,
   "id": "a683355e-8210-4c3b-b609-36a388a19de2",
   "metadata": {},
   "outputs": [
    {
     "data": {
      "application/vnd.jupyter.widget-view+json": {
       "model_id": "4c139d0d56b94e509c8fb0355a907b6b",
       "version_major": 2,
       "version_minor": 0
      },
      "text/plain": [
       "IntProgress(value=0, bar_style='success', description='G4:random', max=1)"
      ]
     },
     "metadata": {},
     "output_type": "display_data"
    }
   ],
   "source": [
    "compute('G4', 1, rl_total_timesteps=0)"
   ]
  },
  {
   "cell_type": "code",
   "execution_count": 23,
   "id": "78939686-acbe-4929-aa34-bd335c4e04c3",
   "metadata": {},
   "outputs": [
    {
     "data": {
      "application/vnd.jupyter.widget-view+json": {
       "model_id": "b86366bdfe914e48a2bd4f9b8138e7c9",
       "version_major": 2,
       "version_minor": 0
      },
      "text/plain": [
       "IntProgress(value=0, bar_style='success', description='G5:random', max=1)"
      ]
     },
     "metadata": {},
     "output_type": "display_data"
    }
   ],
   "source": [
    "compute('G5', 1, rl_total_timesteps=0)"
   ]
  },
  {
   "cell_type": "code",
   "execution_count": null,
   "id": "1d792d81-e75e-4f30-8820-56f3e6cb1e56",
   "metadata": {},
   "outputs": [],
   "source": []
  },
  {
   "cell_type": "code",
   "execution_count": null,
   "id": "07370d6c-258d-4bb9-9b45-35280302cc30",
   "metadata": {},
   "outputs": [],
   "source": []
  },
  {
   "cell_type": "code",
   "execution_count": null,
   "id": "e594b92e-4bd6-4ffe-8d6c-c2f7fdfe154e",
   "metadata": {},
   "outputs": [],
   "source": []
  },
  {
   "cell_type": "code",
   "execution_count": null,
   "id": "5a4af494-2459-4322-a705-561db2abe2c1",
   "metadata": {},
   "outputs": [],
   "source": []
  }
 ],
 "metadata": {
  "kernelspec": {
   "display_name": "Python 3 (ipykernel)",
   "language": "python",
   "name": "python3"
  },
  "language_info": {
   "codemirror_mode": {
    "name": "ipython",
    "version": 3
   },
   "file_extension": ".py",
   "mimetype": "text/x-python",
   "name": "python",
   "nbconvert_exporter": "python",
   "pygments_lexer": "ipython3",
   "version": "3.12.1"
  }
 },
 "nbformat": 4,
 "nbformat_minor": 5
}
