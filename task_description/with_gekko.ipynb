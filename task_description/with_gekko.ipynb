{
 "cells": [
  {
   "cell_type": "code",
   "execution_count": 25,
   "id": "1f801a92-94ff-4db1-8bc4-a8f1dccac827",
   "metadata": {},
   "outputs": [],
   "source": [
    "from gekko import GEKKO"
   ]
  },
  {
   "cell_type": "code",
   "execution_count": 26,
   "id": "01b0dab1-24a2-4eb3-9f2b-25d6912ee86b",
   "metadata": {},
   "outputs": [],
   "source": [
    "m = GEKKO(remote=False)"
   ]
  },
  {
   "cell_type": "code",
   "execution_count": 27,
   "id": "fa6a953d-7442-4bb4-8fc5-725702cdc362",
   "metadata": {},
   "outputs": [],
   "source": [
    "z = lambda x: x"
   ]
  },
  {
   "cell_type": "code",
   "execution_count": null,
   "id": "a232c3fb-5116-4055-8147-e108e9826bb2",
   "metadata": {},
   "outputs": [],
   "source": [
    "# Ну что, нужно расписывать целевую функцию в строчку"
   ]
  },
  {
   "cell_type": "code",
   "execution_count": 28,
   "id": "7d266811-4f9b-41ac-a9f8-3099f3da2231",
   "metadata": {},
   "outputs": [],
   "source": [
    "x,y = m.Array(m.Var, 2, integer=True, lb=0)"
   ]
  },
  {
   "cell_type": "code",
   "execution_count": 29,
   "id": "f39c6823-8042-42ab-8eeb-d146448e760d",
   "metadata": {},
   "outputs": [],
   "source": [
    "m.Maximize(y)"
   ]
  },
  {
   "cell_type": "code",
   "execution_count": 30,
   "id": "8408c504-9eb6-4510-b2aa-db6a2b3c38b3",
   "metadata": {},
   "outputs": [
    {
     "data": {
      "text/plain": [
       "[<gekko.gekko.EquationObj at 0x1d66ebbbe90>,\n",
       " <gekko.gekko.EquationObj at 0x1d66ebba840>,\n",
       " <gekko.gekko.EquationObj at 0x1d66ebb8050>]"
      ]
     },
     "execution_count": 30,
     "metadata": {},
     "output_type": "execute_result"
    }
   ],
   "source": [
    "m.Equations([\n",
    "             -x+y<=1,\n",
    "             3*x+2*y<=12,\n",
    "             2*x+3*y<=12\n",
    "])"
   ]
  },
  {
   "cell_type": "code",
   "execution_count": 31,
   "id": "607722f6-c65f-4866-821e-c292f7b98ba2",
   "metadata": {},
   "outputs": [],
   "source": [
    "m.options.SOLVER = 1"
   ]
  },
  {
   "cell_type": "code",
   "execution_count": 32,
   "id": "1fd0cb3a-bead-47a4-8f16-62090638f70a",
   "metadata": {},
   "outputs": [
    {
     "name": "stdout",
     "output_type": "stream",
     "text": [
      " ----------------------------------------------------------------\n",
      " APMonitor, Version 1.0.3\n",
      " APMonitor Optimization Suite\n",
      " ----------------------------------------------------------------\n",
      " \n",
      " \n",
      " --------- APM Model Size ------------\n",
      " Each time step contains\n",
      "   Objects      :  0\n",
      "   Constants    :  0\n",
      "   Variables    :  5\n",
      "   Intermediates:  0\n",
      "   Connections  :  0\n",
      "   Equations    :  4\n",
      "   Residuals    :  4\n",
      " \n",
      " Number of state variables:    5\n",
      " Number of total equations: -  3\n",
      " Number of slack variables: -  3\n",
      " ---------------------------------------\n",
      " Degrees of freedom       :    -1\n",
      " \n",
      " * Warning: DOF <= 0\n",
      " ----------------------------------------------\n",
      " Steady State Optimization with APOPT Solver\n",
      " ----------------------------------------------\n",
      "Iter:     1 I:  0 Tm:     -0.00 NLPi:    3 Dpth:    0 Lvs:    3 Obj: -2.80E+00 Gap:       NaN\n",
      "Iter:     2 I: -1 Tm:      0.01 NLPi:    1 Dpth:    1 Lvs:    2 Obj: -2.80E+00 Gap:       NaN\n",
      "Iter:     3 I: -1 Tm:     -0.00 NLPi:    1 Dpth:    1 Lvs:    1 Obj: -2.80E+00 Gap:       NaN\n",
      "Iter:     4 I:  0 Tm:     -0.00 NLPi:    2 Dpth:    1 Lvs:    2 Obj: -2.00E+00 Gap:       NaN\n",
      "Iter:     5 I:  0 Tm:      0.01 NLPi:    2 Dpth:    2 Lvs:    3 Obj: -1.50E+00 Gap:       NaN\n",
      "--Integer Solution:  -2.00E+00 Lowest Leaf:  -2.00E+00 Gap:   0.00E+00\n",
      "Iter:     6 I:  0 Tm:     -0.00 NLPi:    2 Dpth:    2 Lvs:    3 Obj: -2.00E+00 Gap:  0.00E+00\n",
      " Successful solution\n",
      " \n",
      " ---------------------------------------------------\n",
      " Solver         :  APOPT (v1.0)\n",
      " Solution time  :  0.1743 sec\n",
      " Objective      :  -2.\n",
      " Successful solution\n",
      " ---------------------------------------------------\n",
      " \n",
      "\n"
     ]
    }
   ],
   "source": [
    "m.solve()"
   ]
  },
  {
   "cell_type": "code",
   "execution_count": 33,
   "id": "b4ed3836-efeb-4bd9-afe1-f5166d6f04db",
   "metadata": {},
   "outputs": [
    {
     "name": "stdout",
     "output_type": "stream",
     "text": [
      "Objective:  2.0\n"
     ]
    }
   ],
   "source": [
    "print('Objective: ', -m.options.OBJFCNVAL)"
   ]
  },
  {
   "cell_type": "code",
   "execution_count": 34,
   "id": "d98a738c-31e1-4746-81cd-996a8ed7752c",
   "metadata": {},
   "outputs": [
    {
     "name": "stdout",
     "output_type": "stream",
     "text": [
      "x:  2.0\n"
     ]
    }
   ],
   "source": [
    "print('x: ', x.value[0])"
   ]
  },
  {
   "cell_type": "code",
   "execution_count": 35,
   "id": "c140b282-b053-4964-8d81-6afacc3f894f",
   "metadata": {},
   "outputs": [
    {
     "name": "stdout",
     "output_type": "stream",
     "text": [
      "y:  2.0\n"
     ]
    }
   ],
   "source": [
    "print('y: ', y.value[0])"
   ]
  },
  {
   "cell_type": "code",
   "execution_count": null,
   "id": "19c9e6c9-f268-4460-8c85-e91cb284cc9b",
   "metadata": {},
   "outputs": [],
   "source": []
  },
  {
   "cell_type": "code",
   "execution_count": null,
   "id": "c32737b4-8169-47ea-83ec-5e4bf9511773",
   "metadata": {},
   "outputs": [],
   "source": []
  },
  {
   "cell_type": "code",
   "execution_count": null,
   "id": "6d4c9ea6-5cd2-4306-8508-f43429ffc068",
   "metadata": {},
   "outputs": [],
   "source": []
  },
  {
   "cell_type": "code",
   "execution_count": null,
   "id": "058f7415-9207-4fde-be1b-704aff8874be",
   "metadata": {},
   "outputs": [],
   "source": []
  }
 ],
 "metadata": {
  "kernelspec": {
   "display_name": "Python 3 (ipykernel)",
   "language": "python",
   "name": "python3"
  },
  "language_info": {
   "codemirror_mode": {
    "name": "ipython",
    "version": 3
   },
   "file_extension": ".py",
   "mimetype": "text/x-python",
   "name": "python",
   "nbconvert_exporter": "python",
   "pygments_lexer": "ipython3",
   "version": "3.12.1"
  }
 },
 "nbformat": 4,
 "nbformat_minor": 5
}
