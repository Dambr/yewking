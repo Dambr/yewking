{
 "cells": [
  {
   "cell_type": "code",
   "execution_count": 1,
   "id": "c0a32593-2683-4644-9be6-bf0c62347bd0",
   "metadata": {},
   "outputs": [],
   "source": [
    "from gekko import GEKKO"
   ]
  },
  {
   "cell_type": "code",
   "execution_count": 2,
   "id": "9a5eb547-cb8a-4654-8a5a-b28d97aade04",
   "metadata": {},
   "outputs": [],
   "source": [
    "import numpy as np"
   ]
  },
  {
   "cell_type": "code",
   "execution_count": 3,
   "id": "7ac7b5cf-2ecb-456b-9464-6b747c6e14ff",
   "metadata": {},
   "outputs": [],
   "source": [
    "# Инициализация модели\n",
    "model = GEKKO(remote=False)"
   ]
  },
  {
   "cell_type": "code",
   "execution_count": 4,
   "id": "5fde0ddd-260f-4fff-bc8e-674f7aa4525e",
   "metadata": {},
   "outputs": [],
   "source": [
    "# Решатель APOPT\n",
    "model.options.SOLVER = 1"
   ]
  },
  {
   "cell_type": "code",
   "execution_count": 5,
   "id": "ccd21dfe-4612-435c-833c-b4fc513fbffc",
   "metadata": {},
   "outputs": [],
   "source": [
    "# Матрица трассируемости требований к ПО на файлы исходного кода\n",
    "Erf = np.array([[  1,   0,   0,   0],  # Требование № 1 реализовано в файле № 1\n",
    "                [0.5, 0.5,   0,   0],  # Требование № 2 реализовано в файлах № 1 и 2\n",
    "                [  0, 0.5, 0.5,   0],  # Требования № 3 реализовано в файлах № 2 и 3\n",
    "                [  0,   0, 0.5, 0.5],  # Требование № 4 реализовано в файлах № 3 и 4\n",
    "                [  0,   0,   0,   1]]) # Требовнаие № 5 реализовано в файле № 4"
   ]
  },
  {
   "cell_type": "code",
   "execution_count": 6,
   "id": "bee52c21-4a78-41d3-856f-a33474d624f0",
   "metadata": {},
   "outputs": [],
   "source": [
    "# Матрица зависимостей между файлами исходного кода\n",
    "Eff = np.array([[0, 0, 0, 0],  # На файл № 1 нет зависимостей у других файлов\n",
    "                [1, 0, 0, 0],  # На файл № 2 есть зависимость у файла № 1\n",
    "                [0, 0, 0, 0],  # На файл № 3 нет зависимостей у других файлов\n",
    "                [0, 0, 0, 0]]) # На файл № 4 нет зависимостей у других файлов"
   ]
  },
  {
   "cell_type": "code",
   "execution_count": 7,
   "id": "13802ca1-d2af-41d1-8d20-cfdab03086ad",
   "metadata": {},
   "outputs": [],
   "source": [
    "# Число плагинов\n",
    "k = 3"
   ]
  },
  {
   "cell_type": "code",
   "execution_count": 8,
   "id": "f5621455-14bd-4d30-92d1-c000aef88b23",
   "metadata": {},
   "outputs": [],
   "source": [
    "# Число требований(n) и число файлов исходного кода(m)\n",
    "n, m = np.shape(Erf)"
   ]
  },
  {
   "cell_type": "code",
   "execution_count": 9,
   "id": "34b288d8-0a56-4bf7-aa21-e7ccd8070757",
   "metadata": {},
   "outputs": [],
   "source": [
    "# Матрица распределения файлов по плагинам\n",
    "# Необходимо определить оптимальное распределение\n",
    "# Здесь указаны ограничения на максимальное и минимальное значение\n",
    "# И на то, что элементы должны быть целыми числами\n",
    "Efp = model.Array(model.Var, (m, k), lb=0, ub=1, integer=True)"
   ]
  },
  {
   "cell_type": "code",
   "execution_count": 10,
   "id": "d1256d6e-7ef0-442d-b56c-cd83061b8063",
   "metadata": {},
   "outputs": [
    {
     "data": {
      "text/plain": [
       "[<gekko.gekko.EquationObj at 0x10c71b200>,\n",
       " <gekko.gekko.EquationObj at 0x10c71aff0>,\n",
       " <gekko.gekko.EquationObj at 0x10c71af30>,\n",
       " <gekko.gekko.EquationObj at 0x10c71af60>]"
      ]
     },
     "execution_count": 10,
     "metadata": {},
     "output_type": "execute_result"
    }
   ],
   "source": [
    "# Ограничения на сумму элементов в строках\n",
    "equations = []\n",
    "for row in Efp:\n",
    "    equation = model.sum(row) == 1\n",
    "    equations.append(equation)\n",
    "model.Equations(equations)"
   ]
  },
  {
   "cell_type": "code",
   "execution_count": 11,
   "id": "cab3e29b-78e8-4a31-8218-a797d0bc8654",
   "metadata": {},
   "outputs": [],
   "source": [
    "# Функция активации элементов на слое требований\n",
    "activate_r = lambda x: 1 if x == 1 else 0"
   ]
  },
  {
   "cell_type": "code",
   "execution_count": 12,
   "id": "0b58adeb-fd0f-482f-8ebb-8e65b02b5364",
   "metadata": {},
   "outputs": [],
   "source": [
    "# Функция активации элементов на слое файлов исходного кода\n",
    "activate_f = lambda x: 1 if x > 0 else 0"
   ]
  },
  {
   "cell_type": "code",
   "execution_count": 13,
   "id": "84bc4bf7-2256-43b5-a92b-3db7c1fb8852",
   "metadata": {},
   "outputs": [],
   "source": [
    "# Функция активации элементов на слое плагинов\n",
    "activate_p = lambda x: 1 if x > 0 else 0"
   ]
  },
  {
   "cell_type": "code",
   "execution_count": 14,
   "id": "5571f9f4-a3bd-4245-9960-9af01ad35573",
   "metadata": {},
   "outputs": [],
   "source": [
    "# Рекурсивная функция расчета зависимостей между файлами исходного кода\n",
    "calculate_dependencies = lambda i, F: np.dot(Eff, F) if i == 0 else np.dot(Eff, calculate_dependencies(i - 1, F))"
   ]
  },
  {
   "cell_type": "code",
   "execution_count": 15,
   "id": "33a40e06-b4da-47ec-aead-fb79781622fa",
   "metadata": {},
   "outputs": [],
   "source": [
    "# Вспомогательная функция получения списка всех возможных комбинаций полезных требований\n",
    "def parse_bin_value(bin_value):\n",
    "    result = []\n",
    "    parsed_value = bin_value.replace('0b', '')\n",
    "    for value in parsed_value:\n",
    "        int_value = int(value)\n",
    "        result.append(int_value)\n",
    "    return result"
   ]
  },
  {
   "cell_type": "code",
   "execution_count": 16,
   "id": "97e2b963-1322-46ce-9b00-1b93137a58a8",
   "metadata": {},
   "outputs": [],
   "source": [
    "# Основная функция получения списка всех возможных комбинаций полезных требований\n",
    "def collect_R_c(n):\n",
    "    requirements = []\n",
    "    pow_n = 2 ** n\n",
    "    min_value = 1\n",
    "    max_value = pow_n - 1\n",
    "    bin_max_value = bin(max_value)\n",
    "    parsed_max_value = parse_bin_value(bin_max_value)\n",
    "    len_parsed_max_value = len(parsed_max_value)\n",
    "    for value in range(min_value, pow_n):\n",
    "        bin_value = bin(value)\n",
    "        parsed_value = parse_bin_value(bin_value)\n",
    "        len_parsed_value = len(parsed_value)\n",
    "        while len_parsed_value < len_parsed_max_value:\n",
    "            parsed_value.insert(0, 0)\n",
    "            len_parsed_value = len(parsed_value)\n",
    "        requirements.append(parsed_value)\n",
    "    return requirements"
   ]
  },
  {
   "cell_type": "code",
   "execution_count": 17,
   "id": "c943e4f4-56f6-4c7f-a78b-c8191bde223f",
   "metadata": {},
   "outputs": [],
   "source": [
    "# Функция расчета коэффициента бесполезности\n",
    "def calculate_K_un(R):\n",
    "    # Получение полезных файлов исходного кода\n",
    "    F = np.dot(R, Erf)\n",
    "\n",
    "    # Разрешение зависимостей\n",
    "    files_count = len(F) \n",
    "    for i in range(files_count):\n",
    "        dependencies = calculate_dependencies(i, F)\n",
    "        F += dependencies\n",
    "\n",
    "    # Активация элементов на слое файлов исходного кода\n",
    "    F = np.array([activate_f(f) for f in F])\n",
    "\n",
    "    # Получение плагинов, которые содержат файлы исходного кода\n",
    "    P = np.dot(F, Efp)\n",
    "\n",
    "    # Ативация элементов на слое плагинов\n",
    "    for p in P:\n",
    "        p.value = activate_p(p.value)\n",
    "\n",
    "    # Получение всех файлов исходного кода, которые будут включены в поставку\n",
    "    F_d = np.dot(Efp, P)\n",
    "\n",
    "    # Активация элементов на слое файлов исходного кода\n",
    "    for f_d in F_d:\n",
    "        f_d.value = activate_f(f_d.value)\n",
    "\n",
    "    # Получение всех требований, которые будут включены в поставку\n",
    "    R_d = np.dot(Erf, F_d)\n",
    "\n",
    "    # Активация элементов на слое требований\n",
    "    for r_d in R_d:\n",
    "        r_d.value = activate_r(r_d.value)\n",
    "\n",
    "    # Вычисление коэффициента бесполезности\n",
    "    K_un = (model.sum(R_d) - sum(R)) / (model.sum(R_d))\n",
    "    \n",
    "    return K_un"
   ]
  },
  {
   "cell_type": "code",
   "execution_count": 18,
   "id": "3bee2aa8-9291-4fd9-a8da-1455f19686c6",
   "metadata": {},
   "outputs": [],
   "source": [
    "# Все возможные комбинации полезных требований (R_c - combinations of requirements)\n",
    "R_c = collect_R_c(n)"
   ]
  },
  {
   "cell_type": "code",
   "execution_count": 19,
   "id": "607b7646-84eb-46de-8ecd-b38480988cb9",
   "metadata": {},
   "outputs": [
    {
     "data": {
      "text/plain": [
       "[[0, 0, 0, 0, 1],\n",
       " [0, 0, 0, 1, 0],\n",
       " [0, 0, 0, 1, 1],\n",
       " [0, 0, 1, 0, 0],\n",
       " [0, 0, 1, 0, 1],\n",
       " [0, 0, 1, 1, 0],\n",
       " [0, 0, 1, 1, 1],\n",
       " [0, 1, 0, 0, 0],\n",
       " [0, 1, 0, 0, 1],\n",
       " [0, 1, 0, 1, 0],\n",
       " [0, 1, 0, 1, 1],\n",
       " [0, 1, 1, 0, 0],\n",
       " [0, 1, 1, 0, 1],\n",
       " [0, 1, 1, 1, 0],\n",
       " [0, 1, 1, 1, 1],\n",
       " [1, 0, 0, 0, 0],\n",
       " [1, 0, 0, 0, 1],\n",
       " [1, 0, 0, 1, 0],\n",
       " [1, 0, 0, 1, 1],\n",
       " [1, 0, 1, 0, 0],\n",
       " [1, 0, 1, 0, 1],\n",
       " [1, 0, 1, 1, 0],\n",
       " [1, 0, 1, 1, 1],\n",
       " [1, 1, 0, 0, 0],\n",
       " [1, 1, 0, 0, 1],\n",
       " [1, 1, 0, 1, 0],\n",
       " [1, 1, 0, 1, 1],\n",
       " [1, 1, 1, 0, 0],\n",
       " [1, 1, 1, 0, 1],\n",
       " [1, 1, 1, 1, 0],\n",
       " [1, 1, 1, 1, 1]]"
      ]
     },
     "execution_count": 19,
     "metadata": {},
     "output_type": "execute_result"
    }
   ],
   "source": [
    "R_c"
   ]
  },
  {
   "cell_type": "code",
   "execution_count": 20,
   "id": "f61193de-fffe-4b89-8ccc-a1dc1ec75bf5",
   "metadata": {},
   "outputs": [],
   "source": [
    "# Целевая функция\n",
    "obj = model.sum([calculate_K_un(R) for R in R_c]) / len(R_c)"
   ]
  },
  {
   "cell_type": "code",
   "execution_count": 21,
   "id": "86da00cf-6a20-473d-ae30-bb4b0711c642",
   "metadata": {},
   "outputs": [],
   "source": [
    "# Минимизация целевой функции\n",
    "model.Minimize(obj)"
   ]
  },
  {
   "cell_type": "code",
   "execution_count": 22,
   "id": "4a0f40ae-9a6a-450d-9d7e-b400d42ff644",
   "metadata": {},
   "outputs": [
    {
     "name": "stdout",
     "output_type": "stream",
     "text": [
      "apm 213.193.18.111_gk_model0 <br><pre> ----------------------------------------------------------------\n",
      " APMonitor, Version 1.0.3\n",
      " APMonitor Optimization Suite\n",
      " ----------------------------------------------------------------\n",
      " \n",
      " \n",
      " Warning: there is insufficient data in CSV file 213.193.18.111_gk_model0.csv\n",
      " \n",
      " --------- APM Model Size ------------\n",
      " Each time step contains\n",
      "   Objects      :            1\n",
      "   Constants    :            0\n",
      "   Variables    :           44\n",
      "   Intermediates:            0\n",
      "   Connections  :           32\n",
      "   Equations    :           36\n",
      "   Residuals    :           36\n",
      " \n",
      " Number of state variables:             44\n",
      " Number of total equations: -           36\n",
      " Number of slack variables: -            0\n",
      " ---------------------------------------\n",
      " Degrees of freedom       :              8\n",
      " \n",
      " ----------------------------------------------\n",
      " Steady State Optimization with APOPT Solver\n",
      " ----------------------------------------------\n",
      "Iter:     1 I:  0 Tm:      0.42 NLPi:   14 Dpth:    0 Lvs:    3 Obj:  5.26E-01 Gap:       NaN\n",
      "Iter:     2 I: -1 Tm:      0.12 NLPi:    1 Dpth:    1 Lvs:    2 Obj:  5.26E-01 Gap:       NaN\n",
      "Iter:     3 I:-11 Tm:      0.36 NLPi:   13 Dpth:    1 Lvs:    1 Obj:  5.26E-01 Gap:       NaN\n",
      "Iter:     4 I:  0 Tm:      0.39 NLPi:   14 Dpth:    1 Lvs:    3 Obj:  5.21E-01 Gap:       NaN\n",
      "Iter:     5 I: -1 Tm:      0.05 NLPi:    1 Dpth:    2 Lvs:    2 Obj:  5.21E-01 Gap:       NaN\n",
      "Iter:     6 I:  0 Tm:      0.35 NLPi:   13 Dpth:    2 Lvs:    4 Obj:  5.21E-01 Gap:       NaN\n",
      "--Integer Solution:   5.64E-01 Lowest Leaf:   5.21E-01 Gap:   4.33E-02\n",
      "Iter:     7 I:  0 Tm:      0.08 NLPi:    3 Dpth:    3 Lvs:    3 Obj:  5.64E-01 Gap:  4.33E-02\n",
      "Iter:     8 I:  0 Tm:      0.32 NLPi:   12 Dpth:    3 Lvs:    5 Obj:  5.22E-01 Gap:  4.33E-02\n",
      "Iter:     9 I:  0 Tm:      0.37 NLPi:   14 Dpth:    3 Lvs:    7 Obj:  5.22E-01 Gap:  4.33E-02\n",
      "Iter:    10 I:  0 Tm:      0.39 NLPi:   14 Dpth:    2 Lvs:    9 Obj:  5.21E-01 Gap:  4.33E-02\n",
      "--Integer Solution:   5.64E-01 Lowest Leaf:   5.21E-01 Gap:   4.33E-02\n",
      "Iter:    11 I:  0 Tm:      0.08 NLPi:    3 Dpth:    3 Lvs:    8 Obj:  5.64E-01 Gap:  4.33E-02\n",
      "Iter:    12 I:  0 Tm:      0.23 NLPi:    9 Dpth:    3 Lvs:   10 Obj:  5.22E-01 Gap:  4.33E-02\n",
      "Iter:    13 I:  0 Tm:      0.16 NLPi:    6 Dpth:    3 Lvs:   12 Obj:  5.22E-01 Gap:  4.33E-02\n",
      "--Integer Solution:   5.64E-01 Lowest Leaf:   5.22E-01 Gap:   4.22E-02\n",
      "Iter:    14 I:  0 Tm:      0.08 NLPi:    3 Dpth:    4 Lvs:   11 Obj:  5.85E-01 Gap:  4.22E-02\n",
      "Iter:    15 I:  0 Tm:      0.21 NLPi:    8 Dpth:    4 Lvs:   13 Obj:  5.22E-01 Gap:  4.22E-02\n",
      "Iter:    16 I:  0 Tm:      0.23 NLPi:    9 Dpth:    4 Lvs:   15 Obj:  5.28E-01 Gap:  4.22E-02\n",
      "--Integer Solution:   5.48E-01 Lowest Leaf:   5.22E-01 Gap:   2.62E-02\n",
      "Iter:    17 I:  0 Tm:      0.08 NLPi:    3 Dpth:    4 Lvs:   14 Obj:  5.48E-01 Gap:  2.62E-02\n",
      "Iter:    18 I:  0 Tm:      0.37 NLPi:   14 Dpth:    4 Lvs:   16 Obj:  5.22E-01 Gap:  2.62E-02\n",
      "--Integer Solution:   5.48E-01 Lowest Leaf:   5.22E-01 Gap:   2.66E-02\n",
      "Iter:    19 I:  0 Tm:      0.08 NLPi:    3 Dpth:    5 Lvs:   15 Obj:  5.85E-01 Gap:  2.66E-02\n",
      "Iter:    20 I:  0 Tm:      0.18 NLPi:    7 Dpth:    5 Lvs:   17 Obj:  5.48E-01 Gap:  2.66E-02\n",
      "Iter:    21 I:  0 Tm:      0.42 NLPi:   16 Dpth:    5 Lvs:   19 Obj:  5.22E-01 Gap:  2.66E-02\n",
      "Iter:    22 I:  0 Tm:      0.16 NLPi:    6 Dpth:    4 Lvs:   18 Obj:  5.63E-01 Gap:  2.66E-02\n",
      "Iter:    23 I: -9 Tm:     25.50 NLPi:  251 Dpth:    4 Lvs:   17 Obj:  5.22E-01 Gap:  2.66E-02\n",
      "Iter:    24 I:  0 Tm:      0.21 NLPi:    8 Dpth:    4 Lvs:   19 Obj:  5.40E-01 Gap:  2.66E-02\n",
      "Iter:    25 I:  0 Tm:      0.24 NLPi:    9 Dpth:    4 Lvs:   21 Obj:  5.22E-01 Gap:  2.66E-02\n",
      "--Integer Solution:   5.48E-01 Lowest Leaf:   5.22E-01 Gap:   2.66E-02\n",
      "Iter:    26 I:  0 Tm:      0.08 NLPi:    3 Dpth:    5 Lvs:   20 Obj:  5.85E-01 Gap:  2.66E-02\n",
      "Iter:    27 I:  0 Tm:      0.19 NLPi:    7 Dpth:    5 Lvs:   22 Obj:  5.27E-01 Gap:  2.66E-02\n",
      "Iter:    28 I:  0 Tm:      0.27 NLPi:   10 Dpth:    5 Lvs:   24 Obj:  5.47E-01 Gap:  2.66E-02\n",
      "Iter:    29 I: -9 Tm:     25.53 NLPi:  251 Dpth:    5 Lvs:   23 Obj:  5.22E-01 Gap:  2.66E-02\n",
      "--Integer Solution:   5.48E-01 Lowest Leaf:   5.22E-01 Gap:   2.61E-02\n",
      "Iter:    30 I:  0 Tm:      0.08 NLPi:    3 Dpth:    5 Lvs:   22 Obj:  5.64E-01 Gap:  2.61E-02\n",
      "Iter:    31 I:  0 Tm:      0.16 NLPi:    6 Dpth:    5 Lvs:   24 Obj:  5.47E-01 Gap:  2.61E-02\n",
      "Iter:    32 I: -9 Tm:     25.69 NLPi:  252 Dpth:    6 Lvs:   23 Obj:  5.22E-01 Gap:  2.61E-02\n",
      "--Integer Solution:   5.48E-01 Lowest Leaf:   5.22E-01 Gap:   2.61E-02\n",
      "Iter:    33 I:  0 Tm:      0.11 NLPi:    4 Dpth:    6 Lvs:   22 Obj:  5.64E-01 Gap:  2.61E-02\n",
      "Iter:    34 I:  0 Tm:      0.29 NLPi:   11 Dpth:    6 Lvs:   24 Obj:  5.47E-01 Gap:  2.61E-02\n",
      "Iter:    35 I: -9 Tm:     25.85 NLPi:  253 Dpth:    4 Lvs:   23 Obj:  5.22E-01 Gap:  2.61E-02\n",
      "--Integer Solution:   5.48E-01 Lowest Leaf:   5.22E-01 Gap:   2.61E-02\n",
      "Iter:    36 I:  0 Tm:      0.11 NLPi:    4 Dpth:    4 Lvs:   22 Obj:  5.64E-01 Gap:  2.61E-02\n",
      "Iter:    37 I:  0 Tm:      0.29 NLPi:   11 Dpth:    4 Lvs:   24 Obj:  5.22E-01 Gap:  2.61E-02\n",
      "--Integer Solution:   5.48E-01 Lowest Leaf:   5.22E-01 Gap:   2.62E-02\n",
      "Iter:    38 I:  0 Tm:      0.08 NLPi:    3 Dpth:    5 Lvs:   23 Obj:  5.85E-01 Gap:  2.62E-02\n",
      "Iter:    39 I:  0 Tm:      0.19 NLPi:    7 Dpth:    5 Lvs:   25 Obj:  5.47E-01 Gap:  2.62E-02\n",
      "Iter:    40 I:  0 Tm:      0.21 NLPi:    8 Dpth:    5 Lvs:   27 Obj:  5.28E-01 Gap:  2.62E-02\n",
      "--Integer Solution:   5.48E-01 Lowest Leaf:   5.27E-01 Gap:   2.17E-02\n",
      "Iter:    41 I:  0 Tm:      0.08 NLPi:    3 Dpth:    6 Lvs:   26 Obj:  5.48E-01 Gap:  2.17E-02\n",
      "--Integer Solution:   5.48E-01 Lowest Leaf:   5.27E-01 Gap:   2.17E-02\n",
      "Iter:    42 I:  0 Tm:      0.08 NLPi:    3 Dpth:    6 Lvs:   25 Obj:  5.65E-01 Gap:  2.17E-02\n",
      "Iter:    43 I:  0 Tm:      0.16 NLPi:    6 Dpth:    6 Lvs:   27 Obj:  5.48E-01 Gap:  2.17E-02\n",
      "--Integer Solution:   5.48E-01 Lowest Leaf:   5.28E-01 Gap:   2.06E-02\n",
      "Iter:    44 I:  0 Tm:      0.08 NLPi:    3 Dpth:    6 Lvs:   26 Obj:  5.48E-01 Gap:  2.06E-02\n",
      "--Integer Solution:   5.48E-01 Lowest Leaf:   5.28E-01 Gap:   2.06E-02\n",
      "Iter:    45 I:  0 Tm:      0.08 NLPi:    3 Dpth:    6 Lvs:   25 Obj:  5.72E-01 Gap:  2.06E-02\n",
      "Iter:    46 I:  0 Tm:      0.16 NLPi:    6 Dpth:    6 Lvs:   27 Obj:  5.48E-01 Gap:  2.06E-02\n",
      "--Integer Solution:   5.48E-01 Lowest Leaf:   5.28E-01 Gap:   2.06E-02\n",
      "Iter:    47 I:  0 Tm:      0.08 NLPi:    3 Dpth:    5 Lvs:   26 Obj:  5.48E-01 Gap:  2.06E-02\n",
      "Iter:    48 I:  0 Tm:      0.18 NLPi:    7 Dpth:    5 Lvs:   25 Obj:  5.68E-01 Gap:  2.06E-02\n",
      "Iter:    49 I:  0 Tm:      0.16 NLPi:    6 Dpth:    5 Lvs:   27 Obj:  5.48E-01 Gap:  2.06E-02\n",
      "--Integer Solution:   5.48E-01 Lowest Leaf:   5.40E-01 Gap:   8.21E-03\n",
      "Iter:    50 I:  0 Tm:      0.08 NLPi:    3 Dpth:    5 Lvs:   27 Obj:  5.64E-01 Gap:  8.21E-03\n",
      " Successful solution\n",
      " \n",
      " ---------------------------------------------------\n",
      " Solver         :  APOPT (v1.0)\n",
      " Solution time  :    111.363699999987      sec\n",
      " Objective      :   0.548226504678118     \n",
      " Successful solution\n",
      " ---------------------------------------------------\n",
      " \n"
     ]
    }
   ],
   "source": [
    "# Решение\n",
    "model.solve()"
   ]
  },
  {
   "cell_type": "code",
   "execution_count": 23,
   "id": "d1b27942-d95e-4b3e-8769-1b8dd29c544d",
   "metadata": {},
   "outputs": [
    {
     "data": {
      "text/plain": [
       "array([[[1.0], [0.0], [0.0]],\n",
       "       [[0.0], [0.0], [1.0]],\n",
       "       [[0.0], [0.0], [1.0]],\n",
       "       [[0.0], [1.0], [0.0]]], dtype=object)"
      ]
     },
     "execution_count": 23,
     "metadata": {},
     "output_type": "execute_result"
    }
   ],
   "source": [
    "# Ответ\n",
    "Efp"
   ]
  },
  {
   "cell_type": "code",
   "execution_count": null,
   "id": "c301edba-c284-4130-a7ab-2705e8738a85",
   "metadata": {},
   "outputs": [],
   "source": []
  }
 ],
 "metadata": {
  "kernelspec": {
   "display_name": "Python 3 (ipykernel)",
   "language": "python",
   "name": "python3"
  },
  "language_info": {
   "codemirror_mode": {
    "name": "ipython",
    "version": 3
   },
   "file_extension": ".py",
   "mimetype": "text/x-python",
   "name": "python",
   "nbconvert_exporter": "python",
   "pygments_lexer": "ipython3",
   "version": "3.12.1"
  }
 },
 "nbformat": 4,
 "nbformat_minor": 5
}
