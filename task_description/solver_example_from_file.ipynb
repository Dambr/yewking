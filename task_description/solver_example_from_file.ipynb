{
 "cells": [
  {
   "cell_type": "code",
   "execution_count": 1,
   "id": "3684a6a0-1353-4b0c-8544-010a508ab258",
   "metadata": {},
   "outputs": [],
   "source": [
    "import numpy as np\n",
    "import pandas as pd\n",
    "import matplotlib.pyplot as plt\n",
    "import json"
   ]
  },
  {
   "cell_type": "code",
   "execution_count": 2,
   "id": "41d6082c-1ad1-4939-a7ea-e1fc811cfa97",
   "metadata": {},
   "outputs": [],
   "source": [
    "from ipywidgets import IntProgress\n",
    "from IPython.display import display"
   ]
  },
  {
   "cell_type": "code",
   "execution_count": 3,
   "id": "9bdd06e9-7620-4916-96a8-ea572b5cbd93",
   "metadata": {},
   "outputs": [],
   "source": [
    "from dependencies_calculator import DependenciesCalculator\n",
    "from cost_calculator_factory import CostCalculatorFactory\n",
    "from multibinary_converter import MultiBinaryConverter\n",
    "from multidiscrete_converter import MultiDiscreteConverter\n",
    "from fitness_calculator import FitnessCalculator"
   ]
  },
  {
   "cell_type": "code",
   "execution_count": 4,
   "id": "e7ecfea4-a041-4b42-a61b-aef8e0f19fcd",
   "metadata": {},
   "outputs": [],
   "source": [
    "from genetic_multibinary_space_config import GeneticMultiBinarySpaceConfig\n",
    "from genetic_multidiscrete_space_config import GeneticMultiDiscreteSpaceConfig\n",
    "from genetic_config import GeneticConfig\n",
    "from genetic_solver import GeneticSolver"
   ]
  },
  {
   "cell_type": "code",
   "execution_count": 5,
   "id": "56548ac4-b039-4101-9aa7-6ff004e08a38",
   "metadata": {},
   "outputs": [],
   "source": [
    "import warnings\n",
    "warnings.filterwarnings(\"ignore\")"
   ]
  },
  {
   "cell_type": "code",
   "execution_count": 6,
   "id": "cd442b60-aac2-4867-b9da-735e88878f56",
   "metadata": {},
   "outputs": [],
   "source": [
    "M = 10 ** 6"
   ]
  },
  {
   "cell_type": "code",
   "execution_count": 7,
   "id": "c131572f-ac38-48d1-8f47-04d39e06fdde",
   "metadata": {},
   "outputs": [],
   "source": [
    "read_matrix = lambda path: pd.read_csv(path, index_col=0, encoding='utf-8').to_numpy()"
   ]
  },
  {
   "cell_type": "code",
   "execution_count": 8,
   "id": "cbdf13d4-188f-4b1b-932f-0a2e8f4bba05",
   "metadata": {},
   "outputs": [],
   "source": [
    "C = read_matrix('../publication_4/script/out/C.csv')"
   ]
  },
  {
   "cell_type": "code",
   "execution_count": 9,
   "id": "73e5de03-1c9d-4271-a746-b3bbbd0c47d9",
   "metadata": {},
   "outputs": [],
   "source": [
    "D = read_matrix('../publication_4/script/out/D.csv')"
   ]
  },
  {
   "cell_type": "code",
   "execution_count": 10,
   "id": "fe95c1fe-3edb-4db8-840b-072a6ce40fcc",
   "metadata": {},
   "outputs": [],
   "source": [
    "Q = read_matrix('../publication_4/script/out/Q.csv')"
   ]
  },
  {
   "cell_type": "code",
   "execution_count": 11,
   "id": "51feb70b-33ff-49a2-a714-a5dbeca595a9",
   "metadata": {},
   "outputs": [],
   "source": [
    "R = read_matrix('../publication_4/script/out/R.csv')"
   ]
  },
  {
   "cell_type": "code",
   "execution_count": 12,
   "id": "fde82691-2270-4065-a364-713d8e32b610",
   "metadata": {},
   "outputs": [],
   "source": [
    "constants_file = open('../publication_4/script/out/constants.json', 'r', encoding='utf-8')\n",
    "constants_data = constants_file.read()\n",
    "constants_file.close()\n",
    "constants = json.loads(constants_data)"
   ]
  },
  {
   "cell_type": "code",
   "execution_count": 13,
   "id": "48159830-44c9-4cc7-bbd2-7c1dd19ec1df",
   "metadata": {},
   "outputs": [],
   "source": [
    "n = constants['n']\n",
    "m = constants['m']\n",
    "l = constants['l']"
   ]
  },
  {
   "cell_type": "code",
   "execution_count": 14,
   "id": "2613adb6-4bb8-4714-a2f6-ef005a84310c",
   "metadata": {},
   "outputs": [],
   "source": [
    "# solver_name = 'cbc'"
   ]
  },
  {
   "cell_type": "code",
   "execution_count": 15,
   "id": "4c5fef6f-0fd9-4003-badd-79f6c09ff709",
   "metadata": {},
   "outputs": [
    {
     "data": {
      "application/vnd.jupyter.widget-view+json": {
       "model_id": "70607ea02e3347658fba5ff144594a83",
       "version_major": 2,
       "version_minor": 0
      },
      "text/plain": [
       "IntProgress(value=0, bar_style='success', description='deps', max=124)"
      ]
     },
     "metadata": {},
     "output_type": "display_data"
    }
   ],
   "source": [
    "calculate_deps_progress = IntProgress(min=0, max=m, value=0, description='deps', bar_style='success')\n",
    "display(calculate_deps_progress)\n",
    "deps_calculator = DependenciesCalculator(D, m, calculate_deps_progress)\n",
    "sum_D = deps_calculator.calculate()"
   ]
  },
  {
   "cell_type": "code",
   "execution_count": 16,
   "id": "01088794-1ebb-4766-8fe2-bbc556562c34",
   "metadata": {},
   "outputs": [],
   "source": [
    "def calculate(k):\n",
    "    config = GeneticConfig()\n",
    "    multidiscrete_converter = MultiDiscreteConverter(m, k)\n",
    "    cost_calculator_factory = CostCalculatorFactory(Q, sum_D, C, R)\n",
    "    multidiscrete_fitness_calculator = FitnessCalculator(M, cost_calculator_factory, multidiscrete_converter)\n",
    "    multidiscrete_space_config = GeneticMultiDiscreteSpaceConfig(m, k)\n",
    "    multidiscrete_config = GeneticConfig()\n",
    "    multibinary_progress = IntProgress(min=0, max=config.num_generations, value=0, description=str(k), bar_style='success')\n",
    "    multidiscrete_genetic_solver = GeneticSolver(config, multidiscrete_space_config, multidiscrete_fitness_calculator, multibinary_progress)\n",
    "    # display(multibinary_progress)\n",
    "    best_solution, best_fitness, best_idx, duration = multidiscrete_genetic_solver.solve()\n",
    "    A = multidiscrete_converter.convert(best_solution)\n",
    "    cost_calculator = cost_calculator_factory.get_cost_calculator(A)\n",
    "    cost = cost_calculator.calculate()\n",
    "    return cost"
   ]
  },
  {
   "cell_type": "code",
   "execution_count": 17,
   "id": "a8642a97-6b37-4a53-a603-aa9dacdb2340",
   "metadata": {},
   "outputs": [],
   "source": [
    "k_to_cost = {}"
   ]
  },
  {
   "cell_type": "code",
   "execution_count": 18,
   "id": "10d3b075-93f2-43ff-b845-7fe1bdd590ed",
   "metadata": {},
   "outputs": [
    {
     "data": {
      "application/vnd.jupyter.widget-view+json": {
       "model_id": "12601d05837445829c054e9d85feddb6",
       "version_major": 2,
       "version_minor": 0
      },
      "text/plain": [
       "IntProgress(value=0, bar_style='success', description='progress', max=50)"
      ]
     },
     "metadata": {},
     "output_type": "display_data"
    }
   ],
   "source": [
    "count = 50\n",
    "progress = IntProgress(min=0, max=count, value=0, description='progress', bar_style='success')\n",
    "display(progress)\n",
    "for k in range(1, count + 1):\n",
    "    cost = calculate(k)\n",
    "    k_to_cost[k] = cost\n",
    "    progress.value += 1"
   ]
  },
  {
   "cell_type": "code",
   "execution_count": 19,
   "id": "f236db47-3aa3-4149-b1a7-c9fb1d49cef3",
   "metadata": {},
   "outputs": [],
   "source": [
    "x = []\n",
    "y = []"
   ]
  },
  {
   "cell_type": "code",
   "execution_count": 20,
   "id": "eed6401a-ee59-4144-b8ee-0e0bbbfe63f2",
   "metadata": {},
   "outputs": [],
   "source": [
    "for key in k_to_cost.keys():\n",
    "    x.append(key)\n",
    "    y.append(k_to_cost[key])"
   ]
  },
  {
   "cell_type": "code",
   "execution_count": 21,
   "id": "20016518-d75d-434c-9d2e-55f6258d7712",
   "metadata": {},
   "outputs": [
    {
     "data": {
      "text/plain": [
       "[<matplotlib.lines.Line2D at 0x1109a7890>]"
      ]
     },
     "execution_count": 21,
     "metadata": {},
     "output_type": "execute_result"
    },
    {
     "data": {
      "image/png": "[encoded data removed]",
      "text/plain": [
       "<Figure size 640x480 with 1 Axes>"
      ]
     },
     "metadata": {},
     "output_type": "display_data"
    }
   ],
   "source": [
    "plt.plot(x, y)"
   ]
  },
  {
   "cell_type": "code",
   "execution_count": null,
   "id": "18fc82b5-9d2c-428e-8fb3-351235b3d0df",
   "metadata": {},
   "outputs": [],
   "source": []
  }
 ],
 "metadata": {
  "kernelspec": {
   "display_name": "Python 3 (ipykernel)",
   "language": "python",
   "name": "python3"
  },
  "language_info": {
   "codemirror_mode": {
    "name": "ipython",
    "version": 3
   },
   "file_extension": ".py",
   "mimetype": "text/x-python",
   "name": "python",
   "nbconvert_exporter": "python",
   "pygments_lexer": "ipython3",
   "version": "3.12.1"
  }
 },
 "nbformat": 4,
 "nbformat_minor": 5
}
