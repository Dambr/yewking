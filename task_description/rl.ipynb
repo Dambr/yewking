{
 "cells": [
  {
   "cell_type": "code",
   "execution_count": 1,
   "id": "bbd2fc12-3ea2-4f9b-ab9c-d622a557686d",
   "metadata": {},
   "outputs": [],
   "source": [
    "import numpy as np"
   ]
  },
  {
   "cell_type": "code",
   "execution_count": 2,
   "id": "0c3dd8e5-8687-45e6-8a80-2ece83ec40a8",
   "metadata": {},
   "outputs": [],
   "source": [
    "from stable_baselines3 import PPO\n",
    "from stable_baselines3 import A2C\n",
    "from stable_baselines3.common.env_checker import check_env"
   ]
  },
  {
   "cell_type": "code",
   "execution_count": 3,
   "id": "8839ed63-9536-424d-b003-49003e409a72",
   "metadata": {},
   "outputs": [],
   "source": [
    "from ipywidgets import IntProgress\n",
    "from IPython.display import display"
   ]
  },
  {
   "cell_type": "code",
   "execution_count": 4,
   "id": "cca26f2d-295a-4565-9dd2-6044ba2e016e",
   "metadata": {},
   "outputs": [],
   "source": [
    "from dependencies_calculator import DependenciesCalculator\n",
    "from cost_calculator_factory import CostCalculatorFactory\n",
    "from multibinary_converter import MultiBinaryConverter\n",
    "from multidiscrete_converter import MultiDiscreteConverter\n",
    "from fitness_calculator import FitnessCalculator"
   ]
  },
  {
   "cell_type": "code",
   "execution_count": 5,
   "id": "740d9d52-4f37-435d-9446-b3b9ac551c7c",
   "metadata": {},
   "outputs": [],
   "source": [
    "from rl_multibinary_config import RlMultiBinaryConfig\n",
    "from rl_multidiscrete_config import RlMultiDiscreteConfig\n",
    "from rl_graphic import RlGraphic\n",
    "from rl_env import RlEnv\n",
    "from rl_solver import RlSolver"
   ]
  },
  {
   "cell_type": "code",
   "execution_count": 6,
   "id": "b3e1be80-23ca-4e00-8a1c-df5704db2008",
   "metadata": {},
   "outputs": [],
   "source": [
    "dtype = np.int64"
   ]
  },
  {
   "cell_type": "code",
   "execution_count": 7,
   "id": "9ba1bbed-80ad-4ac4-907c-8428d64af253",
   "metadata": {},
   "outputs": [],
   "source": [
    "l = 1\n",
    "n = 5\n",
    "m = 4\n",
    "k = 3"
   ]
  },
  {
   "cell_type": "code",
   "execution_count": 8,
   "id": "1b36c5ad-60cd-4414-b631-34a8133269e9",
   "metadata": {},
   "outputs": [],
   "source": [
    "Q = np.array([\n",
    "    [  1,   0,   0,   0],\n",
    "    [0.5, 0.5,   0,   0],\n",
    "    [  0, 0.5, 0.5,   0],\n",
    "    [  0,   0, 0.5, 0.5],\n",
    "    [  0,   0,   0,   1]\n",
    "])"
   ]
  },
  {
   "cell_type": "code",
   "execution_count": 9,
   "id": "7056b7ba-1261-4e15-bab3-32601e13f791",
   "metadata": {},
   "outputs": [],
   "source": [
    "D = np.array([\n",
    "    [0, 0, 1, 0],\n",
    "    [0, 0, 1, 1],\n",
    "    [0, 0, 0, 0],\n",
    "    [0, 0, 0, 0]\n",
    "])"
   ]
  },
  {
   "cell_type": "code",
   "execution_count": 10,
   "id": "ddf49652-f8fa-43d5-bca1-79e13cdfdf66",
   "metadata": {},
   "outputs": [],
   "source": [
    "C = np.array([\n",
    "    [1, 1, 1, 1, 1],\n",
    "    [1, 1, 1, 1, 1],\n",
    "    [1, 1, 1, 1, 1],\n",
    "    [1, 1, 1, 1, 1],\n",
    "    [1, 1, 1, 1, 1]\n",
    "])"
   ]
  },
  {
   "cell_type": "code",
   "execution_count": 11,
   "id": "3424a687-6bd2-4231-b00b-da6ed2987f47",
   "metadata": {},
   "outputs": [],
   "source": [
    "R = np.array([\n",
    "    [1, 0, 0, 0, 0]\n",
    "])"
   ]
  },
  {
   "cell_type": "code",
   "execution_count": null,
   "id": "c5e70767-a2a9-4f48-abec-4e88dd9e757f",
   "metadata": {},
   "outputs": [],
   "source": []
  },
  {
   "cell_type": "code",
   "execution_count": 12,
   "id": "9606bafd-e5a3-4bb2-95ad-91e385bc4f47",
   "metadata": {},
   "outputs": [
    {
     "data": {
      "application/vnd.jupyter.widget-view+json": {
       "model_id": "8df326eb652f48cf93dc775d97286e69",
       "version_major": 2,
       "version_minor": 0
      },
      "text/plain": [
       "IntProgress(value=0, bar_style='success', description='deps', max=4)"
      ]
     },
     "metadata": {},
     "output_type": "display_data"
    }
   ],
   "source": [
    "calculate_deps_progress = IntProgress(min=0, max=m, value=0, description='deps', bar_style='success')\n",
    "display(calculate_deps_progress)\n",
    "deps_calculator = DependenciesCalculator(D, m, calculate_deps_progress)\n",
    "sum_D = deps_calculator.calculate()"
   ]
  },
  {
   "cell_type": "code",
   "execution_count": 13,
   "id": "c8026d64-6ff7-49c3-bb4e-696ddc176eba",
   "metadata": {},
   "outputs": [],
   "source": [
    "M = 10**6"
   ]
  },
  {
   "cell_type": "code",
   "execution_count": 14,
   "id": "2be3cd08-0ef9-4404-b5ca-7273948b6a30",
   "metadata": {},
   "outputs": [],
   "source": [
    "total_timesteps = 2000"
   ]
  },
  {
   "cell_type": "code",
   "execution_count": 15,
   "id": "90f7edb3-21a2-46ab-839e-c852ca7b2949",
   "metadata": {},
   "outputs": [],
   "source": [
    "cost_calculator_factory = CostCalculatorFactory(Q, sum_D, C, R)"
   ]
  },
  {
   "cell_type": "code",
   "execution_count": null,
   "id": "2707e6c0-5431-490f-a5f9-4d4b03f8d11a",
   "metadata": {},
   "outputs": [],
   "source": []
  },
  {
   "cell_type": "code",
   "execution_count": 16,
   "id": "a02a64ef-b8bc-46d6-a8c6-ab34f4a5462b",
   "metadata": {},
   "outputs": [],
   "source": [
    "# MultiBinary"
   ]
  },
  {
   "cell_type": "code",
   "execution_count": 17,
   "id": "3706202f-cec8-4042-8771-9db4c7be5802",
   "metadata": {},
   "outputs": [],
   "source": [
    "multibinary_config = RlMultiBinaryConfig(m, k, dtype)"
   ]
  },
  {
   "cell_type": "code",
   "execution_count": 18,
   "id": "cdd01519-2254-4f58-b965-6436b60658a6",
   "metadata": {},
   "outputs": [],
   "source": [
    "multibinary_converter = MultiBinaryConverter(m, k)\n",
    "multibinary_fitness_calcultor = FitnessCalculator(M, cost_calculator_factory, multibinary_converter)"
   ]
  },
  {
   "cell_type": "code",
   "execution_count": 19,
   "id": "e38956ec-9e8c-4145-9373-ac869cadc856",
   "metadata": {},
   "outputs": [
    {
     "data": {
      "application/vnd.jupyter.widget-view+json": {
       "model_id": "34df5ce6ad624ae1ba8595651c8e4967",
       "version_major": 2,
       "version_minor": 0
      },
      "text/plain": [
       "IntProgress(value=0, bar_style='success', description='multibinary', max=2000)"
      ]
     },
     "metadata": {},
     "output_type": "display_data"
    }
   ],
   "source": [
    "multibinary_progress = IntProgress(min=0, max=total_timesteps, value=0, description='multibinary', bar_style='success')\n",
    "display(multibinary_progress)"
   ]
  },
  {
   "cell_type": "code",
   "execution_count": 20,
   "id": "3bb7b485-218a-496b-9ba8-d8b01f612327",
   "metadata": {},
   "outputs": [],
   "source": [
    "multibinary_graphic = RlGraphic('multibinary')\n",
    "multibinary_optimisation_task_env = RlEnv(M, multibinary_config, multibinary_fitness_calcultor, multibinary_progress, multibinary_graphic)\n",
    "check_env(multibinary_optimisation_task_env)\n",
    "# policies: MlpPolicy\n",
    "# algorithms: A2C, PPO\n",
    "multibinary_model = A2C(\"MlpPolicy\", multibinary_optimisation_task_env)"
   ]
  },
  {
   "cell_type": "code",
   "execution_count": 21,
   "id": "d8812d1a-510c-4be6-ab93-17be8ee24d95",
   "metadata": {},
   "outputs": [
    {
     "data": {
      "text/plain": [
       "(-1, array([1, 0, 0, 0, 1, 0, 1, 0, 0, 0, 0, 1]), 6.83244514465332)"
      ]
     },
     "execution_count": 21,
     "metadata": {},
     "output_type": "execute_result"
    }
   ],
   "source": [
    "rl_multibinary_solver = RlSolver(multibinary_model, total_timesteps)\n",
    "rl_multibinary_solver.solve()"
   ]
  },
  {
   "cell_type": "code",
   "execution_count": null,
   "id": "e8d9c1dd-8065-4c57-9973-d3c72dcfe209",
   "metadata": {},
   "outputs": [],
   "source": []
  },
  {
   "cell_type": "code",
   "execution_count": 22,
   "id": "91b2e9a2-356a-4936-8725-135daddb530f",
   "metadata": {},
   "outputs": [],
   "source": [
    "# MultiDiscrete"
   ]
  },
  {
   "cell_type": "code",
   "execution_count": 23,
   "id": "ca0aa85d-f5a1-44af-9953-73470a041297",
   "metadata": {},
   "outputs": [],
   "source": [
    "multidiscrete_config = RlMultiDiscreteConfig(m, k, dtype)"
   ]
  },
  {
   "cell_type": "code",
   "execution_count": 24,
   "id": "3ea00b49-6b72-4e06-88b1-0de5ca28c542",
   "metadata": {},
   "outputs": [],
   "source": [
    "multidiscrete_converter = MultiDiscreteConverter(m, k)\n",
    "multidiscrete_fitness_calculator = FitnessCalculator(M, cost_calculator_factory, multidiscrete_converter)"
   ]
  },
  {
   "cell_type": "code",
   "execution_count": 25,
   "id": "f60c416f-b091-4252-afb7-5263fe51bfe3",
   "metadata": {},
   "outputs": [
    {
     "data": {
      "application/vnd.jupyter.widget-view+json": {
       "model_id": "ac50c4da169740f0b260659f9d5470f4",
       "version_major": 2,
       "version_minor": 0
      },
      "text/plain": [
       "IntProgress(value=0, bar_style='success', description='multidiscrete', max=2000)"
      ]
     },
     "metadata": {},
     "output_type": "display_data"
    }
   ],
   "source": [
    "multidiscrete_progress = IntProgress(min=0, max=total_timesteps, value=0, description='multidiscrete', bar_style='success')\n",
    "display(multidiscrete_progress)"
   ]
  },
  {
   "cell_type": "code",
   "execution_count": 26,
   "id": "d67ac0ef-b35e-4b43-89f8-c01b3280f106",
   "metadata": {},
   "outputs": [],
   "source": [
    "multidiscrete_graphic = RlGraphic('multidiscrete')\n",
    "multidiscrete_optimisation_task_env = RlEnv(M, multidiscrete_config, multidiscrete_fitness_calculator, multidiscrete_progress, multidiscrete_graphic)\n",
    "check_env(multidiscrete_optimisation_task_env)\n",
    "multidiscrete_model = A2C(\"MlpPolicy\", multidiscrete_optimisation_task_env)"
   ]
  },
  {
   "cell_type": "code",
   "execution_count": 27,
   "id": "6c250d10-d3bf-4182-a14b-1caf1b067b7f",
   "metadata": {},
   "outputs": [
    {
     "data": {
      "text/plain": [
       "(-1, array([2, 0, 2, 1]), 12.221306085586548)"
      ]
     },
     "execution_count": 27,
     "metadata": {},
     "output_type": "execute_result"
    }
   ],
   "source": [
    "rl_multidiscrete_solver = RlSolver(multidiscrete_model, total_timesteps)\n",
    "rl_multidiscrete_solver.solve()"
   ]
  },
  {
   "cell_type": "code",
   "execution_count": null,
   "id": "a3f1c3c2-4c7e-4490-be21-fa6e552d3c4b",
   "metadata": {},
   "outputs": [],
   "source": []
  },
  {
   "cell_type": "code",
   "execution_count": 28,
   "id": "de5b7b50-c0b3-4493-be20-fe0c4ad533a2",
   "metadata": {},
   "outputs": [
    {
     "data": {
      "image/png": "[encoded data removed]",
      "text/plain": [
       "<Figure size 640x480 with 1 Axes>"
      ]
     },
     "metadata": {},
     "output_type": "display_data"
    }
   ],
   "source": [
    "rl_multibinary_solver.plot()"
   ]
  },
  {
   "cell_type": "code",
   "execution_count": 29,
   "id": "55b74f87-467e-43eb-a111-e9efe8ed8324",
   "metadata": {},
   "outputs": [
    {
     "data": {
      "image/png": "[encoded data removed]",
      "text/plain": [
       "<Figure size 640x480 with 1 Axes>"
      ]
     },
     "metadata": {},
     "output_type": "display_data"
    }
   ],
   "source": [
    "rl_multidiscrete_solver.plot()"
   ]
  },
  {
   "cell_type": "code",
   "execution_count": null,
   "id": "2baf201b-132a-4722-bef6-e85e78e14319",
   "metadata": {},
   "outputs": [],
   "source": []
  }
 ],
 "metadata": {
  "kernelspec": {
   "display_name": "Python 3 (ipykernel)",
   "language": "python",
   "name": "python3"
  },
  "language_info": {
   "codemirror_mode": {
    "name": "ipython",
    "version": 3
   },
   "file_extension": ".py",
   "mimetype": "text/x-python",
   "name": "python",
   "nbconvert_exporter": "python",
   "pygments_lexer": "ipython3",
   "version": "3.12.1"
  }
 },
 "nbformat": 4,
 "nbformat_minor": 5
}
