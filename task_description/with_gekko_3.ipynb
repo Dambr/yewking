{
 "cells": [
  {
   "cell_type": "code",
   "execution_count": 1,
   "id": "c0a32593-2683-4644-9be6-bf0c62347bd0",
   "metadata": {},
   "outputs": [],
   "source": [
    "from gekko import GEKKO"
   ]
  },
  {
   "cell_type": "code",
   "execution_count": 2,
   "id": "9a5eb547-cb8a-4654-8a5a-b28d97aade04",
   "metadata": {},
   "outputs": [],
   "source": [
    "import numpy as np"
   ]
  },
  {
   "cell_type": "code",
   "execution_count": 3,
   "id": "7ac7b5cf-2ecb-456b-9464-6b747c6e14ff",
   "metadata": {},
   "outputs": [],
   "source": [
    "# Инициализация модели\n",
    "m = GEKKO(remote=False)"
   ]
  },
  {
   "cell_type": "code",
   "execution_count": 4,
   "id": "5fde0ddd-260f-4fff-bc8e-674f7aa4525e",
   "metadata": {},
   "outputs": [],
   "source": [
    "# Решатель\n",
    "m.options.SOLVER = 1"
   ]
  },
  {
   "cell_type": "code",
   "execution_count": 5,
   "id": "10ded665-b5a7-42d0-8f41-9961f56ccae9",
   "metadata": {},
   "outputs": [],
   "source": [
    "x = m.Array(m.Var, (4, 4), integer = True, lb = -1, ub = 10)"
   ]
  },
  {
   "cell_type": "code",
   "execution_count": 6,
   "id": "4cbff4b0-a5e1-4f4c-97f0-aee70ac3cf0c",
   "metadata": {},
   "outputs": [],
   "source": [
    "def fun():\n",
    "    return m.sum(x[0])"
   ]
  },
  {
   "cell_type": "code",
   "execution_count": 7,
   "id": "86da00cf-6a20-473d-ae30-bb4b0711c642",
   "metadata": {},
   "outputs": [],
   "source": [
    "m.Minimize(fun())"
   ]
  },
  {
   "cell_type": "code",
   "execution_count": 8,
   "id": "68983f3b-bb5a-4eb5-bbf4-4b414df25ba1",
   "metadata": {},
   "outputs": [
    {
     "name": "stdout",
     "output_type": "stream",
     "text": [
      " ----------------------------------------------------------------\n",
      " APMonitor, Version 1.0.3\n",
      " APMonitor Optimization Suite\n",
      " ----------------------------------------------------------------\n",
      " \n",
      " \n",
      " --------- APM Model Size ------------\n",
      " Each time step contains\n",
      "   Objects      :            0\n",
      "   Constants    :            0\n",
      "   Variables    :           16\n",
      "   Intermediates:            0\n",
      "   Connections  :            0\n",
      "   Equations    :            1\n",
      "   Residuals    :            1\n",
      " \n",
      " Number of state variables:             16\n",
      " Number of total equations: -            0\n",
      " Number of slack variables: -            0\n",
      " ---------------------------------------\n",
      " Degrees of freedom       :             16\n",
      " \n",
      " ----------------------------------------------\n",
      " Steady State Optimization with APOPT Solver\n",
      " ----------------------------------------------\n",
      "Iter:     1 I:  0 Tm:      0.00 NLPi:    2 Dpth:    0 Lvs:    0 Obj: -4.00E+00 Gap:  0.00E+00\n",
      " Successful solution\n",
      " \n",
      " ---------------------------------------------------\n",
      " Solver         :  APOPT (v1.0)\n",
      " Solution time  :   3.459999999904539E-002 sec\n",
      " Objective      :   -4.00000000000000     \n",
      " Successful solution\n",
      " ---------------------------------------------------\n",
      " \n",
      "\n"
     ]
    }
   ],
   "source": [
    "m.solve()"
   ]
  },
  {
   "cell_type": "code",
   "execution_count": 9,
   "id": "5a229994-c183-471b-b2ee-95510d4fe6cc",
   "metadata": {},
   "outputs": [
    {
     "data": {
      "text/plain": [
       "array([[[-1.0], [-1.0], [-1.0], [-1.0]],\n",
       "       [[0.0], [0.0], [0.0], [0.0]],\n",
       "       [[0.0], [0.0], [0.0], [0.0]],\n",
       "       [[0.0], [0.0], [0.0], [0.0]]], dtype=object)"
      ]
     },
     "execution_count": 9,
     "metadata": {},
     "output_type": "execute_result"
    }
   ],
   "source": [
    "x"
   ]
  },
  {
   "cell_type": "code",
   "execution_count": null,
   "id": "e7c03f18-34ca-4bfd-b068-0ebb06f76913",
   "metadata": {},
   "outputs": [],
   "source": []
  }
 ],
 "metadata": {
  "kernelspec": {
   "display_name": "Python 3 (ipykernel)",
   "language": "python",
   "name": "python3"
  },
  "language_info": {
   "codemirror_mode": {
    "name": "ipython",
    "version": 3
   },
   "file_extension": ".py",
   "mimetype": "text/x-python",
   "name": "python",
   "nbconvert_exporter": "python",
   "pygments_lexer": "ipython3",
   "version": "3.12.1"
  }
 },
 "nbformat": 4,
 "nbformat_minor": 5
}
