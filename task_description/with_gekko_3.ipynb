{
 "cells": [
  {
   "cell_type": "code",
   "execution_count": 1,
   "id": "c0a32593-2683-4644-9be6-bf0c62347bd0",
   "metadata": {},
   "outputs": [],
   "source": [
    "from gekko import GEKKO"
   ]
  },
  {
   "cell_type": "code",
   "execution_count": 2,
   "id": "9a5eb547-cb8a-4654-8a5a-b28d97aade04",
   "metadata": {},
   "outputs": [],
   "source": [
    "import numpy as np"
   ]
  },
  {
   "cell_type": "code",
   "execution_count": 3,
   "id": "7ac7b5cf-2ecb-456b-9464-6b747c6e14ff",
   "metadata": {},
   "outputs": [],
   "source": [
    "# Инициализация модели\n",
    "m = GEKKO(remote=False)"
   ]
  },
  {
   "cell_type": "code",
   "execution_count": 4,
   "id": "5fde0ddd-260f-4fff-bc8e-674f7aa4525e",
   "metadata": {},
   "outputs": [],
   "source": [
    "# Решатель APOPT\n",
    "m.options.SOLVER = 1"
   ]
  },
  {
   "cell_type": "code",
   "execution_count": 5,
   "id": "016941a6-2398-46b7-8002-ed58b41e21f6",
   "metadata": {},
   "outputs": [],
   "source": [
    "R = np.array([0, 0, 1, 0, 0])"
   ]
  },
  {
   "cell_type": "code",
   "execution_count": 6,
   "id": "a05d7a82-6803-4145-a97e-e0cea360fe42",
   "metadata": {},
   "outputs": [],
   "source": [
    "Erf = np.array([[  1,   0,   0,   0],\n",
    "                [0.5, 0.5,   0,   0],\n",
    "                [  0, 0.5, 0.5,   0],\n",
    "                [  0,   0, 0.5, 0.5],\n",
    "                [  0,   0,   0,   1]])"
   ]
  },
  {
   "cell_type": "code",
   "execution_count": 7,
   "id": "18db49a7-9808-4951-9e07-d1efdc272ed2",
   "metadata": {},
   "outputs": [],
   "source": [
    "Eff = np.array([[0, 0, 0, 0],\n",
    "                [1, 0, 0, 0], # на файл № 2 имеется зависимость у файла № 1\n",
    "                [0, 0, 0, 0],\n",
    "                [0, 0, 0, 0]])"
   ]
  },
  {
   "cell_type": "code",
   "execution_count": 8,
   "id": "cb886454-960b-455d-8400-cf11d4d9f622",
   "metadata": {},
   "outputs": [],
   "source": [
    "Efp = m.Array(m.Var, (4, 3), integer=True)"
   ]
  },
  {
   "cell_type": "code",
   "execution_count": 9,
   "id": "5b569e13-af12-4ff6-b6ee-1bad848f8c08",
   "metadata": {},
   "outputs": [],
   "source": [
    "for row in Efp:\n",
    "    for el in row:\n",
    "        el.lower = 0\n",
    "        el.upper = 1"
   ]
  },
  {
   "cell_type": "code",
   "execution_count": 10,
   "id": "2167dd01-4937-4847-b58e-b51867ff6017",
   "metadata": {},
   "outputs": [],
   "source": [
    "Efp[0][0].value, Efp[0][1].value, Efp[0][2].value = 1, 0, 0\n",
    "Efp[1][0].value, Efp[1][1].value, Efp[1][2].value = 0, 1, 0\n",
    "Efp[2][0].value, Efp[2][1].value, Efp[2][2].value = 0, 1, 0\n",
    "Efp[3][0].value, Efp[3][1].value, Efp[3][2].value = 0, 0, 1"
   ]
  },
  {
   "cell_type": "code",
   "execution_count": 11,
   "id": "0e21f1c2-2e46-4781-ac87-82bf242ec703",
   "metadata": {},
   "outputs": [],
   "source": [
    "equations = []\n",
    "for row in Efp:\n",
    "    equation = m.sum(row) == 1\n",
    "    equations.append(equation)"
   ]
  },
  {
   "cell_type": "code",
   "execution_count": 12,
   "id": "e53de269-239e-4b5f-aac7-5b375e1de3b6",
   "metadata": {},
   "outputs": [
    {
     "data": {
      "text/plain": [
       "[<gekko.gekko.EquationObj at 0x108257980>,\n",
       " <gekko.gekko.EquationObj at 0x1082579e0>,\n",
       " <gekko.gekko.EquationObj at 0x108257a10>,\n",
       " <gekko.gekko.EquationObj at 0x108257a40>]"
      ]
     },
     "execution_count": 12,
     "metadata": {},
     "output_type": "execute_result"
    }
   ],
   "source": [
    "m.Equations(equations)"
   ]
  },
  {
   "cell_type": "code",
   "execution_count": 13,
   "id": "0b58adeb-fd0f-482f-8ebb-8e65b02b5364",
   "metadata": {},
   "outputs": [],
   "source": [
    "activate_f = lambda x: 1 if x > 0 else 0"
   ]
  },
  {
   "cell_type": "code",
   "execution_count": 14,
   "id": "84bc4bf7-2256-43b5-a92b-3db7c1fb8852",
   "metadata": {},
   "outputs": [],
   "source": [
    "activate_p = lambda x: 1 if x > 0 else 0"
   ]
  },
  {
   "cell_type": "code",
   "execution_count": 15,
   "id": "a690a523-1e88-4201-b05c-38c1a08c7b9b",
   "metadata": {},
   "outputs": [],
   "source": [
    "activate_r = lambda x: 1 if x == 1 else 0"
   ]
  },
  {
   "cell_type": "code",
   "execution_count": 16,
   "id": "5571f9f4-a3bd-4245-9960-9af01ad35573",
   "metadata": {},
   "outputs": [],
   "source": [
    "calc_dependencies = lambda x: np.dot(Eff, F) if x == 0 else np.dot(Eff, calc_dependencies(x - 1))"
   ]
  },
  {
   "cell_type": "code",
   "execution_count": 17,
   "id": "3d38e8bc-a42d-4d2b-a8eb-600997b41f3a",
   "metadata": {},
   "outputs": [],
   "source": [
    "F = np.dot(R, Erf)"
   ]
  },
  {
   "cell_type": "code",
   "execution_count": 18,
   "id": "767fbdec-95f5-407a-a130-57ec4a25b07e",
   "metadata": {},
   "outputs": [],
   "source": [
    "files_count = len(F)\n",
    "for i in range(files_count):\n",
    "    dependencies = calc_dependencies(i)\n",
    "    F += dependencies"
   ]
  },
  {
   "cell_type": "code",
   "execution_count": 19,
   "id": "8b269f26-352b-4b54-ad6f-70d11571b532",
   "metadata": {},
   "outputs": [],
   "source": [
    "F = np.array([activate_f(f) for f in F])"
   ]
  },
  {
   "cell_type": "code",
   "execution_count": 20,
   "id": "8324300b-8237-4054-82eb-6daa282cb10b",
   "metadata": {},
   "outputs": [],
   "source": [
    "P = np.dot(F, Efp)"
   ]
  },
  {
   "cell_type": "code",
   "execution_count": 21,
   "id": "99e1c626-8f8e-4052-9b0e-bd9b1d5fb5cd",
   "metadata": {},
   "outputs": [],
   "source": [
    "for p in P:\n",
    "    p.value = activate_p(p.value)"
   ]
  },
  {
   "cell_type": "code",
   "execution_count": 22,
   "id": "19999748-c922-490e-9b17-03ec7d40968c",
   "metadata": {},
   "outputs": [],
   "source": [
    "F_d = np.dot(Efp, P)"
   ]
  },
  {
   "cell_type": "code",
   "execution_count": 23,
   "id": "73db427c-719e-4dab-beee-8b1b360ba28e",
   "metadata": {},
   "outputs": [],
   "source": [
    "for f_d in F_d:\n",
    "    f_d.value = activate_f(f_d.value)"
   ]
  },
  {
   "cell_type": "code",
   "execution_count": 24,
   "id": "7f55484c-6d5b-4abb-b6e2-b84626fa80cb",
   "metadata": {},
   "outputs": [],
   "source": [
    "R_d = np.dot(Erf, F_d)"
   ]
  },
  {
   "cell_type": "code",
   "execution_count": 25,
   "id": "7e6c1ee4-8e5b-49a5-948e-9209ef75e872",
   "metadata": {},
   "outputs": [],
   "source": [
    "for r_d in R_d:\n",
    "    r_d.value = activate_r(r_d.value)"
   ]
  },
  {
   "cell_type": "code",
   "execution_count": 26,
   "id": "1cf3f44e-03ba-4a7a-9bc9-df6a4112669a",
   "metadata": {},
   "outputs": [],
   "source": [
    "K_un = (m.sum(R_d) - sum(R)) / (m.sum(R_d))"
   ]
  },
  {
   "cell_type": "code",
   "execution_count": 27,
   "id": "86da00cf-6a20-473d-ae30-bb4b0711c642",
   "metadata": {},
   "outputs": [],
   "source": [
    "m.Minimize(K_un)"
   ]
  },
  {
   "cell_type": "code",
   "execution_count": 28,
   "id": "68983f3b-bb5a-4eb5-bbf4-4b414df25ba1",
   "metadata": {},
   "outputs": [
    {
     "name": "stdout",
     "output_type": "stream",
     "text": [
      " ----------------------------------------------------------------\n",
      " APMonitor, Version 1.0.3\n",
      " APMonitor Optimization Suite\n",
      " ----------------------------------------------------------------\n",
      " \n",
      " \n",
      " --------- APM Model Size ------------\n",
      " Each time step contains\n",
      "   Objects      :            0\n",
      "   Constants    :            0\n",
      "   Variables    :           12\n",
      "   Intermediates:            0\n",
      "   Connections  :            0\n",
      "   Equations    :            5\n",
      "   Residuals    :            5\n",
      " \n",
      " Number of state variables:             12\n",
      " Number of total equations: -            4\n",
      " Number of slack variables: -            0\n",
      " ---------------------------------------\n",
      " Degrees of freedom       :              8\n",
      " \n",
      " ----------------------------------------------\n",
      " Steady State Optimization with APOPT Solver\n",
      " ----------------------------------------------\n",
      "Iter:     1 I:  0 Tm:      0.00 NLPi:    6 Dpth:    0 Lvs:    3 Obj:  6.62E-01 Gap:       NaN\n",
      "--Integer Solution:   7.50E-01 Lowest Leaf:   6.62E-01 Gap:   8.80E-02\n",
      "Iter:     2 I:  0 Tm:      0.00 NLPi:    1 Dpth:    1 Lvs:    2 Obj:  7.50E-01 Gap:  8.80E-02\n",
      "Iter:     3 I:  0 Tm:      0.00 NLPi:    7 Dpth:    1 Lvs:    4 Obj:  6.62E-01 Gap:  8.80E-02\n",
      "Iter:     4 I: -1 Tm:      0.00 NLPi:    0 Dpth:    2 Lvs:    3 Obj:  6.62E-01 Gap:  8.80E-02\n",
      "--Integer Solution:   5.00E-01 Lowest Leaf:   5.00E-01 Gap:   0.00E+00\n",
      "Iter:     5 I:  0 Tm:      0.00 NLPi:    5 Dpth:    2 Lvs:    3 Obj:  5.00E-01 Gap:  0.00E+00\n",
      " Successful solution\n",
      " \n",
      " ---------------------------------------------------\n",
      " Solver         :  APOPT (v1.0)\n",
      " Solution time  :   3.209999999671709E-002 sec\n",
      " Objective      :   0.500000000000000     \n",
      " Successful solution\n",
      " ---------------------------------------------------\n",
      " \n",
      "\n"
     ]
    }
   ],
   "source": [
    "m.solve()"
   ]
  },
  {
   "cell_type": "code",
   "execution_count": 29,
   "id": "d1b27942-d95e-4b3e-8769-1b8dd29c544d",
   "metadata": {},
   "outputs": [
    {
     "data": {
      "text/plain": [
       "array([[[0.0], [0.0], [1.0]],\n",
       "       [[1.0], [0.0], [0.0]],\n",
       "       [[0.0], [1.0], [0.0]],\n",
       "       [[0.0], [0.0], [1.0]]], dtype=object)"
      ]
     },
     "execution_count": 29,
     "metadata": {},
     "output_type": "execute_result"
    }
   ],
   "source": [
    "Efp"
   ]
  },
  {
   "cell_type": "code",
   "execution_count": null,
   "id": "ef79e6fc-94b8-42c4-a632-ff83910a3ddd",
   "metadata": {},
   "outputs": [],
   "source": []
  }
 ],
 "metadata": {
  "kernelspec": {
   "display_name": "Python 3 (ipykernel)",
   "language": "python",
   "name": "python3"
  },
  "language_info": {
   "codemirror_mode": {
    "name": "ipython",
    "version": 3
   },
   "file_extension": ".py",
   "mimetype": "text/x-python",
   "name": "python",
   "nbconvert_exporter": "python",
   "pygments_lexer": "ipython3",
   "version": "3.12.1"
  }
 },
 "nbformat": 4,
 "nbformat_minor": 5
}
