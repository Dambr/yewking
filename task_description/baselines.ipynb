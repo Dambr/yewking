{
 "cells": [
  {
   "cell_type": "code",
   "execution_count": 1,
   "id": "bbd2fc12-3ea2-4f9b-ab9c-d622a557686d",
   "metadata": {},
   "outputs": [],
   "source": [
    "import gymnasium as gym\n",
    "from gymnasium.spaces import Discrete, Box, Dict, Tuple, MultiBinary, MultiDiscrete\n",
    "\n",
    "import numpy as np\n",
    "import random\n",
    "import os\n",
    "\n",
    "from stable_baselines3 import PPO\n",
    "from stable_baselines3 import A2C\n",
    "from stable_baselines3.common.vec_env import DummyVecEnv\n",
    "from stable_baselines3.common.evaluation import evaluate_policy\n",
    "from stable_baselines3.common.env_checker import check_env"
   ]
  },
  {
   "cell_type": "code",
   "execution_count": null,
   "id": "cca26f2d-295a-4565-9dd2-6044ba2e016e",
   "metadata": {},
   "outputs": [],
   "source": [
    "from cost_calculator import CostCalculator"
   ]
  },
  {
   "cell_type": "code",
   "execution_count": null,
   "id": "b3e1be80-23ca-4e00-8a1c-df5704db2008",
   "metadata": {},
   "outputs": [],
   "source": [
    "dtype = np.int64"
   ]
  },
  {
   "cell_type": "code",
   "execution_count": null,
   "id": "9ba1bbed-80ad-4ac4-907c-8428d64af253",
   "metadata": {},
   "outputs": [],
   "source": [
    "l = 1\n",
    "n = 5\n",
    "m = 4\n",
    "k = 3"
   ]
  },
  {
   "cell_type": "code",
   "execution_count": 2,
   "id": "6c41b4c1-68d0-48b6-98b9-602e3fd87a82",
   "metadata": {},
   "outputs": [],
   "source": [
    "M = 10 ** 6"
   ]
  },
  {
   "cell_type": "code",
   "execution_count": null,
   "id": "1b36c5ad-60cd-4414-b631-34a8133269e9",
   "metadata": {},
   "outputs": [],
   "source": [
    "T = np.array([\n",
    "    [  1,   0,   0,   0],\n",
    "    [0.5, 0.5,   0,   0],\n",
    "    [  0, 0.5, 0.5,   0],\n",
    "    [  0,   0, 0.5, 0.5],\n",
    "    [  0,   0,   0,   1]\n",
    "])"
   ]
  },
  {
   "cell_type": "code",
   "execution_count": null,
   "id": "7056b7ba-1261-4e15-bab3-32601e13f791",
   "metadata": {},
   "outputs": [],
   "source": [
    "D = np.array([\n",
    "    [0, 0, 1, 0],\n",
    "    [0, 0, 1, 1],\n",
    "    [0, 0, 0, 0],\n",
    "    [0, 0, 0, 0]\n",
    "])"
   ]
  },
  {
   "cell_type": "code",
   "execution_count": null,
   "id": "ddf49652-f8fa-43d5-bca1-79e13cdfdf66",
   "metadata": {},
   "outputs": [],
   "source": [
    "C = np.array([\n",
    "    [1, 1, 1, 1, 1],\n",
    "    [1, 1, 1, 1, 1],\n",
    "    [1, 1, 1, 1, 1],\n",
    "    [1, 1, 1, 1, 1],\n",
    "    [1, 1, 1, 1, 1]\n",
    "])"
   ]
  },
  {
   "cell_type": "code",
   "execution_count": null,
   "id": "3424a687-6bd2-4231-b00b-da6ed2987f47",
   "metadata": {},
   "outputs": [],
   "source": [
    "E = np.array([\n",
    "    [1, 0, 0, 0, 0]\n",
    "])"
   ]
  },
  {
   "cell_type": "code",
   "execution_count": 3,
   "id": "7903fdbe-1137-419f-8bf2-f272d8fa59f1",
   "metadata": {},
   "outputs": [],
   "source": [
    "# MultiBinary"
   ]
  },
  {
   "cell_type": "code",
   "execution_count": null,
   "id": "471f25d3-6765-4987-b3e4-a83f6a5437aa",
   "metadata": {},
   "outputs": [],
   "source": [
    "class CostCalculatorFactory():\n",
    "    def __init__(self, T, D, C, E):\n",
    "        self.T = T\n",
    "        self.D = D\n",
    "        self.C = C\n",
    "        self.E = E\n",
    "\n",
    "    def get_cost_calculator(self, A):\n",
    "        cost_calculator = CostCalculator(self.T, self.D, self.C, self.E, A)\n",
    "        return cost_calculator"
   ]
  },
  {
   "cell_type": "code",
   "execution_count": null,
   "id": "c9c76ca6-67e0-4dc6-a2c1-dc7d0df99dc2",
   "metadata": {},
   "outputs": [],
   "source": [
    "class MultiBinaryOperator:\n",
    "    def __init__(self, m, k, cost_calculator_factory, dtype):\n",
    "        self.m = m\n",
    "        self.k = k\n",
    "        self.cost_calculator_factory = cost_calculator_factory\n",
    "        self.dtype = dtype\n",
    "        \n",
    "        count = m * k\n",
    "        self.action_space = MultiBinary(count)\n",
    "        self.observation_space = Box(low=0, high=1, shape=(count, ), dtype=dtype)\n",
    "\n",
    "    def calculate_reward(self, array):\n",
    "        A = array.reshape(self.m, self.k)\n",
    "        cost_calculator = self.cost_calculator_factory.get_cost_calculator(A)\n",
    "        cost = cost_calculator.calculate()\n",
    "        return cost"
   ]
  },
  {
   "cell_type": "code",
   "execution_count": null,
   "id": "889f20ed-787d-48b4-94a8-4cce528f0e64",
   "metadata": {},
   "outputs": [],
   "source": [
    "class MultiDiscreteOperator:\n",
    "    def __init__(self, m, k, cost_calculator_factory, dtype):\n",
    "        self.m = m\n",
    "        self.k = k\n",
    "        self.cost_calculator_factory = cost_calculator_factory\n",
    "        self.dtype = dtype\n",
    "\n",
    "        self.action_space = MultiDiscrete([k for i in range(m)])\n",
    "        self.observation_space = Box(low=0, high=m, shape=(k, ), dtype=self.dtype)\n",
    "\n",
    "    def calculate_reward(self, array):\n",
    "        A = self.__convert_A(array)\n",
    "        cost_calculator = self.cost_calculator_factory.get_cost_calculator(A)\n",
    "        cost = cost_calculator.calculate()\n",
    "        return cost\n",
    "    \n",
    "    def __convert_A(self, array):\n",
    "        A = np.zeros((self.m, self.k))\n",
    "        for i in range(m):\n",
    "            active_gen = array[i]\n",
    "            A[i][active_gen] = 1\n",
    "        return A"
   ]
  },
  {
   "cell_type": "code",
   "execution_count": null,
   "id": "01375d00-e909-409f-80bc-7254b675a6c1",
   "metadata": {},
   "outputs": [],
   "source": []
  },
  {
   "cell_type": "code",
   "execution_count": null,
   "id": "01c7668b-6536-4453-8011-52c6f8af4834",
   "metadata": {},
   "outputs": [],
   "source": []
  },
  {
   "cell_type": "code",
   "execution_count": 9,
   "id": "9402b5b9-e4fb-4a4c-8cb8-b72b8564de7d",
   "metadata": {},
   "outputs": [],
   "source": [
    "class ShowerEnv(gym.Env):\n",
    "    def __init__(self):\n",
    "        super(ShowerEnv, self).__init__()\n",
    "        self.dtype = np.int64\n",
    "        self.count = 4\n",
    "        self.action_space = MultiDiscrete([self.count for i in range(self.count)]) # \n",
    "        # для MultiBinary(self.count) high = 1\n",
    "        self.observation_space = Box(low=0, high=self.count, shape=(self.count, ), dtype=self.dtype)\n",
    "        self.default_observation = np.zeros(self.count, dtype=self.dtype)\n",
    "        self.observation = self.default_observation\n",
    "        self.info = {}\n",
    "\n",
    "    def init_observation(self):\n",
    "        self.observation = np.zeros(self.count, dtype=self.dtype)\n",
    "\n",
    "    def step(self, action):\n",
    "        # Приспособленность\n",
    "        self.observation = np.array(action).astype(self.dtype)\n",
    "        \n",
    "        reward = 1 / (np.sum(self.observation) + 0.1)\n",
    "\n",
    "        truncated = False\n",
    "        terminated = False\n",
    "\n",
    "        return self.observation, float(reward), terminated, truncated, self.info\n",
    "\n",
    "    def reset(self, seed=None, options=None):\n",
    "        self.observation = self.default_observation\n",
    "        return (self.observation, self.info)"
   ]
  },
  {
   "cell_type": "code",
   "execution_count": 10,
   "id": "81534314-adbb-4396-a189-6352efeb81eb",
   "metadata": {},
   "outputs": [],
   "source": [
    "env = ShowerEnv()"
   ]
  },
  {
   "cell_type": "code",
   "execution_count": 11,
   "id": "7c32602d-f44e-4c1f-9286-b07eba762dff",
   "metadata": {},
   "outputs": [],
   "source": [
    "check_env(env)"
   ]
  },
  {
   "cell_type": "code",
   "execution_count": 12,
   "id": "680ef48f-0b3c-4d76-9052-0b85f22c0c51",
   "metadata": {},
   "outputs": [],
   "source": [
    "# policies: MlpPolicy\n",
    "# algorithms: A2C, PPO"
   ]
  },
  {
   "cell_type": "code",
   "execution_count": 13,
   "id": "9040167c-8dab-48b2-9de2-4af21113a5a6",
   "metadata": {},
   "outputs": [],
   "source": [
    "model = A2C(\"MlpPolicy\", env)"
   ]
  },
  {
   "cell_type": "code",
   "execution_count": 14,
   "id": "7c1d7e0c-1552-4c92-a96b-d2edead81591",
   "metadata": {},
   "outputs": [
    {
     "data": {
      "text/plain": [
       "<stable_baselines3.a2c.a2c.A2C at 0x18f30d8dbe0>"
      ]
     },
     "execution_count": 14,
     "metadata": {},
     "output_type": "execute_result"
    }
   ],
   "source": [
    "model.learn(total_timesteps=1000)"
   ]
  },
  {
   "cell_type": "code",
   "execution_count": 15,
   "id": "1126355f-1bf7-42b3-804e-97257eeb204f",
   "metadata": {},
   "outputs": [
    {
     "data": {
      "text/plain": [
       "array([3, 2, 3, 0])"
      ]
     },
     "execution_count": 15,
     "metadata": {},
     "output_type": "execute_result"
    }
   ],
   "source": [
    "model.env.envs[0].env.observation"
   ]
  },
  {
   "cell_type": "code",
   "execution_count": null,
   "id": "0eb4df1d-f83a-4513-b19d-e348fae5e11d",
   "metadata": {},
   "outputs": [],
   "source": []
  }
 ],
 "metadata": {
  "kernelspec": {
   "display_name": "Python 3 (ipykernel)",
   "language": "python",
   "name": "python3"
  },
  "language_info": {
   "codemirror_mode": {
    "name": "ipython",
    "version": 3
   },
   "file_extension": ".py",
   "mimetype": "text/x-python",
   "name": "python",
   "nbconvert_exporter": "python",
   "pygments_lexer": "ipython3",
   "version": "3.12.1"
  }
 },
 "nbformat": 4,
 "nbformat_minor": 5
}
