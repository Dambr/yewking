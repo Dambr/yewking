{
 "cells": [
  {
   "cell_type": "code",
   "execution_count": 1,
   "id": "bbd2fc12-3ea2-4f9b-ab9c-d622a557686d",
   "metadata": {},
   "outputs": [],
   "source": [
    "import gymnasium as gym\n",
    "from gymnasium.spaces import Discrete, Box, Dict, Tuple, MultiBinary, MultiDiscrete\n",
    "\n",
    "import numpy as np\n",
    "import matplotlib.pyplot as plt\n",
    "\n",
    "from stable_baselines3 import PPO\n",
    "from stable_baselines3 import A2C\n",
    "from stable_baselines3.common.vec_env import DummyVecEnv\n",
    "from stable_baselines3.common.evaluation import evaluate_policy\n",
    "from stable_baselines3.common.env_checker import check_env"
   ]
  },
  {
   "cell_type": "code",
   "execution_count": 2,
   "id": "8839ed63-9536-424d-b003-49003e409a72",
   "metadata": {},
   "outputs": [],
   "source": [
    "from ipywidgets import IntProgress\n",
    "from IPython.display import display"
   ]
  },
  {
   "cell_type": "code",
   "execution_count": 3,
   "id": "cca26f2d-295a-4565-9dd2-6044ba2e016e",
   "metadata": {},
   "outputs": [],
   "source": [
    "from cost_calculator_factory import CostCalculatorFactory\n",
    "from multibinary_converter import MultiBinaryConverter\n",
    "from multidiscrete_converter import MultiDiscreteConverter\n",
    "from fitness_calculator import FitnessCalculator"
   ]
  },
  {
   "cell_type": "code",
   "execution_count": 4,
   "id": "b3e1be80-23ca-4e00-8a1c-df5704db2008",
   "metadata": {},
   "outputs": [],
   "source": [
    "dtype = np.int64"
   ]
  },
  {
   "cell_type": "code",
   "execution_count": 5,
   "id": "9ba1bbed-80ad-4ac4-907c-8428d64af253",
   "metadata": {},
   "outputs": [],
   "source": [
    "l = 1\n",
    "n = 5\n",
    "m = 4\n",
    "k = 3"
   ]
  },
  {
   "cell_type": "code",
   "execution_count": 6,
   "id": "1b36c5ad-60cd-4414-b631-34a8133269e9",
   "metadata": {},
   "outputs": [],
   "source": [
    "T = np.array([\n",
    "    [  1,   0,   0,   0],\n",
    "    [0.5, 0.5,   0,   0],\n",
    "    [  0, 0.5, 0.5,   0],\n",
    "    [  0,   0, 0.5, 0.5],\n",
    "    [  0,   0,   0,   1]\n",
    "])"
   ]
  },
  {
   "cell_type": "code",
   "execution_count": 7,
   "id": "7056b7ba-1261-4e15-bab3-32601e13f791",
   "metadata": {},
   "outputs": [],
   "source": [
    "D = np.array([\n",
    "    [0, 0, 1, 0],\n",
    "    [0, 0, 1, 1],\n",
    "    [0, 0, 0, 0],\n",
    "    [0, 0, 0, 0]\n",
    "])"
   ]
  },
  {
   "cell_type": "code",
   "execution_count": 8,
   "id": "ddf49652-f8fa-43d5-bca1-79e13cdfdf66",
   "metadata": {},
   "outputs": [],
   "source": [
    "C = np.array([\n",
    "    [1, 1, 1, 1, 1],\n",
    "    [1, 1, 1, 1, 1],\n",
    "    [1, 1, 1, 1, 1],\n",
    "    [1, 1, 1, 1, 1],\n",
    "    [1, 1, 1, 1, 1]\n",
    "])"
   ]
  },
  {
   "cell_type": "code",
   "execution_count": 9,
   "id": "3424a687-6bd2-4231-b00b-da6ed2987f47",
   "metadata": {},
   "outputs": [],
   "source": [
    "E = np.array([\n",
    "    [1, 0, 0, 0, 0]\n",
    "])"
   ]
  },
  {
   "cell_type": "code",
   "execution_count": null,
   "id": "9606bafd-e5a3-4bb2-95ad-91e385bc4f47",
   "metadata": {},
   "outputs": [],
   "source": []
  },
  {
   "cell_type": "code",
   "execution_count": 10,
   "id": "c9c76ca6-67e0-4dc6-a2c1-dc7d0df99dc2",
   "metadata": {},
   "outputs": [],
   "source": [
    "class MultiBinaryConfig:\n",
    "    def __init__(self, m, k, dtype):\n",
    "        self.m = m\n",
    "        self.k = k\n",
    "        self.dtype = dtype\n",
    "        \n",
    "        self.count = m * k\n",
    "        self.action_space = MultiBinary(self.count)\n",
    "        self.observation_space = Box(low=0, high=1, shape=(self.count, ), dtype=dtype)"
   ]
  },
  {
   "cell_type": "code",
   "execution_count": 11,
   "id": "889f20ed-787d-48b4-94a8-4cce528f0e64",
   "metadata": {},
   "outputs": [],
   "source": [
    "class MultiDiscreteConfig:\n",
    "    def __init__(self, m, k, dtype):\n",
    "        self.m = m\n",
    "        self.k = k\n",
    "        self.dtype = dtype\n",
    "\n",
    "        self.count = m\n",
    "        self.action_space = MultiDiscrete([k for i in range(m)])\n",
    "        self.observation_space = Box(low=0, high=k, shape=(m, ), dtype=self.dtype)"
   ]
  },
  {
   "cell_type": "code",
   "execution_count": 12,
   "id": "fa870a69-c6c7-44ed-9758-1c199e0f614a",
   "metadata": {},
   "outputs": [],
   "source": [
    "class Graphic:\n",
    "    def __init__(self):\n",
    "        self.values = []\n",
    "\n",
    "    def append_value(self, value):\n",
    "        self.values.append(value)\n",
    "\n",
    "    def show(self):\n",
    "        x = range(len(self.values))\n",
    "        y = self.values\n",
    "        plt.axis([0, len(self.values), -1, 3])\n",
    "        plt.plot(x, y)"
   ]
  },
  {
   "cell_type": "code",
   "execution_count": 13,
   "id": "9402b5b9-e4fb-4a4c-8cb8-b72b8564de7d",
   "metadata": {},
   "outputs": [],
   "source": [
    "class OptimisationTaskEnv(gym.Env):\n",
    "    def __init__(self, config, fitness_calculator, progress, graphic):\n",
    "        super(OptimisationTaskEnv, self).__init__()\n",
    "        self.fitness_calculator = fitness_calculator\n",
    "        self.progress = progress\n",
    "        self.graphic = graphic\n",
    "        self.dtype = config.dtype\n",
    "        self.action_space = config.action_space\n",
    "        self.observation_space = config.observation_space\n",
    "        self.default_observation = np.zeros(config.count, dtype=self.dtype)\n",
    "        self.observation = self.default_observation\n",
    "        self.info = {}\n",
    "\n",
    "    def step(self, action):\n",
    "        self.observation = np.array(action).astype(self.dtype)\n",
    "\n",
    "        fitness = self.fitness_calculator.calculate(self.observation)\n",
    "        self.graphic.append_value(fitness)\n",
    "\n",
    "        truncated = False\n",
    "        terminated = False\n",
    "\n",
    "        self.progress.value += 1\n",
    "        return self.observation, float(fitness), terminated, truncated, self.info\n",
    "    \n",
    "    def reset(self, seed=None, options=None):\n",
    "        self.observation = self.default_observation\n",
    "        return (self.observation, self.info)"
   ]
  },
  {
   "cell_type": "code",
   "execution_count": 14,
   "id": "3bf780de-2592-45ee-94cd-920e17130cc5",
   "metadata": {},
   "outputs": [],
   "source": [
    "def learn(env, progress):\n",
    "    check_env(env)\n",
    "    # policies: MlpPolicy\n",
    "    # algorithms: A2C, PPO\n",
    "    model = A2C(\"MlpPolicy\", env)\n",
    "    display(progress)\n",
    "    model.learn(total_timesteps=progress.max)\n",
    "    observation = model.env.envs[0].env.observation\n",
    "    return observation"
   ]
  },
  {
   "cell_type": "code",
   "execution_count": null,
   "id": "c8026d64-6ff7-49c3-bb4e-696ddc176eba",
   "metadata": {},
   "outputs": [],
   "source": []
  },
  {
   "cell_type": "code",
   "execution_count": 15,
   "id": "2be3cd08-0ef9-4404-b5ca-7273948b6a30",
   "metadata": {},
   "outputs": [],
   "source": [
    "total_timesteps = 10000"
   ]
  },
  {
   "cell_type": "code",
   "execution_count": 16,
   "id": "90f7edb3-21a2-46ab-839e-c852ca7b2949",
   "metadata": {},
   "outputs": [],
   "source": [
    "cost_calculator_factory = CostCalculatorFactory(T, D, C, E)"
   ]
  },
  {
   "cell_type": "code",
   "execution_count": 17,
   "id": "a02a64ef-b8bc-46d6-a8c6-ab34f4a5462b",
   "metadata": {},
   "outputs": [],
   "source": [
    "# MultiBinary"
   ]
  },
  {
   "cell_type": "code",
   "execution_count": 18,
   "id": "3706202f-cec8-4042-8771-9db4c7be5802",
   "metadata": {},
   "outputs": [],
   "source": [
    "multibinary_config = MultiBinaryConfig(m, k, dtype)"
   ]
  },
  {
   "cell_type": "code",
   "execution_count": 19,
   "id": "cdd01519-2254-4f58-b965-6436b60658a6",
   "metadata": {},
   "outputs": [],
   "source": [
    "multibinary_converter = MultiBinaryConverter(m, k)\n",
    "multibinary_fitness_calcultor = FitnessCalculator(cost_calculator_factory, multibinary_converter)"
   ]
  },
  {
   "cell_type": "code",
   "execution_count": 20,
   "id": "e38956ec-9e8c-4145-9373-ac869cadc856",
   "metadata": {},
   "outputs": [],
   "source": [
    "multibinary_progress = IntProgress(min=0, max=total_timesteps, value=0, description='multibinary', bar_style='success')\n",
    "multibinary_graphic = Graphic()\n",
    "multibinary_optimisation_task_env = OptimisationTaskEnv(multibinary_config, multibinary_fitness_calcultor, multibinary_progress, multibinary_graphic)"
   ]
  },
  {
   "cell_type": "code",
   "execution_count": 21,
   "id": "d8812d1a-510c-4be6-ab93-17be8ee24d95",
   "metadata": {},
   "outputs": [
    {
     "data": {
      "application/vnd.jupyter.widget-view+json": {
       "model_id": "96daefe7dc9944a9ad0ed9a4a4cb9f9c",
       "version_major": 2,
       "version_minor": 0
      },
      "text/plain": [
       "IntProgress(value=11, bar_style='success', description='multibinary', max=10000)"
      ]
     },
     "metadata": {},
     "output_type": "display_data"
    },
    {
     "data": {
      "text/plain": [
       "array([1, 1, 0, 1, 0, 1, 0, 1, 1, 1, 0, 0])"
      ]
     },
     "execution_count": 21,
     "metadata": {},
     "output_type": "execute_result"
    }
   ],
   "source": [
    "learn(multibinary_optimisation_task_env, multibinary_progress)"
   ]
  },
  {
   "cell_type": "code",
   "execution_count": 22,
   "id": "b98b2b20-edb5-490d-8681-7281e23fa137",
   "metadata": {},
   "outputs": [
    {
     "data": {
      "image/png": "[encoded data removed]",
      "text/plain": [
       "<Figure size 640x480 with 1 Axes>"
      ]
     },
     "metadata": {},
     "output_type": "display_data"
    }
   ],
   "source": [
    "multibinary_graphic.show()"
   ]
  },
  {
   "cell_type": "code",
   "execution_count": null,
   "id": "e8d9c1dd-8065-4c57-9973-d3c72dcfe209",
   "metadata": {},
   "outputs": [],
   "source": []
  },
  {
   "cell_type": "code",
   "execution_count": 23,
   "id": "91b2e9a2-356a-4936-8725-135daddb530f",
   "metadata": {},
   "outputs": [],
   "source": [
    "# MultiDiscrete"
   ]
  },
  {
   "cell_type": "code",
   "execution_count": 24,
   "id": "ca0aa85d-f5a1-44af-9953-73470a041297",
   "metadata": {},
   "outputs": [],
   "source": [
    "multidiscrete_config = MultiDiscreteConfig(m, k, dtype)"
   ]
  },
  {
   "cell_type": "code",
   "execution_count": 25,
   "id": "3ea00b49-6b72-4e06-88b1-0de5ca28c542",
   "metadata": {},
   "outputs": [],
   "source": [
    "multidiscrete_converter = MultiDiscreteConverter(m, k)\n",
    "multidiscrete_fitness_calculator = FitnessCalculator(cost_calculator_factory, multidiscrete_converter)"
   ]
  },
  {
   "cell_type": "code",
   "execution_count": 26,
   "id": "f60c416f-b091-4252-afb7-5263fe51bfe3",
   "metadata": {},
   "outputs": [],
   "source": [
    "multidiscrete_progress = IntProgress(min=0, max=total_timesteps, value=0, description='multidiscrete', bar_style='success')\n",
    "multidiscrete_graphic = Graphic()\n",
    "multidiscrete_optimisation_task_env = OptimisationTaskEnv(multidiscrete_config, multidiscrete_fitness_calculator, multidiscrete_progress, multidiscrete_graphic)"
   ]
  },
  {
   "cell_type": "code",
   "execution_count": 27,
   "id": "6c250d10-d3bf-4182-a14b-1caf1b067b7f",
   "metadata": {},
   "outputs": [
    {
     "data": {
      "application/vnd.jupyter.widget-view+json": {
       "model_id": "40a3aff8a8cc440fa1b27cdb49f24d04",
       "version_major": 2,
       "version_minor": 0
      },
      "text/plain": [
       "IntProgress(value=11, bar_style='success', description='multidiscrete', max=10000)"
      ]
     },
     "metadata": {},
     "output_type": "display_data"
    },
    {
     "data": {
      "text/plain": [
       "array([2, 1, 2, 1])"
      ]
     },
     "execution_count": 27,
     "metadata": {},
     "output_type": "execute_result"
    }
   ],
   "source": [
    "learn(multidiscrete_optimisation_task_env, multidiscrete_progress)"
   ]
  },
  {
   "cell_type": "code",
   "execution_count": 28,
   "id": "55b74f87-467e-43eb-a111-e9efe8ed8324",
   "metadata": {},
   "outputs": [
    {
     "data": {
      "image/png": "[encoded data removed]",
      "text/plain": [
       "<Figure size 640x480 with 1 Axes>"
      ]
     },
     "metadata": {},
     "output_type": "display_data"
    }
   ],
   "source": [
    "multidiscrete_graphic.show()"
   ]
  },
  {
   "cell_type": "code",
   "execution_count": null,
   "id": "fd8b8c31-d19d-44e5-9008-25a915fc0e17",
   "metadata": {},
   "outputs": [],
   "source": []
  },
  {
   "cell_type": "code",
   "execution_count": null,
   "id": "7b60fd25-6faa-4fc5-b1ea-9b7a88237b3d",
   "metadata": {},
   "outputs": [],
   "source": []
  },
  {
   "cell_type": "code",
   "execution_count": null,
   "id": "7581fbf8-82f2-4b44-bdf7-316c537a02de",
   "metadata": {},
   "outputs": [],
   "source": []
  },
  {
   "cell_type": "code",
   "execution_count": null,
   "id": "9c137289-1c5d-4908-8ac9-a4964ed20231",
   "metadata": {},
   "outputs": [],
   "source": []
  },
  {
   "cell_type": "code",
   "execution_count": null,
   "id": "6de79e8a-9d02-4768-b477-74af79840eb9",
   "metadata": {},
   "outputs": [],
   "source": []
  }
 ],
 "metadata": {
  "kernelspec": {
   "display_name": "Python 3 (ipykernel)",
   "language": "python",
   "name": "python3"
  },
  "language_info": {
   "codemirror_mode": {
    "name": "ipython",
    "version": 3
   },
   "file_extension": ".py",
   "mimetype": "text/x-python",
   "name": "python",
   "nbconvert_exporter": "python",
   "pygments_lexer": "ipython3",
   "version": "3.12.1"
  }
 },
 "nbformat": 4,
 "nbformat_minor": 5
}
