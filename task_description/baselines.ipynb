{
 "cells": [
  {
   "cell_type": "code",
   "execution_count": 1,
   "id": "bbd2fc12-3ea2-4f9b-ab9c-d622a557686d",
   "metadata": {},
   "outputs": [],
   "source": [
    "import gymnasium as gym\n",
    "from gymnasium.spaces import Discrete, Box, Dict, Tuple, MultiBinary, MultiDiscrete\n",
    "\n",
    "import numpy as np\n",
    "import matplotlib.pyplot as plt\n",
    "\n",
    "from stable_baselines3 import PPO\n",
    "from stable_baselines3 import A2C\n",
    "from stable_baselines3.common.vec_env import DummyVecEnv\n",
    "from stable_baselines3.common.evaluation import evaluate_policy\n",
    "from stable_baselines3.common.env_checker import check_env"
   ]
  },
  {
   "cell_type": "code",
   "execution_count": 2,
   "id": "8839ed63-9536-424d-b003-49003e409a72",
   "metadata": {},
   "outputs": [],
   "source": [
    "from ipywidgets import IntProgress\n",
    "from IPython.display import display"
   ]
  },
  {
   "cell_type": "code",
   "execution_count": 3,
   "id": "cca26f2d-295a-4565-9dd2-6044ba2e016e",
   "metadata": {},
   "outputs": [],
   "source": [
    "from cost_calculator import CostCalculator"
   ]
  },
  {
   "cell_type": "code",
   "execution_count": 4,
   "id": "b3e1be80-23ca-4e00-8a1c-df5704db2008",
   "metadata": {},
   "outputs": [],
   "source": [
    "dtype = np.int64"
   ]
  },
  {
   "cell_type": "code",
   "execution_count": 5,
   "id": "3cd7d923-8ef9-48c8-923a-f6f147cfbf64",
   "metadata": {},
   "outputs": [],
   "source": [
    "M = 10 ** 6"
   ]
  },
  {
   "cell_type": "code",
   "execution_count": 6,
   "id": "9ba1bbed-80ad-4ac4-907c-8428d64af253",
   "metadata": {},
   "outputs": [],
   "source": [
    "l = 1\n",
    "n = 5\n",
    "m = 4\n",
    "k = 3"
   ]
  },
  {
   "cell_type": "code",
   "execution_count": 7,
   "id": "1b36c5ad-60cd-4414-b631-34a8133269e9",
   "metadata": {},
   "outputs": [],
   "source": [
    "T = np.array([\n",
    "    [  1,   0,   0,   0],\n",
    "    [0.5, 0.5,   0,   0],\n",
    "    [  0, 0.5, 0.5,   0],\n",
    "    [  0,   0, 0.5, 0.5],\n",
    "    [  0,   0,   0,   1]\n",
    "])"
   ]
  },
  {
   "cell_type": "code",
   "execution_count": 8,
   "id": "7056b7ba-1261-4e15-bab3-32601e13f791",
   "metadata": {},
   "outputs": [],
   "source": [
    "D = np.array([\n",
    "    [0, 0, 1, 0],\n",
    "    [0, 0, 1, 1],\n",
    "    [0, 0, 0, 0],\n",
    "    [0, 0, 0, 0]\n",
    "])"
   ]
  },
  {
   "cell_type": "code",
   "execution_count": 9,
   "id": "ddf49652-f8fa-43d5-bca1-79e13cdfdf66",
   "metadata": {},
   "outputs": [],
   "source": [
    "C = np.array([\n",
    "    [1, 1, 1, 1, 1],\n",
    "    [1, 1, 1, 1, 1],\n",
    "    [1, 1, 1, 1, 1],\n",
    "    [1, 1, 1, 1, 1],\n",
    "    [1, 1, 1, 1, 1]\n",
    "])"
   ]
  },
  {
   "cell_type": "code",
   "execution_count": 10,
   "id": "3424a687-6bd2-4231-b00b-da6ed2987f47",
   "metadata": {},
   "outputs": [],
   "source": [
    "E = np.array([\n",
    "    [1, 0, 0, 0, 0]\n",
    "])"
   ]
  },
  {
   "cell_type": "code",
   "execution_count": 11,
   "id": "471f25d3-6765-4987-b3e4-a83f6a5437aa",
   "metadata": {},
   "outputs": [],
   "source": [
    "class CostCalculatorFactory():\n",
    "    def __init__(self, T, D, C, E):\n",
    "        self.T = T\n",
    "        self.D = D\n",
    "        self.C = C\n",
    "        self.E = E\n",
    "\n",
    "    def get_cost_calculator(self, A):\n",
    "        cost_calculator = CostCalculator(self.T, self.D, self.C, self.E, A)\n",
    "        return cost_calculator"
   ]
  },
  {
   "cell_type": "code",
   "execution_count": 12,
   "id": "488b968d-bec7-4c3d-a921-931ce485ee1c",
   "metadata": {},
   "outputs": [],
   "source": [
    "class CalculateCostStrategy:\n",
    "    def __init__(self, M, cost_calculator_factory):\n",
    "        self.M = M\n",
    "        self.cost_calculator_factory = cost_calculator_factory\n",
    "\n",
    "    def calculate_cost(self, A):\n",
    "        cost_calculator = self.cost_calculator_factory.get_cost_calculator(A)\n",
    "        cost = cost_calculator.calculate()\n",
    "        \n",
    "        for row in A:\n",
    "            if sum(row) != 1:\n",
    "                cost = self.M\n",
    "                \n",
    "        return cost"
   ]
  },
  {
   "cell_type": "code",
   "execution_count": 13,
   "id": "1b3b0867-7ec1-4683-9680-f1337e0a0575",
   "metadata": {},
   "outputs": [],
   "source": [
    "class MultiBinaryConverter:\n",
    "    def __init__(self, m, k):\n",
    "        self.m = m\n",
    "        self.k = k\n",
    "\n",
    "    def convert(self, array):\n",
    "        A = array.reshape(self.m, self.k)\n",
    "        return A"
   ]
  },
  {
   "cell_type": "code",
   "execution_count": 14,
   "id": "7506fabc-20da-4ca3-82a3-78e49808c54b",
   "metadata": {},
   "outputs": [],
   "source": [
    "class MultiDiscreteConverter:\n",
    "    def __init__(self, m, k):\n",
    "        self.m = m\n",
    "        self.k = k\n",
    "    \n",
    "    def convert(self, array):\n",
    "        A = np.zeros((self.m, self.k))\n",
    "        for i in range(m):\n",
    "            active_gen = array[i]\n",
    "            A[i][active_gen] = 1\n",
    "        return A"
   ]
  },
  {
   "cell_type": "code",
   "execution_count": 15,
   "id": "c9c76ca6-67e0-4dc6-a2c1-dc7d0df99dc2",
   "metadata": {},
   "outputs": [],
   "source": [
    "class MultiBinaryOperator:\n",
    "    def __init__(self, m, k, calculate_cost_strategy, converter, dtype):\n",
    "        self.m = m\n",
    "        self.k = k\n",
    "        self.calculate_cost_strategy = calculate_cost_strategy\n",
    "        self.converter = converter\n",
    "        self.dtype = dtype\n",
    "        \n",
    "        self.count = m * k\n",
    "        self.action_space = MultiBinary(self.count)\n",
    "        self.observation_space = Box(low=0, high=1, shape=(self.count, ), dtype=dtype)\n",
    "\n",
    "    def calculate_cost(self, array):\n",
    "        A = self.converter.convert(array)\n",
    "        reward = self.calculate_cost_strategy.calculate_cost(A)\n",
    "        return reward"
   ]
  },
  {
   "cell_type": "code",
   "execution_count": 16,
   "id": "889f20ed-787d-48b4-94a8-4cce528f0e64",
   "metadata": {},
   "outputs": [],
   "source": [
    "class MultiDiscreteOperator:\n",
    "    def __init__(self, m, k, calculate_cost_strategy, converter, dtype):\n",
    "        self.m = m\n",
    "        self.k = k\n",
    "        self.calculate_cost_strategy = calculate_cost_strategy\n",
    "        self.converter = converter\n",
    "        self.dtype = dtype\n",
    "\n",
    "        self.count = m\n",
    "        self.action_space = MultiDiscrete([k for i in range(m)])\n",
    "        self.observation_space = Box(low=0, high=k, shape=(m, ), dtype=self.dtype)\n",
    "\n",
    "    def calculate_cost(self, array):\n",
    "        A = self.converter.convert(array)\n",
    "        reward = self.calculate_cost_strategy.calculate_cost(A)\n",
    "        return reward"
   ]
  },
  {
   "cell_type": "code",
   "execution_count": 17,
   "id": "fa870a69-c6c7-44ed-9758-1c199e0f614a",
   "metadata": {},
   "outputs": [],
   "source": [
    "class Graphic:\n",
    "    def __init__(self, M):\n",
    "        self.M = M\n",
    "        self.values = []\n",
    "\n",
    "    def append_value(self, value):\n",
    "        self.values.append(value)\n",
    "\n",
    "    def show(self):\n",
    "        d = {}\n",
    "        for value in self.values:\n",
    "            value = float(value)\n",
    "            if value in d:\n",
    "                d[value] += 1\n",
    "            else:\n",
    "                d[value] = 0\n",
    "        keys = []\n",
    "        values = []\n",
    "        for key in d:\n",
    "            keys.append(key)\n",
    "            values.append(d[key])\n",
    "        fig, ax = plt.subplots()\n",
    "        ax.pie(values, labels=keys)\n",
    "        ax.axis(\"equal\")"
   ]
  },
  {
   "cell_type": "code",
   "execution_count": 18,
   "id": "9402b5b9-e4fb-4a4c-8cb8-b72b8564de7d",
   "metadata": {},
   "outputs": [],
   "source": [
    "class OptimisationTaskEnv(gym.Env):\n",
    "    def __init__(self, operator, progress, graphic):\n",
    "        super(OptimisationTaskEnv, self).__init__()\n",
    "        self.operator = operator\n",
    "        self.progress = progress\n",
    "        self.graphic = graphic\n",
    "        self.dtype = operator.dtype\n",
    "        self.action_space = operator.action_space\n",
    "        self.observation_space = operator.observation_space\n",
    "        self.default_observation = np.zeros(operator.count, dtype=self.dtype)\n",
    "        self.observation = self.default_observation\n",
    "        self.info = {}\n",
    "\n",
    "    def init_observation(self):\n",
    "        self.observation = np.zeros(self.count, dtype=self.dtype)\n",
    "\n",
    "    def step(self, action):\n",
    "        self.observation = np.array(action).astype(self.dtype)\n",
    "\n",
    "        cost = self.operator.calculate_cost(self.observation)\n",
    "        self.graphic.append_value(cost)\n",
    "        reward = 1 / cost\n",
    "\n",
    "        # cost = (sum(self.observation))\n",
    "        # print(self.observation)\n",
    "        # self.graphic.append_value(cost)\n",
    "        # reward = cost\n",
    "        \n",
    "\n",
    "        truncated = False\n",
    "        terminated = False\n",
    "\n",
    "        self.progress.value += 1\n",
    "        return self.observation, float(reward), terminated, truncated, self.info\n",
    "    \n",
    "    def reset(self, seed=None, options=None):\n",
    "        self.observation = self.default_observation\n",
    "        return (self.observation, self.info)"
   ]
  },
  {
   "cell_type": "code",
   "execution_count": 19,
   "id": "3bf780de-2592-45ee-94cd-920e17130cc5",
   "metadata": {},
   "outputs": [],
   "source": [
    "def learn(env, progress):\n",
    "    check_env(env)\n",
    "    # policies: MlpPolicy\n",
    "    # algorithms: A2C, PPO\n",
    "    model = A2C(\"MlpPolicy\", env)\n",
    "    display(progress)\n",
    "    model.learn(total_timesteps=progress.max)\n",
    "    observation = model.env.envs[0].env.observation\n",
    "    return observation"
   ]
  },
  {
   "cell_type": "code",
   "execution_count": null,
   "id": "c8026d64-6ff7-49c3-bb4e-696ddc176eba",
   "metadata": {},
   "outputs": [],
   "source": []
  },
  {
   "cell_type": "code",
   "execution_count": 20,
   "id": "2be3cd08-0ef9-4404-b5ca-7273948b6a30",
   "metadata": {},
   "outputs": [],
   "source": [
    "total_timesteps = 1000"
   ]
  },
  {
   "cell_type": "code",
   "execution_count": 21,
   "id": "4a9cb18f-7908-40e3-b98e-87012dbf2108",
   "metadata": {},
   "outputs": [],
   "source": [
    "cost_calculator_factory = CostCalculatorFactory(T, D, C, E)"
   ]
  },
  {
   "cell_type": "code",
   "execution_count": 22,
   "id": "fc8e83cf-a3d0-4d50-960a-3092d3948996",
   "metadata": {},
   "outputs": [],
   "source": [
    "calculate_cost_strategy = CalculateCostStrategy(M, cost_calculator_factory)"
   ]
  },
  {
   "cell_type": "code",
   "execution_count": 23,
   "id": "e89fd1a0-66d4-431e-94d0-5bb3e45b1609",
   "metadata": {},
   "outputs": [],
   "source": [
    "multibinary_converter = MultiBinaryConverter(m, k)"
   ]
  },
  {
   "cell_type": "code",
   "execution_count": 24,
   "id": "b6f295f1-03c9-456c-85a0-ad8878caba0d",
   "metadata": {},
   "outputs": [],
   "source": [
    "multidiscrete_converter = MultiDiscreteConverter(m, k)"
   ]
  },
  {
   "cell_type": "code",
   "execution_count": 25,
   "id": "b030071e-257e-4426-a46b-1faec43f6187",
   "metadata": {},
   "outputs": [],
   "source": [
    "multibinary_operator = MultiBinaryOperator(m, k, calculate_cost_strategy, multibinary_converter, dtype)"
   ]
  },
  {
   "cell_type": "code",
   "execution_count": 26,
   "id": "1e69bad9-a11c-442e-a431-47796bfd7011",
   "metadata": {},
   "outputs": [],
   "source": [
    "multidiscrete_operator = MultiDiscreteOperator(m, k, calculate_cost_strategy, multidiscrete_converter, dtype)"
   ]
  },
  {
   "cell_type": "code",
   "execution_count": 27,
   "id": "fd8b8c31-d19d-44e5-9008-25a915fc0e17",
   "metadata": {},
   "outputs": [],
   "source": [
    "multibinary_progress = IntProgress(min=0, max=total_timesteps, value=0, description='multibinary', bar_style='success')\n",
    "multibinary_graphic = Graphic(M)\n",
    "multibinary_optimisation_task_env = OptimisationTaskEnv(multibinary_operator, multibinary_progress, multibinary_graphic)"
   ]
  },
  {
   "cell_type": "code",
   "execution_count": 28,
   "id": "7b60fd25-6faa-4fc5-b1ea-9b7a88237b3d",
   "metadata": {},
   "outputs": [],
   "source": [
    "multidiscrete_progress = IntProgress(min=0, max=total_timesteps, value=0, description='multidiscrete', bar_style='success')\n",
    "multidiscrete_graphic = Graphic(M)\n",
    "multidiscrete_optimisation_task_env = OptimisationTaskEnv(multidiscrete_operator, multidiscrete_progress, multidiscrete_graphic)"
   ]
  },
  {
   "cell_type": "code",
   "execution_count": 29,
   "id": "7581fbf8-82f2-4b44-bdf7-316c537a02de",
   "metadata": {},
   "outputs": [
    {
     "data": {
      "application/vnd.jupyter.widget-view+json": {
       "model_id": "850b126c47d849c3a5711bb4a71b6d82",
       "version_major": 2,
       "version_minor": 0
      },
      "text/plain": [
       "IntProgress(value=11, bar_style='success', description='multibinary', max=1000)"
      ]
     },
     "metadata": {},
     "output_type": "display_data"
    },
    {
     "data": {
      "image/png": "[encoded data removed]",
      "text/plain": [
       "<Figure size 640x480 with 1 Axes>"
      ]
     },
     "metadata": {},
     "output_type": "display_data"
    }
   ],
   "source": [
    "multibinary_result = learn(multibinary_optimisation_task_env, multibinary_progress)\n",
    "# multibinary_result = multibinary_converter.convert(multibinary_result)\n",
    "multibinary_result = multibinary_operator.calculate_cost(multibinary_result)\n",
    "multibinary_graphic.show()"
   ]
  },
  {
   "cell_type": "code",
   "execution_count": 30,
   "id": "9c137289-1c5d-4908-8ac9-a4964ed20231",
   "metadata": {},
   "outputs": [
    {
     "data": {
      "application/vnd.jupyter.widget-view+json": {
       "model_id": "5fe9261ed54d469fbbc8a96d0708f0f4",
       "version_major": 2,
       "version_minor": 0
      },
      "text/plain": [
       "IntProgress(value=11, bar_style='success', description='multidiscrete', max=1000)"
      ]
     },
     "metadata": {},
     "output_type": "display_data"
    },
    {
     "data": {
      "image/png": "[encoded data removed]",
      "text/plain": [
       "<Figure size 640x480 with 1 Axes>"
      ]
     },
     "metadata": {},
     "output_type": "display_data"
    }
   ],
   "source": [
    "multidiscrete_result = learn(multidiscrete_optimisation_task_env, multidiscrete_progress)\n",
    "# multidiscrete_result = multidiscrete_converter.convert(multidiscrete_result)\n",
    "multidiscrete_result = multidiscrete_operator.calculate_cost(multidiscrete_result)\n",
    "multidiscrete_graphic.show()"
   ]
  },
  {
   "cell_type": "code",
   "execution_count": null,
   "id": "6de79e8a-9d02-4768-b477-74af79840eb9",
   "metadata": {},
   "outputs": [],
   "source": []
  }
 ],
 "metadata": {
  "kernelspec": {
   "display_name": "Python 3 (ipykernel)",
   "language": "python",
   "name": "python3"
  },
  "language_info": {
   "codemirror_mode": {
    "name": "ipython",
    "version": 3
   },
   "file_extension": ".py",
   "mimetype": "text/x-python",
   "name": "python",
   "nbconvert_exporter": "python",
   "pygments_lexer": "ipython3",
   "version": "3.12.1"
  }
 },
 "nbformat": 4,
 "nbformat_minor": 5
}
