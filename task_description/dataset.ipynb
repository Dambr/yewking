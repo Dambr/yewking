{
 "cells": [
  {
   "cell_type": "code",
   "execution_count": 1,
   "id": "5c7ed2f9-c4be-49ff-9dae-b228683d7573",
   "metadata": {},
   "outputs": [],
   "source": [
    "import pandas as pd\n",
    "import numpy as np\n",
    "import seaborn as sns\n",
    "import matplotlib.pyplot as plt"
   ]
  },
  {
   "cell_type": "code",
   "execution_count": 2,
   "id": "e4efdee8",
   "metadata": {},
   "outputs": [],
   "source": [
    "import warnings\n",
    "warnings.filterwarnings(\"ignore\")"
   ]
  },
  {
   "cell_type": "code",
   "execution_count": 3,
   "id": "27ba6c5d-109b-4907-8194-15448f78de44",
   "metadata": {},
   "outputs": [],
   "source": [
    "from ipywidgets import IntProgress\n",
    "from IPython.display import display"
   ]
  },
  {
   "cell_type": "code",
   "execution_count": 4,
   "id": "926d1734-7f7f-4e5d-8734-f01b87a35da5",
   "metadata": {},
   "outputs": [],
   "source": [
    "from var_table import VarTable"
   ]
  },
  {
   "cell_type": "code",
   "execution_count": 5,
   "id": "3ddf99af-dfec-4637-82e7-9c50a4459ea4",
   "metadata": {},
   "outputs": [],
   "source": [
    "from cost_calculator_factory import CostCalculatorFactory\n",
    "from multibinary_converter import MultiBinaryConverter\n",
    "from multidiscrete_converter import MultiDiscreteConverter\n",
    "from fitness_calculator import FitnessCalculator"
   ]
  },
  {
   "cell_type": "code",
   "execution_count": 6,
   "id": "94d17be8-ebd0-4a13-ae54-00d728a82508",
   "metadata": {},
   "outputs": [],
   "source": [
    "from genetic_multibinary_space_config import GeneticMultiBinarySpaceConfig\n",
    "from genetic_multidiscrete_space_config import GeneticMultiDiscreteSpaceConfig\n",
    "from genetic_config import GeneticConfig\n",
    "from genetic_solver import GeneticSolver"
   ]
  },
  {
   "cell_type": "code",
   "execution_count": 7,
   "id": "49d4e6ba",
   "metadata": {},
   "outputs": [],
   "source": [
    "from stable_baselines3 import PPO\n",
    "from stable_baselines3 import A2C\n",
    "from stable_baselines3.common.env_checker import check_env"
   ]
  },
  {
   "cell_type": "code",
   "execution_count": 8,
   "id": "5179b777",
   "metadata": {},
   "outputs": [],
   "source": [
    "from rl_multibinary_config import RlMultiBinaryConfig\n",
    "from rl_multidiscrete_config import RlMultiDiscreteConfig\n",
    "from rl_graphic import RlGraphic\n",
    "from rl_env import RlEnv\n",
    "from rl_solver import RlSolver"
   ]
  },
  {
   "cell_type": "code",
   "execution_count": 9,
   "id": "5072816b-85c3-4afd-89bd-b96ff7b9fd80",
   "metadata": {},
   "outputs": [],
   "source": [
    "from model_builder import ModelBuilder\n",
    "from solve_action import SolveAction"
   ]
  },
  {
   "cell_type": "code",
   "execution_count": 10,
   "id": "25078569-d503-4929-a8a4-3f2b956821ca",
   "metadata": {},
   "outputs": [],
   "source": [
    "from cost_calculator_factory import CostCalculatorFactory"
   ]
  },
  {
   "cell_type": "code",
   "execution_count": 11,
   "id": "8531db30-465f-465c-8727-3265f667afc9",
   "metadata": {},
   "outputs": [],
   "source": [
    "M = 10 ** 6\n",
    "dtype = np.int64\n",
    "policy = 'MlpPolicy'"
   ]
  },
  {
   "cell_type": "code",
   "execution_count": 12,
   "id": "e33516ff-7a45-476a-b1d6-c0b3ddab4db9",
   "metadata": {},
   "outputs": [],
   "source": [
    "var_table = VarTable()"
   ]
  },
  {
   "cell_type": "code",
   "execution_count": null,
   "id": "11983be2",
   "metadata": {},
   "outputs": [],
   "source": []
  },
  {
   "cell_type": "code",
   "execution_count": 13,
   "id": "4ebc40c1-a36b-4d61-8945-19f70206cfb6",
   "metadata": {},
   "outputs": [],
   "source": [
    "class ExperimentForGroup:\n",
    "    def __init__(self, group_name, experiments_count):\n",
    "        self.group_name = group_name\n",
    "        self.experiments_count = experiments_count\n",
    "        \n",
    "        # fitnesses\n",
    "        self.binary_genetic_fitnesses = []\n",
    "        self.discrete_genetic_fitnesses = []\n",
    "        \n",
    "        self.binary_rl_a2c_fitnessses = []\n",
    "        self.binary_rl_ppo_fitnessess = []\n",
    "        self.discrete_rl_a2c_fitnesses = []\n",
    "        self.discrete_rl_ppo_fitnesses = []\n",
    "\n",
    "        self.glpk_fitnesses = []\n",
    "        self.xpress_fitnesses = []\n",
    "        self.mpec_minlp_fitnesses = []\n",
    "        self.ilogcp_fitnesses = []\n",
    "\n",
    "        # durations\n",
    "        self.binary_genetic_durations = []\n",
    "        self.discrete_genetic_durations = []\n",
    "\n",
    "        self.binary_rl_a2c_durations = []\n",
    "        self.binary_rl_ppo_durations = []\n",
    "        self.discrete_rl_a2c_durations = []\n",
    "        self.discrete_rl_ppo_durations = []\n",
    "\n",
    "        self.glpk_durations = []\n",
    "        self.xpress_durations = []\n",
    "        self.mpec_minlp_durations = []\n",
    "        self.ilogcp_durations = []\n",
    "\n",
    "\n",
    "    def make(self):\n",
    "        progress = IntProgress(min=0, max=self.experiments_count, value=0, description=self.group_name, bar_style='success')\n",
    "        display(progress)\n",
    "        for experiment_number in range(1, self.experiments_count + 1):\n",
    "            self.make_experiment(experiment_number, progress)\n",
    "        fitnesses_dataset = {\n",
    "            'binary genetic': self.binary_genetic_fitnesses,\n",
    "            'discrete genetic': self.discrete_genetic_fitnesses,\n",
    "            'binary rl a2c': self.binary_rl_a2c_fitnessses,\n",
    "            'binary rl ppo': self.binary_rl_ppo_fitnessess,\n",
    "            'discrete rl a2c': self.discrete_rl_a2c_fitnesses,\n",
    "            'discrete rl ppo': self.discrete_rl_ppo_fitnesses,\n",
    "            'glpk': self.glpk_fitnesses,\n",
    "            'xpress': self.xpress_fitnesses,\n",
    "            'mpec_minlp': self.mpec_minlp_fitnesses,\n",
    "            'ilogcp': self.ilogcp_fitnesses\n",
    "        }\n",
    "\n",
    "        durations_dataset = {\n",
    "            'binary genetic': self.binary_genetic_durations,\n",
    "            'discrete genetic': self.discrete_genetic_durations,\n",
    "            'binary rl a2c': self.binary_rl_a2c_durations,\n",
    "            'binary rl ppo': self.binary_rl_ppo_durations,\n",
    "            'discrete rl a2c': self.discrete_rl_a2c_durations,\n",
    "            'discrete rl ppo': self.discrete_rl_ppo_durations,\n",
    "            'glpk': self.glpk_durations,\n",
    "            'xpress': self.xpress_durations,\n",
    "            'mpec_minlp': self.mpec_minlp_durations,\n",
    "            'ilogcp': self.ilogcp_durations\n",
    "        }\n",
    "\n",
    "        self.violinplot(fitnesses_dataset, 'fitnesses')\n",
    "        self.violinplot(durations_dataset, 'durations')\n",
    "\n",
    "    def violinplot(self, dataset, name):\n",
    "        df = pd.DataFrame(dataset)\n",
    "        df_melted = pd.melt(df)\n",
    "        title = name\n",
    "        sns.violinplot(x='variable', y='value', data=df_melted, width=0.5, dodge=False, hue='variable').set(title=title)\n",
    "        plt.xticks(rotation=75)\n",
    "        plt.xlabel('')\n",
    "        plt.ylabel('fitness')\n",
    "\n",
    "    def make_experiment(self, experiment_number, progress):\n",
    "        nested_directory = var_table.get_nested_directory(self.group_name, experiment_number)\n",
    "        T_file_path = '{}/T.csv'.format(nested_directory)\n",
    "        D_file_path = '{}/D.csv'.format(nested_directory)\n",
    "        C_file_path = '{}/C.csv'.format(nested_directory)\n",
    "        E_file_path = '{}/E.csv'.format(nested_directory)\n",
    "        T_df = pd.read_csv(T_file_path, index_col=False, header=None)\n",
    "        D_df = pd.read_csv(D_file_path, index_col=False, header=None)\n",
    "        C_df = pd.read_csv(C_file_path, index_col=False, header=None)\n",
    "        E_df = pd.read_csv(E_file_path, index_col=False, header=None)\n",
    "        T = T_df.to_numpy()\n",
    "        D = D_df.to_numpy()\n",
    "        C = C_df.to_numpy()\n",
    "        E = E_df.to_numpy()\n",
    "        cost_calculator_factory = CostCalculatorFactory(T, D, C, E)\n",
    "        m = np.shape(T)[1]\n",
    "        k = var_table.generate_k(self.group_name)\n",
    "        \n",
    "        # genetic\n",
    "        binary_genetic_solver = self.create_binary_genetic_solver(m, k, cost_calculator_factory)\n",
    "        discrete_genetic_solver = self.create_discrete_genetic_solver(m, k, cost_calculator_factory)\n",
    "\n",
    "        binary_genetic_solution, binary_genetic_solution_fitness, binary_genetic_solution_idx, binary_genetic_solution_duration = binary_genetic_solver.solve()\n",
    "        discrete_genetic_solution, discrete_genetic_solution_fitness, discrete_genetic_solution_idx, discrete_genetic_solution_duration = discrete_genetic_solver.solve()\n",
    "        \n",
    "        self.binary_genetic_fitnesses.append(binary_genetic_solution_fitness)\n",
    "        self.discrete_genetic_fitnesses.append(discrete_genetic_solution_fitness)\n",
    "\n",
    "        self.binary_genetic_durations.append(binary_genetic_solution_duration)\n",
    "        self.discrete_genetic_durations.append(discrete_genetic_solution_duration)\n",
    "\n",
    "        # rl\n",
    "        binary_rl_a2c_solver = self.create_binary_rl_solver(m, k, cost_calculator_factory, A2C)\n",
    "        binary_rl_ppo_solver = self.create_binary_rl_solver(m, k, cost_calculator_factory, PPO)\n",
    "        discrete_rl_a2c_solver = self.create_discrete_rl_solver(m, k, cost_calculator_factory, A2C)\n",
    "        discrete_rl_ppo_solver = self.create_discrete_rl_solver(m, k, cost_calculator_factory, PPO)\n",
    "\n",
    "        binary_rl_a2c_fitness, binary_rl_a2c_solution, binary_rl_a2c_duration = binary_rl_a2c_solver.solve()\n",
    "        binary_rl_ppo_fitness, binary_rl_ppo_solution, binary_rl_ppo_duration = binary_rl_ppo_solver.solve()\n",
    "        discrete_rl_a2c_fitness, discrete_rl_a2c_solution, discrete_rl_a2c_duration = discrete_rl_a2c_solver.solve()\n",
    "        discrete_rl_ppo_fitness, discrete_rl_ppo_solution, discrete_rl_ppo_duration = discrete_rl_ppo_solver.solve()\n",
    "\n",
    "        self.binary_rl_a2c_fitnessses.append(binary_rl_a2c_fitness)\n",
    "        self.binary_rl_ppo_fitnessess.append(binary_rl_ppo_fitness)\n",
    "        self.discrete_rl_a2c_fitnesses.append(discrete_rl_a2c_fitness)\n",
    "        self.discrete_rl_ppo_fitnesses.append(discrete_rl_ppo_fitness)\n",
    "\n",
    "        self.binary_rl_a2c_durations.append(binary_rl_a2c_duration)\n",
    "        self.binary_rl_ppo_durations.append(binary_rl_ppo_duration)\n",
    "        self.discrete_rl_a2c_durations.append(discrete_rl_a2c_duration)\n",
    "        self.discrete_rl_ppo_durations.append(discrete_rl_ppo_duration)\n",
    "\n",
    "        # solvers\n",
    "        glpk_solver = self.create_solver(M, k, T, D, C, E, 'glpk')\n",
    "        xpress_solver = self.create_solver(M, k, T, D, C, E, 'xpress')\n",
    "        mpec_minlp_solver = self.create_solver(M, k, T, D, C, E, 'mpec_minlp')\n",
    "        ilogcp_solver = self.create_solver(M, k, T, D, C, E, 'ilogcp')\n",
    "\n",
    "        # glpk\n",
    "        glpk_instance, glpk_duration = glpk_solver.solve()\n",
    "        glpk_A = glpk_instance.A\n",
    "        glpk_cost_calculator = cost_calculator_factory.get_cost_calculator(glpk_A)\n",
    "        glpk_fitness = glpk_cost_calculator.calculate()\n",
    "        \n",
    "        self.glpk_fitnesses.append(glpk_fitness)\n",
    "        self.glpk_durations.append(glpk_duration)\n",
    "\n",
    "        # xpress\n",
    "        xpress_instance, xpress_duration = xpress_solver.solve()\n",
    "        xpress_A = xpress_instance.A\n",
    "        xpress_cost_calculator = cost_calculator_factory.get_cost_calculator(xpress_A)\n",
    "        xpress_fitness = xpress_cost_calculator.calculate()\n",
    "        \n",
    "        self.xpress_fitnesses.append(xpress_fitness)\n",
    "        self.xpress_durations.append(xpress_duration)\n",
    "\n",
    "        # mpec_minlp\n",
    "        mpec_minlp_instance, mpec_minlp_duration = mpec_minlp_solver.solve()\n",
    "        mpec_minlp_A = mpec_minlp_instance.A\n",
    "        mpec_minlp_cost_calculator = cost_calculator_factory.get_cost_calculator(mpec_minlp_A)\n",
    "        mpec_minlp_fitness = mpec_minlp_cost_calculator.calculate()\n",
    "        \n",
    "        self.mpec_minlp_fitnesses.append(mpec_minlp_fitness)\n",
    "        self.mpec_minlp_durations.append(mpec_minlp_duration)\n",
    "\n",
    "        # ilogcp\n",
    "        ilogcp_instance,ilogcp_duration = ilogcp_solver.solve()\n",
    "        ilogcp_A = ilogcp_instance.A\n",
    "        ilogcp_cost_calculator = cost_calculator_factory.get_cost_calculator(ilogcp_A)\n",
    "        ilogcp_fitness = ilogcp_cost_calculator.calculate()\n",
    "        \n",
    "        self.ilogcp_fitnesses.append(ilogcp_fitness)\n",
    "        self.ilogcp_durations.append(ilogcp_duration)\n",
    "\n",
    "\n",
    "        progress.value += 1\n",
    "    \n",
    "    # glpk, xpress, mpec_minlp, ilogcp\n",
    "    def create_solver(self, M, k, T, D, C, E, solver_name):\n",
    "        model_builder = ModelBuilder(M, k, T, D, C, E)\n",
    "        model = model_builder.build()\n",
    "        solver = SolveAction(model, solver_name)\n",
    "        return solver\n",
    "\n",
    "    def create_binary_genetic_solver(self, m, k, cost_calculator_factory):\n",
    "        converter = MultiBinaryConverter(m, k)\n",
    "        fitness_calculator = FitnessCalculator(cost_calculator_factory, converter)\n",
    "        space_config = GeneticMultiBinarySpaceConfig(m, k)\n",
    "        config = GeneticConfig(space_config)\n",
    "        description = 'binary genetic'\n",
    "        progress = IntProgress(min=0, max=config.num_generations, value=0, description=description, bar_style='success')\n",
    "        solver = GeneticSolver(config, fitness_calculator, progress)\n",
    "        return solver\n",
    "\n",
    "    def create_discrete_genetic_solver(self, m, k, cost_calculator_factory):\n",
    "        converter = MultiDiscreteConverter(m, k)\n",
    "        fitness_calculator = FitnessCalculator(cost_calculator_factory, converter)\n",
    "        space_config = GeneticMultiDiscreteSpaceConfig(m, k)\n",
    "        config = GeneticConfig(space_config)\n",
    "        description = 'discrete genetic'\n",
    "        progress = IntProgress(min=0, max=config.num_generations, value=0, description=description, bar_style='success')\n",
    "        solver = GeneticSolver(config, fitness_calculator, progress)\n",
    "        return solver\n",
    "    \n",
    "    def create_binary_rl_solver(self, m, k, cost_calculator_factory, algorithm):\n",
    "        total_timesteps = 100\n",
    "        config = RlMultiBinaryConfig(m, k, dtype)\n",
    "        converter = MultiBinaryConverter(m, k)\n",
    "        fitness_calcultor = FitnessCalculator(cost_calculator_factory, converter)\n",
    "        progress = IntProgress(min=0, max=total_timesteps, value=0, description='multibinary', bar_style='success')\n",
    "        graphic = RlGraphic('multibinary')\n",
    "        env = RlEnv(config, fitness_calcultor, progress, graphic)\n",
    "        check_env(env)\n",
    "        model = algorithm(policy, env)\n",
    "        solver = RlSolver(model, total_timesteps)\n",
    "        return solver\n",
    "    \n",
    "    def create_discrete_rl_solver(self, m, k, cost_calculator_factory, algorithm):\n",
    "        total_timesteps = 100\n",
    "        config = RlMultiDiscreteConfig(m, k, dtype)\n",
    "        converter = MultiDiscreteConverter(m, k)\n",
    "        fitness_calculator = FitnessCalculator(cost_calculator_factory, converter)\n",
    "        progress = IntProgress(min=0, max=total_timesteps, value=0, description='multidiscrete', bar_style='success')\n",
    "        graphic = RlGraphic('multidiscrete')\n",
    "        env = RlEnv(config, fitness_calculator, progress, graphic)\n",
    "        check_env(env)\n",
    "        model = algorithm(policy, env)\n",
    "        solver = RlSolver(model, total_timesteps)\n",
    "        return solver\n"
   ]
  },
  {
   "cell_type": "code",
   "execution_count": null,
   "id": "ea433a19-c5a9-41af-9585-ef14a4df309e",
   "metadata": {},
   "outputs": [],
   "source": []
  },
  {
   "cell_type": "code",
   "execution_count": 14,
   "id": "8c3744b1-c10b-4f95-bc45-983f4dd07d34",
   "metadata": {},
   "outputs": [],
   "source": [
    "group_name = 'G0'\n",
    "experiments_count = 100"
   ]
  },
  {
   "cell_type": "code",
   "execution_count": 15,
   "id": "b82da0f3-b110-41db-b17d-a27a1f2c6bd4",
   "metadata": {},
   "outputs": [],
   "source": [
    "experiment_for_group = ExperimentForGroup(group_name, experiments_count)"
   ]
  },
  {
   "cell_type": "code",
   "execution_count": 16,
   "id": "e93336c5-a957-424a-9455-c96ee2f7cc50",
   "metadata": {},
   "outputs": [
    {
     "data": {
      "application/vnd.jupyter.widget-view+json": {
       "model_id": "76f9e40a92994c28b05278d1cc85f1aa",
       "version_major": 2,
       "version_minor": 0
      },
      "text/plain": [
       "IntProgress(value=0, bar_style='success', description='G0')"
      ]
     },
     "metadata": {},
     "output_type": "display_data"
    },
    {
     "name": "stdout",
     "output_type": "stream",
     "text": [
      "WARNING: Could not locate the 'glpsol' executable, which is required for\n",
      "solver 'glpk'\n"
     ]
    },
    {
     "ename": "ApplicationError",
     "evalue": "No executable found for solver 'glpk'",
     "output_type": "error",
     "traceback": [
      "\u001b[1;31m---------------------------------------------------------------------------\u001b[0m",
      "\u001b[1;31mApplicationError\u001b[0m                          Traceback (most recent call last)",
      "Cell \u001b[1;32mIn[16], line 1\u001b[0m\n\u001b[1;32m----> 1\u001b[0m \u001b[43mexperiment_for_group\u001b[49m\u001b[38;5;241;43m.\u001b[39;49m\u001b[43mmake\u001b[49m\u001b[43m(\u001b[49m\u001b[43m)\u001b[49m\n",
      "Cell \u001b[1;32mIn[13], line 39\u001b[0m, in \u001b[0;36mExperimentForGroup.make\u001b[1;34m(self)\u001b[0m\n\u001b[0;32m     37\u001b[0m display(progress)\n\u001b[0;32m     38\u001b[0m \u001b[38;5;28;01mfor\u001b[39;00m experiment_number \u001b[38;5;129;01min\u001b[39;00m \u001b[38;5;28mrange\u001b[39m(\u001b[38;5;241m1\u001b[39m, \u001b[38;5;28mself\u001b[39m\u001b[38;5;241m.\u001b[39mexperiments_count \u001b[38;5;241m+\u001b[39m \u001b[38;5;241m1\u001b[39m):\n\u001b[1;32m---> 39\u001b[0m     \u001b[38;5;28;43mself\u001b[39;49m\u001b[38;5;241;43m.\u001b[39;49m\u001b[43mmake_experiment\u001b[49m\u001b[43m(\u001b[49m\u001b[43mexperiment_number\u001b[49m\u001b[43m,\u001b[49m\u001b[43m \u001b[49m\u001b[43mprogress\u001b[49m\u001b[43m)\u001b[49m\n\u001b[0;32m     40\u001b[0m fitnesses_dataset \u001b[38;5;241m=\u001b[39m {\n\u001b[0;32m     41\u001b[0m     \u001b[38;5;124m'\u001b[39m\u001b[38;5;124mbinary genetic\u001b[39m\u001b[38;5;124m'\u001b[39m: \u001b[38;5;28mself\u001b[39m\u001b[38;5;241m.\u001b[39mbinary_genetic_fitnesses,\n\u001b[0;32m     42\u001b[0m     \u001b[38;5;124m'\u001b[39m\u001b[38;5;124mdiscrete genetic\u001b[39m\u001b[38;5;124m'\u001b[39m: \u001b[38;5;28mself\u001b[39m\u001b[38;5;241m.\u001b[39mdiscrete_genetic_fitnesses,\n\u001b[1;32m   (...)\u001b[0m\n\u001b[0;32m     50\u001b[0m     \u001b[38;5;124m'\u001b[39m\u001b[38;5;124milogcp\u001b[39m\u001b[38;5;124m'\u001b[39m: \u001b[38;5;28mself\u001b[39m\u001b[38;5;241m.\u001b[39milogcp_fitnesses\n\u001b[0;32m     51\u001b[0m }\n\u001b[0;32m     53\u001b[0m durations_dataset \u001b[38;5;241m=\u001b[39m {\n\u001b[0;32m     54\u001b[0m     \u001b[38;5;124m'\u001b[39m\u001b[38;5;124mbinary genetic\u001b[39m\u001b[38;5;124m'\u001b[39m: \u001b[38;5;28mself\u001b[39m\u001b[38;5;241m.\u001b[39mbinary_genetic_durations,\n\u001b[0;32m     55\u001b[0m     \u001b[38;5;124m'\u001b[39m\u001b[38;5;124mdiscrete genetic\u001b[39m\u001b[38;5;124m'\u001b[39m: \u001b[38;5;28mself\u001b[39m\u001b[38;5;241m.\u001b[39mdiscrete_genetic_durations,\n\u001b[1;32m   (...)\u001b[0m\n\u001b[0;32m     63\u001b[0m     \u001b[38;5;124m'\u001b[39m\u001b[38;5;124milogcp\u001b[39m\u001b[38;5;124m'\u001b[39m: \u001b[38;5;28mself\u001b[39m\u001b[38;5;241m.\u001b[39milogcp_durations\n\u001b[0;32m     64\u001b[0m }\n",
      "Cell \u001b[1;32mIn[13], line 137\u001b[0m, in \u001b[0;36mExperimentForGroup.make_experiment\u001b[1;34m(self, experiment_number, progress)\u001b[0m\n\u001b[0;32m    134\u001b[0m ilogcp_solver \u001b[38;5;241m=\u001b[39m \u001b[38;5;28mself\u001b[39m\u001b[38;5;241m.\u001b[39mcreate_solver(M, k, T, D, C, E, \u001b[38;5;124m'\u001b[39m\u001b[38;5;124milogcp\u001b[39m\u001b[38;5;124m'\u001b[39m)\n\u001b[0;32m    136\u001b[0m \u001b[38;5;66;03m# glpk\u001b[39;00m\n\u001b[1;32m--> 137\u001b[0m glpk_instance, glpk_duration \u001b[38;5;241m=\u001b[39m \u001b[43mglpk_solver\u001b[49m\u001b[38;5;241;43m.\u001b[39;49m\u001b[43msolve\u001b[49m\u001b[43m(\u001b[49m\u001b[43m)\u001b[49m\n\u001b[0;32m    138\u001b[0m glpk_A \u001b[38;5;241m=\u001b[39m glpk_instance\u001b[38;5;241m.\u001b[39mA\n\u001b[0;32m    139\u001b[0m glpk_cost_calculator \u001b[38;5;241m=\u001b[39m cost_calculator_factory\u001b[38;5;241m.\u001b[39mget_cost_calculator(glpk_A)\n",
      "File \u001b[1;32mc:\\Users\\1\\Desktop\\yewking\\task_description\\solve_action.py:21\u001b[0m, in \u001b[0;36mSolveAction.solve\u001b[1;34m(self)\u001b[0m\n\u001b[0;32m     19\u001b[0m timer \u001b[38;5;241m=\u001b[39m Timer()\n\u001b[0;32m     20\u001b[0m timer\u001b[38;5;241m.\u001b[39mstart()\n\u001b[1;32m---> 21\u001b[0m result \u001b[38;5;241m=\u001b[39m \u001b[43msolver\u001b[49m\u001b[38;5;241;43m.\u001b[39;49m\u001b[43msolve\u001b[49m\u001b[43m(\u001b[49m\u001b[43minstance\u001b[49m\u001b[43m)\u001b[49m\n\u001b[0;32m     22\u001b[0m timer\u001b[38;5;241m.\u001b[39mstop()\n\u001b[0;32m     23\u001b[0m duration \u001b[38;5;241m=\u001b[39m timer\u001b[38;5;241m.\u001b[39mget_duration()\n",
      "File \u001b[1;32mc:\\Users\\1\\AppData\\Local\\Programs\\Python\\Python312\\Lib\\site-packages\\pyomo\\opt\\base\\solvers.py:534\u001b[0m, in \u001b[0;36mOptSolver.solve\u001b[1;34m(self, *args, **kwds)\u001b[0m\n\u001b[0;32m    531\u001b[0m \u001b[38;5;28;01mdef\u001b[39;00m \u001b[38;5;21msolve\u001b[39m(\u001b[38;5;28mself\u001b[39m, \u001b[38;5;241m*\u001b[39margs, \u001b[38;5;241m*\u001b[39m\u001b[38;5;241m*\u001b[39mkwds):\n\u001b[0;32m    532\u001b[0m \u001b[38;5;250m    \u001b[39m\u001b[38;5;124;03m\"\"\"Solve the problem\"\"\"\u001b[39;00m\n\u001b[1;32m--> 534\u001b[0m     \u001b[38;5;28;43mself\u001b[39;49m\u001b[38;5;241;43m.\u001b[39;49m\u001b[43mavailable\u001b[49m\u001b[43m(\u001b[49m\u001b[43mexception_flag\u001b[49m\u001b[38;5;241;43m=\u001b[39;49m\u001b[38;5;28;43;01mTrue\u001b[39;49;00m\u001b[43m)\u001b[49m\n\u001b[0;32m    535\u001b[0m     \u001b[38;5;66;03m#\u001b[39;00m\n\u001b[0;32m    536\u001b[0m     \u001b[38;5;66;03m# If the inputs are models, then validate that they have been\u001b[39;00m\n\u001b[0;32m    537\u001b[0m     \u001b[38;5;66;03m# constructed! Collect suffix names to try and import from solution.\u001b[39;00m\n\u001b[0;32m    538\u001b[0m     \u001b[38;5;66;03m#\u001b[39;00m\n\u001b[0;32m    539\u001b[0m     \u001b[38;5;28;01mfrom\u001b[39;00m \u001b[38;5;21;01mpyomo\u001b[39;00m\u001b[38;5;21;01m.\u001b[39;00m\u001b[38;5;21;01mcore\u001b[39;00m\u001b[38;5;21;01m.\u001b[39;00m\u001b[38;5;21;01mbase\u001b[39;00m\u001b[38;5;21;01m.\u001b[39;00m\u001b[38;5;21;01mblock\u001b[39;00m \u001b[38;5;28;01mimport\u001b[39;00m BlockData\n",
      "File \u001b[1;32mc:\\Users\\1\\AppData\\Local\\Programs\\Python\\Python312\\Lib\\site-packages\\pyomo\\opt\\solver\\shellcmd.py:140\u001b[0m, in \u001b[0;36mSystemCallSolver.available\u001b[1;34m(self, exception_flag)\u001b[0m\n\u001b[0;32m    138\u001b[0m     \u001b[38;5;28;01mif\u001b[39;00m exception_flag:\n\u001b[0;32m    139\u001b[0m         msg \u001b[38;5;241m=\u001b[39m \u001b[38;5;124m\"\u001b[39m\u001b[38;5;124mNo executable found for solver \u001b[39m\u001b[38;5;124m'\u001b[39m\u001b[38;5;132;01m%s\u001b[39;00m\u001b[38;5;124m'\u001b[39m\u001b[38;5;124m\"\u001b[39m\n\u001b[1;32m--> 140\u001b[0m         \u001b[38;5;28;01mraise\u001b[39;00m ApplicationError(msg \u001b[38;5;241m%\u001b[39m \u001b[38;5;28mself\u001b[39m\u001b[38;5;241m.\u001b[39mname)\n\u001b[0;32m    141\u001b[0m     \u001b[38;5;28;01mreturn\u001b[39;00m \u001b[38;5;28;01mFalse\u001b[39;00m\n\u001b[0;32m    142\u001b[0m \u001b[38;5;28;01mreturn\u001b[39;00m \u001b[38;5;28;01mTrue\u001b[39;00m\n",
      "\u001b[1;31mApplicationError\u001b[0m: No executable found for solver 'glpk'"
     ]
    }
   ],
   "source": [
    "experiment_for_group.make()"
   ]
  }
 ],
 "metadata": {
  "kernelspec": {
   "display_name": "Python 3",
   "language": "python",
   "name": "python3"
  },
  "language_info": {
   "codemirror_mode": {
    "name": "ipython",
    "version": 3
   },
   "file_extension": ".py",
   "mimetype": "text/x-python",
   "name": "python",
   "nbconvert_exporter": "python",
   "pygments_lexer": "ipython3",
   "version": "3.12.1"
  }
 },
 "nbformat": 4,
 "nbformat_minor": 5
}
