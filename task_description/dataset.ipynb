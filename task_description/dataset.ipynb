{
 "cells": [
  {
   "cell_type": "code",
   "execution_count": 73,
   "id": "5c7ed2f9-c4be-49ff-9dae-b228683d7573",
   "metadata": {},
   "outputs": [],
   "source": [
    "import pandas as pd\n",
    "import numpy as np\n",
    "import seaborn as sns\n",
    "import matplotlib.pyplot as plt"
   ]
  },
  {
   "cell_type": "code",
   "execution_count": 74,
   "id": "e4efdee8",
   "metadata": {},
   "outputs": [],
   "source": [
    "import warnings\n",
    "warnings.filterwarnings(\"ignore\")"
   ]
  },
  {
   "cell_type": "code",
   "execution_count": 75,
   "id": "27ba6c5d-109b-4907-8194-15448f78de44",
   "metadata": {},
   "outputs": [],
   "source": [
    "from ipywidgets import IntProgress\n",
    "from IPython.display import display"
   ]
  },
  {
   "cell_type": "code",
   "execution_count": 76,
   "id": "926d1734-7f7f-4e5d-8734-f01b87a35da5",
   "metadata": {},
   "outputs": [],
   "source": [
    "from var_table import VarTable"
   ]
  },
  {
   "cell_type": "code",
   "execution_count": 77,
   "id": "3ddf99af-dfec-4637-82e7-9c50a4459ea4",
   "metadata": {},
   "outputs": [],
   "source": [
    "from cost_calculator_factory import CostCalculatorFactory\n",
    "from multibinary_converter import MultiBinaryConverter\n",
    "from multidiscrete_converter import MultiDiscreteConverter\n",
    "from fitness_calculator import FitnessCalculator"
   ]
  },
  {
   "cell_type": "code",
   "execution_count": 78,
   "id": "94d17be8-ebd0-4a13-ae54-00d728a82508",
   "metadata": {},
   "outputs": [],
   "source": [
    "from genetic_multibinary_space_config import GeneticMultiBinarySpaceConfig\n",
    "from genetic_multidiscrete_space_config import GeneticMultiDiscreteSpaceConfig\n",
    "from genetic_config import GeneticConfig\n",
    "from genetic_solver import GeneticSolver"
   ]
  },
  {
   "cell_type": "code",
   "execution_count": 79,
   "id": "49d4e6ba",
   "metadata": {},
   "outputs": [],
   "source": [
    "from stable_baselines3 import PPO\n",
    "from stable_baselines3 import A2C\n",
    "from stable_baselines3.common.env_checker import check_env"
   ]
  },
  {
   "cell_type": "code",
   "execution_count": 80,
   "id": "5179b777",
   "metadata": {},
   "outputs": [],
   "source": [
    "from rl_multibinary_config import RlMultiBinaryConfig\n",
    "from rl_multidiscrete_config import RlMultiDiscreteConfig\n",
    "from rl_graphic import RlGraphic\n",
    "from rl_env import RlEnv\n",
    "from rl_solver import RlSolver"
   ]
  },
  {
   "cell_type": "code",
   "execution_count": 81,
   "id": "5072816b-85c3-4afd-89bd-b96ff7b9fd80",
   "metadata": {},
   "outputs": [],
   "source": [
    "from model_builder import ModelBuilder\n",
    "from solve_action import SolveAction"
   ]
  },
  {
   "cell_type": "code",
   "execution_count": 82,
   "id": "25078569-d503-4929-a8a4-3f2b956821ca",
   "metadata": {},
   "outputs": [],
   "source": [
    "from cost_calculator_factory import CostCalculatorFactory"
   ]
  },
  {
   "cell_type": "code",
   "execution_count": 83,
   "id": "8531db30-465f-465c-8727-3265f667afc9",
   "metadata": {},
   "outputs": [],
   "source": [
    "M = 10 ** 6\n",
    "dtype = np.int64\n",
    "policy = 'MlpPolicy'"
   ]
  },
  {
   "cell_type": "code",
   "execution_count": 84,
   "id": "e33516ff-7a45-476a-b1d6-c0b3ddab4db9",
   "metadata": {},
   "outputs": [],
   "source": [
    "var_table = VarTable()"
   ]
  },
  {
   "cell_type": "code",
   "execution_count": null,
   "id": "8da1c571-e1d3-4269-b13e-79e5bbfedb57",
   "metadata": {},
   "outputs": [],
   "source": []
  },
  {
   "cell_type": "code",
   "execution_count": null,
   "id": "4ebc40c1-a36b-4d61-8945-19f70206cfb6",
   "metadata": {},
   "outputs": [],
   "source": [
    "class ExperimentForGroup:\n",
    "    def __init__(self, group_name, experiments_count):\n",
    "        self.group_name = group_name\n",
    "        self.experiments_count = experiments_count\n",
    "        self.binary_genetic_fitnesses = []\n",
    "        self.discrete_genetic_fitnesses = []\n",
    "        self.binary_rl_a2c_fitnessses = []\n",
    "        self.binary_rl_ppo_fitnessess = []\n",
    "        self.discrete_rl_a2c_fitnesses = []\n",
    "        self.discrete_rl_ppo_fitnesses = []\n",
    "\n",
    "    def make(self):\n",
    "        progress = IntProgress(min=0, max=self.experiments_count, value=0, description=self.group_name, bar_style='success')\n",
    "        display(progress)\n",
    "        for experiment_number in range(1, self.experiments_count + 1):\n",
    "            self.make_experiment(experiment_number, progress)\n",
    "        dataset = {\n",
    "            'binary genetic': self.binary_genetic_fitnesses,\n",
    "            'discrete genetic': self.discrete_genetic_fitnesses,\n",
    "            'binary rl a2c': self.binary_rl_a2c_fitnessses,\n",
    "            'binary rl ppo': self.binary_rl_ppo_fitnessess,\n",
    "            'discrete rl a2c': self.discrete_rl_a2c_fitnesses,\n",
    "            'discrete rl ppo': self.discrete_rl_ppo_fitnesses\n",
    "        }\n",
    "        self.violinplot(dataset)\n",
    "\n",
    "    def violinplot(self, dataset):\n",
    "        df = pd.DataFrame(dataset)\n",
    "        df_melted = pd.melt(df)\n",
    "        title = 'Statistic'\n",
    "        sns.violinplot(x='variable', y='value', data=df_melted, width=0.5, dodge=False, hue='variable').set(title=title)\n",
    "        plt.xticks(rotation=75)\n",
    "        plt.xlabel('')\n",
    "        plt.ylabel('fitness')\n",
    "\n",
    "    def make_experiment(self, experiment_number, progress):\n",
    "        nested_directory = var_table.get_nested_directory(self.group_name, experiment_number)\n",
    "        T_file_path = '{}/T.csv'.format(nested_directory)\n",
    "        D_file_path = '{}/D.csv'.format(nested_directory)\n",
    "        C_file_path = '{}/C.csv'.format(nested_directory)\n",
    "        E_file_path = '{}/E.csv'.format(nested_directory)\n",
    "        T_df = pd.read_csv(T_file_path, index_col=False, header=None)\n",
    "        D_df = pd.read_csv(D_file_path, index_col=False, header=None)\n",
    "        C_df = pd.read_csv(C_file_path, index_col=False, header=None)\n",
    "        E_df = pd.read_csv(E_file_path, index_col=False, header=None)\n",
    "        T = T_df.to_numpy()\n",
    "        D = D_df.to_numpy()\n",
    "        C = C_df.to_numpy()\n",
    "        E = E_df.to_numpy()\n",
    "        cost_calculator_factory = CostCalculatorFactory(T, D, C, E)\n",
    "        m = np.shape(T)[1]\n",
    "        k = var_table.generate_k(self.group_name)\n",
    "\n",
    "        binary_genetic_solver = self.create_binary_genetic_solver(m, k, cost_calculator_factory)\n",
    "        discrete_genetic_solver = self.create_discrete_genetic_solver(m, k, cost_calculator_factory)\n",
    "        binary_rl_a2c_solver = self.create_binary_rl_solver(m, k, cost_calculator_factory, A2C)\n",
    "        binary_rl_ppo_solver = self.create_binary_rl_solver(m, k, cost_calculator_factory, PPO)\n",
    "        discrete_rl_a2c_solver = self.create_discrete_rl_solver(m, k, cost_calculator_factory, A2C)\n",
    "        discrete_rl_ppo_solver = self.create_discrete_rl_solver(m, k, cost_calculator_factory, PPO)\n",
    "        \n",
    "        binary_solution, binary_solution_fitness, binary_solution_idx = binary_genetic_solver.solve()\n",
    "        discrete_solution, discrete_solution_fitness, discrete_solution_idx = discrete_genetic_solver.solve()\n",
    "        binary_rl_a2c_fitness, binary_rl_a2c_solution = binary_rl_a2c_solver.solve()\n",
    "        binary_rl_ppo_fitness, binary_rl_ppo_solution = binary_rl_ppo_solver.solve()\n",
    "        discrete_rl_a2c_fitness, discrete_rl_a2c_solution = discrete_rl_a2c_solver.solve()\n",
    "        discrete_rl_ppo_fitness, discrete_rl_ppo_solution = discrete_rl_ppo_solver.solve()\n",
    "\n",
    "        self.binary_genetic_fitnesses.append(binary_solution_fitness)\n",
    "        self.discrete_genetic_fitnesses.append(discrete_solution_fitness)\n",
    "        self.binary_rl_a2c_fitnessses.append(binary_rl_a2c_fitness)\n",
    "        self.binary_rl_ppo_fitnessess.append(binary_rl_ppo_fitness)\n",
    "        self.discrete_rl_a2c_fitnesses.append(discrete_rl_a2c_fitness)\n",
    "        self.discrete_rl_ppo_fitnesses.append(discrete_rl_ppo_fitness)\n",
    "\n",
    "        progress.value += 1\n",
    "        \n",
    "\n",
    "    def create_binary_genetic_solver(self, m, k, cost_calculator_factory):\n",
    "        converter = MultiBinaryConverter(m, k)\n",
    "        fitness_calculator = FitnessCalculator(cost_calculator_factory, converter)\n",
    "        space_config = GeneticMultiBinarySpaceConfig(m, k)\n",
    "        config = GeneticConfig(space_config)\n",
    "        description = 'binary genetic'\n",
    "        progress = IntProgress(min=0, max=config.num_generations, value=0, description=description, bar_style='success')\n",
    "        solver = GeneticSolver(config, fitness_calculator, progress)\n",
    "        return solver\n",
    "\n",
    "    def create_discrete_genetic_solver(self, m, k, cost_calculator_factory):\n",
    "        converter = MultiDiscreteConverter(m, k)\n",
    "        fitness_calculator = FitnessCalculator(cost_calculator_factory, converter)\n",
    "        space_config = GeneticMultiDiscreteSpaceConfig(m, k)\n",
    "        config = GeneticConfig(space_config)\n",
    "        description = 'discrete genetic'\n",
    "        progress = IntProgress(min=0, max=config.num_generations, value=0, description=description, bar_style='success')\n",
    "        solver = GeneticSolver(config, fitness_calculator, progress)\n",
    "        return solver\n",
    "    \n",
    "    def create_binary_rl_solver(self, m, k, cost_calculator_factory, algorithm):\n",
    "        total_timesteps = 100\n",
    "        config = RlMultiBinaryConfig(m, k, dtype)\n",
    "        converter = MultiBinaryConverter(m, k)\n",
    "        fitness_calcultor = FitnessCalculator(cost_calculator_factory, converter)\n",
    "        progress = IntProgress(min=0, max=total_timesteps, value=0, description='multibinary', bar_style='success')\n",
    "        graphic = RlGraphic('multibinary')\n",
    "        env = RlEnv(config, fitness_calcultor, progress, graphic)\n",
    "        check_env(env)\n",
    "        model = algorithm(policy, env)\n",
    "        solver = RlSolver(model, total_timesteps)\n",
    "        return solver\n",
    "    \n",
    "    def create_discrete_rl_solver(self, m, k, cost_calculator_factory, algorithm):\n",
    "        total_timesteps = 100\n",
    "        config = RlMultiDiscreteConfig(m, k, dtype)\n",
    "        converter = MultiDiscreteConverter(m, k)\n",
    "        fitness_calculator = FitnessCalculator(cost_calculator_factory, converter)\n",
    "        progress = IntProgress(min=0, max=total_timesteps, value=0, description='multidiscrete', bar_style='success')\n",
    "        graphic = RlGraphic('multidiscrete')\n",
    "        env = RlEnv(config, fitness_calculator, progress, graphic)\n",
    "        check_env(env)\n",
    "        model = algorithm(policy, env)\n",
    "        solver = RlSolver(model, total_timesteps)\n",
    "        return solver\n"
   ]
  },
  {
   "cell_type": "code",
   "execution_count": null,
   "id": "ea433a19-c5a9-41af-9585-ef14a4df309e",
   "metadata": {},
   "outputs": [],
   "source": []
  },
  {
   "cell_type": "code",
   "execution_count": 86,
   "id": "8c3744b1-c10b-4f95-bc45-983f4dd07d34",
   "metadata": {},
   "outputs": [],
   "source": [
    "group_name = 'G0'\n",
    "experiments_count = 100"
   ]
  },
  {
   "cell_type": "code",
   "execution_count": 87,
   "id": "b82da0f3-b110-41db-b17d-a27a1f2c6bd4",
   "metadata": {},
   "outputs": [],
   "source": [
    "experiment_for_group = ExperimentForGroup(group_name, experiments_count)"
   ]
  },
  {
   "cell_type": "code",
   "execution_count": null,
   "id": "e93336c5-a957-424a-9455-c96ee2f7cc50",
   "metadata": {},
   "outputs": [
    {
     "data": {
      "application/vnd.jupyter.widget-view+json": {
       "model_id": "9c3b254407d741859aa698e70d2daaca",
       "version_major": 2,
       "version_minor": 0
      },
      "text/plain": [
       "IntProgress(value=0, bar_style='success', description='progress')"
      ]
     },
     "metadata": {},
     "output_type": "display_data"
    }
   ],
   "source": [
    "experiment_for_group.make()"
   ]
  }
 ],
 "metadata": {
  "kernelspec": {
   "display_name": "Python 3",
   "language": "python",
   "name": "python3"
  },
  "language_info": {
   "codemirror_mode": {
    "name": "ipython",
    "version": 3
   },
   "file_extension": ".py",
   "mimetype": "text/x-python",
   "name": "python",
   "nbconvert_exporter": "python",
   "pygments_lexer": "ipython3",
   "version": "3.12.1"
  }
 },
 "nbformat": 4,
 "nbformat_minor": 5
}
