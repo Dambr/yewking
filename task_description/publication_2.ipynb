{
 "cells": [
  {
   "cell_type": "code",
   "execution_count": 1,
   "id": "1df57b53-2cb6-4430-be63-1d368b3e7c91",
   "metadata": {},
   "outputs": [],
   "source": [
    "# Использовать решатели:\n",
    "# glpk\n",
    "# gurobi\n",
    "# xpress\n",
    "# gams\n",
    "# mpec_minlp\n",
    "# gdpopt.enumerate\n",
    "# mindtpy.ecp\n",
    "# cbc\n",
    "# conopt\n",
    "# copt\n",
    "# CPLEX\n",
    "# ilogcp\n",
    "# loqo\n",
    "# minos"
   ]
  },
  {
   "cell_type": "code",
   "execution_count": 2,
   "id": "2a0afd0e-79ad-4e11-ad98-c6574b56408b",
   "metadata": {},
   "outputs": [],
   "source": [
    "from generator_d import GeneratorD\n",
    "from generator_e import GeneratorE\n",
    "from generator_p import GeneratorP\n",
    "from generator_t import GeneratorT\n",
    "from model_builder import ModelBuilder\n",
    "from solve_action import SolveAction"
   ]
  },
  {
   "cell_type": "code",
   "execution_count": 3,
   "id": "20bb9f6a-5904-4a4b-b778-e82383237a75",
   "metadata": {},
   "outputs": [],
   "source": [
    "from ipywidgets import IntProgress\n",
    "from IPython.display import display"
   ]
  },
  {
   "cell_type": "code",
   "execution_count": 4,
   "id": "d09afe45-ca47-4038-89a7-7839186e2aa5",
   "metadata": {},
   "outputs": [],
   "source": [
    "import xpress\n",
    "inited = xpress.init('/Users/dambr/venv/lib/python3.12/site-packages/xpress/license/community-xpauth.xpr')"
   ]
  },
  {
   "cell_type": "code",
   "execution_count": 5,
   "id": "e2e8512f-7cdb-46d4-b28c-0d9a553a37c9",
   "metadata": {},
   "outputs": [],
   "source": [
    "import matplotlib.pyplot as plt\n",
    "import seaborn as sns\n",
    "import pandas as pd\n",
    "import numpy as np\n",
    "import pyomo.environ as pyo"
   ]
  },
  {
   "cell_type": "code",
   "execution_count": 6,
   "id": "1d9a7a75-e13b-4fb9-a4ca-de45f736e1c0",
   "metadata": {},
   "outputs": [],
   "source": [
    "M = 10**6"
   ]
  },
  {
   "cell_type": "code",
   "execution_count": 7,
   "id": "3b5aa121-7237-40f2-bf93-11c46e5278a6",
   "metadata": {},
   "outputs": [],
   "source": [
    "e = 1\n",
    "n = 5\n",
    "m = 4\n",
    "k = 3"
   ]
  },
  {
   "cell_type": "code",
   "execution_count": 8,
   "id": "ed42e333-cab9-4afc-b23a-2fbd87c08c50",
   "metadata": {},
   "outputs": [],
   "source": [
    "T = np.array([\n",
    "    [  1,   0,   0,   0],\n",
    "    [0.5, 0.5,   0,   0],\n",
    "    [  0, 0.5, 0.5,   0],\n",
    "    [  0,   0, 0.5, 0.5],\n",
    "    [  0,   0,   0,   1]\n",
    "])"
   ]
  },
  {
   "cell_type": "code",
   "execution_count": 9,
   "id": "77c461df-d661-4887-a6b5-3e060eebe682",
   "metadata": {},
   "outputs": [],
   "source": [
    "D = np.array([\n",
    "    [0, 0, 0, 0],\n",
    "    [0, 0, 1, 1],\n",
    "    [0, 0, 0, 0],\n",
    "    [0, 0, 0, 0]\n",
    "])"
   ]
  },
  {
   "cell_type": "code",
   "execution_count": 10,
   "id": "2986c9c9-30e5-4351-84a6-94069697d608",
   "metadata": {},
   "outputs": [],
   "source": [
    "P = np.array([\n",
    "    [1, 1, 1, 1, 1],\n",
    "    [1, 1, 1, 1, 1],\n",
    "    [1, 1, 1, 1, 1],\n",
    "    [1, 1, 1, 1, 1],\n",
    "    [1, 1, 1, 1, 1]\n",
    "])"
   ]
  },
  {
   "cell_type": "code",
   "execution_count": 11,
   "id": "7a9fdaa8-fab8-4ec3-8d63-86fb11f16c40",
   "metadata": {},
   "outputs": [],
   "source": [
    "E = np.array([\n",
    "    [1, 0, 0, 0, 0]\n",
    "])"
   ]
  },
  {
   "cell_type": "code",
   "execution_count": 12,
   "id": "953c8ae4-8c8e-43fc-86f6-ee8dbb8c5102",
   "metadata": {},
   "outputs": [],
   "source": [
    "model_builder = ModelBuilder(M, k, T, D, P, E)\n",
    "model = model_builder.build()"
   ]
  },
  {
   "cell_type": "code",
   "execution_count": 13,
   "id": "7598eaa3-ca00-478a-82fd-c75b7434aa0b",
   "metadata": {},
   "outputs": [],
   "source": [
    "def solve(model, solver_name):\n",
    "    values = []\n",
    "    solve_action = SolveAction(model, solver_name)\n",
    "    count = 100\n",
    "    progress = IntProgress(min=0, max=count, value=0, description=solver_name, bar_style='success')\n",
    "    display(progress)\n",
    "    for i in range(count):\n",
    "        solve_result = solve_action.solve()\n",
    "        instance = solve_result.instance\n",
    "        value = pyo.value(instance.OBJ)\n",
    "        values.append(value)\n",
    "        progress.value += 1\n",
    "    return set(values)"
   ]
  },
  {
   "cell_type": "code",
   "execution_count": 14,
   "id": "9fc8cf92-1278-4e9d-96ef-de97a79fd67c",
   "metadata": {},
   "outputs": [
    {
     "name": "stdout",
     "output_type": "stream",
     "text": [
      "A : Size=12, Index={0, 1, 2, 3}*{0, 1, 2}\n",
      "    Key    : Lower : Value : Upper : Fixed : Stale : Domain\n",
      "    (0, 0) :     0 :   1.0 :     1 : False : False : Binary\n",
      "    (0, 1) :     0 :   0.0 :     1 : False : False : Binary\n",
      "    (0, 2) :     0 :   0.0 :     1 : False : False : Binary\n",
      "    (1, 0) :     0 :   0.0 :     1 : False : False : Binary\n",
      "    (1, 1) :     0 :   0.0 :     1 : False : False : Binary\n",
      "    (1, 2) :     0 :   1.0 :     1 : False : False : Binary\n",
      "    (2, 0) :     0 :   0.0 :     1 : False : False : Binary\n",
      "    (2, 1) :     0 :   0.0 :     1 : False : False : Binary\n",
      "    (2, 2) :     0 :   1.0 :     1 : False : False : Binary\n",
      "    (3, 0) :     0 :   0.0 :     1 : False : False : Binary\n",
      "    (3, 1) :     0 :   0.0 :     1 : False : False : Binary\n",
      "    (3, 2) :     0 :   1.0 :     1 : False : False : Binary\n"
     ]
    }
   ],
   "source": [
    "solve_action = SolveAction(model, 'glpk')\n",
    "solve_result = solve_action.solve()\n",
    "instance = solve_result.instance\n",
    "instance.A.pprint()"
   ]
  },
  {
   "cell_type": "code",
   "execution_count": 15,
   "id": "f857c8d6-d01a-4f93-9d85-d58fb223afb5",
   "metadata": {},
   "outputs": [
    {
     "data": {
      "text/plain": [
       "{(0, 0): 1.0,\n",
       " (0, 1): 0.0,\n",
       " (0, 2): 0.0,\n",
       " (1, 0): 0.0,\n",
       " (1, 1): 0.0,\n",
       " (1, 2): 1.0,\n",
       " (2, 0): 0.0,\n",
       " (2, 1): 0.0,\n",
       " (2, 2): 1.0,\n",
       " (3, 0): 0.0,\n",
       " (3, 1): 0.0,\n",
       " (3, 2): 1.0}"
      ]
     },
     "execution_count": 15,
     "metadata": {},
     "output_type": "execute_result"
    }
   ],
   "source": [
    "instance.A.extract_values()"
   ]
  },
  {
   "cell_type": "code",
   "execution_count": 16,
   "id": "aba3d2f3-9a1b-4c43-87a7-912756a273c4",
   "metadata": {},
   "outputs": [],
   "source": [
    "def to_mtx_with_values(A):\n",
    "    values = A.extract_values()\n",
    "    (m, k) = np.shape(A)\n",
    "    result = np.zeros((m, k))\n",
    "    for i in range(m):\n",
    "        for j in range(k):\n",
    "            result[i][j] = values[(i, j)]\n",
    "    return result"
   ]
  },
  {
   "cell_type": "code",
   "execution_count": 17,
   "id": "2a786c57-976d-4ec7-9dcd-1ef06815cd17",
   "metadata": {},
   "outputs": [],
   "source": [
    "f_in = lambda x: 0 if x == 0 else 1"
   ]
  },
  {
   "cell_type": "code",
   "execution_count": 18,
   "id": "7b044faf-012a-455f-a77a-ee4ccec5c7a1",
   "metadata": {},
   "outputs": [],
   "source": [
    "f_im = lambda x: 0 if x < 1 else 1"
   ]
  },
  {
   "cell_type": "code",
   "execution_count": 19,
   "id": "08fb4d7b-1b70-4999-a480-ee4f5952fac0",
   "metadata": {},
   "outputs": [],
   "source": [
    "f_dep = lambda F, D, x: np.dot(F, D) if x == 0 else np.dot(f_dep(F, D, x - 1), D)"
   ]
  },
  {
   "cell_type": "code",
   "execution_count": 32,
   "id": "d2b9ce91-0acb-4c93-b19d-d94c86d10198",
   "metadata": {},
   "outputs": [],
   "source": [
    "def calculate_result_cost(T, D, P, E, A):\n",
    "    A = to_mtx_with_values(A)\n",
    "    m = np.shape(A)[0]\n",
    "    result = 0\n",
    "    for requirements in E:\n",
    "        \n",
    "        files = np.dot(requirements, T)\n",
    "        print('Полезные файлы', files)\n",
    "        \n",
    "        files_with_dependencies = files + sum([f_dep(files, D, i) for i in range(m)])\n",
    "        print('Полезные файлы с разрешенными зависимостями', files_with_dependencies)\n",
    "        \n",
    "        plugins = np.dot(files_with_dependencies, A)\n",
    "        print('Поставляемые плагины', plugins)\n",
    "        \n",
    "        files_in_delivery = np.dot(A, plugins)\n",
    "        files_in_delivery = np.array([f_in(x) for x in files_in_delivery])\n",
    "        print('Поставляемые файлы', files_in_delivery)\n",
    "        \n",
    "        requirements_in_delivery = np.dot(T, files_in_delivery)\n",
    "        requirements_in_delivery = np.array([f_im(x) for x in requirements_in_delivery])\n",
    "        print('Реализованные требования', requirements_in_delivery)\n",
    "        \n",
    "        prices = np.dot(P, requirements_in_delivery)\n",
    "        print('Цены', prices)\n",
    "        \n",
    "        cost = sum(prices)\n",
    "        print('Стоимость:', cost)\n",
    "        \n",
    "        result += cost\n",
    "    return result"
   ]
  },
  {
   "cell_type": "code",
   "execution_count": 33,
   "id": "87a02088-d692-4d0e-a8d5-c829b3960c53",
   "metadata": {},
   "outputs": [
    {
     "name": "stdout",
     "output_type": "stream",
     "text": [
      "Полезные файлы [1. 0. 0. 0.]\n",
      "Полезные файлы с разрешенными зависимостями [1. 0. 0. 0.]\n",
      "Поставляемые плагины [1. 0. 0.]\n",
      "Поставляемые файлы [1 0 0 0]\n",
      "Реализованные требования [1 0 0 0 0]\n",
      "Цены [1 1 1 1 1]\n",
      "Стоимость: 5\n"
     ]
    },
    {
     "data": {
      "text/plain": [
       "5"
      ]
     },
     "execution_count": 33,
     "metadata": {},
     "output_type": "execute_result"
    }
   ],
   "source": [
    "calculate_result_cost(T, D, P, E, instance.A)"
   ]
  },
  {
   "cell_type": "code",
   "execution_count": 66,
   "id": "6bef1284-79ca-4dd5-8f03-5591eebc454c",
   "metadata": {},
   "outputs": [],
   "source": [
    "mtx1 = np.array([\n",
    "    [0, 2, 0],\n",
    "    [0, 0, 1],\n",
    "    [1, 0, 0]\n",
    "])"
   ]
  },
  {
   "cell_type": "code",
   "execution_count": 67,
   "id": "52d2e891-caa6-4a95-8574-1f3b70f74673",
   "metadata": {},
   "outputs": [],
   "source": [
    "mtx2 = np.array([1, 1, 0])"
   ]
  },
  {
   "cell_type": "code",
   "execution_count": 68,
   "id": "4d0f077e-4280-4d41-80a9-679b52bab0de",
   "metadata": {},
   "outputs": [
    {
     "data": {
      "text/plain": [
       "array([2, 0, 1])"
      ]
     },
     "execution_count": 68,
     "metadata": {},
     "output_type": "execute_result"
    }
   ],
   "source": [
    "np.dot(mtx1, mtx2)"
   ]
  },
  {
   "cell_type": "code",
   "execution_count": 69,
   "id": "dc405b4c-b334-4f55-b3a2-3024a35b90be",
   "metadata": {},
   "outputs": [
    {
     "data": {
      "text/plain": [
       "2"
      ]
     },
     "execution_count": 69,
     "metadata": {},
     "output_type": "execute_result"
    }
   ],
   "source": [
    "np.dot(np.dot(mtx1, mtx2), mtx2)"
   ]
  },
  {
   "cell_type": "code",
   "execution_count": null,
   "id": "1fc96e69-0fef-41bf-8b2b-d87cb623e10e",
   "metadata": {},
   "outputs": [],
   "source": []
  }
 ],
 "metadata": {
  "kernelspec": {
   "display_name": "Python 3 (ipykernel)",
   "language": "python",
   "name": "python3"
  },
  "language_info": {
   "codemirror_mode": {
    "name": "ipython",
    "version": 3
   },
   "file_extension": ".py",
   "mimetype": "text/x-python",
   "name": "python",
   "nbconvert_exporter": "python",
   "pygments_lexer": "ipython3",
   "version": "3.12.1"
  }
 },
 "nbformat": 4,
 "nbformat_minor": 5
}
