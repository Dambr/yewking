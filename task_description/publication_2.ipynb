{
 "cells": [
  {
   "cell_type": "code",
   "execution_count": 1,
   "id": "1df57b53-2cb6-4430-be63-1d368b3e7c91",
   "metadata": {},
   "outputs": [],
   "source": [
    "# Использовать решатели:\n",
    "# glpk                     1\n",
    "# gurobi                   1\n",
    "# xpress                   1\n",
    "# gams                     1\n",
    "# gdpopt.enumerate         1\n",
    "# mindtpy.ecp              1\n",
    "# cbc                      1\n",
    "# conopt                   25\n",
    "# copt                     1\n",
    "# CPLEX                    1\n",
    "# ilogcp                   1\n",
    "# minos                    25"
   ]
  },
  {
   "cell_type": "code",
   "execution_count": 2,
   "id": "2a0afd0e-79ad-4e11-ad98-c6574b56408b",
   "metadata": {},
   "outputs": [],
   "source": [
    "from generator_d import GeneratorD\n",
    "from generator_e import GeneratorE\n",
    "from generator_c import GeneratorC\n",
    "from generator_t import GeneratorT\n",
    "from model_builder import ModelBuilder\n",
    "from solve_action import SolveAction\n",
    "from cost_calculator import CostCalculator"
   ]
  },
  {
   "cell_type": "code",
   "execution_count": 3,
   "id": "20bb9f6a-5904-4a4b-b778-e82383237a75",
   "metadata": {},
   "outputs": [],
   "source": [
    "from ipywidgets import IntProgress\n",
    "from IPython.display import display"
   ]
  },
  {
   "cell_type": "code",
   "execution_count": 4,
   "id": "d09afe45-ca47-4038-89a7-7839186e2aa5",
   "metadata": {},
   "outputs": [],
   "source": [
    "import xpress\n",
    "inited = xpress.init('/Users/dambr/venv/lib/python3.12/site-packages/xpress/license/community-xpauth.xpr')"
   ]
  },
  {
   "cell_type": "code",
   "execution_count": 5,
   "id": "e2e8512f-7cdb-46d4-b28c-0d9a553a37c9",
   "metadata": {},
   "outputs": [],
   "source": [
    "import matplotlib.pyplot as plt\n",
    "import seaborn as sns\n",
    "import pandas as pd\n",
    "import numpy as np\n",
    "import pyomo.environ as pyo"
   ]
  },
  {
   "cell_type": "code",
   "execution_count": 6,
   "id": "aba3d2f3-9a1b-4c43-87a7-912756a273c4",
   "metadata": {},
   "outputs": [],
   "source": [
    "def to_mtx_with_values(A):\n",
    "    values = A.extract_values()\n",
    "    (m, k) = np.shape(A)\n",
    "    result = np.zeros((m, k))\n",
    "    for i in range(m):\n",
    "        for j in range(k):\n",
    "            result[i][j] = round(values[(i, j)])\n",
    "    return result"
   ]
  },
  {
   "cell_type": "code",
   "execution_count": 7,
   "id": "7598eaa3-ca00-478a-82fd-c75b7434aa0b",
   "metadata": {},
   "outputs": [],
   "source": [
    "def solve(M, k, T, D, C, E, solver_name):\n",
    "    model_builder = ModelBuilder(M, k, T, D, C, E)\n",
    "    model = model_builder.build()\n",
    "    durations = []\n",
    "    costs = []\n",
    "    solve_action = SolveAction(model, solver_name)\n",
    "    count = 100\n",
    "    progress = IntProgress(min=0, max=count, value=0, description=solver_name, bar_style='success')\n",
    "    display(progress)\n",
    "    for i in range(count):\n",
    "        solve_result = solve_action.solve()\n",
    "        instance = solve_result.instance\n",
    "        A = to_mtx_with_values(instance.A)\n",
    "        cost_calculator = CostCalculator(T, D, C, E, A)\n",
    "        cost = cost_calculator.calculate()\n",
    "        duration = solve_result.duration\n",
    "        costs.append(cost)\n",
    "        durations.append(duration)\n",
    "        progress.value += 1\n",
    "    return (durations, set(costs))"
   ]
  },
  {
   "cell_type": "code",
   "execution_count": 8,
   "id": "1d9a7a75-e13b-4fb9-a4ca-de45f736e1c0",
   "metadata": {},
   "outputs": [],
   "source": [
    "M = 10**6"
   ]
  },
  {
   "cell_type": "code",
   "execution_count": 9,
   "id": "3b5aa121-7237-40f2-bf93-11c46e5278a6",
   "metadata": {},
   "outputs": [],
   "source": [
    "l = 1\n",
    "n = 5\n",
    "m = 4\n",
    "k = 3"
   ]
  },
  {
   "cell_type": "code",
   "execution_count": 10,
   "id": "ed42e333-cab9-4afc-b23a-2fbd87c08c50",
   "metadata": {},
   "outputs": [],
   "source": [
    "T = np.array([\n",
    "    [  1,   0,   0,   0],\n",
    "    [0.5, 0.5,   0,   0],\n",
    "    [  0, 0.5, 0.5,   0],\n",
    "    [  0,   0, 0.5, 0.5],\n",
    "    [  0,   0,   0,   1]\n",
    "])"
   ]
  },
  {
   "cell_type": "code",
   "execution_count": 11,
   "id": "77c461df-d661-4887-a6b5-3e060eebe682",
   "metadata": {},
   "outputs": [],
   "source": [
    "D = np.array([\n",
    "    [0, 0, 1, 0],\n",
    "    [0, 0, 1, 1],\n",
    "    [0, 0, 0, 0],\n",
    "    [0, 0, 0, 0]\n",
    "])"
   ]
  },
  {
   "cell_type": "code",
   "execution_count": 12,
   "id": "2986c9c9-30e5-4351-84a6-94069697d608",
   "metadata": {},
   "outputs": [],
   "source": [
    "C = np.array([\n",
    "    [1, 1, 1, 1, 1],\n",
    "    [1, 1, 1, 1, 1],\n",
    "    [1, 1, 1, 1, 1],\n",
    "    [1, 1, 1, 1, 1],\n",
    "    [1, 1, 1, 1, 1]\n",
    "])"
   ]
  },
  {
   "cell_type": "code",
   "execution_count": 13,
   "id": "7a9fdaa8-fab8-4ec3-8d63-86fb11f16c40",
   "metadata": {},
   "outputs": [],
   "source": [
    "E = np.array([\n",
    "    [1, 0, 0, 0, 0]\n",
    "])"
   ]
  },
  {
   "cell_type": "code",
   "execution_count": null,
   "id": "953c8ae4-8c8e-43fc-86f6-ee8dbb8c5102",
   "metadata": {},
   "outputs": [],
   "source": []
  },
  {
   "cell_type": "code",
   "execution_count": 14,
   "id": "1fc96e69-0fef-41bf-8b2b-d87cb623e10e",
   "metadata": {},
   "outputs": [],
   "source": [
    "solver_names = ['glpk', 'gurobi', 'xpress', \n",
    "           'gams', 'gdpopt.enumerate', \n",
    "           'mindtpy.ecp', 'cbc', 'conopt',\n",
    "           'copt', 'CPLEX', 'ilogcp', 'minos']"
   ]
  },
  {
   "cell_type": "code",
   "execution_count": 15,
   "id": "9d95968e-3549-4a89-a0ef-18868a6df878",
   "metadata": {},
   "outputs": [],
   "source": [
    "def draw_violinplot(dataset):\n",
    "    data = {}\n",
    "    for key in dataset:\n",
    "        result = dataset[key]\n",
    "        solver_name = key.lower()\n",
    "        if solver_name.find('.') > -1:\n",
    "            solver_name = solver_name.split('.')\n",
    "            solver_name = solver_name[0]\n",
    "        data[solver_name + str(result[1])] = result[0]\n",
    "    df = pd.DataFrame(data)\n",
    "    df_melted = pd.melt(df)\n",
    "    title = 'Statistic'\n",
    "    sns.violinplot(x='variable', y='value', data=df_melted, width=1, dodge=False, hue='variable').set(title=title)\n",
    "    plt.xlabel('Solver{value}')\n",
    "    plt.xticks(rotation=75)\n",
    "    plt.ylabel('Time to solve the optimization problem (sec)')"
   ]
  },
  {
   "cell_type": "code",
   "execution_count": 16,
   "id": "0e4c34ca-5f3b-4720-a9d7-4651956e3e2a",
   "metadata": {},
   "outputs": [],
   "source": [
    "dataset = {}"
   ]
  },
  {
   "cell_type": "code",
   "execution_count": 17,
   "id": "bb690baa-9515-425e-962a-42e459bac731",
   "metadata": {},
   "outputs": [
    {
     "data": {
      "application/vnd.jupyter.widget-view+json": {
       "model_id": "9f9afb4e6570426c86a56e709bc1a702",
       "version_major": 2,
       "version_minor": 0
      },
      "text/plain": [
       "IntProgress(value=0, bar_style='success', description='glpk')"
      ]
     },
     "metadata": {},
     "output_type": "display_data"
    },
    {
     "data": {
      "application/vnd.jupyter.widget-view+json": {
       "model_id": "71abd9ad0ff449a885dd2450fa9263cb",
       "version_major": 2,
       "version_minor": 0
      },
      "text/plain": [
       "IntProgress(value=0, bar_style='success', description='gurobi')"
      ]
     },
     "metadata": {},
     "output_type": "display_data"
    },
    {
     "data": {
      "application/vnd.jupyter.widget-view+json": {
       "model_id": "592d050f7be646eca6c72217d078f91f",
       "version_major": 2,
       "version_minor": 0
      },
      "text/plain": [
       "IntProgress(value=0, bar_style='success', description='xpress')"
      ]
     },
     "metadata": {},
     "output_type": "display_data"
    },
    {
     "data": {
      "application/vnd.jupyter.widget-view+json": {
       "model_id": "88cc9ef898e745eaa8c23a8c642811de",
       "version_major": 2,
       "version_minor": 0
      },
      "text/plain": [
       "IntProgress(value=0, bar_style='success', description='gams')"
      ]
     },
     "metadata": {},
     "output_type": "display_data"
    },
    {
     "data": {
      "application/vnd.jupyter.widget-view+json": {
       "model_id": "238508734f854524b548f88d49930283",
       "version_major": 2,
       "version_minor": 0
      },
      "text/plain": [
       "IntProgress(value=0, bar_style='success', description='gdpopt.enumerate')"
      ]
     },
     "metadata": {},
     "output_type": "display_data"
    },
    {
     "data": {
      "application/vnd.jupyter.widget-view+json": {
       "model_id": "1c11096ef5184b4dbf8bdd9295e235ae",
       "version_major": 2,
       "version_minor": 0
      },
      "text/plain": [
       "IntProgress(value=0, bar_style='success', description='mindtpy.ecp')"
      ]
     },
     "metadata": {},
     "output_type": "display_data"
    },
    {
     "data": {
      "application/vnd.jupyter.widget-view+json": {
       "model_id": "76fd86dedf914e14965285fb8822e348",
       "version_major": 2,
       "version_minor": 0
      },
      "text/plain": [
       "IntProgress(value=0, bar_style='success', description='cbc')"
      ]
     },
     "metadata": {},
     "output_type": "display_data"
    },
    {
     "data": {
      "application/vnd.jupyter.widget-view+json": {
       "model_id": "7bf81d7b17b04f3597e103c98144d20f",
       "version_major": 2,
       "version_minor": 0
      },
      "text/plain": [
       "IntProgress(value=0, bar_style='success', description='conopt')"
      ]
     },
     "metadata": {},
     "output_type": "display_data"
    },
    {
     "data": {
      "application/vnd.jupyter.widget-view+json": {
       "model_id": "b2fc2e58f4a84fa18f7e66eb5c22a835",
       "version_major": 2,
       "version_minor": 0
      },
      "text/plain": [
       "IntProgress(value=0, bar_style='success', description='copt')"
      ]
     },
     "metadata": {},
     "output_type": "display_data"
    },
    {
     "data": {
      "application/vnd.jupyter.widget-view+json": {
       "model_id": "13df1a0102704b1aa5fe669e87164edc",
       "version_major": 2,
       "version_minor": 0
      },
      "text/plain": [
       "IntProgress(value=0, bar_style='success', description='CPLEX')"
      ]
     },
     "metadata": {},
     "output_type": "display_data"
    },
    {
     "data": {
      "application/vnd.jupyter.widget-view+json": {
       "model_id": "4449dc91e2b84121a1dfc7dfb848c638",
       "version_major": 2,
       "version_minor": 0
      },
      "text/plain": [
       "IntProgress(value=0, bar_style='success', description='ilogcp')"
      ]
     },
     "metadata": {},
     "output_type": "display_data"
    },
    {
     "data": {
      "application/vnd.jupyter.widget-view+json": {
       "model_id": "9bf8bbc531234ff38103e8464febab17",
       "version_major": 2,
       "version_minor": 0
      },
      "text/plain": [
       "IntProgress(value=0, bar_style='success', description='minos')"
      ]
     },
     "metadata": {},
     "output_type": "display_data"
    }
   ],
   "source": [
    "for solver_name in solver_names:\n",
    "    result = solve(M, k, T, D, C, E, solver_name)\n",
    "    dataset[solver_name] = result"
   ]
  },
  {
   "cell_type": "code",
   "execution_count": 18,
   "id": "8d57c498-353a-4600-a587-5a2272acc0a2",
   "metadata": {},
   "outputs": [
    {
     "data": {
      "image/png": "[encoded data removed]",
      "text/plain": [
       "<Figure size 640x480 with 1 Axes>"
      ]
     },
     "metadata": {},
     "output_type": "display_data"
    }
   ],
   "source": [
    "draw_violinplot(dataset)"
   ]
  },
  {
   "cell_type": "code",
   "execution_count": null,
   "id": "f6c7c97c-578e-4e74-80cc-c834c57bd642",
   "metadata": {},
   "outputs": [],
   "source": []
  }
 ],
 "metadata": {
  "kernelspec": {
   "display_name": "Python 3 (ipykernel)",
   "language": "python",
   "name": "python3"
  },
  "language_info": {
   "codemirror_mode": {
    "name": "ipython",
    "version": 3
   },
   "file_extension": ".py",
   "mimetype": "text/x-python",
   "name": "python",
   "nbconvert_exporter": "python",
   "pygments_lexer": "ipython3",
   "version": "3.12.1"
  }
 },
 "nbformat": 4,
 "nbformat_minor": 5
}
