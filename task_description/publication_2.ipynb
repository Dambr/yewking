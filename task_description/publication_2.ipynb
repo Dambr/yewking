{
 "cells": [
  {
   "cell_type": "code",
   "execution_count": 1,
   "id": "1df57b53-2cb6-4430-be63-1d368b3e7c91",
   "metadata": {},
   "outputs": [],
   "source": [
    "# Использовать решатели:\n",
    "# glpk                     1\n",
    "# gurobi                   1\n",
    "# xpress                   1\n",
    "# gams                     1\n",
    "# gdpopt.enumerate         1\n",
    "# mindtpy.ecp              1\n",
    "# cbc                      1\n",
    "# conopt                   25\n",
    "# copt                     1\n",
    "# CPLEX                    1\n",
    "# ilogcp                   1\n",
    "# loqo                     25\n",
    "# minos                    25"
   ]
  },
  {
   "cell_type": "code",
   "execution_count": 2,
   "id": "2a0afd0e-79ad-4e11-ad98-c6574b56408b",
   "metadata": {},
   "outputs": [],
   "source": [
    "from generator_d import GeneratorD\n",
    "from generator_e import GeneratorE\n",
    "from generator_p import GeneratorP\n",
    "from generator_t import GeneratorT\n",
    "from model_builder import ModelBuilder\n",
    "from solve_action import SolveAction"
   ]
  },
  {
   "cell_type": "code",
   "execution_count": 3,
   "id": "20bb9f6a-5904-4a4b-b778-e82383237a75",
   "metadata": {},
   "outputs": [],
   "source": [
    "from ipywidgets import IntProgress\n",
    "from IPython.display import display"
   ]
  },
  {
   "cell_type": "code",
   "execution_count": 4,
   "id": "d09afe45-ca47-4038-89a7-7839186e2aa5",
   "metadata": {},
   "outputs": [],
   "source": [
    "import xpress\n",
    "inited = xpress.init('/Users/dambr/venv/lib/python3.12/site-packages/xpress/license/community-xpauth.xpr')"
   ]
  },
  {
   "cell_type": "code",
   "execution_count": 5,
   "id": "e2e8512f-7cdb-46d4-b28c-0d9a553a37c9",
   "metadata": {},
   "outputs": [],
   "source": [
    "import matplotlib.pyplot as plt\n",
    "import seaborn as sns\n",
    "import pandas as pd\n",
    "import numpy as np\n",
    "import pyomo.environ as pyo"
   ]
  },
  {
   "cell_type": "code",
   "execution_count": 6,
   "id": "aba3d2f3-9a1b-4c43-87a7-912756a273c4",
   "metadata": {},
   "outputs": [],
   "source": [
    "def to_mtx_with_values(A):\n",
    "    values = A.extract_values()\n",
    "    (m, k) = np.shape(A)\n",
    "    result = np.zeros((m, k))\n",
    "    for i in range(m):\n",
    "        for j in range(k):\n",
    "            result[i][j] = values[(i, j)]\n",
    "    return result"
   ]
  },
  {
   "cell_type": "code",
   "execution_count": 7,
   "id": "d2b9ce91-0acb-4c93-b19d-d94c86d10198",
   "metadata": {},
   "outputs": [],
   "source": [
    "def calculate_result_cost(T, D, P, E, A):\n",
    "    A = to_mtx_with_values(A)\n",
    "    m = np.shape(A)[0]\n",
    "\n",
    "    f_in = lambda x: 0 if x == 0 else 1\n",
    "    f_im = lambda x: 0 if x < 1 else 1\n",
    "\n",
    "    \n",
    "    result = 0\n",
    "    for requirements in E:\n",
    "        \n",
    "        files = np.dot(requirements, T)\n",
    "\n",
    "        f_dep = lambda x: np.dot(files, D) if x == 0 else np.dot(f_dep(x - 1), D)\n",
    "        files_with_dependencies = files + sum([f_dep(i) for i in range(m)])\n",
    "        \n",
    "        plugins = np.dot(files_with_dependencies, A)\n",
    "        \n",
    "        files_in_delivery = np.dot(A, plugins)\n",
    "        files_in_delivery = np.array([f_in(x) for x in files_in_delivery])\n",
    "        \n",
    "        requirements_in_delivery = np.dot(T, files_in_delivery)\n",
    "        requirements_in_delivery = np.array([f_im(x) for x in requirements_in_delivery])\n",
    "        \n",
    "        prices = np.dot(P, requirements_in_delivery)\n",
    "        cost = np.dot(requirements_in_delivery, prices)\n",
    "        \n",
    "        result += cost\n",
    "    return result"
   ]
  },
  {
   "cell_type": "code",
   "execution_count": 8,
   "id": "7598eaa3-ca00-478a-82fd-c75b7434aa0b",
   "metadata": {},
   "outputs": [],
   "source": [
    "def solve(M, k, T, D, P, E, solver_name):\n",
    "    model_builder = ModelBuilder(M, k, T, D, P, E)\n",
    "    model = model_builder.build()\n",
    "    durations = []\n",
    "    costs = []\n",
    "    solve_action = SolveAction(model, solver_name)\n",
    "    count = 100\n",
    "    progress = IntProgress(min=0, max=count, value=0, description=solver_name, bar_style='success')\n",
    "    display(progress)\n",
    "    for i in range(count):\n",
    "        solve_result = solve_action.solve()\n",
    "        instance = solve_result.instance\n",
    "        cost = calculate_result_cost(T, D, P, E, instance.A)\n",
    "        duration = solve_result.duration\n",
    "        costs.append(cost)\n",
    "        durations.append(duration)\n",
    "        progress.value += 1\n",
    "    return (durations, set(costs))"
   ]
  },
  {
   "cell_type": "code",
   "execution_count": 9,
   "id": "1d9a7a75-e13b-4fb9-a4ca-de45f736e1c0",
   "metadata": {},
   "outputs": [],
   "source": [
    "M = 10**6"
   ]
  },
  {
   "cell_type": "code",
   "execution_count": 10,
   "id": "3b5aa121-7237-40f2-bf93-11c46e5278a6",
   "metadata": {},
   "outputs": [],
   "source": [
    "e = 1\n",
    "n = 5\n",
    "m = 4\n",
    "k = 3"
   ]
  },
  {
   "cell_type": "code",
   "execution_count": 11,
   "id": "ed42e333-cab9-4afc-b23a-2fbd87c08c50",
   "metadata": {},
   "outputs": [],
   "source": [
    "T = np.array([\n",
    "    [  1,   0,   0,   0],\n",
    "    [0.5, 0.5,   0,   0],\n",
    "    [  0, 0.5, 0.5,   0],\n",
    "    [  0,   0, 0.5, 0.5],\n",
    "    [  0,   0,   0,   1]\n",
    "])"
   ]
  },
  {
   "cell_type": "code",
   "execution_count": 12,
   "id": "77c461df-d661-4887-a6b5-3e060eebe682",
   "metadata": {},
   "outputs": [],
   "source": [
    "D = np.array([\n",
    "    [0, 0, 0, 0],\n",
    "    [0, 0, 1, 1],\n",
    "    [0, 0, 0, 0],\n",
    "    [0, 0, 0, 0]\n",
    "])"
   ]
  },
  {
   "cell_type": "code",
   "execution_count": 13,
   "id": "2986c9c9-30e5-4351-84a6-94069697d608",
   "metadata": {},
   "outputs": [],
   "source": [
    "P = np.array([\n",
    "    [1, 1, 1, 1, 1],\n",
    "    [1, 1, 1, 1, 1],\n",
    "    [1, 1, 1, 1, 1],\n",
    "    [1, 1, 1, 1, 1],\n",
    "    [1, 1, 1, 1, 1]\n",
    "])"
   ]
  },
  {
   "cell_type": "code",
   "execution_count": 14,
   "id": "7a9fdaa8-fab8-4ec3-8d63-86fb11f16c40",
   "metadata": {},
   "outputs": [],
   "source": [
    "E = np.array([\n",
    "    [1, 0, 0, 0, 0]\n",
    "])"
   ]
  },
  {
   "cell_type": "code",
   "execution_count": null,
   "id": "953c8ae4-8c8e-43fc-86f6-ee8dbb8c5102",
   "metadata": {},
   "outputs": [],
   "source": []
  },
  {
   "cell_type": "code",
   "execution_count": 15,
   "id": "1fc96e69-0fef-41bf-8b2b-d87cb623e10e",
   "metadata": {},
   "outputs": [],
   "source": [
    "solver_names = ['glpk', 'gurobi', 'xpress', \n",
    "           'gams', 'gdpopt.enumerate', \n",
    "           'mindtpy.ecp', 'cbc', 'conopt',\n",
    "           'copt', 'CPLEX', 'ilogcp', \n",
    "           'loqo', 'minos']"
   ]
  },
  {
   "cell_type": "code",
   "execution_count": 46,
   "id": "9d95968e-3549-4a89-a0ef-18868a6df878",
   "metadata": {},
   "outputs": [],
   "source": [
    "def draw_violinplot(dataset):\n",
    "    data = {}\n",
    "    for key in dataset:\n",
    "        result = dataset[key]\n",
    "        solver_name = key.lower()\n",
    "        if solver_name.find('.') > -1:\n",
    "            solver_name = solver_name.split('.')\n",
    "            solver_name = solver_name[0]\n",
    "        data[solver_name + str(result[1])] = result[0]\n",
    "    df = pd.DataFrame(data)\n",
    "    df_melted = pd.melt(df)\n",
    "    colums_count = len(df.columns)\n",
    "    title = 'Statistic'\n",
    "    sns.violinplot(x='variable', y='value', data=df_melted, width=1, dodge=False, hue='variable').set(title=title)\n",
    "    plt.xlabel('Solver{value}')\n",
    "    plt.xticks(rotation=75)\n",
    "    plt.ylabel('Time to solve the optimization problem (sec)')"
   ]
  },
  {
   "cell_type": "code",
   "execution_count": 17,
   "id": "0e4c34ca-5f3b-4720-a9d7-4651956e3e2a",
   "metadata": {},
   "outputs": [],
   "source": [
    "dataset = {}"
   ]
  },
  {
   "cell_type": "code",
   "execution_count": 18,
   "id": "bb690baa-9515-425e-962a-42e459bac731",
   "metadata": {},
   "outputs": [
    {
     "data": {
      "application/vnd.jupyter.widget-view+json": {
       "model_id": "1e485abc9a8648858f8f15c5eeef365b",
       "version_major": 2,
       "version_minor": 0
      },
      "text/plain": [
       "IntProgress(value=0, bar_style='success', description='glpk')"
      ]
     },
     "metadata": {},
     "output_type": "display_data"
    },
    {
     "data": {
      "application/vnd.jupyter.widget-view+json": {
       "model_id": "c512d94b0e6a4580bbd6d7c7a117515c",
       "version_major": 2,
       "version_minor": 0
      },
      "text/plain": [
       "IntProgress(value=0, bar_style='success', description='gurobi')"
      ]
     },
     "metadata": {},
     "output_type": "display_data"
    },
    {
     "data": {
      "application/vnd.jupyter.widget-view+json": {
       "model_id": "9889a99497b74b05879569a1f99aca83",
       "version_major": 2,
       "version_minor": 0
      },
      "text/plain": [
       "IntProgress(value=0, bar_style='success', description='xpress')"
      ]
     },
     "metadata": {},
     "output_type": "display_data"
    },
    {
     "data": {
      "application/vnd.jupyter.widget-view+json": {
       "model_id": "337017ac8e674dc6a6c57dd1e8fb6786",
       "version_major": 2,
       "version_minor": 0
      },
      "text/plain": [
       "IntProgress(value=0, bar_style='success', description='gams')"
      ]
     },
     "metadata": {},
     "output_type": "display_data"
    },
    {
     "data": {
      "application/vnd.jupyter.widget-view+json": {
       "model_id": "d39248a85af54050acd4f3facad5e1bf",
       "version_major": 2,
       "version_minor": 0
      },
      "text/plain": [
       "IntProgress(value=0, bar_style='success', description='gdpopt.enumerate')"
      ]
     },
     "metadata": {},
     "output_type": "display_data"
    },
    {
     "data": {
      "application/vnd.jupyter.widget-view+json": {
       "model_id": "75697b3366734d1e94cb722462e841d2",
       "version_major": 2,
       "version_minor": 0
      },
      "text/plain": [
       "IntProgress(value=0, bar_style='success', description='mindtpy.ecp')"
      ]
     },
     "metadata": {},
     "output_type": "display_data"
    },
    {
     "data": {
      "application/vnd.jupyter.widget-view+json": {
       "model_id": "9ebe29ef72364087830d6429205b5c14",
       "version_major": 2,
       "version_minor": 0
      },
      "text/plain": [
       "IntProgress(value=0, bar_style='success', description='cbc')"
      ]
     },
     "metadata": {},
     "output_type": "display_data"
    },
    {
     "data": {
      "application/vnd.jupyter.widget-view+json": {
       "model_id": "72409433735a44b4b2001c25b89d34a0",
       "version_major": 2,
       "version_minor": 0
      },
      "text/plain": [
       "IntProgress(value=0, bar_style='success', description='conopt')"
      ]
     },
     "metadata": {},
     "output_type": "display_data"
    },
    {
     "data": {
      "application/vnd.jupyter.widget-view+json": {
       "model_id": "b8121fd759884a849bc2a538d165c1e1",
       "version_major": 2,
       "version_minor": 0
      },
      "text/plain": [
       "IntProgress(value=0, bar_style='success', description='copt')"
      ]
     },
     "metadata": {},
     "output_type": "display_data"
    },
    {
     "data": {
      "application/vnd.jupyter.widget-view+json": {
       "model_id": "f30261826e02455ea2b9194c0a189bc0",
       "version_major": 2,
       "version_minor": 0
      },
      "text/plain": [
       "IntProgress(value=0, bar_style='success', description='CPLEX')"
      ]
     },
     "metadata": {},
     "output_type": "display_data"
    },
    {
     "data": {
      "application/vnd.jupyter.widget-view+json": {
       "model_id": "ab5163bfc65549e6aa0561c02e3a7acc",
       "version_major": 2,
       "version_minor": 0
      },
      "text/plain": [
       "IntProgress(value=0, bar_style='success', description='ilogcp')"
      ]
     },
     "metadata": {},
     "output_type": "display_data"
    },
    {
     "data": {
      "application/vnd.jupyter.widget-view+json": {
       "model_id": "5889ab749930490d9039e2024eac122c",
       "version_major": 2,
       "version_minor": 0
      },
      "text/plain": [
       "IntProgress(value=0, bar_style='success', description='loqo')"
      ]
     },
     "metadata": {},
     "output_type": "display_data"
    },
    {
     "data": {
      "application/vnd.jupyter.widget-view+json": {
       "model_id": "e5d8b883c359423095c3251118968c14",
       "version_major": 2,
       "version_minor": 0
      },
      "text/plain": [
       "IntProgress(value=0, bar_style='success', description='minos')"
      ]
     },
     "metadata": {},
     "output_type": "display_data"
    }
   ],
   "source": [
    "for solver_name in solver_names:\n",
    "    result = solve(M, k, T, D, P, E, solver_name)\n",
    "    dataset[solver_name] = result"
   ]
  },
  {
   "cell_type": "code",
   "execution_count": 47,
   "id": "8d57c498-353a-4600-a587-5a2272acc0a2",
   "metadata": {},
   "outputs": [
    {
     "data": {
      "image/png": "[encoded data removed]",
      "text/plain": [
       "<Figure size 640x480 with 1 Axes>"
      ]
     },
     "metadata": {},
     "output_type": "display_data"
    }
   ],
   "source": [
    "draw_violinplot(dataset)"
   ]
  },
  {
   "cell_type": "code",
   "execution_count": 34,
   "id": "2def20f9-fea5-4c7f-a748-c072355be6ed",
   "metadata": {},
   "outputs": [],
   "source": [
    "model_builder = ModelBuilder(M, k, T, D, P, E)\n",
    "model = model_builder.build()"
   ]
  },
  {
   "cell_type": "code",
   "execution_count": 35,
   "id": "58e68c79-eca4-4f31-8a6e-9fbb469ed86f",
   "metadata": {},
   "outputs": [
    {
     "data": {
      "text/plain": [
       "12"
      ]
     },
     "execution_count": 35,
     "metadata": {},
     "output_type": "execute_result"
    }
   ],
   "source": [
    "len(model.A)"
   ]
  },
  {
   "cell_type": "code",
   "execution_count": 36,
   "id": "1e5c738d-feb9-4ed4-8544-709c4ef13b3d",
   "metadata": {},
   "outputs": [
    {
     "data": {
      "text/plain": [
       "25"
      ]
     },
     "execution_count": 36,
     "metadata": {},
     "output_type": "execute_result"
    }
   ],
   "source": [
    "len(model.f)"
   ]
  },
  {
   "cell_type": "code",
   "execution_count": 38,
   "id": "814035ff-b297-4b2b-a4c8-90ea7a517810",
   "metadata": {},
   "outputs": [
    {
     "data": {
      "text/plain": [
       "37"
      ]
     },
     "execution_count": 38,
     "metadata": {},
     "output_type": "execute_result"
    }
   ],
   "source": [
    "len(model.A) + len(model.f)"
   ]
  },
  {
   "cell_type": "code",
   "execution_count": 39,
   "id": "b913e6c7-0af7-4c65-a36c-8ea59c70f9a2",
   "metadata": {},
   "outputs": [
    {
     "data": {
      "text/plain": [
       "71"
      ]
     },
     "execution_count": 39,
     "metadata": {},
     "output_type": "execute_result"
    }
   ],
   "source": [
    "len(model.constraints)"
   ]
  },
  {
   "cell_type": "code",
   "execution_count": null,
   "id": "42133e2a-1dec-496f-b755-c8bf91475002",
   "metadata": {},
   "outputs": [],
   "source": []
  }
 ],
 "metadata": {
  "kernelspec": {
   "display_name": "Python 3 (ipykernel)",
   "language": "python",
   "name": "python3"
  },
  "language_info": {
   "codemirror_mode": {
    "name": "ipython",
    "version": 3
   },
   "file_extension": ".py",
   "mimetype": "text/x-python",
   "name": "python",
   "nbconvert_exporter": "python",
   "pygments_lexer": "ipython3",
   "version": "3.12.1"
  }
 },
 "nbformat": 4,
 "nbformat_minor": 5
}
