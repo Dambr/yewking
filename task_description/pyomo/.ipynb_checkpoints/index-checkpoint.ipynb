{
 "cells": [
  {
   "cell_type": "code",
   "execution_count": 1,
   "id": "09622561-aa17-487a-b1f0-ec7ac4ace04d",
   "metadata": {},
   "outputs": [],
   "source": [
    "# Перечень команд, которые необходимо выполнить перед запуском jupyter notebook для включения решателей:\n",
    "# export PATH=$PATH:/Library/Frameworks/GAMS.framework/Versions/47/Resources/\n",
    "\n",
    "# Доступные решатели:\n",
    "# _neos              [-] внутренняя ошибка связанная с работой со строками\n",
    "# _mock_cbc          [-] попытка доступа к несуществующему полю _problem_files у ConcreteModel\n",
    "# glpk               [-] не работает с нелинейными выражениями в целевой функции\n",
    "# _glpk_shell        [-] не работает с нелинейными выражениями в целевой функции\n",
    "# _mock_glpk         [-] попытка доступа к несуществующему полю _problem_files у ConcreteModel\n",
    "# _mock_cplex        [-] не работает с нелинейными выражениями в целевой функции\n",
    "# gurobi_direct      [-] не работает с нелинейными выражениями в целевой функции\n",
    "# gurobi             [-] не работает с нелинейными выражениями в целевой функции\n",
    "# _gurobi_shell      [-] не работает с нелинейными выражениями в целевой функции\n",
    "# baron              [-] внутренняя ошибка при работе с сложными выражениями в целевой функции\n",
    "# xpress             [-] не работает с нелинейными выражениями в целевой функции\n",
    "# ipopt              [+] не работает с целыми значениями\n",
    "# gurobi_persistent  [-]\n",
    "# gams               [+]\n",
    "# _gams_shell        [+]\n",
    "# xpress_direct      [-] не работает с нелинейными выражениями в целевой функции\n",
    "# xpress_persistent  [-]\n",
    "# mpec_nlp           [+] не работает с целыми значениями\n",
    "# mpec_minlp         [-] не работает с нелинейными выражениями в целевой функции\n",
    "# appsi_gurobi       [-] не работает с нелинейными выражениями в целевой функции\n",
    "# gdpopt             [-] требуется дополнительное указание алгоритма через аргумент метода solve         \n",
    "# gdpopt.gloa        [-] ошибка инициализации решателя\n",
    "# gdpopt.lbb         [+] не работает с целыми значениями\n",
    "# gdpopt.loa         [+] не работает с целыми значениями\n",
    "# gdpopt.ric         [+] не работает с целыми значениями\n",
    "# gdpopt.enumerate   [+] не работает с целыми значениями\n",
    "# mindtpy            [+]\n",
    "# mindtpy.oa         [+]\n",
    "# mindtpy.ecp        [+]\n",
    "# mindtpy.goa        [-] внутренняя ошибка\n",
    "# mindtpy.fp         [+]\n",
    "# multistart         [+] не работает с целыми значениями\n",
    "# ipopt_v2           [+] не работает с целыми значениями\n",
    "# gurobi_v2          [-] не работает с нелинейными выражениями в целевой функции\n",
    "# gurobi_direct_v2   [-] не работает с нелинейными выражениями в целевой функции\n",
    "# trustregion        [-] для инициализации требуется дополнительный аргумент degrees_of_freedom_variables"
   ]
  },
  {
   "cell_type": "code",
   "execution_count": 2,
   "id": "f89ee8fb-6a51-4ba2-9f83-807b7b3a1eed",
   "metadata": {},
   "outputs": [],
   "source": [
    "import pyomo.environ as pyo\n",
    "import numpy as np"
   ]
  },
  {
   "cell_type": "code",
   "execution_count": 3,
   "id": "aa6606a6-e8a3-4996-9cb8-dd25cebcf676",
   "metadata": {},
   "outputs": [],
   "source": [
    "model = pyo.ConcreteModel()"
   ]
  },
  {
   "cell_type": "code",
   "execution_count": 4,
   "id": "6e5dbf5e-65c9-4f67-a528-560f0fb58166",
   "metadata": {},
   "outputs": [],
   "source": [
    "model.D = pyo.Set(initialize=range(3))\n",
    "model.S = pyo.Set(initialize=range(3))"
   ]
  },
  {
   "cell_type": "code",
   "execution_count": 5,
   "id": "ba489328-a3ac-4c4c-a369-65a7dab07071",
   "metadata": {},
   "outputs": [],
   "source": [
    "model.a = pyo.Var(model.D, model.S, domain=pyo.Binary)"
   ]
  },
  {
   "cell_type": "code",
   "execution_count": 6,
   "id": "67eeec7d-6a15-4c3d-a4f0-7f52375cd1b5",
   "metadata": {},
   "outputs": [],
   "source": [
    "model.b = pyo.Var(model.D, domain=pyo.Binary)"
   ]
  },
  {
   "cell_type": "code",
   "execution_count": 7,
   "id": "6878f43f-be66-43ab-9821-f8fc609ce3bb",
   "metadata": {},
   "outputs": [],
   "source": [
    "# Для получения матрицы numpy необходимо выполнить:\n",
    "# np.array(model.a) - матрица\n",
    "# np.array(model.b) - вектор"
   ]
  },
  {
   "cell_type": "code",
   "execution_count": 8,
   "id": "0556f13d-acef-415d-a0a3-2e84315f8fd1",
   "metadata": {},
   "outputs": [],
   "source": [
    "# model.c = pyo.Var(domain=pyo.Binary)"
   ]
  },
  {
   "cell_type": "code",
   "execution_count": 9,
   "id": "a40ccb0a-2e9d-4d87-8720-abefd1db5e89",
   "metadata": {},
   "outputs": [],
   "source": [
    "mtx1 = np.array(model.a)\n",
    "mtx2 = np.array(model.b)\n",
    "mtx3 = np.array(model.b)"
   ]
  },
  {
   "cell_type": "code",
   "execution_count": 10,
   "id": "b561a184-0563-4beb-8240-4e298dc03d70",
   "metadata": {},
   "outputs": [],
   "source": [
    "model.OBJ = pyo.Objective(expr = np.dot(mtx3, np.dot(mtx1, mtx2)), sense=pyo.maximize)"
   ]
  },
  {
   "cell_type": "code",
   "execution_count": 11,
   "id": "8152372b-cff1-4769-8747-3995b0d72c33",
   "metadata": {},
   "outputs": [],
   "source": [
    "model.constraints = pyo.ConstraintList()"
   ]
  },
  {
   "cell_type": "code",
   "execution_count": 12,
   "id": "31b33c60-516a-49d2-acdd-f1fc618e3ed1",
   "metadata": {},
   "outputs": [],
   "source": [
    "# model.constraints.add(3*model.x[1] + 4*model.x[2] <= 1)"
   ]
  },
  {
   "cell_type": "code",
   "execution_count": 13,
   "id": "d5453bae-8226-4d14-ada3-b24baf87c43a",
   "metadata": {},
   "outputs": [],
   "source": [
    "instance = model.create_instance()"
   ]
  },
  {
   "cell_type": "code",
   "execution_count": 14,
   "id": "507941c8-2897-4947-863f-ebe71d3cb58f",
   "metadata": {},
   "outputs": [],
   "source": [
    "opt = pyo.SolverFactory('gams')"
   ]
  },
  {
   "cell_type": "code",
   "execution_count": 15,
   "id": "9a83b006-734b-480a-8788-9de683929af6",
   "metadata": {},
   "outputs": [],
   "source": [
    "result = opt.solve(instance) "
   ]
  },
  {
   "cell_type": "code",
   "execution_count": 16,
   "id": "b202b1c1-d70f-4194-a37f-7c48fa3a3fe0",
   "metadata": {},
   "outputs": [
    {
     "name": "stdout",
     "output_type": "stream",
     "text": [
      "2 Set Declarations\n",
      "    D : Size=1, Index=None, Ordered=Insertion\n",
      "        Key  : Dimen : Domain : Size : Members\n",
      "        None :     1 :    Any :    3 : {0, 1, 2}\n",
      "    S : Size=1, Index=None, Ordered=Insertion\n",
      "        Key  : Dimen : Domain : Size : Members\n",
      "        None :     1 :    Any :    3 : {0, 1, 2}\n",
      "\n",
      "2 Var Declarations\n",
      "    a : Size=9, Index=D*S\n",
      "        Key    : Lower : Value : Upper : Fixed : Stale : Domain\n",
      "        (0, 0) :     0 :   1.0 :     1 : False : False : Binary\n",
      "        (0, 1) :     0 :   1.0 :     1 : False : False : Binary\n",
      "        (0, 2) :     0 :   1.0 :     1 : False : False : Binary\n",
      "        (1, 0) :     0 :   1.0 :     1 : False : False : Binary\n",
      "        (1, 1) :     0 :   1.0 :     1 : False : False : Binary\n",
      "        (1, 2) :     0 :   1.0 :     1 : False : False : Binary\n",
      "        (2, 0) :     0 :   1.0 :     1 : False : False : Binary\n",
      "        (2, 1) :     0 :   1.0 :     1 : False : False : Binary\n",
      "        (2, 2) :     0 :   1.0 :     1 : False : False : Binary\n",
      "    b : Size=3, Index=D\n",
      "        Key : Lower : Value : Upper : Fixed : Stale : Domain\n",
      "          0 :     0 :   1.0 :     1 : False : False : Binary\n",
      "          1 :     0 :   1.0 :     1 : False : False : Binary\n",
      "          2 :     0 :   1.0 :     1 : False : False : Binary\n",
      "\n",
      "1 Objective Declarations\n",
      "    OBJ : Size=1, Index=None, Active=True\n",
      "        Key  : Active : Sense    : Expression\n",
      "        None :   True : maximize : b[0]*(a[0,0]*b[0] + a[0,1]*b[1] + a[0,2]*b[2]) + b[1]*(a[1,0]*b[0] + a[1,1]*b[1] + a[1,2]*b[2]) + b[2]*(a[2,0]*b[0] + a[2,1]*b[1] + a[2,2]*b[2])\n",
      "\n",
      "1 Constraint Declarations\n",
      "    constraints : Size=0, Index={}, Active=True\n",
      "        Key : Lower : Body : Upper : Active\n",
      "\n",
      "6 Declarations: D S a b OBJ constraints\n"
     ]
    }
   ],
   "source": [
    "instance.pprint()"
   ]
  },
  {
   "cell_type": "code",
   "execution_count": null,
   "id": "9b67a5ea-21c6-411c-8dd6-78bfe340086b",
   "metadata": {},
   "outputs": [],
   "source": []
  }
 ],
 "metadata": {
  "kernelspec": {
   "display_name": "Python 3 (ipykernel)",
   "language": "python",
   "name": "python3"
  },
  "language_info": {
   "codemirror_mode": {
    "name": "ipython",
    "version": 3
   },
   "file_extension": ".py",
   "mimetype": "text/x-python",
   "name": "python",
   "nbconvert_exporter": "python",
   "pygments_lexer": "ipython3",
   "version": "3.12.1"
  }
 },
 "nbformat": 4,
 "nbformat_minor": 5
}
