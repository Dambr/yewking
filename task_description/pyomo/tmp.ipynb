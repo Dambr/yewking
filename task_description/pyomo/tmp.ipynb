{
 "cells": [
  {
   "cell_type": "code",
   "execution_count": 1,
   "id": "82891ccb-63ad-40da-b540-d973bed8a603",
   "metadata": {},
   "outputs": [],
   "source": [
    "import pyomo.environ as pyo\n",
    "import numpy as np"
   ]
  },
  {
   "cell_type": "code",
   "execution_count": 2,
   "id": "033fabb1-c999-4720-ae3d-105add6457f5",
   "metadata": {},
   "outputs": [],
   "source": [
    "M = 1000\n",
    "e = np.e"
   ]
  },
  {
   "cell_type": "code",
   "execution_count": 3,
   "id": "b6fbf530-2895-4fe1-9428-ceee323a3292",
   "metadata": {},
   "outputs": [],
   "source": [
    "# Инициализация модели\n",
    "model = pyo.ConcreteModel(name = 'Optimal decomposition')"
   ]
  },
  {
   "cell_type": "code",
   "execution_count": 4,
   "id": "06264676-d377-4f86-953b-ddf7ac206f02",
   "metadata": {},
   "outputs": [],
   "source": [
    "# Ограничения модели\n",
    "model.constraints = pyo.ConstraintList()"
   ]
  },
  {
   "cell_type": "code",
   "execution_count": 5,
   "id": "e1e7aafc-cd48-4c18-a6f5-0bf45ef24864",
   "metadata": {},
   "outputs": [],
   "source": [
    "model.f = pyo.VarList(domain=pyo.Binary)"
   ]
  },
  {
   "cell_type": "code",
   "execution_count": 6,
   "id": "21dc4754-2014-411c-bc23-e3adf2ee03de",
   "metadata": {},
   "outputs": [],
   "source": [
    "model.a = pyo.Var(domain=pyo.Binary)"
   ]
  },
  {
   "cell_type": "code",
   "execution_count": null,
   "id": "a818f4c3-aaa5-4ff7-8913-9d0f417c8a71",
   "metadata": {},
   "outputs": [],
   "source": [
    "# lambda x: 0 if x <= 0 else 1\n",
    "def check_include(vector):\n",
    "    result = []\n",
    "    for x in vector:\n",
    "        f = model.f.add()\n",
    "        result.append(f)\n",
    "        model.constraints.add((x - M * f <= 0))\n",
    "        model.constraints.add((M * f - x >= 0))\n",
    "    return np.array(result)"
   ]
  },
  {
   "cell_type": "code",
   "execution_count": 7,
   "id": "641c4a17-ed0b-4f35-a69e-f9bc418c3953",
   "metadata": {},
   "outputs": [],
   "source": [
    "# lambda x: 0 if x < 1 else 1\n",
    "def check_implemented(x):\n",
    "    result = []\n",
    "    for el in x:\n",
    "        f = model.f.add()\n",
    "        result.append(f)\n",
    "        model.constraints.add((f - M * (el - 1) >= 0))\n",
    "        model.constraints.add((f - el <= 0))\n",
    "    return np.array(result)"
   ]
  },
  {
   "cell_type": "code",
   "execution_count": 8,
   "id": "6ab93c14-cf73-4e31-a72d-8655242645ed",
   "metadata": {},
   "outputs": [],
   "source": [
    "def solve(solver_name):\n",
    "    solver = pyo.SolverFactory(solver_name)\n",
    "    instance = model.create_instance()\n",
    "    result = solver.solve(instance)\n",
    "    instance.display()"
   ]
  },
  {
   "cell_type": "code",
   "execution_count": 9,
   "id": "e6309185-0a9d-415c-832b-b5b6c5faf8fa",
   "metadata": {},
   "outputs": [],
   "source": [
    "model.OBJ = pyo.Objective(expr = sum( check_implemented([model.a]) ), sense=pyo.minimize)"
   ]
  },
  {
   "cell_type": "code",
   "execution_count": 10,
   "id": "537bf001-b7b4-47e8-ba07-079ebc03ea9a",
   "metadata": {},
   "outputs": [
    {
     "name": "stdout",
     "output_type": "stream",
     "text": [
      "Model Optimal decomposition\n",
      "\n",
      "  Variables:\n",
      "    f : Size=1, Index={1}\n",
      "        Key : Lower : Value : Upper : Fixed : Stale : Domain\n",
      "          1 :     0 :   0.0 :     1 : False : False : Binary\n",
      "    a : Size=1, Index=None\n",
      "        Key  : Lower : Value : Upper : Fixed : Stale : Domain\n",
      "        None :     0 :   0.0 :     1 : False : False : Binary\n",
      "\n",
      "  Objectives:\n",
      "    OBJ : Size=1, Index=None, Active=True\n",
      "        Key  : Active : Value\n",
      "        None :   True :   0.0\n",
      "\n",
      "  Constraints:\n",
      "    constraints : Size=2\n",
      "        Key : Lower : Body   : Upper\n",
      "          1 :   0.0 : 1000.0 :  None\n",
      "          2 :  None :    0.0 :   0.0\n"
     ]
    }
   ],
   "source": [
    "solve('glpk')"
   ]
  },
  {
   "cell_type": "code",
   "execution_count": 260,
   "id": "99ea6ea7-af87-484c-b758-6067252af51b",
   "metadata": {},
   "outputs": [],
   "source": [
    "def test_im(x, f):\n",
    "    res1 = x - f - M * (1 - f) <= 0\n",
    "    res2 = -x + M * f >= 0\n",
    "    return(res1 and res2)"
   ]
  },
  {
   "cell_type": "code",
   "execution_count": 261,
   "id": "bc4f259e-f193-48cf-808e-59ea4c2105d9",
   "metadata": {},
   "outputs": [
    {
     "data": {
      "text/plain": [
       "True"
      ]
     },
     "execution_count": 261,
     "metadata": {},
     "output_type": "execute_result"
    }
   ],
   "source": [
    "test_im(-0.5, 0) # True"
   ]
  },
  {
   "cell_type": "code",
   "execution_count": 262,
   "id": "63abaa36-4d37-4191-b33a-c4ccbf396e3e",
   "metadata": {},
   "outputs": [
    {
     "data": {
      "text/plain": [
       "True"
      ]
     },
     "execution_count": 262,
     "metadata": {},
     "output_type": "execute_result"
    }
   ],
   "source": [
    "test_im(-0.5, 1) # False"
   ]
  },
  {
   "cell_type": "code",
   "execution_count": 263,
   "id": "f4777c73-f1f6-40b3-9035-92feb146a20e",
   "metadata": {},
   "outputs": [
    {
     "data": {
      "text/plain": [
       "True"
      ]
     },
     "execution_count": 263,
     "metadata": {},
     "output_type": "execute_result"
    }
   ],
   "source": [
    "test_im(0, 0) # True"
   ]
  },
  {
   "cell_type": "code",
   "execution_count": 264,
   "id": "7db11afd-8e1b-4a18-a745-2a7fd9afccf6",
   "metadata": {},
   "outputs": [
    {
     "data": {
      "text/plain": [
       "True"
      ]
     },
     "execution_count": 264,
     "metadata": {},
     "output_type": "execute_result"
    }
   ],
   "source": [
    "test_im(0, 1) # False"
   ]
  },
  {
   "cell_type": "code",
   "execution_count": 265,
   "id": "91ad7419-1196-4a10-8f5b-baff437edf0f",
   "metadata": {},
   "outputs": [
    {
     "data": {
      "text/plain": [
       "True"
      ]
     },
     "execution_count": 265,
     "metadata": {},
     "output_type": "execute_result"
    }
   ],
   "source": [
    "test_im(0.5, 1) # True"
   ]
  },
  {
   "cell_type": "code",
   "execution_count": 266,
   "id": "8f1c6bb6-083b-4b9b-8544-421f86a255d1",
   "metadata": {},
   "outputs": [
    {
     "data": {
      "text/plain": [
       "False"
      ]
     },
     "execution_count": 266,
     "metadata": {},
     "output_type": "execute_result"
    }
   ],
   "source": [
    "test_im(0.5, 0) # False"
   ]
  },
  {
   "cell_type": "code",
   "execution_count": 267,
   "id": "eea8c393-8ad1-42d5-a83f-59ccef9a7174",
   "metadata": {},
   "outputs": [
    {
     "data": {
      "text/plain": [
       "True"
      ]
     },
     "execution_count": 267,
     "metadata": {},
     "output_type": "execute_result"
    }
   ],
   "source": [
    "test_im(1, 1) # True"
   ]
  },
  {
   "cell_type": "code",
   "execution_count": 268,
   "id": "84999e86-7ef5-4a78-8e29-6269708d45e8",
   "metadata": {},
   "outputs": [
    {
     "data": {
      "text/plain": [
       "False"
      ]
     },
     "execution_count": 268,
     "metadata": {},
     "output_type": "execute_result"
    }
   ],
   "source": [
    "test_im(1, 0) # False"
   ]
  },
  {
   "cell_type": "code",
   "execution_count": 269,
   "id": "94e43944-2d2a-4dfd-8cb1-9bcfb1fa5751",
   "metadata": {},
   "outputs": [
    {
     "data": {
      "text/plain": [
       "False"
      ]
     },
     "execution_count": 269,
     "metadata": {},
     "output_type": "execute_result"
    }
   ],
   "source": [
    "test_im(1.5, 1) # True"
   ]
  },
  {
   "cell_type": "code",
   "execution_count": 270,
   "id": "8424a690-13c2-4dde-9af9-54fb6e577bbe",
   "metadata": {},
   "outputs": [
    {
     "data": {
      "text/plain": [
       "False"
      ]
     },
     "execution_count": 270,
     "metadata": {},
     "output_type": "execute_result"
    }
   ],
   "source": [
    "test_im(1.5, 1) # False"
   ]
  },
  {
   "cell_type": "code",
   "execution_count": null,
   "id": "f4e3d12f-7b41-49cf-b7aa-e6fefb6c2987",
   "metadata": {},
   "outputs": [],
   "source": []
  },
  {
   "cell_type": "code",
   "execution_count": null,
   "id": "d5229da9-cb0c-4683-829d-762b8d0caa3e",
   "metadata": {},
   "outputs": [],
   "source": []
  },
  {
   "cell_type": "code",
   "execution_count": null,
   "id": "912ef9ba-c9ae-4def-91ac-605bd45beb31",
   "metadata": {},
   "outputs": [],
   "source": []
  },
  {
   "cell_type": "code",
   "execution_count": null,
   "id": "ddee2e17-685f-4d91-8d3f-2c4668db04fe",
   "metadata": {},
   "outputs": [],
   "source": []
  },
  {
   "cell_type": "code",
   "execution_count": null,
   "id": "dc6cfe5f-8284-489f-99b9-17d644bbb7fc",
   "metadata": {},
   "outputs": [],
   "source": []
  },
  {
   "cell_type": "code",
   "execution_count": null,
   "id": "31bb2dba-c16b-42f1-83c4-8c9b7a8d452d",
   "metadata": {},
   "outputs": [],
   "source": []
  },
  {
   "cell_type": "code",
   "execution_count": 50,
   "id": "0a35d5e1-a06a-451d-acfd-1579d066eda1",
   "metadata": {},
   "outputs": [],
   "source": [
    "def test_in(x, f):\n",
    "    res1 = -M * f - (1 - x)\n",
    "    res2 = M * f + (1 - x)\n",
    "    return(res1, res2)"
   ]
  },
  {
   "cell_type": "code",
   "execution_count": null,
   "id": "35ec4e39-b7c3-4a8b-a900-183b7956fccb",
   "metadata": {},
   "outputs": [],
   "source": []
  }
 ],
 "metadata": {
  "kernelspec": {
   "display_name": "Python 3 (ipykernel)",
   "language": "python",
   "name": "python3"
  },
  "language_info": {
   "codemirror_mode": {
    "name": "ipython",
    "version": 3
   },
   "file_extension": ".py",
   "mimetype": "text/x-python",
   "name": "python",
   "nbconvert_exporter": "python",
   "pygments_lexer": "ipython3",
   "version": "3.12.1"
  }
 },
 "nbformat": 4,
 "nbformat_minor": 5
}
