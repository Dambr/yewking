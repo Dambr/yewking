{
 "cells": [
  {
   "cell_type": "code",
   "execution_count": 1,
   "id": "980249b2-2921-49fb-ac19-79ce4f5d2cf6",
   "metadata": {},
   "outputs": [],
   "source": [
    "import pandas as pd"
   ]
  },
  {
   "cell_type": "code",
   "execution_count": 2,
   "id": "033fabb1-c999-4720-ae3d-105add6457f5",
   "metadata": {},
   "outputs": [],
   "source": [
    "M = 10 ** 6\n",
    "E = 1 / M"
   ]
  },
  {
   "cell_type": "code",
   "execution_count": 3,
   "id": "c22d738b-df06-42ec-836e-b7a51eab4b22",
   "metadata": {},
   "outputs": [],
   "source": [
    "# lambda x: 1 if x >= 1 else 0"
   ]
  },
  {
   "cell_type": "code",
   "execution_count": 4,
   "id": "bf25277b-6784-449a-a5d9-5663fb5db8b9",
   "metadata": {},
   "outputs": [],
   "source": [
    "def test(r1, r2):\n",
    "    x_list = []\n",
    "    f_list = []\n",
    "    r1_list = []\n",
    "    r2_list = []\n",
    "    r1_and_r2_list = []\n",
    "    for x in [0, 0.5, 1, 1.5]:\n",
    "        for f in [0, 1]:\n",
    "            r1_res = r1(x, f)\n",
    "            r2_res = r2(x, f)\n",
    "            r1_and_r2_res = r1_res and r2_res\n",
    "            x_list.append(x)\n",
    "            f_list.append(f)\n",
    "            r1_list.append(r1_res)\n",
    "            r2_list.append(r2_res)\n",
    "            r1_and_r2_list.append(r1_and_r2_res)\n",
    "            \n",
    "    dictionary = {\n",
    "        \"x\": x_list,\n",
    "        \"f\": f_list,\n",
    "        \"r1\": r1_list,\n",
    "        \"r2\": r2_list,\n",
    "        \"r1 && r2\": r1_and_r2_list\n",
    "    }\n",
    "    df = pd.DataFrame(dictionary)\n",
    "    return df"
   ]
  },
  {
   "cell_type": "code",
   "execution_count": 5,
   "id": "f4e3d12f-7b41-49cf-b7aa-e6fefb6c2987",
   "metadata": {},
   "outputs": [],
   "source": [
    "r1 = lambda x, f: x - f >= 0"
   ]
  },
  {
   "cell_type": "code",
   "execution_count": 6,
   "id": "d5229da9-cb0c-4683-829d-762b8d0caa3e",
   "metadata": {},
   "outputs": [],
   "source": [
    "r2 = lambda x, f: x + E - M * f <= 1"
   ]
  },
  {
   "cell_type": "code",
   "execution_count": 7,
   "id": "912ef9ba-c9ae-4def-91ac-605bd45beb31",
   "metadata": {},
   "outputs": [
    {
     "data": {
      "text/html": [
       "<div>\n",
       "<style scoped>\n",
       "    .dataframe tbody tr th:only-of-type {\n",
       "        vertical-align: middle;\n",
       "    }\n",
       "\n",
       "    .dataframe tbody tr th {\n",
       "        vertical-align: top;\n",
       "    }\n",
       "\n",
       "    .dataframe thead th {\n",
       "        text-align: right;\n",
       "    }\n",
       "</style>\n",
       "<table border=\"1\" class=\"dataframe\">\n",
       "  <thead>\n",
       "    <tr style=\"text-align: right;\">\n",
       "      <th></th>\n",
       "      <th>x</th>\n",
       "      <th>f</th>\n",
       "      <th>r1</th>\n",
       "      <th>r2</th>\n",
       "      <th>r1 &amp;&amp; r2</th>\n",
       "    </tr>\n",
       "  </thead>\n",
       "  <tbody>\n",
       "    <tr>\n",
       "      <th>0</th>\n",
       "      <td>0.0</td>\n",
       "      <td>0</td>\n",
       "      <td>True</td>\n",
       "      <td>True</td>\n",
       "      <td>True</td>\n",
       "    </tr>\n",
       "    <tr>\n",
       "      <th>1</th>\n",
       "      <td>0.0</td>\n",
       "      <td>1</td>\n",
       "      <td>False</td>\n",
       "      <td>True</td>\n",
       "      <td>False</td>\n",
       "    </tr>\n",
       "    <tr>\n",
       "      <th>2</th>\n",
       "      <td>0.5</td>\n",
       "      <td>0</td>\n",
       "      <td>True</td>\n",
       "      <td>True</td>\n",
       "      <td>True</td>\n",
       "    </tr>\n",
       "    <tr>\n",
       "      <th>3</th>\n",
       "      <td>0.5</td>\n",
       "      <td>1</td>\n",
       "      <td>False</td>\n",
       "      <td>True</td>\n",
       "      <td>False</td>\n",
       "    </tr>\n",
       "    <tr>\n",
       "      <th>4</th>\n",
       "      <td>1.0</td>\n",
       "      <td>0</td>\n",
       "      <td>True</td>\n",
       "      <td>False</td>\n",
       "      <td>False</td>\n",
       "    </tr>\n",
       "    <tr>\n",
       "      <th>5</th>\n",
       "      <td>1.0</td>\n",
       "      <td>1</td>\n",
       "      <td>True</td>\n",
       "      <td>True</td>\n",
       "      <td>True</td>\n",
       "    </tr>\n",
       "    <tr>\n",
       "      <th>6</th>\n",
       "      <td>1.5</td>\n",
       "      <td>0</td>\n",
       "      <td>True</td>\n",
       "      <td>False</td>\n",
       "      <td>False</td>\n",
       "    </tr>\n",
       "    <tr>\n",
       "      <th>7</th>\n",
       "      <td>1.5</td>\n",
       "      <td>1</td>\n",
       "      <td>True</td>\n",
       "      <td>True</td>\n",
       "      <td>True</td>\n",
       "    </tr>\n",
       "  </tbody>\n",
       "</table>\n",
       "</div>"
      ],
      "text/plain": [
       "     x  f     r1     r2  r1 && r2\n",
       "0  0.0  0   True   True      True\n",
       "1  0.0  1  False   True     False\n",
       "2  0.5  0   True   True      True\n",
       "3  0.5  1  False   True     False\n",
       "4  1.0  0   True  False     False\n",
       "5  1.0  1   True   True      True\n",
       "6  1.5  0   True  False     False\n",
       "7  1.5  1   True   True      True"
      ]
     },
     "execution_count": 7,
     "metadata": {},
     "output_type": "execute_result"
    }
   ],
   "source": [
    "test(r1, r2)"
   ]
  }
 ],
 "metadata": {
  "kernelspec": {
   "display_name": "Python 3 (ipykernel)",
   "language": "python",
   "name": "python3"
  },
  "language_info": {
   "codemirror_mode": {
    "name": "ipython",
    "version": 3
   },
   "file_extension": ".py",
   "mimetype": "text/x-python",
   "name": "python",
   "nbconvert_exporter": "python",
   "pygments_lexer": "ipython3",
   "version": "3.12.3"
  }
 },
 "nbformat": 4,
 "nbformat_minor": 5
}
