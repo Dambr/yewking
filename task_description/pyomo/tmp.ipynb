{
 "cells": [
  {
   "cell_type": "code",
   "execution_count": 1,
   "id": "95600d4b-3139-418d-a1d4-db6ed24c2695",
   "metadata": {},
   "outputs": [],
   "source": [
    "import numpy as np"
   ]
  },
  {
   "cell_type": "code",
   "execution_count": 2,
   "id": "5e3e5188-e3fe-43f2-a3ac-24b8ab3412cf",
   "metadata": {},
   "outputs": [],
   "source": [
    "def add_multiply_constraints(x, y):\n",
    "    return x * y"
   ]
  },
  {
   "cell_type": "code",
   "execution_count": 3,
   "id": "3fa2261c-d78e-4ef4-8ed9-5e13ccaff548",
   "metadata": {},
   "outputs": [],
   "source": [
    "def bin_multiply(matrix, vector):\n",
    "    (rows_count, cols_count) = np.shape(matrix)\n",
    "    result = []\n",
    "    for row_number in range(rows_count):\n",
    "        matrix_row = matrix[row_number]\n",
    "        terms = []\n",
    "        for col_number in range(cols_count):\n",
    "            vector_element = vector[col_number]\n",
    "            matrix_element = matrix_row[col_number]\n",
    "            term = add_multiply_constraints(vector_element, matrix_element)\n",
    "            terms.append(term)\n",
    "        result.append(sum(terms))\n",
    "    return np.array(result)"
   ]
  },
  {
   "cell_type": "code",
   "execution_count": null,
   "id": "3f2cdd6e-0843-48c2-8a72-f35c9075c564",
   "metadata": {},
   "outputs": [],
   "source": []
  },
  {
   "cell_type": "code",
   "execution_count": 4,
   "id": "6d561748-1d9f-4ad6-bc52-5d959baca095",
   "metadata": {},
   "outputs": [],
   "source": [
    "matrix = np.array([\n",
    "    [3, 1, 1],\n",
    "    [6, 1, 0],\n",
    "    [0, 0, 1],\n",
    "    [1, 1, 1]\n",
    "])"
   ]
  },
  {
   "cell_type": "code",
   "execution_count": 5,
   "id": "bcd1e297-1a37-4d32-8525-b24ef6d73348",
   "metadata": {},
   "outputs": [],
   "source": [
    "vector = np.array([8, 1, 2])"
   ]
  },
  {
   "cell_type": "code",
   "execution_count": 6,
   "id": "a6efeeb3-033d-442a-a2cf-fe0a25df294c",
   "metadata": {},
   "outputs": [
    {
     "data": {
      "text/plain": [
       "array([27, 49,  2, 11])"
      ]
     },
     "execution_count": 6,
     "metadata": {},
     "output_type": "execute_result"
    }
   ],
   "source": [
    "bin_multiply(matrix, vector)"
   ]
  },
  {
   "cell_type": "code",
   "execution_count": null,
   "id": "bfa51bc8-5292-474f-97d6-a4b3d25ae81a",
   "metadata": {},
   "outputs": [],
   "source": []
  },
  {
   "cell_type": "code",
   "execution_count": null,
   "id": "1ffeb725-0e02-4915-b57a-707f0919e284",
   "metadata": {},
   "outputs": [],
   "source": []
  },
  {
   "cell_type": "code",
   "execution_count": null,
   "id": "d77d0cc1-4361-4974-818b-4b6862eac32b",
   "metadata": {},
   "outputs": [],
   "source": []
  }
 ],
 "metadata": {
  "kernelspec": {
   "display_name": "Python 3 (ipykernel)",
   "language": "python",
   "name": "python3"
  },
  "language_info": {
   "codemirror_mode": {
    "name": "ipython",
    "version": 3
   },
   "file_extension": ".py",
   "mimetype": "text/x-python",
   "name": "python",
   "nbconvert_exporter": "python",
   "pygments_lexer": "ipython3",
   "version": "3.12.1"
  }
 },
 "nbformat": 4,
 "nbformat_minor": 5
}
