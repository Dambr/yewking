{
 "cells": [
  {
   "cell_type": "code",
   "execution_count": 1,
   "id": "1ffeb725-0e02-4915-b57a-707f0919e284",
   "metadata": {},
   "outputs": [],
   "source": [
    "import pyomo.environ as pyo\n",
    "import numpy as np\n",
    "import pandas as pd"
   ]
  },
  {
   "cell_type": "code",
   "execution_count": 3,
   "id": "ef44eb93-62b0-4550-8eae-facfa658a455",
   "metadata": {},
   "outputs": [],
   "source": [
    "class SolveAction():\n",
    "    def __init__(self, model, solver_name):\n",
    "        self.model = model\n",
    "        self.solver_name = solver_name\n",
    "\n",
    "    def solve(self):\n",
    "        solver_name = self.solver_name\n",
    "        model = self.model\n",
    "        \n",
    "        solver = pyo.SolverFactory(solver_name)\n",
    "        instance = model.create_instance()\n",
    "        result = solver.solve(instance)\n",
    "        instance.A.display()"
   ]
  },
  {
   "cell_type": "code",
   "execution_count": null,
   "id": "46079a7b-5b1f-421d-b4ca-78d0c0bdd466",
   "metadata": {},
   "outputs": [],
   "source": [
    "class CalculateUsefulFilesAction():\n",
    "    def __init__(self, useful_requirements, T, D):\n",
    "        pass\n",
    "\n",
    "    def calculate(self):\n",
    "        useful_requirements = self.useful_requirements\n",
    "        T = self.T\n",
    "\n",
    "        useful_files = np.dot(useful_requirements, T)\n",
    "        m = len(useful_files)\n",
    "        for i in range(m):\n",
    "            dependencies = self.__calculate_dependencies(i)\n",
    "            useful_files += dependencies\n",
    "        return useful_files\n",
    "\n",
    "    def __calculate_dependencies(self, i):\n",
    "        useful_requirements = self.useful_requirements\n",
    "        T = self.T\n",
    "        D = self.D\n",
    "        \n",
    "        if i == 0:\n",
    "            useful_files = np.dot(useful_requirements, T)\n",
    "            return np.dot(useful_files, D)\n",
    "        else:\n",
    "            dependencies = calculate_dependencies(i - 1)\n",
    "            return np.dot(dependencies, D)"
   ]
  },
  {
   "cell_type": "code",
   "execution_count": null,
   "id": "b7d690d0-10ed-4378-9aeb-369a60e04544",
   "metadata": {},
   "outputs": [],
   "source": [
    "class Checker():\n",
    "    def __init__(self, model):\n",
    "        self.model = model\n",
    "\n",
    "    def check(self, vector, check_function_1, check_function_2):\n",
    "        model = self.model\n",
    "        \n",
    "        result = []\n",
    "        for x in vector:\n",
    "            f = model.f.add()\n",
    "            result.append(f)\n",
    "            constraint_1 = check_function_1(x, f)\n",
    "            constraint_2 = check_function_2(x, f)\n",
    "            model.constraints.add(constraint_1)\n",
    "            model.constraints.add(constraint_2)\n",
    "        return np.array(result)"
   ]
  },
  {
   "cell_type": "code",
   "execution_count": null,
   "id": "bb4d0cbb-6093-46d6-b0fe-b3de668e68d5",
   "metadata": {},
   "outputs": [],
   "source": [
    "class IncludeChecker():\n",
    "    def __init__(self, checker, M):\n",
    "        self.checker = checker\n",
    "        self.M = M\n",
    "\n",
    "    def check(self, vector):\n",
    "        checker = self.checker\n",
    "        M = self.M\n",
    "        \n",
    "        check_include_1 = lambda x, f: (f + 1 / M <= x + 1)\n",
    "        check_include_2 = lambda x, f: (x <= M * f)\n",
    "\n",
    "        result = checker.check(vector, check_include_1, check_include_2)\n",
    "        return result"
   ]
  },
  {
   "cell_type": "code",
   "execution_count": null,
   "id": "40c563bc-a8ef-4abb-aa20-6faa34c3f0c7",
   "metadata": {},
   "outputs": [],
   "source": [
    "class ImplementChecker():\n",
    "    def __init__(self, checker, M):\n",
    "        self.checker = checker\n",
    "        self.M = M\n",
    "\n",
    "    def check(self, vector):\n",
    "        checker = self.checker\n",
    "        M = self.M\n",
    "\n",
    "        check_implemented_1 = lambda x, f: (x >= f)\n",
    "        check_implemented_2 = lambda x, f: (x + 1 / M <= 1 + M * f)\n",
    "\n",
    "        result = checker.check(vector, check_implemented_1, check_implemented_2)\n",
    "        return result"
   ]
  },
  {
   "cell_type": "code",
   "execution_count": null,
   "id": "0b5c2b27-37bf-4eac-b1b6-0f654662dfab",
   "metadata": {},
   "outputs": [],
   "source": [
    "class CalculatePluginsAction():\n",
    "    def __init__(self, calculate_useful_files_action, include_checker, A):\n",
    "        self.calculate_useful_files_action = calculate_useful_files_action\n",
    "        self.include_checker = include_checker\n",
    "        self.A = A\n",
    "\n",
    "    def calculate(self):\n",
    "        calculate_useful_files_action = self.calculate_useful_files_action\n",
    "        include_checker = self.include_checker\n",
    "        A = self.A\n",
    "\n",
    "        plugins = np.dot(useful_files, A)\n",
    "        plugins = include_checker.check(plugins)\n",
    "        return plugins"
   ]
  },
  {
   "cell_type": "code",
   "execution_count": null,
   "id": "bd9b8ca5-a03c-461c-81a4-b56fdaba3b98",
   "metadata": {},
   "outputs": [],
   "source": [
    "class CalculateDeliveryFilesAction():\n",
    "    pass"
   ]
  },
  {
   "cell_type": "code",
   "execution_count": null,
   "id": "d77d0cc1-4361-4974-818b-4b6862eac32b",
   "metadata": {},
   "outputs": [],
   "source": [
    "class Main():\n",
    "\n",
    "    def __init__(self, m, k, T, D, P, E):\n",
    "        self.m = m\n",
    "        self.k = k\n",
    "        self.T = T\n",
    "        self.D = D\n",
    "        self.P = P\n",
    "        self.E = E\n",
    "    \n",
    "    '''\n",
    "    Входные данные:\n",
    "    n, m, k, e\n",
    "    '''\n",
    "    def run(self):\n",
    "        m = self.m\n",
    "        k = self.k\n",
    "        E = self.E\n",
    "        \n",
    "        model = pyo.ConcreteModel(name = 'Optimal decomposition')\n",
    "        model.constraints = pyo.ConstraintList()\n",
    "        model.f = pyo.VarList(domain=pyo.Binary)\n",
    "        set_m = pyo.Set(initialize=range(m))\n",
    "        set_k = pyo.Set(initialize=range(k))\n",
    "        model.A = pyo.Var(set_m, set_k, domain=pyo.Binary)\n",
    "        A = np.array(model.A)\n",
    "\n",
    "        for row in A:\n",
    "            model.constraints.add((sum(row) == 1))\n",
    "\n",
    "        equipment_costs = []\n",
    "        for useful_requirements in E:\n",
    "            pass\n",
    "            \n",
    "        model.OBJ = pyo.Objective(expr = sum(equipment_costs), sense=pyo.minimize)"
   ]
  }
 ],
 "metadata": {
  "kernelspec": {
   "display_name": "Python 3 (ipykernel)",
   "language": "python",
   "name": "python3"
  },
  "language_info": {
   "codemirror_mode": {
    "name": "ipython",
    "version": 3
   },
   "file_extension": ".py",
   "mimetype": "text/x-python",
   "name": "python",
   "nbconvert_exporter": "python",
   "pygments_lexer": "ipython3",
   "version": "3.11.2"
  }
 },
 "nbformat": 4,
 "nbformat_minor": 5
}
