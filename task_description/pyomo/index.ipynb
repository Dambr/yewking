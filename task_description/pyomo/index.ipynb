{
 "cells": [
  {
   "cell_type": "code",
   "execution_count": 1,
   "id": "09622561-aa17-487a-b1f0-ec7ac4ace04d",
   "metadata": {},
   "outputs": [],
   "source": [
    "# Перечень команд, которые необходимо выполнить перед запуском jupyter notebook для включения решателей:\n",
    "# export PATH=$PATH:/Library/Frameworks/GAMS.framework/Versions/47/Resources/\n",
    "# export PATH=$PATH:/Library/Frameworks/ampl_macos64/\n",
    "\n",
    "# Доступные решатели:\n",
    "# _neos              [-] внутренняя ошибка связанная с работой со строками\n",
    "# _mock_cbc          [-] попытка доступа к несуществующему полю _problem_files у ConcreteModel\n",
    "# glpk               [-] не работает с нелинейными выражениями в целевой функции\n",
    "# _glpk_shell        [-] не работает с нелинейными выражениями в целевой функции\n",
    "# _mock_glpk         [-] попытка доступа к несуществующему полю _problem_files у ConcreteModel\n",
    "# _mock_cplex        [-] не работает с нелинейными выражениями в целевой функции\n",
    "# gurobi_direct      [-] не работает с нелинейными выражениями в целевой функции\n",
    "# gurobi             [-] не работает с нелинейными выражениями в целевой функции\n",
    "# _gurobi_shell      [-] не работает с нелинейными выражениями в целевой функции\n",
    "# baron              [-] внутренняя ошибка при работе с сложными выражениями в целевой функции\n",
    "# xpress             [-] не работает с нелинейными выражениями в целевой функции\n",
    "# ipopt              [+] не работает с целыми значениями\n",
    "# gurobi_persistent  [-] внутренняя ошибка при работе с сложными выражениями в целевой функции\n",
    "# gams               [+]\n",
    "# _gams_shell        [+]\n",
    "# xpress_direct      [-] не работает с нелинейными выражениями в целевой функции\n",
    "# xpress_persistent  [-] внутренняя ошибка при работе с сложными выражениями в целевой функции\n",
    "# mpec_nlp           [+] не работает с целыми значениями\n",
    "# mpec_minlp         [-] не работает с нелинейными выражениями в целевой функции\n",
    "# appsi_gurobi       [-] не работает с нелинейными выражениями в целевой функции\n",
    "# gdpopt             [-] требуется дополнительное указание алгоритма через аргумент метода solve         \n",
    "# gdpopt.gloa        [-] ошибка инициализации решателя\n",
    "# gdpopt.lbb         [-] внутренняя ошибка при работе с сложными выражениями в целевой функции\n",
    "# gdpopt.loa         [-] внутренняя ошибка при работе с сложными выражениями в целевой функции\n",
    "# gdpopt.ric         [-] внутренняя ошибка при работе с сложными выражениями в целевой функции\n",
    "# gdpopt.enumerate   [-] не работает с нелинейными выражениями в целевой функции\n",
    "# mindtpy            [-] внутренняя ошибка при работе с сложными выражениями в целевой функции\n",
    "# mindtpy.oa         [-] внутренняя ошибка при работе с сложными выражениями в целевой функции\n",
    "# mindtpy.ecp        [-] внутренняя ошибка при работе с сложными выражениями в целевой функции\n",
    "# mindtpy.goa        [-] внутренняя ошибка работы решателя\n",
    "# mindtpy.fp         [-] внутренняя ошибка при работе с сложными выражениями в целевой функции\n",
    "# multistart         [+] не работает с целыми значениями\n",
    "# ipopt_v2           [+] не работает с целыми значениями\n",
    "# gurobi_v2          [-] не работает с нелинейными выражениями в целевой функции\n",
    "# gurobi_direct_v2   [-] не работает с нелинейными выражениями в целевой функции\n",
    "# trustregion        [-] для инициализации требуется дополнительный аргумент degrees_of_freedom_variables\n",
    "# ampl               [-] внутренняя ошибка работы решателя"
   ]
  },
  {
   "cell_type": "code",
   "execution_count": 2,
   "id": "f89ee8fb-6a51-4ba2-9f83-807b7b3a1eed",
   "metadata": {},
   "outputs": [],
   "source": [
    "import pyomo.environ as pyo\n",
    "import numpy as np"
   ]
  },
  {
   "cell_type": "code",
   "execution_count": 3,
   "id": "0f826095-b085-4d45-b3bc-f95f9c9bf8e4",
   "metadata": {},
   "outputs": [],
   "source": [
    "M = 1000\n",
    "e = np.e"
   ]
  },
  {
   "cell_type": "code",
   "execution_count": 4,
   "id": "a6a43169-678e-4866-879f-678972d6996f",
   "metadata": {},
   "outputs": [],
   "source": [
    "# Инициализация модели\n",
    "model = pyo.ConcreteModel(name = 'Optimal decomposition')"
   ]
  },
  {
   "cell_type": "code",
   "execution_count": 5,
   "id": "069fd33c-5a1b-4416-b923-b6b997817ce1",
   "metadata": {},
   "outputs": [],
   "source": [
    "# Ограничения на сумму элементов в строках\n",
    "model.constraints = pyo.ConstraintList()"
   ]
  },
  {
   "cell_type": "code",
   "execution_count": 6,
   "id": "abc31959-d5c0-428c-86ad-6baefbbcc3e8",
   "metadata": {},
   "outputs": [],
   "source": [
    "model.f = pyo.VarList(domain=pyo.Binary)"
   ]
  },
  {
   "cell_type": "code",
   "execution_count": 7,
   "id": "71f7e0b4-732d-4564-b8d5-ba562ac52bec",
   "metadata": {},
   "outputs": [],
   "source": [
    "# check_include = lambda x: (e ** (x * M) - e ** -(x * M)) / (e ** (x * M) + e ** -(x * M))\n",
    "def check_include(x):\n",
    "    for el in x:\n",
    "        f = model.f.add()\n",
    "        model.constraints.add((M * f - el >= 1))\n",
    "        model.constraints.add((f - M * el <= 0))\n",
    "    return x"
   ]
  },
  {
   "cell_type": "code",
   "execution_count": 8,
   "id": "aa8b0d2c-d819-4f04-b1ae-2ca8ff1271d1",
   "metadata": {},
   "outputs": [],
   "source": [
    "# check_implemented = lambda x: e ** ((x - 1) * M)\n",
    "def check_implemented(x):\n",
    "    for el in x:\n",
    "        f = model.f.add()\n",
    "        model.constraints.add((M * f - (el - 1) >= 0))\n",
    "        model.constraints.add((f - M * el <= 0))\n",
    "    return x"
   ]
  },
  {
   "cell_type": "code",
   "execution_count": 9,
   "id": "c1447988-fd2e-45bd-b56c-a51b6249d58c",
   "metadata": {},
   "outputs": [],
   "source": [
    "calculate_dependencies = lambda i, F: np.dot(F, Eff) if i == 0 else np.dot(calculate_dependencies(i - 1, F), Eff)"
   ]
  },
  {
   "cell_type": "code",
   "execution_count": 10,
   "id": "097ece62-fe5b-44be-a450-b635457556d5",
   "metadata": {},
   "outputs": [],
   "source": [
    "# Матрица трассируемости требований к ПО на файлы исходного кода\n",
    "Erf = np.array([[  1,   0,   0,   0],  # Требование № 1 реализовано в файле № 1\n",
    "                [0.5, 0.5,   0,   0],  # Требование № 2 реализовано в файлах № 1 и 2\n",
    "                [  0, 0.5, 0.5,   0],  # Требования № 3 реализовано в файлах № 2 и 3\n",
    "                [  0,   0, 0.5, 0.5],  # Требование № 4 реализовано в файлах № 3 и 4\n",
    "                [  0,   0,   0,   1]]) # Требовнаие № 5 реализовано в файле № 4"
   ]
  },
  {
   "cell_type": "code",
   "execution_count": 11,
   "id": "0d521d06-d61a-4826-ab80-d17bde3ea133",
   "metadata": {},
   "outputs": [],
   "source": [
    "# Матрица зависимостей между файлами исходного кода\n",
    "Eff = np.array([[0, 1, 0, 0],  # Файл № 1 имеет зависимость на файл № 2\n",
    "                [0, 0, 0, 0],  # Файл № 2 не имеет зависимостей на другие файлы\n",
    "                [0, 0, 0, 0],  # Файл № 2 не имеет зависимостей на другие файлы\n",
    "                [0, 0, 0, 0]]) # Файл № 2 не имеет зависимостей на другие файлы"
   ]
  },
  {
   "cell_type": "code",
   "execution_count": 12,
   "id": "43e1543a-e9b6-464c-b0c0-005900be2c34",
   "metadata": {},
   "outputs": [],
   "source": [
    "# Матрица стоимостей вхождения требований в поставку\n",
    "Err = np.array([\n",
    "    [1, 0, 0, 0, 0], # Стоимость сопровождения функционала, если в поставку войдет требование № 1\n",
    "    [0, 1, 0, 0, 0], # Стоимость сопровождения функционала, если в поставку войдет требование № 2\n",
    "    [0, 0, 1, 0, 0], # Стоимость сопровождения функционала, если в поставку войдет требование № 3\n",
    "    [0, 0, 0, 1, 0], # Стоимость сопровождения функционала, если в поставку войдет требование № 4\n",
    "    [0, 0, 0, 0, 1]  # Стоимость сопровождения функционала, если в поставку войдет требование № 5\n",
    "])"
   ]
  },
  {
   "cell_type": "code",
   "execution_count": 13,
   "id": "4960d9f6-23e3-43c0-bd48-b2221bfa3352",
   "metadata": {},
   "outputs": [],
   "source": [
    "# Число плагинов\n",
    "k = 3"
   ]
  },
  {
   "cell_type": "code",
   "execution_count": 14,
   "id": "dbde657b-473a-4c41-aa63-fe6e506d33e0",
   "metadata": {},
   "outputs": [],
   "source": [
    "# Число требований(n) и число файлов исходного кода(m)\n",
    "n, m = np.shape(Erf)"
   ]
  },
  {
   "cell_type": "code",
   "execution_count": 15,
   "id": "dda4f00d-1a68-498e-8f96-418e99564bc6",
   "metadata": {},
   "outputs": [],
   "source": [
    "# Матрица распределения файлов по плагинам\n",
    "# Необходимо определить оптимальное распределение\n",
    "# Здесь указаны ограничения на максимальное и минимальное значение\n",
    "# И на то, что элементы должны быть целыми числами\n",
    "set_m = pyo.Set(initialize=range(m))\n",
    "set_k = pyo.Set(initialize=range(k))\n",
    "model.Efp = pyo.Var(set_m, set_k, domain=pyo.Binary)\n",
    "\n",
    "# Efp = np.array([\n",
    "#     [1, 0, 0],\n",
    "#     [0, 1, 0],\n",
    "#     [0, 1, 0],\n",
    "#     [0, 0, 1]\n",
    "# ])\n"
   ]
  },
  {
   "cell_type": "code",
   "execution_count": 16,
   "id": "d0c978d9-c849-4955-b98b-ddeb34726eef",
   "metadata": {},
   "outputs": [],
   "source": [
    "for row in np.array(model.Efp):\n",
    "    model.constraints.add((sum(row) == 1))"
   ]
  },
  {
   "cell_type": "code",
   "execution_count": 17,
   "id": "9bb8fab3-3c09-4b18-a015-35cd4f1846fb",
   "metadata": {},
   "outputs": [],
   "source": [
    "R = np.array([1, 0, 0, 0, 0])"
   ]
  },
  {
   "cell_type": "code",
   "execution_count": 18,
   "id": "ae8f6768-d7f6-428e-85a3-3b93e79c2da8",
   "metadata": {},
   "outputs": [],
   "source": [
    "F = np.dot(R, Erf)"
   ]
  },
  {
   "cell_type": "code",
   "execution_count": 19,
   "id": "dd98c35e-e7cd-45cd-9856-cd4b5806bc63",
   "metadata": {},
   "outputs": [],
   "source": [
    "files_count = len(F)"
   ]
  },
  {
   "cell_type": "code",
   "execution_count": 20,
   "id": "5e4c639a-6388-4079-87de-015d140c7174",
   "metadata": {},
   "outputs": [],
   "source": [
    "for i in range(files_count):\n",
    "    dependencies = calculate_dependencies(i, F)\n",
    "    F += dependencies"
   ]
  },
  {
   "cell_type": "code",
   "execution_count": 21,
   "id": "26eae7f3-76f1-4f06-81d9-7f9d398c72ba",
   "metadata": {},
   "outputs": [],
   "source": [
    "P = np.dot(F, model.Efp)"
   ]
  },
  {
   "cell_type": "code",
   "execution_count": 22,
   "id": "03a56c4c-ab43-4e2b-b30e-19db9ea247af",
   "metadata": {},
   "outputs": [],
   "source": [
    "F_d = np.dot(model.Efp, P)"
   ]
  },
  {
   "cell_type": "code",
   "execution_count": 23,
   "id": "68bf14a3-59af-4817-9db6-0dbef0411911",
   "metadata": {},
   "outputs": [],
   "source": [
    "F_d = check_include(M * F_d)"
   ]
  },
  {
   "cell_type": "code",
   "execution_count": 24,
   "id": "650288e3-71d3-416c-aa7d-e5c2cc41071e",
   "metadata": {},
   "outputs": [],
   "source": [
    "R_d = np.dot(Erf, F_d)"
   ]
  },
  {
   "cell_type": "code",
   "execution_count": 25,
   "id": "03f0af53-5570-4da6-941d-c91f0b32ea56",
   "metadata": {},
   "outputs": [],
   "source": [
    "R_d = check_implemented(R_d)"
   ]
  },
  {
   "cell_type": "code",
   "execution_count": 26,
   "id": "5fe9059f-0f48-4168-b50f-9a39e2125c3e",
   "metadata": {},
   "outputs": [],
   "source": [
    "costs = np.dot(Err, R_d)"
   ]
  },
  {
   "cell_type": "code",
   "execution_count": 27,
   "id": "b561a184-0563-4beb-8240-4e298dc03d70",
   "metadata": {},
   "outputs": [],
   "source": [
    "model.OBJ = pyo.Objective(expr = sum(costs), sense=pyo.minimize)"
   ]
  },
  {
   "cell_type": "code",
   "execution_count": 28,
   "id": "750e58de-7ee1-4431-86cb-6f27aff38305",
   "metadata": {
    "scrolled": true
   },
   "outputs": [
    {
     "name": "stdout",
     "output_type": "stream",
     "text": [
      "2 Var Declarations\n",
      "    Efp : Size=12, Index={0, 1, 2, 3}*{0, 1, 2}\n",
      "        Key    : Lower : Value : Upper : Fixed : Stale : Domain\n",
      "        (0, 0) :     0 :  None :     1 : False :  True : Binary\n",
      "        (0, 1) :     0 :  None :     1 : False :  True : Binary\n",
      "        (0, 2) :     0 :  None :     1 : False :  True : Binary\n",
      "        (1, 0) :     0 :  None :     1 : False :  True : Binary\n",
      "        (1, 1) :     0 :  None :     1 : False :  True : Binary\n",
      "        (1, 2) :     0 :  None :     1 : False :  True : Binary\n",
      "        (2, 0) :     0 :  None :     1 : False :  True : Binary\n",
      "        (2, 1) :     0 :  None :     1 : False :  True : Binary\n",
      "        (2, 2) :     0 :  None :     1 : False :  True : Binary\n",
      "        (3, 0) :     0 :  None :     1 : False :  True : Binary\n",
      "        (3, 1) :     0 :  None :     1 : False :  True : Binary\n",
      "        (3, 2) :     0 :  None :     1 : False :  True : Binary\n",
      "    f : Size=9, Index={1, 2, 3, 4, 5, 6, 7, 8, 9}\n",
      "        Key : Lower : Value : Upper : Fixed : Stale : Domain\n",
      "          1 :     0 :  None :     1 : False :  True : Binary\n",
      "          2 :     0 :  None :     1 : False :  True : Binary\n",
      "          3 :     0 :  None :     1 : False :  True : Binary\n",
      "          4 :     0 :  None :     1 : False :  True : Binary\n",
      "          5 :     0 :  None :     1 : False :  True : Binary\n",
      "          6 :     0 :  None :     1 : False :  True : Binary\n",
      "          7 :     0 :  None :     1 : False :  True : Binary\n",
      "          8 :     0 :  None :     1 : False :  True : Binary\n",
      "          9 :     0 :  None :     1 : False :  True : Binary\n",
      "\n",
      "1 Objective Declarations\n",
      "    OBJ : Size=1, Index=None, Active=True\n",
      "        Key  : Active : Sense    : Expression\n",
      "        None :   True : minimize : 1000*(Efp[0,0]*(Efp[0,0] + Efp[1,0] + 0.0*Efp[2,0] + 0.0*Efp[3,0]) + Efp[0,1]*(Efp[0,1] + Efp[1,1] + 0.0*Efp[2,1] + 0.0*Efp[3,1]) + Efp[0,2]*(Efp[0,2] + Efp[1,2] + 0.0*Efp[2,2] + 0.0*Efp[3,2])) + 0.0*(1000*(Efp[1,0]*(Efp[0,0] + Efp[1,0] + 0.0*Efp[2,0] + 0.0*Efp[3,0]) + Efp[1,1]*(Efp[0,1] + Efp[1,1] + 0.0*Efp[2,1] + 0.0*Efp[3,1]) + Efp[1,2]*(Efp[0,2] + Efp[1,2] + 0.0*Efp[2,2] + 0.0*Efp[3,2]))) + 0.0*(1000*(Efp[2,0]*(Efp[0,0] + Efp[1,0] + 0.0*Efp[2,0] + 0.0*Efp[3,0]) + Efp[2,1]*(Efp[0,1] + Efp[1,1] + 0.0*Efp[2,1] + 0.0*Efp[3,1]) + Efp[2,2]*(Efp[0,2] + Efp[1,2] + 0.0*Efp[2,2] + 0.0*Efp[3,2]))) + 0.0*(1000*(Efp[3,0]*(Efp[0,0] + Efp[1,0] + 0.0*Efp[2,0] + 0.0*Efp[3,0]) + Efp[3,1]*(Efp[0,1] + Efp[1,1] + 0.0*Efp[2,1] + 0.0*Efp[3,1]) + Efp[3,2]*(Efp[0,2] + Efp[1,2] + 0.0*Efp[2,2] + 0.0*Efp[3,2]))) + 0*(0.5*(1000*(Efp[0,0]*(Efp[0,0] + Efp[1,0] + 0.0*Efp[2,0] + 0.0*Efp[3,0]) + Efp[0,1]*(Efp[0,1] + Efp[1,1] + 0.0*Efp[2,1] + 0.0*Efp[3,1]) + Efp[0,2]*(Efp[0,2] + Efp[1,2] + 0.0*Efp[2,2] + 0.0*Efp[3,2]))) + 0.5*(1000*(Efp[1,0]*(Efp[0,0] + Efp[1,0] + 0.0*Efp[2,0] + 0.0*Efp[3,0]) + Efp[1,1]*(Efp[0,1] + Efp[1,1] + 0.0*Efp[2,1] + 0.0*Efp[3,1]) + Efp[1,2]*(Efp[0,2] + Efp[1,2] + 0.0*Efp[2,2] + 0.0*Efp[3,2]))) + 0.0*(1000*(Efp[2,0]*(Efp[0,0] + Efp[1,0] + 0.0*Efp[2,0] + 0.0*Efp[3,0]) + Efp[2,1]*(Efp[0,1] + Efp[1,1] + 0.0*Efp[2,1] + 0.0*Efp[3,1]) + Efp[2,2]*(Efp[0,2] + Efp[1,2] + 0.0*Efp[2,2] + 0.0*Efp[3,2]))) + 0.0*(1000*(Efp[3,0]*(Efp[0,0] + Efp[1,0] + 0.0*Efp[2,0] + 0.0*Efp[3,0]) + Efp[3,1]*(Efp[0,1] + Efp[1,1] + 0.0*Efp[2,1] + 0.0*Efp[3,1]) + Efp[3,2]*(Efp[0,2] + Efp[1,2] + 0.0*Efp[2,2] + 0.0*Efp[3,2])))) + 0*(0.0*(1000*(Efp[0,0]*(Efp[0,0] + Efp[1,0] + 0.0*Efp[2,0] + 0.0*Efp[3,0]) + Efp[0,1]*(Efp[0,1] + Efp[1,1] + 0.0*Efp[2,1] + 0.0*Efp[3,1]) + Efp[0,2]*(Efp[0,2] + Efp[1,2] + 0.0*Efp[2,2] + 0.0*Efp[3,2]))) + 0.5*(1000*(Efp[1,0]*(Efp[0,0] + Efp[1,0] + 0.0*Efp[2,0] + 0.0*Efp[3,0]) + Efp[1,1]*(Efp[0,1] + Efp[1,1] + 0.0*Efp[2,1] + 0.0*Efp[3,1]) + Efp[1,2]*(Efp[0,2] + Efp[1,2] + 0.0*Efp[2,2] + 0.0*Efp[3,2]))) + 0.5*(1000*(Efp[2,0]*(Efp[0,0] + Efp[1,0] + 0.0*Efp[2,0] + 0.0*Efp[3,0]) + Efp[2,1]*(Efp[0,1] + Efp[1,1] + 0.0*Efp[2,1] + 0.0*Efp[3,1]) + Efp[2,2]*(Efp[0,2] + Efp[1,2] + 0.0*Efp[2,2] + 0.0*Efp[3,2]))) + 0.0*(1000*(Efp[3,0]*(Efp[0,0] + Efp[1,0] + 0.0*Efp[2,0] + 0.0*Efp[3,0]) + Efp[3,1]*(Efp[0,1] + Efp[1,1] + 0.0*Efp[2,1] + 0.0*Efp[3,1]) + Efp[3,2]*(Efp[0,2] + Efp[1,2] + 0.0*Efp[2,2] + 0.0*Efp[3,2])))) + 0*(0.0*(1000*(Efp[0,0]*(Efp[0,0] + Efp[1,0] + 0.0*Efp[2,0] + 0.0*Efp[3,0]) + Efp[0,1]*(Efp[0,1] + Efp[1,1] + 0.0*Efp[2,1] + 0.0*Efp[3,1]) + Efp[0,2]*(Efp[0,2] + Efp[1,2] + 0.0*Efp[2,2] + 0.0*Efp[3,2]))) + 0.0*(1000*(Efp[1,0]*(Efp[0,0] + Efp[1,0] + 0.0*Efp[2,0] + 0.0*Efp[3,0]) + Efp[1,1]*(Efp[0,1] + Efp[1,1] + 0.0*Efp[2,1] + 0.0*Efp[3,1]) + Efp[1,2]*(Efp[0,2] + Efp[1,2] + 0.0*Efp[2,2] + 0.0*Efp[3,2]))) + 0.5*(1000*(Efp[2,0]*(Efp[0,0] + Efp[1,0] + 0.0*Efp[2,0] + 0.0*Efp[3,0]) + Efp[2,1]*(Efp[0,1] + Efp[1,1] + 0.0*Efp[2,1] + 0.0*Efp[3,1]) + Efp[2,2]*(Efp[0,2] + Efp[1,2] + 0.0*Efp[2,2] + 0.0*Efp[3,2]))) + 0.5*(1000*(Efp[3,0]*(Efp[0,0] + Efp[1,0] + 0.0*Efp[2,0] + 0.0*Efp[3,0]) + Efp[3,1]*(Efp[0,1] + Efp[1,1] + 0.0*Efp[2,1] + 0.0*Efp[3,1]) + Efp[3,2]*(Efp[0,2] + Efp[1,2] + 0.0*Efp[2,2] + 0.0*Efp[3,2])))) + 0*(0.0*(1000*(Efp[0,0]*(Efp[0,0] + Efp[1,0] + 0.0*Efp[2,0] + 0.0*Efp[3,0]) + Efp[0,1]*(Efp[0,1] + Efp[1,1] + 0.0*Efp[2,1] + 0.0*Efp[3,1]) + Efp[0,2]*(Efp[0,2] + Efp[1,2] + 0.0*Efp[2,2] + 0.0*Efp[3,2]))) + 0.0*(1000*(Efp[1,0]*(Efp[0,0] + Efp[1,0] + 0.0*Efp[2,0] + 0.0*Efp[3,0]) + Efp[1,1]*(Efp[0,1] + Efp[1,1] + 0.0*Efp[2,1] + 0.0*Efp[3,1]) + Efp[1,2]*(Efp[0,2] + Efp[1,2] + 0.0*Efp[2,2] + 0.0*Efp[3,2]))) + 0.0*(1000*(Efp[2,0]*(Efp[0,0] + Efp[1,0] + 0.0*Efp[2,0] + 0.0*Efp[3,0]) + Efp[2,1]*(Efp[0,1] + Efp[1,1] + 0.0*Efp[2,1] + 0.0*Efp[3,1]) + Efp[2,2]*(Efp[0,2] + Efp[1,2] + 0.0*Efp[2,2] + 0.0*Efp[3,2]))) + 1000*(Efp[3,0]*(Efp[0,0] + Efp[1,0] + 0.0*Efp[2,0] + 0.0*Efp[3,0]) + Efp[3,1]*(Efp[0,1] + Efp[1,1] + 0.0*Efp[2,1] + 0.0*Efp[3,1]) + Efp[3,2]*(Efp[0,2] + Efp[1,2] + 0.0*Efp[2,2] + 0.0*Efp[3,2]))) + 0.5*(1000*(Efp[0,0]*(Efp[0,0] + Efp[1,0] + 0.0*Efp[2,0] + 0.0*Efp[3,0]) + Efp[0,1]*(Efp[0,1] + Efp[1,1] + 0.0*Efp[2,1] + 0.0*Efp[3,1]) + Efp[0,2]*(Efp[0,2] + Efp[1,2] + 0.0*Efp[2,2] + 0.0*Efp[3,2]))) + 0.5*(1000*(Efp[1,0]*(Efp[0,0] + Efp[1,0] + 0.0*Efp[2,0] + 0.0*Efp[3,0]) + Efp[1,1]*(Efp[0,1] + Efp[1,1] + 0.0*Efp[2,1] + 0.0*Efp[3,1]) + Efp[1,2]*(Efp[0,2] + Efp[1,2] + 0.0*Efp[2,2] + 0.0*Efp[3,2]))) + 0.0*(1000*(Efp[2,0]*(Efp[0,0] + Efp[1,0] + 0.0*Efp[2,0] + 0.0*Efp[3,0]) + Efp[2,1]*(Efp[0,1] + Efp[1,1] + 0.0*Efp[2,1] + 0.0*Efp[3,1]) + Efp[2,2]*(Efp[0,2] + Efp[1,2] + 0.0*Efp[2,2] + 0.0*Efp[3,2]))) + 0.0*(1000*(Efp[3,0]*(Efp[0,0] + Efp[1,0] + 0.0*Efp[2,0] + 0.0*Efp[3,0]) + Efp[3,1]*(Efp[0,1] + Efp[1,1] + 0.0*Efp[2,1] + 0.0*Efp[3,1]) + Efp[3,2]*(Efp[0,2] + Efp[1,2] + 0.0*Efp[2,2] + 0.0*Efp[3,2]))) + 0*(1000*(Efp[0,0]*(Efp[0,0] + Efp[1,0] + 0.0*Efp[2,0] + 0.0*Efp[3,0]) + Efp[0,1]*(Efp[0,1] + Efp[1,1] + 0.0*Efp[2,1] + 0.0*Efp[3,1]) + Efp[0,2]*(Efp[0,2] + Efp[1,2] + 0.0*Efp[2,2] + 0.0*Efp[3,2])) + 0.0*(1000*(Efp[1,0]*(Efp[0,0] + Efp[1,0] + 0.0*Efp[2,0] + 0.0*Efp[3,0]) + Efp[1,1]*(Efp[0,1] + Efp[1,1] + 0.0*Efp[2,1] + 0.0*Efp[3,1]) + Efp[1,2]*(Efp[0,2] + Efp[1,2] + 0.0*Efp[2,2] + 0.0*Efp[3,2]))) + 0.0*(1000*(Efp[2,0]*(Efp[0,0] + Efp[1,0] + 0.0*Efp[2,0] + 0.0*Efp[3,0]) + Efp[2,1]*(Efp[0,1] + Efp[1,1] + 0.0*Efp[2,1] + 0.0*Efp[3,1]) + Efp[2,2]*(Efp[0,2] + Efp[1,2] + 0.0*Efp[2,2] + 0.0*Efp[3,2]))) + 0.0*(1000*(Efp[3,0]*(Efp[0,0] + Efp[1,0] + 0.0*Efp[2,0] + 0.0*Efp[3,0]) + Efp[3,1]*(Efp[0,1] + Efp[1,1] + 0.0*Efp[2,1] + 0.0*Efp[3,1]) + Efp[3,2]*(Efp[0,2] + Efp[1,2] + 0.0*Efp[2,2] + 0.0*Efp[3,2])))) + 0*(0.0*(1000*(Efp[0,0]*(Efp[0,0] + Efp[1,0] + 0.0*Efp[2,0] + 0.0*Efp[3,0]) + Efp[0,1]*(Efp[0,1] + Efp[1,1] + 0.0*Efp[2,1] + 0.0*Efp[3,1]) + Efp[0,2]*(Efp[0,2] + Efp[1,2] + 0.0*Efp[2,2] + 0.0*Efp[3,2]))) + 0.5*(1000*(Efp[1,0]*(Efp[0,0] + Efp[1,0] + 0.0*Efp[2,0] + 0.0*Efp[3,0]) + Efp[1,1]*(Efp[0,1] + Efp[1,1] + 0.0*Efp[2,1] + 0.0*Efp[3,1]) + Efp[1,2]*(Efp[0,2] + Efp[1,2] + 0.0*Efp[2,2] + 0.0*Efp[3,2]))) + 0.5*(1000*(Efp[2,0]*(Efp[0,0] + Efp[1,0] + 0.0*Efp[2,0] + 0.0*Efp[3,0]) + Efp[2,1]*(Efp[0,1] + Efp[1,1] + 0.0*Efp[2,1] + 0.0*Efp[3,1]) + Efp[2,2]*(Efp[0,2] + Efp[1,2] + 0.0*Efp[2,2] + 0.0*Efp[3,2]))) + 0.0*(1000*(Efp[3,0]*(Efp[0,0] + Efp[1,0] + 0.0*Efp[2,0] + 0.0*Efp[3,0]) + Efp[3,1]*(Efp[0,1] + Efp[1,1] + 0.0*Efp[2,1] + 0.0*Efp[3,1]) + Efp[3,2]*(Efp[0,2] + Efp[1,2] + 0.0*Efp[2,2] + 0.0*Efp[3,2])))) + 0*(0.0*(1000*(Efp[0,0]*(Efp[0,0] + Efp[1,0] + 0.0*Efp[2,0] + 0.0*Efp[3,0]) + Efp[0,1]*(Efp[0,1] + Efp[1,1] + 0.0*Efp[2,1] + 0.0*Efp[3,1]) + Efp[0,2]*(Efp[0,2] + Efp[1,2] + 0.0*Efp[2,2] + 0.0*Efp[3,2]))) + 0.0*(1000*(Efp[1,0]*(Efp[0,0] + Efp[1,0] + 0.0*Efp[2,0] + 0.0*Efp[3,0]) + Efp[1,1]*(Efp[0,1] + Efp[1,1] + 0.0*Efp[2,1] + 0.0*Efp[3,1]) + Efp[1,2]*(Efp[0,2] + Efp[1,2] + 0.0*Efp[2,2] + 0.0*Efp[3,2]))) + 0.5*(1000*(Efp[2,0]*(Efp[0,0] + Efp[1,0] + 0.0*Efp[2,0] + 0.0*Efp[3,0]) + Efp[2,1]*(Efp[0,1] + Efp[1,1] + 0.0*Efp[2,1] + 0.0*Efp[3,1]) + Efp[2,2]*(Efp[0,2] + Efp[1,2] + 0.0*Efp[2,2] + 0.0*Efp[3,2]))) + 0.5*(1000*(Efp[3,0]*(Efp[0,0] + Efp[1,0] + 0.0*Efp[2,0] + 0.0*Efp[3,0]) + Efp[3,1]*(Efp[0,1] + Efp[1,1] + 0.0*Efp[2,1] + 0.0*Efp[3,1]) + Efp[3,2]*(Efp[0,2] + Efp[1,2] + 0.0*Efp[2,2] + 0.0*Efp[3,2])))) + 0*(0.0*(1000*(Efp[0,0]*(Efp[0,0] + Efp[1,0] + 0.0*Efp[2,0] + 0.0*Efp[3,0]) + Efp[0,1]*(Efp[0,1] + Efp[1,1] + 0.0*Efp[2,1] + 0.0*Efp[3,1]) + Efp[0,2]*(Efp[0,2] + Efp[1,2] + 0.0*Efp[2,2] + 0.0*Efp[3,2]))) + 0.0*(1000*(Efp[1,0]*(Efp[0,0] + Efp[1,0] + 0.0*Efp[2,0] + 0.0*Efp[3,0]) + Efp[1,1]*(Efp[0,1] + Efp[1,1] + 0.0*Efp[2,1] + 0.0*Efp[3,1]) + Efp[1,2]*(Efp[0,2] + Efp[1,2] + 0.0*Efp[2,2] + 0.0*Efp[3,2]))) + 0.0*(1000*(Efp[2,0]*(Efp[0,0] + Efp[1,0] + 0.0*Efp[2,0] + 0.0*Efp[3,0]) + Efp[2,1]*(Efp[0,1] + Efp[1,1] + 0.0*Efp[2,1] + 0.0*Efp[3,1]) + Efp[2,2]*(Efp[0,2] + Efp[1,2] + 0.0*Efp[2,2] + 0.0*Efp[3,2]))) + 1000*(Efp[3,0]*(Efp[0,0] + Efp[1,0] + 0.0*Efp[2,0] + 0.0*Efp[3,0]) + Efp[3,1]*(Efp[0,1] + Efp[1,1] + 0.0*Efp[2,1] + 0.0*Efp[3,1]) + Efp[3,2]*(Efp[0,2] + Efp[1,2] + 0.0*Efp[2,2] + 0.0*Efp[3,2]))) + 0*(1000*(Efp[0,0]*(Efp[0,0] + Efp[1,0] + 0.0*Efp[2,0] + 0.0*Efp[3,0]) + Efp[0,1]*(Efp[0,1] + Efp[1,1] + 0.0*Efp[2,1] + 0.0*Efp[3,1]) + Efp[0,2]*(Efp[0,2] + Efp[1,2] + 0.0*Efp[2,2] + 0.0*Efp[3,2])) + 0.0*(1000*(Efp[1,0]*(Efp[0,0] + Efp[1,0] + 0.0*Efp[2,0] + 0.0*Efp[3,0]) + Efp[1,1]*(Efp[0,1] + Efp[1,1] + 0.0*Efp[2,1] + 0.0*Efp[3,1]) + Efp[1,2]*(Efp[0,2] + Efp[1,2] + 0.0*Efp[2,2] + 0.0*Efp[3,2]))) + 0.0*(1000*(Efp[2,0]*(Efp[0,0] + Efp[1,0] + 0.0*Efp[2,0] + 0.0*Efp[3,0]) + Efp[2,1]*(Efp[0,1] + Efp[1,1] + 0.0*Efp[2,1] + 0.0*Efp[3,1]) + Efp[2,2]*(Efp[0,2] + Efp[1,2] + 0.0*Efp[2,2] + 0.0*Efp[3,2]))) + 0.0*(1000*(Efp[3,0]*(Efp[0,0] + Efp[1,0] + 0.0*Efp[2,0] + 0.0*Efp[3,0]) + Efp[3,1]*(Efp[0,1] + Efp[1,1] + 0.0*Efp[2,1] + 0.0*Efp[3,1]) + Efp[3,2]*(Efp[0,2] + Efp[1,2] + 0.0*Efp[2,2] + 0.0*Efp[3,2])))) + 0*(0.5*(1000*(Efp[0,0]*(Efp[0,0] + Efp[1,0] + 0.0*Efp[2,0] + 0.0*Efp[3,0]) + Efp[0,1]*(Efp[0,1] + Efp[1,1] + 0.0*Efp[2,1] + 0.0*Efp[3,1]) + Efp[0,2]*(Efp[0,2] + Efp[1,2] + 0.0*Efp[2,2] + 0.0*Efp[3,2]))) + 0.5*(1000*(Efp[1,0]*(Efp[0,0] + Efp[1,0] + 0.0*Efp[2,0] + 0.0*Efp[3,0]) + Efp[1,1]*(Efp[0,1] + Efp[1,1] + 0.0*Efp[2,1] + 0.0*Efp[3,1]) + Efp[1,2]*(Efp[0,2] + Efp[1,2] + 0.0*Efp[2,2] + 0.0*Efp[3,2]))) + 0.0*(1000*(Efp[2,0]*(Efp[0,0] + Efp[1,0] + 0.0*Efp[2,0] + 0.0*Efp[3,0]) + Efp[2,1]*(Efp[0,1] + Efp[1,1] + 0.0*Efp[2,1] + 0.0*Efp[3,1]) + Efp[2,2]*(Efp[0,2] + Efp[1,2] + 0.0*Efp[2,2] + 0.0*Efp[3,2]))) + 0.0*(1000*(Efp[3,0]*(Efp[0,0] + Efp[1,0] + 0.0*Efp[2,0] + 0.0*Efp[3,0]) + Efp[3,1]*(Efp[0,1] + Efp[1,1] + 0.0*Efp[2,1] + 0.0*Efp[3,1]) + Efp[3,2]*(Efp[0,2] + Efp[1,2] + 0.0*Efp[2,2] + 0.0*Efp[3,2])))) + 0.0*(1000*(Efp[0,0]*(Efp[0,0] + Efp[1,0] + 0.0*Efp[2,0] + 0.0*Efp[3,0]) + Efp[0,1]*(Efp[0,1] + Efp[1,1] + 0.0*Efp[2,1] + 0.0*Efp[3,1]) + Efp[0,2]*(Efp[0,2] + Efp[1,2] + 0.0*Efp[2,2] + 0.0*Efp[3,2]))) + 0.5*(1000*(Efp[1,0]*(Efp[0,0] + Efp[1,0] + 0.0*Efp[2,0] + 0.0*Efp[3,0]) + Efp[1,1]*(Efp[0,1] + Efp[1,1] + 0.0*Efp[2,1] + 0.0*Efp[3,1]) + Efp[1,2]*(Efp[0,2] + Efp[1,2] + 0.0*Efp[2,2] + 0.0*Efp[3,2]))) + 0.5*(1000*(Efp[2,0]*(Efp[0,0] + Efp[1,0] + 0.0*Efp[2,0] + 0.0*Efp[3,0]) + Efp[2,1]*(Efp[0,1] + Efp[1,1] + 0.0*Efp[2,1] + 0.0*Efp[3,1]) + Efp[2,2]*(Efp[0,2] + Efp[1,2] + 0.0*Efp[2,2] + 0.0*Efp[3,2]))) + 0.0*(1000*(Efp[3,0]*(Efp[0,0] + Efp[1,0] + 0.0*Efp[2,0] + 0.0*Efp[3,0]) + Efp[3,1]*(Efp[0,1] + Efp[1,1] + 0.0*Efp[2,1] + 0.0*Efp[3,1]) + Efp[3,2]*(Efp[0,2] + Efp[1,2] + 0.0*Efp[2,2] + 0.0*Efp[3,2]))) + 0*(0.0*(1000*(Efp[0,0]*(Efp[0,0] + Efp[1,0] + 0.0*Efp[2,0] + 0.0*Efp[3,0]) + Efp[0,1]*(Efp[0,1] + Efp[1,1] + 0.0*Efp[2,1] + 0.0*Efp[3,1]) + Efp[0,2]*(Efp[0,2] + Efp[1,2] + 0.0*Efp[2,2] + 0.0*Efp[3,2]))) + 0.0*(1000*(Efp[1,0]*(Efp[0,0] + Efp[1,0] + 0.0*Efp[2,0] + 0.0*Efp[3,0]) + Efp[1,1]*(Efp[0,1] + Efp[1,1] + 0.0*Efp[2,1] + 0.0*Efp[3,1]) + Efp[1,2]*(Efp[0,2] + Efp[1,2] + 0.0*Efp[2,2] + 0.0*Efp[3,2]))) + 0.5*(1000*(Efp[2,0]*(Efp[0,0] + Efp[1,0] + 0.0*Efp[2,0] + 0.0*Efp[3,0]) + Efp[2,1]*(Efp[0,1] + Efp[1,1] + 0.0*Efp[2,1] + 0.0*Efp[3,1]) + Efp[2,2]*(Efp[0,2] + Efp[1,2] + 0.0*Efp[2,2] + 0.0*Efp[3,2]))) + 0.5*(1000*(Efp[3,0]*(Efp[0,0] + Efp[1,0] + 0.0*Efp[2,0] + 0.0*Efp[3,0]) + Efp[3,1]*(Efp[0,1] + Efp[1,1] + 0.0*Efp[2,1] + 0.0*Efp[3,1]) + Efp[3,2]*(Efp[0,2] + Efp[1,2] + 0.0*Efp[2,2] + 0.0*Efp[3,2])))) + 0*(0.0*(1000*(Efp[0,0]*(Efp[0,0] + Efp[1,0] + 0.0*Efp[2,0] + 0.0*Efp[3,0]) + Efp[0,1]*(Efp[0,1] + Efp[1,1] + 0.0*Efp[2,1] + 0.0*Efp[3,1]) + Efp[0,2]*(Efp[0,2] + Efp[1,2] + 0.0*Efp[2,2] + 0.0*Efp[3,2]))) + 0.0*(1000*(Efp[1,0]*(Efp[0,0] + Efp[1,0] + 0.0*Efp[2,0] + 0.0*Efp[3,0]) + Efp[1,1]*(Efp[0,1] + Efp[1,1] + 0.0*Efp[2,1] + 0.0*Efp[3,1]) + Efp[1,2]*(Efp[0,2] + Efp[1,2] + 0.0*Efp[2,2] + 0.0*Efp[3,2]))) + 0.0*(1000*(Efp[2,0]*(Efp[0,0] + Efp[1,0] + 0.0*Efp[2,0] + 0.0*Efp[3,0]) + Efp[2,1]*(Efp[0,1] + Efp[1,1] + 0.0*Efp[2,1] + 0.0*Efp[3,1]) + Efp[2,2]*(Efp[0,2] + Efp[1,2] + 0.0*Efp[2,2] + 0.0*Efp[3,2]))) + 1000*(Efp[3,0]*(Efp[0,0] + Efp[1,0] + 0.0*Efp[2,0] + 0.0*Efp[3,0]) + Efp[3,1]*(Efp[0,1] + Efp[1,1] + 0.0*Efp[2,1] + 0.0*Efp[3,1]) + Efp[3,2]*(Efp[0,2] + Efp[1,2] + 0.0*Efp[2,2] + 0.0*Efp[3,2]))) + 0*(1000*(Efp[0,0]*(Efp[0,0] + Efp[1,0] + 0.0*Efp[2,0] + 0.0*Efp[3,0]) + Efp[0,1]*(Efp[0,1] + Efp[1,1] + 0.0*Efp[2,1] + 0.0*Efp[3,1]) + Efp[0,2]*(Efp[0,2] + Efp[1,2] + 0.0*Efp[2,2] + 0.0*Efp[3,2])) + 0.0*(1000*(Efp[1,0]*(Efp[0,0] + Efp[1,0] + 0.0*Efp[2,0] + 0.0*Efp[3,0]) + Efp[1,1]*(Efp[0,1] + Efp[1,1] + 0.0*Efp[2,1] + 0.0*Efp[3,1]) + Efp[1,2]*(Efp[0,2] + Efp[1,2] + 0.0*Efp[2,2] + 0.0*Efp[3,2]))) + 0.0*(1000*(Efp[2,0]*(Efp[0,0] + Efp[1,0] + 0.0*Efp[2,0] + 0.0*Efp[3,0]) + Efp[2,1]*(Efp[0,1] + Efp[1,1] + 0.0*Efp[2,1] + 0.0*Efp[3,1]) + Efp[2,2]*(Efp[0,2] + Efp[1,2] + 0.0*Efp[2,2] + 0.0*Efp[3,2]))) + 0.0*(1000*(Efp[3,0]*(Efp[0,0] + Efp[1,0] + 0.0*Efp[2,0] + 0.0*Efp[3,0]) + Efp[3,1]*(Efp[0,1] + Efp[1,1] + 0.0*Efp[2,1] + 0.0*Efp[3,1]) + Efp[3,2]*(Efp[0,2] + Efp[1,2] + 0.0*Efp[2,2] + 0.0*Efp[3,2])))) + 0*(0.5*(1000*(Efp[0,0]*(Efp[0,0] + Efp[1,0] + 0.0*Efp[2,0] + 0.0*Efp[3,0]) + Efp[0,1]*(Efp[0,1] + Efp[1,1] + 0.0*Efp[2,1] + 0.0*Efp[3,1]) + Efp[0,2]*(Efp[0,2] + Efp[1,2] + 0.0*Efp[2,2] + 0.0*Efp[3,2]))) + 0.5*(1000*(Efp[1,0]*(Efp[0,0] + Efp[1,0] + 0.0*Efp[2,0] + 0.0*Efp[3,0]) + Efp[1,1]*(Efp[0,1] + Efp[1,1] + 0.0*Efp[2,1] + 0.0*Efp[3,1]) + Efp[1,2]*(Efp[0,2] + Efp[1,2] + 0.0*Efp[2,2] + 0.0*Efp[3,2]))) + 0.0*(1000*(Efp[2,0]*(Efp[0,0] + Efp[1,0] + 0.0*Efp[2,0] + 0.0*Efp[3,0]) + Efp[2,1]*(Efp[0,1] + Efp[1,1] + 0.0*Efp[2,1] + 0.0*Efp[3,1]) + Efp[2,2]*(Efp[0,2] + Efp[1,2] + 0.0*Efp[2,2] + 0.0*Efp[3,2]))) + 0.0*(1000*(Efp[3,0]*(Efp[0,0] + Efp[1,0] + 0.0*Efp[2,0] + 0.0*Efp[3,0]) + Efp[3,1]*(Efp[0,1] + Efp[1,1] + 0.0*Efp[2,1] + 0.0*Efp[3,1]) + Efp[3,2]*(Efp[0,2] + Efp[1,2] + 0.0*Efp[2,2] + 0.0*Efp[3,2])))) + 0*(0.0*(1000*(Efp[0,0]*(Efp[0,0] + Efp[1,0] + 0.0*Efp[2,0] + 0.0*Efp[3,0]) + Efp[0,1]*(Efp[0,1] + Efp[1,1] + 0.0*Efp[2,1] + 0.0*Efp[3,1]) + Efp[0,2]*(Efp[0,2] + Efp[1,2] + 0.0*Efp[2,2] + 0.0*Efp[3,2]))) + 0.5*(1000*(Efp[1,0]*(Efp[0,0] + Efp[1,0] + 0.0*Efp[2,0] + 0.0*Efp[3,0]) + Efp[1,1]*(Efp[0,1] + Efp[1,1] + 0.0*Efp[2,1] + 0.0*Efp[3,1]) + Efp[1,2]*(Efp[0,2] + Efp[1,2] + 0.0*Efp[2,2] + 0.0*Efp[3,2]))) + 0.5*(1000*(Efp[2,0]*(Efp[0,0] + Efp[1,0] + 0.0*Efp[2,0] + 0.0*Efp[3,0]) + Efp[2,1]*(Efp[0,1] + Efp[1,1] + 0.0*Efp[2,1] + 0.0*Efp[3,1]) + Efp[2,2]*(Efp[0,2] + Efp[1,2] + 0.0*Efp[2,2] + 0.0*Efp[3,2]))) + 0.0*(1000*(Efp[3,0]*(Efp[0,0] + Efp[1,0] + 0.0*Efp[2,0] + 0.0*Efp[3,0]) + Efp[3,1]*(Efp[0,1] + Efp[1,1] + 0.0*Efp[2,1] + 0.0*Efp[3,1]) + Efp[3,2]*(Efp[0,2] + Efp[1,2] + 0.0*Efp[2,2] + 0.0*Efp[3,2])))) + 0.0*(1000*(Efp[0,0]*(Efp[0,0] + Efp[1,0] + 0.0*Efp[2,0] + 0.0*Efp[3,0]) + Efp[0,1]*(Efp[0,1] + Efp[1,1] + 0.0*Efp[2,1] + 0.0*Efp[3,1]) + Efp[0,2]*(Efp[0,2] + Efp[1,2] + 0.0*Efp[2,2] + 0.0*Efp[3,2]))) + 0.0*(1000*(Efp[1,0]*(Efp[0,0] + Efp[1,0] + 0.0*Efp[2,0] + 0.0*Efp[3,0]) + Efp[1,1]*(Efp[0,1] + Efp[1,1] + 0.0*Efp[2,1] + 0.0*Efp[3,1]) + Efp[1,2]*(Efp[0,2] + Efp[1,2] + 0.0*Efp[2,2] + 0.0*Efp[3,2]))) + 0.5*(1000*(Efp[2,0]*(Efp[0,0] + Efp[1,0] + 0.0*Efp[2,0] + 0.0*Efp[3,0]) + Efp[2,1]*(Efp[0,1] + Efp[1,1] + 0.0*Efp[2,1] + 0.0*Efp[3,1]) + Efp[2,2]*(Efp[0,2] + Efp[1,2] + 0.0*Efp[2,2] + 0.0*Efp[3,2]))) + 0.5*(1000*(Efp[3,0]*(Efp[0,0] + Efp[1,0] + 0.0*Efp[2,0] + 0.0*Efp[3,0]) + Efp[3,1]*(Efp[0,1] + Efp[1,1] + 0.0*Efp[2,1] + 0.0*Efp[3,1]) + Efp[3,2]*(Efp[0,2] + Efp[1,2] + 0.0*Efp[2,2] + 0.0*Efp[3,2]))) + 0*(0.0*(1000*(Efp[0,0]*(Efp[0,0] + Efp[1,0] + 0.0*Efp[2,0] + 0.0*Efp[3,0]) + Efp[0,1]*(Efp[0,1] + Efp[1,1] + 0.0*Efp[2,1] + 0.0*Efp[3,1]) + Efp[0,2]*(Efp[0,2] + Efp[1,2] + 0.0*Efp[2,2] + 0.0*Efp[3,2]))) + 0.0*(1000*(Efp[1,0]*(Efp[0,0] + Efp[1,0] + 0.0*Efp[2,0] + 0.0*Efp[3,0]) + Efp[1,1]*(Efp[0,1] + Efp[1,1] + 0.0*Efp[2,1] + 0.0*Efp[3,1]) + Efp[1,2]*(Efp[0,2] + Efp[1,2] + 0.0*Efp[2,2] + 0.0*Efp[3,2]))) + 0.0*(1000*(Efp[2,0]*(Efp[0,0] + Efp[1,0] + 0.0*Efp[2,0] + 0.0*Efp[3,0]) + Efp[2,1]*(Efp[0,1] + Efp[1,1] + 0.0*Efp[2,1] + 0.0*Efp[3,1]) + Efp[2,2]*(Efp[0,2] + Efp[1,2] + 0.0*Efp[2,2] + 0.0*Efp[3,2]))) + 1000*(Efp[3,0]*(Efp[0,0] + Efp[1,0] + 0.0*Efp[2,0] + 0.0*Efp[3,0]) + Efp[3,1]*(Efp[0,1] + Efp[1,1] + 0.0*Efp[2,1] + 0.0*Efp[3,1]) + Efp[3,2]*(Efp[0,2] + Efp[1,2] + 0.0*Efp[2,2] + 0.0*Efp[3,2]))) + 0*(1000*(Efp[0,0]*(Efp[0,0] + Efp[1,0] + 0.0*Efp[2,0] + 0.0*Efp[3,0]) + Efp[0,1]*(Efp[0,1] + Efp[1,1] + 0.0*Efp[2,1] + 0.0*Efp[3,1]) + Efp[0,2]*(Efp[0,2] + Efp[1,2] + 0.0*Efp[2,2] + 0.0*Efp[3,2])) + 0.0*(1000*(Efp[1,0]*(Efp[0,0] + Efp[1,0] + 0.0*Efp[2,0] + 0.0*Efp[3,0]) + Efp[1,1]*(Efp[0,1] + Efp[1,1] + 0.0*Efp[2,1] + 0.0*Efp[3,1]) + Efp[1,2]*(Efp[0,2] + Efp[1,2] + 0.0*Efp[2,2] + 0.0*Efp[3,2]))) + 0.0*(1000*(Efp[2,0]*(Efp[0,0] + Efp[1,0] + 0.0*Efp[2,0] + 0.0*Efp[3,0]) + Efp[2,1]*(Efp[0,1] + Efp[1,1] + 0.0*Efp[2,1] + 0.0*Efp[3,1]) + Efp[2,2]*(Efp[0,2] + Efp[1,2] + 0.0*Efp[2,2] + 0.0*Efp[3,2]))) + 0.0*(1000*(Efp[3,0]*(Efp[0,0] + Efp[1,0] + 0.0*Efp[2,0] + 0.0*Efp[3,0]) + Efp[3,1]*(Efp[0,1] + Efp[1,1] + 0.0*Efp[2,1] + 0.0*Efp[3,1]) + Efp[3,2]*(Efp[0,2] + Efp[1,2] + 0.0*Efp[2,2] + 0.0*Efp[3,2])))) + 0*(0.5*(1000*(Efp[0,0]*(Efp[0,0] + Efp[1,0] + 0.0*Efp[2,0] + 0.0*Efp[3,0]) + Efp[0,1]*(Efp[0,1] + Efp[1,1] + 0.0*Efp[2,1] + 0.0*Efp[3,1]) + Efp[0,2]*(Efp[0,2] + Efp[1,2] + 0.0*Efp[2,2] + 0.0*Efp[3,2]))) + 0.5*(1000*(Efp[1,0]*(Efp[0,0] + Efp[1,0] + 0.0*Efp[2,0] + 0.0*Efp[3,0]) + Efp[1,1]*(Efp[0,1] + Efp[1,1] + 0.0*Efp[2,1] + 0.0*Efp[3,1]) + Efp[1,2]*(Efp[0,2] + Efp[1,2] + 0.0*Efp[2,2] + 0.0*Efp[3,2]))) + 0.0*(1000*(Efp[2,0]*(Efp[0,0] + Efp[1,0] + 0.0*Efp[2,0] + 0.0*Efp[3,0]) + Efp[2,1]*(Efp[0,1] + Efp[1,1] + 0.0*Efp[2,1] + 0.0*Efp[3,1]) + Efp[2,2]*(Efp[0,2] + Efp[1,2] + 0.0*Efp[2,2] + 0.0*Efp[3,2]))) + 0.0*(1000*(Efp[3,0]*(Efp[0,0] + Efp[1,0] + 0.0*Efp[2,0] + 0.0*Efp[3,0]) + Efp[3,1]*(Efp[0,1] + Efp[1,1] + 0.0*Efp[2,1] + 0.0*Efp[3,1]) + Efp[3,2]*(Efp[0,2] + Efp[1,2] + 0.0*Efp[2,2] + 0.0*Efp[3,2])))) + 0*(0.0*(1000*(Efp[0,0]*(Efp[0,0] + Efp[1,0] + 0.0*Efp[2,0] + 0.0*Efp[3,0]) + Efp[0,1]*(Efp[0,1] + Efp[1,1] + 0.0*Efp[2,1] + 0.0*Efp[3,1]) + Efp[0,2]*(Efp[0,2] + Efp[1,2] + 0.0*Efp[2,2] + 0.0*Efp[3,2]))) + 0.5*(1000*(Efp[1,0]*(Efp[0,0] + Efp[1,0] + 0.0*Efp[2,0] + 0.0*Efp[3,0]) + Efp[1,1]*(Efp[0,1] + Efp[1,1] + 0.0*Efp[2,1] + 0.0*Efp[3,1]) + Efp[1,2]*(Efp[0,2] + Efp[1,2] + 0.0*Efp[2,2] + 0.0*Efp[3,2]))) + 0.5*(1000*(Efp[2,0]*(Efp[0,0] + Efp[1,0] + 0.0*Efp[2,0] + 0.0*Efp[3,0]) + Efp[2,1]*(Efp[0,1] + Efp[1,1] + 0.0*Efp[2,1] + 0.0*Efp[3,1]) + Efp[2,2]*(Efp[0,2] + Efp[1,2] + 0.0*Efp[2,2] + 0.0*Efp[3,2]))) + 0.0*(1000*(Efp[3,0]*(Efp[0,0] + Efp[1,0] + 0.0*Efp[2,0] + 0.0*Efp[3,0]) + Efp[3,1]*(Efp[0,1] + Efp[1,1] + 0.0*Efp[2,1] + 0.0*Efp[3,1]) + Efp[3,2]*(Efp[0,2] + Efp[1,2] + 0.0*Efp[2,2] + 0.0*Efp[3,2])))) + 0*(0.0*(1000*(Efp[0,0]*(Efp[0,0] + Efp[1,0] + 0.0*Efp[2,0] + 0.0*Efp[3,0]) + Efp[0,1]*(Efp[0,1] + Efp[1,1] + 0.0*Efp[2,1] + 0.0*Efp[3,1]) + Efp[0,2]*(Efp[0,2] + Efp[1,2] + 0.0*Efp[2,2] + 0.0*Efp[3,2]))) + 0.0*(1000*(Efp[1,0]*(Efp[0,0] + Efp[1,0] + 0.0*Efp[2,0] + 0.0*Efp[3,0]) + Efp[1,1]*(Efp[0,1] + Efp[1,1] + 0.0*Efp[2,1] + 0.0*Efp[3,1]) + Efp[1,2]*(Efp[0,2] + Efp[1,2] + 0.0*Efp[2,2] + 0.0*Efp[3,2]))) + 0.5*(1000*(Efp[2,0]*(Efp[0,0] + Efp[1,0] + 0.0*Efp[2,0] + 0.0*Efp[3,0]) + Efp[2,1]*(Efp[0,1] + Efp[1,1] + 0.0*Efp[2,1] + 0.0*Efp[3,1]) + Efp[2,2]*(Efp[0,2] + Efp[1,2] + 0.0*Efp[2,2] + 0.0*Efp[3,2]))) + 0.5*(1000*(Efp[3,0]*(Efp[0,0] + Efp[1,0] + 0.0*Efp[2,0] + 0.0*Efp[3,0]) + Efp[3,1]*(Efp[0,1] + Efp[1,1] + 0.0*Efp[2,1] + 0.0*Efp[3,1]) + Efp[3,2]*(Efp[0,2] + Efp[1,2] + 0.0*Efp[2,2] + 0.0*Efp[3,2])))) + 0.0*(1000*(Efp[0,0]*(Efp[0,0] + Efp[1,0] + 0.0*Efp[2,0] + 0.0*Efp[3,0]) + Efp[0,1]*(Efp[0,1] + Efp[1,1] + 0.0*Efp[2,1] + 0.0*Efp[3,1]) + Efp[0,2]*(Efp[0,2] + Efp[1,2] + 0.0*Efp[2,2] + 0.0*Efp[3,2]))) + 0.0*(1000*(Efp[1,0]*(Efp[0,0] + Efp[1,0] + 0.0*Efp[2,0] + 0.0*Efp[3,0]) + Efp[1,1]*(Efp[0,1] + Efp[1,1] + 0.0*Efp[2,1] + 0.0*Efp[3,1]) + Efp[1,2]*(Efp[0,2] + Efp[1,2] + 0.0*Efp[2,2] + 0.0*Efp[3,2]))) + 0.0*(1000*(Efp[2,0]*(Efp[0,0] + Efp[1,0] + 0.0*Efp[2,0] + 0.0*Efp[3,0]) + Efp[2,1]*(Efp[0,1] + Efp[1,1] + 0.0*Efp[2,1] + 0.0*Efp[3,1]) + Efp[2,2]*(Efp[0,2] + Efp[1,2] + 0.0*Efp[2,2] + 0.0*Efp[3,2]))) + 1000*(Efp[3,0]*(Efp[0,0] + Efp[1,0] + 0.0*Efp[2,0] + 0.0*Efp[3,0]) + Efp[3,1]*(Efp[0,1] + Efp[1,1] + 0.0*Efp[2,1] + 0.0*Efp[3,1]) + Efp[3,2]*(Efp[0,2] + Efp[1,2] + 0.0*Efp[2,2] + 0.0*Efp[3,2]))\n",
      "\n",
      "1 Constraint Declarations\n",
      "    constraints : Size=22, Index={1, 2, 3, 4, 5, 6, 7, 8, 9, 10, 11, 12, 13, 14, 15, 16, 17, 18, 19, 20, 21, 22}, Active=True\n",
      "        Key : Lower : Body                                                                                                                                                                                                                                                                                                                                                                                                                                                                                                                                                                                                                                                                                                                                                                                                                                                    : Upper : Active\n",
      "          1 :   1.0 :                                                                                                                                                                                                                                                                                                                                                                                                                                                                                                                                                                                                                                                                                                                                                                                                                          Efp[0,0] + Efp[0,1] + Efp[0,2] :   1.0 :   True\n",
      "          2 :   1.0 :                                                                                                                                                                                                                                                                                                                                                                                                                                                                                                                                                                                                                                                                                                                                                                                                                          Efp[1,0] + Efp[1,1] + Efp[1,2] :   1.0 :   True\n",
      "          3 :   1.0 :                                                                                                                                                                                                                                                                                                                                                                                                                                                                                                                                                                                                                                                                                                                                                                                                                          Efp[2,0] + Efp[2,1] + Efp[2,2] :   1.0 :   True\n",
      "          4 :   1.0 :                                                                                                                                                                                                                                                                                                                                                                                                                                                                                                                                                                                                                                                                                                                                                                                                                          Efp[3,0] + Efp[3,1] + Efp[3,2] :   1.0 :   True\n",
      "          5 :   1.0 :                                                                                                                                                                                                                                                                                                                                                                                                                                                                                                                                                                                                                                           1000*f[1] - 1000*(Efp[0,0]*(Efp[0,0] + Efp[1,0] + 0.0*Efp[2,0] + 0.0*Efp[3,0]) + Efp[0,1]*(Efp[0,1] + Efp[1,1] + 0.0*Efp[2,1] + 0.0*Efp[3,1]) + Efp[0,2]*(Efp[0,2] + Efp[1,2] + 0.0*Efp[2,2] + 0.0*Efp[3,2])) :  +Inf :   True\n",
      "          6 :  -Inf :                                                                                                                                                                                                                                                                                                                                                                                                                                                                                                                                                                                                                                         f[1] - 1000*(1000*(Efp[0,0]*(Efp[0,0] + Efp[1,0] + 0.0*Efp[2,0] + 0.0*Efp[3,0]) + Efp[0,1]*(Efp[0,1] + Efp[1,1] + 0.0*Efp[2,1] + 0.0*Efp[3,1]) + Efp[0,2]*(Efp[0,2] + Efp[1,2] + 0.0*Efp[2,2] + 0.0*Efp[3,2]))) :   0.0 :   True\n",
      "          7 :   1.0 :                                                                                                                                                                                                                                                                                                                                                                                                                                                                                                                                                                                                                                           1000*f[2] - 1000*(Efp[1,0]*(Efp[0,0] + Efp[1,0] + 0.0*Efp[2,0] + 0.0*Efp[3,0]) + Efp[1,1]*(Efp[0,1] + Efp[1,1] + 0.0*Efp[2,1] + 0.0*Efp[3,1]) + Efp[1,2]*(Efp[0,2] + Efp[1,2] + 0.0*Efp[2,2] + 0.0*Efp[3,2])) :  +Inf :   True\n",
      "          8 :  -Inf :                                                                                                                                                                                                                                                                                                                                                                                                                                                                                                                                                                                                                                         f[2] - 1000*(1000*(Efp[1,0]*(Efp[0,0] + Efp[1,0] + 0.0*Efp[2,0] + 0.0*Efp[3,0]) + Efp[1,1]*(Efp[0,1] + Efp[1,1] + 0.0*Efp[2,1] + 0.0*Efp[3,1]) + Efp[1,2]*(Efp[0,2] + Efp[1,2] + 0.0*Efp[2,2] + 0.0*Efp[3,2]))) :   0.0 :   True\n",
      "          9 :   1.0 :                                                                                                                                                                                                                                                                                                                                                                                                                                                                                                                                                                                                                                           1000*f[3] - 1000*(Efp[2,0]*(Efp[0,0] + Efp[1,0] + 0.0*Efp[2,0] + 0.0*Efp[3,0]) + Efp[2,1]*(Efp[0,1] + Efp[1,1] + 0.0*Efp[2,1] + 0.0*Efp[3,1]) + Efp[2,2]*(Efp[0,2] + Efp[1,2] + 0.0*Efp[2,2] + 0.0*Efp[3,2])) :  +Inf :   True\n",
      "         10 :  -Inf :                                                                                                                                                                                                                                                                                                                                                                                                                                                                                                                                                                                                                                         f[3] - 1000*(1000*(Efp[2,0]*(Efp[0,0] + Efp[1,0] + 0.0*Efp[2,0] + 0.0*Efp[3,0]) + Efp[2,1]*(Efp[0,1] + Efp[1,1] + 0.0*Efp[2,1] + 0.0*Efp[3,1]) + Efp[2,2]*(Efp[0,2] + Efp[1,2] + 0.0*Efp[2,2] + 0.0*Efp[3,2]))) :   0.0 :   True\n",
      "         11 :   1.0 :                                                                                                                                                                                                                                                                                                                                                                                                                                                                                                                                                                                                                                           1000*f[4] - 1000*(Efp[3,0]*(Efp[0,0] + Efp[1,0] + 0.0*Efp[2,0] + 0.0*Efp[3,0]) + Efp[3,1]*(Efp[0,1] + Efp[1,1] + 0.0*Efp[2,1] + 0.0*Efp[3,1]) + Efp[3,2]*(Efp[0,2] + Efp[1,2] + 0.0*Efp[2,2] + 0.0*Efp[3,2])) :  +Inf :   True\n",
      "         12 :  -Inf :                                                                                                                                                                                                                                                                                                                                                                                                                                                                                                                                                                                                                                         f[4] - 1000*(1000*(Efp[3,0]*(Efp[0,0] + Efp[1,0] + 0.0*Efp[2,0] + 0.0*Efp[3,0]) + Efp[3,1]*(Efp[0,1] + Efp[1,1] + 0.0*Efp[2,1] + 0.0*Efp[3,1]) + Efp[3,2]*(Efp[0,2] + Efp[1,2] + 0.0*Efp[2,2] + 0.0*Efp[3,2]))) :   0.0 :   True\n",
      "         13 :   0.0 :       1000*f[5] - (1000*(Efp[0,0]*(Efp[0,0] + Efp[1,0] + 0.0*Efp[2,0] + 0.0*Efp[3,0]) + Efp[0,1]*(Efp[0,1] + Efp[1,1] + 0.0*Efp[2,1] + 0.0*Efp[3,1]) + Efp[0,2]*(Efp[0,2] + Efp[1,2] + 0.0*Efp[2,2] + 0.0*Efp[3,2])) + 0.0*(1000*(Efp[1,0]*(Efp[0,0] + Efp[1,0] + 0.0*Efp[2,0] + 0.0*Efp[3,0]) + Efp[1,1]*(Efp[0,1] + Efp[1,1] + 0.0*Efp[2,1] + 0.0*Efp[3,1]) + Efp[1,2]*(Efp[0,2] + Efp[1,2] + 0.0*Efp[2,2] + 0.0*Efp[3,2]))) + 0.0*(1000*(Efp[2,0]*(Efp[0,0] + Efp[1,0] + 0.0*Efp[2,0] + 0.0*Efp[3,0]) + Efp[2,1]*(Efp[0,1] + Efp[1,1] + 0.0*Efp[2,1] + 0.0*Efp[3,1]) + Efp[2,2]*(Efp[0,2] + Efp[1,2] + 0.0*Efp[2,2] + 0.0*Efp[3,2]))) + 0.0*(1000*(Efp[3,0]*(Efp[0,0] + Efp[1,0] + 0.0*Efp[2,0] + 0.0*Efp[3,0]) + Efp[3,1]*(Efp[0,1] + Efp[1,1] + 0.0*Efp[2,1] + 0.0*Efp[3,1]) + Efp[3,2]*(Efp[0,2] + Efp[1,2] + 0.0*Efp[2,2] + 0.0*Efp[3,2]))) - 1) :  +Inf :   True\n",
      "         14 :  -Inf :           f[5] - 1000*(1000*(Efp[0,0]*(Efp[0,0] + Efp[1,0] + 0.0*Efp[2,0] + 0.0*Efp[3,0]) + Efp[0,1]*(Efp[0,1] + Efp[1,1] + 0.0*Efp[2,1] + 0.0*Efp[3,1]) + Efp[0,2]*(Efp[0,2] + Efp[1,2] + 0.0*Efp[2,2] + 0.0*Efp[3,2])) + 0.0*(1000*(Efp[1,0]*(Efp[0,0] + Efp[1,0] + 0.0*Efp[2,0] + 0.0*Efp[3,0]) + Efp[1,1]*(Efp[0,1] + Efp[1,1] + 0.0*Efp[2,1] + 0.0*Efp[3,1]) + Efp[1,2]*(Efp[0,2] + Efp[1,2] + 0.0*Efp[2,2] + 0.0*Efp[3,2]))) + 0.0*(1000*(Efp[2,0]*(Efp[0,0] + Efp[1,0] + 0.0*Efp[2,0] + 0.0*Efp[3,0]) + Efp[2,1]*(Efp[0,1] + Efp[1,1] + 0.0*Efp[2,1] + 0.0*Efp[3,1]) + Efp[2,2]*(Efp[0,2] + Efp[1,2] + 0.0*Efp[2,2] + 0.0*Efp[3,2]))) + 0.0*(1000*(Efp[3,0]*(Efp[0,0] + Efp[1,0] + 0.0*Efp[2,0] + 0.0*Efp[3,0]) + Efp[3,1]*(Efp[0,1] + Efp[1,1] + 0.0*Efp[2,1] + 0.0*Efp[3,1]) + Efp[3,2]*(Efp[0,2] + Efp[1,2] + 0.0*Efp[2,2] + 0.0*Efp[3,2])))) :   0.0 :   True\n",
      "         15 :   0.0 : 1000*f[6] - (0.5*(1000*(Efp[0,0]*(Efp[0,0] + Efp[1,0] + 0.0*Efp[2,0] + 0.0*Efp[3,0]) + Efp[0,1]*(Efp[0,1] + Efp[1,1] + 0.0*Efp[2,1] + 0.0*Efp[3,1]) + Efp[0,2]*(Efp[0,2] + Efp[1,2] + 0.0*Efp[2,2] + 0.0*Efp[3,2]))) + 0.5*(1000*(Efp[1,0]*(Efp[0,0] + Efp[1,0] + 0.0*Efp[2,0] + 0.0*Efp[3,0]) + Efp[1,1]*(Efp[0,1] + Efp[1,1] + 0.0*Efp[2,1] + 0.0*Efp[3,1]) + Efp[1,2]*(Efp[0,2] + Efp[1,2] + 0.0*Efp[2,2] + 0.0*Efp[3,2]))) + 0.0*(1000*(Efp[2,0]*(Efp[0,0] + Efp[1,0] + 0.0*Efp[2,0] + 0.0*Efp[3,0]) + Efp[2,1]*(Efp[0,1] + Efp[1,1] + 0.0*Efp[2,1] + 0.0*Efp[3,1]) + Efp[2,2]*(Efp[0,2] + Efp[1,2] + 0.0*Efp[2,2] + 0.0*Efp[3,2]))) + 0.0*(1000*(Efp[3,0]*(Efp[0,0] + Efp[1,0] + 0.0*Efp[2,0] + 0.0*Efp[3,0]) + Efp[3,1]*(Efp[0,1] + Efp[1,1] + 0.0*Efp[2,1] + 0.0*Efp[3,1]) + Efp[3,2]*(Efp[0,2] + Efp[1,2] + 0.0*Efp[2,2] + 0.0*Efp[3,2]))) - 1) :  +Inf :   True\n",
      "         16 :  -Inf :     f[6] - 1000*(0.5*(1000*(Efp[0,0]*(Efp[0,0] + Efp[1,0] + 0.0*Efp[2,0] + 0.0*Efp[3,0]) + Efp[0,1]*(Efp[0,1] + Efp[1,1] + 0.0*Efp[2,1] + 0.0*Efp[3,1]) + Efp[0,2]*(Efp[0,2] + Efp[1,2] + 0.0*Efp[2,2] + 0.0*Efp[3,2]))) + 0.5*(1000*(Efp[1,0]*(Efp[0,0] + Efp[1,0] + 0.0*Efp[2,0] + 0.0*Efp[3,0]) + Efp[1,1]*(Efp[0,1] + Efp[1,1] + 0.0*Efp[2,1] + 0.0*Efp[3,1]) + Efp[1,2]*(Efp[0,2] + Efp[1,2] + 0.0*Efp[2,2] + 0.0*Efp[3,2]))) + 0.0*(1000*(Efp[2,0]*(Efp[0,0] + Efp[1,0] + 0.0*Efp[2,0] + 0.0*Efp[3,0]) + Efp[2,1]*(Efp[0,1] + Efp[1,1] + 0.0*Efp[2,1] + 0.0*Efp[3,1]) + Efp[2,2]*(Efp[0,2] + Efp[1,2] + 0.0*Efp[2,2] + 0.0*Efp[3,2]))) + 0.0*(1000*(Efp[3,0]*(Efp[0,0] + Efp[1,0] + 0.0*Efp[2,0] + 0.0*Efp[3,0]) + Efp[3,1]*(Efp[0,1] + Efp[1,1] + 0.0*Efp[2,1] + 0.0*Efp[3,1]) + Efp[3,2]*(Efp[0,2] + Efp[1,2] + 0.0*Efp[2,2] + 0.0*Efp[3,2])))) :   0.0 :   True\n",
      "         17 :   0.0 : 1000*f[7] - (0.0*(1000*(Efp[0,0]*(Efp[0,0] + Efp[1,0] + 0.0*Efp[2,0] + 0.0*Efp[3,0]) + Efp[0,1]*(Efp[0,1] + Efp[1,1] + 0.0*Efp[2,1] + 0.0*Efp[3,1]) + Efp[0,2]*(Efp[0,2] + Efp[1,2] + 0.0*Efp[2,2] + 0.0*Efp[3,2]))) + 0.5*(1000*(Efp[1,0]*(Efp[0,0] + Efp[1,0] + 0.0*Efp[2,0] + 0.0*Efp[3,0]) + Efp[1,1]*(Efp[0,1] + Efp[1,1] + 0.0*Efp[2,1] + 0.0*Efp[3,1]) + Efp[1,2]*(Efp[0,2] + Efp[1,2] + 0.0*Efp[2,2] + 0.0*Efp[3,2]))) + 0.5*(1000*(Efp[2,0]*(Efp[0,0] + Efp[1,0] + 0.0*Efp[2,0] + 0.0*Efp[3,0]) + Efp[2,1]*(Efp[0,1] + Efp[1,1] + 0.0*Efp[2,1] + 0.0*Efp[3,1]) + Efp[2,2]*(Efp[0,2] + Efp[1,2] + 0.0*Efp[2,2] + 0.0*Efp[3,2]))) + 0.0*(1000*(Efp[3,0]*(Efp[0,0] + Efp[1,0] + 0.0*Efp[2,0] + 0.0*Efp[3,0]) + Efp[3,1]*(Efp[0,1] + Efp[1,1] + 0.0*Efp[2,1] + 0.0*Efp[3,1]) + Efp[3,2]*(Efp[0,2] + Efp[1,2] + 0.0*Efp[2,2] + 0.0*Efp[3,2]))) - 1) :  +Inf :   True\n",
      "         18 :  -Inf :     f[7] - 1000*(0.0*(1000*(Efp[0,0]*(Efp[0,0] + Efp[1,0] + 0.0*Efp[2,0] + 0.0*Efp[3,0]) + Efp[0,1]*(Efp[0,1] + Efp[1,1] + 0.0*Efp[2,1] + 0.0*Efp[3,1]) + Efp[0,2]*(Efp[0,2] + Efp[1,2] + 0.0*Efp[2,2] + 0.0*Efp[3,2]))) + 0.5*(1000*(Efp[1,0]*(Efp[0,0] + Efp[1,0] + 0.0*Efp[2,0] + 0.0*Efp[3,0]) + Efp[1,1]*(Efp[0,1] + Efp[1,1] + 0.0*Efp[2,1] + 0.0*Efp[3,1]) + Efp[1,2]*(Efp[0,2] + Efp[1,2] + 0.0*Efp[2,2] + 0.0*Efp[3,2]))) + 0.5*(1000*(Efp[2,0]*(Efp[0,0] + Efp[1,0] + 0.0*Efp[2,0] + 0.0*Efp[3,0]) + Efp[2,1]*(Efp[0,1] + Efp[1,1] + 0.0*Efp[2,1] + 0.0*Efp[3,1]) + Efp[2,2]*(Efp[0,2] + Efp[1,2] + 0.0*Efp[2,2] + 0.0*Efp[3,2]))) + 0.0*(1000*(Efp[3,0]*(Efp[0,0] + Efp[1,0] + 0.0*Efp[2,0] + 0.0*Efp[3,0]) + Efp[3,1]*(Efp[0,1] + Efp[1,1] + 0.0*Efp[2,1] + 0.0*Efp[3,1]) + Efp[3,2]*(Efp[0,2] + Efp[1,2] + 0.0*Efp[2,2] + 0.0*Efp[3,2])))) :   0.0 :   True\n",
      "         19 :   0.0 : 1000*f[8] - (0.0*(1000*(Efp[0,0]*(Efp[0,0] + Efp[1,0] + 0.0*Efp[2,0] + 0.0*Efp[3,0]) + Efp[0,1]*(Efp[0,1] + Efp[1,1] + 0.0*Efp[2,1] + 0.0*Efp[3,1]) + Efp[0,2]*(Efp[0,2] + Efp[1,2] + 0.0*Efp[2,2] + 0.0*Efp[3,2]))) + 0.0*(1000*(Efp[1,0]*(Efp[0,0] + Efp[1,0] + 0.0*Efp[2,0] + 0.0*Efp[3,0]) + Efp[1,1]*(Efp[0,1] + Efp[1,1] + 0.0*Efp[2,1] + 0.0*Efp[3,1]) + Efp[1,2]*(Efp[0,2] + Efp[1,2] + 0.0*Efp[2,2] + 0.0*Efp[3,2]))) + 0.5*(1000*(Efp[2,0]*(Efp[0,0] + Efp[1,0] + 0.0*Efp[2,0] + 0.0*Efp[3,0]) + Efp[2,1]*(Efp[0,1] + Efp[1,1] + 0.0*Efp[2,1] + 0.0*Efp[3,1]) + Efp[2,2]*(Efp[0,2] + Efp[1,2] + 0.0*Efp[2,2] + 0.0*Efp[3,2]))) + 0.5*(1000*(Efp[3,0]*(Efp[0,0] + Efp[1,0] + 0.0*Efp[2,0] + 0.0*Efp[3,0]) + Efp[3,1]*(Efp[0,1] + Efp[1,1] + 0.0*Efp[2,1] + 0.0*Efp[3,1]) + Efp[3,2]*(Efp[0,2] + Efp[1,2] + 0.0*Efp[2,2] + 0.0*Efp[3,2]))) - 1) :  +Inf :   True\n",
      "         20 :  -Inf :     f[8] - 1000*(0.0*(1000*(Efp[0,0]*(Efp[0,0] + Efp[1,0] + 0.0*Efp[2,0] + 0.0*Efp[3,0]) + Efp[0,1]*(Efp[0,1] + Efp[1,1] + 0.0*Efp[2,1] + 0.0*Efp[3,1]) + Efp[0,2]*(Efp[0,2] + Efp[1,2] + 0.0*Efp[2,2] + 0.0*Efp[3,2]))) + 0.0*(1000*(Efp[1,0]*(Efp[0,0] + Efp[1,0] + 0.0*Efp[2,0] + 0.0*Efp[3,0]) + Efp[1,1]*(Efp[0,1] + Efp[1,1] + 0.0*Efp[2,1] + 0.0*Efp[3,1]) + Efp[1,2]*(Efp[0,2] + Efp[1,2] + 0.0*Efp[2,2] + 0.0*Efp[3,2]))) + 0.5*(1000*(Efp[2,0]*(Efp[0,0] + Efp[1,0] + 0.0*Efp[2,0] + 0.0*Efp[3,0]) + Efp[2,1]*(Efp[0,1] + Efp[1,1] + 0.0*Efp[2,1] + 0.0*Efp[3,1]) + Efp[2,2]*(Efp[0,2] + Efp[1,2] + 0.0*Efp[2,2] + 0.0*Efp[3,2]))) + 0.5*(1000*(Efp[3,0]*(Efp[0,0] + Efp[1,0] + 0.0*Efp[2,0] + 0.0*Efp[3,0]) + Efp[3,1]*(Efp[0,1] + Efp[1,1] + 0.0*Efp[2,1] + 0.0*Efp[3,1]) + Efp[3,2]*(Efp[0,2] + Efp[1,2] + 0.0*Efp[2,2] + 0.0*Efp[3,2])))) :   0.0 :   True\n",
      "         21 :   0.0 :       1000*f[9] - (0.0*(1000*(Efp[0,0]*(Efp[0,0] + Efp[1,0] + 0.0*Efp[2,0] + 0.0*Efp[3,0]) + Efp[0,1]*(Efp[0,1] + Efp[1,1] + 0.0*Efp[2,1] + 0.0*Efp[3,1]) + Efp[0,2]*(Efp[0,2] + Efp[1,2] + 0.0*Efp[2,2] + 0.0*Efp[3,2]))) + 0.0*(1000*(Efp[1,0]*(Efp[0,0] + Efp[1,0] + 0.0*Efp[2,0] + 0.0*Efp[3,0]) + Efp[1,1]*(Efp[0,1] + Efp[1,1] + 0.0*Efp[2,1] + 0.0*Efp[3,1]) + Efp[1,2]*(Efp[0,2] + Efp[1,2] + 0.0*Efp[2,2] + 0.0*Efp[3,2]))) + 0.0*(1000*(Efp[2,0]*(Efp[0,0] + Efp[1,0] + 0.0*Efp[2,0] + 0.0*Efp[3,0]) + Efp[2,1]*(Efp[0,1] + Efp[1,1] + 0.0*Efp[2,1] + 0.0*Efp[3,1]) + Efp[2,2]*(Efp[0,2] + Efp[1,2] + 0.0*Efp[2,2] + 0.0*Efp[3,2]))) + 1000*(Efp[3,0]*(Efp[0,0] + Efp[1,0] + 0.0*Efp[2,0] + 0.0*Efp[3,0]) + Efp[3,1]*(Efp[0,1] + Efp[1,1] + 0.0*Efp[2,1] + 0.0*Efp[3,1]) + Efp[3,2]*(Efp[0,2] + Efp[1,2] + 0.0*Efp[2,2] + 0.0*Efp[3,2])) - 1) :  +Inf :   True\n",
      "         22 :  -Inf :           f[9] - 1000*(0.0*(1000*(Efp[0,0]*(Efp[0,0] + Efp[1,0] + 0.0*Efp[2,0] + 0.0*Efp[3,0]) + Efp[0,1]*(Efp[0,1] + Efp[1,1] + 0.0*Efp[2,1] + 0.0*Efp[3,1]) + Efp[0,2]*(Efp[0,2] + Efp[1,2] + 0.0*Efp[2,2] + 0.0*Efp[3,2]))) + 0.0*(1000*(Efp[1,0]*(Efp[0,0] + Efp[1,0] + 0.0*Efp[2,0] + 0.0*Efp[3,0]) + Efp[1,1]*(Efp[0,1] + Efp[1,1] + 0.0*Efp[2,1] + 0.0*Efp[3,1]) + Efp[1,2]*(Efp[0,2] + Efp[1,2] + 0.0*Efp[2,2] + 0.0*Efp[3,2]))) + 0.0*(1000*(Efp[2,0]*(Efp[0,0] + Efp[1,0] + 0.0*Efp[2,0] + 0.0*Efp[3,0]) + Efp[2,1]*(Efp[0,1] + Efp[1,1] + 0.0*Efp[2,1] + 0.0*Efp[3,1]) + Efp[2,2]*(Efp[0,2] + Efp[1,2] + 0.0*Efp[2,2] + 0.0*Efp[3,2]))) + 1000*(Efp[3,0]*(Efp[0,0] + Efp[1,0] + 0.0*Efp[2,0] + 0.0*Efp[3,0]) + Efp[3,1]*(Efp[0,1] + Efp[1,1] + 0.0*Efp[2,1] + 0.0*Efp[3,1]) + Efp[3,2]*(Efp[0,2] + Efp[1,2] + 0.0*Efp[2,2] + 0.0*Efp[3,2]))) :   0.0 :   True\n",
      "\n",
      "4 Declarations: constraints f Efp OBJ\n"
     ]
    }
   ],
   "source": [
    "model.pprint()"
   ]
  },
  {
   "cell_type": "code",
   "execution_count": 29,
   "id": "18779bf7-fa28-4073-ba30-8f880a7e1532",
   "metadata": {},
   "outputs": [],
   "source": [
    "def solve(solver_name):\n",
    "    solver = pyo.SolverFactory(solver_name)\n",
    "    instance = model.create_instance()\n",
    "    result = solver.solve(instance)\n",
    "    instance.Efp.display()"
   ]
  },
  {
   "cell_type": "code",
   "execution_count": 30,
   "id": "e66cac53-b9a3-42a8-bdc3-1dae9ebff4a3",
   "metadata": {},
   "outputs": [
    {
     "name": "stdout",
     "output_type": "stream",
     "text": [
      "WARNING: Loading a SolverResults object with a warning status into\n",
      "model.name=\"Optimal decomposition\";\n",
      "    - termination condition: intermediateNonInteger\n",
      "    - message from solver: Solver quit with a problem (see LST file)\n",
      "Efp : Size=12, Index={0, 1, 2, 3}*{0, 1, 2}\n",
      "    Key    : Lower : Value             : Upper : Fixed : Stale : Domain\n",
      "    (0, 0) :     0 : 0.916239570809765 :     1 : False : False : Binary\n",
      "    (0, 1) :     0 : 0.083760429190235 :     1 : False : False : Binary\n",
      "    (0, 2) :     0 :               0.0 :     1 : False : False : Binary\n",
      "    (1, 0) :     0 : 0.000924289718854 :     1 : False : False : Binary\n",
      "    (1, 1) :     0 :               0.0 :     1 : False : False : Binary\n",
      "    (1, 2) :     0 : 0.999075710281146 :     1 : False : False : Binary\n",
      "    (2, 0) :     0 :               0.0 :     1 : False : False : Binary\n",
      "    (2, 1) :     0 :               1.0 :     1 : False : False : Binary\n",
      "    (2, 2) :     0 :               0.0 :     1 : False : False : Binary\n",
      "    (3, 0) :     0 :               0.0 :     1 : False : False : Binary\n",
      "    (3, 1) :     0 :               1.0 :     1 : False : False : Binary\n",
      "    (3, 2) :     0 :               0.0 :     1 : False : False : Binary\n"
     ]
    }
   ],
   "source": [
    "solve('gams')"
   ]
  },
  {
   "cell_type": "code",
   "execution_count": 31,
   "id": "0ff18ba1-22f0-4a35-b926-38f3c87817fd",
   "metadata": {},
   "outputs": [
    {
     "name": "stdout",
     "output_type": "stream",
     "text": [
      "Efp : Size=12, Index={0, 1, 2, 3}*{0, 1, 2}\n",
      "    Key    : Lower : Value                  : Upper : Fixed : Stale : Domain\n",
      "    (0, 0) :     0 :    0.08376043430166805 :     1 : False : False : Binary\n",
      "    (0, 1) :     0 : -9.865538164155106e-09 :     1 : False : False : Binary\n",
      "    (0, 2) :     0 :       0.91623957556387 :     1 : False : False : Binary\n",
      "    (1, 0) :     0 : -9.986784294717397e-09 :     1 : False : False : Binary\n",
      "    (1, 1) :     0 :     0.9990757209386824 :     1 : False : False : Binary\n",
      "    (1, 2) :     0 :  0.0009242890481019187 :     1 : False : False : Binary\n",
      "    (2, 0) :     0 :      1.000000009998811 :     1 : False : False : Binary\n",
      "    (2, 1) :     0 :  -9.97687717628468e-09 :     1 : False : False : Binary\n",
      "    (2, 2) :     0 :  -2.19336921914697e-11 :     1 : False : False : Binary\n",
      "    (3, 0) :     0 :     1.0000000099998136 :     1 : False : False : Binary\n",
      "    (3, 1) :     0 :  -9.96329987450023e-09 :     1 : False : False : Binary\n",
      "    (3, 2) :     0 : -3.651372393950075e-11 :     1 : False : False : Binary\n"
     ]
    }
   ],
   "source": [
    "solve('ipopt')"
   ]
  },
  {
   "cell_type": "code",
   "execution_count": 32,
   "id": "3ca38050-27a1-4766-81c0-84cd60ea0507",
   "metadata": {},
   "outputs": [
    {
     "name": "stdout",
     "output_type": "stream",
     "text": [
      "Efp : Size=12, Index={0, 1, 2, 3}*{0, 1, 2}\n",
      "    Key    : Lower : Value                  : Upper : Fixed : Stale : Domain\n",
      "    (0, 0) :     0 :    0.08376043430166805 :     1 : False : False : Binary\n",
      "    (0, 1) :     0 : -9.865538164155106e-09 :     1 : False : False : Binary\n",
      "    (0, 2) :     0 :       0.91623957556387 :     1 : False : False : Binary\n",
      "    (1, 0) :     0 : -9.986784294717397e-09 :     1 : False : False : Binary\n",
      "    (1, 1) :     0 :     0.9990757209386824 :     1 : False : False : Binary\n",
      "    (1, 2) :     0 :  0.0009242890481019187 :     1 : False : False : Binary\n",
      "    (2, 0) :     0 :      1.000000009998811 :     1 : False : False : Binary\n",
      "    (2, 1) :     0 :  -9.97687717628468e-09 :     1 : False : False : Binary\n",
      "    (2, 2) :     0 :  -2.19336921914697e-11 :     1 : False : False : Binary\n",
      "    (3, 0) :     0 :     1.0000000099998136 :     1 : False : False : Binary\n",
      "    (3, 1) :     0 :  -9.96329987450023e-09 :     1 : False : False : Binary\n",
      "    (3, 2) :     0 : -3.651372393950075e-11 :     1 : False : False : Binary\n"
     ]
    }
   ],
   "source": [
    "solve('mpec_nlp')"
   ]
  },
  {
   "cell_type": "code",
   "execution_count": 33,
   "id": "f7d00d52-27cd-4d0c-bf1f-d0062721f7a1",
   "metadata": {},
   "outputs": [
    {
     "name": "stdout",
     "output_type": "stream",
     "text": [
      "Efp : Size=12, Index={0, 1, 2, 3}*{0, 1, 2}\n",
      "    Key    : Lower : Value                   : Upper : Fixed : Stale : Domain\n",
      "    (0, 0) :     0 :      0.0837604349915605 :     1 : False :  True : Binary\n",
      "    (0, 1) :     0 :  -6.300550406876709e-09 :     1 : False :  True : Binary\n",
      "    (0, 2) :     0 :        0.91623957130899 :     1 : False :  True : Binary\n",
      "    (1, 0) :     0 :  -9.636399153599606e-09 :     1 : False :  True : Binary\n",
      "    (1, 1) :     0 :      0.9990757174638105 :     1 : False :  True : Binary\n",
      "    (1, 2) :     0 :   0.0009242921725886432 :     1 : False :  True : Binary\n",
      "    (2, 0) :     0 :      1.0000000099175441 :     1 : False :  True : Binary\n",
      "    (2, 1) :     0 :  -9.669165058764046e-09 :     1 : False :  True : Binary\n",
      "    (2, 2) :     0 : -2.4837908265521705e-10 :     1 : False :  True : Binary\n",
      "    (3, 0) :     0 :      1.0000000099445228 :     1 : False :  True : Binary\n",
      "    (3, 1) :     0 :  -9.481950253937542e-09 :     1 : False :  True : Binary\n",
      "    (3, 2) :     0 :  -4.625724412845843e-10 :     1 : False :  True : Binary\n"
     ]
    }
   ],
   "source": [
    "solve('multistart')"
   ]
  },
  {
   "cell_type": "code",
   "execution_count": 34,
   "id": "8a391da4-84fb-4da8-af49-e2494ec0d2f5",
   "metadata": {},
   "outputs": [
    {
     "name": "stdout",
     "output_type": "stream",
     "text": [
      "Efp : Size=12, Index={0, 1, 2, 3}*{0, 1, 2}\n",
      "    Key    : Lower : Value                  : Upper : Fixed : Stale : Domain\n",
      "    (0, 0) :     0 :    0.08376043430166805 :     1 : False : False : Binary\n",
      "    (0, 1) :     0 : -9.865538164155106e-09 :     1 : False : False : Binary\n",
      "    (0, 2) :     0 :       0.91623957556387 :     1 : False : False : Binary\n",
      "    (1, 0) :     0 : -9.986784294717397e-09 :     1 : False : False : Binary\n",
      "    (1, 1) :     0 :     0.9990757209386824 :     1 : False : False : Binary\n",
      "    (1, 2) :     0 :  0.0009242890481019187 :     1 : False : False : Binary\n",
      "    (2, 0) :     0 :      1.000000009998811 :     1 : False : False : Binary\n",
      "    (2, 1) :     0 :  -9.97687717628468e-09 :     1 : False : False : Binary\n",
      "    (2, 2) :     0 :  -2.19336921914697e-11 :     1 : False : False : Binary\n",
      "    (3, 0) :     0 :     1.0000000099998136 :     1 : False : False : Binary\n",
      "    (3, 1) :     0 :  -9.96329987450023e-09 :     1 : False : False : Binary\n",
      "    (3, 2) :     0 : -3.651372393950075e-11 :     1 : False : False : Binary\n"
     ]
    }
   ],
   "source": [
    "solve('ipopt_v2')"
   ]
  },
  {
   "cell_type": "code",
   "execution_count": 35,
   "id": "12b3e9fc-6bcc-4d9f-9eb8-07fd06d4fcd7",
   "metadata": {},
   "outputs": [],
   "source": [
    "from pyomo.contrib.latex_printer import latex_printer\n",
    "pstr = latex_printer(model)"
   ]
  },
  {
   "cell_type": "code",
   "execution_count": null,
   "id": "05ca2a0e-a0c0-4bd8-8097-3c6581dfd9fe",
   "metadata": {},
   "outputs": [],
   "source": []
  }
 ],
 "metadata": {
  "kernelspec": {
   "display_name": "Python 3 (ipykernel)",
   "language": "python",
   "name": "python3"
  },
  "language_info": {
   "codemirror_mode": {
    "name": "ipython",
    "version": 3
   },
   "file_extension": ".py",
   "mimetype": "text/x-python",
   "name": "python",
   "nbconvert_exporter": "python",
   "pygments_lexer": "ipython3",
   "version": "3.12.1"
  }
 },
 "nbformat": 4,
 "nbformat_minor": 5
}
