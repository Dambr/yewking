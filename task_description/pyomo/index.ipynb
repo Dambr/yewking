{
 "cells": [
  {
   "cell_type": "code",
   "execution_count": 1,
   "id": "09622561-aa17-487a-b1f0-ec7ac4ace04d",
   "metadata": {},
   "outputs": [],
   "source": [
    "# Перечень команд, которые необходимо выполнить перед запуском jupyter notebook для включения решателей:\n",
    "# export PATH=$PATH:/Library/Frameworks/GAMS.framework/Versions/47/Resources/\n",
    "# export PATH=$PATH:/Library/Frameworks/ampl_macos64/\n",
    "\n",
    "# Доступные решатели:\n",
    "# _neos              [-] внутренняя ошибка связанная с работой со строками\n",
    "# _mock_cbc          [-] попытка доступа к несуществующему полю _problem_files у ConcreteModel\n",
    "# glpk               [-] не работает с нелинейными выражениями в целевой функции\n",
    "# _glpk_shell        [-] не работает с нелинейными выражениями в целевой функции\n",
    "# _mock_glpk         [-] попытка доступа к несуществующему полю _problem_files у ConcreteModel\n",
    "# _mock_cplex        [-] не работает с нелинейными выражениями в целевой функции\n",
    "# gurobi_direct      [-] не работает с нелинейными выражениями в целевой функции\n",
    "# gurobi             [-] не работает с нелинейными выражениями в целевой функции\n",
    "# _gurobi_shell      [-] не работает с нелинейными выражениями в целевой функции\n",
    "# baron              [-] внутренняя ошибка при работе с сложными выражениями в целевой функции\n",
    "# xpress             [-] не работает с нелинейными выражениями в целевой функции\n",
    "# ipopt              [+] не работает с целыми значениями\n",
    "# gurobi_persistent  [-] внутренняя ошибка при работе с сложными выражениями в целевой функции\n",
    "# gams               [+]\n",
    "# _gams_shell        [+]\n",
    "# xpress_direct      [-] не работает с нелинейными выражениями в целевой функции\n",
    "# xpress_persistent  [-] внутренняя ошибка при работе с сложными выражениями в целевой функции\n",
    "# mpec_nlp           [+] не работает с целыми значениями\n",
    "# mpec_minlp         [-] не работает с нелинейными выражениями в целевой функции\n",
    "# appsi_gurobi       [-] не работает с нелинейными выражениями в целевой функции\n",
    "# gdpopt             [-] требуется дополнительное указание алгоритма через аргумент метода solve         \n",
    "# gdpopt.gloa        [-] ошибка инициализации решателя\n",
    "# gdpopt.lbb         [-] внутренняя ошибка при работе с сложными выражениями в целевой функции\n",
    "# gdpopt.loa         [-] внутренняя ошибка при работе с сложными выражениями в целевой функции\n",
    "# gdpopt.ric         [-] внутренняя ошибка при работе с сложными выражениями в целевой функции\n",
    "# gdpopt.enumerate   [-] не работает с нелинейными выражениями в целевой функции\n",
    "# mindtpy            [-] внутренняя ошибка при работе с сложными выражениями в целевой функции\n",
    "# mindtpy.oa         [-] внутренняя ошибка при работе с сложными выражениями в целевой функции\n",
    "# mindtpy.ecp        [-] внутренняя ошибка при работе с сложными выражениями в целевой функции\n",
    "# mindtpy.goa        [-] внутренняя ошибка работы решателя\n",
    "# mindtpy.fp         [-] внутренняя ошибка при работе с сложными выражениями в целевой функции\n",
    "# multistart         [+] не работает с целыми значениями\n",
    "# ipopt_v2           [+] не работает с целыми значениями\n",
    "# gurobi_v2          [-] не работает с нелинейными выражениями в целевой функции\n",
    "# gurobi_direct_v2   [-] не работает с нелинейными выражениями в целевой функции\n",
    "# trustregion        [-] для инициализации требуется дополнительный аргумент degrees_of_freedom_variables\n",
    "# ampl               [-] внутренняя ошибка работы решателя"
   ]
  },
  {
   "cell_type": "code",
   "execution_count": 2,
   "id": "5663bb92-eeb3-40ff-87cd-76f46744566a",
   "metadata": {},
   "outputs": [],
   "source": [
    "# Условные обозначения:\n",
    "# Параметр              Размерность   Примечание\n",
    "# n                                   - число требований\n",
    "# m                                   - число файлов исходного кода\n",
    "# k                                   - число плагинов\n",
    "# М                                   - условно большое число\n",
    "# T (traceability)        (n x m)     - матрица трассируемости требований к ПО на файлы исходного кода\n",
    "# D (dependency)          (m x m)     - матрица зависимостей между файлами исходного кода\n",
    "# P (price)               (n x n)     - матрица расчета стоимости сопровождения требований в поставке\n",
    "# A (allocation)          (m x k)     - матрица распределения файлов исходного кода по плагинам\n",
    "# useful_requirements     (1 х n)     - вектор полезных требованиях\n",
    "# useful_files            (1 x m)     - вектор полезных файлов исходного кода \n",
    "#                                       файл называется полезным, если он реализует полезное требование \n",
    "#                                       или разрешает зависимость\n",
    "# plugins                 (1 x k)     - вектор поставляемых плагинов\n",
    "# delivery_files          (1 x m)     - вектор с данными о поставляемых файлах исходного кода\n",
    "# delivery_requirements   (1 x n)     - вектор с данными о поставляемых требованиях\n",
    "# costs                   (1 x n)     - вектор с стоимостями сопровождения каждого из требований в рамках поставки"
   ]
  },
  {
   "cell_type": "code",
   "execution_count": 3,
   "id": "f89ee8fb-6a51-4ba2-9f83-807b7b3a1eed",
   "metadata": {},
   "outputs": [],
   "source": [
    "import pyomo.environ as pyo\n",
    "import numpy as np\n",
    "import pandas as pd"
   ]
  },
  {
   "cell_type": "code",
   "execution_count": 4,
   "id": "0f826095-b085-4d45-b3bc-f95f9c9bf8e4",
   "metadata": {},
   "outputs": [],
   "source": [
    "M = 10 ** 6"
   ]
  },
  {
   "cell_type": "code",
   "execution_count": 5,
   "id": "a6a43169-678e-4866-879f-678972d6996f",
   "metadata": {},
   "outputs": [],
   "source": [
    "# Инициализация модели\n",
    "\n",
    "model = pyo.ConcreteModel(name = 'Optimal decomposition')"
   ]
  },
  {
   "cell_type": "code",
   "execution_count": 6,
   "id": "069fd33c-5a1b-4416-b923-b6b997817ce1",
   "metadata": {},
   "outputs": [],
   "source": [
    "# Ограничения модели\n",
    "\n",
    "model.constraints = pyo.ConstraintList()"
   ]
  },
  {
   "cell_type": "code",
   "execution_count": 7,
   "id": "abc31959-d5c0-428c-86ad-6baefbbcc3e8",
   "metadata": {},
   "outputs": [],
   "source": [
    "# Дополнительные бинарные переменные\n",
    "\n",
    "model.f = pyo.VarList(domain=pyo.Binary)"
   ]
  },
  {
   "cell_type": "code",
   "execution_count": 8,
   "id": "97a61706-d2c0-4854-9037-2c1f4c920b00",
   "metadata": {},
   "outputs": [],
   "source": [
    "check_include_1 = lambda x, f: (f + 1 / M <= x + 1)"
   ]
  },
  {
   "cell_type": "code",
   "execution_count": 9,
   "id": "ffebe627-00ef-4ddf-b784-248c8a5887a2",
   "metadata": {},
   "outputs": [],
   "source": [
    "check_include_2 = lambda x, f: (x <= M * f)"
   ]
  },
  {
   "cell_type": "code",
   "execution_count": 10,
   "id": "083f7b77-89e3-46bb-bb8d-3a01c4fae2e0",
   "metadata": {},
   "outputs": [],
   "source": [
    "check_implemented_1 = lambda x, f: (x >= f)"
   ]
  },
  {
   "cell_type": "code",
   "execution_count": 11,
   "id": "5eda04da-901e-4099-92a0-9c841c48e53b",
   "metadata": {},
   "outputs": [],
   "source": [
    "check_implemented_2 = lambda x, f: (x + 1 / M <= 1 + M * f)"
   ]
  },
  {
   "cell_type": "code",
   "execution_count": 12,
   "id": "edb92e36-7729-4755-92c0-a9b0f1d0468e",
   "metadata": {},
   "outputs": [],
   "source": [
    "def check(vector, check_function_1, check_function_2):\n",
    "    result = []\n",
    "    for x in vector:\n",
    "        f = model.f.add()\n",
    "        result.append(f)\n",
    "        constraint_1 = check_function_1(x, f)\n",
    "        constraint_2 = check_function_2(x, f)\n",
    "        model.constraints.add(constraint_1)\n",
    "        model.constraints.add(constraint_2)\n",
    "    return np.array(result)"
   ]
  },
  {
   "cell_type": "code",
   "execution_count": 13,
   "id": "71f7e0b4-732d-4564-b8d5-ba562ac52bec",
   "metadata": {},
   "outputs": [],
   "source": [
    "# Функция проверки включения\n",
    "# Пример использования и интерпретация: файл необходимо включить в поставку \n",
    "# если на него существует по меньшей мере одна зависимость\n",
    "\n",
    "check_include = lambda vector: check(vector, check_include_1, check_include_2)"
   ]
  },
  {
   "cell_type": "code",
   "execution_count": 14,
   "id": "aa8b0d2c-d819-4f04-b1ae-2ca8ff1271d1",
   "metadata": {},
   "outputs": [],
   "source": [
    "# Функция проверки реализации\n",
    "# Пример использования и интерпретация: требование считается реализованным в рамках поставки \n",
    "# если в эту поставку включены все файлы исходного кода которые его реализуют\n",
    "\n",
    "check_implemented = lambda vector: check(vector, check_implemented_1, check_implemented_2)"
   ]
  },
  {
   "cell_type": "code",
   "execution_count": 15,
   "id": "94088d61-a5a6-44fb-b9a4-3ddf79074ccb",
   "metadata": {},
   "outputs": [],
   "source": [
    "# Функция не принимает участие непосредственно в математической моделе.\n",
    "# Она необходима для демонстрации работы функций проверок включения и реализации.\n",
    "# Создает таблицу с информацией о принимаемых значениях новосоздаваемой бинарной переменной \n",
    "# в зависимости от значения текущего элемента вектора\n",
    "\n",
    "def demonstrate_check_functions(check_function_1, check_function_2):\n",
    "    x_values_list = []\n",
    "    f_values_list = []\n",
    "    check1_and_check2_list = []\n",
    "    for x in [0, 0.5, 1, 1.5]:   # Значения, которые может принимать вектор\n",
    "        for f in [0, 1]:         # Значения создаваемой бинарной переменной\n",
    "            check1_result = check_function_1(x, f)\n",
    "            check2_result = check_function_2(x, f)\n",
    "            check1_and_check2_result = check1_result and check2_result\n",
    "            appended_x_value = x\n",
    "            if x == 0.5:\n",
    "                appended_x_value = '(0; 1)'\n",
    "            if x == 1.5:\n",
    "                appended_x_value = '(1; ∞)'\n",
    "            x_values_list.append(appended_x_value)\n",
    "            f_values_list.append(f)\n",
    "            check1_and_check2_list.append(check1_and_check2_result)\n",
    "            \n",
    "    data = {\n",
    "        \"x\": x_values_list,\n",
    "        \"f\": f_values_list,\n",
    "        \"valid\": check1_and_check2_list\n",
    "    }\n",
    "    df = pd.DataFrame(data)\n",
    "    return df"
   ]
  },
  {
   "cell_type": "code",
   "execution_count": 16,
   "id": "496b3a51-61f6-4b44-b3e3-31ce49e4426a",
   "metadata": {},
   "outputs": [
    {
     "data": {
      "text/html": [
       "<div>\n",
       "<style scoped>\n",
       "    .dataframe tbody tr th:only-of-type {\n",
       "        vertical-align: middle;\n",
       "    }\n",
       "\n",
       "    .dataframe tbody tr th {\n",
       "        vertical-align: top;\n",
       "    }\n",
       "\n",
       "    .dataframe thead th {\n",
       "        text-align: right;\n",
       "    }\n",
       "</style>\n",
       "<table border=\"1\" class=\"dataframe\">\n",
       "  <thead>\n",
       "    <tr style=\"text-align: right;\">\n",
       "      <th></th>\n",
       "      <th>x</th>\n",
       "      <th>f</th>\n",
       "      <th>valid</th>\n",
       "    </tr>\n",
       "  </thead>\n",
       "  <tbody>\n",
       "    <tr>\n",
       "      <th>0</th>\n",
       "      <td>0</td>\n",
       "      <td>0</td>\n",
       "      <td>True</td>\n",
       "    </tr>\n",
       "    <tr>\n",
       "      <th>1</th>\n",
       "      <td>0</td>\n",
       "      <td>1</td>\n",
       "      <td>False</td>\n",
       "    </tr>\n",
       "    <tr>\n",
       "      <th>2</th>\n",
       "      <td>(0; 1)</td>\n",
       "      <td>0</td>\n",
       "      <td>False</td>\n",
       "    </tr>\n",
       "    <tr>\n",
       "      <th>3</th>\n",
       "      <td>(0; 1)</td>\n",
       "      <td>1</td>\n",
       "      <td>True</td>\n",
       "    </tr>\n",
       "    <tr>\n",
       "      <th>4</th>\n",
       "      <td>1</td>\n",
       "      <td>0</td>\n",
       "      <td>False</td>\n",
       "    </tr>\n",
       "    <tr>\n",
       "      <th>5</th>\n",
       "      <td>1</td>\n",
       "      <td>1</td>\n",
       "      <td>True</td>\n",
       "    </tr>\n",
       "    <tr>\n",
       "      <th>6</th>\n",
       "      <td>(1; ∞)</td>\n",
       "      <td>0</td>\n",
       "      <td>False</td>\n",
       "    </tr>\n",
       "    <tr>\n",
       "      <th>7</th>\n",
       "      <td>(1; ∞)</td>\n",
       "      <td>1</td>\n",
       "      <td>True</td>\n",
       "    </tr>\n",
       "  </tbody>\n",
       "</table>\n",
       "</div>"
      ],
      "text/plain": [
       "        x  f  valid\n",
       "0       0  0   True\n",
       "1       0  1  False\n",
       "2  (0; 1)  0  False\n",
       "3  (0; 1)  1   True\n",
       "4       1  0  False\n",
       "5       1  1   True\n",
       "6  (1; ∞)  0  False\n",
       "7  (1; ∞)  1   True"
      ]
     },
     "execution_count": 16,
     "metadata": {},
     "output_type": "execute_result"
    }
   ],
   "source": [
    "# Демонстрация работы функций include\n",
    "# return 0 if x == 0 else 1\n",
    "\n",
    "# Значение f соответствует величине x когда соответствующий элемент столбца valid равен True\n",
    "\n",
    "demonstrate_check_functions(check_include_1, check_include_2)"
   ]
  },
  {
   "cell_type": "code",
   "execution_count": 17,
   "id": "62928d96-91fd-4c1b-920c-0e673d425a70",
   "metadata": {},
   "outputs": [
    {
     "data": {
      "text/html": [
       "<div>\n",
       "<style scoped>\n",
       "    .dataframe tbody tr th:only-of-type {\n",
       "        vertical-align: middle;\n",
       "    }\n",
       "\n",
       "    .dataframe tbody tr th {\n",
       "        vertical-align: top;\n",
       "    }\n",
       "\n",
       "    .dataframe thead th {\n",
       "        text-align: right;\n",
       "    }\n",
       "</style>\n",
       "<table border=\"1\" class=\"dataframe\">\n",
       "  <thead>\n",
       "    <tr style=\"text-align: right;\">\n",
       "      <th></th>\n",
       "      <th>x</th>\n",
       "      <th>f</th>\n",
       "      <th>valid</th>\n",
       "    </tr>\n",
       "  </thead>\n",
       "  <tbody>\n",
       "    <tr>\n",
       "      <th>0</th>\n",
       "      <td>0</td>\n",
       "      <td>0</td>\n",
       "      <td>True</td>\n",
       "    </tr>\n",
       "    <tr>\n",
       "      <th>1</th>\n",
       "      <td>0</td>\n",
       "      <td>1</td>\n",
       "      <td>False</td>\n",
       "    </tr>\n",
       "    <tr>\n",
       "      <th>2</th>\n",
       "      <td>(0; 1)</td>\n",
       "      <td>0</td>\n",
       "      <td>True</td>\n",
       "    </tr>\n",
       "    <tr>\n",
       "      <th>3</th>\n",
       "      <td>(0; 1)</td>\n",
       "      <td>1</td>\n",
       "      <td>False</td>\n",
       "    </tr>\n",
       "    <tr>\n",
       "      <th>4</th>\n",
       "      <td>1</td>\n",
       "      <td>0</td>\n",
       "      <td>False</td>\n",
       "    </tr>\n",
       "    <tr>\n",
       "      <th>5</th>\n",
       "      <td>1</td>\n",
       "      <td>1</td>\n",
       "      <td>True</td>\n",
       "    </tr>\n",
       "    <tr>\n",
       "      <th>6</th>\n",
       "      <td>(1; ∞)</td>\n",
       "      <td>0</td>\n",
       "      <td>False</td>\n",
       "    </tr>\n",
       "    <tr>\n",
       "      <th>7</th>\n",
       "      <td>(1; ∞)</td>\n",
       "      <td>1</td>\n",
       "      <td>True</td>\n",
       "    </tr>\n",
       "  </tbody>\n",
       "</table>\n",
       "</div>"
      ],
      "text/plain": [
       "        x  f  valid\n",
       "0       0  0   True\n",
       "1       0  1  False\n",
       "2  (0; 1)  0   True\n",
       "3  (0; 1)  1  False\n",
       "4       1  0  False\n",
       "5       1  1   True\n",
       "6  (1; ∞)  0  False\n",
       "7  (1; ∞)  1   True"
      ]
     },
     "execution_count": 17,
     "metadata": {},
     "output_type": "execute_result"
    }
   ],
   "source": [
    "# Демонстрация работы функций implemented\n",
    "# return 1 if x >= 1 else 0\n",
    "\n",
    "demonstrate_check_functions(check_implemented_1, check_implemented_2)"
   ]
  },
  {
   "cell_type": "code",
   "execution_count": 18,
   "id": "0e2188bf-6cad-4261-bdfc-630aa598f776",
   "metadata": {},
   "outputs": [],
   "source": [
    "def add_multiply_constraints(x, y):\n",
    "    f = model.f.add()\n",
    "    model.constraints.add((x + y <= f + 1))\n",
    "    model.constraints.add((f <= x))\n",
    "    model.constraints.add((f <= y))\n",
    "    model.constraints.add((f >= 0))\n",
    "    return f"
   ]
  },
  {
   "cell_type": "code",
   "execution_count": 19,
   "id": "7daf77e9-88de-45bd-8c8a-114079f5d0d8",
   "metadata": {},
   "outputs": [],
   "source": [
    "def bin_multiply(matrix, vector):\n",
    "    (rows_count, cols_count) = np.shape(matrix)\n",
    "    result = []\n",
    "    for row_number in range(rows_count):\n",
    "        matrix_row = matrix[row_number]\n",
    "        terms = []\n",
    "        for col_number in range(cols_count):\n",
    "            vector_element = vector[col_number]\n",
    "            matrix_element = matrix_row[col_number]\n",
    "            term = add_multiply_constraints(vector_element, matrix_element)\n",
    "            terms.append(term)\n",
    "        result.append(sum(terms))\n",
    "    return np.array(result)"
   ]
  },
  {
   "cell_type": "code",
   "execution_count": 20,
   "id": "bc0d4494-3201-4e47-957f-c40f442e33fa",
   "metadata": {},
   "outputs": [],
   "source": [
    "def solve(solver_name):\n",
    "    solver = pyo.SolverFactory(solver_name)\n",
    "    instance = model.create_instance()\n",
    "    result = solver.solve(instance)\n",
    "    instance.A.display()"
   ]
  },
  {
   "cell_type": "code",
   "execution_count": 21,
   "id": "097ece62-fe5b-44be-a450-b635457556d5",
   "metadata": {},
   "outputs": [],
   "source": [
    "# Матрица трассируемости требований к ПО на файлы исходного кода\n",
    "\n",
    "T = np.array([\n",
    "    [  1,   0,   0,   0],  # Требование № 1 реализовано в файле № 1\n",
    "    [0.5, 0.5,   0,   0],  # Требование № 2 реализовано в файлах № 1 и 2\n",
    "    [  0, 0.5, 0.5,   0],  # Требования № 3 реализовано в файлах № 2 и 3\n",
    "    [  0,   0, 0.5, 0.5],  # Требование № 4 реализовано в файлах № 3 и 4\n",
    "    [  0,   0,   0,   1]   # Требовнаие № 5 реализовано в файле № 4\n",
    "]) "
   ]
  },
  {
   "cell_type": "code",
   "execution_count": 22,
   "id": "0d521d06-d61a-4826-ab80-d17bde3ea133",
   "metadata": {},
   "outputs": [],
   "source": [
    "# Матрица зависимостей между файлами исходного кода\n",
    "\n",
    "D = np.array([\n",
    "    [0, 1, 0, 0],  # Файл № 1 имеет зависимость на файл № 2\n",
    "    [0, 0, 0, 0],  # Файл № 2 не имеет зависимостей на другие файлы\n",
    "    [0, 0, 0, 0],  # Файл № 3 не имеет зависимостей на другие файлы\n",
    "    [0, 0, 0, 0]   # Файл № 4 не имеет зависимостей на другие файлы\n",
    "]) "
   ]
  },
  {
   "cell_type": "code",
   "execution_count": 23,
   "id": "43e1543a-e9b6-464c-b0c0-005900be2c34",
   "metadata": {},
   "outputs": [],
   "source": [
    "# Матрица стоимостей вхождения требований в поставку\n",
    "\n",
    "P = np.array([\n",
    "    [1, 0, 0, 0, 0], # Стоимость сопровождения функционала, если в поставку войдет требование № 1\n",
    "    [0, 1, 0, 0, 0], # Стоимость сопровождения функционала, если в поставку войдет требование № 2\n",
    "    [0, 0, 1, 0, 0], # Стоимость сопровождения функционала, если в поставку войдет требование № 3\n",
    "    [0, 0, 0, 1, 0], # Стоимость сопровождения функционала, если в поставку войдет требование № 4\n",
    "    [0, 0, 0, 0, 1]  # Стоимость сопровождения функционала, если в поставку войдет требование № 5\n",
    "])"
   ]
  },
  {
   "cell_type": "code",
   "execution_count": 24,
   "id": "4960d9f6-23e3-43c0-bd48-b2221bfa3352",
   "metadata": {},
   "outputs": [],
   "source": [
    "# Число плагинов\n",
    "\n",
    "k = 3"
   ]
  },
  {
   "cell_type": "code",
   "execution_count": 25,
   "id": "dbde657b-473a-4c41-aa63-fe6e506d33e0",
   "metadata": {},
   "outputs": [],
   "source": [
    "# Число требований(n) и число файлов исходного кода(m)\n",
    "\n",
    "n, m = np.shape(T)"
   ]
  },
  {
   "cell_type": "code",
   "execution_count": 26,
   "id": "dda4f00d-1a68-498e-8f96-418e99564bc6",
   "metadata": {},
   "outputs": [],
   "source": [
    "# Матрица распределения файлов по плагинам\n",
    "# Необходимо определить оптимальное распределение\n",
    "# Здесь указаны ограничения на максимальное и минимальное значение\n",
    "# И на то, что элементы должны быть целыми числами\n",
    "\n",
    "set_m = pyo.Set(initialize=range(m))\n",
    "set_k = pyo.Set(initialize=range(k))\n",
    "model.A = pyo.Var(set_m, set_k, domain=pyo.Binary)\n",
    "A = np.array(model.A)\n",
    "\n",
    "# A = np.array([\n",
    "#     [1, 0, 0],\n",
    "#     [0, 1, 0],\n",
    "#     [0, 1, 0],\n",
    "#     [0, 0, 1]\n",
    "# ])\n"
   ]
  },
  {
   "cell_type": "code",
   "execution_count": 27,
   "id": "d0c978d9-c849-4955-b98b-ddeb34726eef",
   "metadata": {},
   "outputs": [],
   "source": [
    "# На искомые элементы накладываются ограничения:\n",
    "# сумма элементов в каждой строке матрицы равна 1\n",
    "\n",
    "for row in A:\n",
    "    model.constraints.add((sum(row) == 1))"
   ]
  },
  {
   "cell_type": "code",
   "execution_count": 28,
   "id": "9bb8fab3-3c09-4b18-a015-35cd4f1846fb",
   "metadata": {},
   "outputs": [],
   "source": [
    "# Полезные требования\n",
    "\n",
    "useful_requirements = np.array([1, 0, 0, 0, 0])"
   ]
  },
  {
   "cell_type": "code",
   "execution_count": 29,
   "id": "ae8f6768-d7f6-428e-85a3-3b93e79c2da8",
   "metadata": {},
   "outputs": [],
   "source": [
    "# Полезные файлы исходного кода\n",
    "\n",
    "useful_files = np.dot(useful_requirements, T)"
   ]
  },
  {
   "cell_type": "code",
   "execution_count": 30,
   "id": "9fe4c1d1-37db-4c19-bc24-0e3f354657b7",
   "metadata": {},
   "outputs": [],
   "source": [
    "# Рекурсивная функция рассчета зависимостей у файлов исходного кода\n",
    "\n",
    "def calculate_dependencies(i):\n",
    "    if i == 0:\n",
    "        return np.dot(useful_files, D)\n",
    "    else:\n",
    "        dependencies = calculate_dependencies(i - 1)\n",
    "        return np.dot(dependencies, D)"
   ]
  },
  {
   "cell_type": "code",
   "execution_count": 31,
   "id": "5e4c639a-6388-4079-87de-015d140c7174",
   "metadata": {},
   "outputs": [],
   "source": [
    "# Рассчет заивисимостей между файлами исходного кода\n",
    "\n",
    "for i in range(len(useful_files)):\n",
    "    dependencies = calculate_dependencies(i)\n",
    "    useful_files += dependencies"
   ]
  },
  {
   "cell_type": "code",
   "execution_count": 32,
   "id": "26eae7f3-76f1-4f06-81d9-7f9d398c72ba",
   "metadata": {},
   "outputs": [],
   "source": [
    "# Поставляемые плагины\n",
    "\n",
    "plugins = np.dot(useful_files, A)"
   ]
  },
  {
   "cell_type": "code",
   "execution_count": 33,
   "id": "7cf2dc46-8b8b-4318-b015-24b2a859d37c",
   "metadata": {},
   "outputs": [],
   "source": [
    "plugins = check_include(plugins)"
   ]
  },
  {
   "cell_type": "code",
   "execution_count": 34,
   "id": "03a56c4c-ab43-4e2b-b30e-19db9ea247af",
   "metadata": {},
   "outputs": [],
   "source": [
    "# Поставляемые файлы исходного кода\n",
    "\n",
    "# delivery_files = np.dot(A, plugins)\n",
    "delivery_files = bin_multiply(A, plugins)"
   ]
  },
  {
   "cell_type": "code",
   "execution_count": 35,
   "id": "68bf14a3-59af-4817-9db6-0dbef0411911",
   "metadata": {},
   "outputs": [],
   "source": [
    "# delivery_files = check_include(delivery_files)"
   ]
  },
  {
   "cell_type": "code",
   "execution_count": 36,
   "id": "650288e3-71d3-416c-aa7d-e5c2cc41071e",
   "metadata": {},
   "outputs": [],
   "source": [
    "# Поставляемые реализованные требования\n",
    "\n",
    "delivery_requirements = np.dot(T, delivery_files)"
   ]
  },
  {
   "cell_type": "code",
   "execution_count": 37,
   "id": "03f0af53-5570-4da6-941d-c91f0b32ea56",
   "metadata": {},
   "outputs": [],
   "source": [
    "delivery_requirements = check_implemented(delivery_requirements)"
   ]
  },
  {
   "cell_type": "code",
   "execution_count": 38,
   "id": "5fe9059f-0f48-4168-b50f-9a39e2125c3e",
   "metadata": {},
   "outputs": [],
   "source": [
    "# Затраты на сопровождение требований в поставке\n",
    "\n",
    "costs = np.dot(P, delivery_requirements)"
   ]
  },
  {
   "cell_type": "code",
   "execution_count": 39,
   "id": "b561a184-0563-4beb-8240-4e298dc03d70",
   "metadata": {},
   "outputs": [],
   "source": [
    "# Целевая функция\n",
    "\n",
    "model.OBJ = pyo.Objective(expr = sum(costs), sense=pyo.minimize)"
   ]
  },
  {
   "cell_type": "code",
   "execution_count": 40,
   "id": "750e58de-7ee1-4431-86cb-6f27aff38305",
   "metadata": {
    "scrolled": true
   },
   "outputs": [
    {
     "name": "stdout",
     "output_type": "stream",
     "text": [
      "2 Var Declarations\n",
      "    A : Size=12, Index={0, 1, 2, 3}*{0, 1, 2}\n",
      "        Key    : Lower : Value : Upper : Fixed : Stale : Domain\n",
      "        (0, 0) :     0 :  None :     1 : False :  True : Binary\n",
      "        (0, 1) :     0 :  None :     1 : False :  True : Binary\n",
      "        (0, 2) :     0 :  None :     1 : False :  True : Binary\n",
      "        (1, 0) :     0 :  None :     1 : False :  True : Binary\n",
      "        (1, 1) :     0 :  None :     1 : False :  True : Binary\n",
      "        (1, 2) :     0 :  None :     1 : False :  True : Binary\n",
      "        (2, 0) :     0 :  None :     1 : False :  True : Binary\n",
      "        (2, 1) :     0 :  None :     1 : False :  True : Binary\n",
      "        (2, 2) :     0 :  None :     1 : False :  True : Binary\n",
      "        (3, 0) :     0 :  None :     1 : False :  True : Binary\n",
      "        (3, 1) :     0 :  None :     1 : False :  True : Binary\n",
      "        (3, 2) :     0 :  None :     1 : False :  True : Binary\n",
      "    f : Size=20, Index={1, 2, 3, 4, 5, 6, 7, 8, 9, 10, 11, 12, 13, 14, 15, 16, 17, 18, 19, 20}\n",
      "        Key : Lower : Value : Upper : Fixed : Stale : Domain\n",
      "          1 :     0 :  None :     1 : False :  True : Binary\n",
      "          2 :     0 :  None :     1 : False :  True : Binary\n",
      "          3 :     0 :  None :     1 : False :  True : Binary\n",
      "          4 :     0 :  None :     1 : False :  True : Binary\n",
      "          5 :     0 :  None :     1 : False :  True : Binary\n",
      "          6 :     0 :  None :     1 : False :  True : Binary\n",
      "          7 :     0 :  None :     1 : False :  True : Binary\n",
      "          8 :     0 :  None :     1 : False :  True : Binary\n",
      "          9 :     0 :  None :     1 : False :  True : Binary\n",
      "         10 :     0 :  None :     1 : False :  True : Binary\n",
      "         11 :     0 :  None :     1 : False :  True : Binary\n",
      "         12 :     0 :  None :     1 : False :  True : Binary\n",
      "         13 :     0 :  None :     1 : False :  True : Binary\n",
      "         14 :     0 :  None :     1 : False :  True : Binary\n",
      "         15 :     0 :  None :     1 : False :  True : Binary\n",
      "         16 :     0 :  None :     1 : False :  True : Binary\n",
      "         17 :     0 :  None :     1 : False :  True : Binary\n",
      "         18 :     0 :  None :     1 : False :  True : Binary\n",
      "         19 :     0 :  None :     1 : False :  True : Binary\n",
      "         20 :     0 :  None :     1 : False :  True : Binary\n",
      "\n",
      "1 Objective Declarations\n",
      "    OBJ : Size=1, Index=None, Active=True\n",
      "        Key  : Active : Sense    : Expression\n",
      "        None :   True : minimize : f[16] + 0*f[17] + 0*f[18] + 0*f[19] + 0*f[20] + 0*f[16] + f[17] + 0*f[18] + 0*f[19] + 0*f[20] + 0*f[16] + 0*f[17] + f[18] + 0*f[19] + 0*f[20] + 0*f[16] + 0*f[17] + 0*f[18] + f[19] + 0*f[20] + 0*f[16] + 0*f[17] + 0*f[18] + 0*f[19] + f[20]\n",
      "\n",
      "1 Constraint Declarations\n",
      "    constraints : Size=68, Index={1, 2, 3, 4, 5, 6, 7, 8, 9, 10, 11, 12, 13, 14, 15, 16, 17, 18, 19, 20, 21, 22, 23, 24, 25, 26, 27, 28, 29, 30, 31, 32, 33, 34, 35, 36, 37, 38, 39, 40, 41, 42, 43, 44, 45, 46, 47, 48, 49, 50, 51, 52, 53, 54, 55, 56, 57, 58, 59, 60, 61, 62, 63, 64, 65, 66, 67, 68}, Active=True\n",
      "        Key : Lower : Body                                                                                                                                          : Upper : Active\n",
      "          1 :   1.0 :                                                                                                                      A[0,0] + A[0,1] + A[0,2] :   1.0 :   True\n",
      "          2 :   1.0 :                                                                                                                      A[1,0] + A[1,1] + A[1,2] :   1.0 :   True\n",
      "          3 :   1.0 :                                                                                                                      A[2,0] + A[2,1] + A[2,2] :   1.0 :   True\n",
      "          4 :   1.0 :                                                                                                                      A[3,0] + A[3,1] + A[3,2] :   1.0 :   True\n",
      "          5 :  -Inf :                                                                                f[1] + 1e-06 - (A[0,0] + A[1,0] + 0.0*A[2,0] + 0.0*A[3,0] + 1) :   0.0 :   True\n",
      "          6 :  -Inf :                                                                                      A[0,0] + A[1,0] + 0.0*A[2,0] + 0.0*A[3,0] - 1000000*f[1] :   0.0 :   True\n",
      "          7 :  -Inf :                                                                                f[2] + 1e-06 - (A[0,1] + A[1,1] + 0.0*A[2,1] + 0.0*A[3,1] + 1) :   0.0 :   True\n",
      "          8 :  -Inf :                                                                                      A[0,1] + A[1,1] + 0.0*A[2,1] + 0.0*A[3,1] - 1000000*f[2] :   0.0 :   True\n",
      "          9 :  -Inf :                                                                                f[3] + 1e-06 - (A[0,2] + A[1,2] + 0.0*A[2,2] + 0.0*A[3,2] + 1) :   0.0 :   True\n",
      "         10 :  -Inf :                                                                                      A[0,2] + A[1,2] + 0.0*A[2,2] + 0.0*A[3,2] - 1000000*f[3] :   0.0 :   True\n",
      "         11 :  -Inf :                                                                                                                    f[1] + A[0,0] - (f[4] + 1) :   0.0 :   True\n",
      "         12 :  -Inf :                                                                                                                                   f[4] - f[1] :   0.0 :   True\n",
      "         13 :  -Inf :                                                                                                                                 f[4] - A[0,0] :   0.0 :   True\n",
      "         14 :   0.0 :                                                                                                                                          f[4] :  +Inf :   True\n",
      "         15 :  -Inf :                                                                                                                    f[2] + A[0,1] - (f[5] + 1) :   0.0 :   True\n",
      "         16 :  -Inf :                                                                                                                                   f[5] - f[2] :   0.0 :   True\n",
      "         17 :  -Inf :                                                                                                                                 f[5] - A[0,1] :   0.0 :   True\n",
      "         18 :   0.0 :                                                                                                                                          f[5] :  +Inf :   True\n",
      "         19 :  -Inf :                                                                                                                    f[3] + A[0,2] - (f[6] + 1) :   0.0 :   True\n",
      "         20 :  -Inf :                                                                                                                                   f[6] - f[3] :   0.0 :   True\n",
      "         21 :  -Inf :                                                                                                                                 f[6] - A[0,2] :   0.0 :   True\n",
      "         22 :   0.0 :                                                                                                                                          f[6] :  +Inf :   True\n",
      "         23 :  -Inf :                                                                                                                    f[1] + A[1,0] - (f[7] + 1) :   0.0 :   True\n",
      "         24 :  -Inf :                                                                                                                                   f[7] - f[1] :   0.0 :   True\n",
      "         25 :  -Inf :                                                                                                                                 f[7] - A[1,0] :   0.0 :   True\n",
      "         26 :   0.0 :                                                                                                                                          f[7] :  +Inf :   True\n",
      "         27 :  -Inf :                                                                                                                    f[2] + A[1,1] - (f[8] + 1) :   0.0 :   True\n",
      "         28 :  -Inf :                                                                                                                                   f[8] - f[2] :   0.0 :   True\n",
      "         29 :  -Inf :                                                                                                                                 f[8] - A[1,1] :   0.0 :   True\n",
      "         30 :   0.0 :                                                                                                                                          f[8] :  +Inf :   True\n",
      "         31 :  -Inf :                                                                                                                    f[3] + A[1,2] - (f[9] + 1) :   0.0 :   True\n",
      "         32 :  -Inf :                                                                                                                                   f[9] - f[3] :   0.0 :   True\n",
      "         33 :  -Inf :                                                                                                                                 f[9] - A[1,2] :   0.0 :   True\n",
      "         34 :   0.0 :                                                                                                                                          f[9] :  +Inf :   True\n",
      "         35 :  -Inf :                                                                                                                   f[1] + A[2,0] - (f[10] + 1) :   0.0 :   True\n",
      "         36 :  -Inf :                                                                                                                                  f[10] - f[1] :   0.0 :   True\n",
      "         37 :  -Inf :                                                                                                                                f[10] - A[2,0] :   0.0 :   True\n",
      "         38 :   0.0 :                                                                                                                                         f[10] :  +Inf :   True\n",
      "         39 :  -Inf :                                                                                                                   f[2] + A[2,1] - (f[11] + 1) :   0.0 :   True\n",
      "         40 :  -Inf :                                                                                                                                  f[11] - f[2] :   0.0 :   True\n",
      "         41 :  -Inf :                                                                                                                                f[11] - A[2,1] :   0.0 :   True\n",
      "         42 :   0.0 :                                                                                                                                         f[11] :  +Inf :   True\n",
      "         43 :  -Inf :                                                                                                                   f[3] + A[2,2] - (f[12] + 1) :   0.0 :   True\n",
      "         44 :  -Inf :                                                                                                                                  f[12] - f[3] :   0.0 :   True\n",
      "         45 :  -Inf :                                                                                                                                f[12] - A[2,2] :   0.0 :   True\n",
      "         46 :   0.0 :                                                                                                                                         f[12] :  +Inf :   True\n",
      "         47 :  -Inf :                                                                                                                   f[1] + A[3,0] - (f[13] + 1) :   0.0 :   True\n",
      "         48 :  -Inf :                                                                                                                                  f[13] - f[1] :   0.0 :   True\n",
      "         49 :  -Inf :                                                                                                                                f[13] - A[3,0] :   0.0 :   True\n",
      "         50 :   0.0 :                                                                                                                                         f[13] :  +Inf :   True\n",
      "         51 :  -Inf :                                                                                                                   f[2] + A[3,1] - (f[14] + 1) :   0.0 :   True\n",
      "         52 :  -Inf :                                                                                                                                  f[14] - f[2] :   0.0 :   True\n",
      "         53 :  -Inf :                                                                                                                                f[14] - A[3,1] :   0.0 :   True\n",
      "         54 :   0.0 :                                                                                                                                         f[14] :  +Inf :   True\n",
      "         55 :  -Inf :                                                                                                                   f[3] + A[3,2] - (f[15] + 1) :   0.0 :   True\n",
      "         56 :  -Inf :                                                                                                                                  f[15] - f[3] :   0.0 :   True\n",
      "         57 :  -Inf :                                                                                                                                f[15] - A[3,2] :   0.0 :   True\n",
      "         58 :   0.0 :                                                                                                                                         f[15] :  +Inf :   True\n",
      "         59 :  -Inf :                           f[16] - (f[4] + f[5] + f[6] + 0.0*(f[7] + f[8] + f[9]) + 0.0*(f[10] + f[11] + f[12]) + 0.0*(f[13] + f[14] + f[15])) :   0.0 :   True\n",
      "         60 :  -Inf :       f[4] + f[5] + f[6] + 0.0*(f[7] + f[8] + f[9]) + 0.0*(f[10] + f[11] + f[12]) + 0.0*(f[13] + f[14] + f[15]) + 1e-06 - (1 + 1000000*f[16]) :   0.0 :   True\n",
      "         61 :  -Inf :                     f[17] - (0.5*(f[4] + f[5] + f[6]) + 0.5*(f[7] + f[8] + f[9]) + 0.0*(f[10] + f[11] + f[12]) + 0.0*(f[13] + f[14] + f[15])) :   0.0 :   True\n",
      "         62 :  -Inf : 0.5*(f[4] + f[5] + f[6]) + 0.5*(f[7] + f[8] + f[9]) + 0.0*(f[10] + f[11] + f[12]) + 0.0*(f[13] + f[14] + f[15]) + 1e-06 - (1 + 1000000*f[17]) :   0.0 :   True\n",
      "         63 :  -Inf :                     f[18] - (0.0*(f[4] + f[5] + f[6]) + 0.5*(f[7] + f[8] + f[9]) + 0.5*(f[10] + f[11] + f[12]) + 0.0*(f[13] + f[14] + f[15])) :   0.0 :   True\n",
      "         64 :  -Inf : 0.0*(f[4] + f[5] + f[6]) + 0.5*(f[7] + f[8] + f[9]) + 0.5*(f[10] + f[11] + f[12]) + 0.0*(f[13] + f[14] + f[15]) + 1e-06 - (1 + 1000000*f[18]) :   0.0 :   True\n",
      "         65 :  -Inf :                     f[19] - (0.0*(f[4] + f[5] + f[6]) + 0.0*(f[7] + f[8] + f[9]) + 0.5*(f[10] + f[11] + f[12]) + 0.5*(f[13] + f[14] + f[15])) :   0.0 :   True\n",
      "         66 :  -Inf : 0.0*(f[4] + f[5] + f[6]) + 0.0*(f[7] + f[8] + f[9]) + 0.5*(f[10] + f[11] + f[12]) + 0.5*(f[13] + f[14] + f[15]) + 1e-06 - (1 + 1000000*f[19]) :   0.0 :   True\n",
      "         67 :  -Inf :                         f[20] - (0.0*(f[4] + f[5] + f[6]) + 0.0*(f[7] + f[8] + f[9]) + 0.0*(f[10] + f[11] + f[12]) + (f[13] + f[14] + f[15])) :   0.0 :   True\n",
      "         68 :  -Inf :     0.0*(f[4] + f[5] + f[6]) + 0.0*(f[7] + f[8] + f[9]) + 0.0*(f[10] + f[11] + f[12]) + (f[13] + f[14] + f[15]) + 1e-06 - (1 + 1000000*f[20]) :   0.0 :   True\n",
      "\n",
      "4 Declarations: constraints f A OBJ\n"
     ]
    }
   ],
   "source": [
    "model.pprint()"
   ]
  },
  {
   "cell_type": "code",
   "execution_count": 41,
   "id": "e66cac53-b9a3-42a8-bdc3-1dae9ebff4a3",
   "metadata": {
    "scrolled": true
   },
   "outputs": [
    {
     "name": "stdout",
     "output_type": "stream",
     "text": [
      "A : Size=12, Index={0, 1, 2, 3}*{0, 1, 2}\n",
      "    Key    : Lower : Value : Upper : Fixed : Stale : Domain\n",
      "    (0, 0) :     0 :   0.0 :     1 : False : False : Binary\n",
      "    (0, 1) :     0 :   0.0 :     1 : False : False : Binary\n",
      "    (0, 2) :     0 :   1.0 :     1 : False : False : Binary\n",
      "    (1, 0) :     0 :   0.0 :     1 : False : False : Binary\n",
      "    (1, 1) :     0 :   1.0 :     1 : False : False : Binary\n",
      "    (1, 2) :     0 :   0.0 :     1 : False : False : Binary\n",
      "    (2, 0) :     0 :   1.0 :     1 : False : False : Binary\n",
      "    (2, 1) :     0 :   0.0 :     1 : False : False : Binary\n",
      "    (2, 2) :     0 :   0.0 :     1 : False : False : Binary\n",
      "    (3, 0) :     0 :   1.0 :     1 : False : False : Binary\n",
      "    (3, 1) :     0 :   0.0 :     1 : False : False : Binary\n",
      "    (3, 2) :     0 :   0.0 :     1 : False : False : Binary\n"
     ]
    }
   ],
   "source": [
    "solve('gams')"
   ]
  },
  {
   "cell_type": "code",
   "execution_count": 42,
   "id": "4da10bcc-bd37-4637-b197-3a4b23af22c5",
   "metadata": {},
   "outputs": [
    {
     "name": "stdout",
     "output_type": "stream",
     "text": [
      "A : Size=12, Index={0, 1, 2, 3}*{0, 1, 2}\n",
      "    Key    : Lower : Value : Upper : Fixed : Stale : Domain\n",
      "    (0, 0) :     0 :   1.0 :     1 : False : False : Binary\n",
      "    (0, 1) :     0 :  -0.0 :     1 : False : False : Binary\n",
      "    (0, 2) :     0 :  -0.0 :     1 : False : False : Binary\n",
      "    (1, 0) :     0 :   1.0 :     1 : False : False : Binary\n",
      "    (1, 1) :     0 :  -0.0 :     1 : False : False : Binary\n",
      "    (1, 2) :     0 :  -0.0 :     1 : False : False : Binary\n",
      "    (2, 0) :     0 :   0.0 :     1 : False : False : Binary\n",
      "    (2, 1) :     0 :   1.0 :     1 : False : False : Binary\n",
      "    (2, 2) :     0 :  -0.0 :     1 : False : False : Binary\n",
      "    (3, 0) :     0 :   0.0 :     1 : False : False : Binary\n",
      "    (3, 1) :     0 :   1.0 :     1 : False : False : Binary\n",
      "    (3, 2) :     0 :  -0.0 :     1 : False : False : Binary\n"
     ]
    },
    {
     "name": "stderr",
     "output_type": "stream",
     "text": [
      "/Users/dambr/venv/lib/python3.12/site-packages/pyomo/solvers/plugins/solvers/xpress_direct.py:650: LicenseWarning: Using the Community license in this session. If you have a full Xpress license, pass the full path to your license file to xpress.init(). If you want to use the FICO Community license and no longer want to see this message, use the following code before using the xpress module:\n",
      "  xpress.init('/Users/dambr/venv/lib/python3.12/site-packages/xpress/license/community-xpauth.xpr')\n",
      "\n",
      "  self._solver_model = xpress.problem(name=model.name)\n"
     ]
    }
   ],
   "source": [
    "solve('xpress')"
   ]
  },
  {
   "cell_type": "code",
   "execution_count": 43,
   "id": "68446aae-2a5a-4bef-9659-c80d907cb405",
   "metadata": {},
   "outputs": [
    {
     "name": "stdout",
     "output_type": "stream",
     "text": [
      "A : Size=12, Index={0, 1, 2, 3}*{0, 1, 2}\n",
      "    Key    : Lower : Value : Upper : Fixed : Stale : Domain\n",
      "    (0, 0) :     0 :   1.0 :     1 : False : False : Binary\n",
      "    (0, 1) :     0 :   0.0 :     1 : False : False : Binary\n",
      "    (0, 2) :     0 :   0.0 :     1 : False : False : Binary\n",
      "    (1, 0) :     0 :   0.0 :     1 : False : False : Binary\n",
      "    (1, 1) :     0 :   0.0 :     1 : False : False : Binary\n",
      "    (1, 2) :     0 :   1.0 :     1 : False : False : Binary\n",
      "    (2, 0) :     0 :   0.0 :     1 : False : False : Binary\n",
      "    (2, 1) :     0 :   1.0 :     1 : False : False : Binary\n",
      "    (2, 2) :     0 :   0.0 :     1 : False : False : Binary\n",
      "    (3, 0) :     0 :   0.0 :     1 : False : False : Binary\n",
      "    (3, 1) :     0 :   1.0 :     1 : False : False : Binary\n",
      "    (3, 2) :     0 :   0.0 :     1 : False : False : Binary\n"
     ]
    }
   ],
   "source": [
    "solve('glpk')"
   ]
  },
  {
   "cell_type": "code",
   "execution_count": 44,
   "id": "3ed19096-bb7e-4b70-9e7c-f11f4633bcd9",
   "metadata": {},
   "outputs": [
    {
     "name": "stdout",
     "output_type": "stream",
     "text": [
      "A : Size=12, Index={0, 1, 2, 3}*{0, 1, 2}\n",
      "    Key    : Lower : Value : Upper : Fixed : Stale : Domain\n",
      "    (0, 0) :     0 :  -0.0 :     1 : False : False : Binary\n",
      "    (0, 1) :     0 :  -0.0 :     1 : False : False : Binary\n",
      "    (0, 2) :     0 :   1.0 :     1 : False : False : Binary\n",
      "    (1, 0) :     0 :  -0.0 :     1 : False : False : Binary\n",
      "    (1, 1) :     0 :  -0.0 :     1 : False : False : Binary\n",
      "    (1, 2) :     0 :   1.0 :     1 : False : False : Binary\n",
      "    (2, 0) :     0 :   1.0 :     1 : False : False : Binary\n",
      "    (2, 1) :     0 :  -0.0 :     1 : False : False : Binary\n",
      "    (2, 2) :     0 :  -0.0 :     1 : False : False : Binary\n",
      "    (3, 0) :     0 :   1.0 :     1 : False : False : Binary\n",
      "    (3, 1) :     0 :  -0.0 :     1 : False : False : Binary\n",
      "    (3, 2) :     0 :  -0.0 :     1 : False : False : Binary\n"
     ]
    }
   ],
   "source": [
    "solve('gurobi')"
   ]
  },
  {
   "cell_type": "code",
   "execution_count": 45,
   "id": "2a3c3517-49f6-4c31-baee-4139179d74cc",
   "metadata": {},
   "outputs": [
    {
     "name": "stdout",
     "output_type": "stream",
     "text": [
      "WARNING: Unused arguments in the bigM map! These arguments were not used by\n",
      "the transformation: None\n",
      "A : Size=12, Index={0, 1, 2, 3}*{0, 1, 2}\n",
      "    Key    : Lower : Value : Upper : Fixed : Stale : Domain\n",
      "    (0, 0) :     0 :   1.0 :     1 : False : False : Binary\n",
      "    (0, 1) :     0 :   0.0 :     1 : False : False : Binary\n",
      "    (0, 2) :     0 :   0.0 :     1 : False : False : Binary\n",
      "    (1, 0) :     0 :   0.0 :     1 : False : False : Binary\n",
      "    (1, 1) :     0 :   0.0 :     1 : False : False : Binary\n",
      "    (1, 2) :     0 :   1.0 :     1 : False : False : Binary\n",
      "    (2, 0) :     0 :   0.0 :     1 : False : False : Binary\n",
      "    (2, 1) :     0 :   1.0 :     1 : False : False : Binary\n",
      "    (2, 2) :     0 :   0.0 :     1 : False : False : Binary\n",
      "    (3, 0) :     0 :   0.0 :     1 : False : False : Binary\n",
      "    (3, 1) :     0 :   1.0 :     1 : False : False : Binary\n",
      "    (3, 2) :     0 :   0.0 :     1 : False : False : Binary\n"
     ]
    }
   ],
   "source": [
    "solve('mpec_minlp')"
   ]
  },
  {
   "cell_type": "code",
   "execution_count": 46,
   "id": "1022ddf1-3feb-44dd-987b-2c9a92c62009",
   "metadata": {},
   "outputs": [
    {
     "name": "stdout",
     "output_type": "stream",
     "text": [
      "A : Size=12, Index={0, 1, 2, 3}*{0, 1, 2}\n",
      "    Key    : Lower : Value : Upper : Fixed : Stale : Domain\n",
      "    (0, 0) :     0 :  -0.0 :     1 : False : False : Binary\n",
      "    (0, 1) :     0 :  -0.0 :     1 : False : False : Binary\n",
      "    (0, 2) :     0 :   1.0 :     1 : False : False : Binary\n",
      "    (1, 0) :     0 :  -0.0 :     1 : False : False : Binary\n",
      "    (1, 1) :     0 :  -0.0 :     1 : False : False : Binary\n",
      "    (1, 2) :     0 :   1.0 :     1 : False : False : Binary\n",
      "    (2, 0) :     0 :   1.0 :     1 : False : False : Binary\n",
      "    (2, 1) :     0 :  -0.0 :     1 : False : False : Binary\n",
      "    (2, 2) :     0 :  -0.0 :     1 : False : False : Binary\n",
      "    (3, 0) :     0 :   1.0 :     1 : False : False : Binary\n",
      "    (3, 1) :     0 :  -0.0 :     1 : False : False : Binary\n",
      "    (3, 2) :     0 :  -0.0 :     1 : False : False : Binary\n"
     ]
    }
   ],
   "source": [
    "solve('gdpopt.enumerate')"
   ]
  },
  {
   "cell_type": "code",
   "execution_count": 47,
   "id": "c97c4a9f-23a2-4108-ac50-f59d447c9fc4",
   "metadata": {},
   "outputs": [
    {
     "name": "stdout",
     "output_type": "stream",
     "text": [
      "A : Size=12, Index={0, 1, 2, 3}*{0, 1, 2}\n",
      "    Key    : Lower : Value : Upper : Fixed : Stale : Domain\n",
      "    (0, 0) :     0 :   1.0 :     1 : False : False : Binary\n",
      "    (0, 1) :     0 :   0.0 :     1 : False : False : Binary\n",
      "    (0, 2) :     0 :   0.0 :     1 : False : False : Binary\n",
      "    (1, 0) :     0 :   0.0 :     1 : False : False : Binary\n",
      "    (1, 1) :     0 :   0.0 :     1 : False : False : Binary\n",
      "    (1, 2) :     0 :   1.0 :     1 : False : False : Binary\n",
      "    (2, 0) :     0 :   0.0 :     1 : False : False : Binary\n",
      "    (2, 1) :     0 :   1.0 :     1 : False : False : Binary\n",
      "    (2, 2) :     0 :   0.0 :     1 : False : False : Binary\n",
      "    (3, 0) :     0 :   0.0 :     1 : False : False : Binary\n",
      "    (3, 1) :     0 :   1.0 :     1 : False : False : Binary\n",
      "    (3, 2) :     0 :   0.0 :     1 : False : False : Binary\n"
     ]
    }
   ],
   "source": [
    "solve('mindtpy.ecp')"
   ]
  },
  {
   "cell_type": "code",
   "execution_count": null,
   "id": "86cb60ff-ffb2-4458-b48d-ef95633cb2a0",
   "metadata": {},
   "outputs": [],
   "source": []
  }
 ],
 "metadata": {
  "kernelspec": {
   "display_name": "Python 3 (ipykernel)",
   "language": "python",
   "name": "python3"
  },
  "language_info": {
   "codemirror_mode": {
    "name": "ipython",
    "version": 3
   },
   "file_extension": ".py",
   "mimetype": "text/x-python",
   "name": "python",
   "nbconvert_exporter": "python",
   "pygments_lexer": "ipython3",
   "version": "3.12.1"
  }
 },
 "nbformat": 4,
 "nbformat_minor": 5
}
