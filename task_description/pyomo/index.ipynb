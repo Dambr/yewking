{
 "cells": [
  {
   "cell_type": "code",
   "execution_count": 1,
   "id": "a7ec0e6a-d27f-46b4-b3d7-66d0d0c64707",
   "metadata": {},
   "outputs": [],
   "source": [
    "# Перечень команд, которые необходимо выполнить перед запуском jupyter notebook для включения решателей:\n",
    "# export PATH=$PATH:/Library/Frameworks/GAMS.framework/Versions/47/Resources/\n",
    "# export PATH=$PATH:/Library/Frameworks/ampl_macos64/\n",
    "\n",
    "# Доступные решатели:\n",
    "# _neos              [-] внутренняя ошибка связанная с работой со строками\n",
    "# _mock_cbc          [-] попытка доступа к несуществующему полю _problem_files у ConcreteModel\n",
    "# glpk               [+] \n",
    "# _glpk_shell        [+] \n",
    "# _mock_glpk         [-] внутренняя ошибка\n",
    "# _mock_cplex        [-] внутренняя ошибка\n",
    "# gurobi_direct      [+] \n",
    "# gurobi             [+] \n",
    "# _gurobi_shell      [+] \n",
    "# baron              [-] внутренняя ошибка\n",
    "# xpress             [+] \n",
    "# ipopt              [- +] работает, но ответ не формируется с целыми значениями\n",
    "# gurobi_persistent  [+] требует предварительный вызов метода set_instance\n",
    "# gams               [+]\n",
    "# _gams_shell        [+]\n",
    "# xpress_direct      [+] \n",
    "# xpress_persistent  [+] требует предварительный вызов метода set_instance\n",
    "# mpec_nlp           [- +] работает, но ответ не формируется с целыми значениями\n",
    "# mpec_minlp         [+] \n",
    "# appsi_gurobi       [+] \n",
    "# gdpopt             [-] требуется дополнительное указание алгоритма через аргумент метода solve         \n",
    "# gdpopt.gloa        [-] внутренняя ошибка\n",
    "# gdpopt.lbb         [-] внутренняя ошибка\n",
    "# gdpopt.loa         [-] внутренняя ошибка\n",
    "# gdpopt.ric         [-] внутренняя ошибка\n",
    "# gdpopt.enumerate   [+] \n",
    "# mindtpy            [-] внутренняя ошибка\n",
    "# mindtpy.oa         [-] внутренняя ошибка\n",
    "# mindtpy.ecp        [+] \n",
    "# mindtpy.goa        [-] внутренняя ошибка\n",
    "# mindtpy.fp         [-] внутренняя ошибка\n",
    "# multistart         [- +] работает, но ответ не формируется с целыми значениями\n",
    "# ipopt_v2           [- +] работает, но ответ не формируется с целыми значениями\n",
    "# gurobi_v2          [+] \n",
    "# gurobi_direct_v2   [-] ошибка разрешения зависимостей\n",
    "# trustregion        [-] для инициализации требуется дополнительный аргумент degrees_of_freedom_variables\n",
    "# ampl               [-] внутренняя ошибка работы решателя"
   ]
  },
  {
   "cell_type": "code",
   "execution_count": 2,
   "id": "1ffeb725-0e02-4915-b57a-707f0919e284",
   "metadata": {},
   "outputs": [],
   "source": [
    "import pyomo.environ as pyo\n",
    "import numpy as np\n",
    "import pandas as pd\n",
    "import time\n",
    "from random import randint, shuffle"
   ]
  },
  {
   "cell_type": "code",
   "execution_count": 3,
   "id": "46079a7b-5b1f-421d-b4ca-78d0c0bdd466",
   "metadata": {},
   "outputs": [],
   "source": [
    "class CalculateUsefulFilesAction():\n",
    "    def __init__(self, useful_requirements, T, D):\n",
    "        self.useful_requirements = useful_requirements\n",
    "        self.T = T\n",
    "        self.D = D\n",
    "\n",
    "    def calculate(self):\n",
    "        useful_requirements = self.useful_requirements\n",
    "        T = self.T\n",
    "        calculate_dependencies = self.__calculate_dependencies\n",
    "\n",
    "        useful_files = np.dot(useful_requirements, T)\n",
    "        m = len(useful_files)\n",
    "        for i in range(m):\n",
    "            dependencies = calculate_dependencies(i)\n",
    "            useful_files += dependencies\n",
    "        return useful_files\n",
    "\n",
    "    def __calculate_dependencies(self, i):\n",
    "        useful_requirements = self.useful_requirements\n",
    "        T = self.T\n",
    "        D = self.D\n",
    "        calculate_dependencies = self.__calculate_dependencies\n",
    "        \n",
    "        if i == 0:\n",
    "            useful_files = np.dot(useful_requirements, T)\n",
    "            return np.dot(useful_files, D)\n",
    "        else:\n",
    "            dependencies = calculate_dependencies(i - 1)\n",
    "            return np.dot(dependencies, D)"
   ]
  },
  {
   "cell_type": "code",
   "execution_count": 4,
   "id": "b7d690d0-10ed-4378-9aeb-369a60e04544",
   "metadata": {},
   "outputs": [],
   "source": [
    "class Checker():\n",
    "    def __init__(self, constraints, varlist):\n",
    "        self.constraints = constraints\n",
    "        self.varlist = varlist\n",
    "\n",
    "    def check(self, vector, check_function_1, check_function_2):\n",
    "        constraints = self.constraints\n",
    "        varlist = self.varlist\n",
    "        \n",
    "        result = []\n",
    "        for x in vector:\n",
    "            f = varlist.add()\n",
    "            result.append(f)\n",
    "            constraint_1 = check_function_1(x, f)\n",
    "            constraint_2 = check_function_2(x, f)\n",
    "            constraints.add(constraint_1)\n",
    "            constraints.add(constraint_2)\n",
    "        return np.array(result)"
   ]
  },
  {
   "cell_type": "code",
   "execution_count": 5,
   "id": "bb4d0cbb-6093-46d6-b0fe-b3de668e68d5",
   "metadata": {},
   "outputs": [],
   "source": [
    "class IncludeChecker():\n",
    "    def __init__(self, checker, M):\n",
    "        self.checker = checker\n",
    "        self.M = M\n",
    "\n",
    "    def check(self, vector):\n",
    "        checker = self.checker\n",
    "        M = self.M\n",
    "        \n",
    "        check_include_1 = lambda x, f: (f + 1 / M <= x + 1)\n",
    "        check_include_2 = lambda x, f: (x <= M * f)\n",
    "\n",
    "        result = checker.check(vector, check_include_1, check_include_2)\n",
    "        return result"
   ]
  },
  {
   "cell_type": "code",
   "execution_count": 6,
   "id": "40c563bc-a8ef-4abb-aa20-6faa34c3f0c7",
   "metadata": {},
   "outputs": [],
   "source": [
    "class ImplementChecker():\n",
    "    def __init__(self, checker, M):\n",
    "        self.checker = checker\n",
    "        self.M = M\n",
    "\n",
    "    def check(self, vector):\n",
    "        checker = self.checker\n",
    "        M = self.M\n",
    "\n",
    "        check_implemented_1 = lambda x, f: (x >= f)\n",
    "        check_implemented_2 = lambda x, f: (x + 1 / M <= 1 + M * f)\n",
    "\n",
    "        result = checker.check(vector, check_implemented_1, check_implemented_2)\n",
    "        return result"
   ]
  },
  {
   "cell_type": "code",
   "execution_count": 7,
   "id": "0b5c2b27-37bf-4eac-b1b6-0f654662dfab",
   "metadata": {},
   "outputs": [],
   "source": [
    "class CalculatePluginsAction():\n",
    "    def __init__(self, calculate_useful_files_action, include_checker, A):\n",
    "        self.calculate_useful_files_action = calculate_useful_files_action\n",
    "        self.include_checker = include_checker\n",
    "        self.A = A\n",
    "\n",
    "    def calculate(self):\n",
    "        calculate_useful_files_action = self.calculate_useful_files_action\n",
    "        include_checker = self.include_checker\n",
    "        A = self.A\n",
    "\n",
    "        useful_files = calculate_useful_files_action.calculate()\n",
    "        plugins = np.dot(useful_files, A)\n",
    "        result = include_checker.check(plugins)\n",
    "        return result"
   ]
  },
  {
   "cell_type": "code",
   "execution_count": 8,
   "id": "cfd86f77-7a15-4d30-9962-ec7f88ab6483",
   "metadata": {},
   "outputs": [],
   "source": [
    "class AddMultiplyConstraintsAction():\n",
    "    def __init__(self, constraints, varlist):\n",
    "        self.constraints = constraints\n",
    "        self.varlist = varlist\n",
    "\n",
    "    def add_multiply_constraints(self, x, y):\n",
    "        constraints = self.constraints\n",
    "        varlist = self.varlist\n",
    "        \n",
    "        f = varlist.add()\n",
    "        constraints.add((x + y <= f + 1))\n",
    "        constraints.add((f <= x))\n",
    "        constraints.add((f <= y))\n",
    "        constraints.add((f >= 0))\n",
    "        return f"
   ]
  },
  {
   "cell_type": "code",
   "execution_count": 9,
   "id": "bd9b8ca5-a03c-461c-81a4-b56fdaba3b98",
   "metadata": {},
   "outputs": [],
   "source": [
    "class CalculateDeliveryFilesAction():\n",
    "    def __init__(self, calculate_plugins_action, add_multiply_constraints_action, A):\n",
    "        self.calculate_plugins_action = calculate_plugins_action\n",
    "        self.add_multiply_constraints_action = add_multiply_constraints_action\n",
    "        self.A = A\n",
    "\n",
    "    def calculate(self):\n",
    "        calculate_plugins_action = self.calculate_plugins_action\n",
    "        A = self.A\n",
    "        bin_multiply = self.__bin_multiply\n",
    "        \n",
    "        plugins = calculate_plugins_action.calculate()\n",
    "        result = bin_multiply(A, plugins)\n",
    "        return result\n",
    "\n",
    "    def __bin_multiply(self, matrix, vector):\n",
    "        add_multiply_constraints_action = self.add_multiply_constraints_action\n",
    "        \n",
    "        (rows_count, cols_count) = np.shape(matrix)\n",
    "        result = []\n",
    "        for row_number in range(rows_count):\n",
    "            matrix_row = matrix[row_number]\n",
    "            terms = []\n",
    "            for col_number in range(cols_count):\n",
    "                vector_element = vector[col_number]\n",
    "                matrix_element = matrix_row[col_number]\n",
    "                term = add_multiply_constraints_action.add_multiply_constraints(vector_element, matrix_element)\n",
    "                terms.append(term)\n",
    "            sum_terms = sum(terms)\n",
    "            result.append(sum_terms)\n",
    "        return np.array(result)"
   ]
  },
  {
   "cell_type": "code",
   "execution_count": 10,
   "id": "b9d2dc08-a86b-4054-9225-a742949de909",
   "metadata": {},
   "outputs": [],
   "source": [
    "class CalculateDeliveryRequirementsAction():\n",
    "    def __init__(self, calculate_delivery_files_action, implement_checker, T):\n",
    "        self.calculate_delivery_files_action = calculate_delivery_files_action\n",
    "        self.implement_checker = implement_checker\n",
    "        self.T = T\n",
    "\n",
    "    def calculate(self):\n",
    "        calculate_delivery_files_action = self.calculate_delivery_files_action\n",
    "        implement_checker = self.implement_checker\n",
    "        T = self.T\n",
    "\n",
    "        delivery_files = calculate_delivery_files_action.calculate()\n",
    "        delivery_requirements = np.dot(T, delivery_files)\n",
    "        result = implement_checker.check(delivery_requirements)\n",
    "        return result"
   ]
  },
  {
   "cell_type": "code",
   "execution_count": 11,
   "id": "f36d4f8d-5b7d-41f7-b717-b02f4b30e601",
   "metadata": {},
   "outputs": [],
   "source": [
    "class CalculateEquipmentCostAction():\n",
    "    def __init__(self, calculate_delivery_requirements_action, P):\n",
    "        self.calculate_delivery_requirements_action = calculate_delivery_requirements_action\n",
    "        self.P = P\n",
    "\n",
    "    def calculate(self):\n",
    "        calculate_delivery_requirements_action = self.calculate_delivery_requirements_action\n",
    "        P = self.P\n",
    "\n",
    "        delivery_requirements = calculate_delivery_requirements_action.calculate()\n",
    "        costs = np.dot(P, delivery_requirements)\n",
    "        result = sum(costs)\n",
    "        return result"
   ]
  },
  {
   "cell_type": "code",
   "execution_count": 12,
   "id": "d77d0cc1-4361-4974-818b-4b6862eac32b",
   "metadata": {},
   "outputs": [],
   "source": [
    "class ModelBuilder():\n",
    "    # М                                   - условно большое число\n",
    "    # k                                   - число плагинов\n",
    "    # T (traceability)        (n x m)     - матрица трассируемости требований к ПО на файлы исходного кода\n",
    "    # D (dependency)          (m x m)     - матрица зависимостей между файлами исходного кода\n",
    "    # P (price)               (n x n)     - матрица расчета стоимости сопровождения требований в поставке\n",
    "    # E (equirements)         (e x n)     - матрица потребных комплектаций\n",
    "    def __init__(self, M, k, T, D, P, E):\n",
    "        self.M = M\n",
    "        self.k = k\n",
    "        self.T = T\n",
    "        self.D = D\n",
    "        self.P = P\n",
    "        self.E = E\n",
    "    \n",
    "    def build(self):\n",
    "        M = self.M\n",
    "        k = self.k\n",
    "        \n",
    "        T = self.T\n",
    "        D = self.D\n",
    "        P = self.P\n",
    "        E = self.E\n",
    "\n",
    "        m = np.shape(T)[1]\n",
    "        \n",
    "        model = pyo.ConcreteModel(name = 'Optimal decomposition')\n",
    "        model.constraints = pyo.ConstraintList()\n",
    "        model.f = pyo.VarList(domain=pyo.Binary)\n",
    "        set_m = pyo.Set(initialize=range(m))\n",
    "        set_k = pyo.Set(initialize=range(k))\n",
    "        # A (allocation)          (m x k)     - матрица распределения файлов исходного кода по плагинам\n",
    "        model.A = pyo.Var(set_m, set_k, domain=pyo.Binary)\n",
    "        A = np.array(model.A)\n",
    "\n",
    "        for row in A:\n",
    "            model.constraints.add((sum(row) == 1))\n",
    "\n",
    "        equipment_costs = []\n",
    "        for useful_requirements in E:\n",
    "            calculate_useful_files_action = CalculateUsefulFilesAction(useful_requirements, T, D)\n",
    "            checker = Checker(model.constraints, model.f)\n",
    "            include_checker = IncludeChecker(checker, M)\n",
    "            calculate_plugins_action = CalculatePluginsAction(calculate_useful_files_action, include_checker, A)\n",
    "            add_multiply_constraints_action = AddMultiplyConstraintsAction(model.constraints, model.f)\n",
    "            calculate_delivery_files_action = CalculateDeliveryFilesAction(calculate_plugins_action, add_multiply_constraints_action, A)\n",
    "            implement_checker = ImplementChecker(checker, M)\n",
    "            calculate_delivery_requirements_action = CalculateDeliveryRequirementsAction(calculate_delivery_files_action, implement_checker, T)\n",
    "            calculate_equipment_cost_action = CalculateEquipmentCostAction(calculate_delivery_requirements_action, P)\n",
    "            \n",
    "            equipment_cost = calculate_equipment_cost_action.calculate()\n",
    "            equipment_costs.append(equipment_cost)\n",
    "            \n",
    "        model.OBJ = pyo.Objective(expr = sum(equipment_costs), sense=pyo.minimize)\n",
    "        return model"
   ]
  },
  {
   "cell_type": "code",
   "execution_count": 13,
   "id": "285a274e-e18c-4534-bbfa-64d42a88b187",
   "metadata": {},
   "outputs": [],
   "source": [
    "class SolveAction():\n",
    "    def __init__(self, model, solver_name):\n",
    "        self.model = model\n",
    "        self.solver_name = solver_name\n",
    "\n",
    "    def solve(self):\n",
    "        solver_name = self.solver_name\n",
    "        model = self.model\n",
    "        \n",
    "        start_time = time.time()\n",
    "        solver = pyo.SolverFactory(solver_name)\n",
    "        instance = model.create_instance()\n",
    "        result = solver.solve(instance)\n",
    "        end_time = time.time()\n",
    "        duration = end_time - start_time\n",
    "        \n",
    "        #instance.A.display()\n",
    "        print('Calculation duration (sec):', duration)"
   ]
  },
  {
   "cell_type": "code",
   "execution_count": 14,
   "id": "e324d6e4-b295-4fb8-95e0-c82a5128e9b3",
   "metadata": {},
   "outputs": [],
   "source": [
    "class GeneratorT():\n",
    "    # min_value - минимальное число файлов, которые реализуют одно требование\n",
    "    # max_value - максимальное число файлов, которые реализуют одно требование\n",
    "    def __init__(self, n, m, min_value, max_value):\n",
    "        self.n = n\n",
    "        self.m = m\n",
    "        self.min_value = min_value\n",
    "        self.max_value = max_value\n",
    "\n",
    "    def generate(self):\n",
    "        n = self.n\n",
    "        m = self.m\n",
    "        get_traced_data = self.__get_traced_data\n",
    "\n",
    "        result = []\n",
    "        for _ in range(n):\n",
    "          data = get_traced_data()\n",
    "          count = data[0]\n",
    "          value = data[1]\n",
    "    \n",
    "          traced_list = np.zeros(m)\n",
    "          for i in range(m):\n",
    "            if i < count:\n",
    "              traced_list[i] = value\n",
    "          shuffle(traced_list)\n",
    "          result.append(traced_list)\n",
    "        return np.array(result)\n",
    "\n",
    "    def __get_traced_data(self):\n",
    "        min_value = self.min_value\n",
    "        max_value = self.max_value\n",
    "\n",
    "        count = 0\n",
    "        value = 0\n",
    "        while True:\n",
    "          count = randint(min_value, max_value)\n",
    "          value = 1 / count\n",
    "          if count * value == 1:\n",
    "            break\n",
    "        return (count, value)"
   ]
  },
  {
   "cell_type": "code",
   "execution_count": 15,
   "id": "1d9fa79b-7f12-47df-99b7-589e9d223119",
   "metadata": {},
   "outputs": [],
   "source": [
    "class GeneratorD():\n",
    "    # min_value - минимальное число файлов зависимостей\n",
    "    # max_value - максимальное число файлов зависимостей\n",
    "    def __init__(self, m, min_value, max_value):\n",
    "        self.m = m\n",
    "        self.min_value = min_value\n",
    "        self.max_value = max_value\n",
    "\n",
    "    def generate(self):\n",
    "        m = self.m\n",
    "        min_value = self.min_value\n",
    "        max_value = self.max_value\n",
    "\n",
    "        result = []\n",
    "        for _ in range(m):\n",
    "          count = randint(min_value, max_value)\n",
    "          dependencies = np.zeros(m)\n",
    "          for i in range(m):\n",
    "            if i < count:\n",
    "              dependencies[i] = 1\n",
    "          shuffle(dependencies)\n",
    "          result.append(dependencies)\n",
    "        return np.array(result)"
   ]
  },
  {
   "cell_type": "code",
   "execution_count": 16,
   "id": "cc8de451-eff9-4f26-a22c-d0a5ce360f38",
   "metadata": {},
   "outputs": [],
   "source": [
    "class GeneratorP():\n",
    "    # min_value - минимальное значение стоимости сопровождения единицы функционала\n",
    "    # max_value - максимальное значение стоимости сопровождения единицы функционала\n",
    "    def __init__(self, n, min_value, max_value):\n",
    "        self.n = n\n",
    "        self.min_value = min_value\n",
    "        self.max_value = max_value\n",
    "\n",
    "    def generate(self):\n",
    "        n = self.n\n",
    "        min_value = self.min_value\n",
    "        max_value = self.max_value\n",
    "    \n",
    "        result = [[randint(min_value, max_value) for i in range(n)] for j in range(n)]\n",
    "        return np.array(result)"
   ]
  },
  {
   "cell_type": "code",
   "execution_count": 17,
   "id": "f537d592-64c8-4e42-9c4b-93d66e76468a",
   "metadata": {},
   "outputs": [],
   "source": [
    "class GeneratorE():\n",
    "    # min_value - минимальное число полезных требований в комплектации\n",
    "    # max_value - максимальное число полезных требований в комплектации\n",
    "    def __init__(self, e, n, min_value, max_value):\n",
    "        self.e = e\n",
    "        self.n = n\n",
    "        self.min_value = min_value\n",
    "        self.max_value = max_value\n",
    "\n",
    "    def generate(self):\n",
    "        e = self.e\n",
    "        n = self.n\n",
    "        min_value = self.min_value\n",
    "        max_value = self.max_value\n",
    "\n",
    "        equipments = []\n",
    "        for equipment_number in range(e):\n",
    "          total_count = randint(min_value, max_value)\n",
    "          requirements = np.zeros(n)\n",
    "          current_count = 0\n",
    "          for i in range(n):\n",
    "            if i < total_count:\n",
    "              requirements[i] = 1\n",
    "          shuffle(requirements)\n",
    "          equipments.append(requirements)\n",
    "        return np.array(equipments)"
   ]
  },
  {
   "cell_type": "code",
   "execution_count": 18,
   "id": "87074820-9cb0-4f6d-bda0-44d5482e70a2",
   "metadata": {},
   "outputs": [],
   "source": [
    "M = 10 ** 6"
   ]
  },
  {
   "cell_type": "code",
   "execution_count": 19,
   "id": "3853206a-9ab5-48d8-b5c4-df5e2fb748b4",
   "metadata": {},
   "outputs": [],
   "source": [
    "e = 1\n",
    "n = 5\n",
    "m = 4\n",
    "k = 3"
   ]
  },
  {
   "cell_type": "code",
   "execution_count": 20,
   "id": "59ab4ac4-002a-4539-84a5-78adb385d033",
   "metadata": {},
   "outputs": [],
   "source": [
    "generator_t = GeneratorT(n, m, 1, 2)\n",
    "generator_d = GeneratorD(m, 0, 1)\n",
    "generator_p = GeneratorP(n, -5, 10)\n",
    "generator_e = GeneratorE(e, n, 1, 3)"
   ]
  },
  {
   "cell_type": "code",
   "execution_count": 21,
   "id": "1521e84a-0311-40a7-90b3-1c597c53f308",
   "metadata": {},
   "outputs": [],
   "source": [
    "T = generator_t.generate()"
   ]
  },
  {
   "cell_type": "code",
   "execution_count": 22,
   "id": "deee338e-8e6d-4ea7-8f90-69eb1331a53b",
   "metadata": {},
   "outputs": [],
   "source": [
    "D = generator_d.generate()"
   ]
  },
  {
   "cell_type": "code",
   "execution_count": 23,
   "id": "fd6fc34c-3782-4a06-94e8-7c48656ae06f",
   "metadata": {},
   "outputs": [],
   "source": [
    "P = generator_p.generate()"
   ]
  },
  {
   "cell_type": "code",
   "execution_count": 24,
   "id": "42de33d6-e68b-4e9b-8b5d-26cd707f9a69",
   "metadata": {},
   "outputs": [],
   "source": [
    "E = generator_e.generate()"
   ]
  },
  {
   "cell_type": "code",
   "execution_count": 25,
   "id": "238606ea-35d9-4d96-95ba-0cce93a6ae57",
   "metadata": {
    "scrolled": true
   },
   "outputs": [],
   "source": [
    "model_builder = ModelBuilder(M, k, T, D, P, E)\n",
    "model = model_builder.build()"
   ]
  },
  {
   "cell_type": "code",
   "execution_count": 26,
   "id": "78203392-e87e-4ff8-b793-2b73e72d22bf",
   "metadata": {},
   "outputs": [
    {
     "name": "stdout",
     "output_type": "stream",
     "text": [
      "Calculation duration (sec): 0.04950308799743652\n"
     ]
    }
   ],
   "source": [
    "with_glpk = SolveAction(model, 'glpk')\n",
    "with_glpk.solve()"
   ]
  },
  {
   "cell_type": "code",
   "execution_count": 27,
   "id": "800ef784-6ee2-4ec3-82f2-9313fb1a450e",
   "metadata": {},
   "outputs": [
    {
     "name": "stdout",
     "output_type": "stream",
     "text": [
      "Calculation duration (sec): 0.15387582778930664\n"
     ]
    }
   ],
   "source": [
    "with_gurobi = SolveAction(model, 'gurobi')\n",
    "with_gurobi.solve()"
   ]
  },
  {
   "cell_type": "code",
   "execution_count": 28,
   "id": "0501bac5-2efd-4f1d-a8fb-d7fddb471b3a",
   "metadata": {},
   "outputs": [
    {
     "name": "stdout",
     "output_type": "stream",
     "text": [
      "Calculation duration (sec): 0.06865310668945312\n"
     ]
    },
    {
     "name": "stderr",
     "output_type": "stream",
     "text": [
      "/Users/dambr/venv/lib/python3.12/site-packages/pyomo/solvers/plugins/solvers/xpress_direct.py:650: LicenseWarning: Using the Community license in this session. If you have a full Xpress license, pass the full path to your license file to xpress.init(). If you want to use the FICO Community license and no longer want to see this message, use the following code before using the xpress module:\n",
      "  xpress.init('/Users/dambr/venv/lib/python3.12/site-packages/xpress/license/community-xpauth.xpr')\n",
      "\n",
      "  self._solver_model = xpress.problem(name=model.name)\n"
     ]
    }
   ],
   "source": [
    "with_xpress = SolveAction(model, 'xpress')\n",
    "with_xpress.solve()"
   ]
  },
  {
   "cell_type": "code",
   "execution_count": 29,
   "id": "1a774878-544c-45c2-910b-1d13194905e8",
   "metadata": {},
   "outputs": [
    {
     "name": "stdout",
     "output_type": "stream",
     "text": [
      "Calculation duration (sec): 0.31570982933044434\n"
     ]
    }
   ],
   "source": [
    "with_gams = SolveAction(model, 'gams')\n",
    "with_gams.solve()"
   ]
  },
  {
   "cell_type": "code",
   "execution_count": 30,
   "id": "195fa721-a3fc-4ff2-9117-b01b995a0731",
   "metadata": {},
   "outputs": [
    {
     "name": "stdout",
     "output_type": "stream",
     "text": [
      "WARNING: Unused arguments in the bigM map! These arguments were not used by\n",
      "the transformation: None\n",
      "Calculation duration (sec): 0.05051708221435547\n"
     ]
    }
   ],
   "source": [
    "with_mpec_minlp = SolveAction(model, 'mpec_minlp')\n",
    "with_mpec_minlp.solve()"
   ]
  },
  {
   "cell_type": "code",
   "execution_count": 31,
   "id": "be2488ac-404e-40fb-8d92-2e76acb22d6d",
   "metadata": {},
   "outputs": [
    {
     "name": "stdout",
     "output_type": "stream",
     "text": [
      "Calculation duration (sec): 0.21007895469665527\n"
     ]
    }
   ],
   "source": [
    "with_gdpopt = SolveAction(model, 'gdpopt.enumerate')\n",
    "with_gdpopt.solve()"
   ]
  },
  {
   "cell_type": "code",
   "execution_count": 32,
   "id": "a4c8e11b-12f8-421e-bee2-18b8701c3526",
   "metadata": {},
   "outputs": [
    {
     "name": "stdout",
     "output_type": "stream",
     "text": [
      "Calculation duration (sec): 0.8743267059326172\n"
     ]
    }
   ],
   "source": [
    "with_mindtpy = SolveAction(model, 'mindtpy.ecp')\n",
    "with_mindtpy.solve()"
   ]
  }
 ],
 "metadata": {
  "kernelspec": {
   "display_name": "Python 3 (ipykernel)",
   "language": "python",
   "name": "python3"
  },
  "language_info": {
   "codemirror_mode": {
    "name": "ipython",
    "version": 3
   },
   "file_extension": ".py",
   "mimetype": "text/x-python",
   "name": "python",
   "nbconvert_exporter": "python",
   "pygments_lexer": "ipython3",
   "version": "3.12.1"
  }
 },
 "nbformat": 4,
 "nbformat_minor": 5
}
