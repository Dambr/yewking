{
 "cells": [
  {
   "cell_type": "code",
   "execution_count": 1,
   "id": "e9260c48-2c3f-4001-a039-168c2a2c7d6d",
   "metadata": {},
   "outputs": [],
   "source": [
    "import seaborn as sns\n",
    "import matplotlib.pyplot as plt\n",
    "import pandas as pd\n",
    "import numpy as np"
   ]
  },
  {
   "cell_type": "code",
   "execution_count": 2,
   "id": "1f1714a9-f3fa-440a-9645-7b868d4873a7",
   "metadata": {},
   "outputs": [],
   "source": [
    "import warnings\n",
    "warnings.filterwarnings(\"ignore\")"
   ]
  },
  {
   "cell_type": "code",
   "execution_count": 3,
   "id": "9f31fe5c-2af4-4f64-8275-0ab8002f6fc1",
   "metadata": {},
   "outputs": [],
   "source": [
    "from model_builder import ModelBuilder"
   ]
  },
  {
   "cell_type": "code",
   "execution_count": 4,
   "id": "7fb15dd5-ad2e-49b3-8e92-3aa948ade251",
   "metadata": {},
   "outputs": [],
   "source": [
    "import json"
   ]
  },
  {
   "cell_type": "code",
   "execution_count": 5,
   "id": "c430e549-e160-4f63-b8fd-ba594e48ecb6",
   "metadata": {},
   "outputs": [],
   "source": [
    "from var_table import VarTable"
   ]
  },
  {
   "cell_type": "code",
   "execution_count": 6,
   "id": "01f53d62-8daf-4722-826a-5d84f46d663a",
   "metadata": {},
   "outputs": [],
   "source": [
    "var_table = VarTable()"
   ]
  },
  {
   "cell_type": "code",
   "execution_count": 7,
   "id": "dea9c99a-148b-42f8-8fa1-f2a7103f4f49",
   "metadata": {},
   "outputs": [],
   "source": [
    "group_names = ['G0', 'G1', 'G2', 'G3', 'G4', 'G5']"
   ]
  },
  {
   "cell_type": "code",
   "execution_count": 8,
   "id": "12c59692-9b9f-4f1e-8c9d-d6ef5ae4a735",
   "metadata": {},
   "outputs": [],
   "source": [
    "experiment_number = 1"
   ]
  },
  {
   "cell_type": "code",
   "execution_count": 9,
   "id": "adeb304a-627d-439b-971f-db826cfecae4",
   "metadata": {},
   "outputs": [],
   "source": [
    "M = 10 ** 10\n",
    "k = 3"
   ]
  },
  {
   "cell_type": "code",
   "execution_count": 10,
   "id": "fc614ccd-a333-4433-aca2-03f96f6bac41",
   "metadata": {},
   "outputs": [],
   "source": [
    "config = {\n",
    "    'k': k\n",
    "}"
   ]
  },
  {
   "cell_type": "code",
   "execution_count": 11,
   "id": "03059b3f-da8e-41be-8e0e-9f582c718342",
   "metadata": {},
   "outputs": [],
   "source": [
    "solvers = ['glpk', 'cbc', 'mpec_minlp', 'ilogcp', 'random']"
   ]
  },
  {
   "cell_type": "code",
   "execution_count": 12,
   "id": "f0faffec-8f3c-43f6-a474-92574080239f",
   "metadata": {},
   "outputs": [],
   "source": [
    "fitnesses_dataset = {}\n",
    "durations_dataset = {}"
   ]
  },
  {
   "cell_type": "code",
   "execution_count": 13,
   "id": "a897fdcd-3442-4f29-96a2-4392f513dfdc",
   "metadata": {},
   "outputs": [],
   "source": [
    "# fitness\n",
    "for solver in solvers:\n",
    "    fitnesses_dataset[solver] = []"
   ]
  },
  {
   "cell_type": "code",
   "execution_count": 14,
   "id": "94d1e273-c70f-477c-a511-b52b9ea79af1",
   "metadata": {},
   "outputs": [],
   "source": [
    "# duration\n",
    "for solver in solvers[:-1]:\n",
    "    durations_dataset[solver] = []"
   ]
  },
  {
   "cell_type": "code",
   "execution_count": 15,
   "id": "b16c27af-5905-4eb0-ac3a-26366528a841",
   "metadata": {},
   "outputs": [],
   "source": [
    "fitnesses_dataset['variables'] = []\n",
    "fitnesses_dataset['constraints'] = []"
   ]
  },
  {
   "cell_type": "code",
   "execution_count": 16,
   "id": "9852cc94-d41e-4b68-8f65-1c5ec60e22d7",
   "metadata": {},
   "outputs": [],
   "source": [
    "def find_data_by_name(dataset, name):\n",
    "    for data in dataset:\n",
    "        data_name = data['name']\n",
    "        if data_name == name:\n",
    "            return data"
   ]
  },
  {
   "cell_type": "code",
   "execution_count": 17,
   "id": "80bd701a-93ef-47ef-9562-72e606084817",
   "metadata": {},
   "outputs": [],
   "source": [
    "def find_solution_by_config(solutions, config):\n",
    "    for solution in solutions:\n",
    "        solution_config = solution['config']\n",
    "        if solution_config == config:\n",
    "            return solution"
   ]
  },
  {
   "cell_type": "code",
   "execution_count": 18,
   "id": "29047af3-fc43-4f17-b2a6-09bb31e98eb3",
   "metadata": {},
   "outputs": [],
   "source": [
    "def draw_durations_polt(df):\n",
    "    plt.title('durations')\n",
    "    plt.xlabel('G')\n",
    "    plt.ylabel('duration, sec')\n",
    "    sns.lineplot(data=df)"
   ]
  },
  {
   "cell_type": "code",
   "execution_count": 19,
   "id": "23836c4d-69d7-40f7-b4c5-43641eb1c156",
   "metadata": {},
   "outputs": [],
   "source": [
    "def read_matrixes(group_name, experiment_number):\n",
    "        nested_directory = var_table.get_nested_directory(group_name, experiment_number)\n",
    "        T_file_path = '{}/T.csv'.format(nested_directory)\n",
    "        D_file_path = '{}/D.csv'.format(nested_directory)\n",
    "        sum_D_file_path = '{}/sum_D.csv'.format(nested_directory)\n",
    "        C_file_path = '{}/C.csv'.format(nested_directory)\n",
    "        E_file_path = '{}/E.csv'.format(nested_directory)\n",
    "        T_df = pd.read_csv(T_file_path, index_col=False, header=None)\n",
    "        D_df = pd.read_csv(D_file_path, index_col=False, header=None)\n",
    "        sum_D_df = pd.read_csv(sum_D_file_path, index_col=False, header=None)\n",
    "        C_df = pd.read_csv(C_file_path, index_col=False, header=None)\n",
    "        E_df = pd.read_csv(E_file_path, index_col=False, header=None)\n",
    "        T = T_df.to_numpy()\n",
    "        D = D_df.to_numpy()\n",
    "        sum_D = sum_D_df.to_numpy()\n",
    "        C = C_df.to_numpy()\n",
    "        E = E_df.to_numpy()\n",
    "        return T, sum_D, C, E"
   ]
  },
  {
   "cell_type": "code",
   "execution_count": 20,
   "id": "4cc5f751-7ae5-48a5-a7f8-52ba23bfa569",
   "metadata": {},
   "outputs": [],
   "source": [
    "# fitness\n",
    "for group_name in group_names:\n",
    "    nested_directory = var_table.get_nested_directory(group_name, experiment_number)\n",
    "    file_path = '{}/solutions.json'.format(nested_directory)\n",
    "    file = open(file_path, 'r')\n",
    "    content = file.read()\n",
    "    dataset = json.loads(content)\n",
    "    file.close()\n",
    "    for solver in solvers:\n",
    "        data = find_data_by_name(dataset, solver)\n",
    "        solutions = data['solutions']\n",
    "        solution = find_solution_by_config(solutions, config)\n",
    "        result = solution['result']\n",
    "        fitness = result['fitness']\n",
    "        fitnesses_dataset[solver].append(fitness)"
   ]
  },
  {
   "cell_type": "code",
   "execution_count": 21,
   "id": "9366d52d-ddf9-4787-ab43-b30c26cb52f0",
   "metadata": {},
   "outputs": [],
   "source": [
    "# duration\n",
    "for group_name in group_names:\n",
    "    nested_directory = var_table.get_nested_directory(group_name, experiment_number)\n",
    "    file_path = '{}/solutions.json'.format(nested_directory)\n",
    "    file = open(file_path, 'r')\n",
    "    content = file.read()\n",
    "    dataset = json.loads(content)\n",
    "    file.close()\n",
    "    for solver in solvers[:-1]:\n",
    "        data = find_data_by_name(dataset, solver)\n",
    "        solutions = data['solutions']\n",
    "        solution = find_solution_by_config(solutions, config)\n",
    "        result = solution['result']\n",
    "        duration = result['duration']\n",
    "        durations_dataset[solver].append(duration)"
   ]
  },
  {
   "cell_type": "code",
   "execution_count": 22,
   "id": "0ca2e925-3918-4efc-a066-828bf01f93f8",
   "metadata": {},
   "outputs": [],
   "source": [
    "for group_name in group_names:\n",
    "    T, sum_D, C, E = read_matrixes(group_name, experiment_number)\n",
    "    model_builder = ModelBuilder(M, k, T, sum_D, C, E)\n",
    "    model = model_builder.build()\n",
    "    A_count = len(model.A)\n",
    "    f_count = len(model.f)\n",
    "    variables_count = A_count + f_count\n",
    "    constraints_count = len(model.constraints)\n",
    "    fitnesses_dataset['variables'].append(variables_count)\n",
    "    fitnesses_dataset['constraints'].append(constraints_count)"
   ]
  },
  {
   "cell_type": "code",
   "execution_count": 23,
   "id": "2ca3a003-cfc8-41e6-8e56-83fb4ece87f9",
   "metadata": {},
   "outputs": [
    {
     "data": {
      "text/html": [
       "<div>\n",
       "<style scoped>\n",
       "    .dataframe tbody tr th:only-of-type {\n",
       "        vertical-align: middle;\n",
       "    }\n",
       "\n",
       "    .dataframe tbody tr th {\n",
       "        vertical-align: top;\n",
       "    }\n",
       "\n",
       "    .dataframe thead th {\n",
       "        text-align: right;\n",
       "    }\n",
       "</style>\n",
       "<table border=\"1\" class=\"dataframe\">\n",
       "  <thead>\n",
       "    <tr style=\"text-align: right;\">\n",
       "      <th></th>\n",
       "      <th>glpk</th>\n",
       "      <th>cbc</th>\n",
       "      <th>mpec_minlp</th>\n",
       "      <th>ilogcp</th>\n",
       "      <th>random</th>\n",
       "      <th>variables</th>\n",
       "      <th>constraints</th>\n",
       "    </tr>\n",
       "  </thead>\n",
       "  <tbody>\n",
       "    <tr>\n",
       "      <th>0</th>\n",
       "      <td>-19.0</td>\n",
       "      <td>-19.0</td>\n",
       "      <td>-19.0</td>\n",
       "      <td>-19.0</td>\n",
       "      <td>-19.0</td>\n",
       "      <td>69</td>\n",
       "      <td>126</td>\n",
       "    </tr>\n",
       "    <tr>\n",
       "      <th>1</th>\n",
       "      <td>-167.0</td>\n",
       "      <td>-185.0</td>\n",
       "      <td>-167.0</td>\n",
       "      <td>-310.0</td>\n",
       "      <td>-310.0</td>\n",
       "      <td>335</td>\n",
       "      <td>733</td>\n",
       "    </tr>\n",
       "    <tr>\n",
       "      <th>2</th>\n",
       "      <td>-466.0</td>\n",
       "      <td>-251.0</td>\n",
       "      <td>-466.0</td>\n",
       "      <td>-466.0</td>\n",
       "      <td>-466.0</td>\n",
       "      <td>1413</td>\n",
       "      <td>3015</td>\n",
       "    </tr>\n",
       "    <tr>\n",
       "      <th>3</th>\n",
       "      <td>-1956.0</td>\n",
       "      <td>-1613.0</td>\n",
       "      <td>-1956.0</td>\n",
       "      <td>-2068.0</td>\n",
       "      <td>-2068.0</td>\n",
       "      <td>5173</td>\n",
       "      <td>12763</td>\n",
       "    </tr>\n",
       "    <tr>\n",
       "      <th>4</th>\n",
       "      <td>-4501.0</td>\n",
       "      <td>-2674.0</td>\n",
       "      <td>-4501.0</td>\n",
       "      <td>-4878.0</td>\n",
       "      <td>-4878.0</td>\n",
       "      <td>6501</td>\n",
       "      <td>13831</td>\n",
       "    </tr>\n",
       "    <tr>\n",
       "      <th>5</th>\n",
       "      <td>-23179.0</td>\n",
       "      <td>-19554.0</td>\n",
       "      <td>-23179.0</td>\n",
       "      <td>-23395.0</td>\n",
       "      <td>-23395.0</td>\n",
       "      <td>15825</td>\n",
       "      <td>40380</td>\n",
       "    </tr>\n",
       "  </tbody>\n",
       "</table>\n",
       "</div>"
      ],
      "text/plain": [
       "      glpk      cbc  mpec_minlp   ilogcp   random  variables  constraints\n",
       "0    -19.0    -19.0       -19.0    -19.0    -19.0         69          126\n",
       "1   -167.0   -185.0      -167.0   -310.0   -310.0        335          733\n",
       "2   -466.0   -251.0      -466.0   -466.0   -466.0       1413         3015\n",
       "3  -1956.0  -1613.0     -1956.0  -2068.0  -2068.0       5173        12763\n",
       "4  -4501.0  -2674.0     -4501.0  -4878.0  -4878.0       6501        13831\n",
       "5 -23179.0 -19554.0    -23179.0 -23395.0 -23395.0      15825        40380"
      ]
     },
     "execution_count": 23,
     "metadata": {},
     "output_type": "execute_result"
    }
   ],
   "source": [
    "fitnesses_df = pd.DataFrame(fitnesses_dataset)\n",
    "fitnesses_df"
   ]
  },
  {
   "cell_type": "code",
   "execution_count": 24,
   "id": "ef143c66-88a5-44a0-969d-fd25e2ae662f",
   "metadata": {},
   "outputs": [
    {
     "data": {
      "image/png": "[encoded data removed]",
      "text/plain": [
       "<Figure size 640x480 with 1 Axes>"
      ]
     },
     "metadata": {},
     "output_type": "display_data"
    }
   ],
   "source": [
    "durations_df = pd.DataFrame(durations_dataset)\n",
    "draw_durations_polt(durations_df)"
   ]
  },
  {
   "cell_type": "markdown",
   "id": "bdce21e9-2b81-47e9-8d51-f761c954eaa9",
   "metadata": {},
   "source": [
    "### Выводы:\n",
    "1. ilogcp находит решение неотличающееся от рандомного\n",
    "2. cbc (COIN-OR Branch-and-Cut solver) фаворит: лучшее решение за меньшее время"
   ]
  },
  {
   "cell_type": "code",
   "execution_count": null,
   "id": "7e4155f0-cb79-4301-8039-cd4649927625",
   "metadata": {},
   "outputs": [],
   "source": []
  }
 ],
 "metadata": {
  "kernelspec": {
   "display_name": "Python 3 (ipykernel)",
   "language": "python",
   "name": "python3"
  },
  "language_info": {
   "codemirror_mode": {
    "name": "ipython",
    "version": 3
   },
   "file_extension": ".py",
   "mimetype": "text/x-python",
   "name": "python",
   "nbconvert_exporter": "python",
   "pygments_lexer": "ipython3",
   "version": "3.12.1"
  }
 },
 "nbformat": 4,
 "nbformat_minor": 5
}
