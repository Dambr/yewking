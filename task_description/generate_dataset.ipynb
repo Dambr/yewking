{
 "cells": [
  {
   "cell_type": "code",
   "execution_count": 1,
   "id": "583cec7e-dad7-48ff-90c0-5bffc9eced1e",
   "metadata": {},
   "outputs": [],
   "source": [
    "import os\n",
    "import numpy as np\n",
    "import pandas as pd"
   ]
  },
  {
   "cell_type": "code",
   "execution_count": 2,
   "id": "9413ca6d-3389-4092-b611-a975fa442e4f",
   "metadata": {},
   "outputs": [],
   "source": [
    "from var_table import VarTable"
   ]
  },
  {
   "cell_type": "code",
   "execution_count": 3,
   "id": "a9f02aa6-4311-490e-80f5-3fa19d40f3ac",
   "metadata": {},
   "outputs": [],
   "source": [
    "from generator_e import GeneratorE\n",
    "from generator_t import GeneratorT\n",
    "from generator_d import GeneratorD\n",
    "from generator_c import GeneratorC"
   ]
  },
  {
   "cell_type": "code",
   "execution_count": 4,
   "id": "181ae35a-6ab0-4bb3-b4e0-bc33522b65c8",
   "metadata": {},
   "outputs": [],
   "source": [
    "from ipywidgets import IntProgress\n",
    "from IPython.display import display"
   ]
  },
  {
   "cell_type": "code",
   "execution_count": 5,
   "id": "3e936591-297a-44bc-83e7-1c6c4c6bd2fd",
   "metadata": {},
   "outputs": [],
   "source": [
    "var_table = VarTable()"
   ]
  },
  {
   "cell_type": "code",
   "execution_count": 6,
   "id": "4e596805-7dd1-41d1-8914-1b389614eae6",
   "metadata": {},
   "outputs": [],
   "source": [
    "def save_matrixes(group_name, experiment_number):\n",
    "    k = var_table.generate_k(group_name)\n",
    "    l = var_table.generate_l(group_name)\n",
    "    m = var_table.generate_m(group_name)\n",
    "    n = var_table.generate_n(group_name)\n",
    "\n",
    "    generator_T = GeneratorT(n, m, 1, 2)\n",
    "    generator_D = GeneratorD(m, 0, m)\n",
    "    generator_C = GeneratorC(n, 1, 1)\n",
    "    generator_E = GeneratorE(l, n, 1, n)\n",
    "\n",
    "    T = generator_T.generate()\n",
    "    D = generator_D.generate()\n",
    "    C = generator_C.generate()\n",
    "    E = generator_E.generate()\n",
    "\n",
    "    T_df = pd.DataFrame(T)\n",
    "    D_df = pd.DataFrame(D)\n",
    "    C_df = pd.DataFrame(C)\n",
    "    E_df = pd.DataFrame(E)\n",
    "\n",
    "    nested_directory = var_table.get_nested_directory(group_name, experiment_number)\n",
    "    T_file_path = '{}/T.csv'.format(nested_directory)\n",
    "    D_file_path = '{}/D.csv'.format(nested_directory)\n",
    "    C_file_path = '{}/C.csv'.format(nested_directory)\n",
    "    E_file_path = '{}/E.csv'.format(nested_directory)\n",
    "\n",
    "    T_df.to_csv(T_file_path, index=False, header=False)\n",
    "    D_df.to_csv(D_file_path, index=False, header=False)\n",
    "    C_df.to_csv(C_file_path, index=False, header=False)\n",
    "    E_df.to_csv(E_file_path, index=False, header=False)"
   ]
  },
  {
   "cell_type": "code",
   "execution_count": 7,
   "id": "c4de5554-efb4-43a4-a3b9-ae8ea0670e1c",
   "metadata": {},
   "outputs": [],
   "source": [
    "def create_json(group_name, experiment_number):\n",
    "    nested_directory = var_table.get_nested_directory(group_name, experiment_number)\n",
    "    file_path = '{}/solutions.json'.format(nested_directory)\n",
    "    file = open(file_path, 'w')\n",
    "    file.write('[]')\n",
    "    file.close()"
   ]
  },
  {
   "cell_type": "code",
   "execution_count": 8,
   "id": "ec7caa21-b526-4aad-8660-24c279b07c67",
   "metadata": {},
   "outputs": [],
   "source": [
    "group_name = 'G1'\n",
    "experiments_count = 100"
   ]
  },
  {
   "cell_type": "code",
   "execution_count": 9,
   "id": "77522194-baee-4ff3-9ded-5254daad8849",
   "metadata": {},
   "outputs": [
    {
     "data": {
      "application/vnd.jupyter.widget-view+json": {
       "model_id": "d4f38057aa3f48a8a4e0bd161324b086",
       "version_major": 2,
       "version_minor": 0
      },
      "text/plain": [
       "IntProgress(value=0, bar_style='success', description='G1')"
      ]
     },
     "metadata": {},
     "output_type": "display_data"
    }
   ],
   "source": [
    "progress = IntProgress(min=0, max=experiments_count, value=0, description=group_name, bar_style='success')\n",
    "display(progress)\n",
    "for i in range(1, experiments_count + 1):\n",
    "    nested_directory = var_table.get_nested_directory(group_name, i)\n",
    "    try:\n",
    "        os.makedirs(nested_directory)\n",
    "    except Exception as e:\n",
    "        pass\n",
    "    exists = os.path.exists(nested_directory)\n",
    "    if not exists:\n",
    "        print('{} not exists'.format(nested_directory))\n",
    "    save_matrixes(group_name, i)\n",
    "    create_json(group_name, i)\n",
    "    progress.value += 1"
   ]
  },
  {
   "cell_type": "code",
   "execution_count": null,
   "id": "49d55ab5-8300-4e2f-ae0c-40c98b45ff8a",
   "metadata": {},
   "outputs": [],
   "source": []
  }
 ],
 "metadata": {
  "kernelspec": {
   "display_name": "Python 3 (ipykernel)",
   "language": "python",
   "name": "python3"
  },
  "language_info": {
   "codemirror_mode": {
    "name": "ipython",
    "version": 3
   },
   "file_extension": ".py",
   "mimetype": "text/x-python",
   "name": "python",
   "nbconvert_exporter": "python",
   "pygments_lexer": "ipython3",
   "version": "3.12.1"
  }
 },
 "nbformat": 4,
 "nbformat_minor": 5
}
