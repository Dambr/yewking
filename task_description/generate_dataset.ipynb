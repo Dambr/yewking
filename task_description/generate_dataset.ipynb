{
 "cells": [
  {
   "cell_type": "code",
   "execution_count": 1,
   "id": "583cec7e-dad7-48ff-90c0-5bffc9eced1e",
   "metadata": {},
   "outputs": [],
   "source": [
    "import os\n",
    "import numpy as np\n",
    "import pandas as pd\n",
    "from random import randint"
   ]
  },
  {
   "cell_type": "code",
   "execution_count": 2,
   "id": "a9f02aa6-4311-490e-80f5-3fa19d40f3ac",
   "metadata": {},
   "outputs": [],
   "source": [
    "from generator_e import GeneratorE\n",
    "from generator_t import GeneratorT\n",
    "from generator_d import GeneratorD\n",
    "from generator_c import GeneratorC"
   ]
  },
  {
   "cell_type": "code",
   "execution_count": 3,
   "id": "181ae35a-6ab0-4bb3-b4e0-bc33522b65c8",
   "metadata": {},
   "outputs": [],
   "source": [
    "from ipywidgets import IntProgress\n",
    "from IPython.display import display"
   ]
  },
  {
   "cell_type": "code",
   "execution_count": null,
   "id": "ec7caa21-b526-4aad-8660-24c279b07c67",
   "metadata": {},
   "outputs": [],
   "source": [
    "experiments_count = 100"
   ]
  },
  {
   "cell_type": "code",
   "execution_count": 5,
   "id": "3e936591-297a-44bc-83e7-1c6c4c6bd2fd",
   "metadata": {},
   "outputs": [],
   "source": [
    "K_min = 'K_min'\n",
    "K_max = 'K_max'\n",
    "L_min = 'L_min'\n",
    "L_max = 'L_max'\n",
    "M_min = 'M_min'\n",
    "M_max = 'M_max'\n",
    "N_min = 'N_min'\n",
    "N_max = 'N_max'"
   ]
  },
  {
   "cell_type": "code",
   "execution_count": 6,
   "id": "7ca32067-678d-4eb8-aa1a-7c008ba028f7",
   "metadata": {},
   "outputs": [],
   "source": [
    "columns  = [K_min, K_max, L_min, L_max, M_min, M_max, N_min, N_max]\n",
    "data = {\n",
    "    'G0' : [    2,     2,     1,     1,     2,    10,     2,    10],\n",
    "    'G1' : [    2,     2,     1,     2,    10,   100,    10,    20],\n",
    "    'G2' : [    2,     3,     1,     3,   100,   300,    20,    30],\n",
    "    # 'G3' : [    2,     4,     1,     4,   300,   500,    30,    50],\n",
    "    # 'G4' : [    3,     5,     2,     5,   500,   800,    50,    80],\n",
    "    # 'G5' : [    3,     6,     3,     6,   800,  1000,    80,   100],\n",
    "    # 'G6' : [    4,     7,     4,     7,  1000,  3000,   100,   300],\n",
    "    # 'G7' : [    5,     8,     5,     8,  3000,  5000,   300,   500],\n",
    "    # 'G8' : [    6,     9,     6,     9,  5000,  8000,   500,   800],\n",
    "    # 'G9' : [    7,    10,     7,    10,  8000, 10000,   800,  1000]\n",
    "}"
   ]
  },
  {
   "cell_type": "code",
   "execution_count": 7,
   "id": "f65afa3e-8c2a-46d5-aa5f-ac7760b67258",
   "metadata": {},
   "outputs": [],
   "source": [
    "df = pd.DataFrame.from_dict(data, orient='index', columns=columns)"
   ]
  },
  {
   "cell_type": "code",
   "execution_count": 8,
   "id": "95d04d10-b074-4adf-83f4-bb570eec87fd",
   "metadata": {},
   "outputs": [],
   "source": [
    "def get_nested_directory(group_name, experiment_number):\n",
    "    nested_directory = 'groups/{}/{}'.format(group_name, experiment_number)\n",
    "    return nested_directory"
   ]
  },
  {
   "cell_type": "code",
   "execution_count": 9,
   "id": "8e261c26-238e-4e29-a4ce-cb48629bb09e",
   "metadata": {},
   "outputs": [],
   "source": [
    "def generate_k(group_name):\n",
    "    k_min = df[K_min][group_name]\n",
    "    k_max = df[K_max][group_name]\n",
    "    result = randint(k_min, k_max)\n",
    "    return result"
   ]
  },
  {
   "cell_type": "code",
   "execution_count": 10,
   "id": "c03b39c8-8849-4196-aed5-433c6146703b",
   "metadata": {},
   "outputs": [],
   "source": [
    "def generate_l(group_name):\n",
    "    l_min = df[L_min][group_name]\n",
    "    l_max = df[L_max][group_name]\n",
    "    result = randint(l_min, l_max)\n",
    "    return result"
   ]
  },
  {
   "cell_type": "code",
   "execution_count": 11,
   "id": "c02c6f08-ef34-41af-80dc-e64155bdd351",
   "metadata": {},
   "outputs": [],
   "source": [
    "def generate_m(group_name):\n",
    "    m_min = df[M_min][group_name]\n",
    "    m_max = df[M_max][group_name]\n",
    "    result = randint(m_min, m_max)\n",
    "    return result"
   ]
  },
  {
   "cell_type": "code",
   "execution_count": 12,
   "id": "b9c9b18e-6aa4-48b7-9ebd-cdc6b5eac5cb",
   "metadata": {},
   "outputs": [],
   "source": [
    "def generate_n(group_name):\n",
    "    n_min = df[N_min][group_name]\n",
    "    n_max = df[N_max][group_name]\n",
    "    result = randint(n_min, n_max)\n",
    "    return result"
   ]
  },
  {
   "cell_type": "code",
   "execution_count": 13,
   "id": "4671a0b0-8812-42f9-aeae-59d8ad4b4006",
   "metadata": {},
   "outputs": [],
   "source": [
    "def generate_matrixes(k, l, m, n):\n",
    "    generator_T = GeneratorT(n, m, 1, m)\n",
    "    generator_D = GeneratorD(m, 0, m)\n",
    "    generator_C = GeneratorC(n, 1, 1)\n",
    "    generator_E = GeneratorE(l, n, 1, n)\n",
    "\n",
    "    T = generator_T.generate()\n",
    "    D = generator_D.generate()\n",
    "    C = generator_C.generate()\n",
    "    E = generator_E.generate()\n",
    "    return T, D, C, E"
   ]
  },
  {
   "cell_type": "code",
   "execution_count": 14,
   "id": "4e596805-7dd1-41d1-8914-1b389614eae6",
   "metadata": {},
   "outputs": [],
   "source": [
    "def save_matrixes(group_name, experiment_number):\n",
    "    k = generate_k(group_name)\n",
    "    l = generate_l(group_name)\n",
    "    m = generate_m(group_name)\n",
    "    n = generate_n(group_name)\n",
    "\n",
    "    generator_T = GeneratorT(n, m, 1, 2)\n",
    "    generator_D = GeneratorD(m, 0, m)\n",
    "    generator_C = GeneratorC(n, 1, 1)\n",
    "    generator_E = GeneratorE(l, n, 1, n)\n",
    "\n",
    "    T = generator_T.generate()\n",
    "    D = generator_D.generate()\n",
    "    C = generator_C.generate()\n",
    "    E = generator_E.generate()\n",
    "\n",
    "    T_df = pd.DataFrame(T)\n",
    "    D_df = pd.DataFrame(D)\n",
    "    C_df = pd.DataFrame(C)\n",
    "    E_df = pd.DataFrame(E)\n",
    "\n",
    "    nested_directory = get_nested_directory(group_name, experiment_number)\n",
    "    T_file_path = '{}/T.csv'.format(nested_directory)\n",
    "    D_file_path = '{}/D.csv'.format(nested_directory)\n",
    "    C_file_path = '{}/C.csv'.format(nested_directory)\n",
    "    E_file_path = '{}/E.csv'.format(nested_directory)\n",
    "\n",
    "    T_df.to_csv(T_file_path, index=False, header=False)\n",
    "    D_df.to_csv(D_file_path, index=False, header=False)\n",
    "    C_df.to_csv(C_file_path, index=False, header=False)\n",
    "    E_df.to_csv(E_file_path, index=False, header=False)"
   ]
  },
  {
   "cell_type": "code",
   "execution_count": 15,
   "id": "77522194-baee-4ff3-9ded-5254daad8849",
   "metadata": {},
   "outputs": [
    {
     "data": {
      "application/vnd.jupyter.widget-view+json": {
       "model_id": "8ec6a7c3e62b493cbdc3782e50a5280d",
       "version_major": 2,
       "version_minor": 0
      },
      "text/plain": [
       "IntProgress(value=0, bar_style='success', description='G0')"
      ]
     },
     "metadata": {},
     "output_type": "display_data"
    },
    {
     "data": {
      "application/vnd.jupyter.widget-view+json": {
       "model_id": "aab7e564f7c34bc5be3976f11fb892e1",
       "version_major": 2,
       "version_minor": 0
      },
      "text/plain": [
       "IntProgress(value=0, bar_style='success', description='G1')"
      ]
     },
     "metadata": {},
     "output_type": "display_data"
    },
    {
     "data": {
      "application/vnd.jupyter.widget-view+json": {
       "model_id": "ccd4c22eead746ef9652f3caca2505de",
       "version_major": 2,
       "version_minor": 0
      },
      "text/plain": [
       "IntProgress(value=0, bar_style='success', description='G2')"
      ]
     },
     "metadata": {},
     "output_type": "display_data"
    }
   ],
   "source": [
    "for group_name in data:\n",
    "    progress = IntProgress(min=0, max=experiments_count, value=0, description=group_name, bar_style='success')\n",
    "    display(progress)\n",
    "    for i in range(1, experiments_count + 1):\n",
    "        nested_directory = get_nested_directory(group_name, i)\n",
    "        try:\n",
    "            os.makedirs(nested_directory)\n",
    "        except Exception as e:\n",
    "            pass\n",
    "        exists = os.path.exists(nested_directory)\n",
    "        if not exists:\n",
    "            print('{} not exists'.format(nested_directory))\n",
    "        save_matrixes(group_name, i)\n",
    "        progress.value += 1"
   ]
  },
  {
   "cell_type": "code",
   "execution_count": null,
   "id": "49d55ab5-8300-4e2f-ae0c-40c98b45ff8a",
   "metadata": {},
   "outputs": [],
   "source": []
  }
 ],
 "metadata": {
  "kernelspec": {
   "display_name": "Python 3 (ipykernel)",
   "language": "python",
   "name": "python3"
  },
  "language_info": {
   "codemirror_mode": {
    "name": "ipython",
    "version": 3
   },
   "file_extension": ".py",
   "mimetype": "text/x-python",
   "name": "python",
   "nbconvert_exporter": "python",
   "pygments_lexer": "ipython3",
   "version": "3.12.1"
  }
 },
 "nbformat": 4,
 "nbformat_minor": 5
}
