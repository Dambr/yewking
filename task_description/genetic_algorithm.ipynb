{
 "cells": [
  {
   "cell_type": "code",
   "execution_count": 1,
   "id": "31310ab2-0a61-44e3-aca5-c8f52bffc79c",
   "metadata": {},
   "outputs": [],
   "source": [
    "import pygad\n",
    "import numpy as np"
   ]
  },
  {
   "cell_type": "code",
   "execution_count": 2,
   "id": "cd75bd7d-26be-4b45-bf2f-a8f4bb107453",
   "metadata": {},
   "outputs": [],
   "source": [
    "from ipywidgets import IntProgress\n",
    "from IPython.display import display"
   ]
  },
  {
   "cell_type": "code",
   "execution_count": 3,
   "id": "5592ab4d-e246-4e58-ab81-c8f573f5db57",
   "metadata": {},
   "outputs": [],
   "source": [
    "from cost_calculator_factory import CostCalculatorFactory\n",
    "from multibinary_converter import MultiBinaryConverter\n",
    "from multidiscrete_converter import MultiDiscreteConverter\n",
    "from fitness_calculator import FitnessCalculator"
   ]
  },
  {
   "cell_type": "code",
   "execution_count": 4,
   "id": "9be508b7-ca1a-4b45-8ef8-ce05c10af92c",
   "metadata": {},
   "outputs": [],
   "source": [
    "l = 1\n",
    "n = 5\n",
    "m = 4\n",
    "k = 3"
   ]
  },
  {
   "cell_type": "code",
   "execution_count": 5,
   "id": "a5f512f0-e27a-4ce5-a349-7f6d356b180f",
   "metadata": {},
   "outputs": [],
   "source": [
    "M = 10 ** 6"
   ]
  },
  {
   "cell_type": "code",
   "execution_count": 6,
   "id": "6982af3c-541f-427d-acb1-8232067bee55",
   "metadata": {},
   "outputs": [],
   "source": [
    "T = np.array([\n",
    "    [  1,   0,   0,   0],\n",
    "    [0.5, 0.5,   0,   0],\n",
    "    [  0, 0.5, 0.5,   0],\n",
    "    [  0,   0, 0.5, 0.5],\n",
    "    [  0,   0,   0,   1]\n",
    "])"
   ]
  },
  {
   "cell_type": "code",
   "execution_count": 7,
   "id": "b04329b8-6ad0-4689-9cdf-6e46924c3faa",
   "metadata": {},
   "outputs": [],
   "source": [
    "D = np.array([\n",
    "    [0, 0, 1, 0],\n",
    "    [0, 0, 1, 1],\n",
    "    [0, 0, 0, 0],\n",
    "    [0, 0, 0, 0]\n",
    "])"
   ]
  },
  {
   "cell_type": "code",
   "execution_count": 8,
   "id": "ce449c55-f83f-4620-8a0e-c99b1e1a29d9",
   "metadata": {},
   "outputs": [],
   "source": [
    "C = np.array([\n",
    "    [1, 1, 1, 1, 1],\n",
    "    [1, 1, 1, 1, 1],\n",
    "    [1, 1, 1, 1, 1],\n",
    "    [1, 1, 1, 1, 1],\n",
    "    [1, 1, 1, 1, 1]\n",
    "])"
   ]
  },
  {
   "cell_type": "code",
   "execution_count": 9,
   "id": "8c18b336-c6d8-47ee-ab23-b08804cc548a",
   "metadata": {},
   "outputs": [],
   "source": [
    "E = np.array([\n",
    "    [1, 0, 0, 0, 0]\n",
    "])"
   ]
  },
  {
   "cell_type": "code",
   "execution_count": 10,
   "id": "996a6774-e85a-46b2-b08a-770567bf0016",
   "metadata": {},
   "outputs": [],
   "source": [
    "num_generations = 2000\n",
    "\n",
    "sol_per_pop = 4\n",
    "num_parents_mating = 2\n",
    "\n",
    "parent_selection_type = \"sss\" # sss, rws, sus, rank, random, tournament\n",
    "\n",
    "keep_parents = 1\n",
    "\n",
    "crossover_type = \"scattered\" # single_point, two_points, uniform, scattered\n",
    "\n",
    "mutation_type = \"scramble\" # random - не использовать, swap, inversion, scramble, adaptive\n",
    "\n",
    "mutation_percent_genes = 10\n",
    "\n"
   ]
  },
  {
   "cell_type": "code",
   "execution_count": 11,
   "id": "6aed7099-4661-4f14-ab82-319f04f7fff3",
   "metadata": {},
   "outputs": [],
   "source": [
    "class BinaryConfig:\n",
    "    def __init__(self, m, k):\n",
    "        self.min_value = 0\n",
    "        self.max_value = 1\n",
    "\n",
    "        self.num_genes = m * k"
   ]
  },
  {
   "cell_type": "code",
   "execution_count": 12,
   "id": "1a6ffe80-8a43-45d5-81d3-4b00904b4c34",
   "metadata": {},
   "outputs": [],
   "source": [
    "class DiscreteConfig:\n",
    "    def __init__(self, m, k):\n",
    "        self.min_value = 0\n",
    "        self.max_value = k - 1\n",
    "\n",
    "        self.num_genes = m"
   ]
  },
  {
   "cell_type": "code",
   "execution_count": 13,
   "id": "ff6d077b-14c1-4f2d-ae45-807d71580dd3",
   "metadata": {},
   "outputs": [],
   "source": [
    "class Genetic:\n",
    "    def __init__(self, config, fitness_calculator):\n",
    "        self.config = config\n",
    "        self.fitness_calculator = fitness_calculator\n",
    "\n",
    "    def solve(self):\n",
    "        \n",
    "        self.ga_instance = pygad.GA(num_generations=num_generations,\n",
    "                       num_parents_mating=num_parents_mating,\n",
    "                       fitness_func=self.fitness_func,\n",
    "                       sol_per_pop=sol_per_pop,\n",
    "                       num_genes=self.config.num_genes,\n",
    "                       init_range_low=self.config.min_value,\n",
    "                       init_range_high=self.config.max_value + 1,\n",
    "                       random_mutation_min_val=self.config.min_value,\n",
    "                       random_mutation_max_val=self.config.max_value,\n",
    "                       parent_selection_type=parent_selection_type,\n",
    "                       keep_parents=keep_parents,\n",
    "                       crossover_type=crossover_type,\n",
    "                       mutation_type=mutation_type,\n",
    "                       mutation_percent_genes=mutation_percent_genes,\n",
    "                       on_start=self.on_start,\n",
    "                       on_fitness=self.on_fitness,\n",
    "                       on_parents=self.on_parents,\n",
    "                       on_crossover=self.on_crossover,\n",
    "                       on_mutation=self.on_mutation,\n",
    "                       on_generation=self.on_generation,\n",
    "                       on_stop=self.on_stop,\n",
    "                       gene_type=int\n",
    "        )\n",
    "        self.progress = IntProgress(min=0, max=num_generations, value=0, description='genetic', bar_style='success')\n",
    "        display(self.progress)\n",
    "        self.ga_instance.run()\n",
    "        best_solution = self.ga_instance.best_solution()\n",
    "        return best_solution\n",
    "\n",
    "    def on_start(self, ga_instance):\n",
    "        pass\n",
    "\n",
    "    def on_fitness(self, ga_instance, fitnesses):\n",
    "        pass\n",
    "\n",
    "    def on_parents(self, ga_instance, parents):\n",
    "        pass\n",
    "\n",
    "    def on_crossover(self, ga_instance, offspring):\n",
    "        pass\n",
    "\n",
    "    def on_mutation(self, ga_instance, offspring):\n",
    "        pass\n",
    "\n",
    "    def on_generation(self, ga_instance):\n",
    "        self.progress.value += 1\n",
    "\n",
    "    def on_stop(self, ga_instance, fitnesses):\n",
    "        pass\n",
    "\n",
    "    def fitness_func(self, ga_instance, solution, solution_idx):\n",
    "        fitness = self.fitness_calculator.calculate(solution)\n",
    "        return fitness\n",
    "\n",
    "    def plot_fitness(self):\n",
    "        self.ga_instance.plot_fitness()"
   ]
  },
  {
   "cell_type": "code",
   "execution_count": 14,
   "id": "49b2ea83-8a6e-4dbe-a1e6-ce7e61c5f3f9",
   "metadata": {},
   "outputs": [],
   "source": [
    "def show_result(genetic, cost_calculator_factory, converter):\n",
    "    solution, solution_fitness, solution_idx = genetic.solve() # ga_instance.best_solution()\n",
    "    print('Лучшее решение')\n",
    "    A = converter.convert(solution)\n",
    "    print(A)\n",
    "    print('Значение функции пригодности', solution_fitness)\n",
    "    cost_calculator = cost_calculator_factory.get_cost_calculator(A)\n",
    "    cost = cost_calculator.calculate()\n",
    "    print('Стоимость', cost)\n",
    "    genetic.plot_fitness()"
   ]
  },
  {
   "cell_type": "code",
   "execution_count": 15,
   "id": "e82abd60-3edd-49d7-a856-ca5bea9c2665",
   "metadata": {},
   "outputs": [],
   "source": [
    "cost_calculator_factory = CostCalculatorFactory(T, D, C, E)"
   ]
  },
  {
   "cell_type": "code",
   "execution_count": 16,
   "id": "ccbde410-bb1b-45b5-96ad-b71377aabd49",
   "metadata": {},
   "outputs": [],
   "source": [
    "# MultiBinary"
   ]
  },
  {
   "cell_type": "code",
   "execution_count": 17,
   "id": "47ee8059-b4ad-45e1-9031-42bb0673a797",
   "metadata": {},
   "outputs": [],
   "source": [
    "multibinary_converter = MultiBinaryConverter(m, k)\n",
    "multibinary_fitness_calculator = FitnessCalculator(cost_calculator_factory, multibinary_converter)"
   ]
  },
  {
   "cell_type": "code",
   "execution_count": 18,
   "id": "85e0280f-ee00-438a-b993-dc850c4ec1ea",
   "metadata": {},
   "outputs": [],
   "source": [
    "multibinary_config = BinaryConfig(m, k)"
   ]
  },
  {
   "cell_type": "code",
   "execution_count": 19,
   "id": "a972dd06-98cd-4a03-a4f0-17bfff743209",
   "metadata": {},
   "outputs": [],
   "source": [
    "multibinary_genetic = Genetic(multibinary_config, multibinary_fitness_calculator)"
   ]
  },
  {
   "cell_type": "code",
   "execution_count": 20,
   "id": "32fce24c-379a-48d6-8e02-520b669b73b2",
   "metadata": {},
   "outputs": [],
   "source": [
    "# MultiDiscrete"
   ]
  },
  {
   "cell_type": "code",
   "execution_count": 21,
   "id": "9853a3df-c6b1-4c9f-b871-ece5e4dc0a96",
   "metadata": {},
   "outputs": [],
   "source": [
    "multidiscrete_converter = MultiDiscreteConverter(m, k)\n",
    "multidiscrete_fitness_calculator = FitnessCalculator(cost_calculator_factory, multidiscrete_converter)"
   ]
  },
  {
   "cell_type": "code",
   "execution_count": 22,
   "id": "10922c46-b8ad-4809-9f36-d899b90bbcb4",
   "metadata": {},
   "outputs": [],
   "source": [
    "multidiscrete_config = DiscreteConfig(m, k)"
   ]
  },
  {
   "cell_type": "code",
   "execution_count": 23,
   "id": "cdb0eb45-97f1-4ce2-9f74-2d2a5c56122e",
   "metadata": {},
   "outputs": [],
   "source": [
    "multidiscrete_genetic = Genetic(multidiscrete_config, multidiscrete_fitness_calculator)"
   ]
  },
  {
   "cell_type": "code",
   "execution_count": null,
   "id": "d1ea5aab-fd26-4869-8c83-bdf963997c73",
   "metadata": {},
   "outputs": [],
   "source": []
  },
  {
   "cell_type": "code",
   "execution_count": null,
   "id": "b9b4af95-7938-41f9-87c4-e34f05e8dea5",
   "metadata": {},
   "outputs": [],
   "source": []
  },
  {
   "cell_type": "code",
   "execution_count": 24,
   "id": "4dd92bf9-7e03-4cee-8f39-0ed27b32f873",
   "metadata": {},
   "outputs": [
    {
     "name": "stderr",
     "output_type": "stream",
     "text": [
      "C:\\Users\\1\\AppData\\Local\\Programs\\Python\\Python312\\Lib\\site-packages\\pygad\\pygad.py:1139: UserWarning: The 'delay_after_gen' parameter is deprecated starting from PyGAD 3.3.0. To delay or pause the evolution after each generation, assign a callback function/method to the 'on_generation' parameter to adds some time delay.\n",
      "  warnings.warn(\"The 'delay_after_gen' parameter is deprecated starting from PyGAD 3.3.0. To delay or pause the evolution after each generation, assign a callback function/method to the 'on_generation' parameter to adds some time delay.\")\n"
     ]
    },
    {
     "data": {
      "application/vnd.jupyter.widget-view+json": {
       "model_id": "990652e965c94d7eab9f50ec8f859057",
       "version_major": 2,
       "version_minor": 0
      },
      "text/plain": [
       "IntProgress(value=0, bar_style='success', description='genetic', max=2000)"
      ]
     },
     "metadata": {},
     "output_type": "display_data"
    },
    {
     "name": "stdout",
     "output_type": "stream",
     "text": [
      "Лучшее решение\n",
      "[[0 1 0]\n",
      " [0 0 1]\n",
      " [0 1 0]\n",
      " [1 0 0]]\n",
      "Значение функции пригодности 1.0\n",
      "Стоимость 1\n"
     ]
    },
    {
     "name": "stderr",
     "output_type": "stream",
     "text": [
      "C:\\Users\\1\\AppData\\Local\\Programs\\Python\\Python312\\Lib\\site-packages\\pygad\\visualize\\plot.py:109: UserWarning: No artists with labels found to put in legend.  Note that artists whose label start with an underscore are ignored when legend() is called with no argument.\n",
      "  matplotlib.pyplot.legend()\n"
     ]
    },
    {
     "data": {
      "image/png": "[encoded data removed]",
      "text/plain": [
       "<Figure size 640x480 with 1 Axes>"
      ]
     },
     "metadata": {},
     "output_type": "display_data"
    }
   ],
   "source": [
    "show_result(multibinary_genetic, cost_calculator_factory, multibinary_converter)"
   ]
  },
  {
   "cell_type": "code",
   "execution_count": 25,
   "id": "2de716a1-3b77-4862-a347-691fc9183d8f",
   "metadata": {},
   "outputs": [
    {
     "name": "stderr",
     "output_type": "stream",
     "text": [
      "C:\\Users\\1\\AppData\\Local\\Programs\\Python\\Python312\\Lib\\site-packages\\pygad\\pygad.py:748: UserWarning: The percentage of genes to mutate (mutation_percent_genes=10) resulted in selecting (0) genes. The number of genes to mutate is set to 1 (mutation_num_genes=1).\n",
      "If you do not want to mutate any gene, please set mutation_type=None.\n",
      "  warnings.warn(f\"The percentage of genes to mutate (mutation_percent_genes={mutation_percent_genes}) resulted in selecting ({mutation_num_genes}) genes. The number of genes to mutate is set to 1 (mutation_num_genes=1).\\nIf you do not want to mutate any gene, please set mutation_type=None.\")\n"
     ]
    },
    {
     "data": {
      "application/vnd.jupyter.widget-view+json": {
       "model_id": "d541baa9add8453ba43d7244a8b3b5d1",
       "version_major": 2,
       "version_minor": 0
      },
      "text/plain": [
       "IntProgress(value=0, bar_style='success', description='genetic', max=2000)"
      ]
     },
     "metadata": {},
     "output_type": "display_data"
    },
    {
     "name": "stdout",
     "output_type": "stream",
     "text": [
      "Лучшее решение\n",
      "[[0. 0. 1.]\n",
      " [0. 1. 0.]\n",
      " [0. 0. 1.]\n",
      " [0. 1. 0.]]\n",
      "Значение функции пригодности 1.0\n",
      "Стоимость 1\n"
     ]
    },
    {
     "data": {
      "image/png": "[encoded data removed]",
      "text/plain": [
       "<Figure size 640x480 with 1 Axes>"
      ]
     },
     "metadata": {},
     "output_type": "display_data"
    }
   ],
   "source": [
    "show_result(multidiscrete_genetic, cost_calculator_factory, multidiscrete_converter)"
   ]
  },
  {
   "cell_type": "code",
   "execution_count": null,
   "id": "34b04c2a-eedd-4b1b-94c7-9674510eba46",
   "metadata": {},
   "outputs": [],
   "source": []
  }
 ],
 "metadata": {
  "kernelspec": {
   "display_name": "Python 3 (ipykernel)",
   "language": "python",
   "name": "python3"
  },
  "language_info": {
   "codemirror_mode": {
    "name": "ipython",
    "version": 3
   },
   "file_extension": ".py",
   "mimetype": "text/x-python",
   "name": "python",
   "nbconvert_exporter": "python",
   "pygments_lexer": "ipython3",
   "version": "3.12.1"
  }
 },
 "nbformat": 4,
 "nbformat_minor": 5
}
