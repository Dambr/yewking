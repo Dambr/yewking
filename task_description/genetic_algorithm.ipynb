{
 "cells": [
  {
   "cell_type": "code",
   "execution_count": 1,
   "id": "31310ab2-0a61-44e3-aca5-c8f52bffc79c",
   "metadata": {},
   "outputs": [],
   "source": [
    "import pygad\n",
    "import numpy as np"
   ]
  },
  {
   "cell_type": "code",
   "execution_count": 2,
   "id": "cd75bd7d-26be-4b45-bf2f-a8f4bb107453",
   "metadata": {},
   "outputs": [],
   "source": [
    "from ipywidgets import IntProgress\n",
    "from IPython.display import display"
   ]
  },
  {
   "cell_type": "code",
   "execution_count": 3,
   "id": "5592ab4d-e246-4e58-ab81-c8f573f5db57",
   "metadata": {},
   "outputs": [],
   "source": [
    "from cost_calculator import CostCalculator"
   ]
  },
  {
   "cell_type": "code",
   "execution_count": 4,
   "id": "9be508b7-ca1a-4b45-8ef8-ce05c10af92c",
   "metadata": {},
   "outputs": [],
   "source": [
    "l = 1\n",
    "n = 5\n",
    "m = 4\n",
    "k = 3"
   ]
  },
  {
   "cell_type": "code",
   "execution_count": 5,
   "id": "a5f512f0-e27a-4ce5-a349-7f6d356b180f",
   "metadata": {},
   "outputs": [],
   "source": [
    "M = 10 ** 6"
   ]
  },
  {
   "cell_type": "code",
   "execution_count": 6,
   "id": "6982af3c-541f-427d-acb1-8232067bee55",
   "metadata": {},
   "outputs": [],
   "source": [
    "T = np.array([\n",
    "    [  1,   0,   0,   0],\n",
    "    [0.5, 0.5,   0,   0],\n",
    "    [  0, 0.5, 0.5,   0],\n",
    "    [  0,   0, 0.5, 0.5],\n",
    "    [  0,   0,   0,   1]\n",
    "])"
   ]
  },
  {
   "cell_type": "code",
   "execution_count": 7,
   "id": "b04329b8-6ad0-4689-9cdf-6e46924c3faa",
   "metadata": {},
   "outputs": [],
   "source": [
    "D = np.array([\n",
    "    [0, 0, 1, 0],\n",
    "    [0, 0, 1, 1],\n",
    "    [0, 0, 0, 0],\n",
    "    [0, 0, 0, 0]\n",
    "])"
   ]
  },
  {
   "cell_type": "code",
   "execution_count": 8,
   "id": "ce449c55-f83f-4620-8a0e-c99b1e1a29d9",
   "metadata": {},
   "outputs": [],
   "source": [
    "C = np.array([\n",
    "    [1, 1, 1, 1, 1],\n",
    "    [1, 1, 1, 1, 1],\n",
    "    [1, 1, 1, 1, 1],\n",
    "    [1, 1, 1, 1, 1],\n",
    "    [1, 1, 1, 1, 1]\n",
    "])"
   ]
  },
  {
   "cell_type": "code",
   "execution_count": 9,
   "id": "8c18b336-c6d8-47ee-ab23-b08804cc548a",
   "metadata": {},
   "outputs": [],
   "source": [
    "E = np.array([\n",
    "    [1, 0, 0, 0, 0]\n",
    "])"
   ]
  },
  {
   "cell_type": "code",
   "execution_count": 10,
   "id": "996a6774-e85a-46b2-b08a-770567bf0016",
   "metadata": {},
   "outputs": [],
   "source": [
    "num_generations = 200\n",
    "\n",
    "sol_per_pop = 4\n",
    "num_parents_mating = 2\n",
    "\n",
    "# num_genes = m\n",
    "\n",
    "# min_value = 0\n",
    "# max_value = k - 1\n",
    "\n",
    "# init_range_low = min_value\n",
    "# init_range_high = max_value + 1\n",
    "\n",
    "# random_mutation_min_val = min_value\n",
    "# random_mutation_max_val = max_value\n",
    "\n",
    "parent_selection_type = \"sss\" # sss, rws, sus, rank, random, tournament\n",
    "\n",
    "keep_parents = 1\n",
    "\n",
    "crossover_type = \"scattered\" # single_point, two_points, uniform, scattered\n",
    "\n",
    "mutation_type = \"scramble\" # random - не использовать, swap, inversion, scramble, adaptive\n",
    "\n",
    "mutation_percent_genes = 10\n",
    "\n"
   ]
  },
  {
   "cell_type": "code",
   "execution_count": null,
   "id": "fbf6112a-ed74-4571-8705-276579d5c4a2",
   "metadata": {},
   "outputs": [],
   "source": []
  },
  {
   "cell_type": "code",
   "execution_count": null,
   "id": "b8e063e0-287d-4d6b-945b-ea1a8cf44f97",
   "metadata": {},
   "outputs": [],
   "source": []
  },
  {
   "cell_type": "code",
   "execution_count": 11,
   "id": "6aed7099-4661-4f14-ab82-319f04f7fff3",
   "metadata": {},
   "outputs": [],
   "source": [
    "class BinaryConfig:\n",
    "    def __init__(self):\n",
    "        min_value = 0\n",
    "        max_value = 1\n",
    "\n",
    "        self.num_genes = m * k\n",
    "        \n",
    "        self.init_range_low = min_value\n",
    "        self.init_range_high = max_value + 1\n",
    "        \n",
    "        self.random_mutation_min_val = min_value\n",
    "        self.random_mutation_max_val = max_value"
   ]
  },
  {
   "cell_type": "code",
   "execution_count": 12,
   "id": "1a6ffe80-8a43-45d5-81d3-4b00904b4c34",
   "metadata": {},
   "outputs": [],
   "source": [
    "class DiscreteConfig:\n",
    "    def __init__(self):\n",
    "        min_value = 0\n",
    "        max_value = k - 1\n",
    "\n",
    "        self.num_genes = m\n",
    "        \n",
    "        self.init_range_low = min_value\n",
    "        self.init_range_high = max_value + 1\n",
    "        \n",
    "        self.random_mutation_min_val = min_value\n",
    "        self.random_mutation_max_val = max_value"
   ]
  },
  {
   "cell_type": "code",
   "execution_count": 13,
   "id": "a78da8f6-26db-4905-8473-21fce5b0508a",
   "metadata": {},
   "outputs": [],
   "source": [
    "class BinaryConverter:\n",
    "    def convert(self, solution):\n",
    "        A = solution.reshape(m, k)\n",
    "        return A"
   ]
  },
  {
   "cell_type": "code",
   "execution_count": 14,
   "id": "fc02e1fe-4b75-492f-9ec5-e103e18da1c9",
   "metadata": {},
   "outputs": [],
   "source": [
    "class DiscreteConverter:\n",
    "    def convert(self, solution):\n",
    "        A = np.zeros((m, k))\n",
    "        num_genes = len(solution)\n",
    "        for i in range(num_genes):\n",
    "            active_gen = solution[i]\n",
    "            A[i][active_gen] = 1\n",
    "        return A"
   ]
  },
  {
   "cell_type": "code",
   "execution_count": 15,
   "id": "ff6d077b-14c1-4f2d-ae45-807d71580dd3",
   "metadata": {},
   "outputs": [],
   "source": [
    "class Genetic:\n",
    "    def __init__(self, config, converter):\n",
    "        self.config = config\n",
    "        self.converter = converter\n",
    "\n",
    "    def solve(self):\n",
    "        \n",
    "        self.ga_instance = pygad.GA(num_generations=num_generations,\n",
    "                       num_parents_mating=num_parents_mating,\n",
    "                       fitness_func=self.fitness_func,\n",
    "                       sol_per_pop=sol_per_pop,\n",
    "                       num_genes=self.config.num_genes,\n",
    "                       init_range_low=self.config.init_range_low,\n",
    "                       init_range_high=self.config.init_range_high,\n",
    "                       random_mutation_min_val=self.config.random_mutation_min_val,\n",
    "                       random_mutation_max_val=self.config.random_mutation_max_val,\n",
    "                       parent_selection_type=parent_selection_type,\n",
    "                       keep_parents=keep_parents,\n",
    "                       crossover_type=crossover_type,\n",
    "                       mutation_type=mutation_type,\n",
    "                       mutation_percent_genes=mutation_percent_genes,\n",
    "                       on_start=self.on_start,\n",
    "                       on_fitness=self.on_fitness,\n",
    "                       on_parents=self.on_parents,\n",
    "                       on_crossover=self.on_crossover,\n",
    "                       on_mutation=self.on_mutation,\n",
    "                       on_generation=self.on_generation,\n",
    "                       on_stop=self.on_stop,\n",
    "                       gene_type=int\n",
    "        )\n",
    "        self.progress = IntProgress(min=0, max=num_generations, value=0, description='genetic', bar_style='success')\n",
    "        display(self.progress)\n",
    "        self.ga_instance.run()\n",
    "        best_solution = self.ga_instance.best_solution()\n",
    "        return best_solution\n",
    "\n",
    "    def on_start(self, ga_instance):\n",
    "        pass\n",
    "\n",
    "    def on_fitness(self, ga_instance, fitnesses):\n",
    "        pass\n",
    "\n",
    "    def on_parents(self, ga_instance, parents):\n",
    "        pass\n",
    "\n",
    "    def on_crossover(self, ga_instance, offspring):\n",
    "        pass\n",
    "\n",
    "    def on_mutation(self, ga_instance, offspring):\n",
    "        pass\n",
    "\n",
    "    def on_generation(self, ga_instance):\n",
    "        self.progress.value += 1\n",
    "\n",
    "    def on_stop(self, ga_instance, fitnesses):\n",
    "        pass\n",
    "\n",
    "    def fitness_func(self, ga_instance, solution, solution_idx):\n",
    "        A = self.convert_A(solution)\n",
    "        cost = self.calculate_cost(solution)\n",
    "        fitness = 1.0 / (cost + 1.0 / M)\n",
    "        for row in A:\n",
    "            if np.sum(row) != 1:\n",
    "                fitness = 0\n",
    "    \n",
    "        return fitness\n",
    "\n",
    "    def calculate_cost(self, solution):\n",
    "        A = self.convert_A(solution)\n",
    "        cost_calculator = CostCalculator(T, D, C, E, A)\n",
    "        cost = cost_calculator.calculate()\n",
    "        return cost\n",
    "\n",
    "    def convert_A(self, solution):\n",
    "        return self.converter.convert(solution)\n",
    "\n",
    "    def plot_fitness(self):\n",
    "        self.ga_instance.plot_fitness()"
   ]
  },
  {
   "cell_type": "code",
   "execution_count": 16,
   "id": "49b2ea83-8a6e-4dbe-a1e6-ce7e61c5f3f9",
   "metadata": {},
   "outputs": [],
   "source": [
    "def show_result(genetic):\n",
    "    solution, solution_fitness, solution_idx = genetic.solve() # ga_instance.best_solution()\n",
    "    print('Лучшее решение')\n",
    "    A = genetic.convert_A(solution)\n",
    "    print(A)\n",
    "    print('Значение функции пригодности', solution_fitness)\n",
    "    cost = genetic.calculate_cost(solution)\n",
    "    print('Стоимость', cost)\n",
    "    genetic.plot_fitness()"
   ]
  },
  {
   "cell_type": "code",
   "execution_count": 17,
   "id": "d1ea5aab-fd26-4869-8c83-bdf963997c73",
   "metadata": {},
   "outputs": [],
   "source": [
    "binary_config = BinaryConfig()\n",
    "binary_converter = BinaryConverter()\n",
    "binary_genetic = Genetic(binary_config, binary_converter)"
   ]
  },
  {
   "cell_type": "code",
   "execution_count": 18,
   "id": "b9b4af95-7938-41f9-87c4-e34f05e8dea5",
   "metadata": {},
   "outputs": [],
   "source": [
    "discrete_config = DiscreteConfig()\n",
    "discrete_converter = DiscreteConverter()\n",
    "discrete_genetic = Genetic(discrete_config, discrete_converter)"
   ]
  },
  {
   "cell_type": "code",
   "execution_count": 19,
   "id": "4dd92bf9-7e03-4cee-8f39-0ed27b32f873",
   "metadata": {},
   "outputs": [
    {
     "name": "stderr",
     "output_type": "stream",
     "text": [
      "/home/dambr/venv/lib/python3.12/site-packages/pygad/pygad.py:1139: UserWarning: The 'delay_after_gen' parameter is deprecated starting from PyGAD 3.3.0. To delay or pause the evolution after each generation, assign a callback function/method to the 'on_generation' parameter to adds some time delay.\n",
      "  warnings.warn(\"The 'delay_after_gen' parameter is deprecated starting from PyGAD 3.3.0. To delay or pause the evolution after each generation, assign a callback function/method to the 'on_generation' parameter to adds some time delay.\")\n"
     ]
    },
    {
     "data": {
      "application/vnd.jupyter.widget-view+json": {
       "model_id": "597caf210a02453296fb57d6127fd4ee",
       "version_major": 2,
       "version_minor": 0
      },
      "text/plain": [
       "IntProgress(value=0, bar_style='success', description='genetic', max=200)"
      ]
     },
     "metadata": {},
     "output_type": "display_data"
    },
    {
     "name": "stdout",
     "output_type": "stream",
     "text": [
      "Лучшее решение\n",
      "[[1 0 0]\n",
      " [0 1 0]\n",
      " [0 0 1]\n",
      " [0 1 0]]\n",
      "Значение функции пригодности 0.9999990000010001\n",
      "Стоимость 1\n"
     ]
    },
    {
     "name": "stderr",
     "output_type": "stream",
     "text": [
      "/home/dambr/venv/lib/python3.12/site-packages/pygad/visualize/plot.py:109: UserWarning: No artists with labels found to put in legend.  Note that artists whose label start with an underscore are ignored when legend() is called with no argument.\n",
      "  matplotlib.pyplot.legend()\n"
     ]
    },
    {
     "data": {
      "image/png": "[encoded data removed]",
      "text/plain": [
       "<Figure size 640x480 with 1 Axes>"
      ]
     },
     "metadata": {},
     "output_type": "display_data"
    }
   ],
   "source": [
    "show_result(binary_genetic)"
   ]
  },
  {
   "cell_type": "code",
   "execution_count": 20,
   "id": "2de716a1-3b77-4862-a347-691fc9183d8f",
   "metadata": {},
   "outputs": [
    {
     "name": "stderr",
     "output_type": "stream",
     "text": [
      "/home/dambr/venv/lib/python3.12/site-packages/pygad/pygad.py:748: UserWarning: The percentage of genes to mutate (mutation_percent_genes=10) resulted in selecting (0) genes. The number of genes to mutate is set to 1 (mutation_num_genes=1).\n",
      "If you do not want to mutate any gene, please set mutation_type=None.\n",
      "  warnings.warn(f\"The percentage of genes to mutate (mutation_percent_genes={mutation_percent_genes}) resulted in selecting ({mutation_num_genes}) genes. The number of genes to mutate is set to 1 (mutation_num_genes=1).\\nIf you do not want to mutate any gene, please set mutation_type=None.\")\n"
     ]
    },
    {
     "data": {
      "application/vnd.jupyter.widget-view+json": {
       "model_id": "c24ff204b29f491e8e0dafe35117ab9e",
       "version_major": 2,
       "version_minor": 0
      },
      "text/plain": [
       "IntProgress(value=0, bar_style='success', description='genetic', max=200)"
      ]
     },
     "metadata": {},
     "output_type": "display_data"
    },
    {
     "name": "stdout",
     "output_type": "stream",
     "text": [
      "Лучшее решение\n",
      "[[0. 0. 1.]\n",
      " [0. 1. 0.]\n",
      " [0. 0. 1.]\n",
      " [0. 1. 0.]]\n",
      "Значение функции пригодности 0.9999990000010001\n",
      "Стоимость 1\n"
     ]
    },
    {
     "data": {
      "image/png": "[encoded data removed]",
      "text/plain": [
       "<Figure size 640x480 with 1 Axes>"
      ]
     },
     "metadata": {},
     "output_type": "display_data"
    }
   ],
   "source": [
    "show_result(discrete_genetic)"
   ]
  },
  {
   "cell_type": "code",
   "execution_count": null,
   "id": "34b04c2a-eedd-4b1b-94c7-9674510eba46",
   "metadata": {},
   "outputs": [],
   "source": []
  }
 ],
 "metadata": {
  "kernelspec": {
   "display_name": "Python 3 (ipykernel)",
   "language": "python",
   "name": "python3"
  },
  "language_info": {
   "codemirror_mode": {
    "name": "ipython",
    "version": 3
   },
   "file_extension": ".py",
   "mimetype": "text/x-python",
   "name": "python",
   "nbconvert_exporter": "python",
   "pygments_lexer": "ipython3",
   "version": "3.12.5"
  }
 },
 "nbformat": 4,
 "nbformat_minor": 5
}
