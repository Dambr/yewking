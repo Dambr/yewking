{
 "cells": [
  {
   "cell_type": "code",
   "execution_count": 1,
   "id": "31310ab2-0a61-44e3-aca5-c8f52bffc79c",
   "metadata": {},
   "outputs": [],
   "source": [
    "import pygad\n",
    "import numpy as np"
   ]
  },
  {
   "cell_type": "code",
   "execution_count": 2,
   "id": "cd75bd7d-26be-4b45-bf2f-a8f4bb107453",
   "metadata": {},
   "outputs": [],
   "source": [
    "from ipywidgets import IntProgress\n",
    "from IPython.display import display"
   ]
  },
  {
   "cell_type": "code",
   "execution_count": 3,
   "id": "5592ab4d-e246-4e58-ab81-c8f573f5db57",
   "metadata": {},
   "outputs": [],
   "source": [
    "from cost_calculator import CostCalculator"
   ]
  },
  {
   "cell_type": "code",
   "execution_count": 4,
   "id": "9be508b7-ca1a-4b45-8ef8-ce05c10af92c",
   "metadata": {},
   "outputs": [],
   "source": [
    "l = 1\n",
    "n = 5\n",
    "m = 4\n",
    "k = 3"
   ]
  },
  {
   "cell_type": "code",
   "execution_count": 5,
   "id": "a5f512f0-e27a-4ce5-a349-7f6d356b180f",
   "metadata": {},
   "outputs": [],
   "source": [
    "M = 10 ** 6"
   ]
  },
  {
   "cell_type": "code",
   "execution_count": 6,
   "id": "6982af3c-541f-427d-acb1-8232067bee55",
   "metadata": {},
   "outputs": [],
   "source": [
    "T = np.array([\n",
    "    [  1,   0,   0,   0],\n",
    "    [0.5, 0.5,   0,   0],\n",
    "    [  0, 0.5, 0.5,   0],\n",
    "    [  0,   0, 0.5, 0.5],\n",
    "    [  0,   0,   0,   1]\n",
    "])"
   ]
  },
  {
   "cell_type": "code",
   "execution_count": 7,
   "id": "b04329b8-6ad0-4689-9cdf-6e46924c3faa",
   "metadata": {},
   "outputs": [],
   "source": [
    "D = np.array([\n",
    "    [0, 0, 1, 0],\n",
    "    [0, 0, 1, 1],\n",
    "    [0, 0, 0, 0],\n",
    "    [0, 0, 0, 0]\n",
    "])"
   ]
  },
  {
   "cell_type": "code",
   "execution_count": 8,
   "id": "ce449c55-f83f-4620-8a0e-c99b1e1a29d9",
   "metadata": {},
   "outputs": [],
   "source": [
    "C = np.array([\n",
    "    [1, 1, 1, 1, 1],\n",
    "    [1, 1, 1, 1, 1],\n",
    "    [1, 1, 1, 1, 1],\n",
    "    [1, 1, 1, 1, 1],\n",
    "    [1, 1, 1, 1, 1]\n",
    "])"
   ]
  },
  {
   "cell_type": "code",
   "execution_count": 9,
   "id": "8c18b336-c6d8-47ee-ab23-b08804cc548a",
   "metadata": {},
   "outputs": [],
   "source": [
    "E = np.array([\n",
    "    [1, 0, 0, 0, 0]\n",
    "])"
   ]
  },
  {
   "cell_type": "code",
   "execution_count": 10,
   "id": "996a6774-e85a-46b2-b08a-770567bf0016",
   "metadata": {},
   "outputs": [],
   "source": [
    "num_generations = 10\n",
    "\n",
    "sol_per_pop = 4\n",
    "num_parents_mating = 2\n",
    "\n",
    "num_genes = m\n",
    "\n",
    "min_value = 0\n",
    "max_value = k - 1\n",
    "\n",
    "init_range_low = min_value\n",
    "init_range_high = max_value + 1\n",
    "\n",
    "random_mutation_min_val = min_value\n",
    "random_mutation_max_val = max_value\n",
    "\n",
    "parent_selection_type = \"sss\" # sss, rws, sus, rank, random, tournament\n",
    "keep_parents = 1\n",
    "\n",
    "crossover_type = \"single_point\"\n",
    "\n",
    "mutation_type = \"swap\" # random - не использовать, swap, inversion, scramble, adaptive\n",
    "mutation_percent_genes = 10\n",
    "\n",
    "progress = IntProgress(min=0, max=num_generations, value=0, description='genetic', bar_style='success')"
   ]
  },
  {
   "cell_type": "code",
   "execution_count": 11,
   "id": "49b2ea83-8a6e-4dbe-a1e6-ce7e61c5f3f9",
   "metadata": {},
   "outputs": [],
   "source": [
    "def convert_A(solution):\n",
    "    A = np.zeros((m, k))\n",
    "    num_genes = len(solution)\n",
    "    for i in range(num_genes):\n",
    "        active_gen = solution[i]\n",
    "        A[i][active_gen] = 1\n",
    "    return A"
   ]
  },
  {
   "cell_type": "code",
   "execution_count": 12,
   "id": "d1ea5aab-fd26-4869-8c83-bdf963997c73",
   "metadata": {},
   "outputs": [],
   "source": [
    "def calculate_cost(solution):\n",
    "    A = convert_A(solution)\n",
    "    cost_calculator = CostCalculator(T, D, C, E, A)\n",
    "    cost = cost_calculator.calculate()\n",
    "    return cost"
   ]
  },
  {
   "cell_type": "code",
   "execution_count": 13,
   "id": "ccff66f8-6783-40ef-99d3-fb2e56424d21",
   "metadata": {},
   "outputs": [],
   "source": [
    "def on_start(ga_instance):\n",
    "    pass"
   ]
  },
  {
   "cell_type": "code",
   "execution_count": 14,
   "id": "a59ca43f-8709-4225-acec-dbca6342a5a4",
   "metadata": {},
   "outputs": [],
   "source": [
    "def on_fitness(ga_instance, fitnesses):\n",
    "    pass"
   ]
  },
  {
   "cell_type": "code",
   "execution_count": 15,
   "id": "16275058-8c85-4b4a-be9d-afb587fa6834",
   "metadata": {},
   "outputs": [],
   "source": [
    "def on_parents(ga_instance, parents):\n",
    "    pass"
   ]
  },
  {
   "cell_type": "code",
   "execution_count": 16,
   "id": "fd00677b-aa92-4921-95a6-3eb6cb032804",
   "metadata": {},
   "outputs": [],
   "source": [
    "def on_crossover(ga_instance, offspring):\n",
    "    pass"
   ]
  },
  {
   "cell_type": "code",
   "execution_count": 17,
   "id": "d0cd9cc6-c7c4-4640-aba4-efd23d331b94",
   "metadata": {},
   "outputs": [],
   "source": [
    "def on_mutation(ga_instance, offspring):\n",
    "    pass"
   ]
  },
  {
   "cell_type": "code",
   "execution_count": 18,
   "id": "b64bcad8-fff3-4c38-a467-e4664aa7395d",
   "metadata": {},
   "outputs": [],
   "source": [
    "def on_generation(ga_instance):\n",
    "    progress.value += 1"
   ]
  },
  {
   "cell_type": "code",
   "execution_count": 19,
   "id": "286eded1-9441-4c6a-9d60-8521909a78bc",
   "metadata": {},
   "outputs": [],
   "source": [
    "def on_stop(ga_instance, fitnesses):\n",
    "    pass"
   ]
  },
  {
   "cell_type": "code",
   "execution_count": 20,
   "id": "b6e69cb6-8ed3-4f5c-b6aa-c6cb4c501189",
   "metadata": {},
   "outputs": [],
   "source": [
    "def fitness_func(ga_instance, solution, solution_idx):\n",
    "    A = convert_A(solution)\n",
    "    cost = calculate_cost(solution)\n",
    "    fitness = 1.0 / (cost + 1.0 / M)\n",
    "    for row in A:\n",
    "        if np.sum(row) != 1:\n",
    "            fitness = 0\n",
    "\n",
    "    return fitness"
   ]
  },
  {
   "cell_type": "code",
   "execution_count": 21,
   "id": "5e9b2d71-ab50-4e68-b7a5-0b7ed9a9f821",
   "metadata": {},
   "outputs": [
    {
     "name": "stderr",
     "output_type": "stream",
     "text": [
      "/Users/dambr/venv/lib/python3.12/site-packages/pygad/pygad.py:748: UserWarning: The percentage of genes to mutate (mutation_percent_genes=10) resulted in selecting (0) genes. The number of genes to mutate is set to 1 (mutation_num_genes=1).\n",
      "If you do not want to mutate any gene, please set mutation_type=None.\n",
      "  warnings.warn(f\"The percentage of genes to mutate (mutation_percent_genes={mutation_percent_genes}) resulted in selecting ({mutation_num_genes}) genes. The number of genes to mutate is set to 1 (mutation_num_genes=1).\\nIf you do not want to mutate any gene, please set mutation_type=None.\")\n",
      "/Users/dambr/venv/lib/python3.12/site-packages/pygad/pygad.py:1139: UserWarning: The 'delay_after_gen' parameter is deprecated starting from PyGAD 3.3.0. To delay or pause the evolution after each generation, assign a callback function/method to the 'on_generation' parameter to adds some time delay.\n",
      "  warnings.warn(\"The 'delay_after_gen' parameter is deprecated starting from PyGAD 3.3.0. To delay or pause the evolution after each generation, assign a callback function/method to the 'on_generation' parameter to adds some time delay.\")\n"
     ]
    }
   ],
   "source": [
    "ga_instance = pygad.GA(num_generations=num_generations,\n",
    "                       num_parents_mating=num_parents_mating,\n",
    "                       fitness_func=fitness_func,\n",
    "                       sol_per_pop=sol_per_pop,\n",
    "                       num_genes=num_genes,\n",
    "                       init_range_low=init_range_low,\n",
    "                       init_range_high=init_range_high,\n",
    "                       parent_selection_type=parent_selection_type,\n",
    "                       keep_parents=keep_parents,\n",
    "                       crossover_type=crossover_type,\n",
    "                       mutation_type=mutation_type,\n",
    "                       mutation_percent_genes=mutation_percent_genes,\n",
    "                       random_mutation_min_val=random_mutation_min_val,\n",
    "                       random_mutation_max_val=random_mutation_max_val,\n",
    "                       on_start=on_start,\n",
    "                       on_fitness=on_fitness,\n",
    "                       on_parents=on_parents,\n",
    "                       on_crossover=on_crossover,\n",
    "                       on_mutation=on_mutation,\n",
    "                       on_generation=on_generation,\n",
    "                       on_stop=on_stop,\n",
    "                       gene_type=int\n",
    ")"
   ]
  },
  {
   "cell_type": "code",
   "execution_count": 22,
   "id": "b9b4af95-7938-41f9-87c4-e34f05e8dea5",
   "metadata": {},
   "outputs": [
    {
     "data": {
      "application/vnd.jupyter.widget-view+json": {
       "model_id": "8c24c426ffd54ccebd91d67190729b20",
       "version_major": 2,
       "version_minor": 0
      },
      "text/plain": [
       "IntProgress(value=0, bar_style='success', description='genetic', max=10)"
      ]
     },
     "metadata": {},
     "output_type": "display_data"
    }
   ],
   "source": [
    "display(progress)\n",
    "ga_instance.run()"
   ]
  },
  {
   "cell_type": "code",
   "execution_count": 23,
   "id": "34b04c2a-eedd-4b1b-94c7-9674510eba46",
   "metadata": {},
   "outputs": [
    {
     "name": "stdout",
     "output_type": "stream",
     "text": [
      "Parameters of the best solution\n",
      "[[1. 0. 0.]\n",
      " [0. 0. 1.]\n",
      " [1. 0. 0.]\n",
      " [0. 0. 1.]]\n",
      "Fitness value of the best solution = 0.9999990000010001\n",
      "cost 1\n"
     ]
    }
   ],
   "source": [
    "solution, solution_fitness, solution_idx = ga_instance.best_solution()\n",
    "print(\"Parameters of the best solution\")\n",
    "A = convert_A(solution)\n",
    "print(A)\n",
    "print(\"Fitness value of the best solution = {solution_fitness}\".format(solution_fitness=solution_fitness))\n",
    "cost = calculate_cost(solution)\n",
    "print('cost', cost)\n"
   ]
  },
  {
   "cell_type": "code",
   "execution_count": 24,
   "id": "4ecff6fa-e9ad-4658-b208-e2d496a78f3a",
   "metadata": {},
   "outputs": [
    {
     "name": "stderr",
     "output_type": "stream",
     "text": [
      "/Users/dambr/venv/lib/python3.12/site-packages/pygad/visualize/plot.py:109: UserWarning: No artists with labels found to put in legend.  Note that artists whose label start with an underscore are ignored when legend() is called with no argument.\n",
      "  matplotlib.pyplot.legend()\n"
     ]
    },
    {
     "data": {
      "image/png": "[encoded data removed]",
      "text/plain": [
       "<Figure size 640x480 with 1 Axes>"
      ]
     },
     "metadata": {},
     "output_type": "display_data"
    },
    {
     "data": {
      "image/png": "[encoded data removed]",
      "text/plain": [
       "<Figure size 640x480 with 1 Axes>"
      ]
     },
     "execution_count": 24,
     "metadata": {},
     "output_type": "execute_result"
    }
   ],
   "source": [
    "ga_instance.plot_fitness()"
   ]
  },
  {
   "cell_type": "code",
   "execution_count": null,
   "id": "75d25ab7-f160-44d0-b79a-44b6c289d21e",
   "metadata": {},
   "outputs": [],
   "source": []
  }
 ],
 "metadata": {
  "kernelspec": {
   "display_name": "Python 3 (ipykernel)",
   "language": "python",
   "name": "python3"
  },
  "language_info": {
   "codemirror_mode": {
    "name": "ipython",
    "version": 3
   },
   "file_extension": ".py",
   "mimetype": "text/x-python",
   "name": "python",
   "nbconvert_exporter": "python",
   "pygments_lexer": "ipython3",
   "version": "3.12.1"
  }
 },
 "nbformat": 4,
 "nbformat_minor": 5
}
