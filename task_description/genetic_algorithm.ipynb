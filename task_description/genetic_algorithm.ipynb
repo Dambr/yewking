{
 "cells": [
  {
   "cell_type": "code",
   "execution_count": 1,
   "id": "31310ab2-0a61-44e3-aca5-c8f52bffc79c",
   "metadata": {},
   "outputs": [],
   "source": [
    "import numpy as np"
   ]
  },
  {
   "cell_type": "code",
   "execution_count": 2,
   "id": "cd75bd7d-26be-4b45-bf2f-a8f4bb107453",
   "metadata": {},
   "outputs": [],
   "source": [
    "from ipywidgets import IntProgress\n",
    "from IPython.display import display"
   ]
  },
  {
   "cell_type": "code",
   "execution_count": 3,
   "id": "5592ab4d-e246-4e58-ab81-c8f573f5db57",
   "metadata": {},
   "outputs": [],
   "source": [
    "from cost_calculator_factory import CostCalculatorFactory\n",
    "from multibinary_converter import MultiBinaryConverter\n",
    "from multidiscrete_converter import MultiDiscreteConverter\n",
    "from fitness_calculator import FitnessCalculator"
   ]
  },
  {
   "cell_type": "code",
   "execution_count": 4,
   "id": "868df262-bf61-4c16-b3e9-f4fa265e582a",
   "metadata": {},
   "outputs": [],
   "source": [
    "from genetic_multibinary_space_config import GeneticMultiBinarySpaceConfig\n",
    "from genetic_multidiscrete_space_config import GeneticMultiDiscreteSpaceConfig\n",
    "from genetic_config import GeneticConfig\n",
    "from genetic_solver import GeneticSolver"
   ]
  },
  {
   "cell_type": "code",
   "execution_count": 5,
   "id": "6fe6465d-dc61-4572-89e6-992e8e2e73fd",
   "metadata": {},
   "outputs": [],
   "source": [
    "import warnings\n",
    "warnings.filterwarnings(\"ignore\")"
   ]
  },
  {
   "cell_type": "code",
   "execution_count": 6,
   "id": "9be508b7-ca1a-4b45-8ef8-ce05c10af92c",
   "metadata": {},
   "outputs": [],
   "source": [
    "l = 1\n",
    "n = 5\n",
    "m = 4\n",
    "k = 3"
   ]
  },
  {
   "cell_type": "code",
   "execution_count": 7,
   "id": "6982af3c-541f-427d-acb1-8232067bee55",
   "metadata": {},
   "outputs": [],
   "source": [
    "T = np.array([\n",
    "    [  1,   0,   0,   0],\n",
    "    [0.5, 0.5,   0,   0],\n",
    "    [  0, 0.5, 0.5,   0],\n",
    "    [  0,   0, 0.5, 0.5],\n",
    "    [  0,   0,   0,   1]\n",
    "])"
   ]
  },
  {
   "cell_type": "code",
   "execution_count": 8,
   "id": "b04329b8-6ad0-4689-9cdf-6e46924c3faa",
   "metadata": {},
   "outputs": [],
   "source": [
    "D = np.array([\n",
    "    [0, 0, 1, 0],\n",
    "    [0, 0, 1, 1],\n",
    "    [0, 0, 0, 0],\n",
    "    [0, 0, 0, 0]\n",
    "])"
   ]
  },
  {
   "cell_type": "code",
   "execution_count": 9,
   "id": "ce449c55-f83f-4620-8a0e-c99b1e1a29d9",
   "metadata": {},
   "outputs": [],
   "source": [
    "C = np.array([\n",
    "    [1, 1, 1, 1, 1],\n",
    "    [1, 1, 1, 1, 1],\n",
    "    [1, 1, 1, 1, 1],\n",
    "    [1, 1, 1, 1, 1],\n",
    "    [1, 1, 1, 1, 1]\n",
    "])"
   ]
  },
  {
   "cell_type": "code",
   "execution_count": 10,
   "id": "8c18b336-c6d8-47ee-ab23-b08804cc548a",
   "metadata": {},
   "outputs": [],
   "source": [
    "E = np.array([\n",
    "    [1, 0, 0, 0, 0]\n",
    "])"
   ]
  },
  {
   "cell_type": "code",
   "execution_count": null,
   "id": "ff6d077b-14c1-4f2d-ae45-807d71580dd3",
   "metadata": {},
   "outputs": [],
   "source": [
    "\n"
   ]
  },
  {
   "cell_type": "code",
   "execution_count": 11,
   "id": "49b2ea83-8a6e-4dbe-a1e6-ce7e61c5f3f9",
   "metadata": {},
   "outputs": [],
   "source": [
    "def show_result(genetic_solver, cost_calculator_factory, converter):\n",
    "    best_solution, best_fitness, best_idx, duration = genetic_solver.solve() # ga_instance.best_solution()\n",
    "    print('Лучшее решение')\n",
    "    A = converter.convert(best_solution)\n",
    "    print(A)\n",
    "    print('Значение функции пригодности', best_fitness)\n",
    "    cost_calculator = cost_calculator_factory.get_cost_calculator(A)\n",
    "    cost = cost_calculator.calculate()\n",
    "    print('Стоимость', cost)\n",
    "    genetic_solver.plot_fitness()"
   ]
  },
  {
   "cell_type": "code",
   "execution_count": 12,
   "id": "e82abd60-3edd-49d7-a856-ca5bea9c2665",
   "metadata": {},
   "outputs": [],
   "source": [
    "cost_calculator_factory = CostCalculatorFactory(T, D, C, E)"
   ]
  },
  {
   "cell_type": "code",
   "execution_count": 13,
   "id": "7da02724-1904-430f-be1b-59f7093d33c3",
   "metadata": {},
   "outputs": [],
   "source": [
    "config = GeneticConfig()"
   ]
  },
  {
   "cell_type": "code",
   "execution_count": 14,
   "id": "ccbde410-bb1b-45b5-96ad-b71377aabd49",
   "metadata": {},
   "outputs": [],
   "source": [
    "# MultiBinary"
   ]
  },
  {
   "cell_type": "code",
   "execution_count": 15,
   "id": "47ee8059-b4ad-45e1-9031-42bb0673a797",
   "metadata": {},
   "outputs": [],
   "source": [
    "multibinary_converter = MultiBinaryConverter(m, k)\n",
    "multibinary_fitness_calculator = FitnessCalculator(cost_calculator_factory, multibinary_converter)"
   ]
  },
  {
   "cell_type": "code",
   "execution_count": 16,
   "id": "85e0280f-ee00-438a-b993-dc850c4ec1ea",
   "metadata": {},
   "outputs": [],
   "source": [
    "multibinary_space_config = GeneticMultiBinarySpaceConfig(m, k)"
   ]
  },
  {
   "cell_type": "code",
   "execution_count": 17,
   "id": "17585792-7d86-4208-adb1-4b30b7626f01",
   "metadata": {},
   "outputs": [],
   "source": [
    "multibinary_progress = IntProgress(min=0, max=config.num_generations, value=0, description='genetic', bar_style='success')"
   ]
  },
  {
   "cell_type": "code",
   "execution_count": 18,
   "id": "a972dd06-98cd-4a03-a4f0-17bfff743209",
   "metadata": {},
   "outputs": [],
   "source": [
    "multibinary_genetic_solver = GeneticSolver(config, multibinary_space_config, multibinary_fitness_calculator, multibinary_progress)"
   ]
  },
  {
   "cell_type": "code",
   "execution_count": 19,
   "id": "61e8d517-8a61-4698-8d59-0e29cc68f870",
   "metadata": {},
   "outputs": [
    {
     "data": {
      "application/vnd.jupyter.widget-view+json": {
       "model_id": "614848e4212944fb82665a4881a3efae",
       "version_major": 2,
       "version_minor": 0
      },
      "text/plain": [
       "IntProgress(value=0, bar_style='success', description='genetic')"
      ]
     },
     "metadata": {},
     "output_type": "display_data"
    },
    {
     "data": {
      "text/plain": [
       "(array([0, 0, 1, 0, 1, 0, 1, 0, 0, 0, 1, 0]), 1.0, 0, 0.14261293411254883)"
      ]
     },
     "execution_count": 19,
     "metadata": {},
     "output_type": "execute_result"
    }
   ],
   "source": [
    "display(multibinary_progress)\n",
    "multibinary_genetic_solver.solve()"
   ]
  },
  {
   "cell_type": "code",
   "execution_count": 20,
   "id": "32fce24c-379a-48d6-8e02-520b669b73b2",
   "metadata": {},
   "outputs": [],
   "source": [
    "# MultiDiscrete"
   ]
  },
  {
   "cell_type": "code",
   "execution_count": 21,
   "id": "9853a3df-c6b1-4c9f-b871-ece5e4dc0a96",
   "metadata": {},
   "outputs": [],
   "source": [
    "multidiscrete_converter = MultiDiscreteConverter(m, k)\n",
    "multidiscrete_fitness_calculator = FitnessCalculator(cost_calculator_factory, multidiscrete_converter)"
   ]
  },
  {
   "cell_type": "code",
   "execution_count": 22,
   "id": "10922c46-b8ad-4809-9f36-d899b90bbcb4",
   "metadata": {},
   "outputs": [],
   "source": [
    "multidiscrete_space_config = GeneticMultiDiscreteSpaceConfig(m, k)"
   ]
  },
  {
   "cell_type": "code",
   "execution_count": 23,
   "id": "7495bf11-0970-42aa-84d4-611b01239bd9",
   "metadata": {},
   "outputs": [],
   "source": [
    "multidiscrete_config = GeneticConfig()"
   ]
  },
  {
   "cell_type": "code",
   "execution_count": 24,
   "id": "0d4fddcf-c9cf-45e6-b2a6-688d2fffdb74",
   "metadata": {},
   "outputs": [],
   "source": [
    "multibinary_progress = IntProgress(min=0, max=config.num_generations, value=0, description='genetic', bar_style='success')"
   ]
  },
  {
   "cell_type": "code",
   "execution_count": 25,
   "id": "cdb0eb45-97f1-4ce2-9f74-2d2a5c56122e",
   "metadata": {},
   "outputs": [],
   "source": [
    "multidiscrete_genetic_solver = GeneticSolver(config, multidiscrete_space_config, multidiscrete_fitness_calculator, multibinary_progress)"
   ]
  },
  {
   "cell_type": "code",
   "execution_count": 26,
   "id": "d1ea5aab-fd26-4869-8c83-bdf963997c73",
   "metadata": {},
   "outputs": [
    {
     "data": {
      "application/vnd.jupyter.widget-view+json": {
       "model_id": "ecdf27a346dd4303bac81fb36a55d4a6",
       "version_major": 2,
       "version_minor": 0
      },
      "text/plain": [
       "IntProgress(value=0, bar_style='success', description='genetic')"
      ]
     },
     "metadata": {},
     "output_type": "display_data"
    },
    {
     "data": {
      "text/plain": [
       "(array([2, 0, 2, 0]), 1.0, 0, 0.26035499572753906)"
      ]
     },
     "execution_count": 26,
     "metadata": {},
     "output_type": "execute_result"
    }
   ],
   "source": [
    "display(multibinary_progress)\n",
    "multidiscrete_genetic_solver.solve()"
   ]
  },
  {
   "cell_type": "code",
   "execution_count": null,
   "id": "b9b4af95-7938-41f9-87c4-e34f05e8dea5",
   "metadata": {},
   "outputs": [],
   "source": []
  },
  {
   "cell_type": "code",
   "execution_count": 27,
   "id": "4dd92bf9-7e03-4cee-8f39-0ed27b32f873",
   "metadata": {},
   "outputs": [
    {
     "name": "stdout",
     "output_type": "stream",
     "text": [
      "Лучшее решение\n",
      "[[0 1 0]\n",
      " [0 0 1]\n",
      " [0 1 0]\n",
      " [0 0 1]]\n",
      "Значение функции пригодности 1.0\n",
      "Стоимость 1\n"
     ]
    },
    {
     "data": {
      "image/png": "[encoded data removed]",
      "text/plain": [
       "<Figure size 640x480 with 1 Axes>"
      ]
     },
     "metadata": {},
     "output_type": "display_data"
    }
   ],
   "source": [
    "show_result(multibinary_genetic_solver, cost_calculator_factory, multibinary_converter)"
   ]
  },
  {
   "cell_type": "code",
   "execution_count": 28,
   "id": "2de716a1-3b77-4862-a347-691fc9183d8f",
   "metadata": {},
   "outputs": [
    {
     "name": "stdout",
     "output_type": "stream",
     "text": [
      "Лучшее решение\n",
      "[[0. 1. 0.]\n",
      " [0. 0. 1.]\n",
      " [0. 1. 0.]\n",
      " [0. 0. 1.]]\n",
      "Значение функции пригодности 1.0\n",
      "Стоимость 1\n"
     ]
    },
    {
     "data": {
      "image/png": "[encoded data removed]",
      "text/plain": [
       "<Figure size 640x480 with 1 Axes>"
      ]
     },
     "metadata": {},
     "output_type": "display_data"
    }
   ],
   "source": [
    "show_result(multidiscrete_genetic_solver, cost_calculator_factory, multidiscrete_converter)"
   ]
  },
  {
   "cell_type": "code",
   "execution_count": null,
   "id": "34b04c2a-eedd-4b1b-94c7-9674510eba46",
   "metadata": {},
   "outputs": [],
   "source": []
  }
 ],
 "metadata": {
  "kernelspec": {
   "display_name": "Python 3 (ipykernel)",
   "language": "python",
   "name": "python3"
  },
  "language_info": {
   "codemirror_mode": {
    "name": "ipython",
    "version": 3
   },
   "file_extension": ".py",
   "mimetype": "text/x-python",
   "name": "python",
   "nbconvert_exporter": "python",
   "pygments_lexer": "ipython3",
   "version": "3.12.1"
  }
 },
 "nbformat": 4,
 "nbformat_minor": 5
}
