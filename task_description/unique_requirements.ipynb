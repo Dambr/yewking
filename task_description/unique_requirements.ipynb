{
 "cells": [
  {
   "cell_type": "code",
   "execution_count": 17,
   "id": "f64f7c3b-113a-48c6-bf44-66818ef5890e",
   "metadata": {},
   "outputs": [],
   "source": [
    "import numpy as np"
   ]
  },
  {
   "cell_type": "code",
   "execution_count": 100,
   "id": "ee3683ac-8e60-4375-bcbf-cedba795ae97",
   "metadata": {},
   "outputs": [],
   "source": [
    "from dependencies_calculator import DependenciesCalculator"
   ]
  },
  {
   "cell_type": "code",
   "execution_count": 26,
   "id": "f119d74a-2c1d-4147-af92-140ac950bd81",
   "metadata": {},
   "outputs": [],
   "source": [
    "n = 2"
   ]
  },
  {
   "cell_type": "code",
   "execution_count": 83,
   "id": "fcc22608-4db1-4c3c-8431-103434a3d912",
   "metadata": {},
   "outputs": [],
   "source": [
    "R = np.array([\n",
    "    [1, 0],\n",
    "    [1, 0],\n",
    "    [0, 1]\n",
    "])"
   ]
  },
  {
   "cell_type": "code",
   "execution_count": 84,
   "id": "1973fac2-4f35-477b-a8c3-b6fa50ede737",
   "metadata": {},
   "outputs": [],
   "source": [
    "U = np.zeros((2 ** n, n))"
   ]
  },
  {
   "cell_type": "code",
   "execution_count": 85,
   "id": "649105c4-b7a0-4ac3-acf4-df45dac62403",
   "metadata": {},
   "outputs": [],
   "source": [
    "def bin_arr_to_dec_number(array):\n",
    "    s_array = [str(el) for el in array]\n",
    "    joined = ''.join(s_array)\n",
    "    result = int(joined, 2)\n",
    "    return result"
   ]
  },
  {
   "cell_type": "code",
   "execution_count": 86,
   "id": "67aa9bfd-c11b-4d3c-88b5-7532bd4711db",
   "metadata": {},
   "outputs": [],
   "source": [
    "def my_bin_arr_to_dec_number(array):\n",
    "    length = len(array)\n",
    "    result = 0\n",
    "    for i in range(length):\n",
    "        value = array[i]\n",
    "        pow_value = length - (i + 1)\n",
    "        term = value * (2 ** pow_value)\n",
    "        result += term\n",
    "    return result"
   ]
  },
  {
   "cell_type": "code",
   "execution_count": 90,
   "id": "7dbe5ce1-0f7b-4cb4-a010-e914cb89ff06",
   "metadata": {},
   "outputs": [],
   "source": [
    "for array in R:\n",
    "    index = my_bin_arr_to_dec_number(array)\n",
    "    U[index] = array"
   ]
  },
  {
   "cell_type": "code",
   "execution_count": 92,
   "id": "13e4860e-2608-4dd0-9040-8b1a948d4998",
   "metadata": {},
   "outputs": [
    {
     "data": {
      "text/plain": [
       "array([[0., 0.],\n",
       "       [0., 1.],\n",
       "       [1., 0.],\n",
       "       [0., 0.]])"
      ]
     },
     "execution_count": 92,
     "metadata": {},
     "output_type": "execute_result"
    }
   ],
   "source": [
    "U"
   ]
  },
  {
   "cell_type": "markdown",
   "id": "e62fc2fe-c3f0-4dd9-9622-ef163d58aab3",
   "metadata": {},
   "source": [
    "$$U_{\\sum^{n}_{j = 1}(R_{i, n - j} \\cdot 2^{n - j})} = R_{i}$$"
   ]
  },
  {
   "cell_type": "code",
   "execution_count": 94,
   "id": "20253978-1676-46d0-80ec-3014519e1c51",
   "metadata": {},
   "outputs": [],
   "source": [
    "T = np.array([\n",
    "    [  1,   0,   0,   0],\n",
    "    [0.5, 0.5,   0,   0],\n",
    "    [  0, 0.5, 0.5,   0],\n",
    "    [  0,   0, 0.5, 0.5],\n",
    "    [  0,   0,   0,   1]\n",
    "])"
   ]
  },
  {
   "cell_type": "code",
   "execution_count": 95,
   "id": "3994c0f2-4314-4668-aa76-bc87cb9e3722",
   "metadata": {},
   "outputs": [],
   "source": [
    "D = np.array([\n",
    "    [0, 0, 1, 0],\n",
    "    [0, 0, 1, 1],\n",
    "    [0, 0, 0, 0],\n",
    "    [0, 0, 0, 0]\n",
    "])"
   ]
  },
  {
   "cell_type": "code",
   "execution_count": 96,
   "id": "55e7df89-792d-44b5-90dd-63956b284241",
   "metadata": {},
   "outputs": [],
   "source": [
    "m = np.shape(T)[1]"
   ]
  },
  {
   "cell_type": "code",
   "execution_count": 97,
   "id": "f6dfc8a5-cb2f-4e7d-88a8-9a55b7a2b74a",
   "metadata": {},
   "outputs": [],
   "source": [
    "k = 3"
   ]
  },
  {
   "cell_type": "code",
   "execution_count": 104,
   "id": "26ec68af-122b-43cb-b726-e05c4068a3a4",
   "metadata": {},
   "outputs": [],
   "source": [
    "R = np.array([\n",
    "    [1, 0, 0, 0, 0],\n",
    "    [0, 1, 0, 0, 0],\n",
    "    [0, 0, 1, 0, 0]\n",
    "])"
   ]
  },
  {
   "cell_type": "code",
   "execution_count": 115,
   "id": "3cbef7d9-7944-43da-b5ed-f5a5483e0cc4",
   "metadata": {},
   "outputs": [
    {
     "data": {
      "text/plain": [
       "array([[1. , 0. , 0. , 0. ],\n",
       "       [0.5, 0.5, 0. , 0. ],\n",
       "       [0. , 0.5, 0.5, 0. ]])"
      ]
     },
     "execution_count": 115,
     "metadata": {},
     "output_type": "execute_result"
    }
   ],
   "source": []
  },
  {
   "cell_type": "code",
   "execution_count": 109,
   "id": "14ded630-d486-4e0e-a0c4-0fb136d012ad",
   "metadata": {},
   "outputs": [],
   "source": [
    "class DependenciesCalculator:\n",
    "    def __init__(self, D, m):\n",
    "        self.D = D\n",
    "        self.m = m\n",
    "\n",
    "    def calculate(self):\n",
    "        D = self.D\n",
    "        m = self.m\n",
    "\n",
    "        shape = np.shape(D)\n",
    "        deps = np.zeros(shape)\n",
    "        deps = self.normalize_deps(deps)\n",
    "        for j in range(m):\n",
    "            dep = np.linalg.matrix_power(D, j)\n",
    "            dep = self.normalize_deps(dep)\n",
    "            deps += dep\n",
    "        deps = self.normalize_deps(deps)\n",
    "        return deps\n",
    "\n",
    "    def normalize_deps(self, deps):\n",
    "        f_in = lambda x: 0 if x == 0 else 1\n",
    "        result = [[f_in(el) for el in row] for row in deps]\n",
    "        return np.array(result)"
   ]
  },
  {
   "cell_type": "code",
   "execution_count": 125,
   "id": "be46761f-f7b5-4696-88e9-5383f830e350",
   "metadata": {},
   "outputs": [],
   "source": [
    "def convert(fun, mtx):\n",
    "    result = np.zeros(np.shape(mtx))\n",
    "\n",
    "    for i in range(len(mtx)):\n",
    "        for j in range(len(mtx[i])):\n",
    "            el = mtx[i][j]\n",
    "            value = fun(el)\n",
    "            result[i][j] = value\n",
    "    \n",
    "    return result"
   ]
  },
  {
   "cell_type": "code",
   "execution_count": 126,
   "id": "2a051845-2d47-49cb-8204-d7183498e8e5",
   "metadata": {},
   "outputs": [],
   "source": [
    "def f_in(mtx):\n",
    "    fun = lambda x: 0 if x == 0 else 1\n",
    "    return convert(fun, mtx)"
   ]
  },
  {
   "cell_type": "code",
   "execution_count": 127,
   "id": "c25242ae-2f36-4abb-ab9b-c25bc2355140",
   "metadata": {},
   "outputs": [],
   "source": [
    "def f_im(mtx):\n",
    "    fun = lambda x: 0 if x < 1 else 1\n",
    "    return convert(fun, mtx)"
   ]
  },
  {
   "cell_type": "code",
   "execution_count": 128,
   "id": "02f34fd0-c809-4dfc-b0d4-b5996732a044",
   "metadata": {},
   "outputs": [],
   "source": [
    "deps_calculator = DependenciesCalculator(D, m)"
   ]
  },
  {
   "cell_type": "code",
   "execution_count": 129,
   "id": "553b96f2-8410-43a3-8959-44fe55f1bde4",
   "metadata": {},
   "outputs": [],
   "source": [
    "sum_D = deps_calculator.calculate()"
   ]
  },
  {
   "cell_type": "code",
   "execution_count": 130,
   "id": "b9c1cdbc-d814-428c-a7e2-f370fe6a92e6",
   "metadata": {},
   "outputs": [],
   "source": [
    "X = np.array([[1., 0., 0.],\n",
    "              [0., 0., 1.],\n",
    "              [1., 0., 0.],\n",
    "              [0., 0., 1.]])"
   ]
  },
  {
   "cell_type": "code",
   "execution_count": 136,
   "id": "49df43bc-e50d-4ac0-8c84-5dedb18010cb",
   "metadata": {},
   "outputs": [
    {
     "data": {
      "text/plain": [
       "array([[1. , 0. , 0. , 0. ],\n",
       "       [0.5, 0.5, 0. , 0. ],\n",
       "       [0. , 0.5, 0.5, 0. ]])"
      ]
     },
     "execution_count": 136,
     "metadata": {},
     "output_type": "execute_result"
    }
   ],
   "source": [
    "F = R.dot(T)\n",
    "F"
   ]
  },
  {
   "cell_type": "code",
   "execution_count": 137,
   "id": "cb92d4d6-c119-4150-bee0-e52d05ea0274",
   "metadata": {},
   "outputs": [
    {
     "data": {
      "text/plain": [
       "array([[1. , 0. , 1. , 0. ],\n",
       "       [0.5, 0.5, 1. , 0.5],\n",
       "       [0. , 0.5, 1. , 0.5]])"
      ]
     },
     "execution_count": 137,
     "metadata": {},
     "output_type": "execute_result"
    }
   ],
   "source": [
    "F = F.dot(sum_D)\n",
    "F"
   ]
  },
  {
   "cell_type": "code",
   "execution_count": 138,
   "id": "29ccd585-e4d0-4d7a-91d5-d78be653f0c4",
   "metadata": {},
   "outputs": [
    {
     "data": {
      "text/plain": [
       "array([[2. , 0. , 0. ],\n",
       "       [1.5, 0. , 1. ],\n",
       "       [1. , 0. , 1. ]])"
      ]
     },
     "execution_count": 138,
     "metadata": {},
     "output_type": "execute_result"
    }
   ],
   "source": [
    "P = F.dot(X)\n",
    "P"
   ]
  },
  {
   "cell_type": "code",
   "execution_count": 139,
   "id": "c14503a3-e216-43c1-bad3-fa0807c341cb",
   "metadata": {},
   "outputs": [
    {
     "data": {
      "text/plain": [
       "array([[1., 0., 0.],\n",
       "       [1., 0., 1.],\n",
       "       [1., 0., 1.]])"
      ]
     },
     "execution_count": 139,
     "metadata": {},
     "output_type": "execute_result"
    }
   ],
   "source": [
    "P = f_in(P)\n",
    "P"
   ]
  },
  {
   "cell_type": "code",
   "execution_count": 142,
   "id": "d40e59d7-050f-41b7-972d-be606141c8ec",
   "metadata": {},
   "outputs": [
    {
     "data": {
      "text/plain": [
       "array([[1., 1., 1.],\n",
       "       [0., 0., 0.],\n",
       "       [0., 1., 1.]])"
      ]
     },
     "execution_count": 142,
     "metadata": {},
     "output_type": "execute_result"
    }
   ],
   "source": [
    "P.T"
   ]
  },
  {
   "cell_type": "code",
   "execution_count": null,
   "id": "f05e91b2-37f8-4517-a533-145736a6c7c8",
   "metadata": {},
   "outputs": [],
   "source": []
  }
 ],
 "metadata": {
  "kernelspec": {
   "display_name": "Python 3 (ipykernel)",
   "language": "python",
   "name": "python3"
  },
  "language_info": {
   "codemirror_mode": {
    "name": "ipython",
    "version": 3
   },
   "file_extension": ".py",
   "mimetype": "text/x-python",
   "name": "python",
   "nbconvert_exporter": "python",
   "pygments_lexer": "ipython3",
   "version": "3.12.1"
  }
 },
 "nbformat": 4,
 "nbformat_minor": 5
}
