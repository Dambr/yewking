{
 "cells": [
  {
   "cell_type": "code",
   "execution_count": 17,
   "id": "f64f7c3b-113a-48c6-bf44-66818ef5890e",
   "metadata": {},
   "outputs": [],
   "source": [
    "import numpy as np"
   ]
  },
  {
   "cell_type": "code",
   "execution_count": 26,
   "id": "f119d74a-2c1d-4147-af92-140ac950bd81",
   "metadata": {},
   "outputs": [],
   "source": [
    "n = 2"
   ]
  },
  {
   "cell_type": "code",
   "execution_count": 83,
   "id": "fcc22608-4db1-4c3c-8431-103434a3d912",
   "metadata": {},
   "outputs": [],
   "source": [
    "R = np.array([\n",
    "    [1, 0],\n",
    "    [1, 0],\n",
    "    [0, 1]\n",
    "])"
   ]
  },
  {
   "cell_type": "code",
   "execution_count": 84,
   "id": "1973fac2-4f35-477b-a8c3-b6fa50ede737",
   "metadata": {},
   "outputs": [],
   "source": [
    "U = np.zeros((2 ** n, n))"
   ]
  },
  {
   "cell_type": "code",
   "execution_count": 85,
   "id": "649105c4-b7a0-4ac3-acf4-df45dac62403",
   "metadata": {},
   "outputs": [],
   "source": [
    "def bin_arr_to_dec_number(array):\n",
    "    s_array = [str(el) for el in array]\n",
    "    joined = ''.join(s_array)\n",
    "    result = int(joined, 2)\n",
    "    return result"
   ]
  },
  {
   "cell_type": "code",
   "execution_count": 86,
   "id": "67aa9bfd-c11b-4d3c-88b5-7532bd4711db",
   "metadata": {},
   "outputs": [],
   "source": [
    "def my_bin_arr_to_dec_number(array):\n",
    "    length = len(array)\n",
    "    result = 0\n",
    "    for i in range(length):\n",
    "        value = array[i]\n",
    "        pow_value = length - (i + 1)\n",
    "        term = value * (2 ** pow_value)\n",
    "        result += term\n",
    "    return result"
   ]
  },
  {
   "cell_type": "code",
   "execution_count": 90,
   "id": "7dbe5ce1-0f7b-4cb4-a010-e914cb89ff06",
   "metadata": {},
   "outputs": [],
   "source": [
    "for array in R:\n",
    "    index = my_bin_arr_to_dec_number(array)\n",
    "    U[index] = array"
   ]
  },
  {
   "cell_type": "code",
   "execution_count": 92,
   "id": "13e4860e-2608-4dd0-9040-8b1a948d4998",
   "metadata": {},
   "outputs": [
    {
     "data": {
      "text/plain": [
       "array([[0., 0.],\n",
       "       [0., 1.],\n",
       "       [1., 0.],\n",
       "       [0., 0.]])"
      ]
     },
     "execution_count": 92,
     "metadata": {},
     "output_type": "execute_result"
    }
   ],
   "source": [
    "U"
   ]
  },
  {
   "cell_type": "markdown",
   "id": "e62fc2fe-c3f0-4dd9-9622-ef163d58aab3",
   "metadata": {},
   "source": [
    "$$U_{\\sum^{n}_{j = 1}(R_{i, n - j} \\cdot 2^{n - j})} = R_{i}$$"
   ]
  },
  {
   "cell_type": "code",
   "execution_count": null,
   "id": "20253978-1676-46d0-80ec-3014519e1c51",
   "metadata": {},
   "outputs": [],
   "source": []
  }
 ],
 "metadata": {
  "kernelspec": {
   "display_name": "Python 3 (ipykernel)",
   "language": "python",
   "name": "python3"
  },
  "language_info": {
   "codemirror_mode": {
    "name": "ipython",
    "version": 3
   },
   "file_extension": ".py",
   "mimetype": "text/x-python",
   "name": "python",
   "nbconvert_exporter": "python",
   "pygments_lexer": "ipython3",
   "version": "3.12.1"
  }
 },
 "nbformat": 4,
 "nbformat_minor": 5
}
