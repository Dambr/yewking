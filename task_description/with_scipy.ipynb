{
 "cells": [
  {
   "cell_type": "code",
   "execution_count": 1,
   "id": "f5d9a354-3f3d-4248-bab5-fdb746a2f5a0",
   "metadata": {},
   "outputs": [],
   "source": [
    "import numpy as np"
   ]
  },
  {
   "cell_type": "code",
   "execution_count": 2,
   "id": "76375f98-4951-448c-84ad-811e68d93995",
   "metadata": {},
   "outputs": [],
   "source": [
    "from scipy.optimize import LinearConstraint"
   ]
  },
  {
   "cell_type": "code",
   "execution_count": 3,
   "id": "acf8ff85-dcd0-4598-bf7f-61141adc1c6b",
   "metadata": {},
   "outputs": [],
   "source": [
    "from scipy.optimize import milp"
   ]
  },
  {
   "cell_type": "code",
   "execution_count": 4,
   "id": "a9b81e3b-206c-4e57-aee8-97666e3bd03c",
   "metadata": {},
   "outputs": [],
   "source": [
    "c = -np.array([1, 1])"
   ]
  },
  {
   "cell_type": "code",
   "execution_count": 5,
   "id": "9695613f-7493-472c-86f2-91d1abdbbe18",
   "metadata": {},
   "outputs": [],
   "source": [
    "A = np.array([\n",
    "             [-1, 1], \n",
    "             [3, 2], \n",
    "             [2, 3]\n",
    "             ])"
   ]
  },
  {
   "cell_type": "code",
   "execution_count": 6,
   "id": "61220a1e-f866-4fef-8999-d0e5c2832660",
   "metadata": {},
   "outputs": [],
   "source": [
    "b_u = np.array([1, 12, 12])"
   ]
  },
  {
   "cell_type": "code",
   "execution_count": 7,
   "id": "91ad7efe-758b-40e6-b222-4a2c15f62dc1",
   "metadata": {},
   "outputs": [],
   "source": [
    "b_l = np.array([-np.inf, -np.inf, -np.inf])"
   ]
  },
  {
   "cell_type": "code",
   "execution_count": 8,
   "id": "eabf27d5-464b-4912-ad41-b27e07e99aea",
   "metadata": {},
   "outputs": [],
   "source": [
    "constraints = [LinearConstraint(A, b_l, b_u)]"
   ]
  },
  {
   "cell_type": "code",
   "execution_count": 9,
   "id": "681e8233-de7a-4c94-8b17-ffdc05c29858",
   "metadata": {},
   "outputs": [],
   "source": [
    "integrality = np.ones_like(c)"
   ]
  },
  {
   "cell_type": "code",
   "execution_count": 10,
   "id": "9e54e54a-3981-459b-90d8-28586d64ee7e",
   "metadata": {},
   "outputs": [],
   "source": [
    "res = milp(c=c, constraints=constraints, bounds=(0, 10), integrality=integrality)"
   ]
  },
  {
   "cell_type": "code",
   "execution_count": 11,
   "id": "787e2b12-3520-44fb-b2b4-610b033800d0",
   "metadata": {},
   "outputs": [
    {
     "data": {
      "text/plain": [
       "        message: Optimization terminated successfully. (HiGHS Status 7: Optimal)\n",
       "        success: True\n",
       "         status: 0\n",
       "            fun: -4.0\n",
       "              x: [ 2.000e+00  2.000e+00]\n",
       " mip_node_count: 1\n",
       " mip_dual_bound: -4.0\n",
       "        mip_gap: 0.0"
      ]
     },
     "execution_count": 11,
     "metadata": {},
     "output_type": "execute_result"
    }
   ],
   "source": [
    "res"
   ]
  },
  {
   "cell_type": "code",
   "execution_count": 12,
   "id": "bd8f58db-58af-49fb-90ab-e18c6a1540d8",
   "metadata": {},
   "outputs": [
    {
     "data": {
      "text/plain": [
       "array([2., 2.])"
      ]
     },
     "execution_count": 12,
     "metadata": {},
     "output_type": "execute_result"
    }
   ],
   "source": [
    "res.x"
   ]
  },
  {
   "cell_type": "code",
   "execution_count": null,
   "id": "53563ed3-ed7f-49b9-b9ba-7459847ecd72",
   "metadata": {},
   "outputs": [],
   "source": []
  }
 ],
 "metadata": {
  "kernelspec": {
   "display_name": "Python 3 (ipykernel)",
   "language": "python",
   "name": "python3"
  },
  "language_info": {
   "codemirror_mode": {
    "name": "ipython",
    "version": 3
   },
   "file_extension": ".py",
   "mimetype": "text/x-python",
   "name": "python",
   "nbconvert_exporter": "python",
   "pygments_lexer": "ipython3",
   "version": "3.12.1"
  }
 },
 "nbformat": 4,
 "nbformat_minor": 5
}
