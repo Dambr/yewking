{
 "cells": [
  {
   "cell_type": "code",
   "execution_count": 1,
   "id": "3827fc6d-8338-4fbe-8e28-b44c1ae62847",
   "metadata": {},
   "outputs": [],
   "source": [
    "import numpy as np"
   ]
  },
  {
   "cell_type": "code",
   "execution_count": 2,
   "id": "ed63239d-26fe-420b-b78d-51f7121910fa",
   "metadata": {},
   "outputs": [],
   "source": [
    "R = np.array([0, 0, 1, 0, 0]) # Полезные требования"
   ]
  },
  {
   "cell_type": "code",
   "execution_count": 3,
   "id": "9be3c314-1d51-4af5-9097-29ec8de11df1",
   "metadata": {},
   "outputs": [],
   "source": [
    "# Матрица трассируемости требований на файлы исходного кода\n",
    "Erf = np.array([[1, 0, 0, 0],\n",
    "                [0.5, 0.5, 0, 0],\n",
    "                [0, 0.5, 0.5, 0],\n",
    "                [0, 0, 0.5, 0.5],\n",
    "                [0, 0, 0, 1]])"
   ]
  },
  {
   "cell_type": "code",
   "execution_count": 4,
   "id": "50407d64-f656-4c05-8bab-18cff403aa5e",
   "metadata": {},
   "outputs": [],
   "source": [
    "# Матрица зависимостей между файлами исходного кода\n",
    "Efd = np.array([[0, 0, 0, 0],\n",
    "                [1, 0, 0, 0], # на файл № 2 имеется зависимость у файла № 1\n",
    "                [0, 0, 0, 0],\n",
    "                [0, 0, 0, 0]])"
   ]
  },
  {
   "cell_type": "code",
   "execution_count": 5,
   "id": "ff6c1a0e-1639-4365-aec5-3224e58a0b6c",
   "metadata": {},
   "outputs": [],
   "source": [
    "# Матрица распределения файлов по плагинам. Именно эти коэффициенты необходимо подобрать в работе\n",
    "Efp = np.array([[1, 0, 0],\n",
    "                [0, 1, 0],\n",
    "                [0, 1, 0],\n",
    "                [0, 0, 1]])"
   ]
  },
  {
   "cell_type": "code",
   "execution_count": 6,
   "id": "9406e132-faac-4037-9bdd-a38ea0e6e1fd",
   "metadata": {},
   "outputs": [],
   "source": [
    "def activate(vec):\n",
    "    for i in range(len(vec)):\n",
    "        vec[i] = 1 if vec[i] > 0 else 0"
   ]
  },
  {
   "cell_type": "code",
   "execution_count": 7,
   "id": "d822c9bd-eaa7-4516-8f2d-ce36176afe3c",
   "metadata": {},
   "outputs": [],
   "source": [
    "def R_activate(vec):\n",
    "    for i in range(len(vec)):\n",
    "        vec[i] = 1 if vec[i] == 1 else 0"
   ]
  },
  {
   "cell_type": "code",
   "execution_count": 8,
   "id": "71e9b582-f2ab-4534-af22-46efe7c2dade",
   "metadata": {},
   "outputs": [],
   "source": [
    "def calc_dependencies(x):\n",
    "    if x == 0:\n",
    "        return np.dot(Efd, F)\n",
    "    else:\n",
    "        return np.dot(Efd, calc_dependencies(x - 1))"
   ]
  },
  {
   "cell_type": "code",
   "execution_count": 9,
   "id": "68606d3a-595d-4e91-bba1-328b34b57814",
   "metadata": {},
   "outputs": [],
   "source": [
    "F = np.dot(R, Erf) # Задействованные файлы"
   ]
  },
  {
   "cell_type": "code",
   "execution_count": 10,
   "id": "345e222b-71cf-4207-9065-9329a47a1508",
   "metadata": {},
   "outputs": [],
   "source": [
    "for i in range(len(F)):\n",
    "    dependencies = calc_dependencies(i)\n",
    "    F += dependencies"
   ]
  },
  {
   "cell_type": "code",
   "execution_count": 11,
   "id": "e2ef2832-82f5-4d2d-9045-523847b6258d",
   "metadata": {},
   "outputs": [],
   "source": [
    "activate(F) # Активация элементов слоя файлов"
   ]
  },
  {
   "cell_type": "code",
   "execution_count": 12,
   "id": "421ee897-9224-4fe8-a519-7936d10eb2b2",
   "metadata": {},
   "outputs": [],
   "source": [
    "P = np.dot(F, Efp) # Задействованные плагины"
   ]
  },
  {
   "cell_type": "code",
   "execution_count": 13,
   "id": "8598dec0-5379-42dd-b4d8-7b91e3510329",
   "metadata": {},
   "outputs": [],
   "source": [
    "activate(P) # Активация элементов слоя плагинов"
   ]
  },
  {
   "cell_type": "code",
   "execution_count": 14,
   "id": "16f4d79b-df5a-4267-8517-e0a15dd3c1db",
   "metadata": {},
   "outputs": [],
   "source": [
    "F_d = np.dot(Efp, P) # Вошедшие в поставку файлы исходного кода"
   ]
  },
  {
   "cell_type": "code",
   "execution_count": 15,
   "id": "17bbd09d-6b7d-4432-9383-ec4f9e4be939",
   "metadata": {},
   "outputs": [],
   "source": [
    "activate(F_d) # Активация элементов слоя файлов"
   ]
  },
  {
   "cell_type": "code",
   "execution_count": 16,
   "id": "73400c22-c3e4-4469-b732-2674ee69c4b7",
   "metadata": {},
   "outputs": [],
   "source": [
    "R_d = np.dot(Erf, F_d) # Вошедшие в поставку требования"
   ]
  },
  {
   "cell_type": "code",
   "execution_count": 17,
   "id": "bbfebd92-4dd1-45dd-995f-c98a710caef5",
   "metadata": {},
   "outputs": [],
   "source": [
    "R_activate(R_d) # Активация элементов слоя требований"
   ]
  },
  {
   "cell_type": "code",
   "execution_count": 18,
   "id": "a516f113-20e3-45db-a7e6-f5d2afab0c6a",
   "metadata": {},
   "outputs": [],
   "source": [
    "K_un = (sum(R_d) - sum(R)) / (sum(R_d)) # Коэффициент бесполезности"
   ]
  },
  {
   "cell_type": "code",
   "execution_count": 19,
   "id": "b399e0cd-46cf-4260-8172-97bd7cdf2aa6",
   "metadata": {},
   "outputs": [
    {
     "data": {
      "text/plain": [
       "'Коэффициент бесполезности в данной поставке = 0%'"
      ]
     },
     "execution_count": 19,
     "metadata": {},
     "output_type": "execute_result"
    }
   ],
   "source": [
    "'Коэффициент бесполезности в данной поставке = ' + str(int(round(K_un, 2) * 100)) + '%'"
   ]
  },
  {
   "cell_type": "code",
   "execution_count": 20,
   "id": "ce0feb28-eb8f-4808-b1e7-5fed862719fc",
   "metadata": {},
   "outputs": [],
   "source": [
    "def main(R):\n",
    "    F = np.dot(R, Erf) # Задействованные файлы\n",
    "    for i in range(len(F)):\n",
    "        dependencies = calc_dependencies(i)\n",
    "        F += dependencies\n",
    "    activate(F)\n",
    "    P = np.dot(F, Efp)\n",
    "    activate(P)\n",
    "    F_d = np.dot(Efp, P)\n",
    "    activate(F_d)\n",
    "    R_d = np.dot(Erf, F_d)\n",
    "    R_activate(R_d)\n",
    "    K_un = (sum(R_d) - sum(R)) / (sum(R_d))\n",
    "    return K_un"
   ]
  },
  {
   "cell_type": "code",
   "execution_count": 21,
   "id": "5d51697e-5876-47c9-bd01-92f28ccdace9",
   "metadata": {},
   "outputs": [],
   "source": [
    "def calc_K(K):\n",
    "    for R in R_v:\n",
    "        R = np.array(R)\n",
    "        K_un = main(R)\n",
    "        K_un = round(K_un, 1)\n",
    "        K.append(K_un)"
   ]
  },
  {
   "cell_type": "code",
   "execution_count": 22,
   "id": "a5f2c215-8e14-493b-8868-22045f515c6e",
   "metadata": {},
   "outputs": [],
   "source": [
    "R_v = [\n",
    "#    5, 4, 3, 2, 1\n",
    "    [0, 0, 0, 0, 1], # 1\n",
    "    [0, 0, 0, 1, 0], # 2\n",
    "    [0, 0, 0, 1, 1], # 3\n",
    "    [0, 0, 1, 0, 0], # 4\n",
    "    [0, 0, 1, 0, 1], # 5\n",
    "    [0, 0, 1, 1, 0], # 6\n",
    "    [0, 0, 1, 1, 1], # 7\n",
    "    [0, 1, 0, 0, 0], # 8\n",
    "    [0, 1, 0, 0, 1], # 9\n",
    "    [0, 1, 0, 1, 0], # 10\n",
    "    [0, 1, 0, 1, 1], # 11\n",
    "    [0, 1, 1, 0, 0], # 12\n",
    "    [0, 1, 1, 0, 1], # 13\n",
    "    [0, 1, 1, 1, 0], # 14\n",
    "    [0, 1, 1, 1, 1], # 15\n",
    "    [1, 0, 0, 0, 0], # 16\n",
    "    [1, 0, 0, 0, 1], # 17\n",
    "    [1, 0, 0, 1, 0], # 18\n",
    "    [1, 0, 0, 1, 1], # 19\n",
    "    [1, 0, 1, 0, 0], # 20\n",
    "    [1, 0, 1, 0, 1], # 21\n",
    "    [1, 0, 1, 1, 0], # 22\n",
    "    [1, 0, 1, 1, 1], # 23\n",
    "    [1, 1, 0, 0, 0], # 24\n",
    "    [1, 1, 0, 0, 1], # 25\n",
    "    [1, 1, 0, 1, 0], # 26\n",
    "    [1, 1, 0, 1, 1], # 27\n",
    "    [1, 1, 1, 0, 0], # 28\n",
    "    [1, 1, 1, 0, 1], # 29\n",
    "    [1, 1, 1, 1, 0], # 30\n",
    "    [1, 1, 1, 1, 1]  # 31\n",
    "]"
   ]
  },
  {
   "cell_type": "code",
   "execution_count": 23,
   "id": "de1f704d-247d-41c1-827c-5af986de106e",
   "metadata": {},
   "outputs": [],
   "source": [
    "Efp = np.array([[1, 0, 0],\n",
    "                [0, 1, 0],\n",
    "                [0, 1, 0],\n",
    "                [0, 0, 1]])"
   ]
  },
  {
   "cell_type": "code",
   "execution_count": 24,
   "id": "2d5359e3-3843-4f97-a56c-727c813ee639",
   "metadata": {},
   "outputs": [],
   "source": [
    "K1 = []\n",
    "calc_K(K1)"
   ]
  },
  {
   "cell_type": "code",
   "execution_count": 25,
   "id": "d74f7eab-052f-4529-b3bb-f5790fa4f7c0",
   "metadata": {},
   "outputs": [],
   "source": [
    "Efp = np.array([[1, 0, 0],\n",
    "                [1, 0, 0],\n",
    "                [0, 1, 0],\n",
    "                [0, 0, 1]])"
   ]
  },
  {
   "cell_type": "code",
   "execution_count": 26,
   "id": "5784a485-b6bd-4f3c-9539-6cc0cd438259",
   "metadata": {},
   "outputs": [],
   "source": [
    "K2 = []\n",
    "calc_K(K2)"
   ]
  },
  {
   "cell_type": "code",
   "execution_count": 27,
   "id": "fb373bc4-cef5-4fa8-bd12-58a57fb55cf6",
   "metadata": {
    "scrolled": true
   },
   "outputs": [
    {
     "data": {
      "text/plain": [
       "[0.0,\n",
       " 0.7,\n",
       " 0.3,\n",
       " 0.0,\n",
       " 0.3,\n",
       " 0.3,\n",
       " 0.0,\n",
       " 0.7,\n",
       " 0.6,\n",
       " 0.6,\n",
       " 0.4,\n",
       " 0.3,\n",
       " 0.4,\n",
       " 0.4,\n",
       " 0.2,\n",
       " 0.0,\n",
       " 0.0,\n",
       " 0.6,\n",
       " 0.4,\n",
       " 0.3,\n",
       " 0.4,\n",
       " 0.4,\n",
       " 0.2,\n",
       " 0.3,\n",
       " 0.4,\n",
       " 0.4,\n",
       " 0.2,\n",
       " 0.0,\n",
       " 0.2,\n",
       " 0.2,\n",
       " 0.0]"
      ]
     },
     "execution_count": 27,
     "metadata": {},
     "output_type": "execute_result"
    }
   ],
   "source": [
    "K1"
   ]
  },
  {
   "cell_type": "code",
   "execution_count": 28,
   "id": "a8631067-b2e4-443f-b1ec-af06a8108987",
   "metadata": {
    "scrolled": true
   },
   "outputs": [
    {
     "data": {
      "text/plain": [
       "[0.0,\n",
       " 0.5,\n",
       " 0.0,\n",
       " 0.7,\n",
       " 0.6,\n",
       " 0.6,\n",
       " 0.4,\n",
       " 0.5,\n",
       " 0.3,\n",
       " 0.6,\n",
       " 0.4,\n",
       " 0.3,\n",
       " 0.4,\n",
       " 0.4,\n",
       " 0.2,\n",
       " 0.5,\n",
       " 0.3,\n",
       " 0.6,\n",
       " 0.4,\n",
       " 0.3,\n",
       " 0.4,\n",
       " 0.4,\n",
       " 0.2,\n",
       " 0.0,\n",
       " 0.0,\n",
       " 0.4,\n",
       " 0.2,\n",
       " 0.0,\n",
       " 0.2,\n",
       " 0.2,\n",
       " 0.0]"
      ]
     },
     "execution_count": 28,
     "metadata": {},
     "output_type": "execute_result"
    }
   ],
   "source": [
    "K2"
   ]
  },
  {
   "cell_type": "code",
   "execution_count": 29,
   "id": "16f8fcf2-b82f-4674-8c45-46f490b52fbc",
   "metadata": {},
   "outputs": [],
   "source": [
    "import pandas as pd"
   ]
  },
  {
   "cell_type": "code",
   "execution_count": 31,
   "id": "24847ce0-6d55-47dc-955a-426c58ac5cd4",
   "metadata": {},
   "outputs": [],
   "source": [
    "data = {\n",
    "    \"K1\": K1,\n",
    "    \"K2\": K2\n",
    "}"
   ]
  },
  {
   "cell_type": "code",
   "execution_count": 32,
   "id": "5f5bd653-e939-4abd-845c-3a52cde329dc",
   "metadata": {},
   "outputs": [],
   "source": [
    "df = pd.DataFrame(data)"
   ]
  },
  {
   "cell_type": "code",
   "execution_count": 40,
   "id": "ddc6aa4d-2d0e-4013-a723-64d0a332ca8c",
   "metadata": {},
   "outputs": [
    {
     "data": {
      "text/html": [
       "<div>\n",
       "<style scoped>\n",
       "    .dataframe tbody tr th:only-of-type {\n",
       "        vertical-align: middle;\n",
       "    }\n",
       "\n",
       "    .dataframe tbody tr th {\n",
       "        vertical-align: top;\n",
       "    }\n",
       "\n",
       "    .dataframe thead th {\n",
       "        text-align: right;\n",
       "    }\n",
       "</style>\n",
       "<table border=\"1\" class=\"dataframe\">\n",
       "  <thead>\n",
       "    <tr style=\"text-align: right;\">\n",
       "      <th></th>\n",
       "      <th>K1</th>\n",
       "      <th>K2</th>\n",
       "    </tr>\n",
       "  </thead>\n",
       "  <tbody>\n",
       "    <tr>\n",
       "      <th>count</th>\n",
       "      <td>31.000000</td>\n",
       "      <td>31.000000</td>\n",
       "    </tr>\n",
       "    <tr>\n",
       "      <th>mean</th>\n",
       "      <td>0.296774</td>\n",
       "      <td>0.322581</td>\n",
       "    </tr>\n",
       "    <tr>\n",
       "      <th>std</th>\n",
       "      <td>0.212107</td>\n",
       "      <td>0.207701</td>\n",
       "    </tr>\n",
       "    <tr>\n",
       "      <th>min</th>\n",
       "      <td>0.000000</td>\n",
       "      <td>0.000000</td>\n",
       "    </tr>\n",
       "    <tr>\n",
       "      <th>25%</th>\n",
       "      <td>0.200000</td>\n",
       "      <td>0.200000</td>\n",
       "    </tr>\n",
       "    <tr>\n",
       "      <th>50%</th>\n",
       "      <td>0.300000</td>\n",
       "      <td>0.400000</td>\n",
       "    </tr>\n",
       "    <tr>\n",
       "      <th>75%</th>\n",
       "      <td>0.400000</td>\n",
       "      <td>0.450000</td>\n",
       "    </tr>\n",
       "    <tr>\n",
       "      <th>max</th>\n",
       "      <td>0.700000</td>\n",
       "      <td>0.700000</td>\n",
       "    </tr>\n",
       "  </tbody>\n",
       "</table>\n",
       "</div>"
      ],
      "text/plain": [
       "              K1         K2\n",
       "count  31.000000  31.000000\n",
       "mean    0.296774   0.322581\n",
       "std     0.212107   0.207701\n",
       "min     0.000000   0.000000\n",
       "25%     0.200000   0.200000\n",
       "50%     0.300000   0.400000\n",
       "75%     0.400000   0.450000\n",
       "max     0.700000   0.700000"
      ]
     },
     "execution_count": 40,
     "metadata": {},
     "output_type": "execute_result"
    }
   ],
   "source": [
    "df.describe()"
   ]
  },
  {
   "cell_type": "code",
   "execution_count": null,
   "id": "ebb1830f-275d-45db-a226-9bf9e3e1e0cc",
   "metadata": {},
   "outputs": [],
   "source": []
  }
 ],
 "metadata": {
  "kernelspec": {
   "display_name": "Python 3 (ipykernel)",
   "language": "python",
   "name": "python3"
  },
  "language_info": {
   "codemirror_mode": {
    "name": "ipython",
    "version": 3
   },
   "file_extension": ".py",
   "mimetype": "text/x-python",
   "name": "python",
   "nbconvert_exporter": "python",
   "pygments_lexer": "ipython3",
   "version": "3.12.1"
  }
 },
 "nbformat": 4,
 "nbformat_minor": 5
}
