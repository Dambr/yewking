{
 "cells": [
  {
   "cell_type": "code",
   "execution_count": 27,
   "id": "a7ec0e6a-d27f-46b4-b3d7-66d0d0c64707",
   "metadata": {},
   "outputs": [],
   "source": [
    "# Перечень команд, которые необходимо выполнить перед запуском jupyter notebook для включения решателей:\n",
    "# export PATH=$PATH:/Library/Frameworks/GAMS.framework/Versions/47/Resources/\n",
    "# export PATH=$PATH:/Library/Frameworks/ampl_macos64/\n",
    "\n",
    "# Доступные решатели:\n",
    "# _neos              [-] внутренняя ошибка связанная с работой со строками\n",
    "# _mock_cbc          [-] попытка доступа к несуществующему полю _problem_files у ConcreteModel\n",
    "# glpk               [+] \n",
    "# _glpk_shell        [+] \n",
    "# _mock_glpk         [-] внутренняя ошибка\n",
    "# _mock_cplex        [-] внутренняя ошибка\n",
    "# gurobi_direct      [+] \n",
    "# gurobi             [+] \n",
    "# _gurobi_shell      [+] \n",
    "# baron              [-] внутренняя ошибка\n",
    "# xpress             [+] \n",
    "# ipopt              [- +] работает, но ответ не формируется с целыми значениями\n",
    "# gurobi_persistent  [+] требует предварительный вызов метода set_instance\n",
    "# gams               [+]\n",
    "# _gams_shell        [+]\n",
    "# xpress_direct      [+] \n",
    "# xpress_persistent  [+] требует предварительный вызов метода set_instance\n",
    "# mpec_nlp           [- +] работает, но ответ не формируется с целыми значениями\n",
    "# mpec_minlp         [+] \n",
    "# appsi_gurobi       [+] \n",
    "# gdpopt             [-] требуется дополнительное указание алгоритма через аргумент метода solve         \n",
    "# gdpopt.gloa        [-] внутренняя ошибка\n",
    "# gdpopt.lbb         [-] внутренняя ошибка\n",
    "# gdpopt.loa         [-] внутренняя ошибка\n",
    "# gdpopt.ric         [-] внутренняя ошибка\n",
    "# gdpopt.enumerate   [+] \n",
    "# mindtpy            [-] внутренняя ошибка\n",
    "# mindtpy.oa         [-] внутренняя ошибка\n",
    "# mindtpy.ecp        [+] \n",
    "# mindtpy.goa        [-] внутренняя ошибка\n",
    "# mindtpy.fp         [-] внутренняя ошибка\n",
    "# multistart         [- +] работает, но ответ не формируется с целыми значениями\n",
    "# ipopt_v2           [- +] работает, но ответ не формируется с целыми значениями\n",
    "# gurobi_v2          [+] \n",
    "# gurobi_direct_v2   [-] ошибка разрешения зависимостей\n",
    "# trustregion        [-] для инициализации требуется дополнительный аргумент degrees_of_freedom_variables\n",
    "# ampl               [-] внутренняя ошибка работы решателя"
   ]
  },
  {
   "cell_type": "code",
   "execution_count": 28,
   "id": "fd58fe9d",
   "metadata": {},
   "outputs": [],
   "source": [
    "from generator_d import GeneratorD\n",
    "from generator_e import GeneratorE\n",
    "from generator_p import GeneratorP\n",
    "from generator_t import GeneratorT\n",
    "from model_builder import ModelBuilder\n",
    "from solve_action import SolveAction"
   ]
  },
  {
   "cell_type": "code",
   "execution_count": 29,
   "id": "3853206a-9ab5-48d8-b5c4-df5e2fb748b4",
   "metadata": {},
   "outputs": [],
   "source": [
    "M = 10 ** 6\n",
    "e = 1\n",
    "n = 5\n",
    "m = 4\n",
    "k = 3"
   ]
  },
  {
   "cell_type": "code",
   "execution_count": 30,
   "id": "59ab4ac4-002a-4539-84a5-78adb385d033",
   "metadata": {},
   "outputs": [],
   "source": [
    "generator_t = GeneratorT(n, m, 1, 2)\n",
    "generator_d = GeneratorD(m, 0, 1)\n",
    "generator_p = GeneratorP(n, -5, 10)\n",
    "generator_e = GeneratorE(e, n, 1, 3)"
   ]
  },
  {
   "cell_type": "code",
   "execution_count": 31,
   "id": "1521e84a-0311-40a7-90b3-1c597c53f308",
   "metadata": {},
   "outputs": [],
   "source": [
    "T = generator_t.generate()\n",
    "D = generator_d.generate()\n",
    "P = generator_p.generate()\n",
    "E = generator_e.generate()"
   ]
  },
  {
   "cell_type": "code",
   "execution_count": 32,
   "id": "238606ea-35d9-4d96-95ba-0cce93a6ae57",
   "metadata": {
    "scrolled": true
   },
   "outputs": [],
   "source": [
    "model_builder = ModelBuilder(M, k, T, D, P, E)\n",
    "model = model_builder.build()"
   ]
  },
  {
   "cell_type": "code",
   "execution_count": 33,
   "id": "b1569117-fc35-43f2-b17e-935fae1226cd",
   "metadata": {},
   "outputs": [
    {
     "data": {
      "text/plain": [
       "32"
      ]
     },
     "execution_count": 33,
     "metadata": {},
     "output_type": "execute_result"
    }
   ],
   "source": [
    "var_count = len(model.A) + len(model.f)\n",
    "var_count"
   ]
  },
  {
   "cell_type": "code",
   "execution_count": 34,
   "id": "78203392-e87e-4ff8-b793-2b73e72d22bf",
   "metadata": {},
   "outputs": [
    {
     "data": {
      "text/plain": [
       "0.0875089168548584"
      ]
     },
     "execution_count": 34,
     "metadata": {},
     "output_type": "execute_result"
    }
   ],
   "source": [
    "with_glpk = SolveAction(model, 'glpk')\n",
    "with_glpk.solve().duration"
   ]
  },
  {
   "cell_type": "code",
   "execution_count": 35,
   "id": "800ef784-6ee2-4ec3-82f2-9313fb1a450e",
   "metadata": {},
   "outputs": [],
   "source": [
    "# with_gurobi = SolveAction(model, 'gurobi')\n",
    "# with_gurobi.solve().duration"
   ]
  },
  {
   "cell_type": "code",
   "execution_count": 36,
   "id": "0501bac5-2efd-4f1d-a8fb-d7fddb471b3a",
   "metadata": {},
   "outputs": [],
   "source": [
    "# with_xpress = SolveAction(model, 'xpress')\n",
    "# with_xpress.solve().duration"
   ]
  },
  {
   "cell_type": "code",
   "execution_count": 37,
   "id": "1a774878-544c-45c2-910b-1d13194905e8",
   "metadata": {},
   "outputs": [],
   "source": [
    "# with_gams = SolveAction(model, 'gams')\n",
    "# with_gams.solve().duration"
   ]
  },
  {
   "cell_type": "code",
   "execution_count": 38,
   "id": "195fa721-a3fc-4ff2-9117-b01b995a0731",
   "metadata": {},
   "outputs": [],
   "source": [
    "# with_mpec_minlp = SolveAction(model, 'mpec_minlp')\n",
    "# with_mpec_minlp.solve().duration"
   ]
  },
  {
   "cell_type": "code",
   "execution_count": 39,
   "id": "be2488ac-404e-40fb-8d92-2e76acb22d6d",
   "metadata": {},
   "outputs": [],
   "source": [
    "# with_gdpopt = SolveAction(model, 'gdpopt.enumerate')\n",
    "# with_gdpopt.solve().duration"
   ]
  },
  {
   "cell_type": "code",
   "execution_count": 40,
   "id": "a4c8e11b-12f8-421e-bee2-18b8701c3526",
   "metadata": {},
   "outputs": [],
   "source": [
    "# with_mindtpy = SolveAction(model, 'mindtpy.ecp')\n",
    "# with_mindtpy.solve().duration"
   ]
  }
 ],
 "metadata": {
  "kernelspec": {
   "display_name": "Python 3 (ipykernel)",
   "language": "python",
   "name": "python3"
  },
  "language_info": {
   "codemirror_mode": {
    "name": "ipython",
    "version": 3
   },
   "file_extension": ".py",
   "mimetype": "text/x-python",
   "name": "python",
   "nbconvert_exporter": "python",
   "pygments_lexer": "ipython3",
   "version": "3.12.1"
  }
 },
 "nbformat": 4,
 "nbformat_minor": 5
}
