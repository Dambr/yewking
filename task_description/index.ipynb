{
 "cells": [
  {
   "cell_type": "code",
   "execution_count": 1,
   "id": "f9512c4f-9166-4288-bc3f-2bbe51632219",
   "metadata": {},
   "outputs": [],
   "source": [
    "import numpy as np"
   ]
  },
  {
   "cell_type": "code",
   "execution_count": 2,
   "id": "304a2b04-a48e-474d-9870-783f9d57dd40",
   "metadata": {},
   "outputs": [],
   "source": [
    "import pandas as pd"
   ]
  },
  {
   "cell_type": "code",
   "execution_count": 3,
   "id": "9be3c314-1d51-4af5-9097-29ec8de11df1",
   "metadata": {},
   "outputs": [],
   "source": [
    "# Матрица трассируемости требований на файлы исходного кода\n",
    "Erf = np.array([[1, 0, 0, 0],\n",
    "                [0.5, 0.5, 0, 0],\n",
    "                [0, 0.5, 0.5, 0],\n",
    "                [0, 0, 0.5, 0.5],\n",
    "                [0, 0, 0, 1]])"
   ]
  },
  {
   "cell_type": "code",
   "execution_count": 4,
   "id": "50407d64-f656-4c05-8bab-18cff403aa5e",
   "metadata": {},
   "outputs": [],
   "source": [
    "# Матрица зависимостей между файлами исходного кода\n",
    "Eff = np.array([[0, 0, 0, 0],\n",
    "                [1, 0, 0, 0], # на файл № 2 имеется зависимость у файла № 1\n",
    "                [0, 0, 0, 0],\n",
    "                [0, 0, 0, 0]])"
   ]
  },
  {
   "cell_type": "code",
   "execution_count": 5,
   "id": "ff6c1a0e-1639-4365-aec5-3224e58a0b6c",
   "metadata": {},
   "outputs": [],
   "source": [
    "# Матрица распределения файлов по плагинам. Именно эти коэффициенты необходимо подобрать в работе\n",
    "Efp = np.array([[1, 0, 0],\n",
    "                [0, 1, 0],\n",
    "                [0, 1, 0],\n",
    "                [0, 0, 1]])"
   ]
  },
  {
   "cell_type": "code",
   "execution_count": 6,
   "id": "b159dba8-1d2a-4290-96a5-57059b5f0195",
   "metadata": {},
   "outputs": [],
   "source": [
    "# Функция активации для слоя файлов исходного кодай\n",
    "activate_f = lambda x: 1 if x > 0 else 0"
   ]
  },
  {
   "cell_type": "code",
   "execution_count": 7,
   "id": "58dd9ec2-abbe-451c-bf03-e83eda4e6e46",
   "metadata": {},
   "outputs": [],
   "source": [
    "# Функция активации для слоя плагинов\n",
    "activate_p = lambda x: 1 if x > 0 else 0"
   ]
  },
  {
   "cell_type": "code",
   "execution_count": 8,
   "id": "0f3b5c93-3fb9-451c-8d8e-cde9a89a9fee",
   "metadata": {},
   "outputs": [],
   "source": [
    "# Функция активации для слоя требований\n",
    "activate_r = lambda x: 1 if x == 1 else 0"
   ]
  },
  {
   "cell_type": "code",
   "execution_count": 9,
   "id": "ee4962af-83df-4109-967f-5982b4d25fa4",
   "metadata": {},
   "outputs": [],
   "source": [
    "# Функция вычисления зависимостей\n",
    "calc_dependencies = lambda x, F: np.dot(Eff, F) if x == 0 else np.dot(Eff, calc_dependencies(x - 1, F))"
   ]
  },
  {
   "cell_type": "code",
   "execution_count": 10,
   "id": "ce0feb28-eb8f-4808-b1e7-5fed862719fc",
   "metadata": {},
   "outputs": [],
   "source": [
    "def main(R, Efp):\n",
    "    F = np.dot(R, Erf)\n",
    "    files_count = len(F)\n",
    "    for i in range(files_count):\n",
    "        dependencies = calc_dependencies(i, F)\n",
    "        F += dependencies\n",
    "    F = np.array([activate_f(f) for f in F])\n",
    "    P = np.dot(F, Efp)\n",
    "    P = np.array([activate_p(p) for p in P])\n",
    "    F_d = np.dot(Efp, P)\n",
    "    F_d = np.array([activate_f(f_d) for f_d in F_d])\n",
    "    R_d = np.dot(Erf, F_d)\n",
    "    R_d = np.array([activate_r(r_d) for r_d in R_d])\n",
    "    K_un = (sum(R_d) - sum(R)) / (sum(R_d))\n",
    "    return K_un"
   ]
  },
  {
   "cell_type": "code",
   "execution_count": 11,
   "id": "5d51697e-5876-47c9-bd01-92f28ccdace9",
   "metadata": {},
   "outputs": [],
   "source": [
    "def calculate_K(Efp):\n",
    "    K = []\n",
    "    for R in R_v:\n",
    "        R = np.array(R)\n",
    "        K_un = main(R, Efp)\n",
    "        K.append(K_un)\n",
    "    return K"
   ]
  },
  {
   "cell_type": "code",
   "execution_count": 12,
   "id": "a5f2c215-8e14-493b-8868-22045f515c6e",
   "metadata": {},
   "outputs": [],
   "source": [
    "R_v = [\n",
    "#    5, 4, 3, 2, 1\n",
    "    [0, 0, 0, 0, 1], # 1\n",
    "    [0, 0, 0, 1, 0], # 2\n",
    "    [0, 0, 0, 1, 1], # 3\n",
    "    [0, 0, 1, 0, 0], # 4\n",
    "    [0, 0, 1, 0, 1], # 5\n",
    "    [0, 0, 1, 1, 0], # 6\n",
    "    [0, 0, 1, 1, 1], # 7\n",
    "    [0, 1, 0, 0, 0], # 8\n",
    "    [0, 1, 0, 0, 1], # 9\n",
    "    [0, 1, 0, 1, 0], # 10\n",
    "    [0, 1, 0, 1, 1], # 11\n",
    "    [0, 1, 1, 0, 0], # 12\n",
    "    [0, 1, 1, 0, 1], # 13\n",
    "    [0, 1, 1, 1, 0], # 14\n",
    "    [0, 1, 1, 1, 1], # 15\n",
    "    [1, 0, 0, 0, 0], # 16\n",
    "    [1, 0, 0, 0, 1], # 17\n",
    "    [1, 0, 0, 1, 0], # 18\n",
    "    [1, 0, 0, 1, 1], # 19\n",
    "    [1, 0, 1, 0, 0], # 20\n",
    "    [1, 0, 1, 0, 1], # 21\n",
    "    [1, 0, 1, 1, 0], # 22\n",
    "    [1, 0, 1, 1, 1], # 23\n",
    "    [1, 1, 0, 0, 0], # 24\n",
    "    [1, 1, 0, 0, 1], # 25\n",
    "    [1, 1, 0, 1, 0], # 26\n",
    "    [1, 1, 0, 1, 1], # 27\n",
    "    [1, 1, 1, 0, 0], # 28\n",
    "    [1, 1, 1, 0, 1], # 29\n",
    "    [1, 1, 1, 1, 0], # 30\n",
    "    [1, 1, 1, 1, 1]  # 31\n",
    "]"
   ]
  },
  {
   "cell_type": "code",
   "execution_count": 13,
   "id": "2d5359e3-3843-4f97-a56c-727c813ee639",
   "metadata": {},
   "outputs": [],
   "source": [
    "Efp = np.array([[1, 0, 0],\n",
    "                [0, 1, 0],\n",
    "                [0, 1, 0],\n",
    "                [0, 0, 1]])\n",
    "K1 = calculate_K(Efp)"
   ]
  },
  {
   "cell_type": "code",
   "execution_count": 14,
   "id": "5784a485-b6bd-4f3c-9539-6cc0cd438259",
   "metadata": {},
   "outputs": [],
   "source": [
    "Efp = np.array([[1, 0, 0],\n",
    "                [1, 0, 0],\n",
    "                [0, 1, 0],\n",
    "                [0, 1, 0]])\n",
    "K2 = calculate_K(Efp)"
   ]
  },
  {
   "cell_type": "code",
   "execution_count": 15,
   "id": "24847ce0-6d55-47dc-955a-426c58ac5cd4",
   "metadata": {},
   "outputs": [],
   "source": [
    "data = {\n",
    "    \"K1\": K1,\n",
    "    \"K2\": K2\n",
    "}"
   ]
  },
  {
   "cell_type": "code",
   "execution_count": 16,
   "id": "5f5bd653-e939-4abd-845c-3a52cde329dc",
   "metadata": {},
   "outputs": [],
   "source": [
    "df = pd.DataFrame(data)"
   ]
  },
  {
   "cell_type": "code",
   "execution_count": 17,
   "id": "ddc6aa4d-2d0e-4013-a723-64d0a332ca8c",
   "metadata": {},
   "outputs": [
    {
     "data": {
      "text/html": [
       "<div>\n",
       "<style scoped>\n",
       "    .dataframe tbody tr th:only-of-type {\n",
       "        vertical-align: middle;\n",
       "    }\n",
       "\n",
       "    .dataframe tbody tr th {\n",
       "        vertical-align: top;\n",
       "    }\n",
       "\n",
       "    .dataframe thead th {\n",
       "        text-align: right;\n",
       "    }\n",
       "</style>\n",
       "<table border=\"1\" class=\"dataframe\">\n",
       "  <thead>\n",
       "    <tr style=\"text-align: right;\">\n",
       "      <th></th>\n",
       "      <th>K1</th>\n",
       "      <th>K2</th>\n",
       "    </tr>\n",
       "  </thead>\n",
       "  <tbody>\n",
       "    <tr>\n",
       "      <th>count</th>\n",
       "      <td>31.000000</td>\n",
       "      <td>31.000000</td>\n",
       "    </tr>\n",
       "    <tr>\n",
       "      <th>mean</th>\n",
       "      <td>0.341935</td>\n",
       "      <td>0.406452</td>\n",
       "    </tr>\n",
       "    <tr>\n",
       "      <th>std</th>\n",
       "      <td>0.207805</td>\n",
       "      <td>0.199892</td>\n",
       "    </tr>\n",
       "    <tr>\n",
       "      <th>min</th>\n",
       "      <td>0.000000</td>\n",
       "      <td>0.000000</td>\n",
       "    </tr>\n",
       "    <tr>\n",
       "      <th>25%</th>\n",
       "      <td>0.200000</td>\n",
       "      <td>0.300000</td>\n",
       "    </tr>\n",
       "    <tr>\n",
       "      <th>50%</th>\n",
       "      <td>0.333333</td>\n",
       "      <td>0.400000</td>\n",
       "    </tr>\n",
       "    <tr>\n",
       "      <th>75%</th>\n",
       "      <td>0.400000</td>\n",
       "      <td>0.600000</td>\n",
       "    </tr>\n",
       "    <tr>\n",
       "      <th>max</th>\n",
       "      <td>0.666667</td>\n",
       "      <td>0.800000</td>\n",
       "    </tr>\n",
       "  </tbody>\n",
       "</table>\n",
       "</div>"
      ],
      "text/plain": [
       "              K1         K2\n",
       "count  31.000000  31.000000\n",
       "mean    0.341935   0.406452\n",
       "std     0.207805   0.199892\n",
       "min     0.000000   0.000000\n",
       "25%     0.200000   0.300000\n",
       "50%     0.333333   0.400000\n",
       "75%     0.400000   0.600000\n",
       "max     0.666667   0.800000"
      ]
     },
     "execution_count": 17,
     "metadata": {},
     "output_type": "execute_result"
    }
   ],
   "source": [
    "df.describe()"
   ]
  }
 ],
 "metadata": {
  "kernelspec": {
   "display_name": "Python 3 (ipykernel)",
   "language": "python",
   "name": "python3"
  },
  "language_info": {
   "codemirror_mode": {
    "name": "ipython",
    "version": 3
   },
   "file_extension": ".py",
   "mimetype": "text/x-python",
   "name": "python",
   "nbconvert_exporter": "python",
   "pygments_lexer": "ipython3",
   "version": "3.12.1"
  }
 },
 "nbformat": 4,
 "nbformat_minor": 5
}
