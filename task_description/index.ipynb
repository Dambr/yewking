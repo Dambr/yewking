{
 "cells": [
  {
   "cell_type": "code",
   "execution_count": 1,
   "id": "3827fc6d-8338-4fbe-8e28-b44c1ae62847",
   "metadata": {},
   "outputs": [],
   "source": [
    "import numpy as np"
   ]
  },
  {
   "cell_type": "code",
   "execution_count": 2,
   "id": "1786502d-c3a9-49ee-a38c-d9d3ef54a839",
   "metadata": {},
   "outputs": [],
   "source": [
    "# В отличии от обычного умножения матриц необходимо умножать элементы на значащих позициях\n",
    "# Значащие - те, которые отмечены 1 в матрице трессируемости требований на файлы исходного кода\n",
    "# Иначе программа будет считать, что требование в рамках поставки реализуется если в поставку включен хотябы один файл, который его реализует. \n",
    "# А нужно, чтобы были все файлы\n",
    "\n",
    "def dot_significant(mtx, vec):\n",
    "    shape = np.shape(mtx)\n",
    "    mtx_rows_count = shape[0]\n",
    "    mtx_row_length = shape[1]\n",
    "    result = []\n",
    "    for i in range(mtx_rows_count):\n",
    "        d = {}\n",
    "        for j in range(mtx_row_length):\n",
    "            if (mtx[i][j] > 0):\n",
    "                d[j] = vec[j]\n",
    "        el = 1\n",
    "        for j in d:\n",
    "            el *= d[j]\n",
    "        result.append(1 if el > 0 else 0)\n",
    "    return result"
   ]
  },
  {
   "cell_type": "code",
   "execution_count": 3,
   "id": "ed63239d-26fe-420b-b78d-51f7121910fa",
   "metadata": {},
   "outputs": [],
   "source": [
    "R = np.array([0, 1, 0, 0, 0]) # Полезные требования"
   ]
  },
  {
   "cell_type": "code",
   "execution_count": 4,
   "id": "9be3c314-1d51-4af5-9097-29ec8de11df1",
   "metadata": {},
   "outputs": [],
   "source": [
    "# Матрица трассируемости требований на файлы исходного кода\n",
    "Erf = np.array([[1, 0, 0, 0],\n",
    "                [1, 1, 0, 0],\n",
    "                [0, 1, 1, 0],\n",
    "                [0, 0, 1, 1],\n",
    "                [0, 0, 0, 1]])"
   ]
  },
  {
   "cell_type": "code",
   "execution_count": 5,
   "id": "50407d64-f656-4c05-8bab-18cff403aa5e",
   "metadata": {},
   "outputs": [],
   "source": [
    "# Матрица зависимостей между файлами исходного кода\n",
    "Efd = np.array([[0, 0, 0, 0],\n",
    "                [1, 0, 0, 0], # на файл № 2 имеется зависимость у файла № 1\n",
    "                [0, 0, 0, 0],\n",
    "                [0, 0, 0, 0]])"
   ]
  },
  {
   "cell_type": "code",
   "execution_count": 6,
   "id": "ff6c1a0e-1639-4365-aec5-3224e58a0b6c",
   "metadata": {},
   "outputs": [],
   "source": [
    "# Матрица распределения файлов по плагинам. Именно эти коэффициенты необходимо подобрать в работе\n",
    "Efp = np.array([[1, 0, 0],\n",
    "                [0, 1, 0],\n",
    "                [0, 1, 0],\n",
    "                [0, 0, 1]])"
   ]
  },
  {
   "cell_type": "code",
   "execution_count": 7,
   "id": "68606d3a-595d-4e91-bba1-328b34b57814",
   "metadata": {},
   "outputs": [],
   "source": [
    "F = np.dot(R, Erf) # Задействованные файлы"
   ]
  },
  {
   "cell_type": "code",
   "execution_count": 8,
   "id": "b7621566-aefc-44db-9877-e86bf1beaf26",
   "metadata": {},
   "outputs": [],
   "source": [
    "F = F + np.dot(Efd, F) # Задействованные файлы после разрешения зависимостей"
   ]
  },
  {
   "cell_type": "code",
   "execution_count": 9,
   "id": "421ee897-9224-4fe8-a519-7936d10eb2b2",
   "metadata": {},
   "outputs": [],
   "source": [
    "P = np.dot(F, Efp) # Задействованные плагины"
   ]
  },
  {
   "cell_type": "code",
   "execution_count": 10,
   "id": "16f4d79b-df5a-4267-8517-e0a15dd3c1db",
   "metadata": {},
   "outputs": [],
   "source": [
    "F_d = np.dot(Efp, P) # Вошедшие в поставку файлы исходного кода"
   ]
  },
  {
   "cell_type": "code",
   "execution_count": 11,
   "id": "73400c22-c3e4-4469-b732-2674ee69c4b7",
   "metadata": {},
   "outputs": [],
   "source": [
    "R_d = dot_significant(Erf, F_d) # Вошедшие в поставку требования"
   ]
  },
  {
   "cell_type": "code",
   "execution_count": 12,
   "id": "bbfebd92-4dd1-45dd-995f-c98a710caef5",
   "metadata": {},
   "outputs": [
    {
     "data": {
      "text/plain": [
       "[1, 1, 1, 0, 0]"
      ]
     },
     "execution_count": 12,
     "metadata": {},
     "output_type": "execute_result"
    }
   ],
   "source": [
    "R_d"
   ]
  },
  {
   "cell_type": "code",
   "execution_count": 13,
   "id": "a516f113-20e3-45db-a7e6-f5d2afab0c6a",
   "metadata": {},
   "outputs": [],
   "source": [
    "K_un = (sum(R_d) - sum(R)) / (sum(R_d)) # Коэффициент бесполезности"
   ]
  },
  {
   "cell_type": "code",
   "execution_count": 19,
   "id": "b399e0cd-46cf-4260-8172-97bd7cdf2aa6",
   "metadata": {},
   "outputs": [
    {
     "data": {
      "text/plain": [
       "'Коэффициент бесполезности в данной поставке = 67%'"
      ]
     },
     "execution_count": 19,
     "metadata": {},
     "output_type": "execute_result"
    }
   ],
   "source": [
    "'Коэффициент бесполезности в данной поставке = ' + str(int(round(K_un, 2) * 100)) + '%'"
   ]
  },
  {
   "cell_type": "code",
   "execution_count": null,
   "id": "68e2e643-613c-4ca4-8fe6-9aeca3b24b39",
   "metadata": {},
   "outputs": [],
   "source": []
  }
 ],
 "metadata": {
  "kernelspec": {
   "display_name": "Python 3 (ipykernel)",
   "language": "python",
   "name": "python3"
  },
  "language_info": {
   "codemirror_mode": {
    "name": "ipython",
    "version": 3
   },
   "file_extension": ".py",
   "mimetype": "text/x-python",
   "name": "python",
   "nbconvert_exporter": "python",
   "pygments_lexer": "ipython3",
   "version": "3.12.1"
  }
 },
 "nbformat": 4,
 "nbformat_minor": 5
}
