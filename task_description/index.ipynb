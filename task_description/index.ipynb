{
 "cells": [
  {
   "cell_type": "code",
   "execution_count": 1,
   "id": "3827fc6d-8338-4fbe-8e28-b44c1ae62847",
   "metadata": {},
   "outputs": [],
   "source": [
    "import numpy as np"
   ]
  },
  {
   "cell_type": "code",
   "execution_count": 2,
   "id": "ed63239d-26fe-420b-b78d-51f7121910fa",
   "metadata": {},
   "outputs": [],
   "source": [
    "R = np.array([1, 0, 0, 0, 0]) # Полезные требования"
   ]
  },
  {
   "cell_type": "code",
   "execution_count": 3,
   "id": "9be3c314-1d51-4af5-9097-29ec8de11df1",
   "metadata": {},
   "outputs": [],
   "source": [
    "# Матрица трассируемости требований на файлы исходного кода\n",
    "Erf = np.array([[1, 0, 0, 0],\n",
    "                [0.5, 0.5, 0, 0],\n",
    "                [0, 0.5, 0.5, 0],\n",
    "                [0, 0, 0.5, 0.5],\n",
    "                [0, 0, 0, 1]])"
   ]
  },
  {
   "cell_type": "code",
   "execution_count": 4,
   "id": "50407d64-f656-4c05-8bab-18cff403aa5e",
   "metadata": {},
   "outputs": [],
   "source": [
    "# Матрица зависимостей между файлами исходного кода\n",
    "Efd = np.array([[0, 0, 0, 0],\n",
    "                [1, 0, 0, 0], # на файл № 2 имеется зависимость у файла № 1\n",
    "                [0, 1, 0, 0],\n",
    "                [0, 0, 0, 0]])"
   ]
  },
  {
   "cell_type": "code",
   "execution_count": 5,
   "id": "ff6c1a0e-1639-4365-aec5-3224e58a0b6c",
   "metadata": {},
   "outputs": [],
   "source": [
    "# Матрица распределения файлов по плагинам. Именно эти коэффициенты необходимо подобрать в работе\n",
    "Efp = np.array([[1, 0, 0],\n",
    "                [0, 1, 0],\n",
    "                [0, 1, 0],\n",
    "                [0, 0, 1]])"
   ]
  },
  {
   "cell_type": "code",
   "execution_count": 6,
   "id": "9406e132-faac-4037-9bdd-a38ea0e6e1fd",
   "metadata": {},
   "outputs": [],
   "source": [
    "def activate(vec):\n",
    "    for i in range(len(vec)):\n",
    "        vec[i] = 1 if vec[i] > 0 else 0"
   ]
  },
  {
   "cell_type": "code",
   "execution_count": 7,
   "id": "d822c9bd-eaa7-4516-8f2d-ce36176afe3c",
   "metadata": {},
   "outputs": [],
   "source": [
    "def R_activate(vec):\n",
    "    for i in range(len(vec)):\n",
    "        vec[i] = 1 if vec[i] == 1 else 0"
   ]
  },
  {
   "cell_type": "code",
   "execution_count": 8,
   "id": "68606d3a-595d-4e91-bba1-328b34b57814",
   "metadata": {},
   "outputs": [],
   "source": [
    "F = np.dot(R, Erf) # Задействованные файлы"
   ]
  },
  {
   "cell_type": "code",
   "execution_count": 9,
   "id": "c4323fb1-25fb-4704-ac0f-1a35db9708fb",
   "metadata": {},
   "outputs": [
    {
     "data": {
      "text/plain": [
       "array([1., 0., 0., 0.])"
      ]
     },
     "execution_count": 9,
     "metadata": {},
     "output_type": "execute_result"
    }
   ],
   "source": [
    "F"
   ]
  },
  {
   "cell_type": "code",
   "execution_count": 10,
   "id": "4df94236-726c-42c1-ae31-f2267873264a",
   "metadata": {},
   "outputs": [
    {
     "data": {
      "text/plain": [
       "array([0., 0., 1., 0.])"
      ]
     },
     "execution_count": 10,
     "metadata": {},
     "output_type": "execute_result"
    }
   ],
   "source": [
    "np.dot(Efd, np.dot(Efd, F))"
   ]
  },
  {
   "cell_type": "code",
   "execution_count": 11,
   "id": "b7621566-aefc-44db-9877-e86bf1beaf26",
   "metadata": {},
   "outputs": [],
   "source": [
    "F = F + np.dot(Efd, F) # Задействованные файлы после разрешения зависимостей"
   ]
  },
  {
   "cell_type": "code",
   "execution_count": 12,
   "id": "e2ef2832-82f5-4d2d-9045-523847b6258d",
   "metadata": {},
   "outputs": [],
   "source": [
    "activate(F) # Активация элементов слоя файлов"
   ]
  },
  {
   "cell_type": "code",
   "execution_count": 13,
   "id": "29d5a72f-0697-4257-9037-42d7cbb8682a",
   "metadata": {},
   "outputs": [
    {
     "data": {
      "text/plain": [
       "array([1., 1., 0., 0.])"
      ]
     },
     "execution_count": 13,
     "metadata": {},
     "output_type": "execute_result"
    }
   ],
   "source": [
    "F"
   ]
  },
  {
   "cell_type": "code",
   "execution_count": 14,
   "id": "421ee897-9224-4fe8-a519-7936d10eb2b2",
   "metadata": {},
   "outputs": [],
   "source": [
    "P = np.dot(F, Efp) # Задействованные плагины"
   ]
  },
  {
   "cell_type": "code",
   "execution_count": 15,
   "id": "8598dec0-5379-42dd-b4d8-7b91e3510329",
   "metadata": {},
   "outputs": [],
   "source": [
    "activate(P) # Активация элементов слоя плагинов"
   ]
  },
  {
   "cell_type": "code",
   "execution_count": 16,
   "id": "16f4d79b-df5a-4267-8517-e0a15dd3c1db",
   "metadata": {},
   "outputs": [],
   "source": [
    "F_d = np.dot(Efp, P) # Вошедшие в поставку файлы исходного кода"
   ]
  },
  {
   "cell_type": "code",
   "execution_count": 17,
   "id": "17bbd09d-6b7d-4432-9383-ec4f9e4be939",
   "metadata": {},
   "outputs": [],
   "source": [
    "activate(F_d) # Активация элементов слоя файлов"
   ]
  },
  {
   "cell_type": "code",
   "execution_count": 18,
   "id": "73400c22-c3e4-4469-b732-2674ee69c4b7",
   "metadata": {},
   "outputs": [],
   "source": [
    "R_d = np.dot(Erf, F_d) # Вошедшие в поставку требования"
   ]
  },
  {
   "cell_type": "code",
   "execution_count": 19,
   "id": "bbfebd92-4dd1-45dd-995f-c98a710caef5",
   "metadata": {},
   "outputs": [],
   "source": [
    "R_activate(R_d) # Активация элементов слоя требований"
   ]
  },
  {
   "cell_type": "code",
   "execution_count": 20,
   "id": "f2f3abe8-b7f7-4280-af0f-9482bbb2850a",
   "metadata": {},
   "outputs": [
    {
     "data": {
      "text/plain": [
       "array([1., 1., 1., 0., 0.])"
      ]
     },
     "execution_count": 20,
     "metadata": {},
     "output_type": "execute_result"
    }
   ],
   "source": [
    "R_d"
   ]
  },
  {
   "cell_type": "code",
   "execution_count": 21,
   "id": "a516f113-20e3-45db-a7e6-f5d2afab0c6a",
   "metadata": {},
   "outputs": [],
   "source": [
    "K_un = (sum(R_d) - sum(R)) / (sum(R_d)) # Коэффициент бесполезности"
   ]
  },
  {
   "cell_type": "code",
   "execution_count": 22,
   "id": "b399e0cd-46cf-4260-8172-97bd7cdf2aa6",
   "metadata": {},
   "outputs": [
    {
     "data": {
      "text/plain": [
       "'Коэффициент бесполезности в данной поставке = 67%'"
      ]
     },
     "execution_count": 22,
     "metadata": {},
     "output_type": "execute_result"
    }
   ],
   "source": [
    "'Коэффициент бесполезности в данной поставке = ' + str(int(round(K_un, 2) * 100)) + '%'"
   ]
  },
  {
   "cell_type": "code",
   "execution_count": null,
   "id": "ce0feb28-eb8f-4808-b1e7-5fed862719fc",
   "metadata": {},
   "outputs": [],
   "source": []
  }
 ],
 "metadata": {
  "kernelspec": {
   "display_name": "Python 3 (ipykernel)",
   "language": "python",
   "name": "python3"
  },
  "language_info": {
   "codemirror_mode": {
    "name": "ipython",
    "version": 3
   },
   "file_extension": ".py",
   "mimetype": "text/x-python",
   "name": "python",
   "nbconvert_exporter": "python",
   "pygments_lexer": "ipython3",
   "version": "3.12.4"
  }
 },
 "nbformat": 4,
 "nbformat_minor": 5
}
