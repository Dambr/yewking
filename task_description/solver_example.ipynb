{
 "cells": [
  {
   "cell_type": "code",
   "execution_count": 1,
   "id": "dd62afd2-4c13-4df6-9011-26baa8cb21ed",
   "metadata": {},
   "outputs": [],
   "source": [
    "import numpy as np"
   ]
  },
  {
   "cell_type": "code",
   "execution_count": 2,
   "id": "a9723880-0b0a-420e-a75f-637c31e6e523",
   "metadata": {},
   "outputs": [],
   "source": [
    "from ipywidgets import IntProgress\n",
    "from IPython.display import display"
   ]
  },
  {
   "cell_type": "code",
   "execution_count": 3,
   "id": "0be5e325-f2a6-4ae7-b286-bfda0e4448ab",
   "metadata": {},
   "outputs": [],
   "source": [
    "from model_builder import ModelBuilder\n",
    "from solve_action import SolveAction"
   ]
  },
  {
   "cell_type": "code",
   "execution_count": 4,
   "id": "570cde0e-80fc-455d-8fa8-acfef0ae6d0c",
   "metadata": {},
   "outputs": [],
   "source": [
    "from dependencies_calculator import DependenciesCalculator\n",
    "from cost_calculator_factory import CostCalculatorFactory"
   ]
  },
  {
   "cell_type": "code",
   "execution_count": 5,
   "id": "98959361-9006-495a-8271-aa437bd4049d",
   "metadata": {},
   "outputs": [],
   "source": [
    "M = 10 ** 6"
   ]
  },
  {
   "cell_type": "code",
   "execution_count": null,
   "id": "61916663-d098-418e-974c-a98e064dea46",
   "metadata": {},
   "outputs": [],
   "source": []
  },
  {
   "cell_type": "code",
   "execution_count": 6,
   "id": "d549dd44-e294-47da-ae47-b63c2a8f3c2b",
   "metadata": {},
   "outputs": [],
   "source": [
    "T = np.array([\n",
    "    [  1,   0,   0,   0],\n",
    "    [0.5, 0.5,   0,   0],\n",
    "    [  0, 0.5, 0.5,   0],\n",
    "    [  0,   0, 0.5, 0.5],\n",
    "    [  0,   0,   0,   1]\n",
    "])"
   ]
  },
  {
   "cell_type": "code",
   "execution_count": 7,
   "id": "bd268ce0-15b4-4a56-9d19-2eff4f26668f",
   "metadata": {},
   "outputs": [],
   "source": [
    "D = np.array([\n",
    "    [0, 0, 1, 0],\n",
    "    [0, 0, 1, 1],\n",
    "    [0, 0, 0, 0],\n",
    "    [0, 0, 0, 0]\n",
    "])"
   ]
  },
  {
   "cell_type": "code",
   "execution_count": 8,
   "id": "0b026e24-6110-424b-8da9-1c28542f1bb1",
   "metadata": {},
   "outputs": [],
   "source": [
    "C = np.array([\n",
    "    [1, 0, 0, 0, 0],\n",
    "    [0, 1, 0, 0, 0],\n",
    "    [0, 0, 1, 0, 0],\n",
    "    [0, 0, 0, 1, 0],\n",
    "    [0, 0, 0, 0, 1]\n",
    "])"
   ]
  },
  {
   "cell_type": "code",
   "execution_count": 9,
   "id": "c8c62a1e-e763-4259-af18-0f4716c04dcb",
   "metadata": {},
   "outputs": [],
   "source": [
    "Q = np.array([\n",
    "    [1, 0, 0, 0, 0]\n",
    "])"
   ]
  },
  {
   "cell_type": "code",
   "execution_count": 10,
   "id": "c3a2f96a-b619-46fe-84cf-6c36630a7276",
   "metadata": {},
   "outputs": [],
   "source": [
    "m = np.shape(T)[1]"
   ]
  },
  {
   "cell_type": "code",
   "execution_count": 11,
   "id": "6708e816-20e5-4b72-bd3c-105861ad2494",
   "metadata": {},
   "outputs": [],
   "source": [
    "k = 3"
   ]
  },
  {
   "cell_type": "code",
   "execution_count": 12,
   "id": "4baf937e-5c0d-4b0f-8663-12eab7a82696",
   "metadata": {},
   "outputs": [
    {
     "data": {
      "application/vnd.jupyter.widget-view+json": {
       "model_id": "bf39aafec77c43a5b8c9857523b5bcff",
       "version_major": 2,
       "version_minor": 0
      },
      "text/plain": [
       "IntProgress(value=0, bar_style='success', description='deps', max=4)"
      ]
     },
     "metadata": {},
     "output_type": "display_data"
    }
   ],
   "source": [
    "calculate_deps_progress = IntProgress(min=0, max=m, value=0, description='deps', bar_style='success')\n",
    "display(calculate_deps_progress)"
   ]
  },
  {
   "cell_type": "code",
   "execution_count": 13,
   "id": "3a953e25-0dfa-4ca7-8e61-ea06a457ff11",
   "metadata": {},
   "outputs": [],
   "source": [
    "deps_calculator = DependenciesCalculator(D, m, calculate_deps_progress)"
   ]
  },
  {
   "cell_type": "code",
   "execution_count": 14,
   "id": "03e80e7c-6eaf-4403-8cb8-9c7f915cc3f5",
   "metadata": {},
   "outputs": [],
   "source": [
    "sum_D = deps_calculator.calculate()"
   ]
  },
  {
   "cell_type": "code",
   "execution_count": null,
   "id": "f21d94ad-4595-4e42-b469-4c7fe61697ef",
   "metadata": {},
   "outputs": [],
   "source": []
  },
  {
   "cell_type": "code",
   "execution_count": 15,
   "id": "57e00450-b9fc-4924-8b24-2f03e0bb03a4",
   "metadata": {},
   "outputs": [],
   "source": [
    "model_builder = ModelBuilder(M, k, T, sum_D, C, Q)"
   ]
  },
  {
   "cell_type": "code",
   "execution_count": 16,
   "id": "00536e7f-d7e1-4d88-927e-a92ffdac36ad",
   "metadata": {},
   "outputs": [],
   "source": [
    "model = model_builder.build()"
   ]
  },
  {
   "cell_type": "code",
   "execution_count": 17,
   "id": "54c65853-9d14-4029-bc95-89d2ba4c5c25",
   "metadata": {},
   "outputs": [],
   "source": [
    "solver_name = 'glpk'"
   ]
  },
  {
   "cell_type": "code",
   "execution_count": 18,
   "id": "b5c47f17-b826-434b-bb6e-bf55cbbac263",
   "metadata": {},
   "outputs": [],
   "source": [
    "solve_action = SolveAction(model, solver_name)"
   ]
  },
  {
   "cell_type": "code",
   "execution_count": 19,
   "id": "8eba339f-c2ca-4685-abd1-9d12947b7605",
   "metadata": {},
   "outputs": [],
   "source": [
    "solve_result = solve_action.solve()"
   ]
  },
  {
   "cell_type": "code",
   "execution_count": 20,
   "id": "3f8e629e-1f35-403b-98d5-93becaba23ce",
   "metadata": {},
   "outputs": [],
   "source": [
    "instance = solve_result.instance"
   ]
  },
  {
   "cell_type": "code",
   "execution_count": 21,
   "id": "4558e085-df2e-4dde-88ec-762a1841009e",
   "metadata": {},
   "outputs": [],
   "source": [
    "X = solve_result.to_mtx_with_values(instance.A)"
   ]
  },
  {
   "cell_type": "code",
   "execution_count": 22,
   "id": "23e6bc95-a8b2-4e70-b11e-fb793edf4e1d",
   "metadata": {},
   "outputs": [
    {
     "data": {
      "text/plain": [
       "array([[1., 0., 0.],\n",
       "       [0., 0., 1.],\n",
       "       [1., 0., 0.],\n",
       "       [0., 0., 1.]])"
      ]
     },
     "execution_count": 22,
     "metadata": {},
     "output_type": "execute_result"
    }
   ],
   "source": [
    "X"
   ]
  },
  {
   "cell_type": "code",
   "execution_count": 23,
   "id": "6f4bd68a-2348-4b6f-8272-78e3e8fe1071",
   "metadata": {},
   "outputs": [],
   "source": [
    "cost_calculator_factory = CostCalculatorFactory(T, sum_D, C, Q)"
   ]
  },
  {
   "cell_type": "code",
   "execution_count": 24,
   "id": "a7690155-7f15-4c15-8603-50c888aec814",
   "metadata": {},
   "outputs": [],
   "source": [
    "cost_calculator = cost_calculator_factory.get_cost_calculator(X)"
   ]
  },
  {
   "cell_type": "code",
   "execution_count": 25,
   "id": "c99aa9e8-c3c0-40f8-995f-51c8a66e14e1",
   "metadata": {},
   "outputs": [],
   "source": [
    "cost = cost_calculator.calculate()"
   ]
  },
  {
   "cell_type": "code",
   "execution_count": 26,
   "id": "42230175-0306-4f7c-bb79-0f7395e9ef3e",
   "metadata": {},
   "outputs": [
    {
     "data": {
      "text/plain": [
       "1"
      ]
     },
     "execution_count": 26,
     "metadata": {},
     "output_type": "execute_result"
    }
   ],
   "source": [
    "cost"
   ]
  }
 ],
 "metadata": {
  "kernelspec": {
   "display_name": "Python 3 (ipykernel)",
   "language": "python",
   "name": "python3"
  },
  "language_info": {
   "codemirror_mode": {
    "name": "ipython",
    "version": 3
   },
   "file_extension": ".py",
   "mimetype": "text/x-python",
   "name": "python",
   "nbconvert_exporter": "python",
   "pygments_lexer": "ipython3",
   "version": "3.12.1"
  }
 },
 "nbformat": 4,
 "nbformat_minor": 5
}
