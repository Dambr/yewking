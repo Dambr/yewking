{
 "cells": [
  {
   "cell_type": "code",
   "execution_count": 1,
   "id": "dd62afd2-4c13-4df6-9011-26baa8cb21ed",
   "metadata": {},
   "outputs": [],
   "source": [
    "import numpy as np"
   ]
  },
  {
   "cell_type": "code",
   "execution_count": 2,
   "id": "a9723880-0b0a-420e-a75f-637c31e6e523",
   "metadata": {},
   "outputs": [],
   "source": [
    "from ipywidgets import IntProgress\n",
    "from IPython.display import display"
   ]
  },
  {
   "cell_type": "code",
   "execution_count": 3,
   "id": "0be5e325-f2a6-4ae7-b286-bfda0e4448ab",
   "metadata": {},
   "outputs": [],
   "source": [
    "from model_builder import ModelBuilder\n",
    "from solve_action import SolveAction"
   ]
  },
  {
   "cell_type": "code",
   "execution_count": 4,
   "id": "570cde0e-80fc-455d-8fa8-acfef0ae6d0c",
   "metadata": {},
   "outputs": [],
   "source": [
    "from dependencies_calculator import DependenciesCalculator\n",
    "from cost_calculator_factory import CostCalculatorFactory"
   ]
  },
  {
   "cell_type": "code",
   "execution_count": 5,
   "id": "98959361-9006-495a-8271-aa437bd4049d",
   "metadata": {},
   "outputs": [],
   "source": [
    "M = 10 ** 6"
   ]
  },
  {
   "cell_type": "code",
   "execution_count": null,
   "id": "61916663-d098-418e-974c-a98e064dea46",
   "metadata": {},
   "outputs": [],
   "source": []
  },
  {
   "cell_type": "code",
   "execution_count": 6,
   "id": "d549dd44-e294-47da-ae47-b63c2a8f3c2b",
   "metadata": {},
   "outputs": [],
   "source": [
    "T = np.array([\n",
    "    [  1,   0,   0,   0],\n",
    "    [0.5, 0.5,   0,   0],\n",
    "    [  0, 0.5, 0.5,   0],\n",
    "    [  0,   0, 0.5, 0.5],\n",
    "    [  0,   0,   0,   1]\n",
    "])"
   ]
  },
  {
   "cell_type": "code",
   "execution_count": 7,
   "id": "bd268ce0-15b4-4a56-9d19-2eff4f26668f",
   "metadata": {},
   "outputs": [],
   "source": [
    "D = np.array([\n",
    "    [0, 0, 1, 0],\n",
    "    [0, 0, 1, 1],\n",
    "    [0, 0, 0, 0],\n",
    "    [0, 0, 0, 0]\n",
    "])"
   ]
  },
  {
   "cell_type": "code",
   "execution_count": 8,
   "id": "0b026e24-6110-424b-8da9-1c28542f1bb1",
   "metadata": {},
   "outputs": [],
   "source": [
    "C = np.array([\n",
    "    [1, 0, 0, 0, 0],\n",
    "    [0, 1, 0, 0, 0],\n",
    "    [0, 0, 1, 0, 0],\n",
    "    [0, 0, 0, 1, 0],\n",
    "    [0, 0, 0, 0, 1]\n",
    "])"
   ]
  },
  {
   "cell_type": "code",
   "execution_count": 9,
   "id": "c8c62a1e-e763-4259-af18-0f4716c04dcb",
   "metadata": {},
   "outputs": [],
   "source": [
    "Q = np.array([\n",
    "    [1, 0, 0, 0, 0]\n",
    "])"
   ]
  },
  {
   "cell_type": "code",
   "execution_count": 10,
   "id": "c3a2f96a-b619-46fe-84cf-6c36630a7276",
   "metadata": {},
   "outputs": [],
   "source": [
    "m = np.shape(T)[1]"
   ]
  },
  {
   "cell_type": "code",
   "execution_count": 11,
   "id": "6708e816-20e5-4b72-bd3c-105861ad2494",
   "metadata": {},
   "outputs": [],
   "source": [
    "k = 3"
   ]
  },
  {
   "cell_type": "code",
   "execution_count": 12,
   "id": "57e00450-b9fc-4924-8b24-2f03e0bb03a4",
   "metadata": {},
   "outputs": [],
   "source": [
    "model_builder = ModelBuilder(M, k, T, D, C, Q)"
   ]
  },
  {
   "cell_type": "code",
   "execution_count": 13,
   "id": "00536e7f-d7e1-4d88-927e-a92ffdac36ad",
   "metadata": {},
   "outputs": [],
   "source": [
    "model = model_builder.build()"
   ]
  },
  {
   "cell_type": "code",
   "execution_count": 14,
   "id": "54c65853-9d14-4029-bc95-89d2ba4c5c25",
   "metadata": {},
   "outputs": [],
   "source": [
    "solver_name = 'glpk'"
   ]
  },
  {
   "cell_type": "code",
   "execution_count": 15,
   "id": "b5c47f17-b826-434b-bb6e-bf55cbbac263",
   "metadata": {},
   "outputs": [],
   "source": [
    "solve_action = SolveAction(model, solver_name)"
   ]
  },
  {
   "cell_type": "code",
   "execution_count": 16,
   "id": "8eba339f-c2ca-4685-abd1-9d12947b7605",
   "metadata": {},
   "outputs": [
    {
     "name": "stdout",
     "output_type": "stream",
     "text": [
      "WARNING: Could not locate the 'glpsol' executable, which is required for\n",
      "solver 'glpk'\n"
     ]
    },
    {
     "ename": "ApplicationError",
     "evalue": "No executable found for solver 'glpk'",
     "output_type": "error",
     "traceback": [
      "\u001b[1;31m---------------------------------------------------------------------------\u001b[0m",
      "\u001b[1;31mApplicationError\u001b[0m                          Traceback (most recent call last)",
      "Cell \u001b[1;32mIn[16], line 1\u001b[0m\n\u001b[1;32m----> 1\u001b[0m solve_result \u001b[38;5;241m=\u001b[39m \u001b[43msolve_action\u001b[49m\u001b[38;5;241;43m.\u001b[39;49m\u001b[43msolve\u001b[49m\u001b[43m(\u001b[49m\u001b[43m)\u001b[49m\n",
      "File \u001b[1;32m~\\Desktop\\yewking\\task_description\\solve_action.py:21\u001b[0m, in \u001b[0;36mSolveAction.solve\u001b[1;34m(self)\u001b[0m\n\u001b[0;32m     19\u001b[0m timer \u001b[38;5;241m=\u001b[39m Timer()\n\u001b[0;32m     20\u001b[0m timer\u001b[38;5;241m.\u001b[39mstart()\n\u001b[1;32m---> 21\u001b[0m result \u001b[38;5;241m=\u001b[39m \u001b[43msolver\u001b[49m\u001b[38;5;241;43m.\u001b[39;49m\u001b[43msolve\u001b[49m\u001b[43m(\u001b[49m\u001b[43minstance\u001b[49m\u001b[43m)\u001b[49m\n\u001b[0;32m     22\u001b[0m timer\u001b[38;5;241m.\u001b[39mstop()\n\u001b[0;32m     23\u001b[0m duration \u001b[38;5;241m=\u001b[39m timer\u001b[38;5;241m.\u001b[39mget_duration()\n",
      "File \u001b[1;32m~\\AppData\\Local\\Programs\\Python\\Python312\\Lib\\site-packages\\pyomo\\opt\\base\\solvers.py:534\u001b[0m, in \u001b[0;36mOptSolver.solve\u001b[1;34m(self, *args, **kwds)\u001b[0m\n\u001b[0;32m    531\u001b[0m \u001b[38;5;28;01mdef\u001b[39;00m \u001b[38;5;21msolve\u001b[39m(\u001b[38;5;28mself\u001b[39m, \u001b[38;5;241m*\u001b[39margs, \u001b[38;5;241m*\u001b[39m\u001b[38;5;241m*\u001b[39mkwds):\n\u001b[0;32m    532\u001b[0m \u001b[38;5;250m    \u001b[39m\u001b[38;5;124;03m\"\"\"Solve the problem\"\"\"\u001b[39;00m\n\u001b[1;32m--> 534\u001b[0m     \u001b[38;5;28;43mself\u001b[39;49m\u001b[38;5;241;43m.\u001b[39;49m\u001b[43mavailable\u001b[49m\u001b[43m(\u001b[49m\u001b[43mexception_flag\u001b[49m\u001b[38;5;241;43m=\u001b[39;49m\u001b[38;5;28;43;01mTrue\u001b[39;49;00m\u001b[43m)\u001b[49m\n\u001b[0;32m    535\u001b[0m     \u001b[38;5;66;03m#\u001b[39;00m\n\u001b[0;32m    536\u001b[0m     \u001b[38;5;66;03m# If the inputs are models, then validate that they have been\u001b[39;00m\n\u001b[0;32m    537\u001b[0m     \u001b[38;5;66;03m# constructed! Collect suffix names to try and import from solution.\u001b[39;00m\n\u001b[0;32m    538\u001b[0m     \u001b[38;5;66;03m#\u001b[39;00m\n\u001b[0;32m    539\u001b[0m     \u001b[38;5;28;01mfrom\u001b[39;00m \u001b[38;5;21;01mpyomo\u001b[39;00m\u001b[38;5;21;01m.\u001b[39;00m\u001b[38;5;21;01mcore\u001b[39;00m\u001b[38;5;21;01m.\u001b[39;00m\u001b[38;5;21;01mbase\u001b[39;00m\u001b[38;5;21;01m.\u001b[39;00m\u001b[38;5;21;01mblock\u001b[39;00m \u001b[38;5;28;01mimport\u001b[39;00m BlockData\n",
      "File \u001b[1;32m~\\AppData\\Local\\Programs\\Python\\Python312\\Lib\\site-packages\\pyomo\\opt\\solver\\shellcmd.py:140\u001b[0m, in \u001b[0;36mSystemCallSolver.available\u001b[1;34m(self, exception_flag)\u001b[0m\n\u001b[0;32m    138\u001b[0m     \u001b[38;5;28;01mif\u001b[39;00m exception_flag:\n\u001b[0;32m    139\u001b[0m         msg \u001b[38;5;241m=\u001b[39m \u001b[38;5;124m\"\u001b[39m\u001b[38;5;124mNo executable found for solver \u001b[39m\u001b[38;5;124m'\u001b[39m\u001b[38;5;132;01m%s\u001b[39;00m\u001b[38;5;124m'\u001b[39m\u001b[38;5;124m\"\u001b[39m\n\u001b[1;32m--> 140\u001b[0m         \u001b[38;5;28;01mraise\u001b[39;00m ApplicationError(msg \u001b[38;5;241m%\u001b[39m \u001b[38;5;28mself\u001b[39m\u001b[38;5;241m.\u001b[39mname)\n\u001b[0;32m    141\u001b[0m     \u001b[38;5;28;01mreturn\u001b[39;00m \u001b[38;5;28;01mFalse\u001b[39;00m\n\u001b[0;32m    142\u001b[0m \u001b[38;5;28;01mreturn\u001b[39;00m \u001b[38;5;28;01mTrue\u001b[39;00m\n",
      "\u001b[1;31mApplicationError\u001b[0m: No executable found for solver 'glpk'"
     ]
    }
   ],
   "source": [
    "solve_result = solve_action.solve()"
   ]
  },
  {
   "cell_type": "code",
   "execution_count": null,
   "id": "3f8e629e-1f35-403b-98d5-93becaba23ce",
   "metadata": {},
   "outputs": [],
   "source": [
    "instance = solve_result.instance"
   ]
  },
  {
   "cell_type": "code",
   "execution_count": null,
   "id": "4558e085-df2e-4dde-88ec-762a1841009e",
   "metadata": {},
   "outputs": [],
   "source": [
    "X = solve_result.to_mtx_with_values(instance.A)"
   ]
  },
  {
   "cell_type": "code",
   "execution_count": null,
   "id": "23e6bc95-a8b2-4e70-b11e-fb793edf4e1d",
   "metadata": {},
   "outputs": [],
   "source": [
    "X"
   ]
  },
  {
   "cell_type": "code",
   "execution_count": null,
   "id": "76ad9a49-c040-403b-8e5b-3b31ccec9cf4",
   "metadata": {},
   "outputs": [],
   "source": [
    "calculate_deps_progress = IntProgress(min=0, max=m, value=0, description='deps', bar_style='success')\n",
    "display(calculate_deps_progress)"
   ]
  },
  {
   "cell_type": "code",
   "execution_count": null,
   "id": "b8aa94e5-3417-4a45-a3b4-261458ffd3d7",
   "metadata": {},
   "outputs": [],
   "source": [
    "deps_calculator = DependenciesCalculator(D, m, calculate_deps_progress)"
   ]
  },
  {
   "cell_type": "code",
   "execution_count": null,
   "id": "df67101e-b98f-435f-a667-d98219e1b388",
   "metadata": {},
   "outputs": [],
   "source": [
    "deps = deps_calculator.calculate()"
   ]
  },
  {
   "cell_type": "code",
   "execution_count": null,
   "id": "6f4bd68a-2348-4b6f-8272-78e3e8fe1071",
   "metadata": {},
   "outputs": [],
   "source": [
    "cost_calculator_factory = CostCalculatorFactory(T, deps, C, Q)"
   ]
  },
  {
   "cell_type": "code",
   "execution_count": null,
   "id": "a7690155-7f15-4c15-8603-50c888aec814",
   "metadata": {},
   "outputs": [],
   "source": [
    "cost_calculator = cost_calculator_factory.get_cost_calculator(X)"
   ]
  },
  {
   "cell_type": "code",
   "execution_count": null,
   "id": "c99aa9e8-c3c0-40f8-995f-51c8a66e14e1",
   "metadata": {},
   "outputs": [],
   "source": [
    "cost = cost_calculator.calculate()"
   ]
  },
  {
   "cell_type": "code",
   "execution_count": null,
   "id": "42230175-0306-4f7c-bb79-0f7395e9ef3e",
   "metadata": {},
   "outputs": [],
   "source": [
    "cost"
   ]
  },
  {
   "cell_type": "code",
   "execution_count": null,
   "id": "f3884887-bd4c-4d91-88dc-12bfa09ab33f",
   "metadata": {},
   "outputs": [],
   "source": [
    "from pyomo.contrib.latex_printer import latex_printer"
   ]
  },
  {
   "cell_type": "code",
   "execution_count": null,
   "id": "44c6e6ff-4fd3-47b1-b9ff-fe68a6a0c07e",
   "metadata": {},
   "outputs": [],
   "source": [
    "pstr = latex_printer(model)"
   ]
  }
 ],
 "metadata": {
  "kernelspec": {
   "display_name": "Python 3 (ipykernel)",
   "language": "python",
   "name": "python3"
  },
  "language_info": {
   "codemirror_mode": {
    "name": "ipython",
    "version": 3
   },
   "file_extension": ".py",
   "mimetype": "text/x-python",
   "name": "python",
   "nbconvert_exporter": "python",
   "pygments_lexer": "ipython3",
   "version": "3.12.1"
  }
 },
 "nbformat": 4,
 "nbformat_minor": 5
}
