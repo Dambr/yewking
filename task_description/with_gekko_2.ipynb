{
 "cells": [
  {
   "cell_type": "code",
   "execution_count": 1,
   "id": "1daa6d3a-2b3a-4511-acbf-a3057d3c5df1",
   "metadata": {},
   "outputs": [
    {
     "name": "stdout",
     "output_type": "stream",
     "text": [
      "Requirement already satisfied: gekko in /Library/Frameworks/Python.framework/Versions/3.12/lib/python3.12/site-packages (1.2.1)\n",
      "Requirement already satisfied: numpy>=1.8 in /Library/Frameworks/Python.framework/Versions/3.12/lib/python3.12/site-packages (from gekko) (1.26.3)\n"
     ]
    }
   ],
   "source": [
    "!pip3 install gekko"
   ]
  },
  {
   "cell_type": "code",
   "execution_count": 2,
   "id": "4ab2a8f9-5a6a-469b-a31f-27dc7122a258",
   "metadata": {},
   "outputs": [],
   "source": [
    "from gekko import GEKKO"
   ]
  },
  {
   "cell_type": "code",
   "execution_count": 3,
   "id": "0a69a61f-5bf8-4f7f-a3c9-64fb12394e46",
   "metadata": {},
   "outputs": [],
   "source": [
    "# Инициализация модели\n",
    "m = GEKKO(remote=False)"
   ]
  },
  {
   "cell_type": "code",
   "execution_count": 4,
   "id": "3cb187af-bc5e-41a8-8cca-871b6e2b3e5f",
   "metadata": {},
   "outputs": [],
   "source": [
    "# Определить параметр\n",
    "eq = m.Param(value=40)"
   ]
  },
  {
   "cell_type": "code",
   "execution_count": 5,
   "id": "7217520e-6ea1-4171-9cf3-cb7173afbbed",
   "metadata": {},
   "outputs": [],
   "source": [
    "# Инициализация переменных\n",
    "x1,x2,x3,x4 = [m.Var(integer=True) for i in range(4)]"
   ]
  },
  {
   "cell_type": "code",
   "execution_count": 6,
   "id": "bd1e453c-71c2-4f9e-add4-b3bfb65da1f6",
   "metadata": {},
   "outputs": [],
   "source": [
    "# # Инициализационные значения\n",
    "# x1.value = 1\n",
    "# x2.value = 5\n",
    "# x3.value = 5\n",
    "# x4.value = 1"
   ]
  },
  {
   "cell_type": "code",
   "execution_count": 7,
   "id": "bddb59d0-8e61-482b-b47b-c5203d2e104a",
   "metadata": {},
   "outputs": [],
   "source": [
    "# Нижняя граница\n",
    "x1.lower = -10\n",
    "x2.lower = -10\n",
    "x3.lower = -10\n",
    "x4.lower = -10"
   ]
  },
  {
   "cell_type": "code",
   "execution_count": 8,
   "id": "e358d554-6da6-479a-bc3e-838e45adbac0",
   "metadata": {},
   "outputs": [],
   "source": [
    "# Верхняя граница\n",
    "x1.upper = 50\n",
    "x2.upper = 50\n",
    "x3.upper = 50\n",
    "x4.upper = 50"
   ]
  },
  {
   "cell_type": "code",
   "execution_count": 9,
   "id": "7f518a95-bc7d-4a20-a361-7dd7d26cd87f",
   "metadata": {},
   "outputs": [],
   "source": [
    "# Ограничения\n",
    "# m.Equation(x1*x2*x3*x4>=25)\n",
    "# m.Equation(x1**2+x2**2+x3**2+x4**2==eq)"
   ]
  },
  {
   "cell_type": "code",
   "execution_count": 10,
   "id": "d552aa39-d3cb-42ee-a886-86c76830efd7",
   "metadata": {},
   "outputs": [],
   "source": [
    "# Целевая функция\n",
    "m.Maximize(x1*x4*(x1+x2+x3)+x3)"
   ]
  },
  {
   "cell_type": "code",
   "execution_count": 11,
   "id": "1c62a6fd-49be-4d08-873b-0a856476f88c",
   "metadata": {},
   "outputs": [],
   "source": [
    "# m.options.SOLVER=1"
   ]
  },
  {
   "cell_type": "code",
   "execution_count": 12,
   "id": "6447ffb1-df12-4846-bf2d-966ec95b8acb",
   "metadata": {},
   "outputs": [
    {
     "name": "stdout",
     "output_type": "stream",
     "text": [
      " ----------------------------------------------------------------\n",
      " APMonitor, Version 1.0.3\n",
      " APMonitor Optimization Suite\n",
      " ----------------------------------------------------------------\n",
      " \n",
      " \n",
      " --------- APM Model Size ------------\n",
      " Each time step contains\n",
      "   Objects      :            0\n",
      "   Constants    :            0\n",
      "   Variables    :            5\n",
      "   Intermediates:            0\n",
      "   Connections  :            0\n",
      "   Equations    :            1\n",
      "   Residuals    :            1\n",
      " \n",
      " Number of state variables:              4\n",
      " Number of total equations: -            0\n",
      " Number of slack variables: -            0\n",
      " ---------------------------------------\n",
      " Degrees of freedom       :              4\n",
      " \n",
      " solver            3  not supported\n",
      " using default solver: APOPT\n",
      " ----------------------------------------------\n",
      " Steady State Optimization with APOPT Solver\n",
      " ----------------------------------------------\n",
      "Iter:     1 I:  0 Tm:      0.00 NLPi:    3 Dpth:    0 Lvs:    0 Obj: -5.00E+01 Gap:  0.00E+00\n",
      " Successful solution\n",
      " \n",
      " ---------------------------------------------------\n",
      " Solver         :  IPOPT (v3.12)\n",
      " Solution time  :   2.179999999862048E-002 sec\n",
      " Objective      :   -50.0000000000000     \n",
      " Successful solution\n",
      " ---------------------------------------------------\n",
      " \n",
      "\n"
     ]
    }
   ],
   "source": [
    "# Решать\n",
    "m.solve()"
   ]
  },
  {
   "cell_type": "code",
   "execution_count": 13,
   "id": "0094a392-dd4a-4ceb-89c3-f8ed2087bbe2",
   "metadata": {},
   "outputs": [
    {
     "name": "stdout",
     "output_type": "stream",
     "text": [
      "\n",
      "Results\n",
      "x1: [0.0]\n",
      "x2: [0.0]\n",
      "x3: [50.0]\n",
      "x4: [0.0]\n"
     ]
    }
   ],
   "source": [
    "# Результаты\n",
    "print('')\n",
    "print('Results')\n",
    "print('x1: ' + str(x1.value))\n",
    "print('x2: ' + str(x2.value))\n",
    "print('x3: ' + str(x3.value))\n",
    "print('x4: ' + str(x4.value))"
   ]
  },
  {
   "cell_type": "code",
   "execution_count": null,
   "id": "6636a86e-b1d3-4096-a9e1-028e95365b14",
   "metadata": {},
   "outputs": [],
   "source": []
  }
 ],
 "metadata": {
  "kernelspec": {
   "display_name": "Python 3 (ipykernel)",
   "language": "python",
   "name": "python3"
  },
  "language_info": {
   "codemirror_mode": {
    "name": "ipython",
    "version": 3
   },
   "file_extension": ".py",
   "mimetype": "text/x-python",
   "name": "python",
   "nbconvert_exporter": "python",
   "pygments_lexer": "ipython3",
   "version": "3.12.1"
  }
 },
 "nbformat": 4,
 "nbformat_minor": 5
}
