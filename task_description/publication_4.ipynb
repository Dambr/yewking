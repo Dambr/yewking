{
 "cells": [
  {
   "cell_type": "code",
   "execution_count": 1,
   "id": "3684a6a0-1353-4b0c-8544-010a508ab258",
   "metadata": {},
   "outputs": [],
   "source": [
    "import numpy as np\n",
    "import pandas as pd\n",
    "import seaborn as sns\n",
    "import matplotlib.pyplot as plt\n",
    "import json"
   ]
  },
  {
   "cell_type": "code",
   "execution_count": 2,
   "id": "41d6082c-1ad1-4939-a7ea-e1fc811cfa97",
   "metadata": {},
   "outputs": [],
   "source": [
    "from ipywidgets import IntProgress\n",
    "from IPython.display import display"
   ]
  },
  {
   "cell_type": "code",
   "execution_count": 3,
   "id": "f450ea59-e82b-4f03-aae4-648517c206c6",
   "metadata": {},
   "outputs": [],
   "source": [
    "from model_builder import ModelBuilder\n",
    "from solve_action import SolveAction"
   ]
  },
  {
   "cell_type": "code",
   "execution_count": 4,
   "id": "a69a1b9d-ca53-42e3-9a6e-f0e8a965502e",
   "metadata": {},
   "outputs": [],
   "source": [
    "from pyomo_values_converter import PyomoValuesConverter"
   ]
  },
  {
   "cell_type": "code",
   "execution_count": 5,
   "id": "9bdd06e9-7620-4916-96a8-ea572b5cbd93",
   "metadata": {},
   "outputs": [],
   "source": [
    "from dependencies_calculator import DependenciesCalculator\n",
    "from cost_calculator_factory import CostCalculatorFactory\n",
    "from multibinary_converter import MultiBinaryConverter\n",
    "from multidiscrete_converter import MultiDiscreteConverter\n",
    "from fitness_calculator import FitnessCalculator"
   ]
  },
  {
   "cell_type": "code",
   "execution_count": 6,
   "id": "e7ecfea4-a041-4b42-a61b-aef8e0f19fcd",
   "metadata": {},
   "outputs": [],
   "source": [
    "from genetic_multibinary_space_config import GeneticMultiBinarySpaceConfig\n",
    "from genetic_multidiscrete_space_config import GeneticMultiDiscreteSpaceConfig\n",
    "from genetic_config import GeneticConfig\n",
    "from genetic_solver import GeneticSolver"
   ]
  },
  {
   "cell_type": "code",
   "execution_count": 7,
   "id": "523bfad2-41b5-49b0-a622-50b131ef31f0",
   "metadata": {},
   "outputs": [],
   "source": [
    "from stable_baselines3 import PPO\n",
    "from stable_baselines3 import A2C\n",
    "from stable_baselines3.common.env_checker import check_env"
   ]
  },
  {
   "cell_type": "code",
   "execution_count": 8,
   "id": "522ee142-c6fa-4f5b-a356-093ba316885d",
   "metadata": {},
   "outputs": [],
   "source": [
    "from rl_multibinary_config import RlMultiBinaryConfig\n",
    "from rl_multidiscrete_config import RlMultiDiscreteConfig\n",
    "from rl_graphic import RlGraphic\n",
    "from rl_env import RlEnv\n",
    "from rl_solver import RlSolver"
   ]
  },
  {
   "cell_type": "code",
   "execution_count": 9,
   "id": "cebeac7a-b96d-4c39-b5a3-e89b1df286d4",
   "metadata": {},
   "outputs": [],
   "source": [
    "dtype = np.int64"
   ]
  },
  {
   "cell_type": "code",
   "execution_count": 10,
   "id": "56548ac4-b039-4101-9aa7-6ff004e08a38",
   "metadata": {},
   "outputs": [],
   "source": [
    "import warnings\n",
    "warnings.filterwarnings(\"ignore\")"
   ]
  },
  {
   "cell_type": "code",
   "execution_count": 11,
   "id": "cd442b60-aac2-4867-b9da-735e88878f56",
   "metadata": {},
   "outputs": [],
   "source": [
    "M = 10 ** 6"
   ]
  },
  {
   "cell_type": "code",
   "execution_count": 12,
   "id": "c131572f-ac38-48d1-8f47-04d39e06fdde",
   "metadata": {},
   "outputs": [],
   "source": [
    "read_matrix = lambda path: pd.read_csv(path, index_col=0, encoding='utf-8').to_numpy()"
   ]
  },
  {
   "cell_type": "code",
   "execution_count": 13,
   "id": "cbdf13d4-188f-4b1b-932f-0a2e8f4bba05",
   "metadata": {},
   "outputs": [],
   "source": [
    "C = read_matrix('../publication_4/script/out/C.csv')"
   ]
  },
  {
   "cell_type": "code",
   "execution_count": 14,
   "id": "73e5de03-1c9d-4271-a746-b3bbbd0c47d9",
   "metadata": {},
   "outputs": [],
   "source": [
    "D = read_matrix('../publication_4/script/out/D.csv')"
   ]
  },
  {
   "cell_type": "code",
   "execution_count": 15,
   "id": "fe95c1fe-3edb-4db8-840b-072a6ce40fcc",
   "metadata": {},
   "outputs": [],
   "source": [
    "Q = read_matrix('../publication_4/script/out/Q.csv')"
   ]
  },
  {
   "cell_type": "code",
   "execution_count": 16,
   "id": "51feb70b-33ff-49a2-a714-a5dbeca595a9",
   "metadata": {},
   "outputs": [],
   "source": [
    "R = read_matrix('../publication_4/script/out/R.csv')"
   ]
  },
  {
   "cell_type": "code",
   "execution_count": 17,
   "id": "58750f6f-09f7-4d8f-8412-0d65e0dffa99",
   "metadata": {},
   "outputs": [],
   "source": [
    "count = 0\n",
    "for i in range(len(Q)):\n",
    "    if (sum(Q[i]) != 1):\n",
    "        print(i, sum(Q[i]), Q[i])\n",
    "        count += 1"
   ]
  },
  {
   "cell_type": "code",
   "execution_count": 18,
   "id": "e0dd8a89-3afa-4305-ae94-01d651dd2824",
   "metadata": {},
   "outputs": [
    {
     "data": {
      "text/plain": [
       "0"
      ]
     },
     "execution_count": 18,
     "metadata": {},
     "output_type": "execute_result"
    }
   ],
   "source": [
    "count"
   ]
  },
  {
   "cell_type": "code",
   "execution_count": null,
   "id": "4f2594fd-8544-415d-9ccd-58f6a6b29a91",
   "metadata": {},
   "outputs": [],
   "source": []
  },
  {
   "cell_type": "code",
   "execution_count": null,
   "id": "7c31d52d-80b4-44b2-b0ce-032f6fd3667a",
   "metadata": {},
   "outputs": [],
   "source": []
  },
  {
   "cell_type": "code",
   "execution_count": null,
   "id": "52271adf-4fc2-427c-8a9d-98deb1b6abcc",
   "metadata": {},
   "outputs": [],
   "source": []
  },
  {
   "cell_type": "code",
   "execution_count": 19,
   "id": "fde82691-2270-4065-a364-713d8e32b610",
   "metadata": {},
   "outputs": [],
   "source": [
    "constants_file = open('../publication_4/script/out/constants.json', 'r', encoding='utf-8')\n",
    "constants_data = constants_file.read()\n",
    "constants_file.close()\n",
    "constants = json.loads(constants_data)"
   ]
  },
  {
   "cell_type": "code",
   "execution_count": 20,
   "id": "48159830-44c9-4cc7-bbd2-7c1dd19ec1df",
   "metadata": {},
   "outputs": [],
   "source": [
    "n = constants['n']\n",
    "m = constants['m']\n",
    "l = constants['l']"
   ]
  },
  {
   "cell_type": "code",
   "execution_count": 21,
   "id": "2613adb6-4bb8-4714-a2f6-ef005a84310c",
   "metadata": {},
   "outputs": [],
   "source": [
    "# solver_name = 'cbc'"
   ]
  },
  {
   "cell_type": "code",
   "execution_count": 22,
   "id": "4c5fef6f-0fd9-4003-badd-79f6c09ff709",
   "metadata": {},
   "outputs": [
    {
     "data": {
      "application/vnd.jupyter.widget-view+json": {
       "model_id": "f521c6da3f6042648b0a9a24a83cf7ed",
       "version_major": 2,
       "version_minor": 0
      },
      "text/plain": [
       "IntProgress(value=0, bar_style='success', description='deps', max=124)"
      ]
     },
     "metadata": {},
     "output_type": "display_data"
    }
   ],
   "source": [
    "calculate_deps_progress = IntProgress(min=0, max=m, value=0, description='deps', bar_style='success')\n",
    "display(calculate_deps_progress)\n",
    "deps_calculator = DependenciesCalculator(D, m, calculate_deps_progress)\n",
    "sum_D = deps_calculator.calculate()"
   ]
  },
  {
   "cell_type": "code",
   "execution_count": 23,
   "id": "94cb9352-f471-4695-b205-71a48bc52601",
   "metadata": {},
   "outputs": [],
   "source": [
    "X = np.array([[1] for i in range(m)])"
   ]
  },
  {
   "cell_type": "code",
   "execution_count": 24,
   "id": "a433e7c0-0e18-4ad9-8d13-01bbfd05d1a1",
   "metadata": {},
   "outputs": [
    {
     "data": {
      "text/plain": [
       "array([[472.01 ],\n",
       "       [366.48 ],\n",
       "       [ 91.   ],\n",
       "       [226.267],\n",
       "       [632.4  ],\n",
       "       [ 59.5  ],\n",
       "       [ 35.   ],\n",
       "       [ 16.5  ],\n",
       "       [ 19.   ],\n",
       "       [ 77.   ]])"
      ]
     },
     "execution_count": 24,
     "metadata": {},
     "output_type": "execute_result"
    }
   ],
   "source": [
    "R.dot(Q).dot(sum_D).dot(X)"
   ]
  },
  {
   "cell_type": "code",
   "execution_count": 25,
   "id": "4e5ad368-0775-4cb9-8814-6f480bf5da47",
   "metadata": {},
   "outputs": [],
   "source": [
    "f_in = lambda x: 0 if x == 0 else 1\n",
    "f_im = lambda x: 0 if x < 1 else 1"
   ]
  },
  {
   "cell_type": "code",
   "execution_count": 26,
   "id": "3a1b63d3-c34d-481a-aa7c-9b08d5bbf75a",
   "metadata": {},
   "outputs": [],
   "source": [
    "result = 0\n",
    "for requirements in R:\n",
    "    \n",
    "    files = np.dot(requirements, Q)\n",
    "    files_with_dependencies = np.dot(files, sum_D)\n",
    "    \n",
    "    plugins = np.dot(files_with_dependencies, X)\n",
    "    plugins = np.array([f_in(x) for x in plugins])\n",
    "    \n",
    "    files_in_delivery = np.dot(X, plugins)\n",
    "    \n",
    "    requirements_in_delivery = np.dot(Q, files_in_delivery)\n",
    "    requirements_in_delivery = np.array([f_im(x) for x in requirements_in_delivery])\n",
    "    for i in range(len(requirements_in_delivery)):\n",
    "        if requirements_in_delivery[i] != 1:\n",
    "            print(i)\n",
    "            \n",
    "    \n",
    "    \n",
    "    \n",
    "    prices = np.dot(C, requirements_in_delivery)\n",
    "    \n",
    "    cost = np.dot(requirements_in_delivery, prices)\n",
    "    \n",
    "    result += cost"
   ]
  },
  {
   "cell_type": "code",
   "execution_count": 27,
   "id": "eea0387f-28db-4ae1-b5ed-76cb01e13d6e",
   "metadata": {},
   "outputs": [
    {
     "data": {
      "text/plain": [
       "1.0"
      ]
     },
     "execution_count": 27,
     "metadata": {},
     "output_type": "execute_result"
    }
   ],
   "source": [
    "0.1 * 5 + 0.5"
   ]
  },
  {
   "cell_type": "code",
   "execution_count": 28,
   "id": "ce8dd275-4926-4d5c-b31e-6deaa0d8d05e",
   "metadata": {},
   "outputs": [
    {
     "data": {
      "text/plain": [
       "array([0. , 0. , 0. , 0. , 0. , 0. , 0. , 0. , 0. , 0. , 0. , 0. , 0. ,\n",
       "       0. , 0. , 0. , 0. , 0. , 0. , 0. , 0. , 0. , 0. , 0. , 0. , 0. ,\n",
       "       0. , 0. , 0. , 0. , 0. , 0. , 0. , 0. , 0. , 0. , 0. , 0. , 0. ,\n",
       "       0. , 0. , 0. , 0.2, 0.4, 0.1, 0.1, 0.1, 0. , 0. , 0. , 0. , 0. ,\n",
       "       0. , 0. , 0. , 0.1, 0. , 0. , 0. , 0. , 0. , 0. , 0. , 0. , 0. ,\n",
       "       0. , 0. , 0. , 0. , 0. , 0. , 0. , 0. , 0. , 0. , 0. , 0. , 0. ,\n",
       "       0. , 0. , 0. , 0. , 0. , 0. , 0. , 0. , 0. , 0. , 0. , 0. , 0. ,\n",
       "       0. , 0. , 0. , 0. , 0. , 0. , 0. , 0. , 0. , 0. , 0. , 0. , 0. ,\n",
       "       0. , 0. , 0. , 0. , 0. , 0. , 0. , 0. , 0. , 0. , 0. , 0. , 0. ,\n",
       "       0. , 0. , 0. , 0. , 0. , 0. , 0. ])"
      ]
     },
     "execution_count": 28,
     "metadata": {},
     "output_type": "execute_result"
    }
   ],
   "source": [
    "Q[34]"
   ]
  },
  {
   "cell_type": "code",
   "execution_count": 29,
   "id": "23fb9757-a6ad-49fd-a7c7-2abb826e9614",
   "metadata": {},
   "outputs": [
    {
     "data": {
      "text/plain": [
       "np.float64(1610.0)"
      ]
     },
     "execution_count": 29,
     "metadata": {},
     "output_type": "execute_result"
    }
   ],
   "source": [
    "result"
   ]
  },
  {
   "cell_type": "code",
   "execution_count": null,
   "id": "6f53ede2-94f9-46a0-9fc9-910c55529660",
   "metadata": {},
   "outputs": [],
   "source": []
  },
  {
   "cell_type": "code",
   "execution_count": null,
   "id": "6a05223b-2060-4620-b6b1-d060b15ae981",
   "metadata": {},
   "outputs": [],
   "source": []
  },
  {
   "cell_type": "code",
   "execution_count": null,
   "id": "5abab649-3cbf-494a-a7ee-1c897cac3dcf",
   "metadata": {},
   "outputs": [],
   "source": []
  },
  {
   "cell_type": "code",
   "execution_count": null,
   "id": "c9a73271-ce52-46bb-b693-9352feef62cd",
   "metadata": {},
   "outputs": [],
   "source": []
  },
  {
   "cell_type": "code",
   "execution_count": 30,
   "id": "4a2b17b0-db81-41df-b74b-6a66fc5f9119",
   "metadata": {},
   "outputs": [],
   "source": [
    "class CalculateResult():\n",
    "    def __init__(self, cost, duration):\n",
    "        self.cost = cost\n",
    "        self.duration = duration"
   ]
  },
  {
   "cell_type": "code",
   "execution_count": 31,
   "id": "01088794-1ebb-4766-8fe2-bbc556562c34",
   "metadata": {},
   "outputs": [],
   "source": [
    "def genetic_calculate(k, R):\n",
    "    config = GeneticConfig()\n",
    "    config.num_generations = 1000\n",
    "    multidiscrete_converter = MultiDiscreteConverter(m, k)\n",
    "    cost_calculator_factory = CostCalculatorFactory(Q, sum_D, C, R)\n",
    "    multidiscrete_fitness_calculator = FitnessCalculator(M, cost_calculator_factory, multidiscrete_converter)\n",
    "    multidiscrete_space_config = GeneticMultiDiscreteSpaceConfig(m, k)\n",
    "    multidiscrete_config = GeneticConfig()\n",
    "    multibinary_progress = IntProgress(min=0, max=config.num_generations, value=0, description=str(k), bar_style='success')\n",
    "    multidiscrete_genetic_solver = GeneticSolver(config, multidiscrete_space_config, multidiscrete_fitness_calculator, multibinary_progress)\n",
    "    # display(multibinary_progress)\n",
    "    best_solution, best_fitness, best_idx, duration = multidiscrete_genetic_solver.solve()\n",
    "    A = multidiscrete_converter.convert(best_solution)\n",
    "    cost_calculator = cost_calculator_factory.get_cost_calculator(A)\n",
    "    cost = cost_calculator.calculate()\n",
    "    calculate_result = CalculateResult(cost, duration)\n",
    "    return calculate_result"
   ]
  },
  {
   "cell_type": "code",
   "execution_count": 32,
   "id": "cb8c2bed-d5a1-4bb2-b7e6-c9597ba6a7ae",
   "metadata": {},
   "outputs": [],
   "source": [
    "def rl_calculate(k, R):\n",
    "    total_timesteps = 1000\n",
    "    cost_calculator_factory = CostCalculatorFactory(Q, sum_D, C, R)\n",
    "    multidiscrete_config = RlMultiDiscreteConfig(m, k, dtype)\n",
    "    multidiscrete_converter = MultiDiscreteConverter(m, k)\n",
    "    multidiscrete_fitness_calculator = FitnessCalculator(M, cost_calculator_factory, multidiscrete_converter)\n",
    "    multidiscrete_progress = IntProgress(min=0, max=total_timesteps, value=0, description=str(k), bar_style='success')\n",
    "    display(multidiscrete_progress)\n",
    "    multidiscrete_graphic = RlGraphic('multidiscrete')\n",
    "    multidiscrete_optimisation_task_env = RlEnv(M, multidiscrete_config, multidiscrete_fitness_calculator, multidiscrete_progress, multidiscrete_graphic)\n",
    "    check_env(multidiscrete_optimisation_task_env)\n",
    "    multidiscrete_model = A2C(\"MlpPolicy\", multidiscrete_optimisation_task_env)\n",
    "    rl_multidiscrete_solver = RlSolver(multidiscrete_model, total_timesteps)\n",
    "    best_fitness, best_solution, duration = rl_multidiscrete_solver.solve()\n",
    "    X = multidiscrete_converter.convert(best_solution)\n",
    "    cost_calculator = cost_calculator_factory.get_cost_calculator(X)\n",
    "    cost = cost_calculator.calculate()\n",
    "    calculate_result = CalculateResult(cost, duration)\n",
    "    return calculate_result"
   ]
  },
  {
   "cell_type": "code",
   "execution_count": 33,
   "id": "e0dd93e0-4c68-4614-971a-85d709acf8d9",
   "metadata": {},
   "outputs": [],
   "source": [
    "def solver_calculate(k, R, solver_name):\n",
    "    model_builder = ModelBuilder(M, k, Q, sum_D, C, R)\n",
    "    model = model_builder.build()\n",
    "    # solver_name = 'glpk'\n",
    "    solve_action = SolveAction(model, solver_name)\n",
    "    solve_result = solve_action.solve()\n",
    "    instance = solve_result.instance\n",
    "    duration = solve_result.duration\n",
    "    pyomo_values_converter = PyomoValuesConverter()\n",
    "    X = pyomo_values_converter.convert(instance.A)\n",
    "    cost_calculator_factory = CostCalculatorFactory(Q, sum_D, C, R)\n",
    "    cost_calculator = cost_calculator_factory.get_cost_calculator(X)\n",
    "    cost = cost_calculator.calculate()\n",
    "    calculate_result = CalculateResult(cost, duration)\n",
    "    return calculate_result"
   ]
  },
  {
   "cell_type": "code",
   "execution_count": 34,
   "id": "80f73f2d-9324-493d-8d98-ef2f34039856",
   "metadata": {},
   "outputs": [],
   "source": [
    "def make_comparation():\n",
    "    _R = np.array([R[0]])\n",
    "\n",
    "    genetic_cost = []\n",
    "    genetic_duration = []\n",
    "\n",
    "    rl_cost = []\n",
    "    rl_duration = []\n",
    "    \n",
    "    glpk_solver_cost = []\n",
    "    glpk_solver_duration = []\n",
    "    \n",
    "    cbc_solver_cost = []\n",
    "    cbc_solver_duration = []\n",
    "\n",
    "    count = 10\n",
    "    progress = IntProgress(min=0, max=count, value=0, description='progress', bar_style='success')\n",
    "    display(progress)\n",
    "    \n",
    "    for k in range(1, count + 1):\n",
    "        genetic_calculate_result = genetic_calculate(k, _R)\n",
    "        # rl_calculate_result = rl_calculate(k, _R)\n",
    "        # glpk_solver_calculate_result = solver_calculate(k, _R, 'glpk')\n",
    "        # cbc_solver_calculate_result = solver_calculate(k, _R, 'cbc')\n",
    "\n",
    "        genetic_cost.append(genetic_calculate_result.cost)\n",
    "        genetic_duration.append(genetic_calculate_result.duration)\n",
    "\n",
    "        # rl_cost.append(rl_calculate_result.cost)\n",
    "        # rl_duration.append(rl_calculate_result.duration)\n",
    "        \n",
    "        # glpk_solver_cost.append(glpk_solver_calculate_result.cost)\n",
    "        # glpk_solver_duration.append(glpk_solver_calculate_result.duration)\n",
    "        \n",
    "        # cbc_solver_cost.append(cbc_solver_calculate_result.cost)\n",
    "        # cbc_solver_duration.append(cbc_solver_calculate_result.duration)\n",
    "        \n",
    "        progress.value += 1\n",
    "\n",
    "    # data = {\n",
    "    #     'genetic_cost': genetic_cost,\n",
    "    #     'genetic_duration': genetic_duration,\n",
    "    #     'solver_cost': solver_cost,\n",
    "    #     'solver_duration': solver_duration\n",
    "    # }\n",
    "\n",
    "    # data = {\n",
    "    #     'glpk_cost': glpk_solver_cost,\n",
    "    #     'glpk_duration': glpk_solver_duration,\n",
    "    #     'cbc_cost': cbc_solver_cost,\n",
    "    #     'cbc_duration': cbc_solver_duration\n",
    "    # }\n",
    "\n",
    "    data = {\n",
    "        'genetic_cost': genetic_cost,\n",
    "        'genetic_duration': genetic_duration,\n",
    "        'rl_cost': rl_cost,\n",
    "        'rl_duration': rl_duration\n",
    "    }\n",
    "    \n",
    "    df = pd.DataFrame(data)\n",
    "    return df"
   ]
  },
  {
   "cell_type": "code",
   "execution_count": 511,
   "id": "e3177cbb-6136-4623-b817-1fbf20a1c7d0",
   "metadata": {},
   "outputs": [
    {
     "data": {
      "application/vnd.jupyter.widget-view+json": {
       "model_id": "6e077ad975284b3f833b305d631d5a12",
       "version_major": 2,
       "version_minor": 0
      },
      "text/plain": [
       "IntProgress(value=0, bar_style='success', description='progress', max=10)"
      ]
     },
     "metadata": {},
     "output_type": "display_data"
    },
    {
     "name": "stderr",
     "output_type": "stream",
     "text": [
      "IOPub message rate exceeded.\n",
      "The Jupyter server will temporarily stop sending output\n",
      "to the client in order to avoid crashing it.\n",
      "To change this limit, set the config variable\n",
      "`--ServerApp.iopub_msg_rate_limit`.\n",
      "\n",
      "Current values:\n",
      "ServerApp.iopub_msg_rate_limit=1000.0 (msgs/sec)\n",
      "ServerApp.rate_limit_window=3.0 (secs)\n",
      "\n",
      "IOPub message rate exceeded.\n",
      "The Jupyter server will temporarily stop sending output\n",
      "to the client in order to avoid crashing it.\n",
      "To change this limit, set the config variable\n",
      "`--ServerApp.iopub_msg_rate_limit`.\n",
      "\n",
      "Current values:\n",
      "ServerApp.iopub_msg_rate_limit=1000.0 (msgs/sec)\n",
      "ServerApp.rate_limit_window=3.0 (secs)\n",
      "\n"
     ]
    }
   ],
   "source": [
    "comparation_df = make_comparation()"
   ]
  },
  {
   "cell_type": "code",
   "execution_count": null,
   "id": "effb7a63-5e47-4a8a-84b1-60fdb3de375d",
   "metadata": {},
   "outputs": [],
   "source": [
    "0.333 + 0.333 + 0.334"
   ]
  },
  {
   "cell_type": "code",
   "execution_count": null,
   "id": "13e773bd-227b-4ee9-8f99-6c2d42e3ff0a",
   "metadata": {},
   "outputs": [],
   "source": [
    "comparation_df"
   ]
  },
  {
   "cell_type": "code",
   "execution_count": 505,
   "id": "c2b326b6-2978-424b-b9e6-49a1b5eaab49",
   "metadata": {},
   "outputs": [],
   "source": [
    "comparation_df.to_csv('out_4/comparation.csv')"
   ]
  },
  {
   "cell_type": "code",
   "execution_count": 35,
   "id": "a8642a97-6b37-4a53-a603-aa9dacdb2340",
   "metadata": {},
   "outputs": [],
   "source": [
    "def save_k_costs(k, costs, file_name):\n",
    "    file = open('out_4/' + file_name, 'r', encoding='utf-8')\n",
    "    data = file.read()\n",
    "    file.close()\n",
    "    d = json.loads(data)\n",
    "    d[str(k)] = costs\n",
    "    data = json.dumps(d, indent=4)\n",
    "    file = open('out_4/' + file_name, 'w', encoding='utf-8')\n",
    "    file.write(data)\n",
    "    file.close()"
   ]
  },
  {
   "cell_type": "code",
   "execution_count": 36,
   "id": "006bde08-e99c-4a8b-8b23-d453d482a4d7",
   "metadata": {},
   "outputs": [],
   "source": [
    "def make_genetic(k):\n",
    "    iterations = 10\n",
    "    progress = IntProgress(min=0, max=iterations, value=0, description=str(k), bar_style='success')\n",
    "    display(progress)\n",
    "    costs = []\n",
    "    for _ in range(iterations):\n",
    "        genetic_calculate_result = genetic_calculate(k, R)\n",
    "        cost = genetic_calculate_result.cost\n",
    "        costs.append(cost)\n",
    "        progress.value += 1\n",
    "    save_k_costs(k, costs, 'genetic.json')"
   ]
  },
  {
   "cell_type": "code",
   "execution_count": 37,
   "id": "fdcc0ea7-c9c5-46cc-af84-e84e4195c36f",
   "metadata": {},
   "outputs": [],
   "source": [
    "def make_rl(k):\n",
    "    iterations = 10\n",
    "    progress = IntProgress(min=0, max=iterations, value=0, description=str(k), bar_style='success')\n",
    "    display(progress)\n",
    "    costs = []\n",
    "    for _ in range(iterations):\n",
    "        rl_calculate_result = rl_calculate(k, R)\n",
    "        cost = rl_calculate_result.cost\n",
    "        costs.append(cost)\n",
    "        progress.value += 1\n",
    "    save_k_costs(k, costs, 'rl.json')\n",
    "    # rl_calculate_result = rl_calculate(k, R)\n",
    "    # cost = rl_calculate_result.cost\n",
    "    # return cost"
   ]
  },
  {
   "cell_type": "code",
   "execution_count": null,
   "id": "ca0ad778-e4b9-4b51-a550-fc306a66448a",
   "metadata": {},
   "outputs": [],
   "source": []
  },
  {
   "cell_type": "code",
   "execution_count": 38,
   "id": "18fc82b5-9d2c-428e-8fb3-351235b3d0df",
   "metadata": {},
   "outputs": [],
   "source": [
    "for k in range(1, 51):\n",
    "    pass\n",
    "    # make_genetic(k)\n",
    "    # make_rl(k)"
   ]
  },
  {
   "cell_type": "code",
   "execution_count": 39,
   "id": "83868912-e083-4f54-ab5f-a087b938ccf9",
   "metadata": {},
   "outputs": [],
   "source": [
    "rl_costs = []"
   ]
  },
  {
   "cell_type": "code",
   "execution_count": 40,
   "id": "84e18e33-fabf-4458-9cd1-96f88974c384",
   "metadata": {},
   "outputs": [],
   "source": [
    "rl_df = pd.read_csv('out_4/rl_df.csv', encoding='utf-8')"
   ]
  },
  {
   "cell_type": "code",
   "execution_count": 41,
   "id": "2cc951dc-4095-40a0-8a2a-ce7b087cccbf",
   "metadata": {},
   "outputs": [],
   "source": [
    "if False:\n",
    "    current_step = 1\n",
    "    steps_count = 50\n",
    "    rl_progress = IntProgress(min=0, max=steps_count, value=0, description='rl', bar_style='success')\n",
    "    display(rl_progress)\n",
    "    for k in range(current_step, current_step + steps_count):\n",
    "        cost = make_rl(k)\n",
    "        rl_costs.append(cost)\n",
    "        rl_progress.value += 1\n",
    "    rl_dict = {'rl': rl_costs}\n",
    "    rl_df = pd.DataFrame(rl_dict)\n",
    "    length = len(rl_df)\n",
    "    rl_df.index = range(1, length + 1)\n",
    "    rl_df.to_csv('out_4/rl_df.csv', encoding='utf-8')"
   ]
  },
  {
   "cell_type": "code",
   "execution_count": null,
   "id": "47645603-738d-4603-92f3-46a2e3a6af35",
   "metadata": {},
   "outputs": [],
   "source": []
  },
  {
   "cell_type": "code",
   "execution_count": null,
   "id": "070c66a3-3e05-4d59-a8eb-d545f05ec146",
   "metadata": {},
   "outputs": [],
   "source": []
  },
  {
   "cell_type": "code",
   "execution_count": 42,
   "id": "df8a956b-a05f-4ce0-844b-e6ec9131fbf4",
   "metadata": {},
   "outputs": [],
   "source": [
    "genetic_costs_file = open('out_4/genetic.json', 'r', encoding='utf-8')\n",
    "genetic_costs_data = genetic_costs_file.read()\n",
    "genetic_costs_file.close()"
   ]
  },
  {
   "cell_type": "code",
   "execution_count": 43,
   "id": "270f9c81-fbe9-4a7f-ab30-83e44093b01d",
   "metadata": {},
   "outputs": [],
   "source": [
    "genetic_costs = json.loads(genetic_costs_data)"
   ]
  },
  {
   "cell_type": "code",
   "execution_count": 44,
   "id": "edc96b6c-7afc-42da-9936-00ea81145d34",
   "metadata": {},
   "outputs": [],
   "source": [
    "genetic_costs_df = pd.DataFrame(genetic_costs)"
   ]
  },
  {
   "cell_type": "code",
   "execution_count": 45,
   "id": "37d7690b-da51-4820-8929-7fb2c860f40a",
   "metadata": {},
   "outputs": [
    {
     "data": {
      "text/html": [
       "<div>\n",
       "<style scoped>\n",
       "    .dataframe tbody tr th:only-of-type {\n",
       "        vertical-align: middle;\n",
       "    }\n",
       "\n",
       "    .dataframe tbody tr th {\n",
       "        vertical-align: top;\n",
       "    }\n",
       "\n",
       "    .dataframe thead th {\n",
       "        text-align: right;\n",
       "    }\n",
       "</style>\n",
       "<table border=\"1\" class=\"dataframe\">\n",
       "  <thead>\n",
       "    <tr style=\"text-align: right;\">\n",
       "      <th></th>\n",
       "      <th>1</th>\n",
       "      <th>2</th>\n",
       "      <th>3</th>\n",
       "      <th>4</th>\n",
       "      <th>5</th>\n",
       "      <th>6</th>\n",
       "      <th>7</th>\n",
       "      <th>8</th>\n",
       "      <th>9</th>\n",
       "      <th>10</th>\n",
       "      <th>...</th>\n",
       "      <th>41</th>\n",
       "      <th>42</th>\n",
       "      <th>43</th>\n",
       "      <th>44</th>\n",
       "      <th>45</th>\n",
       "      <th>46</th>\n",
       "      <th>47</th>\n",
       "      <th>48</th>\n",
       "      <th>49</th>\n",
       "      <th>50</th>\n",
       "    </tr>\n",
       "  </thead>\n",
       "  <tbody>\n",
       "    <tr>\n",
       "      <th>count</th>\n",
       "      <td>10.0</td>\n",
       "      <td>10.0</td>\n",
       "      <td>10.000000</td>\n",
       "      <td>10.000000</td>\n",
       "      <td>10.000000</td>\n",
       "      <td>10.000000</td>\n",
       "      <td>10.000000</td>\n",
       "      <td>10.0000</td>\n",
       "      <td>10.00000</td>\n",
       "      <td>10.000000</td>\n",
       "      <td>...</td>\n",
       "      <td>10.000000</td>\n",
       "      <td>10.000000</td>\n",
       "      <td>10.000000</td>\n",
       "      <td>10.000000</td>\n",
       "      <td>10.000000</td>\n",
       "      <td>10.000000</td>\n",
       "      <td>10.000000</td>\n",
       "      <td>10.000000</td>\n",
       "      <td>10.000000</td>\n",
       "      <td>10.000000</td>\n",
       "    </tr>\n",
       "    <tr>\n",
       "      <th>mean</th>\n",
       "      <td>1610.0</td>\n",
       "      <td>1610.0</td>\n",
       "      <td>1601.700000</td>\n",
       "      <td>1534.400000</td>\n",
       "      <td>1397.700000</td>\n",
       "      <td>1432.800000</td>\n",
       "      <td>1355.900000</td>\n",
       "      <td>1215.9000</td>\n",
       "      <td>1196.10000</td>\n",
       "      <td>1186.900000</td>\n",
       "      <td>...</td>\n",
       "      <td>642.500000</td>\n",
       "      <td>635.400000</td>\n",
       "      <td>637.300000</td>\n",
       "      <td>625.500000</td>\n",
       "      <td>634.100000</td>\n",
       "      <td>615.900000</td>\n",
       "      <td>605.200000</td>\n",
       "      <td>607.700000</td>\n",
       "      <td>617.400000</td>\n",
       "      <td>602.300000</td>\n",
       "    </tr>\n",
       "    <tr>\n",
       "      <th>std</th>\n",
       "      <td>0.0</td>\n",
       "      <td>0.0</td>\n",
       "      <td>26.246905</td>\n",
       "      <td>64.486347</td>\n",
       "      <td>78.443256</td>\n",
       "      <td>64.084666</td>\n",
       "      <td>62.002599</td>\n",
       "      <td>51.2715</td>\n",
       "      <td>53.37592</td>\n",
       "      <td>56.649899</td>\n",
       "      <td>...</td>\n",
       "      <td>35.503521</td>\n",
       "      <td>29.661797</td>\n",
       "      <td>25.394881</td>\n",
       "      <td>27.257007</td>\n",
       "      <td>20.999735</td>\n",
       "      <td>20.458359</td>\n",
       "      <td>24.943492</td>\n",
       "      <td>19.061596</td>\n",
       "      <td>29.368161</td>\n",
       "      <td>30.706677</td>\n",
       "    </tr>\n",
       "    <tr>\n",
       "      <th>min</th>\n",
       "      <td>1610.0</td>\n",
       "      <td>1610.0</td>\n",
       "      <td>1527.000000</td>\n",
       "      <td>1425.000000</td>\n",
       "      <td>1289.000000</td>\n",
       "      <td>1338.000000</td>\n",
       "      <td>1219.000000</td>\n",
       "      <td>1142.0000</td>\n",
       "      <td>1108.00000</td>\n",
       "      <td>1094.000000</td>\n",
       "      <td>...</td>\n",
       "      <td>598.000000</td>\n",
       "      <td>586.000000</td>\n",
       "      <td>594.000000</td>\n",
       "      <td>594.000000</td>\n",
       "      <td>590.000000</td>\n",
       "      <td>575.000000</td>\n",
       "      <td>567.000000</td>\n",
       "      <td>571.000000</td>\n",
       "      <td>594.000000</td>\n",
       "      <td>570.000000</td>\n",
       "    </tr>\n",
       "    <tr>\n",
       "      <th>25%</th>\n",
       "      <td>1610.0</td>\n",
       "      <td>1610.0</td>\n",
       "      <td>1610.000000</td>\n",
       "      <td>1483.500000</td>\n",
       "      <td>1369.250000</td>\n",
       "      <td>1400.250000</td>\n",
       "      <td>1333.750000</td>\n",
       "      <td>1186.2500</td>\n",
       "      <td>1165.50000</td>\n",
       "      <td>1159.500000</td>\n",
       "      <td>...</td>\n",
       "      <td>618.000000</td>\n",
       "      <td>621.500000</td>\n",
       "      <td>617.250000</td>\n",
       "      <td>609.750000</td>\n",
       "      <td>628.250000</td>\n",
       "      <td>605.250000</td>\n",
       "      <td>592.250000</td>\n",
       "      <td>601.500000</td>\n",
       "      <td>596.250000</td>\n",
       "      <td>579.500000</td>\n",
       "    </tr>\n",
       "    <tr>\n",
       "      <th>50%</th>\n",
       "      <td>1610.0</td>\n",
       "      <td>1610.0</td>\n",
       "      <td>1610.000000</td>\n",
       "      <td>1543.500000</td>\n",
       "      <td>1393.500000</td>\n",
       "      <td>1425.500000</td>\n",
       "      <td>1356.000000</td>\n",
       "      <td>1200.5000</td>\n",
       "      <td>1187.50000</td>\n",
       "      <td>1199.000000</td>\n",
       "      <td>...</td>\n",
       "      <td>629.500000</td>\n",
       "      <td>640.500000</td>\n",
       "      <td>645.500000</td>\n",
       "      <td>617.500000</td>\n",
       "      <td>631.000000</td>\n",
       "      <td>618.000000</td>\n",
       "      <td>605.500000</td>\n",
       "      <td>606.000000</td>\n",
       "      <td>608.500000</td>\n",
       "      <td>596.500000</td>\n",
       "    </tr>\n",
       "    <tr>\n",
       "      <th>75%</th>\n",
       "      <td>1610.0</td>\n",
       "      <td>1610.0</td>\n",
       "      <td>1610.000000</td>\n",
       "      <td>1595.000000</td>\n",
       "      <td>1415.750000</td>\n",
       "      <td>1478.750000</td>\n",
       "      <td>1384.500000</td>\n",
       "      <td>1244.0000</td>\n",
       "      <td>1219.75000</td>\n",
       "      <td>1219.500000</td>\n",
       "      <td>...</td>\n",
       "      <td>671.750000</td>\n",
       "      <td>653.250000</td>\n",
       "      <td>651.500000</td>\n",
       "      <td>643.750000</td>\n",
       "      <td>645.750000</td>\n",
       "      <td>624.500000</td>\n",
       "      <td>617.750000</td>\n",
       "      <td>620.250000</td>\n",
       "      <td>622.250000</td>\n",
       "      <td>614.000000</td>\n",
       "    </tr>\n",
       "    <tr>\n",
       "      <th>max</th>\n",
       "      <td>1610.0</td>\n",
       "      <td>1610.0</td>\n",
       "      <td>1610.000000</td>\n",
       "      <td>1610.000000</td>\n",
       "      <td>1551.000000</td>\n",
       "      <td>1547.000000</td>\n",
       "      <td>1455.000000</td>\n",
       "      <td>1304.0000</td>\n",
       "      <td>1293.00000</td>\n",
       "      <td>1261.000000</td>\n",
       "      <td>...</td>\n",
       "      <td>706.000000</td>\n",
       "      <td>679.000000</td>\n",
       "      <td>676.000000</td>\n",
       "      <td>672.000000</td>\n",
       "      <td>663.000000</td>\n",
       "      <td>644.000000</td>\n",
       "      <td>647.000000</td>\n",
       "      <td>640.000000</td>\n",
       "      <td>683.000000</td>\n",
       "      <td>664.000000</td>\n",
       "    </tr>\n",
       "  </tbody>\n",
       "</table>\n",
       "<p>8 rows × 50 columns</p>\n",
       "</div>"
      ],
      "text/plain": [
       "            1       2            3            4            5            6  \\\n",
       "count    10.0    10.0    10.000000    10.000000    10.000000    10.000000   \n",
       "mean   1610.0  1610.0  1601.700000  1534.400000  1397.700000  1432.800000   \n",
       "std       0.0     0.0    26.246905    64.486347    78.443256    64.084666   \n",
       "min    1610.0  1610.0  1527.000000  1425.000000  1289.000000  1338.000000   \n",
       "25%    1610.0  1610.0  1610.000000  1483.500000  1369.250000  1400.250000   \n",
       "50%    1610.0  1610.0  1610.000000  1543.500000  1393.500000  1425.500000   \n",
       "75%    1610.0  1610.0  1610.000000  1595.000000  1415.750000  1478.750000   \n",
       "max    1610.0  1610.0  1610.000000  1610.000000  1551.000000  1547.000000   \n",
       "\n",
       "                 7          8           9           10  ...          41  \\\n",
       "count    10.000000    10.0000    10.00000    10.000000  ...   10.000000   \n",
       "mean   1355.900000  1215.9000  1196.10000  1186.900000  ...  642.500000   \n",
       "std      62.002599    51.2715    53.37592    56.649899  ...   35.503521   \n",
       "min    1219.000000  1142.0000  1108.00000  1094.000000  ...  598.000000   \n",
       "25%    1333.750000  1186.2500  1165.50000  1159.500000  ...  618.000000   \n",
       "50%    1356.000000  1200.5000  1187.50000  1199.000000  ...  629.500000   \n",
       "75%    1384.500000  1244.0000  1219.75000  1219.500000  ...  671.750000   \n",
       "max    1455.000000  1304.0000  1293.00000  1261.000000  ...  706.000000   \n",
       "\n",
       "               42          43          44          45          46          47  \\\n",
       "count   10.000000   10.000000   10.000000   10.000000   10.000000   10.000000   \n",
       "mean   635.400000  637.300000  625.500000  634.100000  615.900000  605.200000   \n",
       "std     29.661797   25.394881   27.257007   20.999735   20.458359   24.943492   \n",
       "min    586.000000  594.000000  594.000000  590.000000  575.000000  567.000000   \n",
       "25%    621.500000  617.250000  609.750000  628.250000  605.250000  592.250000   \n",
       "50%    640.500000  645.500000  617.500000  631.000000  618.000000  605.500000   \n",
       "75%    653.250000  651.500000  643.750000  645.750000  624.500000  617.750000   \n",
       "max    679.000000  676.000000  672.000000  663.000000  644.000000  647.000000   \n",
       "\n",
       "               48          49          50  \n",
       "count   10.000000   10.000000   10.000000  \n",
       "mean   607.700000  617.400000  602.300000  \n",
       "std     19.061596   29.368161   30.706677  \n",
       "min    571.000000  594.000000  570.000000  \n",
       "25%    601.500000  596.250000  579.500000  \n",
       "50%    606.000000  608.500000  596.500000  \n",
       "75%    620.250000  622.250000  614.000000  \n",
       "max    640.000000  683.000000  664.000000  \n",
       "\n",
       "[8 rows x 50 columns]"
      ]
     },
     "execution_count": 45,
     "metadata": {},
     "output_type": "execute_result"
    }
   ],
   "source": [
    "genetic_costs_df.describe()"
   ]
  },
  {
   "cell_type": "code",
   "execution_count": 46,
   "id": "c9e088f0-a90c-420c-a17a-a12f41c0825e",
   "metadata": {},
   "outputs": [],
   "source": [
    "rl_costs_file = open('out_4/rl.json', 'r', encoding='utf-8')\n",
    "rl_costs_data = rl_costs_file.read()\n",
    "rl_costs_file.close()"
   ]
  },
  {
   "cell_type": "code",
   "execution_count": 47,
   "id": "b0745fcc-58a2-4082-8b4a-86291ae1b10d",
   "metadata": {},
   "outputs": [],
   "source": [
    "rl_costs = json.loads(rl_costs_data)"
   ]
  },
  {
   "cell_type": "code",
   "execution_count": 48,
   "id": "ae1d326d-2262-47ae-a12b-cb440f6a4848",
   "metadata": {},
   "outputs": [],
   "source": [
    "rl_costs_df = pd.DataFrame(rl_costs)"
   ]
  },
  {
   "cell_type": "code",
   "execution_count": 49,
   "id": "0da31641-3de1-4e09-9aaa-1f214344a6ff",
   "metadata": {},
   "outputs": [
    {
     "data": {
      "text/html": [
       "<div>\n",
       "<style scoped>\n",
       "    .dataframe tbody tr th:only-of-type {\n",
       "        vertical-align: middle;\n",
       "    }\n",
       "\n",
       "    .dataframe tbody tr th {\n",
       "        vertical-align: top;\n",
       "    }\n",
       "\n",
       "    .dataframe thead th {\n",
       "        text-align: right;\n",
       "    }\n",
       "</style>\n",
       "<table border=\"1\" class=\"dataframe\">\n",
       "  <thead>\n",
       "    <tr style=\"text-align: right;\">\n",
       "      <th></th>\n",
       "      <th>1</th>\n",
       "      <th>2</th>\n",
       "      <th>3</th>\n",
       "      <th>4</th>\n",
       "      <th>5</th>\n",
       "      <th>6</th>\n",
       "      <th>7</th>\n",
       "      <th>8</th>\n",
       "      <th>9</th>\n",
       "      <th>10</th>\n",
       "      <th>...</th>\n",
       "      <th>41</th>\n",
       "      <th>42</th>\n",
       "      <th>43</th>\n",
       "      <th>44</th>\n",
       "      <th>45</th>\n",
       "      <th>46</th>\n",
       "      <th>47</th>\n",
       "      <th>48</th>\n",
       "      <th>49</th>\n",
       "      <th>50</th>\n",
       "    </tr>\n",
       "  </thead>\n",
       "  <tbody>\n",
       "    <tr>\n",
       "      <th>count</th>\n",
       "      <td>10.0</td>\n",
       "      <td>10.000000</td>\n",
       "      <td>10.000000</td>\n",
       "      <td>10.000000</td>\n",
       "      <td>10.000000</td>\n",
       "      <td>10.000000</td>\n",
       "      <td>10.000000</td>\n",
       "      <td>10.000000</td>\n",
       "      <td>10.000000</td>\n",
       "      <td>10.000000</td>\n",
       "      <td>...</td>\n",
       "      <td>10.000000</td>\n",
       "      <td>10.000000</td>\n",
       "      <td>10.000000</td>\n",
       "      <td>10.000000</td>\n",
       "      <td>10.000000</td>\n",
       "      <td>10.000000</td>\n",
       "      <td>10.000000</td>\n",
       "      <td>10.00000</td>\n",
       "      <td>10.000000</td>\n",
       "      <td>10.000000</td>\n",
       "    </tr>\n",
       "    <tr>\n",
       "      <th>mean</th>\n",
       "      <td>1610.0</td>\n",
       "      <td>1600.300000</td>\n",
       "      <td>1490.800000</td>\n",
       "      <td>1436.400000</td>\n",
       "      <td>1410.500000</td>\n",
       "      <td>1361.200000</td>\n",
       "      <td>1315.700000</td>\n",
       "      <td>1295.700000</td>\n",
       "      <td>1272.400000</td>\n",
       "      <td>1213.900000</td>\n",
       "      <td>...</td>\n",
       "      <td>741.700000</td>\n",
       "      <td>730.100000</td>\n",
       "      <td>729.500000</td>\n",
       "      <td>716.200000</td>\n",
       "      <td>708.600000</td>\n",
       "      <td>701.200000</td>\n",
       "      <td>699.700000</td>\n",
       "      <td>693.20000</td>\n",
       "      <td>690.100000</td>\n",
       "      <td>671.700000</td>\n",
       "    </tr>\n",
       "    <tr>\n",
       "      <th>std</th>\n",
       "      <td>0.0</td>\n",
       "      <td>30.674093</td>\n",
       "      <td>5.613476</td>\n",
       "      <td>28.636418</td>\n",
       "      <td>17.494444</td>\n",
       "      <td>24.543838</td>\n",
       "      <td>28.697851</td>\n",
       "      <td>26.457723</td>\n",
       "      <td>24.144012</td>\n",
       "      <td>30.256129</td>\n",
       "      <td>...</td>\n",
       "      <td>13.736003</td>\n",
       "      <td>11.209619</td>\n",
       "      <td>14.713939</td>\n",
       "      <td>13.513779</td>\n",
       "      <td>16.747803</td>\n",
       "      <td>15.164286</td>\n",
       "      <td>14.922392</td>\n",
       "      <td>12.42578</td>\n",
       "      <td>15.968372</td>\n",
       "      <td>16.799802</td>\n",
       "    </tr>\n",
       "    <tr>\n",
       "      <th>min</th>\n",
       "      <td>1610.0</td>\n",
       "      <td>1513.000000</td>\n",
       "      <td>1483.000000</td>\n",
       "      <td>1389.000000</td>\n",
       "      <td>1386.000000</td>\n",
       "      <td>1310.000000</td>\n",
       "      <td>1251.000000</td>\n",
       "      <td>1245.000000</td>\n",
       "      <td>1229.000000</td>\n",
       "      <td>1160.000000</td>\n",
       "      <td>...</td>\n",
       "      <td>724.000000</td>\n",
       "      <td>709.000000</td>\n",
       "      <td>712.000000</td>\n",
       "      <td>695.000000</td>\n",
       "      <td>671.000000</td>\n",
       "      <td>681.000000</td>\n",
       "      <td>676.000000</td>\n",
       "      <td>677.00000</td>\n",
       "      <td>659.000000</td>\n",
       "      <td>646.000000</td>\n",
       "    </tr>\n",
       "    <tr>\n",
       "      <th>25%</th>\n",
       "      <td>1610.0</td>\n",
       "      <td>1610.000000</td>\n",
       "      <td>1486.750000</td>\n",
       "      <td>1424.000000</td>\n",
       "      <td>1397.500000</td>\n",
       "      <td>1353.250000</td>\n",
       "      <td>1311.750000</td>\n",
       "      <td>1286.000000</td>\n",
       "      <td>1261.250000</td>\n",
       "      <td>1192.500000</td>\n",
       "      <td>...</td>\n",
       "      <td>734.000000</td>\n",
       "      <td>726.250000</td>\n",
       "      <td>716.250000</td>\n",
       "      <td>705.250000</td>\n",
       "      <td>704.500000</td>\n",
       "      <td>687.000000</td>\n",
       "      <td>691.250000</td>\n",
       "      <td>682.50000</td>\n",
       "      <td>680.750000</td>\n",
       "      <td>658.250000</td>\n",
       "    </tr>\n",
       "    <tr>\n",
       "      <th>50%</th>\n",
       "      <td>1610.0</td>\n",
       "      <td>1610.000000</td>\n",
       "      <td>1491.000000</td>\n",
       "      <td>1438.000000</td>\n",
       "      <td>1409.500000</td>\n",
       "      <td>1365.000000</td>\n",
       "      <td>1320.000000</td>\n",
       "      <td>1305.000000</td>\n",
       "      <td>1272.500000</td>\n",
       "      <td>1217.500000</td>\n",
       "      <td>...</td>\n",
       "      <td>739.000000</td>\n",
       "      <td>733.000000</td>\n",
       "      <td>728.500000</td>\n",
       "      <td>715.500000</td>\n",
       "      <td>714.000000</td>\n",
       "      <td>704.500000</td>\n",
       "      <td>699.500000</td>\n",
       "      <td>694.50000</td>\n",
       "      <td>692.000000</td>\n",
       "      <td>672.500000</td>\n",
       "    </tr>\n",
       "    <tr>\n",
       "      <th>75%</th>\n",
       "      <td>1610.0</td>\n",
       "      <td>1610.000000</td>\n",
       "      <td>1496.000000</td>\n",
       "      <td>1447.500000</td>\n",
       "      <td>1424.250000</td>\n",
       "      <td>1368.750000</td>\n",
       "      <td>1333.500000</td>\n",
       "      <td>1309.000000</td>\n",
       "      <td>1288.500000</td>\n",
       "      <td>1231.000000</td>\n",
       "      <td>...</td>\n",
       "      <td>746.250000</td>\n",
       "      <td>739.000000</td>\n",
       "      <td>739.250000</td>\n",
       "      <td>728.500000</td>\n",
       "      <td>719.250000</td>\n",
       "      <td>711.250000</td>\n",
       "      <td>711.250000</td>\n",
       "      <td>701.75000</td>\n",
       "      <td>698.500000</td>\n",
       "      <td>682.500000</td>\n",
       "    </tr>\n",
       "    <tr>\n",
       "      <th>max</th>\n",
       "      <td>1610.0</td>\n",
       "      <td>1610.000000</td>\n",
       "      <td>1498.000000</td>\n",
       "      <td>1493.000000</td>\n",
       "      <td>1436.000000</td>\n",
       "      <td>1404.000000</td>\n",
       "      <td>1354.000000</td>\n",
       "      <td>1334.000000</td>\n",
       "      <td>1308.000000</td>\n",
       "      <td>1257.000000</td>\n",
       "      <td>...</td>\n",
       "      <td>772.000000</td>\n",
       "      <td>741.000000</td>\n",
       "      <td>750.000000</td>\n",
       "      <td>736.000000</td>\n",
       "      <td>725.000000</td>\n",
       "      <td>721.000000</td>\n",
       "      <td>721.000000</td>\n",
       "      <td>710.00000</td>\n",
       "      <td>716.000000</td>\n",
       "      <td>700.000000</td>\n",
       "    </tr>\n",
       "  </tbody>\n",
       "</table>\n",
       "<p>8 rows × 50 columns</p>\n",
       "</div>"
      ],
      "text/plain": [
       "            1            2            3            4            5  \\\n",
       "count    10.0    10.000000    10.000000    10.000000    10.000000   \n",
       "mean   1610.0  1600.300000  1490.800000  1436.400000  1410.500000   \n",
       "std       0.0    30.674093     5.613476    28.636418    17.494444   \n",
       "min    1610.0  1513.000000  1483.000000  1389.000000  1386.000000   \n",
       "25%    1610.0  1610.000000  1486.750000  1424.000000  1397.500000   \n",
       "50%    1610.0  1610.000000  1491.000000  1438.000000  1409.500000   \n",
       "75%    1610.0  1610.000000  1496.000000  1447.500000  1424.250000   \n",
       "max    1610.0  1610.000000  1498.000000  1493.000000  1436.000000   \n",
       "\n",
       "                 6            7            8            9           10  ...  \\\n",
       "count    10.000000    10.000000    10.000000    10.000000    10.000000  ...   \n",
       "mean   1361.200000  1315.700000  1295.700000  1272.400000  1213.900000  ...   \n",
       "std      24.543838    28.697851    26.457723    24.144012    30.256129  ...   \n",
       "min    1310.000000  1251.000000  1245.000000  1229.000000  1160.000000  ...   \n",
       "25%    1353.250000  1311.750000  1286.000000  1261.250000  1192.500000  ...   \n",
       "50%    1365.000000  1320.000000  1305.000000  1272.500000  1217.500000  ...   \n",
       "75%    1368.750000  1333.500000  1309.000000  1288.500000  1231.000000  ...   \n",
       "max    1404.000000  1354.000000  1334.000000  1308.000000  1257.000000  ...   \n",
       "\n",
       "               41          42          43          44          45          46  \\\n",
       "count   10.000000   10.000000   10.000000   10.000000   10.000000   10.000000   \n",
       "mean   741.700000  730.100000  729.500000  716.200000  708.600000  701.200000   \n",
       "std     13.736003   11.209619   14.713939   13.513779   16.747803   15.164286   \n",
       "min    724.000000  709.000000  712.000000  695.000000  671.000000  681.000000   \n",
       "25%    734.000000  726.250000  716.250000  705.250000  704.500000  687.000000   \n",
       "50%    739.000000  733.000000  728.500000  715.500000  714.000000  704.500000   \n",
       "75%    746.250000  739.000000  739.250000  728.500000  719.250000  711.250000   \n",
       "max    772.000000  741.000000  750.000000  736.000000  725.000000  721.000000   \n",
       "\n",
       "               47         48          49          50  \n",
       "count   10.000000   10.00000   10.000000   10.000000  \n",
       "mean   699.700000  693.20000  690.100000  671.700000  \n",
       "std     14.922392   12.42578   15.968372   16.799802  \n",
       "min    676.000000  677.00000  659.000000  646.000000  \n",
       "25%    691.250000  682.50000  680.750000  658.250000  \n",
       "50%    699.500000  694.50000  692.000000  672.500000  \n",
       "75%    711.250000  701.75000  698.500000  682.500000  \n",
       "max    721.000000  710.00000  716.000000  700.000000  \n",
       "\n",
       "[8 rows x 50 columns]"
      ]
     },
     "execution_count": 49,
     "metadata": {},
     "output_type": "execute_result"
    }
   ],
   "source": [
    "rl_costs_df.describe()"
   ]
  },
  {
   "cell_type": "code",
   "execution_count": null,
   "id": "d8798f87-69ef-40f8-9c0e-d605f194bed9",
   "metadata": {},
   "outputs": [],
   "source": []
  },
  {
   "cell_type": "code",
   "execution_count": 87,
   "id": "4bfe6785-6a5e-4cce-a69e-b128eb303b66",
   "metadata": {},
   "outputs": [],
   "source": [
    "genetic_max_values = [genetic_costs_df[stb].max() for stb in genetic_costs_df.columns]\n",
    "genetc_min_values = [genetic_costs_df[stb].min() for stb in genetic_costs_df.columns]\n",
    "genetic_mean_values = [genetic_costs_df[stb].mean() for stb in genetic_costs_df.columns]\n",
    "genetic_median_values = [genetic_costs_df[stb].median() for stb in genetic_costs_df.columns]\n",
    "genetic_std_values = [genetic_costs_df[stb].std() for stb in genetic_costs_df.columns]\n",
    "rl_max_values = [rl_costs_df[stb].max() for stb in rl_costs_df.columns]\n",
    "rl_min_values = [rl_costs_df[stb].min() for stb in rl_costs_df.columns]\n",
    "rl_mean_values = [rl_costs_df[stb].mean() for stb in rl_costs_df.columns]\n",
    "rl_median_values = [rl_costs_df[stb].median() for stb in rl_costs_df.columns]\n",
    "rl_std_values = [rl_costs_df[stb].std() for stb in rl_costs_df.columns]"
   ]
  },
  {
   "cell_type": "code",
   "execution_count": 96,
   "id": "7b673bed-2061-4553-b654-31177797f155",
   "metadata": {},
   "outputs": [],
   "source": [
    "values_dict = {\n",
    "    # 'genetic: max': genetic_max_values,\n",
    "    'genetic: min': genetc_min_values,\n",
    "    'genetic: mean': genetic_mean_values,\n",
    "    # 'genetic: median': genetic_median_values,\n",
    "    # 'genetic: std': genetic_std_values,\n",
    "    # 'rl: max': rl_max_values,\n",
    "    'rl: min': rl_min_values,\n",
    "    'rl: mean': rl_mean_values,\n",
    "    # 'rl: median': rl_median_values,\n",
    "    # 'rl: std': rl_std_values\n",
    "}"
   ]
  },
  {
   "cell_type": "code",
   "execution_count": 97,
   "id": "3a10059b-be49-458c-8b61-8b84c69250e1",
   "metadata": {},
   "outputs": [],
   "source": [
    "values_df = pd.DataFrame(values_dict)"
   ]
  },
  {
   "cell_type": "code",
   "execution_count": 98,
   "id": "184fda29-e22b-4a6d-98b6-fd7d5a2787cd",
   "metadata": {},
   "outputs": [],
   "source": [
    "values_df.index = range(1, 51)"
   ]
  },
  {
   "cell_type": "code",
   "execution_count": 99,
   "id": "61d7966a-94c9-426e-92e5-80a62ef588b6",
   "metadata": {},
   "outputs": [
    {
     "data": {
      "text/plain": [
       "Text(0, 0.5, 'Total requirements implemented')"
      ]
     },
     "execution_count": 99,
     "metadata": {},
     "output_type": "execute_result"
    },
    {
     "data": {
      "image/png": "[encoded data removed]",
      "text/plain": [
       "<Figure size 640x480 with 1 Axes>"
      ]
     },
     "metadata": {},
     "output_type": "display_data"
    }
   ],
   "source": [
    "custom_palette = sns.color_palette([\"#666666\", \"#666666\", \"#666666\", \"#666666\", \"#666666\", \"#666666\"])\n",
    "sns.lineplot(data=values_df, palette=custom_palette, markers=True, markevery=10)\n",
    "plt.xlabel('k')\n",
    "plt.ylabel('Total requirements implemented')"
   ]
  },
  {
   "cell_type": "code",
   "execution_count": null,
   "id": "1d5d1616-320f-4738-b0eb-ec240c431dd1",
   "metadata": {},
   "outputs": [],
   "source": []
  },
  {
   "cell_type": "code",
   "execution_count": 124,
   "id": "5df77ea1-839e-4044-bfe0-9019a8369a65",
   "metadata": {},
   "outputs": [
    {
     "data": {
      "text/plain": [
       "Text(0, 0.5, 'Total requirements implemented')"
      ]
     },
     "execution_count": 124,
     "metadata": {},
     "output_type": "execute_result"
    },
    {
     "data": {
      "image/png": "[encoded data removed]",
      "text/plain": [
       "<Figure size 640x480 with 1 Axes>"
      ]
     },
     "metadata": {},
     "output_type": "display_data"
    }
   ],
   "source": [
    "values_dict = {\n",
    "    'genetic: mean': genetic_mean_values,\n",
    "    'rl: mean': rl_mean_values\n",
    "}\n",
    "values_df = pd.DataFrame(values_dict)\n",
    "values_df.index = range(1, 51)\n",
    "sns.lineplot(data=values_df)\n",
    "plt.xlabel('k')\n",
    "plt.ylabel('Total requirements implemented')"
   ]
  },
  {
   "cell_type": "code",
   "execution_count": null,
   "id": "69553916-d0cc-4427-98ef-336871e938c8",
   "metadata": {},
   "outputs": [],
   "source": []
  }
 ],
 "metadata": {
  "kernelspec": {
   "display_name": "Python 3 (ipykernel)",
   "language": "python",
   "name": "python3"
  },
  "language_info": {
   "codemirror_mode": {
    "name": "ipython",
    "version": 3
   },
   "file_extension": ".py",
   "mimetype": "text/x-python",
   "name": "python",
   "nbconvert_exporter": "python",
   "pygments_lexer": "ipython3",
   "version": "3.12.1"
  }
 },
 "nbformat": 4,
 "nbformat_minor": 5
}
