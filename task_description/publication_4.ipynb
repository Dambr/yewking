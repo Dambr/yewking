{
 "cells": [
  {
   "cell_type": "code",
   "execution_count": 1,
   "id": "3684a6a0-1353-4b0c-8544-010a508ab258",
   "metadata": {},
   "outputs": [],
   "source": [
    "import numpy as np\n",
    "import pandas as pd\n",
    "import seaborn as sns\n",
    "import matplotlib.pyplot as plt\n",
    "import json"
   ]
  },
  {
   "cell_type": "code",
   "execution_count": 2,
   "id": "41d6082c-1ad1-4939-a7ea-e1fc811cfa97",
   "metadata": {},
   "outputs": [],
   "source": [
    "from ipywidgets import IntProgress\n",
    "from IPython.display import display"
   ]
  },
  {
   "cell_type": "code",
   "execution_count": 3,
   "id": "f450ea59-e82b-4f03-aae4-648517c206c6",
   "metadata": {},
   "outputs": [],
   "source": [
    "from model_builder import ModelBuilder\n",
    "from solve_action import SolveAction"
   ]
  },
  {
   "cell_type": "code",
   "execution_count": 4,
   "id": "a69a1b9d-ca53-42e3-9a6e-f0e8a965502e",
   "metadata": {},
   "outputs": [],
   "source": [
    "from pyomo_values_converter import PyomoValuesConverter"
   ]
  },
  {
   "cell_type": "code",
   "execution_count": 5,
   "id": "9bdd06e9-7620-4916-96a8-ea572b5cbd93",
   "metadata": {},
   "outputs": [],
   "source": [
    "from dependencies_calculator import DependenciesCalculator\n",
    "from cost_calculator_factory import CostCalculatorFactory\n",
    "from multibinary_converter import MultiBinaryConverter\n",
    "from multidiscrete_converter import MultiDiscreteConverter\n",
    "from fitness_calculator import FitnessCalculator"
   ]
  },
  {
   "cell_type": "code",
   "execution_count": 6,
   "id": "e7ecfea4-a041-4b42-a61b-aef8e0f19fcd",
   "metadata": {},
   "outputs": [],
   "source": [
    "from genetic_multibinary_space_config import GeneticMultiBinarySpaceConfig\n",
    "from genetic_multidiscrete_space_config import GeneticMultiDiscreteSpaceConfig\n",
    "from genetic_config import GeneticConfig\n",
    "from genetic_solver import GeneticSolver"
   ]
  },
  {
   "cell_type": "code",
   "execution_count": 7,
   "id": "523bfad2-41b5-49b0-a622-50b131ef31f0",
   "metadata": {},
   "outputs": [],
   "source": [
    "from stable_baselines3 import PPO\n",
    "from stable_baselines3 import A2C\n",
    "from stable_baselines3.common.env_checker import check_env"
   ]
  },
  {
   "cell_type": "code",
   "execution_count": 8,
   "id": "522ee142-c6fa-4f5b-a356-093ba316885d",
   "metadata": {},
   "outputs": [],
   "source": [
    "from rl_multibinary_config import RlMultiBinaryConfig\n",
    "from rl_multidiscrete_config import RlMultiDiscreteConfig\n",
    "from rl_graphic import RlGraphic\n",
    "from rl_env import RlEnv\n",
    "from rl_solver import RlSolver"
   ]
  },
  {
   "cell_type": "code",
   "execution_count": 9,
   "id": "cebeac7a-b96d-4c39-b5a3-e89b1df286d4",
   "metadata": {},
   "outputs": [],
   "source": [
    "dtype = np.int64"
   ]
  },
  {
   "cell_type": "code",
   "execution_count": 10,
   "id": "56548ac4-b039-4101-9aa7-6ff004e08a38",
   "metadata": {},
   "outputs": [],
   "source": [
    "import warnings\n",
    "warnings.filterwarnings(\"ignore\")"
   ]
  },
  {
   "cell_type": "code",
   "execution_count": 11,
   "id": "cd442b60-aac2-4867-b9da-735e88878f56",
   "metadata": {},
   "outputs": [],
   "source": [
    "M = 10 ** 6"
   ]
  },
  {
   "cell_type": "code",
   "execution_count": 12,
   "id": "c131572f-ac38-48d1-8f47-04d39e06fdde",
   "metadata": {},
   "outputs": [],
   "source": [
    "read_matrix = lambda path: pd.read_csv(path, index_col=0, encoding='utf-8').to_numpy()"
   ]
  },
  {
   "cell_type": "code",
   "execution_count": 13,
   "id": "cbdf13d4-188f-4b1b-932f-0a2e8f4bba05",
   "metadata": {},
   "outputs": [],
   "source": [
    "C = read_matrix('../publication_4/script/out/C.csv')"
   ]
  },
  {
   "cell_type": "code",
   "execution_count": 14,
   "id": "73e5de03-1c9d-4271-a746-b3bbbd0c47d9",
   "metadata": {},
   "outputs": [],
   "source": [
    "D = read_matrix('../publication_4/script/out/D.csv')"
   ]
  },
  {
   "cell_type": "code",
   "execution_count": 15,
   "id": "fe95c1fe-3edb-4db8-840b-072a6ce40fcc",
   "metadata": {},
   "outputs": [],
   "source": [
    "Q = read_matrix('../publication_4/script/out/Q.csv')"
   ]
  },
  {
   "cell_type": "code",
   "execution_count": 16,
   "id": "51feb70b-33ff-49a2-a714-a5dbeca595a9",
   "metadata": {},
   "outputs": [],
   "source": [
    "R = read_matrix('../publication_4/script/out/R.csv')"
   ]
  },
  {
   "cell_type": "code",
   "execution_count": 17,
   "id": "fde82691-2270-4065-a364-713d8e32b610",
   "metadata": {},
   "outputs": [],
   "source": [
    "constants_file = open('../publication_4/script/out/constants.json', 'r', encoding='utf-8')\n",
    "constants_data = constants_file.read()\n",
    "constants_file.close()\n",
    "constants = json.loads(constants_data)"
   ]
  },
  {
   "cell_type": "code",
   "execution_count": 18,
   "id": "48159830-44c9-4cc7-bbd2-7c1dd19ec1df",
   "metadata": {},
   "outputs": [],
   "source": [
    "n = constants['n']\n",
    "m = constants['m']\n",
    "l = constants['l']"
   ]
  },
  {
   "cell_type": "code",
   "execution_count": 19,
   "id": "2613adb6-4bb8-4714-a2f6-ef005a84310c",
   "metadata": {},
   "outputs": [],
   "source": [
    "# solver_name = 'cbc'"
   ]
  },
  {
   "cell_type": "code",
   "execution_count": 20,
   "id": "4c5fef6f-0fd9-4003-badd-79f6c09ff709",
   "metadata": {},
   "outputs": [
    {
     "data": {
      "application/vnd.jupyter.widget-view+json": {
       "model_id": "1823a998473d4761b13f605844e2d157",
       "version_major": 2,
       "version_minor": 0
      },
      "text/plain": [
       "IntProgress(value=0, bar_style='success', description='deps', max=124)"
      ]
     },
     "metadata": {},
     "output_type": "display_data"
    }
   ],
   "source": [
    "calculate_deps_progress = IntProgress(min=0, max=m, value=0, description='deps', bar_style='success')\n",
    "display(calculate_deps_progress)\n",
    "deps_calculator = DependenciesCalculator(D, m, calculate_deps_progress)\n",
    "sum_D = deps_calculator.calculate()"
   ]
  },
  {
   "cell_type": "code",
   "execution_count": 21,
   "id": "4a2b17b0-db81-41df-b74b-6a66fc5f9119",
   "metadata": {},
   "outputs": [],
   "source": [
    "class CalculateResult():\n",
    "    def __init__(self, cost, duration):\n",
    "        self.cost = cost\n",
    "        self.duration = duration"
   ]
  },
  {
   "cell_type": "code",
   "execution_count": 22,
   "id": "01088794-1ebb-4766-8fe2-bbc556562c34",
   "metadata": {},
   "outputs": [],
   "source": [
    "def genetic_calculate(k, R):\n",
    "    config = GeneticConfig()\n",
    "    config.num_generations = 1000\n",
    "    multidiscrete_converter = MultiDiscreteConverter(m, k)\n",
    "    cost_calculator_factory = CostCalculatorFactory(Q, sum_D, C, R)\n",
    "    multidiscrete_fitness_calculator = FitnessCalculator(M, cost_calculator_factory, multidiscrete_converter)\n",
    "    multidiscrete_space_config = GeneticMultiDiscreteSpaceConfig(m, k)\n",
    "    multidiscrete_config = GeneticConfig()\n",
    "    multibinary_progress = IntProgress(min=0, max=config.num_generations, value=0, description=str(k), bar_style='success')\n",
    "    multidiscrete_genetic_solver = GeneticSolver(config, multidiscrete_space_config, multidiscrete_fitness_calculator, multibinary_progress)\n",
    "    # display(multibinary_progress)\n",
    "    best_solution, best_fitness, best_idx, duration = multidiscrete_genetic_solver.solve()\n",
    "    A = multidiscrete_converter.convert(best_solution)\n",
    "    cost_calculator = cost_calculator_factory.get_cost_calculator(A)\n",
    "    cost = cost_calculator.calculate()\n",
    "    calculate_result = CalculateResult(cost, duration)\n",
    "    return calculate_result"
   ]
  },
  {
   "cell_type": "code",
   "execution_count": 23,
   "id": "cb8c2bed-d5a1-4bb2-b7e6-c9597ba6a7ae",
   "metadata": {},
   "outputs": [],
   "source": [
    "def rl_calculate(k, R):\n",
    "    total_timesteps = 1000\n",
    "    cost_calculator_factory = CostCalculatorFactory(Q, sum_D, C, R)\n",
    "    multidiscrete_config = RlMultiDiscreteConfig(m, k, dtype)\n",
    "    multidiscrete_converter = MultiDiscreteConverter(m, k)\n",
    "    multidiscrete_fitness_calculator = FitnessCalculator(M, cost_calculator_factory, multidiscrete_converter)\n",
    "    multidiscrete_progress = IntProgress(min=0, max=total_timesteps, value=0, description=str(k), bar_style='success')\n",
    "    display(multidiscrete_progress)\n",
    "    multidiscrete_graphic = RlGraphic('multidiscrete')\n",
    "    multidiscrete_optimisation_task_env = RlEnv(M, multidiscrete_config, multidiscrete_fitness_calculator, multidiscrete_progress, multidiscrete_graphic)\n",
    "    check_env(multidiscrete_optimisation_task_env)\n",
    "    multidiscrete_model = A2C(\"MlpPolicy\", multidiscrete_optimisation_task_env)\n",
    "    rl_multidiscrete_solver = RlSolver(multidiscrete_model, total_timesteps)\n",
    "    best_fitness, best_solution, duration = rl_multidiscrete_solver.solve()\n",
    "    X = multidiscrete_converter.convert(best_solution)\n",
    "    cost_calculator = cost_calculator_factory.get_cost_calculator(X)\n",
    "    cost = cost_calculator.calculate()\n",
    "    calculate_result = CalculateResult(cost, duration)\n",
    "    return calculate_result"
   ]
  },
  {
   "cell_type": "code",
   "execution_count": 24,
   "id": "e0dd93e0-4c68-4614-971a-85d709acf8d9",
   "metadata": {},
   "outputs": [],
   "source": [
    "def solver_calculate(k, R, solver_name):\n",
    "    model_builder = ModelBuilder(M, k, Q, sum_D, C, R)\n",
    "    model = model_builder.build()\n",
    "    # solver_name = 'glpk'\n",
    "    solve_action = SolveAction(model, solver_name)\n",
    "    solve_result = solve_action.solve()\n",
    "    instance = solve_result.instance\n",
    "    duration = solve_result.duration\n",
    "    pyomo_values_converter = PyomoValuesConverter()\n",
    "    X = pyomo_values_converter.convert(instance.A)\n",
    "    cost_calculator_factory = CostCalculatorFactory(Q, sum_D, C, R)\n",
    "    cost_calculator = cost_calculator_factory.get_cost_calculator(X)\n",
    "    cost = cost_calculator.calculate()\n",
    "    calculate_result = CalculateResult(cost, duration)\n",
    "    return calculate_result"
   ]
  },
  {
   "cell_type": "code",
   "execution_count": 25,
   "id": "80f73f2d-9324-493d-8d98-ef2f34039856",
   "metadata": {},
   "outputs": [],
   "source": [
    "def make_comparation():\n",
    "    _R = np.array([R[0]])\n",
    "\n",
    "    genetic_cost = []\n",
    "    genetic_duration = []\n",
    "\n",
    "    rl_cost = []\n",
    "    rl_duration = []\n",
    "    \n",
    "    glpk_solver_cost = []\n",
    "    glpk_solver_duration = []\n",
    "    \n",
    "    cbc_solver_cost = []\n",
    "    cbc_solver_duration = []\n",
    "\n",
    "    count = 10\n",
    "    progress = IntProgress(min=0, max=count, value=0, description='progress', bar_style='success')\n",
    "    display(progress)\n",
    "    \n",
    "    for k in range(1, count + 1):\n",
    "        genetic_calculate_result = genetic_calculate(k, _R)\n",
    "        # rl_calculate_result = rl_calculate(k, _R)\n",
    "        # glpk_solver_calculate_result = solver_calculate(k, _R, 'glpk')\n",
    "        # cbc_solver_calculate_result = solver_calculate(k, _R, 'cbc')\n",
    "\n",
    "        genetic_cost.append(genetic_calculate_result.cost)\n",
    "        genetic_duration.append(genetic_calculate_result.duration)\n",
    "\n",
    "        # rl_cost.append(rl_calculate_result.cost)\n",
    "        # rl_duration.append(rl_calculate_result.duration)\n",
    "        \n",
    "        # glpk_solver_cost.append(glpk_solver_calculate_result.cost)\n",
    "        # glpk_solver_duration.append(glpk_solver_calculate_result.duration)\n",
    "        \n",
    "        # cbc_solver_cost.append(cbc_solver_calculate_result.cost)\n",
    "        # cbc_solver_duration.append(cbc_solver_calculate_result.duration)\n",
    "        \n",
    "        progress.value += 1\n",
    "\n",
    "    # data = {\n",
    "    #     'genetic_cost': genetic_cost,\n",
    "    #     'genetic_duration': genetic_duration,\n",
    "    #     'solver_cost': solver_cost,\n",
    "    #     'solver_duration': solver_duration\n",
    "    # }\n",
    "\n",
    "    # data = {\n",
    "    #     'glpk_cost': glpk_solver_cost,\n",
    "    #     'glpk_duration': glpk_solver_duration,\n",
    "    #     'cbc_cost': cbc_solver_cost,\n",
    "    #     'cbc_duration': cbc_solver_duration\n",
    "    # }\n",
    "\n",
    "    data = {\n",
    "        'genetic_cost': genetic_cost,\n",
    "        'genetic_duration': genetic_duration,\n",
    "        # 'rl_cost': rl_cost,\n",
    "        # 'rl_duration': rl_duration\n",
    "    }\n",
    "    \n",
    "    df = pd.DataFrame(data)\n",
    "    return df"
   ]
  },
  {
   "cell_type": "code",
   "execution_count": 114,
   "id": "e3177cbb-6136-4623-b817-1fbf20a1c7d0",
   "metadata": {},
   "outputs": [
    {
     "data": {
      "application/vnd.jupyter.widget-view+json": {
       "model_id": "5dd4ac7313a143ee86d65591488bb4ea",
       "version_major": 2,
       "version_minor": 0
      },
      "text/plain": [
       "IntProgress(value=0, bar_style='success', description='progress', max=10)"
      ]
     },
     "metadata": {},
     "output_type": "display_data"
    }
   ],
   "source": [
    "comparation_df = make_comparation()"
   ]
  },
  {
   "cell_type": "code",
   "execution_count": 115,
   "id": "13e773bd-227b-4ee9-8f99-6c2d42e3ff0a",
   "metadata": {},
   "outputs": [
    {
     "data": {
      "text/html": [
       "<div>\n",
       "<style scoped>\n",
       "    .dataframe tbody tr th:only-of-type {\n",
       "        vertical-align: middle;\n",
       "    }\n",
       "\n",
       "    .dataframe tbody tr th {\n",
       "        vertical-align: top;\n",
       "    }\n",
       "\n",
       "    .dataframe thead th {\n",
       "        text-align: right;\n",
       "    }\n",
       "</style>\n",
       "<table border=\"1\" class=\"dataframe\">\n",
       "  <thead>\n",
       "    <tr style=\"text-align: right;\">\n",
       "      <th></th>\n",
       "      <th>genetic_cost</th>\n",
       "      <th>genetic_duration</th>\n",
       "    </tr>\n",
       "  </thead>\n",
       "  <tbody>\n",
       "    <tr>\n",
       "      <th>0</th>\n",
       "      <td>150.0</td>\n",
       "      <td>1.313475</td>\n",
       "    </tr>\n",
       "    <tr>\n",
       "      <th>1</th>\n",
       "      <td>150.0</td>\n",
       "      <td>2.005591</td>\n",
       "    </tr>\n",
       "    <tr>\n",
       "      <th>2</th>\n",
       "      <td>150.0</td>\n",
       "      <td>1.865640</td>\n",
       "    </tr>\n",
       "    <tr>\n",
       "      <th>3</th>\n",
       "      <td>150.0</td>\n",
       "      <td>1.959104</td>\n",
       "    </tr>\n",
       "    <tr>\n",
       "      <th>4</th>\n",
       "      <td>150.0</td>\n",
       "      <td>2.032774</td>\n",
       "    </tr>\n",
       "    <tr>\n",
       "      <th>5</th>\n",
       "      <td>150.0</td>\n",
       "      <td>2.004860</td>\n",
       "    </tr>\n",
       "    <tr>\n",
       "      <th>6</th>\n",
       "      <td>150.0</td>\n",
       "      <td>1.804141</td>\n",
       "    </tr>\n",
       "    <tr>\n",
       "      <th>7</th>\n",
       "      <td>150.0</td>\n",
       "      <td>1.758462</td>\n",
       "    </tr>\n",
       "    <tr>\n",
       "      <th>8</th>\n",
       "      <td>136.0</td>\n",
       "      <td>2.124440</td>\n",
       "    </tr>\n",
       "    <tr>\n",
       "      <th>9</th>\n",
       "      <td>150.0</td>\n",
       "      <td>1.987481</td>\n",
       "    </tr>\n",
       "  </tbody>\n",
       "</table>\n",
       "</div>"
      ],
      "text/plain": [
       "   genetic_cost  genetic_duration\n",
       "0         150.0          1.313475\n",
       "1         150.0          2.005591\n",
       "2         150.0          1.865640\n",
       "3         150.0          1.959104\n",
       "4         150.0          2.032774\n",
       "5         150.0          2.004860\n",
       "6         150.0          1.804141\n",
       "7         150.0          1.758462\n",
       "8         136.0          2.124440\n",
       "9         150.0          1.987481"
      ]
     },
     "execution_count": 115,
     "metadata": {},
     "output_type": "execute_result"
    }
   ],
   "source": [
    "comparation_df"
   ]
  },
  {
   "cell_type": "code",
   "execution_count": 75,
   "id": "c2b326b6-2978-424b-b9e6-49a1b5eaab49",
   "metadata": {},
   "outputs": [],
   "source": [
    "comparation_df.to_csv('out_4/comparation.csv')"
   ]
  },
  {
   "cell_type": "code",
   "execution_count": 26,
   "id": "a8642a97-6b37-4a53-a603-aa9dacdb2340",
   "metadata": {},
   "outputs": [],
   "source": [
    "def save_k_costs(k, costs):\n",
    "    file = open('out_4/k_costs.json', 'r', encoding='utf-8')\n",
    "    data = file.read()\n",
    "    file.close()\n",
    "    d = json.loads(data)\n",
    "    d[str(k)] = costs\n",
    "    data = json.dumps(d, indent=4)\n",
    "    file = open('out_4/k_costs.json', 'w', encoding='utf-8')\n",
    "    file.write(data)\n",
    "    file.close()"
   ]
  },
  {
   "cell_type": "code",
   "execution_count": 27,
   "id": "006bde08-e99c-4a8b-8b23-d453d482a4d7",
   "metadata": {},
   "outputs": [],
   "source": [
    "def make_genetic(k):\n",
    "    iterations = 100\n",
    "    progress = IntProgress(min=0, max=iterations, value=0, description=str(k), bar_style='success')\n",
    "    display(progress)\n",
    "    costs = []\n",
    "    for _ in range(iterations):\n",
    "        genetic_calculate_result = genetic_calculate(k, R)\n",
    "        cost = genetic_calculate_result.cost\n",
    "        costs.append(cost)\n",
    "        progress.value += 1\n",
    "    save_k_costs(k, costs)"
   ]
  },
  {
   "cell_type": "code",
   "execution_count": 46,
   "id": "fdcc0ea7-c9c5-46cc-af84-e84e4195c36f",
   "metadata": {},
   "outputs": [],
   "source": [
    "def make_rl(k):\n",
    "    rl_calculate_result = rl_calculate(k, R)\n",
    "    cost = rl_calculate_result.cost\n",
    "    return cost"
   ]
  },
  {
   "cell_type": "code",
   "execution_count": null,
   "id": "ca0ad778-e4b9-4b51-a550-fc306a66448a",
   "metadata": {},
   "outputs": [],
   "source": []
  },
  {
   "cell_type": "code",
   "execution_count": 28,
   "id": "18fc82b5-9d2c-428e-8fb3-351235b3d0df",
   "metadata": {},
   "outputs": [],
   "source": [
    "for k in range(1, 51):\n",
    "    pass\n",
    "    # make(k)"
   ]
  },
  {
   "cell_type": "code",
   "execution_count": 48,
   "id": "83868912-e083-4f54-ab5f-a087b938ccf9",
   "metadata": {},
   "outputs": [],
   "source": [
    "rl_costs = []"
   ]
  },
  {
   "cell_type": "code",
   "execution_count": 84,
   "id": "84e18e33-fabf-4458-9cd1-96f88974c384",
   "metadata": {},
   "outputs": [],
   "source": [
    "rl_df = pd.read_csv('out_4/rl_df.csv', encoding='utf-8')"
   ]
  },
  {
   "cell_type": "code",
   "execution_count": 85,
   "id": "2cc951dc-4095-40a0-8a2a-ce7b087cccbf",
   "metadata": {},
   "outputs": [],
   "source": [
    "if False:\n",
    "    current_step = 1\n",
    "    steps_count = 50\n",
    "    rl_progress = IntProgress(min=0, max=steps_count, value=0, description='rl', bar_style='success')\n",
    "    display(rl_progress)\n",
    "    for k in range(current_step, current_step + steps_count):\n",
    "        cost = make_rl(k)\n",
    "        rl_costs.append(cost)\n",
    "        rl_progress.value += 1\n",
    "    rl_dict = {'rl': rl_costs}\n",
    "    rl_df = pd.DataFrame(rl_dict)\n",
    "    length = len(rl_df)\n",
    "    rl_df.index = range(1, length + 1)\n",
    "    rl_df.to_csv('out_4/rl_df.csv', encoding='utf-8')"
   ]
  },
  {
   "cell_type": "code",
   "execution_count": null,
   "id": "47645603-738d-4603-92f3-46a2e3a6af35",
   "metadata": {},
   "outputs": [],
   "source": []
  },
  {
   "cell_type": "code",
   "execution_count": null,
   "id": "070c66a3-3e05-4d59-a8eb-d545f05ec146",
   "metadata": {},
   "outputs": [],
   "source": []
  },
  {
   "cell_type": "code",
   "execution_count": 86,
   "id": "df8a956b-a05f-4ce0-844b-e6ec9131fbf4",
   "metadata": {},
   "outputs": [],
   "source": [
    "k_cost_file = open('out_4/k_costs.json', 'r', encoding='utf-8')\n",
    "k_cost_data = k_cost_file.read()\n",
    "k_cost_file.close()"
   ]
  },
  {
   "cell_type": "code",
   "execution_count": 87,
   "id": "270f9c81-fbe9-4a7f-ab30-83e44093b01d",
   "metadata": {},
   "outputs": [],
   "source": [
    "k_cost = json.loads(k_cost_data)"
   ]
  },
  {
   "cell_type": "code",
   "execution_count": 88,
   "id": "edc96b6c-7afc-42da-9936-00ea81145d34",
   "metadata": {},
   "outputs": [],
   "source": [
    "k_cost_df = pd.DataFrame(k_cost)"
   ]
  },
  {
   "cell_type": "code",
   "execution_count": 89,
   "id": "37d7690b-da51-4820-8929-7fb2c860f40a",
   "metadata": {},
   "outputs": [
    {
     "data": {
      "text/html": [
       "<div>\n",
       "<style scoped>\n",
       "    .dataframe tbody tr th:only-of-type {\n",
       "        vertical-align: middle;\n",
       "    }\n",
       "\n",
       "    .dataframe tbody tr th {\n",
       "        vertical-align: top;\n",
       "    }\n",
       "\n",
       "    .dataframe thead th {\n",
       "        text-align: right;\n",
       "    }\n",
       "</style>\n",
       "<table border=\"1\" class=\"dataframe\">\n",
       "  <thead>\n",
       "    <tr style=\"text-align: right;\">\n",
       "      <th></th>\n",
       "      <th>1</th>\n",
       "      <th>2</th>\n",
       "      <th>3</th>\n",
       "      <th>4</th>\n",
       "      <th>5</th>\n",
       "      <th>6</th>\n",
       "      <th>7</th>\n",
       "      <th>8</th>\n",
       "      <th>9</th>\n",
       "      <th>10</th>\n",
       "      <th>...</th>\n",
       "      <th>41</th>\n",
       "      <th>42</th>\n",
       "      <th>43</th>\n",
       "      <th>44</th>\n",
       "      <th>45</th>\n",
       "      <th>46</th>\n",
       "      <th>47</th>\n",
       "      <th>48</th>\n",
       "      <th>49</th>\n",
       "      <th>50</th>\n",
       "    </tr>\n",
       "  </thead>\n",
       "  <tbody>\n",
       "    <tr>\n",
       "      <th>count</th>\n",
       "      <td>100.0</td>\n",
       "      <td>100.00</td>\n",
       "      <td>100.000000</td>\n",
       "      <td>100.000000</td>\n",
       "      <td>100.000000</td>\n",
       "      <td>100.000000</td>\n",
       "      <td>100.000000</td>\n",
       "      <td>100.000000</td>\n",
       "      <td>100.000000</td>\n",
       "      <td>100.000000</td>\n",
       "      <td>...</td>\n",
       "      <td>100.000000</td>\n",
       "      <td>100.0000</td>\n",
       "      <td>100.000000</td>\n",
       "      <td>100.000000</td>\n",
       "      <td>100.00000</td>\n",
       "      <td>100.000000</td>\n",
       "      <td>100.000000</td>\n",
       "      <td>100.000000</td>\n",
       "      <td>100.000000</td>\n",
       "      <td>100.000000</td>\n",
       "    </tr>\n",
       "    <tr>\n",
       "      <th>mean</th>\n",
       "      <td>1500.0</td>\n",
       "      <td>1498.85</td>\n",
       "      <td>1476.880000</td>\n",
       "      <td>1421.260000</td>\n",
       "      <td>1363.030000</td>\n",
       "      <td>1303.110000</td>\n",
       "      <td>1252.040000</td>\n",
       "      <td>1201.750000</td>\n",
       "      <td>1150.340000</td>\n",
       "      <td>1128.280000</td>\n",
       "      <td>...</td>\n",
       "      <td>634.850000</td>\n",
       "      <td>627.1900</td>\n",
       "      <td>615.350000</td>\n",
       "      <td>614.460000</td>\n",
       "      <td>613.29000</td>\n",
       "      <td>608.080000</td>\n",
       "      <td>601.930000</td>\n",
       "      <td>604.360000</td>\n",
       "      <td>596.200000</td>\n",
       "      <td>592.720000</td>\n",
       "    </tr>\n",
       "    <tr>\n",
       "      <th>std</th>\n",
       "      <td>0.0</td>\n",
       "      <td>11.50</td>\n",
       "      <td>43.352975</td>\n",
       "      <td>50.704655</td>\n",
       "      <td>56.675838</td>\n",
       "      <td>62.914708</td>\n",
       "      <td>63.582432</td>\n",
       "      <td>53.199904</td>\n",
       "      <td>57.948291</td>\n",
       "      <td>54.295875</td>\n",
       "      <td>...</td>\n",
       "      <td>26.631179</td>\n",
       "      <td>27.1467</td>\n",
       "      <td>28.087301</td>\n",
       "      <td>30.640773</td>\n",
       "      <td>31.51376</td>\n",
       "      <td>29.324613</td>\n",
       "      <td>27.700511</td>\n",
       "      <td>25.052075</td>\n",
       "      <td>26.736273</td>\n",
       "      <td>24.002138</td>\n",
       "    </tr>\n",
       "    <tr>\n",
       "      <th>min</th>\n",
       "      <td>1500.0</td>\n",
       "      <td>1385.00</td>\n",
       "      <td>1370.000000</td>\n",
       "      <td>1288.000000</td>\n",
       "      <td>1224.000000</td>\n",
       "      <td>1150.000000</td>\n",
       "      <td>1053.000000</td>\n",
       "      <td>1088.000000</td>\n",
       "      <td>1014.000000</td>\n",
       "      <td>960.000000</td>\n",
       "      <td>...</td>\n",
       "      <td>568.000000</td>\n",
       "      <td>557.0000</td>\n",
       "      <td>554.000000</td>\n",
       "      <td>547.000000</td>\n",
       "      <td>546.00000</td>\n",
       "      <td>540.000000</td>\n",
       "      <td>551.000000</td>\n",
       "      <td>532.000000</td>\n",
       "      <td>542.000000</td>\n",
       "      <td>544.000000</td>\n",
       "    </tr>\n",
       "    <tr>\n",
       "      <th>25%</th>\n",
       "      <td>1500.0</td>\n",
       "      <td>1500.00</td>\n",
       "      <td>1500.000000</td>\n",
       "      <td>1392.750000</td>\n",
       "      <td>1319.500000</td>\n",
       "      <td>1260.250000</td>\n",
       "      <td>1215.750000</td>\n",
       "      <td>1164.750000</td>\n",
       "      <td>1112.750000</td>\n",
       "      <td>1091.000000</td>\n",
       "      <td>...</td>\n",
       "      <td>616.000000</td>\n",
       "      <td>609.0000</td>\n",
       "      <td>596.500000</td>\n",
       "      <td>592.750000</td>\n",
       "      <td>587.75000</td>\n",
       "      <td>584.750000</td>\n",
       "      <td>580.000000</td>\n",
       "      <td>586.000000</td>\n",
       "      <td>579.000000</td>\n",
       "      <td>575.000000</td>\n",
       "    </tr>\n",
       "    <tr>\n",
       "      <th>50%</th>\n",
       "      <td>1500.0</td>\n",
       "      <td>1500.00</td>\n",
       "      <td>1500.000000</td>\n",
       "      <td>1413.000000</td>\n",
       "      <td>1379.000000</td>\n",
       "      <td>1304.000000</td>\n",
       "      <td>1256.000000</td>\n",
       "      <td>1208.000000</td>\n",
       "      <td>1152.000000</td>\n",
       "      <td>1141.500000</td>\n",
       "      <td>...</td>\n",
       "      <td>635.000000</td>\n",
       "      <td>622.0000</td>\n",
       "      <td>612.000000</td>\n",
       "      <td>610.000000</td>\n",
       "      <td>615.00000</td>\n",
       "      <td>608.000000</td>\n",
       "      <td>599.500000</td>\n",
       "      <td>603.500000</td>\n",
       "      <td>594.000000</td>\n",
       "      <td>592.000000</td>\n",
       "    </tr>\n",
       "    <tr>\n",
       "      <th>75%</th>\n",
       "      <td>1500.0</td>\n",
       "      <td>1500.00</td>\n",
       "      <td>1500.000000</td>\n",
       "      <td>1448.500000</td>\n",
       "      <td>1405.250000</td>\n",
       "      <td>1346.000000</td>\n",
       "      <td>1300.750000</td>\n",
       "      <td>1234.000000</td>\n",
       "      <td>1192.750000</td>\n",
       "      <td>1168.250000</td>\n",
       "      <td>...</td>\n",
       "      <td>653.500000</td>\n",
       "      <td>646.5000</td>\n",
       "      <td>632.000000</td>\n",
       "      <td>631.000000</td>\n",
       "      <td>631.50000</td>\n",
       "      <td>625.250000</td>\n",
       "      <td>623.250000</td>\n",
       "      <td>624.250000</td>\n",
       "      <td>613.250000</td>\n",
       "      <td>608.000000</td>\n",
       "    </tr>\n",
       "    <tr>\n",
       "      <th>max</th>\n",
       "      <td>1500.0</td>\n",
       "      <td>1500.00</td>\n",
       "      <td>1500.000000</td>\n",
       "      <td>1500.000000</td>\n",
       "      <td>1500.000000</td>\n",
       "      <td>1427.000000</td>\n",
       "      <td>1359.000000</td>\n",
       "      <td>1340.000000</td>\n",
       "      <td>1257.000000</td>\n",
       "      <td>1229.000000</td>\n",
       "      <td>...</td>\n",
       "      <td>708.000000</td>\n",
       "      <td>721.0000</td>\n",
       "      <td>701.000000</td>\n",
       "      <td>703.000000</td>\n",
       "      <td>678.00000</td>\n",
       "      <td>688.000000</td>\n",
       "      <td>664.000000</td>\n",
       "      <td>653.000000</td>\n",
       "      <td>664.000000</td>\n",
       "      <td>658.000000</td>\n",
       "    </tr>\n",
       "  </tbody>\n",
       "</table>\n",
       "<p>8 rows × 50 columns</p>\n",
       "</div>"
      ],
      "text/plain": [
       "            1        2            3            4            5            6  \\\n",
       "count   100.0   100.00   100.000000   100.000000   100.000000   100.000000   \n",
       "mean   1500.0  1498.85  1476.880000  1421.260000  1363.030000  1303.110000   \n",
       "std       0.0    11.50    43.352975    50.704655    56.675838    62.914708   \n",
       "min    1500.0  1385.00  1370.000000  1288.000000  1224.000000  1150.000000   \n",
       "25%    1500.0  1500.00  1500.000000  1392.750000  1319.500000  1260.250000   \n",
       "50%    1500.0  1500.00  1500.000000  1413.000000  1379.000000  1304.000000   \n",
       "75%    1500.0  1500.00  1500.000000  1448.500000  1405.250000  1346.000000   \n",
       "max    1500.0  1500.00  1500.000000  1500.000000  1500.000000  1427.000000   \n",
       "\n",
       "                 7            8            9           10  ...          41  \\\n",
       "count   100.000000   100.000000   100.000000   100.000000  ...  100.000000   \n",
       "mean   1252.040000  1201.750000  1150.340000  1128.280000  ...  634.850000   \n",
       "std      63.582432    53.199904    57.948291    54.295875  ...   26.631179   \n",
       "min    1053.000000  1088.000000  1014.000000   960.000000  ...  568.000000   \n",
       "25%    1215.750000  1164.750000  1112.750000  1091.000000  ...  616.000000   \n",
       "50%    1256.000000  1208.000000  1152.000000  1141.500000  ...  635.000000   \n",
       "75%    1300.750000  1234.000000  1192.750000  1168.250000  ...  653.500000   \n",
       "max    1359.000000  1340.000000  1257.000000  1229.000000  ...  708.000000   \n",
       "\n",
       "             42          43          44         45          46          47  \\\n",
       "count  100.0000  100.000000  100.000000  100.00000  100.000000  100.000000   \n",
       "mean   627.1900  615.350000  614.460000  613.29000  608.080000  601.930000   \n",
       "std     27.1467   28.087301   30.640773   31.51376   29.324613   27.700511   \n",
       "min    557.0000  554.000000  547.000000  546.00000  540.000000  551.000000   \n",
       "25%    609.0000  596.500000  592.750000  587.75000  584.750000  580.000000   \n",
       "50%    622.0000  612.000000  610.000000  615.00000  608.000000  599.500000   \n",
       "75%    646.5000  632.000000  631.000000  631.50000  625.250000  623.250000   \n",
       "max    721.0000  701.000000  703.000000  678.00000  688.000000  664.000000   \n",
       "\n",
       "               48          49          50  \n",
       "count  100.000000  100.000000  100.000000  \n",
       "mean   604.360000  596.200000  592.720000  \n",
       "std     25.052075   26.736273   24.002138  \n",
       "min    532.000000  542.000000  544.000000  \n",
       "25%    586.000000  579.000000  575.000000  \n",
       "50%    603.500000  594.000000  592.000000  \n",
       "75%    624.250000  613.250000  608.000000  \n",
       "max    653.000000  664.000000  658.000000  \n",
       "\n",
       "[8 rows x 50 columns]"
      ]
     },
     "execution_count": 89,
     "metadata": {},
     "output_type": "execute_result"
    }
   ],
   "source": [
    "k_cost_df.describe()"
   ]
  },
  {
   "cell_type": "code",
   "execution_count": 90,
   "id": "53338bca-6d6d-460c-bc08-dd1b66e8ec79",
   "metadata": {},
   "outputs": [],
   "source": [
    "k_cost_df.to_csv('out_4/dataframe.csv')"
   ]
  },
  {
   "cell_type": "code",
   "execution_count": 91,
   "id": "4bfe6785-6a5e-4cce-a69e-b128eb303b66",
   "metadata": {},
   "outputs": [],
   "source": [
    "genetic_max_values = [k_cost_df[stb].max() for stb in k_cost_df.columns]\n",
    "genetc_min_values = [k_cost_df[stb].min() for stb in k_cost_df.columns]\n",
    "genetic_mean_values = [k_cost_df[stb].mean() for stb in k_cost_df.columns]\n",
    "rl_values = list(rl_df['rl'])"
   ]
  },
  {
   "cell_type": "code",
   "execution_count": 92,
   "id": "7b673bed-2061-4553-b654-31177797f155",
   "metadata": {},
   "outputs": [],
   "source": [
    "values_dict = {\n",
    "    'genetic: max': genetic_max_values,\n",
    "    'genetic: min': genetc_min_values,\n",
    "    'genetic: mean': genetic_mean_values,\n",
    "    'RL': rl_values\n",
    "}"
   ]
  },
  {
   "cell_type": "code",
   "execution_count": 93,
   "id": "3a10059b-be49-458c-8b61-8b84c69250e1",
   "metadata": {},
   "outputs": [],
   "source": [
    "values_df = pd.DataFrame(values_dict)"
   ]
  },
  {
   "cell_type": "code",
   "execution_count": 94,
   "id": "184fda29-e22b-4a6d-98b6-fd7d5a2787cd",
   "metadata": {},
   "outputs": [],
   "source": [
    "values_df.index = range(1, 51)"
   ]
  },
  {
   "cell_type": "code",
   "execution_count": 95,
   "id": "61d7966a-94c9-426e-92e5-80a62ef588b6",
   "metadata": {},
   "outputs": [
    {
     "data": {
      "text/plain": [
       "Text(0, 0.5, 'Суммарная стоимость')"
      ]
     },
     "execution_count": 95,
     "metadata": {},
     "output_type": "execute_result"
    },
    {
     "data": {
      "image/png": "[encoded data removed]",
      "text/plain": [
       "<Figure size 640x480 with 1 Axes>"
      ]
     },
     "metadata": {},
     "output_type": "display_data"
    }
   ],
   "source": [
    "sns.lineplot(data=values_df)\n",
    "plt.xlabel('k')\n",
    "plt.ylabel('Суммарная стоимость')"
   ]
  },
  {
   "cell_type": "code",
   "execution_count": null,
   "id": "1d5d1616-320f-4738-b0eb-ec240c431dd1",
   "metadata": {},
   "outputs": [],
   "source": []
  }
 ],
 "metadata": {
  "kernelspec": {
   "display_name": "Python 3 (ipykernel)",
   "language": "python",
   "name": "python3"
  },
  "language_info": {
   "codemirror_mode": {
    "name": "ipython",
    "version": 3
   },
   "file_extension": ".py",
   "mimetype": "text/x-python",
   "name": "python",
   "nbconvert_exporter": "python",
   "pygments_lexer": "ipython3",
   "version": "3.12.1"
  }
 },
 "nbformat": 4,
 "nbformat_minor": 5
}
