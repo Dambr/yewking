{
 "cells": [
  {
   "cell_type": "code",
   "execution_count": 1,
   "id": "3684a6a0-1353-4b0c-8544-010a508ab258",
   "metadata": {},
   "outputs": [],
   "source": [
    "import numpy as np\n",
    "import pandas as pd\n",
    "import matplotlib.pyplot as plt\n",
    "import json"
   ]
  },
  {
   "cell_type": "code",
   "execution_count": 2,
   "id": "41d6082c-1ad1-4939-a7ea-e1fc811cfa97",
   "metadata": {},
   "outputs": [],
   "source": [
    "from ipywidgets import IntProgress\n",
    "from IPython.display import display"
   ]
  },
  {
   "cell_type": "code",
   "execution_count": 3,
   "id": "9bdd06e9-7620-4916-96a8-ea572b5cbd93",
   "metadata": {},
   "outputs": [],
   "source": [
    "from dependencies_calculator import DependenciesCalculator\n",
    "from cost_calculator_factory import CostCalculatorFactory\n",
    "from multibinary_converter import MultiBinaryConverter\n",
    "from multidiscrete_converter import MultiDiscreteConverter\n",
    "from fitness_calculator import FitnessCalculator"
   ]
  },
  {
   "cell_type": "code",
   "execution_count": 4,
   "id": "e7ecfea4-a041-4b42-a61b-aef8e0f19fcd",
   "metadata": {},
   "outputs": [],
   "source": [
    "from genetic_multibinary_space_config import GeneticMultiBinarySpaceConfig\n",
    "from genetic_multidiscrete_space_config import GeneticMultiDiscreteSpaceConfig\n",
    "from genetic_config import GeneticConfig\n",
    "from genetic_solver import GeneticSolver"
   ]
  },
  {
   "cell_type": "code",
   "execution_count": 5,
   "id": "56548ac4-b039-4101-9aa7-6ff004e08a38",
   "metadata": {},
   "outputs": [],
   "source": [
    "import warnings\n",
    "warnings.filterwarnings(\"ignore\")"
   ]
  },
  {
   "cell_type": "code",
   "execution_count": 6,
   "id": "cd442b60-aac2-4867-b9da-735e88878f56",
   "metadata": {},
   "outputs": [],
   "source": [
    "M = 10 ** 6"
   ]
  },
  {
   "cell_type": "code",
   "execution_count": 7,
   "id": "c131572f-ac38-48d1-8f47-04d39e06fdde",
   "metadata": {},
   "outputs": [],
   "source": [
    "read_matrix = lambda path: pd.read_csv(path, index_col=0, encoding='utf-8').to_numpy()"
   ]
  },
  {
   "cell_type": "code",
   "execution_count": 8,
   "id": "cbdf13d4-188f-4b1b-932f-0a2e8f4bba05",
   "metadata": {},
   "outputs": [],
   "source": [
    "C = read_matrix('../publication_4/script/out/C.csv')"
   ]
  },
  {
   "cell_type": "code",
   "execution_count": 9,
   "id": "73e5de03-1c9d-4271-a746-b3bbbd0c47d9",
   "metadata": {},
   "outputs": [],
   "source": [
    "D = read_matrix('../publication_4/script/out/D.csv')"
   ]
  },
  {
   "cell_type": "code",
   "execution_count": 10,
   "id": "fe95c1fe-3edb-4db8-840b-072a6ce40fcc",
   "metadata": {},
   "outputs": [],
   "source": [
    "Q = read_matrix('../publication_4/script/out/Q.csv')"
   ]
  },
  {
   "cell_type": "code",
   "execution_count": 11,
   "id": "51feb70b-33ff-49a2-a714-a5dbeca595a9",
   "metadata": {},
   "outputs": [],
   "source": [
    "R = read_matrix('../publication_4/script/out/R.csv')"
   ]
  },
  {
   "cell_type": "code",
   "execution_count": 12,
   "id": "fde82691-2270-4065-a364-713d8e32b610",
   "metadata": {},
   "outputs": [],
   "source": [
    "constants_file = open('../publication_4/script/out/constants.json', 'r', encoding='utf-8')\n",
    "constants_data = constants_file.read()\n",
    "constants_file.close()\n",
    "constants = json.loads(constants_data)"
   ]
  },
  {
   "cell_type": "code",
   "execution_count": 13,
   "id": "48159830-44c9-4cc7-bbd2-7c1dd19ec1df",
   "metadata": {},
   "outputs": [],
   "source": [
    "n = constants['n']\n",
    "m = constants['m']\n",
    "l = constants['l']"
   ]
  },
  {
   "cell_type": "code",
   "execution_count": 14,
   "id": "2613adb6-4bb8-4714-a2f6-ef005a84310c",
   "metadata": {},
   "outputs": [],
   "source": [
    "# solver_name = 'cbc'"
   ]
  },
  {
   "cell_type": "code",
   "execution_count": 15,
   "id": "4c5fef6f-0fd9-4003-badd-79f6c09ff709",
   "metadata": {},
   "outputs": [
    {
     "data": {
      "application/vnd.jupyter.widget-view+json": {
       "model_id": "fae75bbbef9346d7985f1ce394cd2385",
       "version_major": 2,
       "version_minor": 0
      },
      "text/plain": [
       "IntProgress(value=0, bar_style='success', description='deps', max=124)"
      ]
     },
     "metadata": {},
     "output_type": "display_data"
    }
   ],
   "source": [
    "calculate_deps_progress = IntProgress(min=0, max=m, value=0, description='deps', bar_style='success')\n",
    "display(calculate_deps_progress)\n",
    "deps_calculator = DependenciesCalculator(D, m, calculate_deps_progress)\n",
    "sum_D = deps_calculator.calculate()"
   ]
  },
  {
   "cell_type": "code",
   "execution_count": 16,
   "id": "01088794-1ebb-4766-8fe2-bbc556562c34",
   "metadata": {},
   "outputs": [],
   "source": [
    "def calculate(k):\n",
    "    config = GeneticConfig()\n",
    "    multidiscrete_converter = MultiDiscreteConverter(m, k)\n",
    "    cost_calculator_factory = CostCalculatorFactory(Q, sum_D, C, R)\n",
    "    multidiscrete_fitness_calculator = FitnessCalculator(M, cost_calculator_factory, multidiscrete_converter)\n",
    "    multidiscrete_space_config = GeneticMultiDiscreteSpaceConfig(m, k)\n",
    "    multidiscrete_config = GeneticConfig()\n",
    "    multibinary_progress = IntProgress(min=0, max=config.num_generations, value=0, description=str(k), bar_style='success')\n",
    "    multidiscrete_genetic_solver = GeneticSolver(config, multidiscrete_space_config, multidiscrete_fitness_calculator, multibinary_progress)\n",
    "    # display(multibinary_progress)\n",
    "    best_solution, best_fitness, best_idx, duration = multidiscrete_genetic_solver.solve()\n",
    "    A = multidiscrete_converter.convert(best_solution)\n",
    "    cost_calculator = cost_calculator_factory.get_cost_calculator(A)\n",
    "    cost = cost_calculator.calculate()\n",
    "    return cost"
   ]
  },
  {
   "cell_type": "code",
   "execution_count": 17,
   "id": "a8642a97-6b37-4a53-a603-aa9dacdb2340",
   "metadata": {},
   "outputs": [],
   "source": [
    "def save_k_costs(k, costs):\n",
    "    file = open('out_4/k_costs.json', 'r', encoding='utf-8')\n",
    "    data = file.read()\n",
    "    file.close()\n",
    "    d = json.loads(data)\n",
    "    d[str(k)] = costs\n",
    "    data = json.dumps(d, indent=4)\n",
    "    file = open('out_4/k_costs.json', 'w', encoding='utf-8')\n",
    "    file.write(data)\n",
    "    file.close()"
   ]
  },
  {
   "cell_type": "code",
   "execution_count": 18,
   "id": "006bde08-e99c-4a8b-8b23-d453d482a4d7",
   "metadata": {},
   "outputs": [],
   "source": [
    "def make(k):\n",
    "    iterations = 100\n",
    "    progress = IntProgress(min=0, max=iterations, value=0, description=str(k), bar_style='success')\n",
    "    display(progress)\n",
    "    costs = []\n",
    "    for _ in range(iterations):\n",
    "        cost = calculate(k)\n",
    "        costs.append(cost)\n",
    "        progress.value += 1\n",
    "    save_k_costs(k, costs)"
   ]
  },
  {
   "cell_type": "code",
   "execution_count": 24,
   "id": "18fc82b5-9d2c-428e-8fb3-351235b3d0df",
   "metadata": {},
   "outputs": [
    {
     "data": {
      "application/vnd.jupyter.widget-view+json": {
       "model_id": "ad0c40fa324a4cf583ba90be6bf18622",
       "version_major": 2,
       "version_minor": 0
      },
      "text/plain": [
       "IntProgress(value=0, bar_style='success', description='46')"
      ]
     },
     "metadata": {},
     "output_type": "display_data"
    },
    {
     "data": {
      "application/vnd.jupyter.widget-view+json": {
       "model_id": "b8d1e551d9c54557a738e8aa7f6dc492",
       "version_major": 2,
       "version_minor": 0
      },
      "text/plain": [
       "IntProgress(value=0, bar_style='success', description='47')"
      ]
     },
     "metadata": {},
     "output_type": "display_data"
    },
    {
     "data": {
      "application/vnd.jupyter.widget-view+json": {
       "model_id": "c65d83d125ef4230ac0fbff86da59236",
       "version_major": 2,
       "version_minor": 0
      },
      "text/plain": [
       "IntProgress(value=0, bar_style='success', description='48')"
      ]
     },
     "metadata": {},
     "output_type": "display_data"
    },
    {
     "data": {
      "application/vnd.jupyter.widget-view+json": {
       "model_id": "4b5fcd8fd28d4960b6e28a49ed9c3cc0",
       "version_major": 2,
       "version_minor": 0
      },
      "text/plain": [
       "IntProgress(value=0, bar_style='success', description='49')"
      ]
     },
     "metadata": {},
     "output_type": "display_data"
    },
    {
     "data": {
      "application/vnd.jupyter.widget-view+json": {
       "model_id": "ff5d94c096464decad78df12c50b84bf",
       "version_major": 2,
       "version_minor": 0
      },
      "text/plain": [
       "IntProgress(value=0, bar_style='success', description='50')"
      ]
     },
     "metadata": {},
     "output_type": "display_data"
    }
   ],
   "source": [
    "for k in range(1, 51):\n",
    "    make(k)"
   ]
  },
  {
   "cell_type": "code",
   "execution_count": 27,
   "id": "df8a956b-a05f-4ce0-844b-e6ec9131fbf4",
   "metadata": {},
   "outputs": [],
   "source": [
    "k_cost_file = open('out_4/k_costs.json', 'r', encoding='utf-8')\n",
    "k_cost_data = k_cost_file.read()\n",
    "k_cost_file.close()"
   ]
  },
  {
   "cell_type": "code",
   "execution_count": 28,
   "id": "270f9c81-fbe9-4a7f-ab30-83e44093b01d",
   "metadata": {},
   "outputs": [],
   "source": [
    "k_cost = json.loads(k_cost_data)"
   ]
  },
  {
   "cell_type": "code",
   "execution_count": 30,
   "id": "edc96b6c-7afc-42da-9936-00ea81145d34",
   "metadata": {},
   "outputs": [],
   "source": [
    "k_cost_df = pd.DataFrame(k_cost)"
   ]
  },
  {
   "cell_type": "code",
   "execution_count": 31,
   "id": "37d7690b-da51-4820-8929-7fb2c860f40a",
   "metadata": {},
   "outputs": [
    {
     "data": {
      "text/html": [
       "<div>\n",
       "<style scoped>\n",
       "    .dataframe tbody tr th:only-of-type {\n",
       "        vertical-align: middle;\n",
       "    }\n",
       "\n",
       "    .dataframe tbody tr th {\n",
       "        vertical-align: top;\n",
       "    }\n",
       "\n",
       "    .dataframe thead th {\n",
       "        text-align: right;\n",
       "    }\n",
       "</style>\n",
       "<table border=\"1\" class=\"dataframe\">\n",
       "  <thead>\n",
       "    <tr style=\"text-align: right;\">\n",
       "      <th></th>\n",
       "      <th>1</th>\n",
       "      <th>2</th>\n",
       "      <th>3</th>\n",
       "      <th>4</th>\n",
       "      <th>5</th>\n",
       "      <th>6</th>\n",
       "      <th>7</th>\n",
       "      <th>8</th>\n",
       "      <th>9</th>\n",
       "      <th>10</th>\n",
       "      <th>...</th>\n",
       "      <th>41</th>\n",
       "      <th>42</th>\n",
       "      <th>43</th>\n",
       "      <th>44</th>\n",
       "      <th>45</th>\n",
       "      <th>46</th>\n",
       "      <th>47</th>\n",
       "      <th>48</th>\n",
       "      <th>49</th>\n",
       "      <th>50</th>\n",
       "    </tr>\n",
       "  </thead>\n",
       "  <tbody>\n",
       "    <tr>\n",
       "      <th>count</th>\n",
       "      <td>100.0</td>\n",
       "      <td>100.00</td>\n",
       "      <td>100.000000</td>\n",
       "      <td>100.000000</td>\n",
       "      <td>100.000000</td>\n",
       "      <td>100.000000</td>\n",
       "      <td>100.000000</td>\n",
       "      <td>100.000000</td>\n",
       "      <td>100.000000</td>\n",
       "      <td>100.000000</td>\n",
       "      <td>...</td>\n",
       "      <td>100.000000</td>\n",
       "      <td>100.0000</td>\n",
       "      <td>100.000000</td>\n",
       "      <td>100.000000</td>\n",
       "      <td>100.00000</td>\n",
       "      <td>100.000000</td>\n",
       "      <td>100.000000</td>\n",
       "      <td>100.000000</td>\n",
       "      <td>100.000000</td>\n",
       "      <td>100.000000</td>\n",
       "    </tr>\n",
       "    <tr>\n",
       "      <th>mean</th>\n",
       "      <td>1500.0</td>\n",
       "      <td>1498.85</td>\n",
       "      <td>1476.880000</td>\n",
       "      <td>1421.260000</td>\n",
       "      <td>1363.030000</td>\n",
       "      <td>1303.110000</td>\n",
       "      <td>1252.040000</td>\n",
       "      <td>1201.750000</td>\n",
       "      <td>1150.340000</td>\n",
       "      <td>1128.280000</td>\n",
       "      <td>...</td>\n",
       "      <td>634.850000</td>\n",
       "      <td>627.1900</td>\n",
       "      <td>615.350000</td>\n",
       "      <td>614.460000</td>\n",
       "      <td>613.29000</td>\n",
       "      <td>608.080000</td>\n",
       "      <td>601.930000</td>\n",
       "      <td>604.360000</td>\n",
       "      <td>596.200000</td>\n",
       "      <td>592.720000</td>\n",
       "    </tr>\n",
       "    <tr>\n",
       "      <th>std</th>\n",
       "      <td>0.0</td>\n",
       "      <td>11.50</td>\n",
       "      <td>43.352975</td>\n",
       "      <td>50.704655</td>\n",
       "      <td>56.675838</td>\n",
       "      <td>62.914708</td>\n",
       "      <td>63.582432</td>\n",
       "      <td>53.199904</td>\n",
       "      <td>57.948291</td>\n",
       "      <td>54.295875</td>\n",
       "      <td>...</td>\n",
       "      <td>26.631179</td>\n",
       "      <td>27.1467</td>\n",
       "      <td>28.087301</td>\n",
       "      <td>30.640773</td>\n",
       "      <td>31.51376</td>\n",
       "      <td>29.324613</td>\n",
       "      <td>27.700511</td>\n",
       "      <td>25.052075</td>\n",
       "      <td>26.736273</td>\n",
       "      <td>24.002138</td>\n",
       "    </tr>\n",
       "    <tr>\n",
       "      <th>min</th>\n",
       "      <td>1500.0</td>\n",
       "      <td>1385.00</td>\n",
       "      <td>1370.000000</td>\n",
       "      <td>1288.000000</td>\n",
       "      <td>1224.000000</td>\n",
       "      <td>1150.000000</td>\n",
       "      <td>1053.000000</td>\n",
       "      <td>1088.000000</td>\n",
       "      <td>1014.000000</td>\n",
       "      <td>960.000000</td>\n",
       "      <td>...</td>\n",
       "      <td>568.000000</td>\n",
       "      <td>557.0000</td>\n",
       "      <td>554.000000</td>\n",
       "      <td>547.000000</td>\n",
       "      <td>546.00000</td>\n",
       "      <td>540.000000</td>\n",
       "      <td>551.000000</td>\n",
       "      <td>532.000000</td>\n",
       "      <td>542.000000</td>\n",
       "      <td>544.000000</td>\n",
       "    </tr>\n",
       "    <tr>\n",
       "      <th>25%</th>\n",
       "      <td>1500.0</td>\n",
       "      <td>1500.00</td>\n",
       "      <td>1500.000000</td>\n",
       "      <td>1392.750000</td>\n",
       "      <td>1319.500000</td>\n",
       "      <td>1260.250000</td>\n",
       "      <td>1215.750000</td>\n",
       "      <td>1164.750000</td>\n",
       "      <td>1112.750000</td>\n",
       "      <td>1091.000000</td>\n",
       "      <td>...</td>\n",
       "      <td>616.000000</td>\n",
       "      <td>609.0000</td>\n",
       "      <td>596.500000</td>\n",
       "      <td>592.750000</td>\n",
       "      <td>587.75000</td>\n",
       "      <td>584.750000</td>\n",
       "      <td>580.000000</td>\n",
       "      <td>586.000000</td>\n",
       "      <td>579.000000</td>\n",
       "      <td>575.000000</td>\n",
       "    </tr>\n",
       "    <tr>\n",
       "      <th>50%</th>\n",
       "      <td>1500.0</td>\n",
       "      <td>1500.00</td>\n",
       "      <td>1500.000000</td>\n",
       "      <td>1413.000000</td>\n",
       "      <td>1379.000000</td>\n",
       "      <td>1304.000000</td>\n",
       "      <td>1256.000000</td>\n",
       "      <td>1208.000000</td>\n",
       "      <td>1152.000000</td>\n",
       "      <td>1141.500000</td>\n",
       "      <td>...</td>\n",
       "      <td>635.000000</td>\n",
       "      <td>622.0000</td>\n",
       "      <td>612.000000</td>\n",
       "      <td>610.000000</td>\n",
       "      <td>615.00000</td>\n",
       "      <td>608.000000</td>\n",
       "      <td>599.500000</td>\n",
       "      <td>603.500000</td>\n",
       "      <td>594.000000</td>\n",
       "      <td>592.000000</td>\n",
       "    </tr>\n",
       "    <tr>\n",
       "      <th>75%</th>\n",
       "      <td>1500.0</td>\n",
       "      <td>1500.00</td>\n",
       "      <td>1500.000000</td>\n",
       "      <td>1448.500000</td>\n",
       "      <td>1405.250000</td>\n",
       "      <td>1346.000000</td>\n",
       "      <td>1300.750000</td>\n",
       "      <td>1234.000000</td>\n",
       "      <td>1192.750000</td>\n",
       "      <td>1168.250000</td>\n",
       "      <td>...</td>\n",
       "      <td>653.500000</td>\n",
       "      <td>646.5000</td>\n",
       "      <td>632.000000</td>\n",
       "      <td>631.000000</td>\n",
       "      <td>631.50000</td>\n",
       "      <td>625.250000</td>\n",
       "      <td>623.250000</td>\n",
       "      <td>624.250000</td>\n",
       "      <td>613.250000</td>\n",
       "      <td>608.000000</td>\n",
       "    </tr>\n",
       "    <tr>\n",
       "      <th>max</th>\n",
       "      <td>1500.0</td>\n",
       "      <td>1500.00</td>\n",
       "      <td>1500.000000</td>\n",
       "      <td>1500.000000</td>\n",
       "      <td>1500.000000</td>\n",
       "      <td>1427.000000</td>\n",
       "      <td>1359.000000</td>\n",
       "      <td>1340.000000</td>\n",
       "      <td>1257.000000</td>\n",
       "      <td>1229.000000</td>\n",
       "      <td>...</td>\n",
       "      <td>708.000000</td>\n",
       "      <td>721.0000</td>\n",
       "      <td>701.000000</td>\n",
       "      <td>703.000000</td>\n",
       "      <td>678.00000</td>\n",
       "      <td>688.000000</td>\n",
       "      <td>664.000000</td>\n",
       "      <td>653.000000</td>\n",
       "      <td>664.000000</td>\n",
       "      <td>658.000000</td>\n",
       "    </tr>\n",
       "  </tbody>\n",
       "</table>\n",
       "<p>8 rows × 50 columns</p>\n",
       "</div>"
      ],
      "text/plain": [
       "            1        2            3            4            5            6  \\\n",
       "count   100.0   100.00   100.000000   100.000000   100.000000   100.000000   \n",
       "mean   1500.0  1498.85  1476.880000  1421.260000  1363.030000  1303.110000   \n",
       "std       0.0    11.50    43.352975    50.704655    56.675838    62.914708   \n",
       "min    1500.0  1385.00  1370.000000  1288.000000  1224.000000  1150.000000   \n",
       "25%    1500.0  1500.00  1500.000000  1392.750000  1319.500000  1260.250000   \n",
       "50%    1500.0  1500.00  1500.000000  1413.000000  1379.000000  1304.000000   \n",
       "75%    1500.0  1500.00  1500.000000  1448.500000  1405.250000  1346.000000   \n",
       "max    1500.0  1500.00  1500.000000  1500.000000  1500.000000  1427.000000   \n",
       "\n",
       "                 7            8            9           10  ...          41  \\\n",
       "count   100.000000   100.000000   100.000000   100.000000  ...  100.000000   \n",
       "mean   1252.040000  1201.750000  1150.340000  1128.280000  ...  634.850000   \n",
       "std      63.582432    53.199904    57.948291    54.295875  ...   26.631179   \n",
       "min    1053.000000  1088.000000  1014.000000   960.000000  ...  568.000000   \n",
       "25%    1215.750000  1164.750000  1112.750000  1091.000000  ...  616.000000   \n",
       "50%    1256.000000  1208.000000  1152.000000  1141.500000  ...  635.000000   \n",
       "75%    1300.750000  1234.000000  1192.750000  1168.250000  ...  653.500000   \n",
       "max    1359.000000  1340.000000  1257.000000  1229.000000  ...  708.000000   \n",
       "\n",
       "             42          43          44         45          46          47  \\\n",
       "count  100.0000  100.000000  100.000000  100.00000  100.000000  100.000000   \n",
       "mean   627.1900  615.350000  614.460000  613.29000  608.080000  601.930000   \n",
       "std     27.1467   28.087301   30.640773   31.51376   29.324613   27.700511   \n",
       "min    557.0000  554.000000  547.000000  546.00000  540.000000  551.000000   \n",
       "25%    609.0000  596.500000  592.750000  587.75000  584.750000  580.000000   \n",
       "50%    622.0000  612.000000  610.000000  615.00000  608.000000  599.500000   \n",
       "75%    646.5000  632.000000  631.000000  631.50000  625.250000  623.250000   \n",
       "max    721.0000  701.000000  703.000000  678.00000  688.000000  664.000000   \n",
       "\n",
       "               48          49          50  \n",
       "count  100.000000  100.000000  100.000000  \n",
       "mean   604.360000  596.200000  592.720000  \n",
       "std     25.052075   26.736273   24.002138  \n",
       "min    532.000000  542.000000  544.000000  \n",
       "25%    586.000000  579.000000  575.000000  \n",
       "50%    603.500000  594.000000  592.000000  \n",
       "75%    624.250000  613.250000  608.000000  \n",
       "max    653.000000  664.000000  658.000000  \n",
       "\n",
       "[8 rows x 50 columns]"
      ]
     },
     "execution_count": 31,
     "metadata": {},
     "output_type": "execute_result"
    }
   ],
   "source": [
    "k_cost_df.describe()"
   ]
  },
  {
   "cell_type": "code",
   "execution_count": 32,
   "id": "53338bca-6d6d-460c-bc08-dd1b66e8ec79",
   "metadata": {},
   "outputs": [],
   "source": [
    "k_cost_df.to_csv('out_4/dataframe.csv')"
   ]
  },
  {
   "cell_type": "code",
   "execution_count": null,
   "id": "4bfe6785-6a5e-4cce-a69e-b128eb303b66",
   "metadata": {},
   "outputs": [],
   "source": []
  }
 ],
 "metadata": {
  "kernelspec": {
   "display_name": "Python 3 (ipykernel)",
   "language": "python",
   "name": "python3"
  },
  "language_info": {
   "codemirror_mode": {
    "name": "ipython",
    "version": 3
   },
   "file_extension": ".py",
   "mimetype": "text/x-python",
   "name": "python",
   "nbconvert_exporter": "python",
   "pygments_lexer": "ipython3",
   "version": "3.12.1"
  }
 },
 "nbformat": 4,
 "nbformat_minor": 5
}
