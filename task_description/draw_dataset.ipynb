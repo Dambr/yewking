{
 "cells": [
  {
   "cell_type": "code",
   "execution_count": 1,
   "id": "497fa3f6-7c55-4264-8bd4-aa584db8312c",
   "metadata": {},
   "outputs": [],
   "source": [
    "import seaborn as sns\n",
    "import matplotlib.pyplot as plt\n",
    "import pandas as pd\n",
    "import numpy as np"
   ]
  },
  {
   "cell_type": "code",
   "execution_count": 2,
   "id": "e147af49-f04b-4ded-8396-5e903039fccf",
   "metadata": {},
   "outputs": [],
   "source": [
    "import warnings\n",
    "warnings.filterwarnings(\"ignore\")"
   ]
  },
  {
   "cell_type": "code",
   "execution_count": 3,
   "id": "2267368d-40f3-4959-ae43-28127f04edcc",
   "metadata": {},
   "outputs": [],
   "source": [
    "import json"
   ]
  },
  {
   "cell_type": "code",
   "execution_count": 4,
   "id": "0c782463-f68a-44bf-8a32-07953e2fe801",
   "metadata": {},
   "outputs": [],
   "source": [
    "from var_table import VarTable"
   ]
  },
  {
   "cell_type": "code",
   "execution_count": 5,
   "id": "7d1df07f-3d45-4570-b7d2-eeee7273e993",
   "metadata": {},
   "outputs": [],
   "source": [
    "var_table = VarTable()"
   ]
  },
  {
   "cell_type": "code",
   "execution_count": 6,
   "id": "4efc1b94-65cc-4b4a-bfc0-f8d366b8bd30",
   "metadata": {},
   "outputs": [],
   "source": [
    "group_name = 'G2'\n",
    "experiments_count = 5\n",
    "fitnesses_dataset = {}\n",
    "durations_dataset = {}"
   ]
  },
  {
   "cell_type": "code",
   "execution_count": 7,
   "id": "f51fec03-ac58-4ef4-95d3-016c39340ecb",
   "metadata": {},
   "outputs": [],
   "source": [
    "def find_data_by_name(dataset, name):\n",
    "    for data in dataset:\n",
    "        data_name = data['name']\n",
    "        if data_name == name:\n",
    "            return data"
   ]
  },
  {
   "cell_type": "code",
   "execution_count": 8,
   "id": "1bd1fae0-7656-4d26-8b50-577ee1426c44",
   "metadata": {},
   "outputs": [],
   "source": [
    "def find_solution_by_config(solutions, config):\n",
    "    for solution in solutions:\n",
    "        solution_config = solution['config']\n",
    "        if solution_config == config:\n",
    "            return solution"
   ]
  },
  {
   "cell_type": "code",
   "execution_count": 9,
   "id": "910ff335-5f09-4ae4-afd1-af7d9a3a61ed",
   "metadata": {},
   "outputs": [],
   "source": [
    "def get_results(solver_name, config):\n",
    "    fitnesses = []\n",
    "    durations = []\n",
    "    for experiment_number in range(1, experiments_count + 1):\n",
    "        nested_directory = var_table.get_nested_directory(group_name, experiment_number)\n",
    "        file_path = '{}/solutions.json'.format(nested_directory)\n",
    "        file = open(file_path, 'r')\n",
    "        content = file.read()\n",
    "        dataset = json.loads(content)\n",
    "        file.close()\n",
    "        data = find_data_by_name(dataset, solver_name)\n",
    "        solutions = data['solutions']\n",
    "        solution = find_solution_by_config(solutions, config)\n",
    "        result = solution['result']\n",
    "        fitness = result['fitness']\n",
    "        duration = result['duration']\n",
    "        fitnesses.append(fitness)\n",
    "        durations.append(duration)\n",
    "    return fitnesses, durations"
   ]
  },
  {
   "cell_type": "code",
   "execution_count": 10,
   "id": "0dca9e57-4ed0-4acf-aa88-3df2f58ec424",
   "metadata": {},
   "outputs": [],
   "source": [
    "# configs"
   ]
  },
  {
   "cell_type": "code",
   "execution_count": 11,
   "id": "1b62f7fe-1e64-4966-8434-bdc48f904720",
   "metadata": {},
   "outputs": [],
   "source": [
    "solver_config = {\n",
    "    'k': 3\n",
    "}"
   ]
  },
  {
   "cell_type": "code",
   "execution_count": 12,
   "id": "7483915e-715a-4472-91ba-83181c4cb989",
   "metadata": {},
   "outputs": [],
   "source": [
    "genetic_config = {\n",
    "    'k': 3,\n",
    "    'num_generations': 100,\n",
    "    'sol_per_pop': 4,\n",
    "    'num_parents_mating': 2,\n",
    "    'parent_selection_type': 'sss',\n",
    "    'keep_parents': 1,\n",
    "    'crossover_type': 'scattered',\n",
    "    'mutation_type': 'scramble',\n",
    "    'mutation_percent_genes': 10\n",
    "}"
   ]
  },
  {
   "cell_type": "code",
   "execution_count": 13,
   "id": "12b87977-0025-4e03-a550-5790d2797e4d",
   "metadata": {},
   "outputs": [],
   "source": [
    "rl_config = {\n",
    "    'k': 2,\n",
    "    'total_timesteps': 100\n",
    "}"
   ]
  },
  {
   "cell_type": "code",
   "execution_count": null,
   "id": "fdd962ca-9b00-47da-ac84-8e5a5c1de3c6",
   "metadata": {},
   "outputs": [],
   "source": []
  },
  {
   "cell_type": "code",
   "execution_count": 14,
   "id": "691999cc-f685-4eab-8b3d-b0f5d428ed8f",
   "metadata": {},
   "outputs": [],
   "source": [
    "# glpk\n",
    "glpk_solver_name = 'glpk'\n",
    "glpk_fitnesses, glpk_durations = get_results(glpk_solver_name, solver_config)\n",
    "\n",
    "fitnesses_dataset[glpk_solver_name] = glpk_fitnesses\n",
    "durations_dataset[glpk_solver_name] = glpk_durations"
   ]
  },
  {
   "cell_type": "code",
   "execution_count": 15,
   "id": "be4ca0e7-3892-4624-b5c4-323d48d54420",
   "metadata": {},
   "outputs": [],
   "source": [
    "# xpress\n",
    "xpress_solver_name = 'xpress'\n",
    "# xpress_fitnesses, xpress_durations = get_results(xpress_solver_name, solver_config)\n",
    "\n",
    "# fitnesses_dataset[xpress_solver_name] = xpress_fitnesses\n",
    "# durations_dataset[xpress_solver_name] = xpress_durations"
   ]
  },
  {
   "cell_type": "code",
   "execution_count": 16,
   "id": "23ba6506-5f28-4b4c-bb73-9cc527b0a67c",
   "metadata": {},
   "outputs": [],
   "source": [
    "# cbc\n",
    "cbc_solver_name = 'cbc'\n",
    "cbc_fitnesses, cbc_durations = get_results(cbc_solver_name, solver_config)\n",
    "\n",
    "fitnesses_dataset[cbc_solver_name] = cbc_fitnesses\n",
    "durations_dataset[cbc_solver_name] = cbc_durations"
   ]
  },
  {
   "cell_type": "code",
   "execution_count": 17,
   "id": "2a88e3e0-c636-4b32-a5ea-06f091d0c01d",
   "metadata": {},
   "outputs": [],
   "source": [
    "# mpec_minlp\n",
    "# mpec_minlp_solver_name = 'mpec_minlp'\n",
    "# mpec_minlp_fitnesses, mpec_minlp_durations = get_results(mpec_minlp_solver_name, solver_config)\n",
    "\n",
    "# fitnesses_dataset[mpec_minlp_solver_name] = mpec_minlp_fitnesses\n",
    "# durations_dataset[mpec_minlp_solver_name] = mpec_minlp_durations"
   ]
  },
  {
   "cell_type": "code",
   "execution_count": 18,
   "id": "08eddccc-b440-42c7-9652-63196136d8f2",
   "metadata": {},
   "outputs": [],
   "source": [
    "# ilogcp\n",
    "# ilogcp_solver_name = 'ilogcp'\n",
    "# ilogcp_fitnesses, ilogcp_durations = get_results(ilogcp_solver_name, solver_config)\n",
    "\n",
    "# fitnesses_dataset[ilogcp_solver_name] = ilogcp_fitnesses\n",
    "# durations_dataset[ilogcp_solver_name] = ilogcp_durations"
   ]
  },
  {
   "cell_type": "code",
   "execution_count": 19,
   "id": "7a8f3bcd-3e33-4b9e-a0ae-f631881bcf19",
   "metadata": {},
   "outputs": [],
   "source": [
    "# binary_genetic\n",
    "binary_genetic_solver_name = 'binary_genetic'\n",
    "binary_genetic_fitnesses, binary_genetic_durations = get_results(binary_genetic_solver_name, genetic_config)\n",
    "\n",
    "fitnesses_dataset[binary_genetic_solver_name] = binary_genetic_fitnesses\n",
    "durations_dataset[binary_genetic_solver_name] = binary_genetic_durations"
   ]
  },
  {
   "cell_type": "code",
   "execution_count": 20,
   "id": "36eb88f7-0359-458d-b6f5-af2256be8359",
   "metadata": {},
   "outputs": [],
   "source": [
    "# discrete_genetic\n",
    "discrete_genetic_solver_name = 'discrete_genetic'\n",
    "discrete_genetic_fitnesses, discrete_genetic_durations = get_results(discrete_genetic_solver_name, genetic_config)\n",
    "\n",
    "fitnesses_dataset[discrete_genetic_solver_name] = discrete_genetic_fitnesses\n",
    "durations_dataset[discrete_genetic_solver_name] = discrete_genetic_durations"
   ]
  },
  {
   "cell_type": "code",
   "execution_count": 21,
   "id": "1bdfa88b-79e3-48b8-a5af-6a20024889b1",
   "metadata": {},
   "outputs": [],
   "source": [
    "# binary_rl_A2C\n",
    "# binary_rl_A2C_solver_name = 'binary_rl_A2C'\n",
    "# binary_rl_A2C_fitnesses, binary_rl_A2C_durations = get_results(binary_rl_A2C_solver_name, rl_config)\n",
    "\n",
    "# fitnesses_dataset[binary_rl_A2C_solver_name] = binary_rl_A2C_fitnesses\n",
    "# durations_dataset[binary_rl_A2C_solver_name] = binary_rl_A2C_durations"
   ]
  },
  {
   "cell_type": "code",
   "execution_count": 22,
   "id": "a091a156-6497-4f93-8213-78461963b762",
   "metadata": {},
   "outputs": [],
   "source": [
    "# binary_rl_PPO\n",
    "# binary_rl_PPO_solver_name = 'binary_rl_PPO'\n",
    "# binary_rl_PPO_fitnesses, binary_rl_PPO_durations = get_results(binary_rl_PPO_solver_name, rl_config)\n",
    "\n",
    "# fitnesses_dataset[binary_rl_PPO_solver_name] = binary_rl_PPO_fitnesses\n",
    "# durations_dataset[binary_rl_PPO_solver_name] = binary_rl_PPO_durations"
   ]
  },
  {
   "cell_type": "code",
   "execution_count": 23,
   "id": "3909d964-8e9f-4e1d-8eb0-b278c2a36f0b",
   "metadata": {},
   "outputs": [],
   "source": [
    "# discrete_rl_A2C\n",
    "# discrete_rl_A2C_solver_name = 'discrete_rl_A2C'\n",
    "# discrete_rl_A2C_fitnesses, discrete_rl_A2C_durations = get_results(discrete_rl_A2C_solver_name, rl_config)\n",
    "\n",
    "# fitnesses_dataset[discrete_rl_A2C_solver_name] = discrete_rl_A2C_fitnesses\n",
    "# durations_dataset[discrete_rl_A2C_solver_name] = discrete_rl_A2C_durations"
   ]
  },
  {
   "cell_type": "code",
   "execution_count": 24,
   "id": "3b4a309d-1a21-412c-92a2-e4a2b8c57919",
   "metadata": {},
   "outputs": [],
   "source": [
    "# discrete_rl_PPO\n",
    "# discrete_rl_PPO_solver_name = 'discrete_rl_PPO'\n",
    "# discrete_rl_PPO_fitnesses, discrete_rl_PPO_durations = get_results(discrete_rl_PPO_solver_name, rl_config)\n",
    "\n",
    "# fitnesses_dataset[discrete_rl_PPO_solver_name] = discrete_rl_PPO_fitnesses\n",
    "# durations_dataset[discrete_rl_PPO_solver_name] = discrete_rl_PPO_durations"
   ]
  },
  {
   "cell_type": "code",
   "execution_count": null,
   "id": "4970a350-374e-4ff5-80c7-eda7bbd907f9",
   "metadata": {},
   "outputs": [],
   "source": []
  },
  {
   "cell_type": "code",
   "execution_count": 25,
   "id": "20c97d17-c8fb-432d-80a5-00f0b3a2547a",
   "metadata": {},
   "outputs": [],
   "source": [
    "def draw_fitnesses_plot(df):\n",
    "\n",
    "    experiment_number = list(df.index)\n",
    "    for i in range(len(experiment_number)):\n",
    "        experiment_number[i] = experiment_number[i] + 1\n",
    "    df = df.assign(experiment_number = experiment_number)\n",
    "    \n",
    "    g = sns.PairGrid(df, x_vars=df.columns[:-1], y_vars=[\"experiment_number\"])\n",
    "    g.map(sns.stripplot, size=10, orient=\"h\", jitter=False, palette=\"flare_r\", linewidth=1, edgecolor=\"w\")\n",
    "    g.set(xlabel=\"\", ylabel=\"\")\n",
    "    \n",
    "    titles = list(df.columns)\n",
    "    \n",
    "    for ax, title in zip(g.axes.flat, titles):\n",
    "        ax.set(title=title)\n",
    "        ax.xaxis.grid(False)\n",
    "        ax.yaxis.grid(True)\n",
    "    \n",
    "    sns.despine(left=True, bottom=True)"
   ]
  },
  {
   "cell_type": "code",
   "execution_count": 26,
   "id": "ffbe8f0e-6ffd-4b00-afbf-c873c71a4857",
   "metadata": {},
   "outputs": [],
   "source": [
    "def draw_durations_polt(df):\n",
    "    plt.title('durations')\n",
    "    plt.xlabel('experiment')\n",
    "    plt.ylabel('duration, sec')\n",
    "    sns.lineplot(data=df)"
   ]
  },
  {
   "cell_type": "code",
   "execution_count": 27,
   "id": "a0ad59d8-c011-4fff-a7ce-cbc82c59bb84",
   "metadata": {},
   "outputs": [
    {
     "data": {
      "image/png": "[encoded data removed]",
      "text/plain": [
       "<Figure size 1000x250 with 4 Axes>"
      ]
     },
     "metadata": {},
     "output_type": "display_data"
    }
   ],
   "source": [
    "# Отрисовка графиков fitness значений\n",
    "fitnesses_df = pd.DataFrame(fitnesses_dataset)\n",
    "\n",
    "# По 5 столбцов на одном графике\n",
    "# fitnesses_dfs = np.split(fitnesses_df, [5], axis=1)\n",
    "\n",
    "# for fitness_df in fitnesses_dfs:\n",
    "draw_fitnesses_plot(fitnesses_df)"
   ]
  },
  {
   "cell_type": "code",
   "execution_count": 28,
   "id": "e97294f2-fa53-4960-83a2-599a5908f1a0",
   "metadata": {},
   "outputs": [
    {
     "data": {
      "image/png": "[encoded data removed]",
      "text/plain": [
       "<Figure size 640x480 with 1 Axes>"
      ]
     },
     "metadata": {},
     "output_type": "display_data"
    }
   ],
   "source": [
    "# Отрисовка графика длительностей экспериментов\n",
    "durations_df = pd.DataFrame(durations_dataset)\n",
    "draw_durations_polt(durations_df)"
   ]
  },
  {
   "cell_type": "code",
   "execution_count": null,
   "id": "e83d0288-3679-4e77-a7c8-a2dc3838845a",
   "metadata": {},
   "outputs": [],
   "source": []
  },
  {
   "cell_type": "code",
   "execution_count": null,
   "id": "36fa04c0-1d89-4ff7-9ca6-0e1d10cab10e",
   "metadata": {},
   "outputs": [],
   "source": []
  },
  {
   "cell_type": "code",
   "execution_count": null,
   "id": "d8be6cea-949e-436d-b544-e201e259e4e7",
   "metadata": {},
   "outputs": [],
   "source": []
  },
  {
   "cell_type": "code",
   "execution_count": null,
   "id": "70272611-2e55-4866-9d8b-975b53bd1e63",
   "metadata": {},
   "outputs": [],
   "source": []
  },
  {
   "cell_type": "code",
   "execution_count": null,
   "id": "781a07bf-0d9d-43b6-bce9-0f5c7f050ce1",
   "metadata": {},
   "outputs": [],
   "source": []
  }
 ],
 "metadata": {
  "kernelspec": {
   "display_name": "Python 3 (ipykernel)",
   "language": "python",
   "name": "python3"
  },
  "language_info": {
   "codemirror_mode": {
    "name": "ipython",
    "version": 3
   },
   "file_extension": ".py",
   "mimetype": "text/x-python",
   "name": "python",
   "nbconvert_exporter": "python",
   "pygments_lexer": "ipython3",
   "version": "3.12.1"
  }
 },
 "nbformat": 4,
 "nbformat_minor": 5
}
